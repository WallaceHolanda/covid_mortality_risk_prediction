{
 "cells": [
  {
   "cell_type": "code",
   "execution_count": 2,
   "metadata": {
    "executionInfo": {
     "elapsed": 1799,
     "status": "ok",
     "timestamp": 1606845696531,
     "user": {
      "displayName": "WALLACE DUARTE DE HOLANDA",
      "photoUrl": "https://lh3.googleusercontent.com/a-/AOh14GgeWMOt53non50jDB5bIAwurrZleD5e6T7yfR9w=s64",
      "userId": "03474631865123362594"
     },
     "user_tz": 180
    },
    "id": "TW5Oyd2oXbrk"
   },
   "outputs": [],
   "source": [
    "import pandas as pd"
   ]
  },
  {
   "cell_type": "code",
   "execution_count": 3,
   "metadata": {
    "executionInfo": {
     "elapsed": 3434,
     "status": "ok",
     "timestamp": 1606845719272,
     "user": {
      "displayName": "WALLACE DUARTE DE HOLANDA",
      "photoUrl": "https://lh3.googleusercontent.com/a-/AOh14GgeWMOt53non50jDB5bIAwurrZleD5e6T7yfR9w=s64",
      "userId": "03474631865123362594"
     },
     "user_tz": 180
    },
    "id": "4Vjp-2FtXbr7"
   },
   "outputs": [],
   "source": [
    "covidData = pd.read_excel(\"../database/dados-agrupados.xlsx\")"
   ]
  },
  {
   "cell_type": "code",
   "execution_count": 4,
   "metadata": {
    "colab": {
     "base_uri": "https://localhost:8080/"
    },
    "executionInfo": {
     "elapsed": 823,
     "status": "ok",
     "timestamp": 1606782619746,
     "user": {
      "displayName": "WALLACE DUARTE DE HOLANDA",
      "photoUrl": "https://lh3.googleusercontent.com/a-/AOh14GgeWMOt53non50jDB5bIAwurrZleD5e6T7yfR9w=s64",
      "userId": "03474631865123362594"
     },
     "user_tz": 180
    },
    "id": "R04MwHdxXbsK",
    "outputId": "e5065bd9-5f57-4346-a7d9-25a397411b9d"
   },
   "outputs": [
    {
     "data": {
      "text/plain": [
       "(1688, 169)"
      ]
     },
     "execution_count": 4,
     "metadata": {},
     "output_type": "execute_result"
    }
   ],
   "source": [
    "#Visualizando Dados\n",
    "covidData.head()\n",
    "covidData.shape"
   ]
  },
  {
   "cell_type": "code",
   "execution_count": 5,
   "metadata": {
    "colab": {
     "base_uri": "https://localhost:8080/"
    },
    "executionInfo": {
     "elapsed": 1467,
     "status": "ok",
     "timestamp": 1606845724926,
     "user": {
      "displayName": "WALLACE DUARTE DE HOLANDA",
      "photoUrl": "https://lh3.googleusercontent.com/a-/AOh14GgeWMOt53non50jDB5bIAwurrZleD5e6T7yfR9w=s64",
      "userId": "03474631865123362594"
     },
     "user_tz": 180
    },
    "id": "kGnNDZZvXbsk",
    "outputId": "bf3b6b9b-14ef-4889-907e-671a9dd779e7"
   },
   "outputs": [
    {
     "data": {
      "text/plain": [
       "(1688, 169)"
      ]
     },
     "execution_count": 5,
     "metadata": {},
     "output_type": "execute_result"
    }
   ],
   "source": [
    "#Verificando a dimensão da Tabela\n",
    "covidData.shape"
   ]
  },
  {
   "cell_type": "markdown",
   "metadata": {},
   "source": [
    "# Pré-processamento dos Dados"
   ]
  },
  {
   "cell_type": "code",
   "execution_count": 6,
   "metadata": {
    "colab": {
     "base_uri": "https://localhost:8080/"
    },
    "executionInfo": {
     "elapsed": 786,
     "status": "ok",
     "timestamp": 1606782622935,
     "user": {
      "displayName": "WALLACE DUARTE DE HOLANDA",
      "photoUrl": "https://lh3.googleusercontent.com/a-/AOh14GgeWMOt53non50jDB5bIAwurrZleD5e6T7yfR9w=s64",
      "userId": "03474631865123362594"
     },
     "user_tz": 180
    },
    "id": "Dxgp81H2Xbs5",
    "outputId": "f0228368-565a-448f-bea8-43f58ae8d5ed"
   },
   "outputs": [],
   "source": [
    "#Verificando a quantidade de dados faltantes por colunas\n",
    "faltantes = covidData.isnull().sum()\n",
    "faltantes_percentual = (covidData.isnull().sum() / len(covidData['DT_NOTIFIC'])) * 100"
   ]
  },
  {
   "cell_type": "code",
   "execution_count": 7,
   "metadata": {},
   "outputs": [
    {
     "name": "stdout",
     "output_type": "stream",
     "text": [
      "68.24644549763033\n",
      "19.01658767772512\n",
      "321\n"
     ]
    }
   ],
   "source": [
    "#Exibindo a porcentagem/quantidade de dados ausentes\n",
    "print(faltantes_percentual['DIABETES'])\n",
    "print(faltantes_percentual['EVOLUCAO'])\n",
    "\n",
    "print(faltantes['EVOLUCAO'])"
   ]
  },
  {
   "cell_type": "code",
   "execution_count": 16,
   "metadata": {
    "executionInfo": {
     "elapsed": 1376,
     "status": "ok",
     "timestamp": 1606845731410,
     "user": {
      "displayName": "WALLACE DUARTE DE HOLANDA",
      "photoUrl": "https://lh3.googleusercontent.com/a-/AOh14GgeWMOt53non50jDB5bIAwurrZleD5e6T7yfR9w=s64",
      "userId": "03474631865123362594"
     },
     "user_tz": 180
    },
    "id": "5q41oIsjXbtL"
   },
   "outputs": [],
   "source": [
    "#Salvando todos os dados que não possuem a evolução vazia\n",
    "newData = covidData.loc[covidData['EVOLUCAO'].notnull()]"
   ]
  },
  {
   "cell_type": "code",
   "execution_count": 17,
   "metadata": {
    "colab": {
     "base_uri": "https://localhost:8080/"
    },
    "executionInfo": {
     "elapsed": 933,
     "status": "ok",
     "timestamp": 1606845733956,
     "user": {
      "displayName": "WALLACE DUARTE DE HOLANDA",
      "photoUrl": "https://lh3.googleusercontent.com/a-/AOh14GgeWMOt53non50jDB5bIAwurrZleD5e6T7yfR9w=s64",
      "userId": "03474631865123362594"
     },
     "user_tz": 180
    },
    "id": "Rc6CyvoTXbtW",
    "outputId": "ad8899f2-02ad-4e19-832e-ce97145d4fb5"
   },
   "outputs": [
    {
     "data": {
      "text/plain": [
       "(1367, 169)"
      ]
     },
     "execution_count": 17,
     "metadata": {},
     "output_type": "execute_result"
    }
   ],
   "source": [
    "#Visualizando as novas dimensões dos novos dados\n",
    "newData.shape"
   ]
  },
  {
   "cell_type": "code",
   "execution_count": 18,
   "metadata": {
    "id": "Ykv1O0EsXbtd"
   },
   "outputs": [
    {
     "data": {
      "text/html": [
       "<div>\n",
       "<style scoped>\n",
       "    .dataframe tbody tr th:only-of-type {\n",
       "        vertical-align: middle;\n",
       "    }\n",
       "\n",
       "    .dataframe tbody tr th {\n",
       "        vertical-align: top;\n",
       "    }\n",
       "\n",
       "    .dataframe thead th {\n",
       "        text-align: right;\n",
       "    }\n",
       "</style>\n",
       "<table border=\"1\" class=\"dataframe\">\n",
       "  <thead>\n",
       "    <tr style=\"text-align: right;\">\n",
       "      <th></th>\n",
       "      <th>NU_NOTIFIC</th>\n",
       "      <th>DT_NOTIFIC</th>\n",
       "      <th>SEM_NOT</th>\n",
       "      <th>DT_SIN_PRI</th>\n",
       "      <th>SEM_PRI</th>\n",
       "      <th>SG_UF_NOT</th>\n",
       "      <th>ID_REGIONA</th>\n",
       "      <th>CO_REGIONA</th>\n",
       "      <th>ID_MUNICIP</th>\n",
       "      <th>CO_MUN_NOT</th>\n",
       "      <th>...</th>\n",
       "      <th>TP_AM_SOR</th>\n",
       "      <th>SOR_OUT</th>\n",
       "      <th>DT_CO_SOR</th>\n",
       "      <th>TP_SOR</th>\n",
       "      <th>OUT_SOR</th>\n",
       "      <th>DT_RES</th>\n",
       "      <th>RES_IGG</th>\n",
       "      <th>RES_IGM</th>\n",
       "      <th>RES_IGA</th>\n",
       "      <th>NU_DO</th>\n",
       "    </tr>\n",
       "  </thead>\n",
       "  <tbody>\n",
       "    <tr>\n",
       "      <th>0</th>\n",
       "      <td>315843770177</td>\n",
       "      <td>2020-03-11</td>\n",
       "      <td>11</td>\n",
       "      <td>08/03/2020</td>\n",
       "      <td>11</td>\n",
       "      <td>RN</td>\n",
       "      <td>II URSAP</td>\n",
       "      <td>1412</td>\n",
       "      <td>MOSSORO</td>\n",
       "      <td>240800</td>\n",
       "      <td>...</td>\n",
       "      <td>0</td>\n",
       "      <td>NaN</td>\n",
       "      <td>NaN</td>\n",
       "      <td>0.0</td>\n",
       "      <td>NaN</td>\n",
       "      <td>NaN</td>\n",
       "      <td>NaN</td>\n",
       "      <td>NaN</td>\n",
       "      <td>NaN</td>\n",
       "      <td>0.0</td>\n",
       "    </tr>\n",
       "    <tr>\n",
       "      <th>2</th>\n",
       "      <td>315863711481</td>\n",
       "      <td>2020-03-18</td>\n",
       "      <td>12</td>\n",
       "      <td>03/03/2020</td>\n",
       "      <td>10</td>\n",
       "      <td>RN</td>\n",
       "      <td>II URSAP</td>\n",
       "      <td>1412</td>\n",
       "      <td>MOSSORO</td>\n",
       "      <td>240800</td>\n",
       "      <td>...</td>\n",
       "      <td>0</td>\n",
       "      <td>NaN</td>\n",
       "      <td>NaN</td>\n",
       "      <td>0.0</td>\n",
       "      <td>NaN</td>\n",
       "      <td>NaN</td>\n",
       "      <td>NaN</td>\n",
       "      <td>NaN</td>\n",
       "      <td>NaN</td>\n",
       "      <td>0.0</td>\n",
       "    </tr>\n",
       "    <tr>\n",
       "      <th>3</th>\n",
       "      <td>315867978560</td>\n",
       "      <td>2020-03-18</td>\n",
       "      <td>12</td>\n",
       "      <td>12/03/2020</td>\n",
       "      <td>11</td>\n",
       "      <td>RN</td>\n",
       "      <td>II URSAP</td>\n",
       "      <td>1412</td>\n",
       "      <td>MOSSORO</td>\n",
       "      <td>240800</td>\n",
       "      <td>...</td>\n",
       "      <td>0</td>\n",
       "      <td>NaN</td>\n",
       "      <td>NaN</td>\n",
       "      <td>0.0</td>\n",
       "      <td>NaN</td>\n",
       "      <td>NaN</td>\n",
       "      <td>NaN</td>\n",
       "      <td>NaN</td>\n",
       "      <td>NaN</td>\n",
       "      <td>0.0</td>\n",
       "    </tr>\n",
       "    <tr>\n",
       "      <th>4</th>\n",
       "      <td>315863717020</td>\n",
       "      <td>2020-03-19</td>\n",
       "      <td>12</td>\n",
       "      <td>10/03/2020</td>\n",
       "      <td>11</td>\n",
       "      <td>RN</td>\n",
       "      <td>II URSAP</td>\n",
       "      <td>1412</td>\n",
       "      <td>MOSSORO</td>\n",
       "      <td>240800</td>\n",
       "      <td>...</td>\n",
       "      <td>0</td>\n",
       "      <td>NaN</td>\n",
       "      <td>NaN</td>\n",
       "      <td>0.0</td>\n",
       "      <td>NaN</td>\n",
       "      <td>NaN</td>\n",
       "      <td>NaN</td>\n",
       "      <td>NaN</td>\n",
       "      <td>NaN</td>\n",
       "      <td>0.0</td>\n",
       "    </tr>\n",
       "    <tr>\n",
       "      <th>5</th>\n",
       "      <td>315867989608</td>\n",
       "      <td>2020-03-19</td>\n",
       "      <td>12</td>\n",
       "      <td>14/03/2020</td>\n",
       "      <td>11</td>\n",
       "      <td>RN</td>\n",
       "      <td>II URSAP</td>\n",
       "      <td>1412</td>\n",
       "      <td>MOSSORO</td>\n",
       "      <td>240800</td>\n",
       "      <td>...</td>\n",
       "      <td>0</td>\n",
       "      <td>NaN</td>\n",
       "      <td>NaN</td>\n",
       "      <td>0.0</td>\n",
       "      <td>NaN</td>\n",
       "      <td>NaN</td>\n",
       "      <td>NaN</td>\n",
       "      <td>NaN</td>\n",
       "      <td>NaN</td>\n",
       "      <td>0.0</td>\n",
       "    </tr>\n",
       "    <tr>\n",
       "      <th>...</th>\n",
       "      <td>...</td>\n",
       "      <td>...</td>\n",
       "      <td>...</td>\n",
       "      <td>...</td>\n",
       "      <td>...</td>\n",
       "      <td>...</td>\n",
       "      <td>...</td>\n",
       "      <td>...</td>\n",
       "      <td>...</td>\n",
       "      <td>...</td>\n",
       "      <td>...</td>\n",
       "      <td>...</td>\n",
       "      <td>...</td>\n",
       "      <td>...</td>\n",
       "      <td>...</td>\n",
       "      <td>...</td>\n",
       "      <td>...</td>\n",
       "      <td>...</td>\n",
       "      <td>...</td>\n",
       "      <td>...</td>\n",
       "      <td>...</td>\n",
       "    </tr>\n",
       "    <tr>\n",
       "      <th>1678</th>\n",
       "      <td>316103850603</td>\n",
       "      <td>2021-01-09</td>\n",
       "      <td>1</td>\n",
       "      <td>2020-12-13 00:00:00</td>\n",
       "      <td>51</td>\n",
       "      <td>RN</td>\n",
       "      <td>II URSAP</td>\n",
       "      <td>1412</td>\n",
       "      <td>MOSSORO</td>\n",
       "      <td>240800</td>\n",
       "      <td>...</td>\n",
       "      <td>1</td>\n",
       "      <td>NaN</td>\n",
       "      <td>NaN</td>\n",
       "      <td>NaN</td>\n",
       "      <td>NaN</td>\n",
       "      <td>NaN</td>\n",
       "      <td>NaN</td>\n",
       "      <td>NaN</td>\n",
       "      <td>NaN</td>\n",
       "      <td>NaN</td>\n",
       "    </tr>\n",
       "    <tr>\n",
       "      <th>1681</th>\n",
       "      <td>316106530261</td>\n",
       "      <td>2021-01-11</td>\n",
       "      <td>2</td>\n",
       "      <td>2020-12-20 00:00:00</td>\n",
       "      <td>52</td>\n",
       "      <td>RN</td>\n",
       "      <td>II URSAP</td>\n",
       "      <td>1412</td>\n",
       "      <td>MOSSORO</td>\n",
       "      <td>240800</td>\n",
       "      <td>...</td>\n",
       "      <td>1</td>\n",
       "      <td>NaN</td>\n",
       "      <td>NaN</td>\n",
       "      <td>NaN</td>\n",
       "      <td>NaN</td>\n",
       "      <td>NaN</td>\n",
       "      <td>NaN</td>\n",
       "      <td>NaN</td>\n",
       "      <td>NaN</td>\n",
       "      <td>NaN</td>\n",
       "    </tr>\n",
       "    <tr>\n",
       "      <th>1682</th>\n",
       "      <td>316119463775</td>\n",
       "      <td>2021-01-11</td>\n",
       "      <td>2</td>\n",
       "      <td>2020-12-30 00:00:00</td>\n",
       "      <td>53</td>\n",
       "      <td>RN</td>\n",
       "      <td>II URSAP</td>\n",
       "      <td>1412</td>\n",
       "      <td>MOSSORO</td>\n",
       "      <td>240800</td>\n",
       "      <td>...</td>\n",
       "      <td>3</td>\n",
       "      <td>NaN</td>\n",
       "      <td>NaN</td>\n",
       "      <td>NaN</td>\n",
       "      <td>NaN</td>\n",
       "      <td>NaN</td>\n",
       "      <td>NaN</td>\n",
       "      <td>NaN</td>\n",
       "      <td>NaN</td>\n",
       "      <td>NaN</td>\n",
       "    </tr>\n",
       "    <tr>\n",
       "      <th>1684</th>\n",
       "      <td>316106445601</td>\n",
       "      <td>2021-01-14</td>\n",
       "      <td>2</td>\n",
       "      <td>2020-12-30 00:00:00</td>\n",
       "      <td>53</td>\n",
       "      <td>RN</td>\n",
       "      <td>II URSAP</td>\n",
       "      <td>1412</td>\n",
       "      <td>MOSSORO</td>\n",
       "      <td>240800</td>\n",
       "      <td>...</td>\n",
       "      <td>0</td>\n",
       "      <td>NaN</td>\n",
       "      <td>NaN</td>\n",
       "      <td>NaN</td>\n",
       "      <td>NaN</td>\n",
       "      <td>NaN</td>\n",
       "      <td>NaN</td>\n",
       "      <td>NaN</td>\n",
       "      <td>NaN</td>\n",
       "      <td>NaN</td>\n",
       "    </tr>\n",
       "    <tr>\n",
       "      <th>1687</th>\n",
       "      <td>316116045238</td>\n",
       "      <td>2021-01-22</td>\n",
       "      <td>3</td>\n",
       "      <td>2020-12-28 00:00:00</td>\n",
       "      <td>53</td>\n",
       "      <td>RN</td>\n",
       "      <td>II URSAP</td>\n",
       "      <td>1412</td>\n",
       "      <td>MOSSORO</td>\n",
       "      <td>240800</td>\n",
       "      <td>...</td>\n",
       "      <td>1</td>\n",
       "      <td>NaN</td>\n",
       "      <td>NaN</td>\n",
       "      <td>NaN</td>\n",
       "      <td>NaN</td>\n",
       "      <td>NaN</td>\n",
       "      <td>NaN</td>\n",
       "      <td>NaN</td>\n",
       "      <td>NaN</td>\n",
       "      <td>NaN</td>\n",
       "    </tr>\n",
       "  </tbody>\n",
       "</table>\n",
       "<p>1367 rows × 169 columns</p>\n",
       "</div>"
      ],
      "text/plain": [
       "        NU_NOTIFIC DT_NOTIFIC  SEM_NOT           DT_SIN_PRI  SEM_PRI  \\\n",
       "0     315843770177 2020-03-11       11           08/03/2020       11   \n",
       "2     315863711481 2020-03-18       12           03/03/2020       10   \n",
       "3     315867978560 2020-03-18       12           12/03/2020       11   \n",
       "4     315863717020 2020-03-19       12           10/03/2020       11   \n",
       "5     315867989608 2020-03-19       12           14/03/2020       11   \n",
       "...            ...        ...      ...                  ...      ...   \n",
       "1678  316103850603 2021-01-09        1  2020-12-13 00:00:00       51   \n",
       "1681  316106530261 2021-01-11        2  2020-12-20 00:00:00       52   \n",
       "1682  316119463775 2021-01-11        2  2020-12-30 00:00:00       53   \n",
       "1684  316106445601 2021-01-14        2  2020-12-30 00:00:00       53   \n",
       "1687  316116045238 2021-01-22        3  2020-12-28 00:00:00       53   \n",
       "\n",
       "     SG_UF_NOT ID_REGIONA  CO_REGIONA ID_MUNICIP  CO_MUN_NOT  ... TP_AM_SOR  \\\n",
       "0           RN   II URSAP        1412    MOSSORO      240800  ...         0   \n",
       "2           RN   II URSAP        1412    MOSSORO      240800  ...         0   \n",
       "3           RN   II URSAP        1412    MOSSORO      240800  ...         0   \n",
       "4           RN   II URSAP        1412    MOSSORO      240800  ...         0   \n",
       "5           RN   II URSAP        1412    MOSSORO      240800  ...         0   \n",
       "...        ...        ...         ...        ...         ...  ...       ...   \n",
       "1678        RN   II URSAP        1412    MOSSORO      240800  ...         1   \n",
       "1681        RN   II URSAP        1412    MOSSORO      240800  ...         1   \n",
       "1682        RN   II URSAP        1412    MOSSORO      240800  ...         3   \n",
       "1684        RN   II URSAP        1412    MOSSORO      240800  ...         0   \n",
       "1687        RN   II URSAP        1412    MOSSORO      240800  ...         1   \n",
       "\n",
       "      SOR_OUT DT_CO_SOR TP_SOR  OUT_SOR  DT_RES  RES_IGG  RES_IGM  RES_IGA  \\\n",
       "0         NaN       NaN    0.0      NaN     NaN      NaN      NaN      NaN   \n",
       "2         NaN       NaN    0.0      NaN     NaN      NaN      NaN      NaN   \n",
       "3         NaN       NaN    0.0      NaN     NaN      NaN      NaN      NaN   \n",
       "4         NaN       NaN    0.0      NaN     NaN      NaN      NaN      NaN   \n",
       "5         NaN       NaN    0.0      NaN     NaN      NaN      NaN      NaN   \n",
       "...       ...       ...    ...      ...     ...      ...      ...      ...   \n",
       "1678      NaN       NaN    NaN      NaN     NaN      NaN      NaN      NaN   \n",
       "1681      NaN       NaN    NaN      NaN     NaN      NaN      NaN      NaN   \n",
       "1682      NaN       NaN    NaN      NaN     NaN      NaN      NaN      NaN   \n",
       "1684      NaN       NaN    NaN      NaN     NaN      NaN      NaN      NaN   \n",
       "1687      NaN       NaN    NaN      NaN     NaN      NaN      NaN      NaN   \n",
       "\n",
       "      NU_DO  \n",
       "0       0.0  \n",
       "2       0.0  \n",
       "3       0.0  \n",
       "4       0.0  \n",
       "5       0.0  \n",
       "...     ...  \n",
       "1678    NaN  \n",
       "1681    NaN  \n",
       "1682    NaN  \n",
       "1684    NaN  \n",
       "1687    NaN  \n",
       "\n",
       "[1367 rows x 169 columns]"
      ]
     },
     "execution_count": 18,
     "metadata": {},
     "output_type": "execute_result"
    }
   ],
   "source": [
    "#Imprimindo o novo dataset\n",
    "newData"
   ]
  },
  {
   "cell_type": "code",
   "execution_count": 19,
   "metadata": {
    "colab": {
     "base_uri": "https://localhost:8080/"
    },
    "executionInfo": {
     "elapsed": 943,
     "status": "ok",
     "timestamp": 1606845737145,
     "user": {
      "displayName": "WALLACE DUARTE DE HOLANDA",
      "photoUrl": "https://lh3.googleusercontent.com/a-/AOh14GgeWMOt53non50jDB5bIAwurrZleD5e6T7yfR9w=s64",
      "userId": "03474631865123362594"
     },
     "user_tz": 180
    },
    "id": "11JoImaGbEI4",
    "outputId": "4ca08867-d495-4338-b536-89cd73b22a4f"
   },
   "outputs": [
    {
     "name": "stdout",
     "output_type": "stream",
     "text": [
      "NU_NOTIFIC       0\n",
      "DT_NOTIFIC       0\n",
      "SEM_NOT          0\n",
      "DT_SIN_PRI       0\n",
      "SEM_PRI          0\n",
      "              ... \n",
      "DT_RES        1302\n",
      "RES_IGG       1298\n",
      "RES_IGM       1296\n",
      "RES_IGA       1362\n",
      "NU_DO          358\n",
      "Length: 169, dtype: int64\n"
     ]
    }
   ],
   "source": [
    "novosFaltantes = newData.isnull().sum()\n",
    "print(novosFaltantes)"
   ]
  },
  {
   "cell_type": "code",
   "execution_count": 20,
   "metadata": {
    "executionInfo": {
     "elapsed": 939,
     "status": "ok",
     "timestamp": 1606845739033,
     "user": {
      "displayName": "WALLACE DUARTE DE HOLANDA",
      "photoUrl": "https://lh3.googleusercontent.com/a-/AOh14GgeWMOt53non50jDB5bIAwurrZleD5e6T7yfR9w=s64",
      "userId": "03474631865123362594"
     },
     "user_tz": 180
    },
    "id": "eRjMptrqXbt2"
   },
   "outputs": [],
   "source": [
    "#Verificando quantos casos foram óbitos e recuperados\n",
    "#newData['EVOLUCAO'].value_counts()\n",
    "newDData = newData.drop(newData[newData.EVOLUCAO == 3].index);\n",
    "#print(newDData.shape)\n",
    "#newDData.value_counts()\n",
    "\n",
    "#newDData['EVOLUCAO'].replace(1, 'OBITO', inplace = True);\n",
    "\n",
    "#Testando a modificação\n",
    "#newDData.loc[[0], 'EVOLUCAO'] = 'ÓBITO';\n",
    "#newDData.EVOLUCAO[0]\n",
    "\n"
   ]
  },
  {
   "cell_type": "code",
   "execution_count": 21,
   "metadata": {
    "colab": {
     "base_uri": "https://localhost:8080/"
    },
    "executionInfo": {
     "elapsed": 911,
     "status": "ok",
     "timestamp": 1606845741733,
     "user": {
      "displayName": "WALLACE DUARTE DE HOLANDA",
      "photoUrl": "https://lh3.googleusercontent.com/a-/AOh14GgeWMOt53non50jDB5bIAwurrZleD5e6T7yfR9w=s64",
      "userId": "03474631865123362594"
     },
     "user_tz": 180
    },
    "id": "eJXSQLn-SYGo",
    "outputId": "247b8c7c-8570-4d82-f4ac-1ebd2639624f"
   },
   "outputs": [
    {
     "data": {
      "text/plain": [
       "(971, 169)"
      ]
     },
     "execution_count": 21,
     "metadata": {},
     "output_type": "execute_result"
    }
   ],
   "source": [
    "#Eliminando os atributos vazios\n",
    "covidNewData = newDData.loc[newDData['CLASSI_FIN'].notnull()]\n",
    "covidNewData.shape\n"
   ]
  },
  {
   "cell_type": "code",
   "execution_count": 14,
   "metadata": {
    "executionInfo": {
     "elapsed": 901,
     "status": "ok",
     "timestamp": 1606845744318,
     "user": {
      "displayName": "WALLACE DUARTE DE HOLANDA",
      "photoUrl": "https://lh3.googleusercontent.com/a-/AOh14GgeWMOt53non50jDB5bIAwurrZleD5e6T7yfR9w=s64",
      "userId": "03474631865123362594"
     },
     "user_tz": 180
    },
    "id": "KvmI5QyjTNKZ"
   },
   "outputs": [],
   "source": [
    "#Calculando os vazios\n",
    "#attributes = [\"CS_SEXO\", \"NU_IDADE_N\", \"CS_RACA\", \"SURTO_SG\", \"FEBRE\", \"TOSSE\", \"GARGANTA\", \n",
    "#              \"DISPNEIA\", \"DESC_RESP\", \"SATURACAO\", \"DIARREIA\",\"VOMITO\", \"PUERPERA\", \"CARDIOPATI\", \n",
    "#              \"HEMATOLOGI\", \"SIND_DOWN\", \"HEPATICA\", \"ASMA\", \"DIABETES\", \"NEUROLOGIC\",\t\"PNEUMOPATI\",\n",
    "#              \"IMUNODEPRE\", \"RENAL\",\t\"OBESIDADE\", \"UTI\", \"SUPORT_VEN\", \"CLASSI_FIN\", \"FATOR_RISC\", \"EVOLUCAO\"]\n",
    "#newData = covidNewData[attributes]\n",
    "#dados_faltantes = newData.isnull().sum()\n",
    "#dados_faltantes"
   ]
  },
  {
   "cell_type": "code",
   "execution_count": 22,
   "metadata": {
    "colab": {
     "base_uri": "https://localhost:8080/"
    },
    "executionInfo": {
     "elapsed": 883,
     "status": "ok",
     "timestamp": 1606845757135,
     "user": {
      "displayName": "WALLACE DUARTE DE HOLANDA",
      "photoUrl": "https://lh3.googleusercontent.com/a-/AOh14GgeWMOt53non50jDB5bIAwurrZleD5e6T7yfR9w=s64",
      "userId": "03474631865123362594"
     },
     "user_tz": 180
    },
    "id": "gokpbfOhL4jD",
    "outputId": "42827157-6744-4a87-8314-4dca478256ac"
   },
   "outputs": [
    {
     "name": "stderr",
     "output_type": "stream",
     "text": [
      "C:\\Users\\walla\\anaconda3\\lib\\site-packages\\pandas\\core\\indexing.py:965: SettingWithCopyWarning: \n",
      "A value is trying to be set on a copy of a slice from a DataFrame.\n",
      "Try using .loc[row_indexer,col_indexer] = value instead\n",
      "\n",
      "See the caveats in the documentation: https://pandas.pydata.org/pandas-docs/stable/user_guide/indexing.html#returning-a-view-versus-a-copy\n",
      "  self.obj[item] = s\n"
     ]
    },
    {
     "data": {
      "text/plain": [
       "2.0    354\n",
       "1.0     41\n",
       "Name: RENAL, dtype: int64"
      ]
     },
     "execution_count": 22,
     "metadata": {},
     "output_type": "execute_result"
    }
   ],
   "source": [
    "# Substituindo o valor das comorbidades\n",
    "covidNewData.loc[covidNewData.FATOR_RISC == 2, [\"PUERPERA\", \"CARDIOPATI\", \"HEMATOLOGI\",\n",
    "            \"SIND_DOWN\", \"HEPATICA\", \"ASMA\",\"DIABETES\", \"NEUROLOGIC\", \"PNEUMOPATI\",\n",
    "            \"IMUNODEPRE\", \"RENAL\", \"OBESIDADE\"]] = 2;\n",
    "\n",
    "covidNewData.RENAL.value_counts()"
   ]
  },
  {
   "cell_type": "code",
   "execution_count": 23,
   "metadata": {},
   "outputs": [
    {
     "data": {
      "text/plain": [
       "(971, 169)"
      ]
     },
     "execution_count": 23,
     "metadata": {},
     "output_type": "execute_result"
    }
   ],
   "source": [
    "covidNewData.shape"
   ]
  },
  {
   "cell_type": "code",
   "execution_count": 24,
   "metadata": {
    "executionInfo": {
     "elapsed": 1029,
     "status": "ok",
     "timestamp": 1606845760406,
     "user": {
      "displayName": "WALLACE DUARTE DE HOLANDA",
      "photoUrl": "https://lh3.googleusercontent.com/a-/AOh14GgeWMOt53non50jDB5bIAwurrZleD5e6T7yfR9w=s64",
      "userId": "03474631865123362594"
     },
     "user_tz": 180
    },
    "id": "mXpjk0rlUkjT"
   },
   "outputs": [],
   "source": [
    "#Troquei de 2 - 9 / Para Verificar\n",
    "x = 2;\n",
    "values9 = {\"PUERPERA\": x, \"CARDIOPATI\": x, \"HEMATOLOGI\": x, \"SIND_DOWN\": x,\n",
    "          \"HEPATICA\": x,\"ASMA\": x, \"DIABETES\": x, \"NEUROLOGIC\": x, \"PNEUMOPATI\": x,\n",
    "            \"IMUNODEPRE\": x, \"RENAL\": x, \"OBESIDADE\": x};\n",
    "\n",
    "newData9 = covidNewData.fillna(value = values9, inplace = False)\n"
   ]
  },
  {
   "cell_type": "code",
   "execution_count": 25,
   "metadata": {
    "colab": {
     "base_uri": "https://localhost:8080/"
    },
    "executionInfo": {
     "elapsed": 914,
     "status": "ok",
     "timestamp": 1606845762516,
     "user": {
      "displayName": "WALLACE DUARTE DE HOLANDA",
      "photoUrl": "https://lh3.googleusercontent.com/a-/AOh14GgeWMOt53non50jDB5bIAwurrZleD5e6T7yfR9w=s64",
      "userId": "03474631865123362594"
     },
     "user_tz": 180
    },
    "id": "WbZP1r8VYH8P",
    "outputId": "e9451fd4-8c2f-407b-c0d0-2484f3cae0bc"
   },
   "outputs": [
    {
     "data": {
      "text/plain": [
       "2.0    930\n",
       "1.0     41\n",
       "Name: RENAL, dtype: int64"
      ]
     },
     "execution_count": 25,
     "metadata": {},
     "output_type": "execute_result"
    }
   ],
   "source": [
    "#Visualizando os dados substituídos\n",
    "newData9.RENAL.value_counts()"
   ]
  },
  {
   "cell_type": "code",
   "execution_count": 26,
   "metadata": {
    "colab": {
     "base_uri": "https://localhost:8080/"
    },
    "executionInfo": {
     "elapsed": 1034,
     "status": "ok",
     "timestamp": 1606845764855,
     "user": {
      "displayName": "WALLACE DUARTE DE HOLANDA",
      "photoUrl": "https://lh3.googleusercontent.com/a-/AOh14GgeWMOt53non50jDB5bIAwurrZleD5e6T7yfR9w=s64",
      "userId": "03474631865123362594"
     },
     "user_tz": 180
    },
    "id": "GKDghhg7U-tm",
    "outputId": "ea123811-3b8c-492e-bd10-1cacfe70d190"
   },
   "outputs": [
    {
     "data": {
      "text/plain": [
       "1.0    630\n",
       "2.0    341\n",
       "Name: FEBRE, dtype: int64"
      ]
     },
     "execution_count": 26,
     "metadata": {},
     "output_type": "execute_result"
    }
   ],
   "source": [
    "#Lembrar de trocar para 9\n",
    "y = 2;\n",
    "values_symptoms = {\"FEBRE\": y, \"TOSSE\": y, \"GARGANTA\": y, \"DISPNEIA\": y,\n",
    "                   \"DESC_RESP\": y, \"SATURACAO\": y,\"DIARREIA\":y,\"VOMITO\": y};\n",
    "\n",
    "newData9.fillna(value = values_symptoms, inplace = True)\n",
    "\n",
    "faltantes = newData9['FEBRE'].isnull().sum()\n",
    "newData9['FEBRE'].value_counts()\n",
    "#faltantes"
   ]
  },
  {
   "cell_type": "code",
   "execution_count": 27,
   "metadata": {
    "colab": {
     "base_uri": "https://localhost:8080/"
    },
    "executionInfo": {
     "elapsed": 899,
     "status": "ok",
     "timestamp": 1606845767665,
     "user": {
      "displayName": "WALLACE DUARTE DE HOLANDA",
      "photoUrl": "https://lh3.googleusercontent.com/a-/AOh14GgeWMOt53non50jDB5bIAwurrZleD5e6T7yfR9w=s64",
      "userId": "03474631865123362594"
     },
     "user_tz": 180
    },
    "id": "Jqr-3GNvZzuB",
    "outputId": "5672e0cf-ebf7-4ca3-93ba-686ed90ee2c8"
   },
   "outputs": [
    {
     "data": {
      "text/plain": [
       "4.0    684\n",
       "1.0    225\n",
       "2.0     27\n",
       "9.0     25\n",
       "3.0     10\n",
       "Name: CS_RACA, dtype: int64"
      ]
     },
     "execution_count": 27,
     "metadata": {},
     "output_type": "execute_result"
    }
   ],
   "source": [
    "# Substituindo os valores NULL da coluna Raça\n",
    "race_values = {'CS_RACA' : 9}\n",
    "newData9.fillna(value = race_values, inplace = True)\n",
    "newData9['CS_RACA'].value_counts()\n",
    "\n"
   ]
  },
  {
   "cell_type": "code",
   "execution_count": 28,
   "metadata": {
    "colab": {
     "base_uri": "https://localhost:8080/"
    },
    "executionInfo": {
     "elapsed": 876,
     "status": "ok",
     "timestamp": 1606845769629,
     "user": {
      "displayName": "WALLACE DUARTE DE HOLANDA",
      "photoUrl": "https://lh3.googleusercontent.com/a-/AOh14GgeWMOt53non50jDB5bIAwurrZleD5e6T7yfR9w=s64",
      "userId": "03474631865123362594"
     },
     "user_tz": 180
    },
    "id": "TGTzWd3VgSLh",
    "outputId": "f91413bb-7ce5-4e89-84f8-f1ef12cd5713"
   },
   "outputs": [
    {
     "data": {
      "text/plain": [
       "2.0    798\n",
       "1.0    109\n",
       "9.0     64\n",
       "Name: SURTO_SG, dtype: int64"
      ]
     },
     "execution_count": 28,
     "metadata": {},
     "output_type": "execute_result"
    }
   ],
   "source": [
    "# Substituindo os valores NULL da coluna Surto\n",
    "surto_values = {'SURTO_SG' : 9}\n",
    "newData9.fillna(value = surto_values, inplace = True)\n",
    "newData9['SURTO_SG'].value_counts()"
   ]
  },
  {
   "cell_type": "code",
   "execution_count": 29,
   "metadata": {
    "colab": {
     "base_uri": "https://localhost:8080/"
    },
    "executionInfo": {
     "elapsed": 871,
     "status": "ok",
     "timestamp": 1606845771420,
     "user": {
      "displayName": "WALLACE DUARTE DE HOLANDA",
      "photoUrl": "https://lh3.googleusercontent.com/a-/AOh14GgeWMOt53non50jDB5bIAwurrZleD5e6T7yfR9w=s64",
      "userId": "03474631865123362594"
     },
     "user_tz": 180
    },
    "id": "WTqeI_chhvqJ",
    "outputId": "5a235471-02b7-4fe0-9679-780d42e54e11"
   },
   "outputs": [
    {
     "data": {
      "text/plain": [
       "1                      519\n",
       "2                      408\n",
       "2                       43\n",
       "2020-10-08 00:00:00      1\n",
       "Name: UTI, dtype: int64"
      ]
     },
     "execution_count": 29,
     "metadata": {},
     "output_type": "execute_result"
    }
   ],
   "source": [
    "# Substituindo os valores NULL da coluna UTI\n",
    "uti_values = {'UTI' : 2}\n",
    "newData9.fillna(value = uti_values, inplace = True)\n",
    "newData9['UTI'].value_counts()"
   ]
  },
  {
   "cell_type": "code",
   "execution_count": 30,
   "metadata": {
    "colab": {
     "base_uri": "https://localhost:8080/"
    },
    "executionInfo": {
     "elapsed": 881,
     "status": "ok",
     "timestamp": 1606845774163,
     "user": {
      "displayName": "WALLACE DUARTE DE HOLANDA",
      "photoUrl": "https://lh3.googleusercontent.com/a-/AOh14GgeWMOt53non50jDB5bIAwurrZleD5e6T7yfR9w=s64",
      "userId": "03474631865123362594"
     },
     "user_tz": 180
    },
    "id": "oxqax1-CiNdL",
    "outputId": "9b4064bd-9a9b-45d1-98c9-7eeab53784f8"
   },
   "outputs": [
    {
     "data": {
      "text/plain": [
       "2.0    474\n",
       "1.0    263\n",
       "3.0    180\n",
       "9.0     53\n",
       "6.0      1\n",
       "Name: SUPORT_VEN, dtype: int64"
      ]
     },
     "execution_count": 30,
     "metadata": {},
     "output_type": "execute_result"
    }
   ],
   "source": [
    "# Substituindo os valores NULL da coluna Suporte Ventilatório\n",
    "sup_values = {'SUPORT_VEN' : 9}\n",
    "newData9.fillna(value = sup_values, inplace = True)\n",
    "newData9['SUPORT_VEN'].value_counts()"
   ]
  },
  {
   "cell_type": "code",
   "execution_count": 31,
   "metadata": {
    "colab": {
     "base_uri": "https://localhost:8080/"
    },
    "executionInfo": {
     "elapsed": 855,
     "status": "ok",
     "timestamp": 1606845777684,
     "user": {
      "displayName": "WALLACE DUARTE DE HOLANDA",
      "photoUrl": "https://lh3.googleusercontent.com/a-/AOh14GgeWMOt53non50jDB5bIAwurrZleD5e6T7yfR9w=s64",
      "userId": "03474631865123362594"
     },
     "user_tz": 180
    },
    "id": "qDoobxJRjmBC",
    "outputId": "7303c2d2-c70d-4fa1-eb27-e10c5f3aa6f4"
   },
   "outputs": [
    {
     "data": {
      "text/plain": [
       "(971, 169)"
      ]
     },
     "execution_count": 31,
     "metadata": {},
     "output_type": "execute_result"
    }
   ],
   "source": [
    "#Salvando todos os dados que não possuem a evolução vazia\n",
    "covidNewData = newData9.loc[covidData['CLASSI_FIN'].notnull()]\n",
    "covidNewData.shape\n"
   ]
  },
  {
   "cell_type": "code",
   "execution_count": 32,
   "metadata": {
    "colab": {
     "base_uri": "https://localhost:8080/"
    },
    "executionInfo": {
     "elapsed": 856,
     "status": "ok",
     "timestamp": 1606845779690,
     "user": {
      "displayName": "WALLACE DUARTE DE HOLANDA",
      "photoUrl": "https://lh3.googleusercontent.com/a-/AOh14GgeWMOt53non50jDB5bIAwurrZleD5e6T7yfR9w=s64",
      "userId": "03474631865123362594"
     },
     "user_tz": 180
    },
    "id": "ecNL89zWV4V4",
    "outputId": "028ab363-47f1-48de-9263-cd368c38445f"
   },
   "outputs": [
    {
     "data": {
      "text/plain": [
       "1    561\n",
       "0    410\n",
       "Name: CS_SEXO, dtype: int64"
      ]
     },
     "execution_count": 32,
     "metadata": {},
     "output_type": "execute_result"
    }
   ],
   "source": [
    "#Substituindo Valores do campo Sexo\n",
    "covidNewData['CS_SEXO'].replace('F', 0, inplace = True);\n",
    "covidNewData['CS_SEXO'].replace('M', 1, inplace = True);\n",
    "covidNewData.CS_SEXO.value_counts()\n"
   ]
  },
  {
   "cell_type": "code",
   "execution_count": 33,
   "metadata": {},
   "outputs": [
    {
     "data": {
      "text/plain": [
       "(971, 169)"
      ]
     },
     "execution_count": 33,
     "metadata": {},
     "output_type": "execute_result"
    }
   ],
   "source": [
    "covidNewData.drop(covidNewData[covidNewData.EVOLUCAO == 9].index, inplace = True)\n",
    "covidNewData.shape"
   ]
  },
  {
   "cell_type": "code",
   "execution_count": 34,
   "metadata": {
    "colab": {
     "base_uri": "https://localhost:8080/"
    },
    "executionInfo": {
     "elapsed": 890,
     "status": "ok",
     "timestamp": 1606845796275,
     "user": {
      "displayName": "WALLACE DUARTE DE HOLANDA",
      "photoUrl": "https://lh3.googleusercontent.com/a-/AOh14GgeWMOt53non50jDB5bIAwurrZleD5e6T7yfR9w=s64",
      "userId": "03474631865123362594"
     },
     "user_tz": 180
    },
    "id": "jJ_NoPHylW7-",
    "outputId": "7ca2ef88-db6e-440b-81b6-91c7a07b5b32"
   },
   "outputs": [
    {
     "data": {
      "text/plain": [
       "(971, 169)"
      ]
     },
     "execution_count": 34,
     "metadata": {},
     "output_type": "execute_result"
    }
   ],
   "source": [
    "#Colocando apenas as instâncias do COVID\n",
    "covidNewData.drop(covidNewData[covidNewData.CLASSI_FIN == 5].index, inplace = True)\n",
    "covidNewData.shape"
   ]
  },
  {
   "cell_type": "code",
   "execution_count": 35,
   "metadata": {},
   "outputs": [],
   "source": [
    "write = pd.ExcelWriter('dados-com-covid.xlsx')\n",
    "covidNewData.to_excel(write, 'comCovid', index = False)\n",
    "write.save()"
   ]
  },
  {
   "cell_type": "code",
   "execution_count": 36,
   "metadata": {
    "colab": {
     "base_uri": "https://localhost:8080/"
    },
    "executionInfo": {
     "elapsed": 898,
     "status": "ok",
     "timestamp": 1606845799741,
     "user": {
      "displayName": "WALLACE DUARTE DE HOLANDA",
      "photoUrl": "https://lh3.googleusercontent.com/a-/AOh14GgeWMOt53non50jDB5bIAwurrZleD5e6T7yfR9w=s64",
      "userId": "03474631865123362594"
     },
     "user_tz": 180
    },
    "id": "MYCff4MEYo8T",
    "outputId": "8e39f534-e7b3-4362-f181-b1d77a8e8fbd"
   },
   "outputs": [
    {
     "data": {
      "text/plain": [
       "(971, 30)"
      ]
     },
     "execution_count": 36,
     "metadata": {},
     "output_type": "execute_result"
    }
   ],
   "source": [
    "#Filtrando os atributos\n",
    "attributes = [\"CS_SEXO\", \"NU_IDADE_N\", \"CS_RACA\", \"SURTO_SG\", \"FEBRE\", \"TOSSE\", \"GARGANTA\", \n",
    "              \"DISPNEIA\", \"DESC_RESP\", \"SATURACAO\", \"DIARREIA\",\"VOMITO\", \"FATOR_RISC\", \"PUERPERA\", \"CARDIOPATI\", \n",
    "              \"HEMATOLOGI\", \"SIND_DOWN\", \"HEPATICA\", \"ASMA\", \"DIABETES\", \"NEUROLOGIC\",\"PNEUMOPATI\",\n",
    "              \"IMUNODEPRE\", \"RENAL\", \"OBESIDADE\", \"UTI\", \"SUPORT_VEN\", \"DT_INTERNA\", \"DT_EVOLUCA\", 'EVOLUCAO']\n",
    "\n",
    "newAttributes = [\"NU_IDADE_N\", \"CS_RACA\", \"SURTO_SG\", \"FEBRE\", \"TOSSE\", \"GARGANTA\", \n",
    "              \"DISPNEIA\", \"DESC_RESP\", \"SATURACAO\", \"DIARREIA\",\"VOMITO\", \"CARDIOPATI\", \n",
    "              \"DIABETES\", \"PNEUMOPATI\", \"OBESIDADE\", \"UTI\", \"SUPORT_VEN\", \"CLASSI_FIN\", \"EVOLUCAO\"]\n",
    "\n",
    "dbCovid = covidNewData[attributes];\n",
    "dbCovid.shape\n"
   ]
  },
  {
   "cell_type": "code",
   "execution_count": 37,
   "metadata": {
    "id": "kh3NjQtdnwWm"
   },
   "outputs": [
    {
     "name": "stderr",
     "output_type": "stream",
     "text": [
      "C:\\Users\\walla\\anaconda3\\lib\\site-packages\\pandas\\core\\generic.py:6746: SettingWithCopyWarning: \n",
      "A value is trying to be set on a copy of a slice from a DataFrame\n",
      "\n",
      "See the caveats in the documentation: https://pandas.pydata.org/pandas-docs/stable/user_guide/indexing.html#returning-a-view-versus-a-copy\n",
      "  self._update_inplace(new_data)\n"
     ]
    }
   ],
   "source": [
    "#Substituindo as idades por classificação\n",
    "for i in range (0, 12):\n",
    "    dbCovid['NU_IDADE_N'].replace(i, 'CRIANCA', inplace = True)\n",
    "    \n",
    "for i in range (12, 18):\n",
    "    dbCovid['NU_IDADE_N'].replace(i, 'JOVEM', inplace = True)\n",
    "    \n",
    "for i in range (18, 30):\n",
    "    dbCovid['NU_IDADE_N'].replace(i, 'ADULTO1', inplace = True)\n",
    "\n",
    "for i in range (30, 45):\n",
    "    dbCovid['NU_IDADE_N'].replace(i, 'ADULTO2', inplace = True)\n",
    "\n",
    "for i in range (45, 60):\n",
    "    dbCovid['NU_IDADE_N'].replace(i, 'ADULTO3', inplace = True)\n",
    "\n",
    "for i in range (60, 75):\n",
    "    dbCovid['NU_IDADE_N'].replace(i, 'IDOSO1', inplace = True)\n",
    "\n",
    "for i in range (75, 90):\n",
    "    dbCovid['NU_IDADE_N'].replace(i, 'IDOSO2', inplace = True)\n",
    "\n",
    "for i in range (90, 115):\n",
    "    dbCovid['NU_IDADE_N'].replace(i, 'IDOSO3', inplace = True)"
   ]
  },
  {
   "cell_type": "code",
   "execution_count": 41,
   "metadata": {},
   "outputs": [
    {
     "ename": "AttributeError",
     "evalue": "Can only use .dt accessor with datetimelike values",
     "output_type": "error",
     "traceback": [
      "\u001b[1;31m---------------------------------------------------------------------------\u001b[0m",
      "\u001b[1;31mAttributeError\u001b[0m                            Traceback (most recent call last)",
      "\u001b[1;32m<ipython-input-41-1fe1339e9bd7>\u001b[0m in \u001b[0;36m<module>\u001b[1;34m\u001b[0m\n\u001b[0;32m      2\u001b[0m \u001b[0maux_time\u001b[0m \u001b[1;33m=\u001b[0m \u001b[0mdbCovid\u001b[0m\u001b[1;33m\u001b[0m\u001b[1;33m\u001b[0m\u001b[0m\n\u001b[0;32m      3\u001b[0m \u001b[1;31m#dbCovid['DT_INTERNA'] = aux_time['DT_INTERNA'].dt.strftime('%d/%m/%Y')\u001b[0m\u001b[1;33m\u001b[0m\u001b[1;33m\u001b[0m\u001b[1;33m\u001b[0m\u001b[0m\n\u001b[1;32m----> 4\u001b[1;33m \u001b[0mdbCovid\u001b[0m\u001b[1;33m[\u001b[0m\u001b[1;34m'DT_EVOLUCA'\u001b[0m\u001b[1;33m]\u001b[0m \u001b[1;33m=\u001b[0m \u001b[0maux_time\u001b[0m\u001b[1;33m[\u001b[0m\u001b[1;34m'DT_EVOLUCA'\u001b[0m\u001b[1;33m]\u001b[0m\u001b[1;33m.\u001b[0m\u001b[0mdt\u001b[0m\u001b[1;33m.\u001b[0m\u001b[0mstrftime\u001b[0m\u001b[1;33m(\u001b[0m\u001b[1;34m'%d/%m/%Y'\u001b[0m\u001b[1;33m)\u001b[0m\u001b[1;33m\u001b[0m\u001b[1;33m\u001b[0m\u001b[0m\n\u001b[0m\u001b[0;32m      5\u001b[0m \u001b[1;33m\u001b[0m\u001b[0m\n",
      "\u001b[1;32m~\\anaconda3\\lib\\site-packages\\pandas\\core\\generic.py\u001b[0m in \u001b[0;36m__getattr__\u001b[1;34m(self, name)\u001b[0m\n\u001b[0;32m   5268\u001b[0m             \u001b[1;32mor\u001b[0m \u001b[0mname\u001b[0m \u001b[1;32min\u001b[0m \u001b[0mself\u001b[0m\u001b[1;33m.\u001b[0m\u001b[0m_accessors\u001b[0m\u001b[1;33m\u001b[0m\u001b[1;33m\u001b[0m\u001b[0m\n\u001b[0;32m   5269\u001b[0m         ):\n\u001b[1;32m-> 5270\u001b[1;33m             \u001b[1;32mreturn\u001b[0m \u001b[0mobject\u001b[0m\u001b[1;33m.\u001b[0m\u001b[0m__getattribute__\u001b[0m\u001b[1;33m(\u001b[0m\u001b[0mself\u001b[0m\u001b[1;33m,\u001b[0m \u001b[0mname\u001b[0m\u001b[1;33m)\u001b[0m\u001b[1;33m\u001b[0m\u001b[1;33m\u001b[0m\u001b[0m\n\u001b[0m\u001b[0;32m   5271\u001b[0m         \u001b[1;32melse\u001b[0m\u001b[1;33m:\u001b[0m\u001b[1;33m\u001b[0m\u001b[1;33m\u001b[0m\u001b[0m\n\u001b[0;32m   5272\u001b[0m             \u001b[1;32mif\u001b[0m \u001b[0mself\u001b[0m\u001b[1;33m.\u001b[0m\u001b[0m_info_axis\u001b[0m\u001b[1;33m.\u001b[0m\u001b[0m_can_hold_identifiers_and_holds_name\u001b[0m\u001b[1;33m(\u001b[0m\u001b[0mname\u001b[0m\u001b[1;33m)\u001b[0m\u001b[1;33m:\u001b[0m\u001b[1;33m\u001b[0m\u001b[1;33m\u001b[0m\u001b[0m\n",
      "\u001b[1;32m~\\anaconda3\\lib\\site-packages\\pandas\\core\\accessor.py\u001b[0m in \u001b[0;36m__get__\u001b[1;34m(self, obj, cls)\u001b[0m\n\u001b[0;32m    185\u001b[0m             \u001b[1;31m# we're accessing the attribute of the class, i.e., Dataset.geo\u001b[0m\u001b[1;33m\u001b[0m\u001b[1;33m\u001b[0m\u001b[1;33m\u001b[0m\u001b[0m\n\u001b[0;32m    186\u001b[0m             \u001b[1;32mreturn\u001b[0m \u001b[0mself\u001b[0m\u001b[1;33m.\u001b[0m\u001b[0m_accessor\u001b[0m\u001b[1;33m\u001b[0m\u001b[1;33m\u001b[0m\u001b[0m\n\u001b[1;32m--> 187\u001b[1;33m         \u001b[0maccessor_obj\u001b[0m \u001b[1;33m=\u001b[0m \u001b[0mself\u001b[0m\u001b[1;33m.\u001b[0m\u001b[0m_accessor\u001b[0m\u001b[1;33m(\u001b[0m\u001b[0mobj\u001b[0m\u001b[1;33m)\u001b[0m\u001b[1;33m\u001b[0m\u001b[1;33m\u001b[0m\u001b[0m\n\u001b[0m\u001b[0;32m    188\u001b[0m         \u001b[1;31m# Replace the property with the accessor object. Inspired by:\u001b[0m\u001b[1;33m\u001b[0m\u001b[1;33m\u001b[0m\u001b[1;33m\u001b[0m\u001b[0m\n\u001b[0;32m    189\u001b[0m         \u001b[1;31m# http://www.pydanny.com/cached-property.html\u001b[0m\u001b[1;33m\u001b[0m\u001b[1;33m\u001b[0m\u001b[1;33m\u001b[0m\u001b[0m\n",
      "\u001b[1;32m~\\anaconda3\\lib\\site-packages\\pandas\\core\\indexes\\accessors.py\u001b[0m in \u001b[0;36m__new__\u001b[1;34m(cls, data)\u001b[0m\n\u001b[0;32m    336\u001b[0m             \u001b[1;32mreturn\u001b[0m \u001b[0mDatetimeProperties\u001b[0m\u001b[1;33m(\u001b[0m\u001b[0mdata\u001b[0m\u001b[1;33m,\u001b[0m \u001b[0morig\u001b[0m\u001b[1;33m)\u001b[0m\u001b[1;33m\u001b[0m\u001b[1;33m\u001b[0m\u001b[0m\n\u001b[0;32m    337\u001b[0m \u001b[1;33m\u001b[0m\u001b[0m\n\u001b[1;32m--> 338\u001b[1;33m         \u001b[1;32mraise\u001b[0m \u001b[0mAttributeError\u001b[0m\u001b[1;33m(\u001b[0m\u001b[1;34m\"Can only use .dt accessor with datetimelike values\"\u001b[0m\u001b[1;33m)\u001b[0m\u001b[1;33m\u001b[0m\u001b[1;33m\u001b[0m\u001b[0m\n\u001b[0m",
      "\u001b[1;31mAttributeError\u001b[0m: Can only use .dt accessor with datetimelike values"
     ]
    }
   ],
   "source": [
    "#Convertendo o formato da data de internação para o DD/MM/YYYY\n",
    "aux_time = dbCovid\n",
    "dbCovid['DT_INTERNA'] = aux_time['DT_INTERNA'].dt.strftime('%d/%m/%Y')\n",
    "dbCovid['DT_EVOLUCA'] = aux_time['DT_EVOLUCA'].dt.strftime('%d/%m/%Y')\n",
    "\n"
   ]
  },
  {
   "cell_type": "code",
   "execution_count": 42,
   "metadata": {},
   "outputs": [
    {
     "data": {
      "text/html": [
       "<div>\n",
       "<style scoped>\n",
       "    .dataframe tbody tr th:only-of-type {\n",
       "        vertical-align: middle;\n",
       "    }\n",
       "\n",
       "    .dataframe tbody tr th {\n",
       "        vertical-align: top;\n",
       "    }\n",
       "\n",
       "    .dataframe thead th {\n",
       "        text-align: right;\n",
       "    }\n",
       "</style>\n",
       "<table border=\"1\" class=\"dataframe\">\n",
       "  <thead>\n",
       "    <tr style=\"text-align: right;\">\n",
       "      <th></th>\n",
       "      <th>CS_SEXO</th>\n",
       "      <th>NU_IDADE_N</th>\n",
       "      <th>CS_RACA</th>\n",
       "      <th>SURTO_SG</th>\n",
       "      <th>FEBRE</th>\n",
       "      <th>TOSSE</th>\n",
       "      <th>GARGANTA</th>\n",
       "      <th>DISPNEIA</th>\n",
       "      <th>DESC_RESP</th>\n",
       "      <th>SATURACAO</th>\n",
       "      <th>...</th>\n",
       "      <th>NEUROLOGIC</th>\n",
       "      <th>PNEUMOPATI</th>\n",
       "      <th>IMUNODEPRE</th>\n",
       "      <th>RENAL</th>\n",
       "      <th>OBESIDADE</th>\n",
       "      <th>UTI</th>\n",
       "      <th>SUPORT_VEN</th>\n",
       "      <th>DT_INTERNA</th>\n",
       "      <th>DT_EVOLUCA</th>\n",
       "      <th>EVOLUCAO</th>\n",
       "    </tr>\n",
       "  </thead>\n",
       "  <tbody>\n",
       "    <tr>\n",
       "      <th>0</th>\n",
       "      <td>0</td>\n",
       "      <td>CRIANCA</td>\n",
       "      <td>9.0</td>\n",
       "      <td>2.0</td>\n",
       "      <td>1.0</td>\n",
       "      <td>1.0</td>\n",
       "      <td>2.0</td>\n",
       "      <td>1.0</td>\n",
       "      <td>1.0</td>\n",
       "      <td>1.0</td>\n",
       "      <td>...</td>\n",
       "      <td>2.0</td>\n",
       "      <td>2.0</td>\n",
       "      <td>2.0</td>\n",
       "      <td>2.0</td>\n",
       "      <td>2.0</td>\n",
       "      <td>2</td>\n",
       "      <td>3.0</td>\n",
       "      <td>2020-03-11 00:00:00</td>\n",
       "      <td>13/03/2020</td>\n",
       "      <td>1</td>\n",
       "    </tr>\n",
       "    <tr>\n",
       "      <th>2</th>\n",
       "      <td>1</td>\n",
       "      <td>ADULTO1</td>\n",
       "      <td>4.0</td>\n",
       "      <td>2.0</td>\n",
       "      <td>1.0</td>\n",
       "      <td>1.0</td>\n",
       "      <td>2.0</td>\n",
       "      <td>1.0</td>\n",
       "      <td>1.0</td>\n",
       "      <td>1.0</td>\n",
       "      <td>...</td>\n",
       "      <td>2.0</td>\n",
       "      <td>2.0</td>\n",
       "      <td>2.0</td>\n",
       "      <td>1.0</td>\n",
       "      <td>2.0</td>\n",
       "      <td>2</td>\n",
       "      <td>2.0</td>\n",
       "      <td>2020-03-15 00:00:00</td>\n",
       "      <td>31/03/2020</td>\n",
       "      <td>1</td>\n",
       "    </tr>\n",
       "    <tr>\n",
       "      <th>3</th>\n",
       "      <td>1</td>\n",
       "      <td>IDOSO2</td>\n",
       "      <td>4.0</td>\n",
       "      <td>2.0</td>\n",
       "      <td>2.0</td>\n",
       "      <td>1.0</td>\n",
       "      <td>2.0</td>\n",
       "      <td>1.0</td>\n",
       "      <td>1.0</td>\n",
       "      <td>1.0</td>\n",
       "      <td>...</td>\n",
       "      <td>2.0</td>\n",
       "      <td>2.0</td>\n",
       "      <td>2.0</td>\n",
       "      <td>1.0</td>\n",
       "      <td>2.0</td>\n",
       "      <td>1</td>\n",
       "      <td>2.0</td>\n",
       "      <td>2020-03-17 00:00:00</td>\n",
       "      <td>01/04/2020</td>\n",
       "      <td>1</td>\n",
       "    </tr>\n",
       "    <tr>\n",
       "      <th>4</th>\n",
       "      <td>1</td>\n",
       "      <td>IDOSO1</td>\n",
       "      <td>4.0</td>\n",
       "      <td>2.0</td>\n",
       "      <td>1.0</td>\n",
       "      <td>1.0</td>\n",
       "      <td>1.0</td>\n",
       "      <td>1.0</td>\n",
       "      <td>1.0</td>\n",
       "      <td>1.0</td>\n",
       "      <td>...</td>\n",
       "      <td>2.0</td>\n",
       "      <td>2.0</td>\n",
       "      <td>2.0</td>\n",
       "      <td>2.0</td>\n",
       "      <td>2.0</td>\n",
       "      <td>2</td>\n",
       "      <td>2.0</td>\n",
       "      <td>2020-03-13 00:00:00</td>\n",
       "      <td>22/03/2020</td>\n",
       "      <td>1</td>\n",
       "    </tr>\n",
       "    <tr>\n",
       "      <th>5</th>\n",
       "      <td>0</td>\n",
       "      <td>ADULTO3</td>\n",
       "      <td>4.0</td>\n",
       "      <td>2.0</td>\n",
       "      <td>1.0</td>\n",
       "      <td>1.0</td>\n",
       "      <td>1.0</td>\n",
       "      <td>1.0</td>\n",
       "      <td>1.0</td>\n",
       "      <td>1.0</td>\n",
       "      <td>...</td>\n",
       "      <td>2.0</td>\n",
       "      <td>2.0</td>\n",
       "      <td>2.0</td>\n",
       "      <td>2.0</td>\n",
       "      <td>2.0</td>\n",
       "      <td>1</td>\n",
       "      <td>2.0</td>\n",
       "      <td>2020-03-20 00:00:00</td>\n",
       "      <td>11/04/2020</td>\n",
       "      <td>1</td>\n",
       "    </tr>\n",
       "    <tr>\n",
       "      <th>...</th>\n",
       "      <td>...</td>\n",
       "      <td>...</td>\n",
       "      <td>...</td>\n",
       "      <td>...</td>\n",
       "      <td>...</td>\n",
       "      <td>...</td>\n",
       "      <td>...</td>\n",
       "      <td>...</td>\n",
       "      <td>...</td>\n",
       "      <td>...</td>\n",
       "      <td>...</td>\n",
       "      <td>...</td>\n",
       "      <td>...</td>\n",
       "      <td>...</td>\n",
       "      <td>...</td>\n",
       "      <td>...</td>\n",
       "      <td>...</td>\n",
       "      <td>...</td>\n",
       "      <td>...</td>\n",
       "      <td>...</td>\n",
       "      <td>...</td>\n",
       "    </tr>\n",
       "    <tr>\n",
       "      <th>1296</th>\n",
       "      <td>0</td>\n",
       "      <td>IDOSO2</td>\n",
       "      <td>1.0</td>\n",
       "      <td>2.0</td>\n",
       "      <td>2.0</td>\n",
       "      <td>1.0</td>\n",
       "      <td>2.0</td>\n",
       "      <td>1.0</td>\n",
       "      <td>1.0</td>\n",
       "      <td>1.0</td>\n",
       "      <td>...</td>\n",
       "      <td>2.0</td>\n",
       "      <td>1.0</td>\n",
       "      <td>2.0</td>\n",
       "      <td>2.0</td>\n",
       "      <td>2.0</td>\n",
       "      <td>2</td>\n",
       "      <td>2.0</td>\n",
       "      <td>2020-08-28 00:00:00</td>\n",
       "      <td>29/08/2020</td>\n",
       "      <td>2</td>\n",
       "    </tr>\n",
       "    <tr>\n",
       "      <th>1297</th>\n",
       "      <td>0</td>\n",
       "      <td>IDOSO1</td>\n",
       "      <td>1.0</td>\n",
       "      <td>2.0</td>\n",
       "      <td>1.0</td>\n",
       "      <td>2.0</td>\n",
       "      <td>2.0</td>\n",
       "      <td>1.0</td>\n",
       "      <td>2.0</td>\n",
       "      <td>1.0</td>\n",
       "      <td>...</td>\n",
       "      <td>2.0</td>\n",
       "      <td>2.0</td>\n",
       "      <td>2.0</td>\n",
       "      <td>2.0</td>\n",
       "      <td>2.0</td>\n",
       "      <td>2</td>\n",
       "      <td>3.0</td>\n",
       "      <td>2020-08-28 00:00:00</td>\n",
       "      <td>01/09/2020</td>\n",
       "      <td>1</td>\n",
       "    </tr>\n",
       "    <tr>\n",
       "      <th>1303</th>\n",
       "      <td>1</td>\n",
       "      <td>ADULTO3</td>\n",
       "      <td>4.0</td>\n",
       "      <td>2.0</td>\n",
       "      <td>2.0</td>\n",
       "      <td>1.0</td>\n",
       "      <td>1.0</td>\n",
       "      <td>1.0</td>\n",
       "      <td>1.0</td>\n",
       "      <td>1.0</td>\n",
       "      <td>...</td>\n",
       "      <td>1.0</td>\n",
       "      <td>2.0</td>\n",
       "      <td>2.0</td>\n",
       "      <td>2.0</td>\n",
       "      <td>2.0</td>\n",
       "      <td>1</td>\n",
       "      <td>2.0</td>\n",
       "      <td>NaN</td>\n",
       "      <td>02/09/2020</td>\n",
       "      <td>2</td>\n",
       "    </tr>\n",
       "    <tr>\n",
       "      <th>1304</th>\n",
       "      <td>0</td>\n",
       "      <td>IDOSO1</td>\n",
       "      <td>4.0</td>\n",
       "      <td>2.0</td>\n",
       "      <td>2.0</td>\n",
       "      <td>1.0</td>\n",
       "      <td>2.0</td>\n",
       "      <td>1.0</td>\n",
       "      <td>2.0</td>\n",
       "      <td>1.0</td>\n",
       "      <td>...</td>\n",
       "      <td>2.0</td>\n",
       "      <td>1.0</td>\n",
       "      <td>2.0</td>\n",
       "      <td>2.0</td>\n",
       "      <td>2.0</td>\n",
       "      <td>2</td>\n",
       "      <td>2.0</td>\n",
       "      <td>2020-08-25 00:00:00</td>\n",
       "      <td>31/08/2020</td>\n",
       "      <td>1</td>\n",
       "    </tr>\n",
       "    <tr>\n",
       "      <th>1382</th>\n",
       "      <td>0</td>\n",
       "      <td>ADULTO3</td>\n",
       "      <td>4.0</td>\n",
       "      <td>2.0</td>\n",
       "      <td>2.0</td>\n",
       "      <td>2.0</td>\n",
       "      <td>1.0</td>\n",
       "      <td>1.0</td>\n",
       "      <td>2.0</td>\n",
       "      <td>2.0</td>\n",
       "      <td>...</td>\n",
       "      <td>1.0</td>\n",
       "      <td>2.0</td>\n",
       "      <td>2.0</td>\n",
       "      <td>2.0</td>\n",
       "      <td>2.0</td>\n",
       "      <td>2020-10-08 00:00:00</td>\n",
       "      <td>6.0</td>\n",
       "      <td>RN</td>\n",
       "      <td>2020-12-16 00:00:00</td>\n",
       "      <td>2020-10-09 00:00:00</td>\n",
       "    </tr>\n",
       "  </tbody>\n",
       "</table>\n",
       "<p>971 rows × 30 columns</p>\n",
       "</div>"
      ],
      "text/plain": [
       "      CS_SEXO NU_IDADE_N  CS_RACA  SURTO_SG  FEBRE  TOSSE  GARGANTA  DISPNEIA  \\\n",
       "0           0    CRIANCA      9.0       2.0    1.0    1.0       2.0       1.0   \n",
       "2           1    ADULTO1      4.0       2.0    1.0    1.0       2.0       1.0   \n",
       "3           1     IDOSO2      4.0       2.0    2.0    1.0       2.0       1.0   \n",
       "4           1     IDOSO1      4.0       2.0    1.0    1.0       1.0       1.0   \n",
       "5           0    ADULTO3      4.0       2.0    1.0    1.0       1.0       1.0   \n",
       "...       ...        ...      ...       ...    ...    ...       ...       ...   \n",
       "1296        0     IDOSO2      1.0       2.0    2.0    1.0       2.0       1.0   \n",
       "1297        0     IDOSO1      1.0       2.0    1.0    2.0       2.0       1.0   \n",
       "1303        1    ADULTO3      4.0       2.0    2.0    1.0       1.0       1.0   \n",
       "1304        0     IDOSO1      4.0       2.0    2.0    1.0       2.0       1.0   \n",
       "1382        0    ADULTO3      4.0       2.0    2.0    2.0       1.0       1.0   \n",
       "\n",
       "      DESC_RESP  SATURACAO  ...  NEUROLOGIC  PNEUMOPATI  IMUNODEPRE  RENAL  \\\n",
       "0           1.0        1.0  ...         2.0         2.0         2.0    2.0   \n",
       "2           1.0        1.0  ...         2.0         2.0         2.0    1.0   \n",
       "3           1.0        1.0  ...         2.0         2.0         2.0    1.0   \n",
       "4           1.0        1.0  ...         2.0         2.0         2.0    2.0   \n",
       "5           1.0        1.0  ...         2.0         2.0         2.0    2.0   \n",
       "...         ...        ...  ...         ...         ...         ...    ...   \n",
       "1296        1.0        1.0  ...         2.0         1.0         2.0    2.0   \n",
       "1297        2.0        1.0  ...         2.0         2.0         2.0    2.0   \n",
       "1303        1.0        1.0  ...         1.0         2.0         2.0    2.0   \n",
       "1304        2.0        1.0  ...         2.0         1.0         2.0    2.0   \n",
       "1382        2.0        2.0  ...         1.0         2.0         2.0    2.0   \n",
       "\n",
       "      OBESIDADE                  UTI  SUPORT_VEN           DT_INTERNA  \\\n",
       "0           2.0                    2         3.0  2020-03-11 00:00:00   \n",
       "2           2.0                    2         2.0  2020-03-15 00:00:00   \n",
       "3           2.0                    1         2.0  2020-03-17 00:00:00   \n",
       "4           2.0                    2         2.0  2020-03-13 00:00:00   \n",
       "5           2.0                    1         2.0  2020-03-20 00:00:00   \n",
       "...         ...                  ...         ...                  ...   \n",
       "1296        2.0                    2         2.0  2020-08-28 00:00:00   \n",
       "1297        2.0                    2         3.0  2020-08-28 00:00:00   \n",
       "1303        2.0                    1         2.0                  NaN   \n",
       "1304        2.0                    2         2.0  2020-08-25 00:00:00   \n",
       "1382        2.0  2020-10-08 00:00:00         6.0                   RN   \n",
       "\n",
       "               DT_EVOLUCA             EVOLUCAO  \n",
       "0              13/03/2020                    1  \n",
       "2              31/03/2020                    1  \n",
       "3              01/04/2020                    1  \n",
       "4              22/03/2020                    1  \n",
       "5              11/04/2020                    1  \n",
       "...                   ...                  ...  \n",
       "1296           29/08/2020                    2  \n",
       "1297           01/09/2020                    1  \n",
       "1303           02/09/2020                    2  \n",
       "1304           31/08/2020                    1  \n",
       "1382  2020-12-16 00:00:00  2020-10-09 00:00:00  \n",
       "\n",
       "[971 rows x 30 columns]"
      ]
     },
     "execution_count": 42,
     "metadata": {},
     "output_type": "execute_result"
    }
   ],
   "source": [
    "# Imprimindo com a data formatada\n",
    "dbCovid"
   ]
  },
  {
   "cell_type": "code",
   "execution_count": 43,
   "metadata": {},
   "outputs": [
    {
     "name": "stderr",
     "output_type": "stream",
     "text": [
      "C:\\Users\\walla\\anaconda3\\lib\\site-packages\\pandas\\core\\generic.py:6245: SettingWithCopyWarning: \n",
      "A value is trying to be set on a copy of a slice from a DataFrame\n",
      "\n",
      "See the caveats in the documentation: https://pandas.pydata.org/pandas-docs/stable/user_guide/indexing.html#returning-a-view-versus-a-copy\n",
      "  self._update_inplace(new_data)\n"
     ]
    }
   ],
   "source": [
    "# Preenchendo as datas vazias com 'vazio'\n",
    "dbCovid['DT_INTERNA'].fillna('Vazio', inplace = True)\n",
    "dbCovid['DT_EVOLUCA'].fillna('Vazio', inplace = True)\n"
   ]
  },
  {
   "cell_type": "code",
   "execution_count": 44,
   "metadata": {},
   "outputs": [
    {
     "data": {
      "text/plain": [
       "971"
      ]
     },
     "execution_count": 44,
     "metadata": {},
     "output_type": "execute_result"
    }
   ],
   "source": [
    "# Convertendo os valores das colunas em vetores\n",
    "internacao_vector = dbCovid['DT_INTERNA'].array\n",
    "evolucao_vector = dbCovid['DT_EVOLUCA'].array\n",
    "\n",
    "#internacao_vector\n",
    "len(evolucao_vector)"
   ]
  },
  {
   "cell_type": "code",
   "execution_count": 45,
   "metadata": {},
   "outputs": [],
   "source": [
    "# Verificando se o valor NaN foi substituido\n",
    "#qnt_faltantes = (dbCovid.isnull().sum())\n",
    "#qnt_faltantes['DT_EVOLUCA']"
   ]
  },
  {
   "cell_type": "code",
   "execution_count": 46,
   "metadata": {
    "scrolled": false
   },
   "outputs": [
    {
     "data": {
      "text/plain": [
       "<PandasArray>\n",
       "[                         '13/03/2020',                          '31/03/2020',\n",
       "                          '01/04/2020',                          '22/03/2020',\n",
       "                          '11/04/2020',                          '17/04/2020',\n",
       "                          '20/03/2020',                          '21/04/2020',\n",
       "                          '28/03/2020',                          '28/03/2020',\n",
       " ...\n",
       "                          '26/08/2020',                          '31/08/2020',\n",
       "                          '08/09/2020',                          '29/08/2020',\n",
       "                          '30/08/2020',                          '29/08/2020',\n",
       "                          '01/09/2020',                          '02/09/2020',\n",
       "                          '31/08/2020', datetime.datetime(2020, 12, 16, 0, 0)]\n",
       "Length: 971, dtype: object"
      ]
     },
     "execution_count": 46,
     "metadata": {},
     "output_type": "execute_result"
    }
   ],
   "source": [
    "#Trocando os valor vazios\n",
    "#Acessar o valor de uma coluna específica: dbCovid.iloc[i]['DT_EVOLUCA'] = dbCovid.iloc[i]['DT_INTERNA']\n",
    "\n",
    "qnt_dates = dbCovid['DT_EVOLUCA'].shape[0]\n",
    "i = 0\n",
    "while(i < qnt_dates):\n",
    "    if(internacao_vector[i] == 'Vazio'):\n",
    "        internacao_vector[i] = evolucao_vector[i]\n",
    "    \n",
    "    if(evolucao_vector[i] == 'Vazio'):\n",
    "        evolucao_vector[i] = internacao_vector[i]\n",
    "    i = i + 1\n",
    "\n",
    "evolucao_vector"
   ]
  },
  {
   "cell_type": "code",
   "execution_count": 47,
   "metadata": {},
   "outputs": [
    {
     "ename": "TypeError",
     "evalue": "strptime() argument 1 must be str, not datetime.datetime",
     "output_type": "error",
     "traceback": [
      "\u001b[1;31m---------------------------------------------------------------------------\u001b[0m",
      "\u001b[1;31mTypeError\u001b[0m                                 Traceback (most recent call last)",
      "\u001b[1;32m<ipython-input-47-3cf94c073514>\u001b[0m in \u001b[0;36m<module>\u001b[1;34m\u001b[0m\n\u001b[0;32m      9\u001b[0m     \u001b[1;31m#evolucao_data = evolucao_vector[i].strftime('%d/%m/%Y')\u001b[0m\u001b[1;33m\u001b[0m\u001b[1;33m\u001b[0m\u001b[1;33m\u001b[0m\u001b[0m\n\u001b[0;32m     10\u001b[0m \u001b[1;33m\u001b[0m\u001b[0m\n\u001b[1;32m---> 11\u001b[1;33m     \u001b[0mdate_ini\u001b[0m \u001b[1;33m=\u001b[0m \u001b[0mdatetime\u001b[0m\u001b[1;33m.\u001b[0m\u001b[0mstrptime\u001b[0m\u001b[1;33m(\u001b[0m\u001b[0minternacao_vector\u001b[0m\u001b[1;33m[\u001b[0m\u001b[0mi\u001b[0m\u001b[1;33m]\u001b[0m\u001b[1;33m,\u001b[0m \u001b[1;34m'%d/%m/%Y'\u001b[0m\u001b[1;33m)\u001b[0m\u001b[1;33m.\u001b[0m\u001b[0mdate\u001b[0m\u001b[1;33m(\u001b[0m\u001b[1;33m)\u001b[0m\u001b[1;33m\u001b[0m\u001b[1;33m\u001b[0m\u001b[0m\n\u001b[0m\u001b[0;32m     12\u001b[0m     \u001b[0mdate_fin\u001b[0m \u001b[1;33m=\u001b[0m \u001b[0mdatetime\u001b[0m\u001b[1;33m.\u001b[0m\u001b[0mstrptime\u001b[0m\u001b[1;33m(\u001b[0m\u001b[0mevolucao_vector\u001b[0m\u001b[1;33m[\u001b[0m\u001b[0mi\u001b[0m\u001b[1;33m]\u001b[0m\u001b[1;33m,\u001b[0m \u001b[1;34m'%d/%m/%Y'\u001b[0m\u001b[1;33m)\u001b[0m\u001b[1;33m.\u001b[0m\u001b[0mdate\u001b[0m\u001b[1;33m(\u001b[0m\u001b[1;33m)\u001b[0m\u001b[1;33m\u001b[0m\u001b[1;33m\u001b[0m\u001b[0m\n\u001b[0;32m     13\u001b[0m \u001b[1;33m\u001b[0m\u001b[0m\n",
      "\u001b[1;31mTypeError\u001b[0m: strptime() argument 1 must be str, not datetime.datetime"
     ]
    }
   ],
   "source": [
    "# Identificando a quantidade de dias dos pacientes no hospital\n",
    "from datetime import datetime\n",
    "hospital_days_qnt = []\n",
    "\n",
    "qnt_dates = dbCovid['DT_EVOLUCA'].shape[0]\n",
    "i = 0\n",
    "while(i < qnt_dates):\n",
    "    #internacao_data = internacao_vector[i].strftime('%d/%m/%Y')\n",
    "    #evolucao_data = evolucao_vector[i].strftime('%d/%m/%Y')\n",
    "    \n",
    "    date_ini = datetime.strptime(internacao_vector[i], '%d/%m/%Y').date()\n",
    "    date_fin = datetime.strptime(evolucao_vector[i], '%d/%m/%Y').date()\n",
    "    \n",
    "    num_days = date_fin - date_ini\n",
    "    \n",
    "    hospital_days_qnt.append(num_days.days)\n",
    "    print(i)\n",
    "    i = i + 1"
   ]
  },
  {
   "cell_type": "code",
   "execution_count": 48,
   "metadata": {
    "scrolled": true
   },
   "outputs": [
    {
     "data": {
      "text/plain": [
       "[]"
      ]
     },
     "execution_count": 48,
     "metadata": {},
     "output_type": "execute_result"
    }
   ],
   "source": [
    "#Visualizando a quantidade de dias\n",
    "hospital_days_qnt"
   ]
  },
  {
   "cell_type": "code",
   "execution_count": 120,
   "metadata": {},
   "outputs": [
    {
     "name": "stderr",
     "output_type": "stream",
     "text": [
      "C:\\Users\\walla\\anaconda3\\lib\\site-packages\\ipykernel_launcher.py:2: SettingWithCopyWarning: \n",
      "A value is trying to be set on a copy of a slice from a DataFrame.\n",
      "Try using .loc[row_indexer,col_indexer] = value instead\n",
      "\n",
      "See the caveats in the documentation: https://pandas.pydata.org/pandas-docs/stable/user_guide/indexing.html#returning-a-view-versus-a-copy\n",
      "  \n"
     ]
    },
    {
     "data": {
      "text/html": [
       "<div>\n",
       "<style scoped>\n",
       "    .dataframe tbody tr th:only-of-type {\n",
       "        vertical-align: middle;\n",
       "    }\n",
       "\n",
       "    .dataframe tbody tr th {\n",
       "        vertical-align: top;\n",
       "    }\n",
       "\n",
       "    .dataframe thead th {\n",
       "        text-align: right;\n",
       "    }\n",
       "</style>\n",
       "<table border=\"1\" class=\"dataframe\">\n",
       "  <thead>\n",
       "    <tr style=\"text-align: right;\">\n",
       "      <th></th>\n",
       "      <th>CS_SEXO</th>\n",
       "      <th>NU_IDADE_N</th>\n",
       "      <th>CS_RACA</th>\n",
       "      <th>SURTO_SG</th>\n",
       "      <th>FEBRE</th>\n",
       "      <th>TOSSE</th>\n",
       "      <th>GARGANTA</th>\n",
       "      <th>DISPNEIA</th>\n",
       "      <th>DESC_RESP</th>\n",
       "      <th>SATURACAO</th>\n",
       "      <th>...</th>\n",
       "      <th>DIABETES</th>\n",
       "      <th>NEUROLOGIC</th>\n",
       "      <th>PNEUMOPATI</th>\n",
       "      <th>IMUNODEPRE</th>\n",
       "      <th>RENAL</th>\n",
       "      <th>OBESIDADE</th>\n",
       "      <th>UTI</th>\n",
       "      <th>SUPORT_VEN</th>\n",
       "      <th>EVOLUCAO</th>\n",
       "      <th>QNT_DIAS</th>\n",
       "    </tr>\n",
       "  </thead>\n",
       "  <tbody>\n",
       "    <tr>\n",
       "      <th>7</th>\n",
       "      <td>0</td>\n",
       "      <td>ADULTO3</td>\n",
       "      <td>4.0</td>\n",
       "      <td>2.0</td>\n",
       "      <td>1.0</td>\n",
       "      <td>1.0</td>\n",
       "      <td>1.0</td>\n",
       "      <td>1.0</td>\n",
       "      <td>1.0</td>\n",
       "      <td>1.0</td>\n",
       "      <td>...</td>\n",
       "      <td>2.0</td>\n",
       "      <td>2.0</td>\n",
       "      <td>2.0</td>\n",
       "      <td>2.0</td>\n",
       "      <td>2.0</td>\n",
       "      <td>2.0</td>\n",
       "      <td>1.0</td>\n",
       "      <td>2.0</td>\n",
       "      <td>1.0</td>\n",
       "      <td>22</td>\n",
       "    </tr>\n",
       "    <tr>\n",
       "      <th>10</th>\n",
       "      <td>1</td>\n",
       "      <td>IDOSO1</td>\n",
       "      <td>4.0</td>\n",
       "      <td>2.0</td>\n",
       "      <td>1.0</td>\n",
       "      <td>1.0</td>\n",
       "      <td>1.0</td>\n",
       "      <td>1.0</td>\n",
       "      <td>1.0</td>\n",
       "      <td>1.0</td>\n",
       "      <td>...</td>\n",
       "      <td>1.0</td>\n",
       "      <td>2.0</td>\n",
       "      <td>2.0</td>\n",
       "      <td>2.0</td>\n",
       "      <td>2.0</td>\n",
       "      <td>2.0</td>\n",
       "      <td>2.0</td>\n",
       "      <td>2.0</td>\n",
       "      <td>1.0</td>\n",
       "      <td>5</td>\n",
       "    </tr>\n",
       "    <tr>\n",
       "      <th>12</th>\n",
       "      <td>1</td>\n",
       "      <td>ADULTO3</td>\n",
       "      <td>4.0</td>\n",
       "      <td>2.0</td>\n",
       "      <td>1.0</td>\n",
       "      <td>1.0</td>\n",
       "      <td>2.0</td>\n",
       "      <td>1.0</td>\n",
       "      <td>1.0</td>\n",
       "      <td>1.0</td>\n",
       "      <td>...</td>\n",
       "      <td>2.0</td>\n",
       "      <td>2.0</td>\n",
       "      <td>2.0</td>\n",
       "      <td>2.0</td>\n",
       "      <td>2.0</td>\n",
       "      <td>2.0</td>\n",
       "      <td>2.0</td>\n",
       "      <td>1.0</td>\n",
       "      <td>2.0</td>\n",
       "      <td>2</td>\n",
       "    </tr>\n",
       "    <tr>\n",
       "      <th>16</th>\n",
       "      <td>1</td>\n",
       "      <td>ADULTO3</td>\n",
       "      <td>4.0</td>\n",
       "      <td>2.0</td>\n",
       "      <td>1.0</td>\n",
       "      <td>1.0</td>\n",
       "      <td>2.0</td>\n",
       "      <td>1.0</td>\n",
       "      <td>1.0</td>\n",
       "      <td>1.0</td>\n",
       "      <td>...</td>\n",
       "      <td>1.0</td>\n",
       "      <td>2.0</td>\n",
       "      <td>2.0</td>\n",
       "      <td>2.0</td>\n",
       "      <td>2.0</td>\n",
       "      <td>2.0</td>\n",
       "      <td>1.0</td>\n",
       "      <td>1.0</td>\n",
       "      <td>2.0</td>\n",
       "      <td>14</td>\n",
       "    </tr>\n",
       "    <tr>\n",
       "      <th>17</th>\n",
       "      <td>1</td>\n",
       "      <td>IDOSO1</td>\n",
       "      <td>4.0</td>\n",
       "      <td>2.0</td>\n",
       "      <td>1.0</td>\n",
       "      <td>1.0</td>\n",
       "      <td>2.0</td>\n",
       "      <td>1.0</td>\n",
       "      <td>1.0</td>\n",
       "      <td>1.0</td>\n",
       "      <td>...</td>\n",
       "      <td>2.0</td>\n",
       "      <td>2.0</td>\n",
       "      <td>2.0</td>\n",
       "      <td>2.0</td>\n",
       "      <td>2.0</td>\n",
       "      <td>2.0</td>\n",
       "      <td>2.0</td>\n",
       "      <td>2.0</td>\n",
       "      <td>1.0</td>\n",
       "      <td>6</td>\n",
       "    </tr>\n",
       "    <tr>\n",
       "      <th>...</th>\n",
       "      <td>...</td>\n",
       "      <td>...</td>\n",
       "      <td>...</td>\n",
       "      <td>...</td>\n",
       "      <td>...</td>\n",
       "      <td>...</td>\n",
       "      <td>...</td>\n",
       "      <td>...</td>\n",
       "      <td>...</td>\n",
       "      <td>...</td>\n",
       "      <td>...</td>\n",
       "      <td>...</td>\n",
       "      <td>...</td>\n",
       "      <td>...</td>\n",
       "      <td>...</td>\n",
       "      <td>...</td>\n",
       "      <td>...</td>\n",
       "      <td>...</td>\n",
       "      <td>...</td>\n",
       "      <td>...</td>\n",
       "      <td>...</td>\n",
       "    </tr>\n",
       "    <tr>\n",
       "      <th>1175</th>\n",
       "      <td>1</td>\n",
       "      <td>ADULTO2</td>\n",
       "      <td>4.0</td>\n",
       "      <td>2.0</td>\n",
       "      <td>2.0</td>\n",
       "      <td>1.0</td>\n",
       "      <td>2.0</td>\n",
       "      <td>1.0</td>\n",
       "      <td>1.0</td>\n",
       "      <td>1.0</td>\n",
       "      <td>...</td>\n",
       "      <td>2.0</td>\n",
       "      <td>2.0</td>\n",
       "      <td>2.0</td>\n",
       "      <td>2.0</td>\n",
       "      <td>2.0</td>\n",
       "      <td>2.0</td>\n",
       "      <td>2.0</td>\n",
       "      <td>2.0</td>\n",
       "      <td>1.0</td>\n",
       "      <td>0</td>\n",
       "    </tr>\n",
       "    <tr>\n",
       "      <th>1176</th>\n",
       "      <td>0</td>\n",
       "      <td>IDOSO2</td>\n",
       "      <td>1.0</td>\n",
       "      <td>2.0</td>\n",
       "      <td>1.0</td>\n",
       "      <td>2.0</td>\n",
       "      <td>2.0</td>\n",
       "      <td>2.0</td>\n",
       "      <td>1.0</td>\n",
       "      <td>1.0</td>\n",
       "      <td>...</td>\n",
       "      <td>1.0</td>\n",
       "      <td>2.0</td>\n",
       "      <td>2.0</td>\n",
       "      <td>2.0</td>\n",
       "      <td>2.0</td>\n",
       "      <td>2.0</td>\n",
       "      <td>1.0</td>\n",
       "      <td>2.0</td>\n",
       "      <td>1.0</td>\n",
       "      <td>8</td>\n",
       "    </tr>\n",
       "    <tr>\n",
       "      <th>1180</th>\n",
       "      <td>0</td>\n",
       "      <td>IDOSO1</td>\n",
       "      <td>4.0</td>\n",
       "      <td>2.0</td>\n",
       "      <td>1.0</td>\n",
       "      <td>1.0</td>\n",
       "      <td>9.0</td>\n",
       "      <td>1.0</td>\n",
       "      <td>1.0</td>\n",
       "      <td>1.0</td>\n",
       "      <td>...</td>\n",
       "      <td>1.0</td>\n",
       "      <td>2.0</td>\n",
       "      <td>2.0</td>\n",
       "      <td>2.0</td>\n",
       "      <td>2.0</td>\n",
       "      <td>2.0</td>\n",
       "      <td>1.0</td>\n",
       "      <td>2.0</td>\n",
       "      <td>2.0</td>\n",
       "      <td>18</td>\n",
       "    </tr>\n",
       "    <tr>\n",
       "      <th>1181</th>\n",
       "      <td>1</td>\n",
       "      <td>ADULTO3</td>\n",
       "      <td>4.0</td>\n",
       "      <td>2.0</td>\n",
       "      <td>9.0</td>\n",
       "      <td>9.0</td>\n",
       "      <td>9.0</td>\n",
       "      <td>1.0</td>\n",
       "      <td>1.0</td>\n",
       "      <td>1.0</td>\n",
       "      <td>...</td>\n",
       "      <td>2.0</td>\n",
       "      <td>2.0</td>\n",
       "      <td>2.0</td>\n",
       "      <td>2.0</td>\n",
       "      <td>2.0</td>\n",
       "      <td>2.0</td>\n",
       "      <td>2.0</td>\n",
       "      <td>2.0</td>\n",
       "      <td>1.0</td>\n",
       "      <td>3</td>\n",
       "    </tr>\n",
       "    <tr>\n",
       "      <th>1186</th>\n",
       "      <td>1</td>\n",
       "      <td>ADULTO2</td>\n",
       "      <td>4.0</td>\n",
       "      <td>2.0</td>\n",
       "      <td>2.0</td>\n",
       "      <td>2.0</td>\n",
       "      <td>1.0</td>\n",
       "      <td>1.0</td>\n",
       "      <td>1.0</td>\n",
       "      <td>1.0</td>\n",
       "      <td>...</td>\n",
       "      <td>2.0</td>\n",
       "      <td>2.0</td>\n",
       "      <td>2.0</td>\n",
       "      <td>2.0</td>\n",
       "      <td>2.0</td>\n",
       "      <td>2.0</td>\n",
       "      <td>2.0</td>\n",
       "      <td>2.0</td>\n",
       "      <td>1.0</td>\n",
       "      <td>4</td>\n",
       "    </tr>\n",
       "  </tbody>\n",
       "</table>\n",
       "<p>774 rows × 29 columns</p>\n",
       "</div>"
      ],
      "text/plain": [
       "      CS_SEXO NU_IDADE_N  CS_RACA  SURTO_SG  FEBRE  TOSSE  GARGANTA  DISPNEIA  \\\n",
       "7           0    ADULTO3      4.0       2.0    1.0    1.0       1.0       1.0   \n",
       "10          1     IDOSO1      4.0       2.0    1.0    1.0       1.0       1.0   \n",
       "12          1    ADULTO3      4.0       2.0    1.0    1.0       2.0       1.0   \n",
       "16          1    ADULTO3      4.0       2.0    1.0    1.0       2.0       1.0   \n",
       "17          1     IDOSO1      4.0       2.0    1.0    1.0       2.0       1.0   \n",
       "...       ...        ...      ...       ...    ...    ...       ...       ...   \n",
       "1175        1    ADULTO2      4.0       2.0    2.0    1.0       2.0       1.0   \n",
       "1176        0     IDOSO2      1.0       2.0    1.0    2.0       2.0       2.0   \n",
       "1180        0     IDOSO1      4.0       2.0    1.0    1.0       9.0       1.0   \n",
       "1181        1    ADULTO3      4.0       2.0    9.0    9.0       9.0       1.0   \n",
       "1186        1    ADULTO2      4.0       2.0    2.0    2.0       1.0       1.0   \n",
       "\n",
       "      DESC_RESP  SATURACAO  ...  DIABETES  NEUROLOGIC  PNEUMOPATI  IMUNODEPRE  \\\n",
       "7           1.0        1.0  ...       2.0         2.0         2.0         2.0   \n",
       "10          1.0        1.0  ...       1.0         2.0         2.0         2.0   \n",
       "12          1.0        1.0  ...       2.0         2.0         2.0         2.0   \n",
       "16          1.0        1.0  ...       1.0         2.0         2.0         2.0   \n",
       "17          1.0        1.0  ...       2.0         2.0         2.0         2.0   \n",
       "...         ...        ...  ...       ...         ...         ...         ...   \n",
       "1175        1.0        1.0  ...       2.0         2.0         2.0         2.0   \n",
       "1176        1.0        1.0  ...       1.0         2.0         2.0         2.0   \n",
       "1180        1.0        1.0  ...       1.0         2.0         2.0         2.0   \n",
       "1181        1.0        1.0  ...       2.0         2.0         2.0         2.0   \n",
       "1186        1.0        1.0  ...       2.0         2.0         2.0         2.0   \n",
       "\n",
       "      RENAL  OBESIDADE  UTI  SUPORT_VEN  EVOLUCAO  QNT_DIAS  \n",
       "7       2.0        2.0  1.0         2.0       1.0        22  \n",
       "10      2.0        2.0  2.0         2.0       1.0         5  \n",
       "12      2.0        2.0  2.0         1.0       2.0         2  \n",
       "16      2.0        2.0  1.0         1.0       2.0        14  \n",
       "17      2.0        2.0  2.0         2.0       1.0         6  \n",
       "...     ...        ...  ...         ...       ...       ...  \n",
       "1175    2.0        2.0  2.0         2.0       1.0         0  \n",
       "1176    2.0        2.0  1.0         2.0       1.0         8  \n",
       "1180    2.0        2.0  1.0         2.0       2.0        18  \n",
       "1181    2.0        2.0  2.0         2.0       1.0         3  \n",
       "1186    2.0        2.0  2.0         2.0       1.0         4  \n",
       "\n",
       "[774 rows x 29 columns]"
      ]
     },
     "execution_count": 120,
     "metadata": {},
     "output_type": "execute_result"
    }
   ],
   "source": [
    "#Adicionando a coluna contendo a quantidade de dias\n",
    "dbCovid['QNT_DIAS'] = hospital_days_qnt\n",
    "dbCovid = dbCovid.drop(columns=['DT_INTERNA', 'DT_EVOLUCA'])\n",
    "dbCovid"
   ]
  },
  {
   "cell_type": "code",
   "execution_count": 121,
   "metadata": {
    "executionInfo": {
     "elapsed": 1445,
     "status": "ok",
     "timestamp": 1606845805769,
     "user": {
      "displayName": "WALLACE DUARTE DE HOLANDA",
      "photoUrl": "https://lh3.googleusercontent.com/a-/AOh14GgeWMOt53non50jDB5bIAwurrZleD5e6T7yfR9w=s64",
      "userId": "03474631865123362594"
     },
     "user_tz": 180
    },
    "id": "tNi4_XnOlwBN"
   },
   "outputs": [],
   "source": [
    "write = pd.ExcelWriter('dados-preprocessados-novos.xlsx')\n",
    "dbCovid.to_excel(write, 'novosdados', index = False)\n",
    "write.save()"
   ]
  },
  {
   "cell_type": "code",
   "execution_count": null,
   "metadata": {
    "colab": {
     "base_uri": "https://localhost:8080/"
    },
    "executionInfo": {
     "elapsed": 845,
     "status": "ok",
     "timestamp": 1606225761904,
     "user": {
      "displayName": "WALLACE DUARTE DE HOLANDA",
      "photoUrl": "https://lh3.googleusercontent.com/a-/AOh14GgeWMOt53non50jDB5bIAwurrZleD5e6T7yfR9w=s64",
      "userId": "03474631865123362594"
     },
     "user_tz": 180
    },
    "id": "PGI7FA81nzG4",
    "outputId": "c0b97f6d-62a7-426b-d946-1d1e614dc3ba"
   },
   "outputs": [],
   "source": [
    "#Importando o sklearn\n",
    "from sklearn import tree;\n",
    "from sklearn.model_selection import train_test_split\n",
    "\n",
    "train = pd.read_excel(\"dadosSetembroFormatado.xlsx\")\n",
    "#train = pd.read_excel(\"novosDadosSetembro2.xlsx\")\n",
    "\n",
    "#train['CLASSI_FIN']\n",
    "train.shape"
   ]
  },
  {
   "cell_type": "code",
   "execution_count": null,
   "metadata": {
    "id": "4_mhLBe6nlsu"
   },
   "outputs": [],
   "source": [
    "#Criando a coluna faixa etária\n",
    "#train.insert(loc = 10, column = \"FAIXA_ETARIA\", value = newData['NU_IDADE_N'])\n",
    "#train.head()"
   ]
  },
  {
   "cell_type": "code",
   "execution_count": null,
   "metadata": {
    "colab": {
     "base_uri": "https://localhost:8080/"
    },
    "executionInfo": {
     "elapsed": 946,
     "status": "ok",
     "timestamp": 1605964885427,
     "user": {
      "displayName": "WALLACE DUARTE DE HOLANDA",
      "photoUrl": "https://lh3.googleusercontent.com/a-/AOh14GgeWMOt53non50jDB5bIAwurrZleD5e6T7yfR9w=s64",
      "userId": "03474631865123362594"
     },
     "user_tz": 180
    },
    "id": "qmrS6tsprgO7",
    "outputId": "4dcd52f7-13d8-431e-9657-3a3bc0fd555e"
   },
   "outputs": [],
   "source": [
    "train['NU_IDADE_N'].isnull().sum()"
   ]
  },
  {
   "cell_type": "code",
   "execution_count": null,
   "metadata": {
    "colab": {
     "base_uri": "https://localhost:8080/"
    },
    "executionInfo": {
     "elapsed": 760,
     "status": "ok",
     "timestamp": 1606225905970,
     "user": {
      "displayName": "WALLACE DUARTE DE HOLANDA",
      "photoUrl": "https://lh3.googleusercontent.com/a-/AOh14GgeWMOt53non50jDB5bIAwurrZleD5e6T7yfR9w=s64",
      "userId": "03474631865123362594"
     },
     "user_tz": 180
    },
    "id": "0UrCSWvUk1Wu",
    "outputId": "75a8f217-4f64-4d6e-cda4-a65d87afdc65"
   },
   "outputs": [],
   "source": [
    "#Colocando apenas as instâncias do COVID\n",
    "#train.drop(train[train.CLASSI_FIN != \"COVID19\"].index, inplace = True)\n",
    "train.shape"
   ]
  },
  {
   "cell_type": "code",
   "execution_count": null,
   "metadata": {
    "id": "OvhzeRtlg7K6"
   },
   "outputs": [],
   "source": [
    "# Filtrando os atributos - baseando-se na importância\n",
    "newAtributes = [\"NU_IDADE_N\", \"CS_RACA\", \"SURTO_SG\", \"FEBRE\", \"TOSSE\", \"GARGANTA\", \n",
    "              \"DISPNEIA\", \"DESC_RESP\", \"SATURACAO\", \"DIARREIA\",\"VOMITO\", \"CARDIOPATI\", \n",
    "              \"DIABETES\", \"PNEUMOPATI\", \"OBESIDADE\", \"UTI\", \"SUPORT_VEN\", \"CLASSI_FIN\", \"EVOLUCAO\"]\n",
    "\n",
    "tTrain = train[newAtributes];"
   ]
  },
  {
   "cell_type": "code",
   "execution_count": null,
   "metadata": {
    "id": "STdP761aoszh"
   },
   "outputs": [],
   "source": [
    "# Excluindo a Idade\n",
    "#train.drop(train['NU_IDADE_N'].index, inplace = True)\n",
    "train.head()\n"
   ]
  },
  {
   "cell_type": "code",
   "execution_count": null,
   "metadata": {
    "id": "NuclkbJUZoUy"
   },
   "outputs": [],
   "source": [
    "#Usando o getDummies\n",
    "newTrain = pd.get_dummies(tTrain, prefix=[\"NU_IDADE_N\", \"CS_RACA\", \"SURTO_SG\", \"FEBRE\", \"TOSSE\", \"GARGANTA\", \n",
    "              \"DISPNEIA\", \"DESC_RESP\", \"SATURACAO\", \"DIARREIA\",\"VOMITO\", \"CARDIOPATI\", \n",
    "              \"DIABETES\", \"PNEUMOPATI\", \"OBESIDADE\", \"UTI\", \"SUPORT_VEN\", \"CLASSI_FIN\"])\n",
    "\n",
    "#newTrain = pd.get_dummies(train, prefix=[\"NU_IDADE_N\", \"CS_RACA\", \"SURTO_SG\", \"FEBRE\", \"TOSSE\", \"GARGANTA\", \n",
    "#              \"DISPNEIA\", \"DESC_RESP\", \"SATURACAO\", \"DIARREIA\",\"VOMITO\", \"PUERPERA\", \"CARDIOPATI\", \n",
    "#              \"HEMATOLOGI\", \"SIND_DOWN\", \"HEPATICA\", \"ASMA\", \"DIABETES\", \"NEUROLOGIC\",\t\"PNEUMOPATI\",\n",
    "#              \"IMUNODEPRE\", \"RENAL\",\t\"OBESIDADE\", \"UTI\", \"SUPORT_VEN\", \"CLASSI_FIN\"]);"
   ]
  },
  {
   "cell_type": "code",
   "execution_count": null,
   "metadata": {
    "colab": {
     "base_uri": "https://localhost:8080/",
     "height": 224
    },
    "executionInfo": {
     "elapsed": 837,
     "status": "ok",
     "timestamp": 1606225929631,
     "user": {
      "displayName": "WALLACE DUARTE DE HOLANDA",
      "photoUrl": "https://lh3.googleusercontent.com/a-/AOh14GgeWMOt53non50jDB5bIAwurrZleD5e6T7yfR9w=s64",
      "userId": "03474631865123362594"
     },
     "user_tz": 180
    },
    "id": "eRg9yyNUbJz1",
    "outputId": "ab1ef448-3b02-485a-a096-aedc317c8548"
   },
   "outputs": [
    {
     "data": {
      "text/html": [
       "<div>\n",
       "<style scoped>\n",
       "    .dataframe tbody tr th:only-of-type {\n",
       "        vertical-align: middle;\n",
       "    }\n",
       "\n",
       "    .dataframe tbody tr th {\n",
       "        vertical-align: top;\n",
       "    }\n",
       "\n",
       "    .dataframe thead th {\n",
       "        text-align: right;\n",
       "    }\n",
       "</style>\n",
       "<table border=\"1\" class=\"dataframe\">\n",
       "  <thead>\n",
       "    <tr style=\"text-align: right;\">\n",
       "      <th></th>\n",
       "      <th>EVOLUCAO</th>\n",
       "      <th>NU_IDADE_N_ADULTO</th>\n",
       "      <th>NU_IDADE_N_ADULTO2</th>\n",
       "      <th>NU_IDADE_N_CRIANCA</th>\n",
       "      <th>NU_IDADE_N_IDOSO</th>\n",
       "      <th>NU_IDADE_N_IDOSO2</th>\n",
       "      <th>NU_IDADE_N_JOVEM</th>\n",
       "      <th>CS_RACA_AMARELA</th>\n",
       "      <th>CS_RACA_BRANCO</th>\n",
       "      <th>CS_RACA_IGNORADO</th>\n",
       "      <th>CS_RACA_PARDA</th>\n",
       "      <th>CS_RACA_PRETO</th>\n",
       "      <th>SURTO_SG_IGNORADO</th>\n",
       "      <th>SURTO_SG_NAO</th>\n",
       "      <th>SURTO_SG_SIM</th>\n",
       "      <th>FEBRE_IGNORADO</th>\n",
       "      <th>FEBRE_NAO</th>\n",
       "      <th>FEBRE_SIM</th>\n",
       "      <th>TOSSE_IGNORADO</th>\n",
       "      <th>TOSSE_NAO</th>\n",
       "      <th>TOSSE_SIM</th>\n",
       "      <th>GARGANTA_IGNORADO</th>\n",
       "      <th>GARGANTA_NAO</th>\n",
       "      <th>GARGANTA_SIM</th>\n",
       "      <th>DISPNEIA_IGNORADO</th>\n",
       "      <th>DISPNEIA_NAO</th>\n",
       "      <th>DISPNEIA_SIM</th>\n",
       "      <th>DESC_RESP_IGNORADO</th>\n",
       "      <th>DESC_RESP_NAO</th>\n",
       "      <th>DESC_RESP_SIM</th>\n",
       "      <th>SATURACAO_IGNORADO</th>\n",
       "      <th>SATURACAO_NAO</th>\n",
       "      <th>SATURACAO_SIM</th>\n",
       "      <th>DIARREIA_IGNORADO</th>\n",
       "      <th>DIARREIA_NAO</th>\n",
       "      <th>DIARREIA_SIM</th>\n",
       "      <th>VOMITO_IGNORADO</th>\n",
       "      <th>VOMITO_NAO</th>\n",
       "      <th>VOMITO_SIM</th>\n",
       "      <th>CARDIOPATI_IGNORADO</th>\n",
       "      <th>CARDIOPATI_NAO</th>\n",
       "      <th>CARDIOPATI_SIM</th>\n",
       "      <th>DIABETES_IGNORADO</th>\n",
       "      <th>DIABETES_NAO</th>\n",
       "      <th>DIABETES_SIM</th>\n",
       "      <th>PNEUMOPATI_IGNORADO</th>\n",
       "      <th>PNEUMOPATI_NAO</th>\n",
       "      <th>PNEUMOPATI_SIM</th>\n",
       "      <th>OBESIDADE_IGNORADO</th>\n",
       "      <th>OBESIDADE_NAO</th>\n",
       "      <th>OBESIDADE_SIM</th>\n",
       "      <th>UTI_NAO</th>\n",
       "      <th>UTI_SIM</th>\n",
       "      <th>SUPORT_VEN_IGNORADO</th>\n",
       "      <th>SUPORT_VEN_INVASIVO</th>\n",
       "      <th>SUPORT_VEN_NAO</th>\n",
       "      <th>SUPORT_VEN_NAO_INVASIVO</th>\n",
       "      <th>CLASSI_FIN_COVID19</th>\n",
       "      <th>CLASSI_FIN_SRAG1</th>\n",
       "      <th>CLASSI_FIN_SRAG2</th>\n",
       "      <th>CLASSI_FIN_SRAG3</th>\n",
       "      <th>CLASSI_FIN_SRAG4</th>\n",
       "    </tr>\n",
       "  </thead>\n",
       "  <tbody>\n",
       "    <tr>\n",
       "      <th>0</th>\n",
       "      <td>0</td>\n",
       "      <td>0</td>\n",
       "      <td>0</td>\n",
       "      <td>1</td>\n",
       "      <td>0</td>\n",
       "      <td>0</td>\n",
       "      <td>0</td>\n",
       "      <td>0</td>\n",
       "      <td>0</td>\n",
       "      <td>1</td>\n",
       "      <td>0</td>\n",
       "      <td>0</td>\n",
       "      <td>0</td>\n",
       "      <td>1</td>\n",
       "      <td>0</td>\n",
       "      <td>0</td>\n",
       "      <td>0</td>\n",
       "      <td>1</td>\n",
       "      <td>0</td>\n",
       "      <td>0</td>\n",
       "      <td>1</td>\n",
       "      <td>1</td>\n",
       "      <td>0</td>\n",
       "      <td>0</td>\n",
       "      <td>0</td>\n",
       "      <td>0</td>\n",
       "      <td>1</td>\n",
       "      <td>0</td>\n",
       "      <td>0</td>\n",
       "      <td>1</td>\n",
       "      <td>0</td>\n",
       "      <td>0</td>\n",
       "      <td>1</td>\n",
       "      <td>0</td>\n",
       "      <td>0</td>\n",
       "      <td>1</td>\n",
       "      <td>0</td>\n",
       "      <td>0</td>\n",
       "      <td>1</td>\n",
       "      <td>0</td>\n",
       "      <td>1</td>\n",
       "      <td>0</td>\n",
       "      <td>0</td>\n",
       "      <td>1</td>\n",
       "      <td>0</td>\n",
       "      <td>0</td>\n",
       "      <td>1</td>\n",
       "      <td>0</td>\n",
       "      <td>0</td>\n",
       "      <td>1</td>\n",
       "      <td>0</td>\n",
       "      <td>1</td>\n",
       "      <td>0</td>\n",
       "      <td>0</td>\n",
       "      <td>0</td>\n",
       "      <td>1</td>\n",
       "      <td>0</td>\n",
       "      <td>0</td>\n",
       "      <td>0</td>\n",
       "      <td>1</td>\n",
       "      <td>0</td>\n",
       "      <td>0</td>\n",
       "    </tr>\n",
       "    <tr>\n",
       "      <th>1</th>\n",
       "      <td>0</td>\n",
       "      <td>0</td>\n",
       "      <td>0</td>\n",
       "      <td>1</td>\n",
       "      <td>0</td>\n",
       "      <td>0</td>\n",
       "      <td>0</td>\n",
       "      <td>0</td>\n",
       "      <td>0</td>\n",
       "      <td>0</td>\n",
       "      <td>1</td>\n",
       "      <td>0</td>\n",
       "      <td>0</td>\n",
       "      <td>0</td>\n",
       "      <td>1</td>\n",
       "      <td>0</td>\n",
       "      <td>1</td>\n",
       "      <td>0</td>\n",
       "      <td>0</td>\n",
       "      <td>0</td>\n",
       "      <td>1</td>\n",
       "      <td>0</td>\n",
       "      <td>1</td>\n",
       "      <td>0</td>\n",
       "      <td>0</td>\n",
       "      <td>0</td>\n",
       "      <td>1</td>\n",
       "      <td>0</td>\n",
       "      <td>0</td>\n",
       "      <td>1</td>\n",
       "      <td>0</td>\n",
       "      <td>0</td>\n",
       "      <td>1</td>\n",
       "      <td>0</td>\n",
       "      <td>1</td>\n",
       "      <td>0</td>\n",
       "      <td>0</td>\n",
       "      <td>1</td>\n",
       "      <td>0</td>\n",
       "      <td>0</td>\n",
       "      <td>0</td>\n",
       "      <td>1</td>\n",
       "      <td>0</td>\n",
       "      <td>1</td>\n",
       "      <td>0</td>\n",
       "      <td>0</td>\n",
       "      <td>1</td>\n",
       "      <td>0</td>\n",
       "      <td>0</td>\n",
       "      <td>1</td>\n",
       "      <td>0</td>\n",
       "      <td>0</td>\n",
       "      <td>1</td>\n",
       "      <td>0</td>\n",
       "      <td>1</td>\n",
       "      <td>0</td>\n",
       "      <td>0</td>\n",
       "      <td>0</td>\n",
       "      <td>0</td>\n",
       "      <td>1</td>\n",
       "      <td>0</td>\n",
       "      <td>0</td>\n",
       "    </tr>\n",
       "    <tr>\n",
       "      <th>2</th>\n",
       "      <td>1</td>\n",
       "      <td>0</td>\n",
       "      <td>0</td>\n",
       "      <td>1</td>\n",
       "      <td>0</td>\n",
       "      <td>0</td>\n",
       "      <td>0</td>\n",
       "      <td>0</td>\n",
       "      <td>0</td>\n",
       "      <td>0</td>\n",
       "      <td>1</td>\n",
       "      <td>0</td>\n",
       "      <td>1</td>\n",
       "      <td>0</td>\n",
       "      <td>0</td>\n",
       "      <td>0</td>\n",
       "      <td>0</td>\n",
       "      <td>1</td>\n",
       "      <td>0</td>\n",
       "      <td>0</td>\n",
       "      <td>1</td>\n",
       "      <td>1</td>\n",
       "      <td>0</td>\n",
       "      <td>0</td>\n",
       "      <td>0</td>\n",
       "      <td>0</td>\n",
       "      <td>1</td>\n",
       "      <td>0</td>\n",
       "      <td>0</td>\n",
       "      <td>1</td>\n",
       "      <td>0</td>\n",
       "      <td>0</td>\n",
       "      <td>1</td>\n",
       "      <td>1</td>\n",
       "      <td>0</td>\n",
       "      <td>0</td>\n",
       "      <td>1</td>\n",
       "      <td>0</td>\n",
       "      <td>0</td>\n",
       "      <td>0</td>\n",
       "      <td>1</td>\n",
       "      <td>0</td>\n",
       "      <td>0</td>\n",
       "      <td>1</td>\n",
       "      <td>0</td>\n",
       "      <td>0</td>\n",
       "      <td>1</td>\n",
       "      <td>0</td>\n",
       "      <td>0</td>\n",
       "      <td>1</td>\n",
       "      <td>0</td>\n",
       "      <td>1</td>\n",
       "      <td>0</td>\n",
       "      <td>1</td>\n",
       "      <td>0</td>\n",
       "      <td>0</td>\n",
       "      <td>0</td>\n",
       "      <td>0</td>\n",
       "      <td>1</td>\n",
       "      <td>0</td>\n",
       "      <td>0</td>\n",
       "      <td>0</td>\n",
       "    </tr>\n",
       "    <tr>\n",
       "      <th>3</th>\n",
       "      <td>0</td>\n",
       "      <td>0</td>\n",
       "      <td>1</td>\n",
       "      <td>0</td>\n",
       "      <td>0</td>\n",
       "      <td>0</td>\n",
       "      <td>0</td>\n",
       "      <td>0</td>\n",
       "      <td>0</td>\n",
       "      <td>1</td>\n",
       "      <td>0</td>\n",
       "      <td>0</td>\n",
       "      <td>1</td>\n",
       "      <td>0</td>\n",
       "      <td>0</td>\n",
       "      <td>0</td>\n",
       "      <td>1</td>\n",
       "      <td>0</td>\n",
       "      <td>0</td>\n",
       "      <td>1</td>\n",
       "      <td>0</td>\n",
       "      <td>0</td>\n",
       "      <td>1</td>\n",
       "      <td>0</td>\n",
       "      <td>0</td>\n",
       "      <td>1</td>\n",
       "      <td>0</td>\n",
       "      <td>0</td>\n",
       "      <td>0</td>\n",
       "      <td>1</td>\n",
       "      <td>0</td>\n",
       "      <td>1</td>\n",
       "      <td>0</td>\n",
       "      <td>0</td>\n",
       "      <td>1</td>\n",
       "      <td>0</td>\n",
       "      <td>0</td>\n",
       "      <td>0</td>\n",
       "      <td>1</td>\n",
       "      <td>0</td>\n",
       "      <td>1</td>\n",
       "      <td>0</td>\n",
       "      <td>0</td>\n",
       "      <td>1</td>\n",
       "      <td>0</td>\n",
       "      <td>0</td>\n",
       "      <td>1</td>\n",
       "      <td>0</td>\n",
       "      <td>0</td>\n",
       "      <td>1</td>\n",
       "      <td>0</td>\n",
       "      <td>1</td>\n",
       "      <td>0</td>\n",
       "      <td>1</td>\n",
       "      <td>0</td>\n",
       "      <td>0</td>\n",
       "      <td>0</td>\n",
       "      <td>0</td>\n",
       "      <td>0</td>\n",
       "      <td>0</td>\n",
       "      <td>0</td>\n",
       "      <td>1</td>\n",
       "    </tr>\n",
       "    <tr>\n",
       "      <th>4</th>\n",
       "      <td>0</td>\n",
       "      <td>1</td>\n",
       "      <td>0</td>\n",
       "      <td>0</td>\n",
       "      <td>0</td>\n",
       "      <td>0</td>\n",
       "      <td>0</td>\n",
       "      <td>0</td>\n",
       "      <td>0</td>\n",
       "      <td>0</td>\n",
       "      <td>1</td>\n",
       "      <td>0</td>\n",
       "      <td>0</td>\n",
       "      <td>1</td>\n",
       "      <td>0</td>\n",
       "      <td>0</td>\n",
       "      <td>0</td>\n",
       "      <td>1</td>\n",
       "      <td>0</td>\n",
       "      <td>0</td>\n",
       "      <td>1</td>\n",
       "      <td>0</td>\n",
       "      <td>1</td>\n",
       "      <td>0</td>\n",
       "      <td>0</td>\n",
       "      <td>0</td>\n",
       "      <td>1</td>\n",
       "      <td>0</td>\n",
       "      <td>0</td>\n",
       "      <td>1</td>\n",
       "      <td>0</td>\n",
       "      <td>0</td>\n",
       "      <td>1</td>\n",
       "      <td>0</td>\n",
       "      <td>0</td>\n",
       "      <td>1</td>\n",
       "      <td>0</td>\n",
       "      <td>1</td>\n",
       "      <td>0</td>\n",
       "      <td>0</td>\n",
       "      <td>1</td>\n",
       "      <td>0</td>\n",
       "      <td>0</td>\n",
       "      <td>1</td>\n",
       "      <td>0</td>\n",
       "      <td>0</td>\n",
       "      <td>1</td>\n",
       "      <td>0</td>\n",
       "      <td>0</td>\n",
       "      <td>1</td>\n",
       "      <td>0</td>\n",
       "      <td>1</td>\n",
       "      <td>0</td>\n",
       "      <td>0</td>\n",
       "      <td>0</td>\n",
       "      <td>0</td>\n",
       "      <td>1</td>\n",
       "      <td>0</td>\n",
       "      <td>0</td>\n",
       "      <td>0</td>\n",
       "      <td>0</td>\n",
       "      <td>1</td>\n",
       "    </tr>\n",
       "  </tbody>\n",
       "</table>\n",
       "</div>"
      ],
      "text/plain": [
       "   EVOLUCAO  NU_IDADE_N_ADULTO  ...  CLASSI_FIN_SRAG3  CLASSI_FIN_SRAG4\n",
       "0         0                  0  ...                 0                 0\n",
       "1         0                  0  ...                 0                 0\n",
       "2         1                  0  ...                 0                 0\n",
       "3         0                  0  ...                 0                 1\n",
       "4         0                  1  ...                 0                 1\n",
       "\n",
       "[5 rows x 62 columns]"
      ]
     },
     "execution_count": 28,
     "metadata": {
      "tags": []
     },
     "output_type": "execute_result"
    }
   ],
   "source": [
    "newTrain.head()"
   ]
  },
  {
   "cell_type": "code",
   "execution_count": null,
   "metadata": {
    "id": "rS9jmxf4hqzQ"
   },
   "outputs": [],
   "source": [
    "write = pd.ExcelWriter('setembroDummies.xlsx')\n",
    "newTrain.to_excel(write, 'novosdados', index = False)\n",
    "write.save()"
   ]
  },
  {
   "cell_type": "code",
   "execution_count": null,
   "metadata": {
    "id": "CnVU--Dtq71J"
   },
   "outputs": [],
   "source": [
    "x_train, x_test, y_train, y_test = train_test_split(newTrain.drop('EVOLUCAO',\n",
    "                                                    axis=1),\n",
    "                                                    newTrain['EVOLUCAO'],\n",
    "                                                    test_size=0.3,\n",
    "                                                    random_state=42);\n",
    "                                                "
   ]
  },
  {
   "cell_type": "code",
   "execution_count": null,
   "metadata": {
    "colab": {
     "base_uri": "https://localhost:8080/"
    },
    "executionInfo": {
     "elapsed": 1010,
     "status": "ok",
     "timestamp": 1605965544317,
     "user": {
      "displayName": "WALLACE DUARTE DE HOLANDA",
      "photoUrl": "https://lh3.googleusercontent.com/a-/AOh14GgeWMOt53non50jDB5bIAwurrZleD5e6T7yfR9w=s64",
      "userId": "03474631865123362594"
     },
     "user_tz": 180
    },
    "id": "oj6TNCD83wis",
    "outputId": "ffa7c12c-b590-47a9-b7bd-d17056d5d234"
   },
   "outputs": [
    {
     "data": {
      "text/plain": [
       "481    1\n",
       "944    2\n",
       "835    1\n",
       "228    2\n",
       "692    2\n",
       "Name: EVOLUCAO, dtype: int64"
      ]
     },
     "execution_count": 45,
     "metadata": {
      "tags": []
     },
     "output_type": "execute_result"
    }
   ],
   "source": [
    "y_train.head()"
   ]
  },
  {
   "cell_type": "code",
   "execution_count": null,
   "metadata": {
    "colab": {
     "base_uri": "https://localhost:8080/"
    },
    "executionInfo": {
     "elapsed": 883,
     "status": "ok",
     "timestamp": 1605965548569,
     "user": {
      "displayName": "WALLACE DUARTE DE HOLANDA",
      "photoUrl": "https://lh3.googleusercontent.com/a-/AOh14GgeWMOt53non50jDB5bIAwurrZleD5e6T7yfR9w=s64",
      "userId": "03474631865123362594"
     },
     "user_tz": 180
    },
    "id": "qKAYjIWnOIF3",
    "outputId": "7fd4bfe3-b659-49b5-be8f-b89f929e314b"
   },
   "outputs": [
    {
     "data": {
      "text/plain": [
       "RandomForestClassifier(bootstrap=True, ccp_alpha=0.0, class_weight=None,\n",
       "                       criterion='entropy', max_depth=10, max_features='auto',\n",
       "                       max_leaf_nodes=None, max_samples=None,\n",
       "                       min_impurity_decrease=0.0, min_impurity_split=None,\n",
       "                       min_samples_leaf=1, min_samples_split=2,\n",
       "                       min_weight_fraction_leaf=0.0, n_estimators=25, n_jobs=-1,\n",
       "                       oob_score=False, random_state=1986, verbose=0,\n",
       "                       warm_start=False)"
      ]
     },
     "execution_count": 46,
     "metadata": {
      "tags": []
     },
     "output_type": "execute_result"
    }
   ],
   "source": [
    "# Random Forest\n",
    "from sklearn.ensemble import RandomForestClassifier\n",
    "classifier_rf = RandomForestClassifier(random_state=1986, criterion='entropy', max_depth=10, n_estimators=25, n_jobs=-1)\n",
    "classifier_rf.fit(x_train, y_train)"
   ]
  },
  {
   "cell_type": "code",
   "execution_count": null,
   "metadata": {
    "id": "8N1rLU6wOp3-"
   },
   "outputs": [],
   "source": [
    "# Random Forest - Predição\n",
    "resultRF = classifier_rf.predict(x_test)"
   ]
  },
  {
   "cell_type": "code",
   "execution_count": null,
   "metadata": {
    "colab": {
     "base_uri": "https://localhost:8080/"
    },
    "executionInfo": {
     "elapsed": 883,
     "status": "ok",
     "timestamp": 1605965553333,
     "user": {
      "displayName": "WALLACE DUARTE DE HOLANDA",
      "photoUrl": "https://lh3.googleusercontent.com/a-/AOh14GgeWMOt53non50jDB5bIAwurrZleD5e6T7yfR9w=s64",
      "userId": "03474631865123362594"
     },
     "user_tz": 180
    },
    "id": "uGw2vNRvO2yH",
    "outputId": "08a092e3-7cd4-486a-e8ea-ac53daa52b7c"
   },
   "outputs": [
    {
     "name": "stdout",
     "output_type": "stream",
     "text": [
      "0.7594501718213058\n"
     ]
    }
   ],
   "source": [
    "# Verificando a Acurácia\n",
    "from sklearn.metrics import accuracy_score\n",
    "print(accuracy_score(y_test, resultRF))"
   ]
  },
  {
   "cell_type": "code",
   "execution_count": null,
   "metadata": {
    "id": "MVPGmuEGrj8p"
   },
   "outputs": [],
   "source": [
    "#Criando a árvore de decisão\n",
    "clf = tree.DecisionTreeClassifier()\n",
    "clf = clf.fit(x_train, y_train)"
   ]
  },
  {
   "cell_type": "code",
   "execution_count": null,
   "metadata": {
    "id": "3BEkHcVob_Fd"
   },
   "outputs": [],
   "source": [
    "#Recuperando o resultado da saída\n",
    "result = clf.predict(x_test)\n",
    "#result = clf.predict(x_train)"
   ]
  },
  {
   "cell_type": "code",
   "execution_count": null,
   "metadata": {
    "colab": {
     "base_uri": "https://localhost:8080/"
    },
    "executionInfo": {
     "elapsed": 1048,
     "status": "ok",
     "timestamp": 1605633561166,
     "user": {
      "displayName": "WALLACE DUARTE DE HOLANDA",
      "photoUrl": "https://lh3.googleusercontent.com/a-/AOh14GgeWMOt53non50jDB5bIAwurrZleD5e6T7yfR9w=s64",
      "userId": "03474631865123362594"
     },
     "user_tz": 180
    },
    "id": "C2VyHkIGcbqh",
    "outputId": "c3b66d3d-b382-498a-e2d5-2c688515d457"
   },
   "outputs": [
    {
     "name": "stdout",
     "output_type": "stream",
     "text": [
      "0.6597938144329897\n"
     ]
    }
   ],
   "source": [
    "from sklearn.metrics import accuracy_score\n",
    "print(accuracy_score(y_test, result))"
   ]
  },
  {
   "cell_type": "code",
   "execution_count": null,
   "metadata": {
    "colab": {
     "base_uri": "https://localhost:8080/"
    },
    "executionInfo": {
     "elapsed": 1325,
     "status": "ok",
     "timestamp": 1605622687926,
     "user": {
      "displayName": "WALLACE DUARTE DE HOLANDA",
      "photoUrl": "https://lh3.googleusercontent.com/a-/AOh14GgeWMOt53non50jDB5bIAwurrZleD5e6T7yfR9w=s64",
      "userId": "03474631865123362594"
     },
     "user_tz": 180
    },
    "id": "-SXQMOZekJo9",
    "outputId": "b5352d82-157f-4095-8d31-4969926d9755"
   },
   "outputs": [
    {
     "data": {
      "text/plain": [
       "array([0.02802557, 0.30498694, 0.01574648, 0.00265325, 0.01500956,\n",
       "       0.01824476, 0.01684775, 0.03142109, 0.01349346, 0.03109605,\n",
       "       0.00431846, 0.01252797, 0.00657891, 0.01451485, 0.        ,\n",
       "       0.        , 0.        , 0.00809712, 0.        , 0.00249439,\n",
       "       0.        , 0.00303642, 0.        , 0.00126517, 0.        ,\n",
       "       0.00632402, 0.03247535, 0.00404856, 0.00346646, 0.00136639,\n",
       "       0.        , 0.00656192, 0.00753671, 0.        , 0.01056928,\n",
       "       0.        , 0.        , 0.00157011, 0.01788746, 0.01248306,\n",
       "       0.01112373, 0.03892291, 0.02254849, 0.02115785, 0.22936554,\n",
       "       0.0065513 , 0.00681113, 0.01684876, 0.        , 0.        ,\n",
       "       0.        , 0.01202277])"
      ]
     },
     "execution_count": 55,
     "metadata": {
      "tags": []
     },
     "output_type": "execute_result"
    }
   ],
   "source": [
    "clf.feature_importances_"
   ]
  },
  {
   "cell_type": "code",
   "execution_count": null,
   "metadata": {
    "colab": {
     "base_uri": "https://localhost:8080/"
    },
    "executionInfo": {
     "elapsed": 901,
     "status": "ok",
     "timestamp": 1605557004733,
     "user": {
      "displayName": "WALLACE DUARTE DE HOLANDA",
      "photoUrl": "https://lh3.googleusercontent.com/a-/AOh14GgeWMOt53non50jDB5bIAwurrZleD5e6T7yfR9w=s64",
      "userId": "03474631865123362594"
     },
     "user_tz": 180
    },
    "id": "fCgWij84pFid",
    "outputId": "3138216e-4664-4ab2-bcce-dfb8e89a778c"
   },
   "outputs": [
    {
     "name": "stderr",
     "output_type": "stream",
     "text": [
      "/usr/local/lib/python3.6/dist-packages/pandas/core/indexing.py:670: SettingWithCopyWarning: \n",
      "A value is trying to be set on a copy of a slice from a DataFrame\n",
      "\n",
      "See the caveats in the documentation: https://pandas.pydata.org/pandas-docs/stable/user_guide/indexing.html#returning-a-view-versus-a-copy\n",
      "  iloc._setitem_with_indexer(indexer, value)\n",
      "/usr/local/lib/python3.6/dist-packages/ipykernel_launcher.py:2: SettingWithCopyWarning: \n",
      "A value is trying to be set on a copy of a slice from a DataFrame\n",
      "\n",
      "See the caveats in the documentation: https://pandas.pydata.org/pandas-docs/stable/user_guide/indexing.html#returning-a-view-versus-a-copy\n",
      "  \n"
     ]
    },
    {
     "data": {
      "text/plain": [
       "1.0    548\n",
       "2.0    422\n",
       "Name: EVOLUCAO, dtype: int64"
      ]
     },
     "execution_count": 155,
     "metadata": {
      "tags": []
     },
     "output_type": "execute_result"
    }
   ],
   "source": [
    "target_class = covidNewData['EVOLUCAO'];\n",
    "target_class.loc[[0]] = 1;\n",
    "target_class.value_counts()"
   ]
  },
  {
   "cell_type": "code",
   "execution_count": null,
   "metadata": {
    "id": "u8KiT68jnJY_"
   },
   "outputs": [],
   "source": [
    "write.save()"
   ]
  },
  {
   "cell_type": "code",
   "execution_count": null,
   "metadata": {
    "id": "cThf16oobnHY"
   },
   "outputs": [],
   "source": [
    "#Rhaylson\n",
    "arquivo = open('faltosos.txt','w')\n",
    "atributos_count = newData.dados.isnull().sum()\n",
    "    for chave in atributos_count.keys():\n",
    "        valor = atributos_count.get(chave)\n",
    "        arquivo.write(str(chave) +\" - \"+str(atributos_count.get(chave))+\"\\n\")\n",
    "\n",
    "\n",
    "\n"
   ]
  },
  {
   "cell_type": "code",
   "execution_count": null,
   "metadata": {
    "id": "eEVHsT_uXbt-",
    "outputId": "4e1c78e5-1c65-4bea-c3c1-e1ac2d558e2c"
   },
   "outputs": [
    {
     "name": "stderr",
     "output_type": "stream",
     "text": [
      "C:\\Users\\walla\\anaconda3\\lib\\site-packages\\pandas\\core\\generic.py:6746: SettingWithCopyWarning: \n",
      "A value is trying to be set on a copy of a slice from a DataFrame\n",
      "\n",
      "See the caveats in the documentation: https://pandas.pydata.org/pandas-docs/stable/user_guide/indexing.html#returning-a-view-versus-a-copy\n",
      "  self._update_inplace(new_data)\n"
     ]
    }
   ],
   "source": [
    "#Trocando os valores de 1 e 2 para Curado e Obito\n",
    "n['evolucao'].replace(1, 'Curado', inplace = True)\n"
   ]
  },
  {
   "cell_type": "code",
   "execution_count": null,
   "metadata": {
    "id": "nutjLjyfXbuH"
   },
   "outputs": [],
   "source": [
    "#Trocando os valores de 1 e 2 para Curado e Obito\n",
    "newData['evolucao'].replace(2, 'Obito', inplace = True)"
   ]
  },
  {
   "cell_type": "code",
   "execution_count": null,
   "metadata": {
    "id": "FNYKIh0MXbuQ"
   },
   "outputs": [],
   "source": [
    "#Exibindo os novos valores\n",
    "newData['evolucao']"
   ]
  },
  {
   "cell_type": "code",
   "execution_count": null,
   "metadata": {
    "id": "qqmnbEoNXbuZ"
   },
   "outputs": [],
   "source": [
    "#Criando a coluna faixa etária\n",
    "newData.insert(loc = 10, column = \"faixa_etaria\", value = newData['nu_idade_n'])"
   ]
  },
  {
   "cell_type": "code",
   "execution_count": null,
   "metadata": {
    "id": "SgpkL9E4Xbuc"
   },
   "outputs": [],
   "source": [
    "#Substituindo as idades por classificação\n",
    "for i in range (0, 12):\n",
    "    newData['faixa_etaria'].replace(i, 'Criança', inplace = True)\n",
    "    \n",
    "for i in range (12, 20):\n",
    "    newData['faixa_etaria'].replace(i, 'Jovem', inplace = True)\n",
    "    \n",
    "for i in range (20, 60):\n",
    "    newData['faixa_etaria'].replace(i, 'Adulto', inplace = True)\n",
    "    \n",
    "for i in range (60, 110):\n",
    "    newData['faixa_etaria'].replace(i, 'Idoso', inplace = True)"
   ]
  },
  {
   "cell_type": "code",
   "execution_count": null,
   "metadata": {
    "id": "wfT7VS-8Xbui",
    "outputId": "536fa810-48aa-4a19-fda0-dedc8c6a8c77"
   },
   "outputs": [
    {
     "data": {
      "text/plain": [
       "0      Criança\n",
       "2       Adulto\n",
       "3        Idoso\n",
       "4        Idoso\n",
       "5       Adulto\n",
       "        ...   \n",
       "915      Idoso\n",
       "919     Adulto\n",
       "920      Idoso\n",
       "928    Criança\n",
       "936      Idoso\n",
       "Name: faixa_etaria, Length: 720, dtype: object"
      ]
     },
     "execution_count": 17,
     "metadata": {
      "tags": []
     },
     "output_type": "execute_result"
    }
   ],
   "source": [
    "#Visualizando os dados\n",
    "newData['faixa_etaria']\n",
    "#newData['faixa_etaria'].value_counts()"
   ]
  },
  {
   "cell_type": "code",
   "execution_count": null,
   "metadata": {
    "id": "NW0lWqd3Xbup"
   },
   "outputs": [],
   "source": [
    "write = pd.ExcelWriter('novosDados.xlsx')"
   ]
  },
  {
   "cell_type": "code",
   "execution_count": null,
   "metadata": {
    "id": "Fz2ujVwHXbut"
   },
   "outputs": [],
   "source": [
    "newData.to_excel(write, 'novosdados', index = False)"
   ]
  },
  {
   "cell_type": "code",
   "execution_count": null,
   "metadata": {
    "id": "uGvCmsDOXbux"
   },
   "outputs": [],
   "source": [
    "write.save()"
   ]
  },
  {
   "cell_type": "code",
   "execution_count": null,
   "metadata": {
    "id": "myTankCzXbu2"
   },
   "outputs": [],
   "source": []
  }
 ],
 "metadata": {
  "colab": {
   "collapsed_sections": [],
   "name": "processamentoDados.ipynb",
   "provenance": [
    {
     "file_id": "14gNqQLvSBxac92pENTV2WFH8c9x6nI_I",
     "timestamp": 1605384432884
    }
   ]
  },
  "kernelspec": {
   "display_name": "Python 3",
   "language": "python",
   "name": "python3"
  },
  "language_info": {
   "codemirror_mode": {
    "name": "ipython",
    "version": 3
   },
   "file_extension": ".py",
   "mimetype": "text/x-python",
   "name": "python",
   "nbconvert_exporter": "python",
   "pygments_lexer": "ipython3",
   "version": "3.7.6"
  }
 },
 "nbformat": 4,
 "nbformat_minor": 1
}
