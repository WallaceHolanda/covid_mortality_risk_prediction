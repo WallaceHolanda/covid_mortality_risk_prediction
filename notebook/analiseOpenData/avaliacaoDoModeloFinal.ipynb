{
 "cells": [
  {
   "cell_type": "markdown",
   "id": "583d5d99",
   "metadata": {},
   "source": [
    "### Modelos\n",
    "Modelo Óbito-Curado (60/40): Regressão e Modelo Internado-Curado (70/30): AdaBoost"
   ]
  },
  {
   "cell_type": "code",
   "execution_count": 44,
   "id": "424c51e5",
   "metadata": {},
   "outputs": [],
   "source": [
    "import pandas as pd\n",
    "import numpy as np\n",
    "\n",
    "import import_ipynb\n",
    "import modelofuncoes as mf\n",
    "\n",
    "from sklearn.model_selection import train_test_split\n",
    "from sklearn.linear_model import LogisticRegression\n",
    "from sklearn import metrics\n",
    "from sklearn.metrics import accuracy_score"
   ]
  },
  {
   "cell_type": "code",
   "execution_count": 31,
   "id": "1367a248",
   "metadata": {},
   "outputs": [],
   "source": [
    "# Carregando a Base de Dados\n",
    "\n",
    "url = 'Vacinas/OC/oc-vacina-6040-sp.xlsx'\n",
    "alvo = 'evolucaoCaso'\n",
    "baseObitoCurado = pd.read_excel(url)\n",
    "\n",
    "bases = {}\n",
    "bases['Base OC (60/40)'] = url"
   ]
  },
  {
   "cell_type": "code",
   "execution_count": 36,
   "id": "ec79483c",
   "metadata": {},
   "outputs": [],
   "source": [
    "# Definindo o Modelo de Regressão Logística\n",
    "hiperparametrosLR = LogisticRegression(C=1.0, class_weight=None, dual=False, fit_intercept=True, \n",
    "                                       intercept_scaling=1, l1_ratio=None, max_iter=1000, multi_class='auto', \n",
    "                                       n_jobs=None, penalty='l2', random_state=1340, solver='lbfgs', \n",
    "                                       tol=0.0001, verbose=0, warm_start=False)\n",
    "\n",
    "modeloClassificador = {\"LR\": hiperparametrosLR}"
   ]
  },
  {
   "cell_type": "code",
   "execution_count": 37,
   "id": "a2e9845f",
   "metadata": {},
   "outputs": [
    {
     "name": "stdout",
     "output_type": "stream",
     "text": [
      "Index(['evolucaoCaso', 'dorDeGarganta', 'dispneia', 'coriza', 'dorDeCabeca',\n",
      "       'diabetes', 'cardiaca', 'faixaetaria', 'qntVacinas'],\n",
      "      dtype='object')\n",
      "===============\n"
     ]
    },
    {
     "data": {
      "text/html": [
       "<div>\n",
       "<style scoped>\n",
       "    .dataframe tbody tr th:only-of-type {\n",
       "        vertical-align: middle;\n",
       "    }\n",
       "\n",
       "    .dataframe tbody tr th {\n",
       "        vertical-align: top;\n",
       "    }\n",
       "\n",
       "    .dataframe thead th {\n",
       "        text-align: right;\n",
       "    }\n",
       "</style>\n",
       "<table border=\"1\" class=\"dataframe\">\n",
       "  <thead>\n",
       "    <tr style=\"text-align: right;\">\n",
       "      <th></th>\n",
       "      <th>Base</th>\n",
       "      <th>Modelo</th>\n",
       "      <th>Hiperparâmetros</th>\n",
       "      <th>Acurácia</th>\n",
       "      <th>Precisão (0)</th>\n",
       "      <th>Recall (0)</th>\n",
       "      <th>F1-Score (0)</th>\n",
       "      <th>Precisão (1)</th>\n",
       "      <th>Recall (1)</th>\n",
       "      <th>F1-Score (1)</th>\n",
       "      <th>3 Kfolds</th>\n",
       "      <th>5 Kfolds</th>\n",
       "    </tr>\n",
       "  </thead>\n",
       "  <tbody>\n",
       "    <tr>\n",
       "      <th>0</th>\n",
       "      <td>Base OC (60/40)</td>\n",
       "      <td>LR</td>\n",
       "      <td>{'C': 1.0, 'class_weight': None, 'dual': False...</td>\n",
       "      <td>83.372%</td>\n",
       "      <td>84.181%</td>\n",
       "      <td>56.546%</td>\n",
       "      <td>67.65%</td>\n",
       "      <td>83.162%</td>\n",
       "      <td>95.282%</td>\n",
       "      <td>88.81%</td>\n",
       "      <td>83.473%</td>\n",
       "      <td>83.806%</td>\n",
       "    </tr>\n",
       "  </tbody>\n",
       "</table>\n",
       "</div>"
      ],
      "text/plain": [
       "              Base Modelo                                    Hiperparâmetros  \\\n",
       "0  Base OC (60/40)     LR  {'C': 1.0, 'class_weight': None, 'dual': False...   \n",
       "\n",
       "  Acurácia Precisão (0) Recall (0) F1-Score (0) Precisão (1) Recall (1)  \\\n",
       "0  83.372%      84.181%    56.546%       67.65%      83.162%    95.282%   \n",
       "\n",
       "  F1-Score (1) 3 Kfolds 5 Kfolds  \n",
       "0       88.81%  83.473%  83.806%  "
      ]
     },
     "execution_count": 37,
     "metadata": {},
     "output_type": "execute_result"
    }
   ],
   "source": [
    "valoresAlvo = [0, 1]\n",
    "\n",
    "colunasRemovidas = ['dataPrimeiraDose', 'dataSegundaDose', 'assintomatico', 'puerpera', 'disturbiosGustatorios', \n",
    "                    'disturbiosOlfativos', 'gestante', 'tosse', 'respiratoria', 'fragilidadeImuno', 'racaCor', \n",
    "                    'sexo', 'febre', 'renal', 'imunossupressao', 'obesidade']\n",
    "\n",
    "desempenhoDosModelos = mf.testarModelos(bases, alvo, colunasRemovidas, modeloClassificador, valoresAlvo)\n",
    "desempenhoDosModelos"
   ]
  },
  {
   "cell_type": "markdown",
   "id": "b28942ce",
   "metadata": {},
   "source": [
    "### Desempenho - Treinamento e Teste"
   ]
  },
  {
   "cell_type": "code",
   "execution_count": 40,
   "id": "c187f984",
   "metadata": {},
   "outputs": [],
   "source": [
    "# Carregando a Base de Dados\n",
    "baseObitoCurado = pd.read_excel(url)"
   ]
  },
  {
   "cell_type": "code",
   "execution_count": 41,
   "id": "2152c16c",
   "metadata": {},
   "outputs": [],
   "source": [
    "# Selecionando os Atributos do Pré-Processamento\n",
    "\n",
    "atributosSelecionados = ['faixaetaria', 'dispneia', 'qntVacinas', 'dorDeGarganta', \n",
    "                         'coriza', 'diabetes', 'dorDeCabeca', 'cardiaca', 'evolucaoCaso']\n",
    "\n",
    "baseObitoCurado = baseObitoCurado.loc[:, atributosSelecionados]"
   ]
  },
  {
   "cell_type": "code",
   "execution_count": 42,
   "id": "8eef6ee1",
   "metadata": {},
   "outputs": [],
   "source": [
    "x_train, x_test, y_train, y_test = train_test_split(baseObitoCurado.drop(alvo,axis=1),\n",
    "                                                    baseObitoCurado[alvo],\n",
    "                                                    test_size=0.3,\n",
    "                                                    random_state=42);"
   ]
  },
  {
   "cell_type": "code",
   "execution_count": 45,
   "id": "b1069414",
   "metadata": {},
   "outputs": [
    {
     "name": "stdout",
     "output_type": "stream",
     "text": [
      "              precision    recall  f1-score   support\n",
      "\n",
      "           0       0.84      0.57      0.68       527\n",
      "           1       0.83      0.95      0.89      1187\n",
      "\n",
      "    accuracy                           0.83      1714\n",
      "   macro avg       0.84      0.76      0.78      1714\n",
      "weighted avg       0.83      0.83      0.82      1714\n",
      "\n"
     ]
    }
   ],
   "source": [
    "# Fit nos dados\n",
    "modeloClassificador = hiperparametrosLR\n",
    "modeloClassificador.fit(x_train, y_train)\n",
    "\n",
    "#Realizando a predição\n",
    "resultadoTeste = modeloClassificador.predict(x_test)\n",
    "\n",
    "# Verificando a acurácia\n",
    "print(metrics.classification_report(y_test,resultadoTeste))"
   ]
  },
  {
   "cell_type": "markdown",
   "id": "fe38c57c",
   "metadata": {},
   "source": [
    "### Avaliando as outras Bases "
   ]
  },
  {
   "cell_type": "code",
   "execution_count": 46,
   "id": "7b19bce9",
   "metadata": {},
   "outputs": [],
   "source": [
    "url = 'Vacinas/OC/oc-vacina-6040-rj.xlsx'\n",
    "baseTeste = pd.read_excel(url)"
   ]
  },
  {
   "cell_type": "code",
   "execution_count": 47,
   "id": "9150db27",
   "metadata": {},
   "outputs": [],
   "source": [
    "colunasSelecionadasTeste = ['faixaetaria', 'dispneia', 'qntVacinas', 'dorDeGarganta', \n",
    "              'coriza', 'diabetes', 'dorDeCabeca', 'cardiaca']\n",
    "\n",
    "dadosTeste = baseTeste.loc[:, colunasSelecionadasTeste]\n",
    "dadosAlvo =  baseTeste.loc[:, alvo]"
   ]
  },
  {
   "cell_type": "code",
   "execution_count": 53,
   "id": "62578d59",
   "metadata": {},
   "outputs": [
    {
     "name": "stdout",
     "output_type": "stream",
     "text": [
      "              precision    recall  f1-score   support\n",
      "\n",
      "           0       0.80      0.65      0.72       585\n",
      "           1       0.87      0.94      0.90      1462\n",
      "\n",
      "    accuracy                           0.85      2047\n",
      "   macro avg       0.84      0.79      0.81      2047\n",
      "weighted avg       0.85      0.85      0.85      2047\n",
      "\n"
     ]
    }
   ],
   "source": [
    "# Coletando as variáveis e atributo alvo\n",
    "predicaoResultado = modeloClassificador.predict(dadosTeste)\n",
    "print(metrics.classification_report(dadosAlvo, predicaoResultado))"
   ]
  },
  {
   "cell_type": "code",
   "execution_count": null,
   "id": "333b4f5d",
   "metadata": {},
   "outputs": [],
   "source": []
  }
 ],
 "metadata": {
  "kernelspec": {
   "display_name": "Python 3 (ipykernel)",
   "language": "python",
   "name": "python3"
  },
  "language_info": {
   "codemirror_mode": {
    "name": "ipython",
    "version": 3
   },
   "file_extension": ".py",
   "mimetype": "text/x-python",
   "name": "python",
   "nbconvert_exporter": "python",
   "pygments_lexer": "ipython3",
   "version": "3.8.10"
  }
 },
 "nbformat": 4,
 "nbformat_minor": 5
}
