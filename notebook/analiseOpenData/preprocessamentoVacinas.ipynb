{
 "cells": [
  {
   "cell_type": "code",
   "execution_count": 11,
   "id": "bffd2d36",
   "metadata": {},
   "outputs": [
    {
     "name": "stdout",
     "output_type": "stream",
     "text": [
      "importing Jupyter notebook from preprocessamentofuncoes.ipynb\n"
     ]
    }
   ],
   "source": [
    "import pandas as pd\n",
    "import import_ipynb\n",
    "import preprocessamentofuncoes as pp"
   ]
  },
  {
   "cell_type": "code",
   "execution_count": 12,
   "id": "0801b4b9",
   "metadata": {},
   "outputs": [],
   "source": [
    "#uf = \"sp\"\n",
    "lote = \"ic-6040-sp.xlsx\"\n",
    "\n",
    "urlBase = \"BasesBalanceadas/Internado-Curado/\" + lote\n",
    "\n",
    "#print(urlBase)\n",
    "covidData = pd.read_excel(urlBase)"
   ]
  },
  {
   "cell_type": "code",
   "execution_count": 14,
   "id": "37220a6b",
   "metadata": {
    "collapsed": true
   },
   "outputs": [
    {
     "data": {
      "text/html": [
       "<div>\n",
       "<style scoped>\n",
       "    .dataframe tbody tr th:only-of-type {\n",
       "        vertical-align: middle;\n",
       "    }\n",
       "\n",
       "    .dataframe tbody tr th {\n",
       "        vertical-align: top;\n",
       "    }\n",
       "\n",
       "    .dataframe thead th {\n",
       "        text-align: right;\n",
       "    }\n",
       "</style>\n",
       "<table border=\"1\" class=\"dataframe\">\n",
       "  <thead>\n",
       "    <tr style=\"text-align: right;\">\n",
       "      <th></th>\n",
       "      <th>dataPrimeiraDose</th>\n",
       "      <th>dataSegundaDose</th>\n",
       "      <th>qntVacinas</th>\n",
       "    </tr>\n",
       "  </thead>\n",
       "  <tbody>\n",
       "    <tr>\n",
       "      <th>0</th>\n",
       "      <td>2021-04-05</td>\n",
       "      <td>NaN</td>\n",
       "      <td>1.0</td>\n",
       "    </tr>\n",
       "    <tr>\n",
       "      <th>1</th>\n",
       "      <td>NaN</td>\n",
       "      <td>NaN</td>\n",
       "      <td>0.0</td>\n",
       "    </tr>\n",
       "    <tr>\n",
       "      <th>2</th>\n",
       "      <td>NaN</td>\n",
       "      <td>NaN</td>\n",
       "      <td>0.0</td>\n",
       "    </tr>\n",
       "    <tr>\n",
       "      <th>3</th>\n",
       "      <td>NaN</td>\n",
       "      <td>NaN</td>\n",
       "      <td>0.0</td>\n",
       "    </tr>\n",
       "    <tr>\n",
       "      <th>4</th>\n",
       "      <td>NaN</td>\n",
       "      <td>NaN</td>\n",
       "      <td>0.0</td>\n",
       "    </tr>\n",
       "    <tr>\n",
       "      <th>...</th>\n",
       "      <td>...</td>\n",
       "      <td>...</td>\n",
       "      <td>...</td>\n",
       "    </tr>\n",
       "    <tr>\n",
       "      <th>495</th>\n",
       "      <td>2021-04-23</td>\n",
       "      <td>NaN</td>\n",
       "      <td>1.0</td>\n",
       "    </tr>\n",
       "    <tr>\n",
       "      <th>496</th>\n",
       "      <td>2021-04-23</td>\n",
       "      <td>2021-05-20</td>\n",
       "      <td>2.0</td>\n",
       "    </tr>\n",
       "    <tr>\n",
       "      <th>497</th>\n",
       "      <td>2021-04-26</td>\n",
       "      <td>2021-07-19</td>\n",
       "      <td>2.0</td>\n",
       "    </tr>\n",
       "    <tr>\n",
       "      <th>498</th>\n",
       "      <td>2021-04-27</td>\n",
       "      <td>2021-08-04</td>\n",
       "      <td>2.0</td>\n",
       "    </tr>\n",
       "    <tr>\n",
       "      <th>499</th>\n",
       "      <td>2021-04-28</td>\n",
       "      <td>2021-07-27</td>\n",
       "      <td>2.0</td>\n",
       "    </tr>\n",
       "  </tbody>\n",
       "</table>\n",
       "<p>500 rows × 3 columns</p>\n",
       "</div>"
      ],
      "text/plain": [
       "    dataPrimeiraDose dataSegundaDose  qntVacinas\n",
       "0         2021-04-05             NaN         1.0\n",
       "1                NaN             NaN         0.0\n",
       "2                NaN             NaN         0.0\n",
       "3                NaN             NaN         0.0\n",
       "4                NaN             NaN         0.0\n",
       "..               ...             ...         ...\n",
       "495       2021-04-23             NaN         1.0\n",
       "496       2021-04-23      2021-05-20         2.0\n",
       "497       2021-04-26      2021-07-19         2.0\n",
       "498       2021-04-27      2021-08-04         2.0\n",
       "499       2021-04-28      2021-07-27         2.0\n",
       "\n",
       "[500 rows x 3 columns]"
      ]
     },
     "execution_count": 14,
     "metadata": {},
     "output_type": "execute_result"
    }
   ],
   "source": [
    "covidData.loc[((covidData['dataPrimeiraDose'].isnull()) & \n",
    "               (covidData['dataSegundaDose'].isnull())) , 'qntVacinas'] = 0\n",
    "\n",
    "covidData.loc[((covidData['dataPrimeiraDose'].isnull() == False) & \n",
    "               (covidData['dataSegundaDose'].isnull())) , 'qntVacinas'] = 1\n",
    "\n",
    "covidData.loc[((covidData['dataPrimeiraDose'].isnull()) & \n",
    "               (covidData['dataSegundaDose'].isnull() == False)) , 'qntVacinas'] = 1\n",
    "\n",
    "covidData.loc[((covidData['dataPrimeiraDose'].isnull() == False) & \n",
    "               (covidData['dataSegundaDose'].isnull() == False)) , 'qntVacinas'] = 2\n",
    "\n",
    "#covidData[['dataPrimeiraDose', 'dataSegundaDose', 'qntVacinas']].head(500)"
   ]
  },
  {
   "cell_type": "code",
   "execution_count": 15,
   "id": "0ae35d79",
   "metadata": {},
   "outputs": [
    {
     "data": {
      "text/plain": [
       "0.0    1110\n",
       "2.0    1006\n",
       "1.0     880\n",
       "Name: qntVacinas, dtype: int64"
      ]
     },
     "execution_count": 15,
     "metadata": {},
     "output_type": "execute_result"
    }
   ],
   "source": [
    "covidData['qntVacinas'].value_counts()"
   ]
  },
  {
   "cell_type": "code",
   "execution_count": 16,
   "id": "d36ec8ab",
   "metadata": {},
   "outputs": [],
   "source": [
    "pp.salvarBaseDeDados(covidData, 'ic-vacina-6040-sp.xlsx')"
   ]
  },
  {
   "cell_type": "markdown",
   "id": "6cc06bad",
   "metadata": {},
   "source": [
    "### Convertendo os Valores 0 (Não Vacinado) e 1 (Vacinado)"
   ]
  },
  {
   "cell_type": "code",
   "execution_count": 7,
   "id": "2eb1aaf4",
   "metadata": {},
   "outputs": [],
   "source": [
    "base = \"ic-vacina-7030-sp.xlsx\"\n",
    "covidData = pd.read_excel(base)"
   ]
  },
  {
   "cell_type": "code",
   "execution_count": 8,
   "id": "9c526180",
   "metadata": {},
   "outputs": [
    {
     "data": {
      "text/plain": [
       "0    1355\n",
       "2    1262\n",
       "1    1092\n",
       "Name: qntVacinas, dtype: int64"
      ]
     },
     "execution_count": 8,
     "metadata": {},
     "output_type": "execute_result"
    }
   ],
   "source": [
    "covidData['qntVacinas'].value_counts()"
   ]
  },
  {
   "cell_type": "code",
   "execution_count": 9,
   "id": "984aa0d0",
   "metadata": {},
   "outputs": [],
   "source": [
    "covidData['qntVacinas'] = covidData['qntVacinas'].map({0:0, 1:1, 2:1})"
   ]
  },
  {
   "cell_type": "code",
   "execution_count": 10,
   "id": "2e25d3cf",
   "metadata": {},
   "outputs": [
    {
     "data": {
      "text/plain": [
       "1    2354\n",
       "0    1355\n",
       "Name: qntVacinas, dtype: int64"
      ]
     },
     "execution_count": 10,
     "metadata": {},
     "output_type": "execute_result"
    }
   ],
   "source": [
    "covidData['qntVacinas'].value_counts()"
   ]
  },
  {
   "cell_type": "code",
   "execution_count": 11,
   "id": "85b487eb",
   "metadata": {},
   "outputs": [],
   "source": [
    "pp.salvarBaseDeDados(covidData, 'ic-vacina-7030-sp-v2.xlsx')"
   ]
  },
  {
   "cell_type": "markdown",
   "id": "10c6e549",
   "metadata": {},
   "source": [
    "### Adicionando a quantidade de Vacinas "
   ]
  },
  {
   "cell_type": "code",
   "execution_count": 12,
   "id": "d511f6af",
   "metadata": {},
   "outputs": [],
   "source": [
    "def adicionarQntVacinans(covidData):\n",
    "    covidData.loc[((covidData['dataPrimeiraDose'].isnull()) & \n",
    "                   (covidData['dataSegundaDose'].isnull())) , 'qntVacinas'] = 0\n",
    "\n",
    "    covidData.loc[((covidData['dataPrimeiraDose'].isnull() == False) & \n",
    "                   (covidData['dataSegundaDose'].isnull())) , 'qntVacinas'] = 1\n",
    "\n",
    "    covidData.loc[((covidData['dataPrimeiraDose'].isnull()) & \n",
    "                   (covidData['dataSegundaDose'].isnull() == False)) , 'qntVacinas'] = 1\n",
    "\n",
    "    covidData.loc[((covidData['dataPrimeiraDose'].isnull() == False) & \n",
    "                   (covidData['dataSegundaDose'].isnull() == False)) , 'qntVacinas'] = 2\n",
    "    return covidData"
   ]
  },
  {
   "cell_type": "code",
   "execution_count": 17,
   "id": "fba43472",
   "metadata": {},
   "outputs": [],
   "source": [
    "basesOC7030 = [\"oc-7030-ac.xlsx\", \"oc-7030-al.xlsx\", \"oc-7030-am.xlsx\", \"oc-7030-ap.xlsx\", \"oc-7030-ba.xlsx\", \n",
    "               \"oc-7030-ce.xlsx\", \"oc-7030-df.xlsx\", \"oc-7030-go.xlsx\", \"oc-7030-ma.xlsx\", \"oc-7030-mg.xlsx\", \n",
    "               \"oc-7030-mt.xlsx\", \"oc-7030-pa.xlsx\", \"oc-7030-pb.xlsx\", \"oc-7030-pe.xlsx\", \"oc-7030-pi.xlsx\", \n",
    "               \"oc-7030-rj.xlsx\", \"oc-7030-rn.xlsx\", \"oc-7030-ro.xlsx\", \"oc-7030-rr.xlsx\", \"oc-7030-rs.xlsx\",\n",
    "               \"oc-7030-sc.xlsx\", \"oc-7030-sp.xlsx\", \"oc-7030-to.xlsx\"]\n",
    "\n",
    "basesOC6040 = [\"oc-6040-ac.xlsx\", \"oc-6040-al.xlsx\", \"oc-6040-am.xlsx\", \"oc-6040-ap.xlsx\", \"oc-6040-ba.xlsx\", \n",
    "               \"oc-6040-ce.xlsx\", \"oc-6040-df.xlsx\", \"oc-6040-go.xlsx\", \"oc-6040-ma.xlsx\", \"oc-6040-mg.xlsx\", \n",
    "               \"oc-6040-mt.xlsx\", \"oc-6040-pa.xlsx\", \"oc-6040-pb.xlsx\", \"oc-6040-pe.xlsx\", \"oc-6040-pi.xlsx\", \n",
    "               \"oc-6040-rj.xlsx\", \"oc-6040-rn.xlsx\", \"oc-6040-ro.xlsx\", \"oc-6040-rr.xlsx\", \"oc-6040-rs.xlsx\",\n",
    "               \"oc-6040-sc.xlsx\", \"oc-6040-sp.xlsx\", \"oc-6040-to.xlsx\"]\n",
    "\n",
    "basesIC6040 = [\"ic-6040-ac.xlsx\", \"ic-6040-al.xlsx\", \"ic-6040-am.xlsx\", \"ic-6040-ap.xlsx\", \"ic-6040-ba.xlsx\", \n",
    "               \"ic-6040-ce.xlsx\", \"ic-6040-df.xlsx\", \"ic-6040-go.xlsx\", \"ic-6040-ma.xlsx\", \"ic-6040-mg.xlsx\", \n",
    "               \"ic-6040-mt.xlsx\", \"ic-6040-pa.xlsx\", \"ic-6040-pb.xlsx\", \"ic-6040-pe.xlsx\", \"ic-6040-pi.xlsx\", \n",
    "               \"ic-6040-rj.xlsx\", \"ic-6040-ms.xlsx\", \"ic-6040-ro.xlsx\", \"ic-6040-rr.xlsx\", \"ic-6040-rs.xlsx\",\n",
    "               \"ic-6040-sc.xlsx\", \"ic-6040-sp.xlsx\", \"ic-6040-to.xlsx\"]\n",
    "\n",
    "basesIC7030 = [\"ic-7030-ac.xlsx\", \"ic-7030-al.xlsx\", \"ic-7030-am.xlsx\", \"ic-7030-ap.xlsx\", \"ic-7030-ba.xlsx\", \n",
    "               \"ic-7030-ce.xlsx\", \"ic-7030-df.xlsx\", \"ic-7030-go.xlsx\", \"ic-7030-ma.xlsx\", \"ic-7030-mg.xlsx\", \n",
    "               \"ic-7030-mt.xlsx\", \"ic-7030-pa.xlsx\", \"ic-7030-pb.xlsx\", \"ic-7030-pe.xlsx\", \"ic-7030-pi.xlsx\", \n",
    "               \"ic-7030-rj.xlsx\", \"ic-7030-ms.xlsx\", \"ic-7030-ro.xlsx\", \"ic-7030-rr.xlsx\", \"ic-7030-rs.xlsx\",\n",
    "               \"ic-7030-sc.xlsx\", \"ic-7030-sp.xlsx\", \"ic-7030-to.xlsx\"]"
   ]
  },
  {
   "cell_type": "code",
   "execution_count": 21,
   "id": "67ba7968",
   "metadata": {
    "collapsed": true
   },
   "outputs": [
    {
     "data": {
      "text/plain": [
       "{'ac': 'BasesBalanceadas/Internado-Curado/ic-6040-ac.xlsx',\n",
       " 'al': 'BasesBalanceadas/Internado-Curado/ic-6040-al.xlsx',\n",
       " 'am': 'BasesBalanceadas/Internado-Curado/ic-6040-am.xlsx',\n",
       " 'ap': 'BasesBalanceadas/Internado-Curado/ic-6040-ap.xlsx',\n",
       " 'ba': 'BasesBalanceadas/Internado-Curado/ic-6040-ba.xlsx',\n",
       " 'ce': 'BasesBalanceadas/Internado-Curado/ic-6040-ce.xlsx',\n",
       " 'df': 'BasesBalanceadas/Internado-Curado/ic-6040-df.xlsx',\n",
       " 'go': 'BasesBalanceadas/Internado-Curado/ic-6040-go.xlsx',\n",
       " 'ma': 'BasesBalanceadas/Internado-Curado/ic-6040-ma.xlsx',\n",
       " 'mg': 'BasesBalanceadas/Internado-Curado/ic-6040-mg.xlsx',\n",
       " 'mt': 'BasesBalanceadas/Internado-Curado/ic-6040-mt.xlsx',\n",
       " 'pa': 'BasesBalanceadas/Internado-Curado/ic-6040-pa.xlsx',\n",
       " 'pb': 'BasesBalanceadas/Internado-Curado/ic-6040-pb.xlsx',\n",
       " 'pe': 'BasesBalanceadas/Internado-Curado/ic-6040-pe.xlsx',\n",
       " 'pi': 'BasesBalanceadas/Internado-Curado/ic-6040-pi.xlsx',\n",
       " 'rj': 'BasesBalanceadas/Internado-Curado/ic-6040-rj.xlsx',\n",
       " 'ms': 'BasesBalanceadas/Internado-Curado/ic-6040-ms.xlsx',\n",
       " 'ro': 'BasesBalanceadas/Internado-Curado/ic-6040-ro.xlsx',\n",
       " 'rr': 'BasesBalanceadas/Internado-Curado/ic-6040-rr.xlsx',\n",
       " 'rs': 'BasesBalanceadas/Internado-Curado/ic-6040-rs.xlsx',\n",
       " 'sc': 'BasesBalanceadas/Internado-Curado/ic-6040-sc.xlsx',\n",
       " 'sp': 'BasesBalanceadas/Internado-Curado/ic-6040-sp.xlsx',\n",
       " 'to': 'BasesBalanceadas/Internado-Curado/ic-6040-to.xlsx'}"
      ]
     },
     "execution_count": 21,
     "metadata": {},
     "output_type": "execute_result"
    }
   ],
   "source": [
    "import re\n",
    "\n",
    "bases = {}\n",
    "proporcao = \" (60/40)\"\n",
    "baseAlvo = basesIC6040\n",
    "caminho = \"BasesBalanceadas/Internado-Curado/\"\n",
    "\n",
    "\n",
    "for i in range(0, len(baseAlvo)):\n",
    "    uf = re.compile(\"0-(.*?).xlsx\").search(baseAlvo[i]).group(1)\n",
    "    bases[uf] = str(caminho) + baseAlvo[i]\n",
    "    \n",
    "bases"
   ]
  },
  {
   "cell_type": "code",
   "execution_count": 19,
   "id": "dd172d9b",
   "metadata": {},
   "outputs": [],
   "source": [
    "alvo = 'evolucaoCaso'\n",
    "\n",
    "colunasRemovidas = ['disturbiosOlfativos', 'disturbiosGustatorios', 'puerpera', 'fragilidadeImuno', \n",
    "                    'assintomatico', 'dataPrimeiraDose', 'dataSegundaDose']"
   ]
  },
  {
   "cell_type": "code",
   "execution_count": 22,
   "id": "c1f2f591",
   "metadata": {
    "collapsed": true
   },
   "outputs": [
    {
     "name": "stdout",
     "output_type": "stream",
     "text": [
      "Vacina/IC/ic-vacina-7030-ac.xlsx\n",
      "Vacina/IC/ic-vacina-7030-al.xlsx\n",
      "Vacina/IC/ic-vacina-7030-am.xlsx\n",
      "Vacina/IC/ic-vacina-7030-ap.xlsx\n",
      "Vacina/IC/ic-vacina-7030-ba.xlsx\n",
      "Vacina/IC/ic-vacina-7030-ce.xlsx\n",
      "Vacina/IC/ic-vacina-7030-df.xlsx\n",
      "Vacina/IC/ic-vacina-7030-go.xlsx\n",
      "Vacina/IC/ic-vacina-7030-ma.xlsx\n",
      "Vacina/IC/ic-vacina-7030-mg.xlsx\n",
      "Vacina/IC/ic-vacina-7030-mt.xlsx\n",
      "Vacina/IC/ic-vacina-7030-pa.xlsx\n",
      "Vacina/IC/ic-vacina-7030-pb.xlsx\n",
      "Vacina/IC/ic-vacina-7030-pe.xlsx\n",
      "Vacina/IC/ic-vacina-7030-pi.xlsx\n",
      "Vacina/IC/ic-vacina-7030-rj.xlsx\n",
      "Vacina/IC/ic-vacina-7030-ms.xlsx\n",
      "Vacina/IC/ic-vacina-7030-ro.xlsx\n",
      "Vacina/IC/ic-vacina-7030-rr.xlsx\n",
      "Vacina/IC/ic-vacina-7030-rs.xlsx\n",
      "Vacina/IC/ic-vacina-7030-sc.xlsx\n",
      "Vacina/IC/ic-vacina-7030-sp.xlsx\n",
      "Vacina/IC/ic-vacina-7030-to.xlsx\n"
     ]
    }
   ],
   "source": [
    "for uf in bases.keys():\n",
    "    baseModificada = pd.read_excel(bases[uf])\n",
    "    baseModificada = adicionarQntVacinans(baseModificada)\n",
    "    print('Vacina/IC/ic-vacina-7030-'+ uf +'.xlsx')\n",
    "    pp.salvarBaseDeDados(covidData, 'Vacina/IC/ic-vacina-7030-'+ uf +'.xlsx')\n",
    "    "
   ]
  },
  {
   "cell_type": "code",
   "execution_count": null,
   "id": "ac6ba27c",
   "metadata": {},
   "outputs": [],
   "source": []
  }
 ],
 "metadata": {
  "kernelspec": {
   "display_name": "Python 3 (ipykernel)",
   "language": "python",
   "name": "python3"
  },
  "language_info": {
   "codemirror_mode": {
    "name": "ipython",
    "version": 3
   },
   "file_extension": ".py",
   "mimetype": "text/x-python",
   "name": "python",
   "nbconvert_exporter": "python",
   "pygments_lexer": "ipython3",
   "version": "3.8.10"
  }
 },
 "nbformat": 4,
 "nbformat_minor": 5
}
