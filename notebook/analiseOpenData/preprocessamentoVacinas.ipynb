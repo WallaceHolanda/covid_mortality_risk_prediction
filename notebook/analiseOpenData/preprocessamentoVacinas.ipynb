{
 "cells": [
  {
   "cell_type": "code",
   "execution_count": 1,
   "id": "bffd2d36",
   "metadata": {},
   "outputs": [
    {
     "name": "stdout",
     "output_type": "stream",
     "text": [
      "importing Jupyter notebook from preprocessamentofuncoes.ipynb\n"
     ]
    }
   ],
   "source": [
    "import pandas as pd\n",
    "import import_ipynb\n",
    "import preprocessamentofuncoes as pp"
   ]
  },
  {
   "cell_type": "code",
   "execution_count": 12,
   "id": "0801b4b9",
   "metadata": {},
   "outputs": [],
   "source": [
    "#uf = \"sp\"\n",
    "lote = \"ic-6040-sp.xlsx\"\n",
    "\n",
    "urlBase = \"BasesBalanceadas/Internado-Curado/\" + lote\n",
    "\n",
    "#print(urlBase)\n",
    "covidData = pd.read_excel(urlBase)"
   ]
  },
  {
   "cell_type": "code",
   "execution_count": 13,
   "id": "b2b0c7f6",
   "metadata": {},
   "outputs": [],
   "source": [
    "# Testando a função de Validar Data\n",
    "\n",
    "#teste = covidData.loc[1]\n",
    "#pp.dataValida(teste['dataPrimeiraDose'])"
   ]
  },
  {
   "cell_type": "code",
   "execution_count": 14,
   "id": "37220a6b",
   "metadata": {},
   "outputs": [
    {
     "data": {
      "text/html": [
       "<div>\n",
       "<style scoped>\n",
       "    .dataframe tbody tr th:only-of-type {\n",
       "        vertical-align: middle;\n",
       "    }\n",
       "\n",
       "    .dataframe tbody tr th {\n",
       "        vertical-align: top;\n",
       "    }\n",
       "\n",
       "    .dataframe thead th {\n",
       "        text-align: right;\n",
       "    }\n",
       "</style>\n",
       "<table border=\"1\" class=\"dataframe\">\n",
       "  <thead>\n",
       "    <tr style=\"text-align: right;\">\n",
       "      <th></th>\n",
       "      <th>dataPrimeiraDose</th>\n",
       "      <th>dataSegundaDose</th>\n",
       "      <th>qntVacinas</th>\n",
       "    </tr>\n",
       "  </thead>\n",
       "  <tbody>\n",
       "    <tr>\n",
       "      <th>0</th>\n",
       "      <td>2021-04-05</td>\n",
       "      <td>NaN</td>\n",
       "      <td>1.0</td>\n",
       "    </tr>\n",
       "    <tr>\n",
       "      <th>1</th>\n",
       "      <td>NaN</td>\n",
       "      <td>NaN</td>\n",
       "      <td>0.0</td>\n",
       "    </tr>\n",
       "    <tr>\n",
       "      <th>2</th>\n",
       "      <td>NaN</td>\n",
       "      <td>NaN</td>\n",
       "      <td>0.0</td>\n",
       "    </tr>\n",
       "    <tr>\n",
       "      <th>3</th>\n",
       "      <td>NaN</td>\n",
       "      <td>NaN</td>\n",
       "      <td>0.0</td>\n",
       "    </tr>\n",
       "    <tr>\n",
       "      <th>4</th>\n",
       "      <td>NaN</td>\n",
       "      <td>NaN</td>\n",
       "      <td>0.0</td>\n",
       "    </tr>\n",
       "    <tr>\n",
       "      <th>...</th>\n",
       "      <td>...</td>\n",
       "      <td>...</td>\n",
       "      <td>...</td>\n",
       "    </tr>\n",
       "    <tr>\n",
       "      <th>495</th>\n",
       "      <td>2021-04-23</td>\n",
       "      <td>NaN</td>\n",
       "      <td>1.0</td>\n",
       "    </tr>\n",
       "    <tr>\n",
       "      <th>496</th>\n",
       "      <td>2021-04-23</td>\n",
       "      <td>2021-05-20</td>\n",
       "      <td>2.0</td>\n",
       "    </tr>\n",
       "    <tr>\n",
       "      <th>497</th>\n",
       "      <td>2021-04-26</td>\n",
       "      <td>2021-07-19</td>\n",
       "      <td>2.0</td>\n",
       "    </tr>\n",
       "    <tr>\n",
       "      <th>498</th>\n",
       "      <td>2021-04-27</td>\n",
       "      <td>2021-08-04</td>\n",
       "      <td>2.0</td>\n",
       "    </tr>\n",
       "    <tr>\n",
       "      <th>499</th>\n",
       "      <td>2021-04-28</td>\n",
       "      <td>2021-07-27</td>\n",
       "      <td>2.0</td>\n",
       "    </tr>\n",
       "  </tbody>\n",
       "</table>\n",
       "<p>500 rows × 3 columns</p>\n",
       "</div>"
      ],
      "text/plain": [
       "    dataPrimeiraDose dataSegundaDose  qntVacinas\n",
       "0         2021-04-05             NaN         1.0\n",
       "1                NaN             NaN         0.0\n",
       "2                NaN             NaN         0.0\n",
       "3                NaN             NaN         0.0\n",
       "4                NaN             NaN         0.0\n",
       "..               ...             ...         ...\n",
       "495       2021-04-23             NaN         1.0\n",
       "496       2021-04-23      2021-05-20         2.0\n",
       "497       2021-04-26      2021-07-19         2.0\n",
       "498       2021-04-27      2021-08-04         2.0\n",
       "499       2021-04-28      2021-07-27         2.0\n",
       "\n",
       "[500 rows x 3 columns]"
      ]
     },
     "execution_count": 14,
     "metadata": {},
     "output_type": "execute_result"
    }
   ],
   "source": [
    "covidData.loc[((covidData['dataPrimeiraDose'].isnull()) & \n",
    "               (covidData['dataSegundaDose'].isnull())) , 'qntVacinas'] = 0\n",
    "\n",
    "covidData.loc[((covidData['dataPrimeiraDose'].isnull() == False) & \n",
    "               (covidData['dataSegundaDose'].isnull())) , 'qntVacinas'] = 1\n",
    "\n",
    "covidData.loc[((covidData['dataPrimeiraDose'].isnull()) & \n",
    "               (covidData['dataSegundaDose'].isnull() == False)) , 'qntVacinas'] = 1\n",
    "\n",
    "covidData.loc[((covidData['dataPrimeiraDose'].isnull() == False) & \n",
    "               (covidData['dataSegundaDose'].isnull() == False)) , 'qntVacinas'] = 2\n",
    "\n",
    "covidData[['dataPrimeiraDose', 'dataSegundaDose', 'qntVacinas']].head(500)"
   ]
  },
  {
   "cell_type": "code",
   "execution_count": 15,
   "id": "0ae35d79",
   "metadata": {},
   "outputs": [
    {
     "data": {
      "text/plain": [
       "0.0    1110\n",
       "2.0    1006\n",
       "1.0     880\n",
       "Name: qntVacinas, dtype: int64"
      ]
     },
     "execution_count": 15,
     "metadata": {},
     "output_type": "execute_result"
    }
   ],
   "source": [
    "covidData['qntVacinas'].value_counts()"
   ]
  },
  {
   "cell_type": "code",
   "execution_count": 16,
   "id": "d36ec8ab",
   "metadata": {},
   "outputs": [],
   "source": [
    "pp.salvarBaseDeDados(covidData, 'ic-vacina-6040-sp.xlsx')"
   ]
  },
  {
   "cell_type": "markdown",
   "id": "6cc06bad",
   "metadata": {},
   "source": [
    "### Convertendo os Valores 0 (Não Vacinado) e 1 (Vacinado)"
   ]
  },
  {
   "cell_type": "code",
   "execution_count": 7,
   "id": "2eb1aaf4",
   "metadata": {},
   "outputs": [],
   "source": [
    "base = \"ic-vacina-7030-sp.xlsx\"\n",
    "covidData = pd.read_excel(base)"
   ]
  },
  {
   "cell_type": "code",
   "execution_count": 8,
   "id": "9c526180",
   "metadata": {},
   "outputs": [
    {
     "data": {
      "text/plain": [
       "0    1355\n",
       "2    1262\n",
       "1    1092\n",
       "Name: qntVacinas, dtype: int64"
      ]
     },
     "execution_count": 8,
     "metadata": {},
     "output_type": "execute_result"
    }
   ],
   "source": [
    "covidData['qntVacinas'].value_counts()"
   ]
  },
  {
   "cell_type": "code",
   "execution_count": 9,
   "id": "984aa0d0",
   "metadata": {},
   "outputs": [],
   "source": [
    "covidData['qntVacinas'] = covidData['qntVacinas'].map({0:0, 1:1, 2:1})"
   ]
  },
  {
   "cell_type": "code",
   "execution_count": 10,
   "id": "2e25d3cf",
   "metadata": {},
   "outputs": [
    {
     "data": {
      "text/plain": [
       "1    2354\n",
       "0    1355\n",
       "Name: qntVacinas, dtype: int64"
      ]
     },
     "execution_count": 10,
     "metadata": {},
     "output_type": "execute_result"
    }
   ],
   "source": [
    "covidData['qntVacinas'].value_counts()"
   ]
  },
  {
   "cell_type": "code",
   "execution_count": 11,
   "id": "85b487eb",
   "metadata": {},
   "outputs": [],
   "source": [
    "pp.salvarBaseDeDados(covidData, 'ic-vacina-7030-sp-v2.xlsx')"
   ]
  },
  {
   "cell_type": "code",
   "execution_count": null,
   "id": "6f574f1d",
   "metadata": {},
   "outputs": [],
   "source": []
  }
 ],
 "metadata": {
  "kernelspec": {
   "display_name": "Python 3 (ipykernel)",
   "language": "python",
   "name": "python3"
  },
  "language_info": {
   "codemirror_mode": {
    "name": "ipython",
    "version": 3
   },
   "file_extension": ".py",
   "mimetype": "text/x-python",
   "name": "python",
   "nbconvert_exporter": "python",
   "pygments_lexer": "ipython3",
   "version": "3.8.10"
  }
 },
 "nbformat": 4,
 "nbformat_minor": 5
}
