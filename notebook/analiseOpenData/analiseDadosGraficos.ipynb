{
 "cells": [
  {
   "cell_type": "code",
   "execution_count": 1,
   "id": "b443cab7",
   "metadata": {},
   "outputs": [],
   "source": [
    "# Importando as bibliotecas\n",
    "import pandas as pd\n",
    "import numpy as np\n",
    "import matplotlib.pyplot as plt\n",
    "import seaborn as sns"
   ]
  },
  {
   "cell_type": "markdown",
   "id": "4e95bf9a",
   "metadata": {},
   "source": [
    "### Funções Axiliares"
   ]
  },
  {
   "cell_type": "code",
   "execution_count": 21,
   "id": "e72bd27d",
   "metadata": {},
   "outputs": [],
   "source": [
    "def sintomasComorbidades(base, atributos):\n",
    "    possui = []\n",
    "    naoPossui = []\n",
    "    \n",
    "    for atributo in atributos:\n",
    "        valores = base[atributo].value_counts()\n",
    "        total = valores.sum()\n",
    "        naoPossui.append((valores[0]) / total)\n",
    "        possui.append((valores[1]) / total) \n",
    "    \n",
    "    mapa = {'naopossui':naoPossui, 'possui':possui}\n",
    "    return mapa"
   ]
  },
  {
   "cell_type": "code",
   "execution_count": 27,
   "id": "772afc4b",
   "metadata": {},
   "outputs": [],
   "source": [
    "def gerarGraficoBarrasDuplas(width, termos, vetor_1, vetor_2, label_vetor_1, label_vetor_2, label_x, label_y):\n",
    "    fig, ax = plt.subplots()\n",
    "    ind = np.arange(len(termos))\n",
    "    plt.bar(ind, vetor_1, width, color = 'blue', label = label_vetor_1)\n",
    "    plt.bar(ind + width, vetor_2, width, color = 'red', label = label_vetor_2)\n",
    "\n",
    "    plt.xlabel(label_x)\n",
    "    plt.ylabel(label_y)\n",
    "\n",
    "    plt.yticks([0, 0.1, 0.2, 0.3, 0.4, 0.5, 0.6, 0.7, 0.8, 0.9, 1])\n",
    "\n",
    "    plt.xticks(rotation=45)\n",
    "    location = ind+width/2\n",
    "    labels= termos\n",
    "    plt.xticks(location, labels)\n",
    "    plt.legend()\n",
    "\n",
    "    plt.show()\n",
    "    #fig = plt.gcf()\n",
    "    #fig.savefig('comparativo_casos.png', format='png')"
   ]
  },
  {
   "cell_type": "code",
   "execution_count": 71,
   "id": "87c3a737",
   "metadata": {},
   "outputs": [],
   "source": [
    "def gerarGraficoBarrasTriplas(width, termos, vetor_1, vetor_2, vetor_3, label_vetor_1, \n",
    "                             label_vetor_2, label_vetor_3, label_x, label_y):\n",
    "    \n",
    "    plt.rcParams[\"figure.figsize\"] = (10,5.5)\n",
    "    fig, ax = plt.subplots()\n",
    "    ind = np.arange(len(termos))\n",
    "    plt.bar(ind, vetor_1, width, color = 'blue', label = label_vetor_1)\n",
    "    plt.bar(ind + width / 2, vetor_2, width, color = 'red', label = label_vetor_2)\n",
    "    plt.bar(ind + width, vetor_3, width, color = 'orange', label = label_vetor_3)\n",
    "\n",
    "    plt.xlabel(label_x)\n",
    "    plt.ylabel(label_y)\n",
    "\n",
    "    plt.yticks([0, 0.1, 0.2, 0.3, 0.4, 0.5, 0.6, 0.7, 0.8, 0.9, 1])\n",
    "\n",
    "    plt.xticks(rotation=45)\n",
    "    location = ind+width/2\n",
    "    labels= termos\n",
    "    plt.xticks(location, labels)\n",
    "    plt.legend()\n",
    "    \n",
    "    plt.show()"
   ]
  },
  {
   "cell_type": "markdown",
   "id": "ca09518c",
   "metadata": {},
   "source": [
    "### Visualizando os Dados"
   ]
  },
  {
   "cell_type": "code",
   "execution_count": 2,
   "id": "36cc6a27",
   "metadata": {},
   "outputs": [],
   "source": [
    "# Carregando o Dataset\n",
    "url = 'Vacinas/OC/oc-vacina-6040-sp.xlsx'\n",
    "alvo = 'evolucaoCaso'\n",
    "\n",
    "baseObitoCurado = pd.read_excel(url)"
   ]
  },
  {
   "cell_type": "code",
   "execution_count": 3,
   "id": "f18ae249",
   "metadata": {},
   "outputs": [],
   "source": [
    "# Selecionando os Atributos\n",
    "\n",
    "atributosSelecionados = ['faixaetaria', 'dispneia', 'qntVacinas', 'dorDeGarganta', \n",
    "                         'coriza', 'diabetes', 'dorDeCabeca', 'cardiaca', 'evolucaoCaso']\n",
    "\n",
    "baseObitoCurado = baseObitoCurado.loc[:, atributosSelecionados]"
   ]
  },
  {
   "cell_type": "code",
   "execution_count": 18,
   "id": "4533eca5",
   "metadata": {},
   "outputs": [
    {
     "data": {
      "text/html": [
       "<div>\n",
       "<style scoped>\n",
       "    .dataframe tbody tr th:only-of-type {\n",
       "        vertical-align: middle;\n",
       "    }\n",
       "\n",
       "    .dataframe tbody tr th {\n",
       "        vertical-align: top;\n",
       "    }\n",
       "\n",
       "    .dataframe thead th {\n",
       "        text-align: right;\n",
       "    }\n",
       "</style>\n",
       "<table border=\"1\" class=\"dataframe\">\n",
       "  <thead>\n",
       "    <tr style=\"text-align: right;\">\n",
       "      <th></th>\n",
       "      <th>faixaetaria</th>\n",
       "      <th>dispneia</th>\n",
       "      <th>qntVacinas</th>\n",
       "      <th>dorDeGarganta</th>\n",
       "      <th>coriza</th>\n",
       "      <th>diabetes</th>\n",
       "      <th>dorDeCabeca</th>\n",
       "      <th>cardiaca</th>\n",
       "      <th>evolucaoCaso</th>\n",
       "    </tr>\n",
       "  </thead>\n",
       "  <tbody>\n",
       "    <tr>\n",
       "      <th>0</th>\n",
       "      <td>6</td>\n",
       "      <td>1</td>\n",
       "      <td>0</td>\n",
       "      <td>0</td>\n",
       "      <td>0</td>\n",
       "      <td>1</td>\n",
       "      <td>0</td>\n",
       "      <td>0</td>\n",
       "      <td>0</td>\n",
       "    </tr>\n",
       "    <tr>\n",
       "      <th>1</th>\n",
       "      <td>5</td>\n",
       "      <td>0</td>\n",
       "      <td>2</td>\n",
       "      <td>0</td>\n",
       "      <td>0</td>\n",
       "      <td>0</td>\n",
       "      <td>0</td>\n",
       "      <td>0</td>\n",
       "      <td>0</td>\n",
       "    </tr>\n",
       "    <tr>\n",
       "      <th>2</th>\n",
       "      <td>4</td>\n",
       "      <td>1</td>\n",
       "      <td>0</td>\n",
       "      <td>0</td>\n",
       "      <td>0</td>\n",
       "      <td>0</td>\n",
       "      <td>0</td>\n",
       "      <td>0</td>\n",
       "      <td>0</td>\n",
       "    </tr>\n",
       "    <tr>\n",
       "      <th>3</th>\n",
       "      <td>4</td>\n",
       "      <td>0</td>\n",
       "      <td>0</td>\n",
       "      <td>0</td>\n",
       "      <td>0</td>\n",
       "      <td>0</td>\n",
       "      <td>0</td>\n",
       "      <td>0</td>\n",
       "      <td>0</td>\n",
       "    </tr>\n",
       "    <tr>\n",
       "      <th>4</th>\n",
       "      <td>4</td>\n",
       "      <td>0</td>\n",
       "      <td>0</td>\n",
       "      <td>0</td>\n",
       "      <td>0</td>\n",
       "      <td>0</td>\n",
       "      <td>0</td>\n",
       "      <td>0</td>\n",
       "      <td>0</td>\n",
       "    </tr>\n",
       "    <tr>\n",
       "      <th>...</th>\n",
       "      <td>...</td>\n",
       "      <td>...</td>\n",
       "      <td>...</td>\n",
       "      <td>...</td>\n",
       "      <td>...</td>\n",
       "      <td>...</td>\n",
       "      <td>...</td>\n",
       "      <td>...</td>\n",
       "      <td>...</td>\n",
       "    </tr>\n",
       "    <tr>\n",
       "      <th>5707</th>\n",
       "      <td>3</td>\n",
       "      <td>0</td>\n",
       "      <td>1</td>\n",
       "      <td>1</td>\n",
       "      <td>1</td>\n",
       "      <td>0</td>\n",
       "      <td>1</td>\n",
       "      <td>0</td>\n",
       "      <td>1</td>\n",
       "    </tr>\n",
       "    <tr>\n",
       "      <th>5708</th>\n",
       "      <td>2</td>\n",
       "      <td>0</td>\n",
       "      <td>2</td>\n",
       "      <td>0</td>\n",
       "      <td>0</td>\n",
       "      <td>0</td>\n",
       "      <td>0</td>\n",
       "      <td>0</td>\n",
       "      <td>1</td>\n",
       "    </tr>\n",
       "    <tr>\n",
       "      <th>5709</th>\n",
       "      <td>3</td>\n",
       "      <td>0</td>\n",
       "      <td>2</td>\n",
       "      <td>0</td>\n",
       "      <td>1</td>\n",
       "      <td>0</td>\n",
       "      <td>1</td>\n",
       "      <td>0</td>\n",
       "      <td>1</td>\n",
       "    </tr>\n",
       "    <tr>\n",
       "      <th>5710</th>\n",
       "      <td>5</td>\n",
       "      <td>0</td>\n",
       "      <td>1</td>\n",
       "      <td>1</td>\n",
       "      <td>0</td>\n",
       "      <td>0</td>\n",
       "      <td>0</td>\n",
       "      <td>0</td>\n",
       "      <td>1</td>\n",
       "    </tr>\n",
       "    <tr>\n",
       "      <th>5711</th>\n",
       "      <td>2</td>\n",
       "      <td>0</td>\n",
       "      <td>1</td>\n",
       "      <td>0</td>\n",
       "      <td>1</td>\n",
       "      <td>0</td>\n",
       "      <td>1</td>\n",
       "      <td>0</td>\n",
       "      <td>1</td>\n",
       "    </tr>\n",
       "  </tbody>\n",
       "</table>\n",
       "<p>5712 rows × 9 columns</p>\n",
       "</div>"
      ],
      "text/plain": [
       "      faixaetaria  dispneia  qntVacinas  dorDeGarganta  coriza  diabetes  \\\n",
       "0               6         1           0              0       0         1   \n",
       "1               5         0           2              0       0         0   \n",
       "2               4         1           0              0       0         0   \n",
       "3               4         0           0              0       0         0   \n",
       "4               4         0           0              0       0         0   \n",
       "...           ...       ...         ...            ...     ...       ...   \n",
       "5707            3         0           1              1       1         0   \n",
       "5708            2         0           2              0       0         0   \n",
       "5709            3         0           2              0       1         0   \n",
       "5710            5         0           1              1       0         0   \n",
       "5711            2         0           1              0       1         0   \n",
       "\n",
       "      dorDeCabeca  cardiaca  evolucaoCaso  \n",
       "0               0         0             0  \n",
       "1               0         0             0  \n",
       "2               0         0             0  \n",
       "3               0         0             0  \n",
       "4               0         0             0  \n",
       "...           ...       ...           ...  \n",
       "5707            1         0             1  \n",
       "5708            0         0             1  \n",
       "5709            1         0             1  \n",
       "5710            0         0             1  \n",
       "5711            1         0             1  \n",
       "\n",
       "[5712 rows x 9 columns]"
      ]
     },
     "execution_count": 18,
     "metadata": {},
     "output_type": "execute_result"
    }
   ],
   "source": [
    "baseObitoCurado"
   ]
  },
  {
   "cell_type": "markdown",
   "id": "178de2cc",
   "metadata": {},
   "source": [
    "### Sintomas e Comorbidades (Óbito)"
   ]
  },
  {
   "cell_type": "code",
   "execution_count": 38,
   "id": "042c59d9",
   "metadata": {},
   "outputs": [],
   "source": [
    "# Filtrando apenas os óbitos\n",
    "filtro = baseObitoCurado['evolucaoCaso'] == 0\n",
    "baseObito = baseObitoCurado[filtro]\n",
    "baseObito['evolucaoCaso'].value_counts()\n",
    "\n",
    "atributos = ['dispneia', 'dorDeGarganta', 'coriza', 'diabetes', 'dorDeCabeca', 'cardiaca']\n",
    "valoresObito = sintomasComorbidades(baseObito, atributos)\n",
    "#valoresObito"
   ]
  },
  {
   "cell_type": "code",
   "execution_count": 41,
   "id": "96e6a357",
   "metadata": {},
   "outputs": [
    {
     "data": {
      "image/png": "[encoded data removed]",
      "text/plain": [
       "<Figure size 432x288 with 1 Axes>"
      ]
     },
     "metadata": {
      "needs_background": "light"
     },
     "output_type": "display_data"
    }
   ],
   "source": [
    "# Gerando o Gráfico\n",
    "termos = ['Dispneia', 'Dor de Garganta', 'Coriza', 'Diabetes', 'Dor de Cabeca', 'Prob. Cardiaco']\n",
    "gerarGraficoBarrasDuplas(0.4, termos, valoresObito['possui'], valoresObito['naopossui'], \n",
    "                         'Possui', 'Não Possui', 'Sintomas e Comorbidades', \n",
    "                         'Porcentagem dos Óbitos')"
   ]
  },
  {
   "cell_type": "markdown",
   "id": "30577248",
   "metadata": {},
   "source": [
    "### Sintomas e Comorbidades (Curado)"
   ]
  },
  {
   "cell_type": "code",
   "execution_count": 43,
   "id": "b28811d7",
   "metadata": {},
   "outputs": [],
   "source": [
    "# Filtrando apenas os óbitos\n",
    "filtro = baseObitoCurado['evolucaoCaso'] == 1\n",
    "baseCurado = baseObitoCurado[filtro]\n",
    "baseCurado['evolucaoCaso'].value_counts()\n",
    "\n",
    "atributos = ['dispneia', 'dorDeGarganta', 'coriza', 'diabetes', 'dorDeCabeca', 'cardiaca']\n",
    "valoresCurado = sintomasComorbidades(baseCurado, atributos)\n",
    "#valoresObito"
   ]
  },
  {
   "cell_type": "code",
   "execution_count": 74,
   "id": "229b6609",
   "metadata": {},
   "outputs": [
    {
     "data": {
      "image/png": "[encoded data removed]",
      "text/plain": [
       "<Figure size 720x396 with 1 Axes>"
      ]
     },
     "metadata": {
      "needs_background": "light"
     },
     "output_type": "display_data"
    },
    {
     "data": {
      "image/png": "[encoded data removed]",
      "text/plain": [
       "<Figure size 720x396 with 1 Axes>"
      ]
     },
     "metadata": {
      "needs_background": "light"
     },
     "output_type": "display_data"
    }
   ],
   "source": [
    "termos = ['Dispneia', 'Dor de Garganta', 'Coriza', 'Diabetes', 'Dor de Cabeca', 'Prob. Cardiaco']\n",
    "\n",
    "gerarGraficoBarrasDuplas(0.4, termos, valoresObito['possui'], valoresObito['naopossui'], \n",
    "                         'Possui', 'Não Possui', 'Sintomas e Comorbidades', \n",
    "                         'Porcentagem dos Óbitos')\n",
    "\n",
    "gerarGraficoBarrasDuplas(0.4, termos, valoresCurado['possui'], valoresCurado['naopossui'], \n",
    "                         'Possui', 'Não Possui', 'Sintomas e Comorbidades', \n",
    "                         'Porcentagem dos Curados')"
   ]
  },
  {
   "cell_type": "code",
   "execution_count": 72,
   "id": "2b7fe78c",
   "metadata": {},
   "outputs": [
    {
     "data": {
      "image/png": "[encoded data removed]",
      "text/plain": [
       "<Figure size 720x396 with 1 Axes>"
      ]
     },
     "metadata": {
      "needs_background": "light"
     },
     "output_type": "display_data"
    }
   ],
   "source": [
    "# Visualização por faixaetaria\n",
    "gerarGraficoBarrasTriplas(0.4, termos, valoresCurado['possui'], valoresCurado['naopossui'], valoresCurado['naopossui'],\n",
    "                         'Possui', 'Não Possui', 'Não Possui', 'Sintomas e Comorbidades', \n",
    "                         'Porcentagem dos Óbitos')"
   ]
  },
  {
   "cell_type": "code",
   "execution_count": null,
   "id": "2ce6a44e",
   "metadata": {},
   "outputs": [],
   "source": [
    "# Quantidade de Vacinas - Óbito\n",
    "\n",
    "\n"
   ]
  },
  {
   "cell_type": "code",
   "execution_count": null,
   "id": "f9be6acd",
   "metadata": {},
   "outputs": [],
   "source": [
    "# Mortalidade por faixa-etaria\n"
   ]
  },
  {
   "cell_type": "code",
   "execution_count": null,
   "id": "fc175d3d",
   "metadata": {},
   "outputs": [],
   "source": []
  }
 ],
 "metadata": {
  "kernelspec": {
   "display_name": "Python 3 (ipykernel)",
   "language": "python",
   "name": "python3"
  },
  "language_info": {
   "codemirror_mode": {
    "name": "ipython",
    "version": 3
   },
   "file_extension": ".py",
   "mimetype": "text/x-python",
   "name": "python",
   "nbconvert_exporter": "python",
   "pygments_lexer": "ipython3",
   "version": "3.8.10"
  }
 },
 "nbformat": 4,
 "nbformat_minor": 5
}
