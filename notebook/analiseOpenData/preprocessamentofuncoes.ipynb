{
 "cells": [
  {
   "cell_type": "code",
   "execution_count": null,
   "id": "86f3ec2f",
   "metadata": {},
   "outputs": [],
   "source": [
    "from matplotlib import pyplot as plt\n",
    "from dateutil.parser import parse\n",
    "import pandas as pd"
   ]
  },
  {
   "cell_type": "markdown",
   "id": "434a113d",
   "metadata": {},
   "source": [
    "### Visualização de Dados Faltosos"
   ]
  },
  {
   "cell_type": "code",
   "execution_count": null,
   "id": "aef0628a",
   "metadata": {},
   "outputs": [],
   "source": [
    "def visualizarQntFaltosos(covidData):\n",
    "    faltantes = covidData.isnull().sum()\n",
    "    faltantes_percentual = (covidData.isnull().sum() / len(covidData['source_id'])) * 100\n",
    "    return faltantes_percentual\n",
    "    \n",
    "def plotarQntFaltosos(dados):\n",
    "    nomes = dados.index\n",
    "    valores = dados.values\n",
    "    plt.barh(nomes, valores)\n",
    "    plt.show"
   ]
  },
  {
   "cell_type": "markdown",
   "id": "b8fb911e",
   "metadata": {},
   "source": [
    "### Pré-processamento -- Classificação Final\n",
    "\n",
    "```Descartado, Confirmado [Laboratorial, Clínico-Epidemiológico, Critério Clínico] e  Síndrome Gripal Não Especificada```"
   ]
  },
  {
   "cell_type": "code",
   "execution_count": null,
   "id": "6c876ed9",
   "metadata": {},
   "outputs": [],
   "source": [
    "# Remover os dados faltosos da coluna ClassificacaoFinal\n",
    "def __classFinRemoverFaltos__(covidData, classificacao):\n",
    "    atributosVazios = covidData.loc[covidData[classificacao].isnull()]\n",
    "    covidData = covidData.drop(atributosVazios.index)\n",
    "    return covidData\n",
    "\n",
    "# Agrupar as instâncias confirmadas\n",
    "def __classFinAgruparConfirmados__(covidData, classificacao):\n",
    "    covidData.loc[covidData[classificacao].str.contains(pat = 'Confirmado'), [classificacao]] = 'Confirmado';\n",
    "    return covidData\n",
    "\n",
    "# Remover os dados diferentes de confirmados\n",
    "def __classFinRemoverOutliers__(covidData, classificacao):\n",
    "    dadosNaoConfirmados = covidData.loc[((covidData[classificacao] != 'Confirmado'))]\n",
    "    covidData = covidData.drop(dadosNaoConfirmados.index)\n",
    "    return covidData"
   ]
  },
  {
   "cell_type": "code",
   "execution_count": null,
   "id": "09a6203b",
   "metadata": {},
   "outputs": [],
   "source": [
    "# Pré-processamento Geral\n",
    "def classFinPreprocessamento(covidData, alvo):\n",
    "    covidData = __classFinRemoverFaltos__(covidData, alvo)\n",
    "    covidData = __classFinAgruparConfirmados__(covidData, alvo)\n",
    "    covidData = __classFinRemoverOutliers__(covidData, alvo)\n",
    "    return covidData"
   ]
  },
  {
   "cell_type": "markdown",
   "id": "e75543f9",
   "metadata": {},
   "source": [
    "### Pré-processamento -- Evolução\n",
    "\n",
    "``` Pode conter (Cancelado, Cura, Ignorado, Em tratamento domiciliar, Óbito, Internado, Internado em UTI ```"
   ]
  },
  {
   "cell_type": "code",
   "execution_count": null,
   "id": "579ef859",
   "metadata": {},
   "outputs": [],
   "source": [
    "# Remover os dados faltosos da coluna Evolução\n",
    "def __evolucaoRemoverFaltosos__(covidData, evolucao):\n",
    "    atributosVazios = covidData.loc[covidData[evolucao].isnull()]\n",
    "    covidData = covidData.drop(atributosVazios.index)\n",
    "    return covidData\n",
    "\n",
    "# Remover instâncias com valores Cancelado ou Ignorado\n",
    "def __evolucaoRemoverCanceladoIgnorado__(covidData, evolucao):\n",
    "    dadosIgnoradosCancelados = covidData.loc[((covidData[evolucao] == 'Ignorado') | \n",
    "                                              (covidData[evolucao] == 'Cancelado'))]\n",
    "    covidData = covidData.drop(dadosIgnoradosCancelados.index)\n",
    "    return covidData\n",
    "\n",
    "# Agrupar as instâncias de Internação\n",
    "def __evolucaoAgruparInternados__(covidData, evolucao):\n",
    "    covidData.loc[covidData[evolucao] == 'Internado em UTI', [evolucao]] = 'Internado';\n",
    "    return covidData\n",
    "\n",
    "# Agrupar as instâncias Curadas\n",
    "def __evolucaoAgruparCurados__(covidData, evolucao):\n",
    "    covidData.loc[covidData[evolucao] == 'Em tratamento domiciliar', [evolucao]] = 'Cura';\n",
    "    return covidData"
   ]
  },
  {
   "cell_type": "code",
   "execution_count": null,
   "id": "58c01fc3",
   "metadata": {},
   "outputs": [],
   "source": [
    "# Pré-processamento Geral - Evolução\n",
    "def evolucaoPreprocessamento(covidData, alvo):\n",
    "    covidData = __evolucaoRemoverFaltosos__(covidData, alvo)\n",
    "    covidData = __evolucaoRemoverCanceladoIgnorado__(covidData, alvo)\n",
    "    covidData = __evolucaoAgruparInternados__(covidData, alvo)\n",
    "    covidData = __evolucaoAgruparCurados__(covidData, alvo)\n",
    "    return covidData"
   ]
  },
  {
   "cell_type": "markdown",
   "id": "c6db4a5c",
   "metadata": {},
   "source": [
    "### Pré-processamento -- Sintomas\n",
    "\n",
    "``` Pode conter - Assintomático, Febre, Dor de Garganta, Dispneia, Tosse,  Coriza, Dor de Cabeça, Distúrbios gustatórios, Distúrbios olfativos ```"
   ]
  },
  {
   "cell_type": "code",
   "execution_count": null,
   "id": "f4ab3942",
   "metadata": {},
   "outputs": [],
   "source": [
    "descricaoSintomas = {\"assintomatico\": 'Assintomático', \n",
    "                     \"febre\": 'Febre', \n",
    "                     \"dorDeGarganta\": 'Dor de Garganta', \n",
    "                     \"dispneia\": 'Dispneia', \n",
    "                     \"tosse\": 'Tosse', \n",
    "                     \"coriza\": 'Coriza', \n",
    "                     \"dorDeCabeca\": 'Dor de Cabeça', \n",
    "                     \"disturbiosGustatorios\": 'Distúrbios gustatórios', \n",
    "                     \"disturbiosOlfativos\": 'Distúrbios olfativos'}\n",
    "\n",
    "def __sintomasRemoverFaltosos__(covidData, sintomas):\n",
    "    atributosVazios = covidData.loc[covidData[sintomas].isnull()]\n",
    "    covidData = covidData.drop(atributosVazios.index)\n",
    "    return covidData\n",
    "\n",
    "def __sintomasConverterTipos__(covidData, sintomas):\n",
    "    for chave in descricaoSintomas.keys():\n",
    "        covidData[chave] = covidData[sintomas].apply(lambda x: 1 if descricaoSintomas[chave] in x else 0)\n",
    "    return covidData    "
   ]
  },
  {
   "cell_type": "code",
   "execution_count": null,
   "id": "262f9f01",
   "metadata": {},
   "outputs": [],
   "source": [
    "def sintomasQntValores(covidData):\n",
    "    for chave in descricaoSintomas.keys():\n",
    "        qnt = covidData[chave].value_counts()\n",
    "        print(chave)\n",
    "        print('P (%d) \\t N (%d)' % (1 in qnt.index and qnt[1] or 0, 0 in qnt.index and qnt[0] or 0))\n",
    "        print('=====================================')"
   ]
  },
  {
   "cell_type": "code",
   "execution_count": null,
   "id": "5df02045",
   "metadata": {},
   "outputs": [],
   "source": [
    "# Pré-processamento Geral - Sintomas\n",
    "def sintomasPreprocessamento(covidData, sintomas):\n",
    "    covidData = __sintomasRemoverFaltosos__(covidData, sintomas)\n",
    "    covidData = __sintomasConverterTipos__(covidData, sintomas)\n",
    "    return covidData  "
   ]
  },
  {
   "cell_type": "markdown",
   "id": "5fc8073c",
   "metadata": {},
   "source": [
    "### Pré-processamento -- Condições\n",
    "\n",
    "```Diabetes, Obesidade, Doenças renais crônicas em estágio avançado, Doenças respiratórias crônicas descompensadas, Imunossupressão, Portador de doenças cromossômicas ou estado de fragilidade imunológica, Gestante, Doenças cardíacas crônicas, Puérpera (até 45 dias do parto) ```"
   ]
  },
  {
   "cell_type": "code",
   "execution_count": null,
   "id": "5449ddef",
   "metadata": {},
   "outputs": [],
   "source": [
    "descricaoComorbidades = {\"diabetes\": 'Diabetes', \n",
    "                \"obesidade\": 'Obesidade', \n",
    "                \"renal\": 'Doenças renais crônicas em estágio avançado',\n",
    "                \"respiratoria\": 'Doenças respiratórias crônicas descompensadas',\n",
    "                \"imunossupressao\": 'Imunossupressão',\n",
    "                \"fragilidadeImuno\": 'Portador de doenças cromossômicas ou estado de fragilidade imunológica',\n",
    "                \"gestante\": 'Gestante',\n",
    "                \"cardiaca\": 'Doenças cardíacas crônicas',\n",
    "                \"puerpera\": 'Puérpera'}\n",
    "\n",
    "\n",
    "def __condicoesConverterTipos__(covidData, condicoes):\n",
    "    covidData[condicoes] = covidData[condicoes].fillna('Faltoso')\n",
    "    for chave in descricaoComorbidades.keys():\n",
    "        covidData[chave] = covidData[condicoes].apply(lambda x: 1 if descricaoComorbidades[chave] in x else 0)\n",
    "        covidData.loc[(covidData[condicoes].str.contains(pat = 'Faltoso')), chave] = 'F'\n",
    "    return covidData"
   ]
  },
  {
   "cell_type": "code",
   "execution_count": null,
   "id": "2a41707b",
   "metadata": {},
   "outputs": [],
   "source": [
    "def condicoesQntValores(covidData):\n",
    "    for chave in descricaoComorbidades.keys():\n",
    "        qnt = covidData[chave].value_counts()\n",
    "        print(chave)\n",
    "        print('P (%d) \\t N (%d)' % (1 in qnt.index and qnt[1] or 0, 0 in qnt.index and qnt[0] or 0))\n",
    "        print('=====================================')\n",
    "        \n",
    "def condicoesQntValoresComAusentes(covidData):\n",
    "    for chave in descricaoComorbidades.keys():\n",
    "        qnt = covidData[chave].value_counts()\n",
    "        print(chave)\n",
    "        print('P (%d) \\t N (%d) \\t A (%d)' % (1 in qnt.index and qnt[1] or 0, \n",
    "                                              0 in qnt.index and qnt[0] or 0, \n",
    "                                              'F' in qnt.index and qnt['F'] or 0))\n",
    "        print('=====================================')\n",
    "        \n",
    "        \n",
    "def condicoesFormatarValores(covidData):\n",
    "    for chave in descricaoComorbidades.keys():        \n",
    "        covidData[chave] = covidData[chave].replace([0, 1, 'F'], [0, 1, 0])\n",
    "    return covidData"
   ]
  },
  {
   "cell_type": "code",
   "execution_count": null,
   "id": "79bcf092",
   "metadata": {},
   "outputs": [],
   "source": [
    "# Pré-processamento Geral - Condições\n",
    "def condicoesPreprocessamento(covidData, condicoes):\n",
    "    covidData = __condicoesConverterTipos__(covidData, condicoes)\n",
    "    return covidData  "
   ]
  },
  {
   "cell_type": "markdown",
   "id": "b91cfeb7",
   "metadata": {},
   "source": [
    "### Pré-processamento -- Vacinas"
   ]
  },
  {
   "cell_type": "code",
   "execution_count": 1,
   "id": "7fc70e62",
   "metadata": {},
   "outputs": [],
   "source": [
    "def __stringVazia__(myString):\n",
    "    if myString and myString.strip():\n",
    "        return False\n",
    "    return True\n",
    "\n",
    "def __dataValida__(string, fuzzy=False):\n",
    "    if isBlank(string):\n",
    "        return False\n",
    "    try: \n",
    "        parse(string, fuzzy=fuzzy)\n",
    "        return True\n",
    "\n",
    "    except ValueError:\n",
    "        return False"
   ]
  },
  {
   "cell_type": "code",
   "execution_count": null,
   "id": "533f8d42",
   "metadata": {},
   "outputs": [],
   "source": [
    "\"\"\"\n",
    "covidData.loc[((covidData['dataPrimeiraDose'].isnull()) & \n",
    "               (covidData['dataSegundaDose'].isnull())) , 'qntVacinas'] = 0\n",
    "\n",
    "covidData.loc[((covidData['dataPrimeiraDose'].isnull() == False) & \n",
    "               (covidData['dataSegundaDose'].isnull())) , 'qntVacinas'] = 1\n",
    "\n",
    "covidData.loc[((covidData['dataPrimeiraDose'].isnull() == False) & \n",
    "               (covidData['dataSegundaDose'].isnull() == False)) , 'qntVacinas'] = 2\n",
    "\n",
    "covidData.loc[((covidData['dataPrimeiraDose'].isnull()) & \n",
    "               (covidData['dataSegundaDose'].isnull() == False)) , 'qntVacinas'] = 3\n",
    "\n",
    "covidData[['dataPrimeiraDose', 'dataSegundaDose', 'qntVacinas']].head(100)\n",
    "\n",
    "covidData['qntVacinas'].value_counts()\n",
    "\"\"\""
   ]
  },
  {
   "cell_type": "markdown",
   "id": "da624b0e",
   "metadata": {},
   "source": [
    "### Pré-processamento -- Idade"
   ]
  },
  {
   "cell_type": "code",
   "execution_count": null,
   "id": "ada5874d",
   "metadata": {},
   "outputs": [],
   "source": [
    "def __idadeRemoverFaltosos__(covidData, idade):\n",
    "    idadeAusentes = covidData.loc[covidData[idade].isnull()]\n",
    "    covidData = covidData.drop(idadeAusentes.index)\n",
    "    return covidData\n",
    "\n",
    "def __idadeRemoverOutliers__(covidData, idade):\n",
    "    idadeOutliers = covidData.loc[((covidData[idade] >= 110) | (covidData[idade] < 0))]\n",
    "    covidData = covidData.drop(idadeOutliers.index)\n",
    "    return covidData\n",
    "\n",
    "def __idadeConverterFaixaEtaria__(covidData, idade, faixaetaria):\n",
    "    covidData.loc[((covidData[idade] >= 0) & (covidData[idade] <= 11)), faixaetaria] = 0\n",
    "    covidData.loc[((covidData[idade] >= 12) & (covidData[idade] <= 17)), faixaetaria] = 1\n",
    "    covidData.loc[((covidData[idade] >= 18) & (covidData[idade] <= 29)), faixaetaria] = 2\n",
    "    covidData.loc[((covidData[idade] >= 30) & (covidData[idade] <= 44)), faixaetaria] = 3\n",
    "    covidData.loc[((covidData[idade] >= 45) & (covidData[idade] <= 59)), faixaetaria] = 4\n",
    "    covidData.loc[((covidData[idade] >= 60) & (covidData[idade] <= 74)), faixaetaria] = 5\n",
    "    covidData.loc[((covidData[idade] >= 75) & (covidData[idade] <= 89)), faixaetaria] = 6\n",
    "    covidData.loc[((covidData[idade] >= 90)), faixaetaria] = 7\n",
    "    return covidData"
   ]
  },
  {
   "cell_type": "code",
   "execution_count": null,
   "id": "b7020cba",
   "metadata": {},
   "outputs": [],
   "source": [
    "# Pré-processamento Geral - Idade\n",
    "def idadePreprocessamento(covidData, idade, faixaetaria):\n",
    "    covidData = __idadeRemoverFaltosos__(covidData, idade)\n",
    "    covidData = __idadeRemoverOutliers__(covidData, idade)\n",
    "    covidData = __idadeConverterFaixaEtaria__(covidData, idade, faixaetaria)\n",
    "    return covidData  "
   ]
  },
  {
   "cell_type": "markdown",
   "id": "c129e92e",
   "metadata": {},
   "source": [
    "### Pré-processamento -- Raça"
   ]
  },
  {
   "cell_type": "code",
   "execution_count": null,
   "id": "a24eb710",
   "metadata": {},
   "outputs": [],
   "source": [
    "def __racaRemoverFaltosos__(covidData, raca):\n",
    "    racaAusentes = covidData.loc[covidData[raca].isnull()]\n",
    "    covidData = covidData.drop(racaAusentes.index)\n",
    "    return covidData\n",
    "\n",
    "def __racaRemoverOutliers__(covidData, raca):    \n",
    "    racaOutliers = covidData.loc[((covidData[raca] != 'Branca') & (covidData[raca] != 'Preta') & \n",
    "                                 (covidData[raca] != 'Amarela') & (covidData[raca] != 'Parda') &\n",
    "                                 (covidData[raca] != 'Indigena'))]\n",
    "    covidData = covidData.drop(racaOutliers.index)\n",
    "    return covidData"
   ]
  },
  {
   "cell_type": "code",
   "execution_count": null,
   "id": "214ffb88",
   "metadata": {},
   "outputs": [],
   "source": [
    "# Pré-processamento Geral - Raça\n",
    "def racaPreprocessamento(covidData, raca):\n",
    "    covidData = __racaRemoverFaltosos__(covidData, raca)\n",
    "    covidData = __racaRemoverOutliers__(covidData, raca)\n",
    "    return covidData  "
   ]
  },
  {
   "cell_type": "markdown",
   "id": "4cf168f8",
   "metadata": {},
   "source": [
    "### Pré-processamento -- Sexo"
   ]
  },
  {
   "cell_type": "code",
   "execution_count": null,
   "id": "86677c64",
   "metadata": {},
   "outputs": [],
   "source": [
    "def __sexoRemoverFaltosos__(covidData, sexo):\n",
    "    sexoAusentes = covidData.loc[covidData[sexo].isnull()]\n",
    "    covidData = covidData.drop(sexoAusentes.index)\n",
    "    return covidData\n",
    "\n",
    "def __sexoRemoverOutliers__(covidData, sexo):\n",
    "    sexoOutliers = covidData.loc[((covidData[sexo] != 'Feminino') & (covidData[sexo] != 'Masculino'))]\n",
    "    covidData = covidData.drop(sexoOutliers.index)\n",
    "    return covidData"
   ]
  },
  {
   "cell_type": "code",
   "execution_count": null,
   "id": "8c493c65",
   "metadata": {},
   "outputs": [],
   "source": [
    "# Pré-processamento Geral - Raça\n",
    "def sexoPreprocessamento(covidData, sexo):\n",
    "    covidData = __sexoRemoverFaltosos__(covidData, sexo)\n",
    "    covidData = __sexoRemoverOutliers__(covidData, sexo)\n",
    "    return covidData  "
   ]
  },
  {
   "cell_type": "markdown",
   "id": "cddccd1b",
   "metadata": {},
   "source": [
    "### Pré-processamento -- Removendo Colunas"
   ]
  },
  {
   "cell_type": "code",
   "execution_count": null,
   "id": "ed9fda5f",
   "metadata": {},
   "outputs": [],
   "source": [
    "# Pré-processamento Geral - Remoção de Colunas\n",
    "def removerColunas(covidData, colunasRemovidas):\n",
    "    covidData = covidData.drop(columns = colunasRemovidas)\n",
    "    return covidData  "
   ]
  },
  {
   "cell_type": "markdown",
   "id": "6f9a7707",
   "metadata": {},
   "source": [
    "### Pré-processamento -- Formatando Colunas"
   ]
  },
  {
   "cell_type": "code",
   "execution_count": null,
   "id": "aaa1ca9e",
   "metadata": {},
   "outputs": [],
   "source": [
    "def __formatarRaca__(covidData):\n",
    "    raca = 'racaCor'\n",
    "    covidData[raca] = covidData[raca].replace(['Branca', 'Preta', 'Amarela', 'Parda', 'Indigena'], \n",
    "                                              [0, 1, 2, 3, 4])\n",
    "    return covidData\n",
    "\n",
    "def __formatarSexo__(covidData):\n",
    "    sexo = 'sexo'\n",
    "    covidData[sexo]= covidData[sexo].replace(['Feminino', 'Masculino'], [0, 1])\n",
    "    return covidData\n",
    "\n",
    "def __formatarEvolucao__(covidData):\n",
    "    evolucao = 'evolucaoCaso'\n",
    "    covidData[evolucao]= covidData[evolucao].replace(['Óbito', 'Cura'], [0, 1])\n",
    "    return covidData"
   ]
  },
  {
   "cell_type": "code",
   "execution_count": null,
   "id": "f3a212f0",
   "metadata": {},
   "outputs": [],
   "source": [
    "# Pré-processamento Geral - Formatação de Colunas\n",
    "def formatarColunas(covidData):\n",
    "    covidData = __formatarRaca__(covidData)\n",
    "    covidData = __formatarSexo__(covidData)\n",
    "    covidData = __formatarEvolucao__(covidData)\n",
    "    return covidData  "
   ]
  },
  {
   "cell_type": "markdown",
   "id": "848e5030",
   "metadata": {},
   "source": [
    "### Pré-processamento -- Balanceamento"
   ]
  },
  {
   "cell_type": "code",
   "execution_count": null,
   "id": "4404ed5c",
   "metadata": {},
   "outputs": [],
   "source": [
    "def __balanceamentoJuntarBases__(base_1, base_2):\n",
    "    covidBalanced = pd.merge(base_1, base_2, how = 'outer')\n",
    "    covidBalanced.reset_index(inplace=True, drop = True)\n",
    "    return covidBalanced\n",
    "    "
   ]
  },
  {
   "cell_type": "code",
   "execution_count": null,
   "id": "453d7b66",
   "metadata": {},
   "outputs": [],
   "source": [
    "def balanceamento(covidData, coluna, valor_1, porcentagem, valor_2):\n",
    "    dadosObitosAmostra = covidData.loc[((covidData[coluna] == valor_1))]\n",
    "    dadosCura = covidData.loc[((covidData[coluna] == valor_2))]\n",
    "\n",
    "    qntObitos = len(dadosObitosAmostra)\n",
    "    qntCurados = int((qntObitos * 100) / porcentagem)\n",
    "\n",
    "    dadosCuraAmostra = dadosCura.sample(qntCurados)\n",
    "    return __balanceamentoJuntarBases__(dadosObitosAmostra, dadosCuraAmostra)"
   ]
  },
  {
   "cell_type": "code",
   "execution_count": null,
   "id": "1cf4f96c",
   "metadata": {},
   "outputs": [],
   "source": []
  },
  {
   "cell_type": "code",
   "execution_count": null,
   "id": "0f905648",
   "metadata": {},
   "outputs": [],
   "source": []
  },
  {
   "cell_type": "markdown",
   "id": "73ffc7a4",
   "metadata": {},
   "source": [
    "### Pré-Processamento -- Salvando Dados"
   ]
  },
  {
   "cell_type": "code",
   "execution_count": null,
   "id": "75acaab3",
   "metadata": {},
   "outputs": [],
   "source": [
    "def salvarBaseDeDados(covidData, arquivo):\n",
    "    write = pd.ExcelWriter(arquivo)\n",
    "    covidData.to_excel(write, 'dados', index = False)\n",
    "    write.save()"
   ]
  }
 ],
 "metadata": {
  "kernelspec": {
   "display_name": "Python 3 (ipykernel)",
   "language": "python",
   "name": "python3"
  },
  "language_info": {
   "codemirror_mode": {
    "name": "ipython",
    "version": 3
   },
   "file_extension": ".py",
   "mimetype": "text/x-python",
   "name": "python",
   "nbconvert_exporter": "python",
   "pygments_lexer": "ipython3",
   "version": "3.8.10"
  }
 },
 "nbformat": 4,
 "nbformat_minor": 5
}
