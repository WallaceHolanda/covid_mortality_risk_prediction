{
 "cells": [
  {
   "cell_type": "code",
   "execution_count": 1,
   "id": "86f3ec2f",
   "metadata": {},
   "outputs": [],
   "source": [
    "from matplotlib import pyplot as plt\n",
    "import pandas as pd"
   ]
  },
  {
   "cell_type": "markdown",
   "id": "434a113d",
   "metadata": {},
   "source": [
    "### Visualização de Dados Faltosos"
   ]
  },
  {
   "cell_type": "code",
   "execution_count": 2,
   "id": "aef0628a",
   "metadata": {},
   "outputs": [],
   "source": [
    "def visualizarQntFaltosos(covidData):\n",
    "    faltantes = covidData.isnull().sum()\n",
    "    faltantes_percentual = (covidData.isnull().sum() / len(covidData['source_id'])) * 100\n",
    "    return faltantes_percentual\n",
    "    \n",
    "def plotarQntFaltosos(dados):\n",
    "    nomes = dados.index\n",
    "    valores = dados.values\n",
    "    plt.barh(nomes, valores)\n",
    "    plt.show"
   ]
  },
  {
   "cell_type": "markdown",
   "id": "b8fb911e",
   "metadata": {},
   "source": [
    "### Pré-processamento -- Classificação Final\n",
    "\n",
    "```Descartado, Confirmado [Laboratorial, Clínico-Epidemiológico, Critério Clínico] e  Síndrome Gripal Não Especificada```"
   ]
  },
  {
   "cell_type": "code",
   "execution_count": 3,
   "id": "6c876ed9",
   "metadata": {},
   "outputs": [],
   "source": [
    "# Remover os dados faltosos da coluna ClassificacaoFinal\n",
    "def __classFinRemoverFaltos__(covidData, classificacao):\n",
    "    atributosVazios = covidData.loc[covidData[classificacao].isnull()]\n",
    "    covidData = covidData.drop(atributosVazios.index)\n",
    "    return covidData\n",
    "\n",
    "# Agrupar as instâncias confirmadas\n",
    "def __classFinAgruparConfirmados__(covidData, classificacao):\n",
    "    covidData.loc[covidData[classificacao].str.contains(pat = 'Confirmado'), [classificacao]] = 'Confirmado';\n",
    "    return covidData\n",
    "\n",
    "# Remover os dados diferentes de confirmados\n",
    "def __classFinRemoverOutliers__(covidData, classificacao):\n",
    "    dadosNaoConfirmados = covidData.loc[((covidData[classificacao] != 'Confirmado'))]\n",
    "    covidData = covidData.drop(dadosNaoConfirmados.index)\n",
    "    return covidData"
   ]
  },
  {
   "cell_type": "code",
   "execution_count": 4,
   "id": "09a6203b",
   "metadata": {},
   "outputs": [],
   "source": [
    "# Pré-processamento Geral\n",
    "def classFinPreprocessamento(covidData, alvo):\n",
    "    covidData = __classFinRemoverFaltos__(covidData, alvo)\n",
    "    covidData = __classFinAgruparConfirmados__(covidData, alvo)\n",
    "    covidData = __classFinRemoverOutliers__(covidData, alvo)\n",
    "    return covidData"
   ]
  },
  {
   "cell_type": "markdown",
   "id": "e75543f9",
   "metadata": {},
   "source": [
    "### Pré-processamento -- Evolução\n",
    "\n",
    "``` Pode conter (Cancelado, Cura, Ignorado, Em tratamento domiciliar, Óbito, Internado, Internado em UTI ```"
   ]
  },
  {
   "cell_type": "code",
   "execution_count": 5,
   "id": "579ef859",
   "metadata": {},
   "outputs": [],
   "source": [
    "# Remover os dados faltosos da coluna Evolução\n",
    "def __evolucaoRemoverFaltosos__(covidData, evolucao):\n",
    "    atributosVazios = covidData.loc[covidData[evolucao].isnull()]\n",
    "    covidData = covidData.drop(atributosVazios.index)\n",
    "    return covidData\n",
    "\n",
    "# Remover instâncias com valores Cancelado ou Ignorado\n",
    "def __evolucaoRemoverCanceladoIgnorado__(covidData, evolucao):\n",
    "    dadosIgnoradosCancelados = covidData.loc[((covidData[evolucao] == 'Ignorado') | \n",
    "                                              (covidData[evolucao] == 'Cancelado'))]\n",
    "    covidData = covidData.drop(dadosIgnoradosCancelados.index)\n",
    "    return covidData\n",
    "\n",
    "# Agrupar as instâncias de Internação\n",
    "def __evolucaoAgruparInternados__(covidData, evolucao):\n",
    "    covidData.loc[covidData[evolucao] == 'Internado em UTI', [evolucao]] = 'Internado';\n",
    "    return covidData\n",
    "\n",
    "# Agrupar as instâncias Curadas\n",
    "def __evolucaoAgruparCurados__(covidData, evolucao):\n",
    "    covidData.loc[covidData[evolucao] == 'Em tratamento domiciliar', [evolucao]] = 'Cura';\n",
    "    return covidData"
   ]
  },
  {
   "cell_type": "code",
   "execution_count": 6,
   "id": "58c01fc3",
   "metadata": {},
   "outputs": [],
   "source": [
    "# Pré-processamento Geral\n",
    "def evolucaoPreprocessamento(covidData, alvo):\n",
    "    covidData = __evolucaoRemoverFaltosos__(covidData, alvo)\n",
    "    covidData = __evolucaoRemoverCanceladoIgnorado__(covidData, alvo)\n",
    "    covidData = __evolucaoAgruparInternados__(covidData, alvo)\n",
    "    covidData = __evolucaoAgruparCurados__(covidData, alvo)\n",
    "    return covidData"
   ]
  },
  {
   "cell_type": "markdown",
   "id": "c6db4a5c",
   "metadata": {},
   "source": [
    "### Pré-processamento -- Sintomas"
   ]
  },
  {
   "cell_type": "code",
   "execution_count": 7,
   "id": "f4ab3942",
   "metadata": {},
   "outputs": [],
   "source": [
    "# Pré-processamento Geral\n",
    "\n",
    "descricaoSintomas = {\"assintomatico\": 'Assintomático', \n",
    "                     \"febre\": 'Febre', \n",
    "                     \"dorDeGarganta\": 'Dor de Garganta', \n",
    "                     \"dispneia\": 'Dispneia', \n",
    "                     \"tosse\": 'Tosse', \n",
    "                     \"coriza\": 'Coriza', \n",
    "                     \"dorDeCabeca\": 'Dor de Cabeça', \n",
    "                     \"disturbiosGustatorios\": 'Distúrbios gustatórios', \n",
    "                     \"disturbiosOlfativos\": 'Distúrbios olfativos'}\n",
    "\n",
    "def sintomasPreprocessamento(covidData, sintomas):\n",
    "    for chave in descricaoSintomas.keys():\n",
    "        covidData[chave] = covidData[sintomas].apply(lambda x: 1 if descricaoSintomas[chave] in x else 0)\n",
    "    return covidData"
   ]
  },
  {
   "cell_type": "markdown",
   "id": "5fc8073c",
   "metadata": {},
   "source": [
    "### Pré-processamento -- Comorbidades"
   ]
  },
  {
   "cell_type": "code",
   "execution_count": null,
   "id": "5449ddef",
   "metadata": {},
   "outputs": [],
   "source": []
  },
  {
   "cell_type": "code",
   "execution_count": null,
   "id": "eac0c8b6",
   "metadata": {},
   "outputs": [],
   "source": []
  },
  {
   "cell_type": "code",
   "execution_count": null,
   "id": "533f8d42",
   "metadata": {},
   "outputs": [],
   "source": []
  },
  {
   "cell_type": "code",
   "execution_count": null,
   "id": "b7020cba",
   "metadata": {},
   "outputs": [],
   "source": []
  },
  {
   "cell_type": "code",
   "execution_count": null,
   "id": "685945c9",
   "metadata": {},
   "outputs": [],
   "source": []
  }
 ],
 "metadata": {
  "kernelspec": {
   "display_name": "Python 3 (ipykernel)",
   "language": "python",
   "name": "python3"
  },
  "language_info": {
   "codemirror_mode": {
    "name": "ipython",
    "version": 3
   },
   "file_extension": ".py",
   "mimetype": "text/x-python",
   "name": "python",
   "nbconvert_exporter": "python",
   "pygments_lexer": "ipython3",
   "version": "3.8.10"
  }
 },
 "nbformat": 4,
 "nbformat_minor": 5
}
