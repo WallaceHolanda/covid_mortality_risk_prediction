{
 "cells": [
  {
   "cell_type": "code",
   "execution_count": 1,
   "id": "14416589",
   "metadata": {},
   "outputs": [
    {
     "name": "stdout",
     "output_type": "stream",
     "text": [
      "importing Jupyter notebook from preprocessamentofuncoes.ipynb\n"
     ]
    }
   ],
   "source": [
    "import pandas as pd\n",
    "import numpy as np\n",
    "\n",
    "import import_ipynb\n",
    "import preprocessamentofuncoes as pp"
   ]
  },
  {
   "cell_type": "code",
   "execution_count": 6,
   "id": "8ac44176",
   "metadata": {},
   "outputs": [],
   "source": [
    "url_base = 'Vacinas/IC/ic-vacina-6040-sp.xlsx'\n",
    "covidData = pd.read_excel(url_base)"
   ]
  },
  {
   "cell_type": "code",
   "execution_count": 11,
   "id": "c25df5b0",
   "metadata": {},
   "outputs": [
    {
     "data": {
      "text/plain": [
       "(2996, 25)"
      ]
     },
     "execution_count": 11,
     "metadata": {},
     "output_type": "execute_result"
    }
   ],
   "source": [
    "#covidData['evolucaoCaso'].value_counts()\n",
    "covidData.shape"
   ]
  },
  {
   "cell_type": "code",
   "execution_count": 12,
   "id": "ea92f4f7",
   "metadata": {},
   "outputs": [
    {
     "data": {
      "text/plain": [
       "(2996, 15)"
      ]
     },
     "execution_count": 12,
     "metadata": {},
     "output_type": "execute_result"
    }
   ],
   "source": [
    "# colunasRemovidas = ['dataPrimeiraDose', 'dataSegundaDose', 'disturbiosGustatorios', 'disturbiosOlfativos', \n",
    "#                     'puerpera', 'respiratoria', 'tosse', 'febre', 'assintomatico', 'obesidade']\n",
    "\n",
    "# covidDataReduced = covidData.drop(columns = colunasRemovidas)\n",
    "# covidDataReduced.shape"
   ]
  },
  {
   "cell_type": "markdown",
   "id": "d0bae12c",
   "metadata": {},
   "source": [
    "### Modelo OC - Removendo as colunas não utilizadas"
   ]
  },
  {
   "cell_type": "code",
   "execution_count": 8,
   "id": "aa8010b9",
   "metadata": {},
   "outputs": [],
   "source": [
    "# Modelo OC\n",
    "\n",
    "# Menos de 0.1% de Importância (25 Atributos)\n",
    "# colunasRemovidas = ['assintomatico', 'asma', 'cefaleia', 'tosse', 'diarreia', \n",
    "#                     'dorNoPeito', 'hipotireoidismo', 'imunossupressao', 'puerpera', \n",
    "#                     'disturbiosGustatorios', 'disturbiosOlfativos', 'bronquite', \n",
    "#                     'dosNasCostas', 'gestante']\n",
    "\n",
    "# Menos de 1% de Importância (10 Atributos)\n",
    "# colunasRemovidas = ['assintomatico', 'asma', 'cefaleia', 'tosse', 'diarreia', \n",
    "#                     'dorNoPeito', 'hipotireoidismo', 'imunossupressao', 'puerpera', \n",
    "#                     'disturbiosGustatorios', 'disturbiosOlfativos', 'bronquite', \n",
    "#                     'dosNasCostas', 'gestante', 'respiratoria', 'sexo', 'febre', \n",
    "#                     'mialgia', 'cardiaca', 'hipertensao', 'faixaDiasSintomas', \n",
    "#                     'faltaDeAr', 'racaCor', 'congestaoNasal', 'renal', 'dorNoCorpo', \n",
    "#                     'vomito', 'fragilidadeImuno', 'cansaco']\n",
    "\n",
    "# colunasSelecionadas = ['evolucaoCaso', 'diasSintomas', 'dorDeGarganta', 'dispneia', \n",
    "#                        'coriza','dorDeCabeca', 'obesidade', 'qntVacinas', 'faixaetaria']\n",
    "\n",
    "# covidDataReduced = covidData.drop(columns = colunasRemovidas)\n",
    "# covidDataReduced.shape"
   ]
  },
  {
   "cell_type": "markdown",
   "id": "f2c893b9",
   "metadata": {},
   "source": [
    "### Modelo IC - Removendo as colunas não utilizadas"
   ]
  },
  {
   "cell_type": "code",
   "execution_count": null,
   "id": "3e80ea2a",
   "metadata": {},
   "outputs": [],
   "source": [
    "# Modelo IC\n",
    "\n",
    "# Menos de 1% de Importância (17 Atributos)\n",
    "# colunasRemovidas = ['racaCor', 'dosNasCostas', 'dorNoCorpo', 'cefaleia', \n",
    "#                     'febre', 'diarreia', 'cardiaca', 'respiratoria', \n",
    "#                     'congestaoNasal', 'cansaco', 'mialgia', 'fragilidadeImuno', \n",
    "#                     'tosse', 'dorNoPeito', 'asma', 'disturbiosOlfativos', 'faltaDeAr', \n",
    "#                     'puerpera', 'disturbiosGustatorios', 'bronquite', 'hipotireoidismo', 'vomito']\n",
    "\n",
    "# Menos de 2% de Importância (10 Atributos)\n",
    "# colunasRemovidas = ['racaCor', 'dosNasCostas', 'dorNoCorpo', 'cefaleia', \n",
    "#                     'febre', 'diarreia', 'cardiaca', 'respiratoria', \n",
    "#                     'congestaoNasal', 'cansaco', 'mialgia', 'fragilidadeImuno', \n",
    "#                     'tosse', 'dorNoPeito', 'asma', 'disturbiosOlfativos', 'faltaDeAr', \n",
    "#                     'puerpera', 'disturbiosGustatorios', 'bronquite', 'hipotireoidismo', \n",
    "#                     'vomito', 'qntVacinas', 'imunossupressao', 'assintomatico', 'gestante', \n",
    "#                     'renal', 'hipertensao', 'faixaDiasSintomas']\n",
    "\n",
    "# colunasSelecionadas = ['faixaetaria', 'dispneia', 'dorDeGarganta', 'diasSintomas', \n",
    "#                        'dorDeCabeca', 'coriza', 'diabetes', 'obesidade', 'sexo', 'qntVacinas',\n",
    "#                        'imunossupressao', 'assintomatico', 'gestante', 'renal', 'hipertensao',\n",
    "#                        'faixaDiasSintomas']\n",
    "\n",
    "covidDataReduced = covidData.drop(columns = colunasRemovidas)\n",
    "covidDataReduced.shape"
   ]
  },
  {
   "cell_type": "code",
   "execution_count": null,
   "id": "59d1093e",
   "metadata": {},
   "outputs": [],
   "source": [
    "# covidDataReduced = covidData"
   ]
  },
  {
   "cell_type": "markdown",
   "id": "fcd4505c",
   "metadata": {},
   "source": [
    "### Avaliando o desempenho do modelo"
   ]
  },
  {
   "cell_type": "code",
   "execution_count": 13,
   "id": "c666ed79",
   "metadata": {},
   "outputs": [],
   "source": [
    "from sklearn.model_selection import train_test_split\n",
    "from sklearn.linear_model import LogisticRegression\n",
    "from sklearn import metrics\n",
    "\n",
    "from sklearn.ensemble import GradientBoostingClassifier"
   ]
  },
  {
   "cell_type": "code",
   "execution_count": 14,
   "id": "4142dae5",
   "metadata": {},
   "outputs": [],
   "source": [
    "hiperparametrosLR = LogisticRegression(C=1.0, class_weight=None, dual=False, fit_intercept=True, \n",
    "                                       intercept_scaling=1, l1_ratio=None, max_iter=1000, multi_class='auto', \n",
    "                                       n_jobs=None, penalty='l2', random_state=1340, solver='lbfgs', \n",
    "                                       tol=0.0001, verbose=0, warm_start=False)\n",
    "\n",
    "hiperparametrosGB = GradientBoostingClassifier(ccp_alpha=0.0, criterion='friedman_mse', init=None,\n",
    "                           learning_rate=0.1, loss='deviance', max_depth=3,\n",
    "                           max_features=None, max_leaf_nodes=None,\n",
    "                           min_impurity_decrease=0.0, min_impurity_split=None,\n",
    "                           min_samples_leaf=1, min_samples_split=2,\n",
    "                           min_weight_fraction_leaf=0.0, n_estimators=100,\n",
    "                           n_iter_no_change=None, \n",
    "                           random_state=2333, subsample=1.0, tol=0.0001,\n",
    "                           validation_fraction=0.1, verbose=0,\n",
    "                           warm_start=False)"
   ]
  },
  {
   "cell_type": "markdown",
   "id": "9780890a",
   "metadata": {},
   "source": [
    "### Treinamento e Teste"
   ]
  },
  {
   "cell_type": "code",
   "execution_count": 15,
   "id": "15791da7",
   "metadata": {},
   "outputs": [],
   "source": [
    "baseModelo = covidDataReduced\n",
    "alvo = 'evolucaoCaso'\n",
    "x_train, x_test, y_train, y_test = train_test_split(baseModelo.drop(alvo,axis=1),\n",
    "                                                    baseModelo[alvo],\n",
    "                                                    test_size=0.3,\n",
    "                                                    random_state=42);"
   ]
  },
  {
   "cell_type": "code",
   "execution_count": 16,
   "id": "7fb075b3",
   "metadata": {},
   "outputs": [
    {
     "name": "stdout",
     "output_type": "stream",
     "text": [
      "              precision    recall  f1-score   support\n",
      "\n",
      "           1       0.77      0.93      0.85       623\n",
      "           2       0.72      0.39      0.50       276\n",
      "\n",
      "    accuracy                           0.77       899\n",
      "   macro avg       0.75      0.66      0.68       899\n",
      "weighted avg       0.76      0.77      0.74       899\n",
      "\n"
     ]
    }
   ],
   "source": [
    "# Fit nos dados\n",
    "modeloClassificador = hiperparametrosGB\n",
    "modeloClassificador.fit(x_train, y_train)\n",
    "\n",
    "#Realizando a predição\n",
    "resultadoTeste = modeloClassificador.predict(x_test)\n",
    "\n",
    "# Verificando a acurácia\n",
    "print(metrics.classification_report(y_test,resultadoTeste))"
   ]
  },
  {
   "cell_type": "markdown",
   "id": "7707174b",
   "metadata": {},
   "source": [
    "### Verificando a importância dos atributos"
   ]
  },
  {
   "cell_type": "code",
   "execution_count": null,
   "id": "f7c656d1",
   "metadata": {},
   "outputs": [],
   "source": [
    "feature_importances = pd.DataFrame(modeloClassificador.feature_importances_,\n",
    "                                   index = x_train.columns,\n",
    "                                    columns=['importance']).sort_values('importance', ascending=False)\n",
    "feature_importances"
   ]
  },
  {
   "cell_type": "code",
   "execution_count": null,
   "id": "08547e61",
   "metadata": {},
   "outputs": [],
   "source": [
    "feature_importances.index"
   ]
  },
  {
   "cell_type": "code",
   "execution_count": null,
   "id": "f0c06fec",
   "metadata": {},
   "outputs": [],
   "source": []
  }
 ],
 "metadata": {
  "kernelspec": {
   "display_name": "Python 3 (ipykernel)",
   "language": "python",
   "name": "python3"
  },
  "language_info": {
   "codemirror_mode": {
    "name": "ipython",
    "version": 3
   },
   "file_extension": ".py",
   "mimetype": "text/x-python",
   "name": "python",
   "nbconvert_exporter": "python",
   "pygments_lexer": "ipython3",
   "version": "3.8.10"
  }
 },
 "nbformat": 4,
 "nbformat_minor": 5
}
