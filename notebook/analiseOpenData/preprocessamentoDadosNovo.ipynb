{
 "cells": [
  {
   "cell_type": "code",
   "execution_count": null,
   "metadata": {},
   "outputs": [],
   "source": [
    "# !pip install import-ipynb"
   ]
  },
  {
   "cell_type": "code",
   "execution_count": 1,
   "metadata": {
    "executionInfo": {
     "elapsed": 1799,
     "status": "ok",
     "timestamp": 1606845696531,
     "user": {
      "displayName": "WALLACE DUARTE DE HOLANDA",
      "photoUrl": "https://lh3.googleusercontent.com/a-/AOh14GgeWMOt53non50jDB5bIAwurrZleD5e6T7yfR9w=s64",
      "userId": "03474631865123362594"
     },
     "user_tz": 180
    },
    "id": "TW5Oyd2oXbrk"
   },
   "outputs": [
    {
     "name": "stdout",
     "output_type": "stream",
     "text": [
      "importing Jupyter notebook from preprocessamentofuncoes.ipynb\n"
     ]
    }
   ],
   "source": [
    "import pandas as pd\n",
    "import import_ipynb\n",
    "import preprocessamentofuncoes as pp\n",
    "\n",
    "import matplotlib.pyplot as plt\n",
    "import seaborn as sns"
   ]
  },
  {
   "cell_type": "code",
   "execution_count": null,
   "metadata": {},
   "outputs": [],
   "source": [
    "def realizarPreProcessamento(uf, lote):\n",
    "    # Carregando a base\n",
    "    urlBase = \"/media/wallece/HD EXTRA/bases/sus-\" + uf + \"-\" + lote + \".csv\"\n",
    "    covidAllData = pd.read_csv(urlBase, on_bad_lines='skip', sep=';')\n",
    "    covidAllData.shape\n",
    "    \n",
    "    # Definição dos Atributos Utilizados\n",
    "    colunasImportantes = ['source_id', 'dataInicioSintomas', 'dataNotificacao', 'sexo', 'racaCor', \n",
    "    'idade', 'sintomas', 'outrosSintomas', 'condicoes', 'outrasCondicoes', 'dataPrimeiraDose', \n",
    "    'dataSegundaDose', 'classificacaoFinal', 'evolucaoCaso']\n",
    "    covidData = covidAllData[colunasImportantes]\n",
    "    \n",
    "    # Limpeza - Classificação Final\n",
    "    covidData = pp.classFinPreprocessamento(covidData, 'classificacaoFinal')\n",
    "    \n",
    "    # Limpeza - Evolução\n",
    "    covidData = pp.evolucaoPreprocessamento(covidData, 'evolucaoCaso')\n",
    "    \n",
    "    # Limpeza - Dias de Sintomas\n",
    "    covidData = pp.diasSintomasPreprocessamento(covidData, 'dataInicioSintomas', 'dataNotificacao', 'diasSintomas')\n",
    "    \n",
    "    # Limpeza - Sintomas\n",
    "    covidData = pp.sintomasPreprocessamento(covidData, 'sintomas')\n",
    "    covidData = pp.outrosSintomasPreprocessamento(covidData, 'outrosSintomas')\n",
    "    \n",
    "    # Limpeza - Condições\n",
    "    covidData = pp.condicoesPreprocessamento(covidData, 'condicoes')\n",
    "    covidData = pp.outrasCondicoesPreprocessamento(covidData, 'outrasCondicoes')\n",
    "    \n",
    "    # Limpeza - Vacinas\n",
    "    covidData = pp.adicionarQntVacinasPreprocessamento(covidData, 'dataPrimeiraDose', 'dataSegundaDose', 'qntVacinas')\n",
    "    \n",
    "    # Limpeza - Idade\n",
    "    covidData = pp.idadePreprocessamento(covidData, 'idade', 'faixaetaria')\n",
    "    \n",
    "    # Limpeza - Raça\n",
    "    covidData = pp.racaPreprocessamento(covidData, 'racaCor')\n",
    "    \n",
    "    # Limpeza - Sexo\n",
    "    covidData = pp.sexoPreprocessamento(covidData, 'sexo')\n",
    "    \n",
    "    # Formatando as Condições\n",
    "    covidData = pp.condicoesFormatarValores(covidData)\n",
    "    \n",
    "    # Formatando as Colunas\n",
    "    covidData = pp.formatarColunas(covidData)\n",
    "    \n",
    "    # Formatando os valores da Evolução do Caso\n",
    "    evolucao = 'evolucaoCaso'\n",
    "    covidData[evolucao] = covidData[evolucao].replace([0, 1, 'Internado'], [0, 1, 2])\n",
    "    \n",
    "    # Salvando a base de dados\n",
    "    pp.salvarBaseDeDados(covidData, \"PreProcessamento/sus-\"  + uf + \"-pp-\" + lote + \".xlsx\")"
   ]
  },
  {
   "cell_type": "code",
   "execution_count": null,
   "metadata": {},
   "outputs": [],
   "source": [
    "lote = 'l1'\n",
    "ufs = ['go']\n",
    "\n",
    "for estado in ufs:\n",
    "    print(\"Analisando: \", estado)\n",
    "    realizarPreProcessamento(estado, lote)"
   ]
  },
  {
   "cell_type": "code",
   "execution_count": null,
   "metadata": {},
   "outputs": [],
   "source": [
    "ufs = ['ac', 'al', 'am', 'ap', 'ba', 'ce', 'df', 'es', 'go', 'ma', \n",
    "       'mg', 'ms', 'mt', 'pa', 'pb', 'pe', 'pi', 'pr', 'rj', 'rn', \n",
    "       'ro', 'rr', 'rs', 'sc', 'se', 'to']\n",
    "\n",
    "doislotes = ['go', 'mg', 'pe', 'rj', 'rs', 'sc']\n",
    "\n",
    "treslotes = ['mg', 'rj', 'rs']"
   ]
  },
  {
   "cell_type": "code",
   "execution_count": null,
   "metadata": {},
   "outputs": [],
   "source": []
  },
  {
   "cell_type": "code",
   "execution_count": null,
   "metadata": {},
   "outputs": [],
   "source": [
    "uf = \"go\"\n",
    "lotes = ['l1', 'l2']\n",
    "dados = []\n",
    "\n",
    "base = pd.read_excel(\"PreProcessamento/sus-go-pp-l1.xlsx\")"
   ]
  },
  {
   "cell_type": "code",
   "execution_count": null,
   "metadata": {},
   "outputs": [],
   "source": [
    "# Juntar Bases\n",
    "dadosAgrupados = pp.juntarBases([dados1, dados2, dados3, dados4, dados5, dados6, dados7])\n",
    "\n",
    "# Salvar Base Agrupada\n",
    "pp.salvarBaseDeDados(dadosAgrupados, urldefault + uf + \"-pp.xlsx\")"
   ]
  },
  {
   "cell_type": "markdown",
   "metadata": {},
   "source": [
    "## Descrição do Pré-Processamento"
   ]
  },
  {
   "cell_type": "code",
   "execution_count": 2,
   "metadata": {
    "executionInfo": {
     "elapsed": 3434,
     "status": "ok",
     "timestamp": 1606845719272,
     "user": {
      "displayName": "WALLACE DUARTE DE HOLANDA",
      "photoUrl": "https://lh3.googleusercontent.com/a-/AOh14GgeWMOt53non50jDB5bIAwurrZleD5e6T7yfR9w=s64",
      "userId": "03474631865123362594"
     },
     "user_tz": 180
    },
    "id": "4Vjp-2FtXbr7"
   },
   "outputs": [
    {
     "name": "stdout",
     "output_type": "stream",
     "text": [
      "/media/wallece/HD EXTRA/bases/sus-go-l1.csv\n"
     ]
    },
    {
     "name": "stderr",
     "output_type": "stream",
     "text": [
      "/home/wallece/.local/lib/python3.8/site-packages/IPython/core/interactiveshell.py:3457: DtypeWarning: Columns (15,30,34,35,36,62) have mixed types.Specify dtype option on import or set low_memory=False.\n",
      "  exec(code_obj, self.user_global_ns, self.user_ns)\n"
     ]
    },
    {
     "data": {
      "text/plain": [
       "(1000000, 64)"
      ]
     },
     "execution_count": 2,
     "metadata": {},
     "output_type": "execute_result"
    }
   ],
   "source": [
    "uf = \"go\"\n",
    "lote = \"l1\"\n",
    "urlBase = \"/media/wallece/HD EXTRA/bases/sus-\" + uf + \"-\" + lote + \".csv\"\n",
    "\n",
    "print(urlBase)\n",
    "\n",
    "covidAllData = pd.read_csv(urlBase, on_bad_lines='skip', sep=';')\n",
    "covidAllData.shape"
   ]
  },
  {
   "cell_type": "code",
   "execution_count": null,
   "metadata": {},
   "outputs": [],
   "source": [
    "#from wordcloud import WordCloud, STOPWORDS, ImageColorGenerator\n",
    "#words = covidAllData['outrosSintomas']\n",
    "#all_words = \" \".join(str(w) for w in words)\n",
    "#stopwords = ''"
   ]
  },
  {
   "cell_type": "code",
   "execution_count": null,
   "metadata": {},
   "outputs": [],
   "source": [
    "def plot_wordcloud(wc):\n",
    "    fig, ax = plt.subplots(figsize=(14,7))\n",
    "    ax.imshow(wc, interpolation='bilinear')\n",
    "    ax.set_axis_off()\n",
    "    plt.imshow(wc)\n",
    "    \n",
    "#wc = WordCloud(stopwords=stopwords, \n",
    "#               background_color='white', \n",
    "#               width=1600, \n",
    "#               height=800).generate(all_words)\n",
    "\n",
    "#plot_wordcloud(wc)"
   ]
  },
  {
   "cell_type": "code",
   "execution_count": null,
   "metadata": {},
   "outputs": [],
   "source": [
    "#data = covidAllData['outrosSintomas'].value_counts().head(30)\n",
    "#d = dict(zip(data.index, data.values))\n",
    "#wordcloud = WordCloud(collocations=False, \n",
    "#                      background_color='white', \n",
    "#                      width=1600,\n",
    "#                      height=800).generate_from_frequencies(d)\n",
    "#plot_wordcloud(wordcloud)"
   ]
  },
  {
   "cell_type": "code",
   "execution_count": null,
   "metadata": {
    "colab": {
     "base_uri": "https://localhost:8080/"
    },
    "executionInfo": {
     "elapsed": 823,
     "status": "ok",
     "timestamp": 1606782619746,
     "user": {
      "displayName": "WALLACE DUARTE DE HOLANDA",
      "photoUrl": "https://lh3.googleusercontent.com/a-/AOh14GgeWMOt53non50jDB5bIAwurrZleD5e6T7yfR9w=s64",
      "userId": "03474631865123362594"
     },
     "user_tz": 180
    },
    "id": "R04MwHdxXbsK",
    "outputId": "e5065bd9-5f57-4346-a7d9-25a397411b9d",
    "scrolled": true
   },
   "outputs": [],
   "source": [
    "# Visualizando Dados\n",
    "# covidAllData.head()"
   ]
  },
  {
   "cell_type": "code",
   "execution_count": 3,
   "metadata": {},
   "outputs": [],
   "source": [
    "# Definição dos Atributos Utilizados\n",
    "colunasImportantes = ['source_id', 'dataInicioSintomas', 'dataNotificacao', 'sexo', 'racaCor', 'idade', \n",
    "                      'sintomas', 'outrosSintomas', 'condicoes', 'outrasCondicoes', 'dataPrimeiraDose', \n",
    "                      'dataSegundaDose', 'classificacaoFinal', 'evolucaoCaso']\n",
    "covidData = covidAllData[colunasImportantes]"
   ]
  },
  {
   "cell_type": "markdown",
   "metadata": {},
   "source": [
    "### Limpeza de Dados - Classificação Final\n"
   ]
  },
  {
   "cell_type": "code",
   "execution_count": 4,
   "metadata": {},
   "outputs": [],
   "source": [
    "# Visualizando o formato das condições\n",
    "#covidData['classificacaoFinal'].value_counts()"
   ]
  },
  {
   "cell_type": "code",
   "execution_count": 5,
   "metadata": {},
   "outputs": [
    {
     "data": {
      "text/plain": [
       "Confirmado    401869\n",
       "Name: classificacaoFinal, dtype: int64"
      ]
     },
     "execution_count": 5,
     "metadata": {},
     "output_type": "execute_result"
    }
   ],
   "source": [
    "covidData = pp.classFinPreprocessamento(covidData, 'classificacaoFinal')\n",
    "covidData['classificacaoFinal'].value_counts()"
   ]
  },
  {
   "cell_type": "code",
   "execution_count": null,
   "metadata": {},
   "outputs": [],
   "source": [
    "# pp.visualizarQntFaltosos(covidData)"
   ]
  },
  {
   "cell_type": "markdown",
   "metadata": {},
   "source": [
    "### Limpeza de Dados - Atibuto Evolução"
   ]
  },
  {
   "cell_type": "code",
   "execution_count": 6,
   "metadata": {},
   "outputs": [
    {
     "data": {
      "text/plain": [
       "Cura                        204058\n",
       "Ignorado                    111273\n",
       "Em tratamento domiciliar     37020\n",
       "Cancelado                    14199\n",
       "Óbito                          235\n",
       "Internado                      113\n",
       "Internado em UTI                38\n",
       "Name: evolucaoCaso, dtype: int64"
      ]
     },
     "execution_count": 6,
     "metadata": {},
     "output_type": "execute_result"
    }
   ],
   "source": [
    "# covidData[alvo].unique()\n",
    "evolucao = 'evolucaoCaso'\n",
    "covidData[evolucao].value_counts()"
   ]
  },
  {
   "cell_type": "code",
   "execution_count": 7,
   "metadata": {},
   "outputs": [
    {
     "data": {
      "text/plain": [
       "Cura         241078\n",
       "Óbito           235\n",
       "Internado       151\n",
       "Name: evolucaoCaso, dtype: int64"
      ]
     },
     "execution_count": 7,
     "metadata": {},
     "output_type": "execute_result"
    }
   ],
   "source": [
    "covidData = pp.evolucaoPreprocessamento(covidData, evolucao)\n",
    "covidData[evolucao].value_counts()"
   ]
  },
  {
   "cell_type": "code",
   "execution_count": null,
   "metadata": {},
   "outputs": [],
   "source": [
    "# dados_faltosos = pp.visualizarQntFaltosos(covidData)\n",
    "# dados_faltosos"
   ]
  },
  {
   "cell_type": "code",
   "execution_count": null,
   "metadata": {},
   "outputs": [],
   "source": [
    "# covidData[evolucao].value_counts()\n",
    "# covidData.shape"
   ]
  },
  {
   "cell_type": "markdown",
   "metadata": {},
   "source": [
    "### Limpeza de Dados - Dias de Sintomas"
   ]
  },
  {
   "cell_type": "code",
   "execution_count": 8,
   "metadata": {},
   "outputs": [],
   "source": [
    "covidData = pp.diasSintomasPreprocessamento(covidData, 'dataInicioSintomas', 'dataNotificacao', 'diasSintomas')\n",
    "# covidData[['dataInicioSintomas', 'dataNotificacao', 'diasSintomas']].head(30)"
   ]
  },
  {
   "cell_type": "code",
   "execution_count": 9,
   "metadata": {},
   "outputs": [],
   "source": [
    "#covidData['diasSintomas'].value_counts()\n",
    "#pp.visualizarQntFaltosos(covidData)"
   ]
  },
  {
   "cell_type": "markdown",
   "metadata": {
    "executionInfo": {
     "elapsed": 901,
     "status": "ok",
     "timestamp": 1606845744318,
     "user": {
      "displayName": "WALLACE DUARTE DE HOLANDA",
      "photoUrl": "https://lh3.googleusercontent.com/a-/AOh14GgeWMOt53non50jDB5bIAwurrZleD5e6T7yfR9w=s64",
      "userId": "03474631865123362594"
     },
     "user_tz": 180
    },
    "id": "KvmI5QyjTNKZ"
   },
   "source": [
    "### Limpeza de Dados - Sintomas"
   ]
  },
  {
   "cell_type": "code",
   "execution_count": 10,
   "metadata": {},
   "outputs": [
    {
     "data": {
      "text/plain": [
       "(241464, 24)"
      ]
     },
     "execution_count": 10,
     "metadata": {},
     "output_type": "execute_result"
    }
   ],
   "source": [
    "sintomas = 'sintomas'\n",
    "covidData = pp.sintomasPreprocessamento(covidData, sintomas)\n",
    "covidData.shape"
   ]
  },
  {
   "cell_type": "code",
   "execution_count": 11,
   "metadata": {},
   "outputs": [],
   "source": [
    "#covidData.head()"
   ]
  },
  {
   "cell_type": "markdown",
   "metadata": {},
   "source": [
    "### Limpeza de Dados - Outros Sintomas"
   ]
  },
  {
   "cell_type": "code",
   "execution_count": 12,
   "metadata": {
    "scrolled": true
   },
   "outputs": [
    {
     "data": {
      "text/plain": [
       "(241464, 34)"
      ]
     },
     "execution_count": 12,
     "metadata": {},
     "output_type": "execute_result"
    }
   ],
   "source": [
    "outrosSintomas = 'outrosSintomas'\n",
    "covidData = pp.outrosSintomasPreprocessamento(covidData, outrosSintomas)\n",
    "covidData.shape"
   ]
  },
  {
   "cell_type": "code",
   "execution_count": 13,
   "metadata": {},
   "outputs": [],
   "source": [
    "#covidData[['outrosSintomas', 'mialgia', 'dorNoCorpo', 'diarreia', 'cansaco']].head(50)"
   ]
  },
  {
   "cell_type": "code",
   "execution_count": 14,
   "metadata": {},
   "outputs": [
    {
     "data": {
      "text/plain": [
       "0    225575\n",
       "1     15889\n",
       "Name: mialgia, dtype: int64"
      ]
     },
     "execution_count": 14,
     "metadata": {},
     "output_type": "execute_result"
    }
   ],
   "source": [
    "covidData['mialgia'].value_counts()"
   ]
  },
  {
   "cell_type": "markdown",
   "metadata": {},
   "source": [
    "### Limpeza de Dados - Condições"
   ]
  },
  {
   "cell_type": "code",
   "execution_count": 15,
   "metadata": {},
   "outputs": [],
   "source": [
    "# covidData.shape"
   ]
  },
  {
   "cell_type": "code",
   "execution_count": 16,
   "metadata": {},
   "outputs": [
    {
     "data": {
      "text/plain": [
       "(241464, 43)"
      ]
     },
     "execution_count": 16,
     "metadata": {},
     "output_type": "execute_result"
    }
   ],
   "source": [
    "condicoes = 'condicoes'\n",
    "covidData = pp.condicoesPreprocessamento(covidData, condicoes)\n",
    "covidData.shape"
   ]
  },
  {
   "cell_type": "code",
   "execution_count": 17,
   "metadata": {},
   "outputs": [],
   "source": [
    "#covidData.head()"
   ]
  },
  {
   "cell_type": "markdown",
   "metadata": {},
   "source": [
    "### Limpeza de Dados - Outras Condições"
   ]
  },
  {
   "cell_type": "code",
   "execution_count": 18,
   "metadata": {},
   "outputs": [
    {
     "data": {
      "text/plain": [
       "(241464, 47)"
      ]
     },
     "execution_count": 18,
     "metadata": {},
     "output_type": "execute_result"
    }
   ],
   "source": [
    "outrasCondicoes = 'outrasCondicoes'\n",
    "covidData = pp.outrasCondicoesPreprocessamento(covidData, outrasCondicoes)\n",
    "covidData.shape"
   ]
  },
  {
   "cell_type": "code",
   "execution_count": 19,
   "metadata": {},
   "outputs": [],
   "source": [
    "#covidData[['outrasCondicoes', 'hipertensao', 'asma', 'bronquite', 'hipotireoidismo']].head(60)"
   ]
  },
  {
   "cell_type": "markdown",
   "metadata": {},
   "source": [
    "### Limpeza de Dados - Quantidade de Vacinas"
   ]
  },
  {
   "cell_type": "code",
   "execution_count": 20,
   "metadata": {},
   "outputs": [],
   "source": [
    "covidData = pp.adicionarQntVacinasPreprocessamento(covidData, 'dataPrimeiraDose', 'dataSegundaDose', 'qntVacinas')"
   ]
  },
  {
   "cell_type": "code",
   "execution_count": 21,
   "metadata": {},
   "outputs": [],
   "source": [
    "#covidData[['dataPrimeiraDose', 'dataSegundaDose', 'qntVacinas']]"
   ]
  },
  {
   "cell_type": "markdown",
   "metadata": {},
   "source": [
    "### Limpeza de Dados - Idade"
   ]
  },
  {
   "cell_type": "code",
   "execution_count": 22,
   "metadata": {},
   "outputs": [
    {
     "data": {
      "text/plain": [
       "(241464, 48)"
      ]
     },
     "execution_count": 22,
     "metadata": {},
     "output_type": "execute_result"
    }
   ],
   "source": [
    "covidData.shape"
   ]
  },
  {
   "cell_type": "code",
   "execution_count": 23,
   "metadata": {},
   "outputs": [],
   "source": [
    "idade = 'idade'\n",
    "covidData = pp.idadePreprocessamento(covidData, idade, 'faixaetaria')"
   ]
  },
  {
   "cell_type": "code",
   "execution_count": 24,
   "metadata": {},
   "outputs": [
    {
     "data": {
      "text/plain": [
       "3.0    76814\n",
       "2.0    54273\n",
       "4.0    52200\n",
       "5.0    20871\n",
       "0.0    17551\n",
       "1.0    13241\n",
       "6.0     5857\n",
       "7.0      578\n",
       "Name: faixaetaria, dtype: int64"
      ]
     },
     "execution_count": 24,
     "metadata": {},
     "output_type": "execute_result"
    }
   ],
   "source": [
    "covidData['faixaetaria'].value_counts()"
   ]
  },
  {
   "cell_type": "markdown",
   "metadata": {},
   "source": [
    "### Limpeza de Dados - Raça"
   ]
  },
  {
   "cell_type": "code",
   "execution_count": 25,
   "metadata": {
    "scrolled": true
   },
   "outputs": [
    {
     "data": {
      "text/plain": [
       "Parda       141482\n",
       "Ignorado     47811\n",
       "Branca       38198\n",
       "Amarela       7907\n",
       "Preta         5945\n",
       "Indigena        33\n",
       "Name: racaCor, dtype: int64"
      ]
     },
     "execution_count": 25,
     "metadata": {},
     "output_type": "execute_result"
    }
   ],
   "source": [
    "raca = 'racaCor'\n",
    "covidData[raca].value_counts()"
   ]
  },
  {
   "cell_type": "code",
   "execution_count": 26,
   "metadata": {},
   "outputs": [
    {
     "data": {
      "text/plain": [
       "Parda       141482\n",
       "Branca       38198\n",
       "Amarela       7907\n",
       "Preta         5945\n",
       "Indigena        33\n",
       "Name: racaCor, dtype: int64"
      ]
     },
     "execution_count": 26,
     "metadata": {},
     "output_type": "execute_result"
    }
   ],
   "source": [
    "covidData = pp.racaPreprocessamento(covidData, raca)\n",
    "covidData[raca].value_counts()"
   ]
  },
  {
   "cell_type": "markdown",
   "metadata": {},
   "source": [
    "### Limpeza de Dados - Sexo"
   ]
  },
  {
   "cell_type": "code",
   "execution_count": 27,
   "metadata": {},
   "outputs": [
    {
     "data": {
      "text/plain": [
       "Feminino     111107\n",
       "Masculino     82458\n",
       "Name: sexo, dtype: int64"
      ]
     },
     "execution_count": 27,
     "metadata": {},
     "output_type": "execute_result"
    }
   ],
   "source": [
    "sexo = 'sexo'\n",
    "covidData[sexo].value_counts()"
   ]
  },
  {
   "cell_type": "code",
   "execution_count": 28,
   "metadata": {
    "scrolled": true
   },
   "outputs": [],
   "source": [
    "covidData = pp.sexoPreprocessamento(covidData, sexo)"
   ]
  },
  {
   "cell_type": "code",
   "execution_count": 29,
   "metadata": {},
   "outputs": [
    {
     "data": {
      "text/plain": [
       "Feminino     111107\n",
       "Masculino     82458\n",
       "Name: sexo, dtype: int64"
      ]
     },
     "execution_count": 29,
     "metadata": {},
     "output_type": "execute_result"
    }
   ],
   "source": [
    "covidData[sexo].value_counts()"
   ]
  },
  {
   "cell_type": "markdown",
   "metadata": {},
   "source": [
    "### Formatando Condições"
   ]
  },
  {
   "cell_type": "code",
   "execution_count": 31,
   "metadata": {},
   "outputs": [],
   "source": [
    "covidData = pp.condicoesFormatarValores(covidData)"
   ]
  },
  {
   "cell_type": "markdown",
   "metadata": {},
   "source": [
    "### Limpeza dos Dados - Balanceamento"
   ]
  },
  {
   "cell_type": "code",
   "execution_count": null,
   "metadata": {},
   "outputs": [],
   "source": [
    "#covidDataBalanced = pp.balanceamento(covidData, 'evolucaoCaso', 'Óbito', 40, 'Cura')\n",
    "# pp.condicoesQntValoresComAusentes(covidDataBalanced)\n",
    "#covidDataBalanced.shape"
   ]
  },
  {
   "cell_type": "code",
   "execution_count": null,
   "metadata": {},
   "outputs": [],
   "source": [
    "#covidDataBalanced = pp.condicoesFormatarValores(covidDataBalanced)\n",
    "#pp.condicoesQntValores(covidDataBalanced)"
   ]
  },
  {
   "cell_type": "code",
   "execution_count": null,
   "metadata": {},
   "outputs": [],
   "source": [
    "#pp.sintomasQntValores(covidDataBalanced)"
   ]
  },
  {
   "cell_type": "code",
   "execution_count": null,
   "metadata": {},
   "outputs": [],
   "source": [
    "#covidDataBalanced.shape"
   ]
  },
  {
   "cell_type": "markdown",
   "metadata": {},
   "source": [
    "### Limpeza dos Dados - Removendo Colunas"
   ]
  },
  {
   "cell_type": "code",
   "execution_count": 35,
   "metadata": {},
   "outputs": [],
   "source": [
    "colunasRemovidas = ['source_id', 'idade', 'sintomas', 'condicoes', 'classificacaoFinal', \n",
    "                    'outrosSintomas', 'outrasCondicoes', 'dataInicioSintomas', 'dataNotificacao']\n",
    "# colunasRemovidas = ['source_id', 'idade', 'sintomas', 'condicoes', 'disturbiosOlfativos', \n",
    "#                    'disturbiosGustatorios', 'puerpera', 'fragilidadeImuno', 'gestante', \n",
    "#                    'obesidade', 'classificacaoFinal']"
   ]
  },
  {
   "cell_type": "code",
   "execution_count": 36,
   "metadata": {},
   "outputs": [
    {
     "data": {
      "text/plain": [
       "(193565, 40)"
      ]
     },
     "execution_count": 36,
     "metadata": {},
     "output_type": "execute_result"
    }
   ],
   "source": [
    "# Excluir linha abaixo caso utilize o balanceamento\n",
    "covidDataBalanced = covidData\n",
    "\n",
    "covidDataBalanced = pp.removerColunas(covidDataBalanced, colunasRemovidas)\n",
    "covidDataBalanced.shape"
   ]
  },
  {
   "cell_type": "markdown",
   "metadata": {},
   "source": [
    "### Limpeza dos Dados - Formatando Colunas"
   ]
  },
  {
   "cell_type": "code",
   "execution_count": null,
   "metadata": {},
   "outputs": [],
   "source": [
    "# Colunas Formatadas: sexo e racaCor\n",
    "print(covidDataBalanced['sexo'].value_counts(), '\\n\\n',covidDataBalanced['racaCor'].value_counts())"
   ]
  },
  {
   "cell_type": "code",
   "execution_count": 37,
   "metadata": {},
   "outputs": [],
   "source": [
    "covidDataBalanced = pp.formatarColunas(covidDataBalanced)\n",
    "#print(covidDataBalanced['sexo'].value_counts(), '\\n\\n', covidDataBalanced['racaCor'].value_counts())"
   ]
  },
  {
   "cell_type": "markdown",
   "metadata": {},
   "source": [
    "### Salvando a Base Pré-processada"
   ]
  },
  {
   "cell_type": "code",
   "execution_count": 38,
   "metadata": {},
   "outputs": [
    {
     "data": {
      "text/plain": [
       "(193565, 40)"
      ]
     },
     "execution_count": 38,
     "metadata": {},
     "output_type": "execute_result"
    }
   ],
   "source": [
    "covidDataBalanced.shape"
   ]
  },
  {
   "cell_type": "code",
   "execution_count": 39,
   "metadata": {},
   "outputs": [],
   "source": [
    "evolucao = 'evolucaoCaso'\n",
    "covidDataBalanced[evolucao]= covidDataBalanced[evolucao].replace([0, 1, 'Internado'], [0, 1, 2])"
   ]
  },
  {
   "cell_type": "code",
   "execution_count": 40,
   "metadata": {},
   "outputs": [
    {
     "data": {
      "text/plain": [
       "1    193272\n",
       "0       174\n",
       "2       119\n",
       "Name: evolucaoCaso, dtype: int64"
      ]
     },
     "execution_count": 40,
     "metadata": {},
     "output_type": "execute_result"
    }
   ],
   "source": [
    "# dados_faltosos = pp.visualizarQntFaltosos(covidDataBalanced)\n",
    "# dados_faltosos\n",
    "covidDataBalanced['evolucaoCaso'].value_counts()"
   ]
  },
  {
   "cell_type": "code",
   "execution_count": 41,
   "metadata": {},
   "outputs": [],
   "source": [
    "pp.salvarBaseDeDados(covidDataBalanced, \"PreProcessamento/sus-\"  + uf + \"-pp-\" + lote + \".xlsx\")"
   ]
  },
  {
   "cell_type": "markdown",
   "metadata": {},
   "source": [
    "### Juntando Lotes"
   ]
  },
  {
   "cell_type": "code",
   "execution_count": null,
   "metadata": {},
   "outputs": [],
   "source": [
    "uf = \"sp\"\n",
    "dados1 = pd.read_excel(\"PreProcessamento/sus-\" + uf + \"-pp-l1.xlsx\")"
   ]
  },
  {
   "cell_type": "code",
   "execution_count": null,
   "metadata": {},
   "outputs": [],
   "source": [
    "dados1"
   ]
  },
  {
   "cell_type": "code",
   "execution_count": null,
   "metadata": {},
   "outputs": [],
   "source": [
    "# Juntar Bases\n",
    "dadosAgrupados = pp.juntarBases([dados1, dados2, dados3, dados4, dados5, dados6, dados7])\n",
    "\n",
    "# Salvar Base Agrupada\n",
    "pp.salvarBaseDeDados(dadosAgrupados, urldefault + uf + \"-pp.xlsx\")\n"
   ]
  },
  {
   "cell_type": "code",
   "execution_count": null,
   "metadata": {},
   "outputs": [],
   "source": [
    "def realizarPreProcessamento(uf, lote):\n",
    "    # Carregando a base\n",
    "    urlBase = \"/media/wallece/HD EXTRA/bases/sus-\" + uf + \"-\" + lote + \".csv\"\n",
    "    covidAllData = pd.read_csv(urlBase, on_bad_lines='skip', sep=';')\n",
    "    covidAllData.shape\n",
    "    \n",
    "    # Definição dos Atributos Utilizados\n",
    "    colunasImportantes = ['source_id', 'dataInicioSintomas', 'dataNotificacao', 'sexo', 'racaCor', \n",
    "    'idade', 'sintomas', 'outrosSintomas', 'condicoes', 'outrasCondicoes', 'dataPrimeiraDose', \n",
    "    'dataSegundaDose', 'classificacaoFinal', 'evolucaoCaso']\n",
    "    covidData = covidAllData[colunasImportantes]\n",
    "    \n",
    "    # Limpeza - Classificação Final\n",
    "    covidData = pp.classFinPreprocessamento(covidData, 'classificacaoFinal')\n",
    "    \n",
    "    # Limpeza - Evolução\n",
    "    covidData = pp.evolucaoPreprocessamento(covidData, 'evolucao')\n",
    "    \n",
    "    # Limpeza - Dias de Sintomas\n",
    "    covidData = pp.diasSintomasPreprocessamento(covidData, 'dataInicioSintomas', 'dataNotificacao', 'diasSintomas')\n",
    "    \n",
    "    # Limpeza - Sintomas\n",
    "    covidData = pp.sintomasPreprocessamento(covidData, 'sintomas')\n",
    "    covidData = pp.outrosSintomasPreprocessamento(covidData, 'outrosSintomas')\n",
    "    \n",
    "    # Limpeza - Condições\n",
    "    covidData = pp.condicoesPreprocessamento(covidData, 'condicoes')\n",
    "    covidData = pp.outrasCondicoesPreprocessamento(covidData, 'outrasCondicoes')\n",
    "    \n",
    "    # Limpeza - Vacinas\n",
    "    covidData = pp.adicionarQntVacinasPreprocessamento(covidData, 'dataPrimeiraDose', 'dataSegundaDose', 'qntVacinas')\n",
    "    \n",
    "    # Limpeza - Idade\n",
    "    covidData = pp.idadePreprocessamento(covidData, 'idade', 'faixaetaria')\n",
    "    \n",
    "    # Limpeza - Raça\n",
    "    covidData = pp.racaPreprocessamento(covidData, 'racaCor')\n",
    "    \n",
    "    # Limpeza - Sexo\n",
    "    covidData = pp.sexoPreprocessamento(covidData, 'sexo')\n",
    "    \n",
    "    # Formatando as Condições\n",
    "    covidData = pp.condicoesFormatarValores(covidData)\n",
    "    \n",
    "    # Formatando as Colunas\n",
    "    covidData = pp.formatarColunas(covidData)\n",
    "    \n",
    "    # Formatando os valores da Evolução do Caso\n",
    "    evolucao = 'evolucaoCaso'\n",
    "    covidData[evolucao] = covidData[evolucao].replace([0, 1, 'Internado'], [0, 1, 2])\n",
    "    \n",
    "    # Salvando a base de dados\n",
    "    pp.salvarBaseDeDados(covidData, \"PreProcessamento/sus-\"  + uf + \"-pp-\" + lote + \".xlsx\")"
   ]
  },
  {
   "cell_type": "code",
   "execution_count": null,
   "metadata": {},
   "outputs": [],
   "source": []
  }
 ],
 "metadata": {
  "colab": {
   "collapsed_sections": [],
   "name": "processamentoDados.ipynb",
   "provenance": [
    {
     "file_id": "14gNqQLvSBxac92pENTV2WFH8c9x6nI_I",
     "timestamp": 1605384432884
    }
   ]
  },
  "kernelspec": {
   "display_name": "Python 3 (ipykernel)",
   "language": "python",
   "name": "python3"
  },
  "language_info": {
   "codemirror_mode": {
    "name": "ipython",
    "version": 3
   },
   "file_extension": ".py",
   "mimetype": "text/x-python",
   "name": "python",
   "nbconvert_exporter": "python",
   "pygments_lexer": "ipython3",
   "version": "3.8.10"
  }
 },
 "nbformat": 4,
 "nbformat_minor": 1
}
