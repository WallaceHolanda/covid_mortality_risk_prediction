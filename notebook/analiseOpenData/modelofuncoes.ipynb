{
 "cells": [
  {
   "cell_type": "code",
   "execution_count": 2,
   "id": "36d383bd",
   "metadata": {},
   "outputs": [],
   "source": [
    "from matplotlib import pyplot as plt\n",
    "import pandas as pd\n",
    "import numpy as np\n",
    "\n",
    "import matplotlib.pyplot as plt\n",
    "import seaborn as sns\n",
    "\n",
    "from sklearn.model_selection import train_test_split\n",
    "\n",
    "from sklearn.ensemble import AdaBoostClassifier\n",
    "from sklearn.ensemble import RandomForestClassifier\n",
    "from sklearn.linear_model import LogisticRegression\n",
    "from sklearn.ensemble import GradientBoostingClassifier"
   ]
  },
  {
   "cell_type": "code",
   "execution_count": null,
   "id": "122530b3",
   "metadata": {},
   "outputs": [],
   "source": []
  },
  {
   "cell_type": "code",
   "execution_count": 3,
   "id": "7fb10414",
   "metadata": {},
   "outputs": [
    {
     "data": {
      "text/plain": [
       "(1326, 22)"
      ]
     },
     "execution_count": 3,
     "metadata": {},
     "output_type": "execute_result"
    }
   ],
   "source": [
    "urlBase = \"Inicial/ce-22-7030-2022.xlsx\"\n",
    "alvo = 'evolucaoCaso'\n",
    "\n",
    "covidData = pd.read_excel(urlBase)\n",
    "covidData.shape"
   ]
  },
  {
   "cell_type": "code",
   "execution_count": 5,
   "id": "0e3f8364",
   "metadata": {},
   "outputs": [],
   "source": [
    "from sklearn.model_selection import train_test_split\n",
    "x_train, x_test, y_train, y_test = train_test_split(covidData.drop(alvo,axis=1),\n",
    "                                                    covidData[alvo],\n",
    "                                                    test_size=0.3,\n",
    "                                                    random_state=42);"
   ]
  },
  {
   "cell_type": "code",
   "execution_count": 6,
   "id": "461fb7e8",
   "metadata": {},
   "outputs": [],
   "source": []
  },
  {
   "cell_type": "code",
   "execution_count": 7,
   "id": "dc3d6fc0",
   "metadata": {},
   "outputs": [],
   "source": [
    "# def __carregarBase__(base, proporcao, isTodosAtributos):\n",
    "\n",
    "def __criarModelo__(modelo, hiperparametros):\n",
    "    if(modelo == \"AB\"):\n",
    "        classificador = AdaBoostClassifier(hiperparametros)\n",
    "        return classificador\n",
    "    \n",
    "    if(modelo == \"RF\"):\n",
    "        classificador = RandomForestClassifier(hiperparametros)\n",
    "        return classificador\n",
    "    \n",
    "    if(modelo == \"LR\"):\n",
    "        classificador = LogisticRegression(hiperparametros)\n",
    "        return classificador\n",
    "    \n",
    "    if(modelo == \"GB\"):\n",
    "        classificador = GradientBoostingClassifier(hiperparametros)\n",
    "        return classificador\n",
    "    \n",
    "\n",
    "\n",
    "\n",
    "# Inserir tupla no dataframe\n",
    "\n",
    "# def __calcularMetricas__():\n",
    "# def __calcularKfolds__():\n",
    "# def__inserirDados__():"
   ]
  },
  {
   "cell_type": "code",
   "execution_count": null,
   "id": "cd6d4c68",
   "metadata": {},
   "outputs": [],
   "source": []
  },
  {
   "cell_type": "code",
   "execution_count": null,
   "id": "470fbd69",
   "metadata": {},
   "outputs": [],
   "source": []
  },
  {
   "cell_type": "code",
   "execution_count": null,
   "id": "3f9aab22",
   "metadata": {},
   "outputs": [],
   "source": []
  },
  {
   "cell_type": "markdown",
   "id": "dbce22cd",
   "metadata": {},
   "source": [
    "### Juntando os lotes da Primeira Análise"
   ]
  },
  {
   "cell_type": "code",
   "execution_count": 2,
   "id": "6781abd5",
   "metadata": {},
   "outputs": [],
   "source": [
    "def juntarLotes(proporcao, reduzDados):\n",
    "    spLote1 = pd.read_excel(\"SP/sp-l1-\" + proporcao + \"-2022.xlsx\")\n",
    "    spLote2 = pd.read_excel(\"SP/sp-l2-\" + proporcao + \"-2022.xlsx\")\n",
    "    spLote3 = pd.read_excel(\"SP/sp-l3-\" + proporcao + \"-2022.xlsx\")\n",
    "    spLote4 = pd.read_excel(\"SP/sp-l4-\" + proporcao + \"-2022.xlsx\")\n",
    "    spLote5 = pd.read_excel(\"SP/sp-l5-\" + proporcao + \"-2022.xlsx\")\n",
    "\n",
    "    # Unindo os lotes\n",
    "    covidMerged = pd.concat([spLote1, spLote2, spLote3, spLote4, spLote5])\n",
    "\n",
    "    # Resetando os índices\n",
    "    covidMerged.reset_index(inplace=True, drop = True)\n",
    "    \n",
    "    if(reduzDados):\n",
    "        colunasRemovidas = [ 'disturbiosOlfativos', 'disturbiosGustatorios', 'puerpera', 'fragilidadeImuno', \n",
    "                    'gestante', 'obesidade']\n",
    "        covidMerged = covidMerged.drop(columns = colunasRemovidas)\n",
    "    \n",
    "    return covidMerged"
   ]
  },
  {
   "cell_type": "code",
   "execution_count": null,
   "id": "e1616ea4",
   "metadata": {},
   "outputs": [],
   "source": []
  },
  {
   "cell_type": "code",
   "execution_count": null,
   "id": "ca171416",
   "metadata": {},
   "outputs": [],
   "source": []
  }
 ],
 "metadata": {
  "kernelspec": {
   "display_name": "Python 3 (ipykernel)",
   "language": "python",
   "name": "python3"
  },
  "language_info": {
   "codemirror_mode": {
    "name": "ipython",
    "version": 3
   },
   "file_extension": ".py",
   "mimetype": "text/x-python",
   "name": "python",
   "nbconvert_exporter": "python",
   "pygments_lexer": "ipython3",
   "version": "3.8.10"
  }
 },
 "nbformat": 4,
 "nbformat_minor": 5
}
