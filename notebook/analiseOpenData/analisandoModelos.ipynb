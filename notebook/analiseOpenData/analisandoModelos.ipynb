{
 "cells": [
  {
   "cell_type": "code",
   "execution_count": 1,
   "id": "e8171c61",
   "metadata": {},
   "outputs": [
    {
     "name": "stdout",
     "output_type": "stream",
     "text": [
      "importing Jupyter notebook from modelofuncoes.ipynb\n"
     ]
    }
   ],
   "source": [
    "import pandas as pd\n",
    "import numpy as np\n",
    "\n",
    "import import_ipynb\n",
    "import modelofuncoes as mf"
   ]
  },
  {
   "cell_type": "code",
   "execution_count": 3,
   "id": "1642e9f6",
   "metadata": {},
   "outputs": [],
   "source": [
    "hiperparametrosAB = \"algorithm='SAMME.R', base_estimator=None, learning_rate=1.0, n_estimators=50, random_state=410\"\n",
    "\n",
    "hiperparametrosRF = (\"bootstrap=True, ccp_alpha=0.0, class_weight=None,criterion='gini', max_depth=None,\" \n",
    "                     \"max_features='auto', max_leaf_nodes=None, max_samples=None, min_impurity_decrease=0.0, \"\n",
    "                     \"min_impurity_split=None, min_samples_leaf=1, min_samples_split=2, min_weight_fraction_leaf=0.0,\" \n",
    "                     \"n_estimators=100, n_jobs=-1, oob_score=False, random_state=7374, verbose=0, warm_start=False\"\n",
    "                    )\n",
    "\n",
    "hiperparametrosLR = (\"C=1.0, class_weight=None, dual=False, fit_intercept=True, intercept_scaling=1, l1_ratio=None,\" \n",
    "                     \"max_iter=1000, multi_class='auto', n_jobs=None, penalty='l2', random_state=2576,\" \n",
    "                     \"solver='lbfgs', tol=0.0001, verbose=0, warm_start=False\"\n",
    "                    )\n",
    "\n",
    "hiperparametrosGB = (\"ccp_alpha=0.0, criterion='friedman_mse', init=None, learning_rate=0.1, loss='deviance',\" \n",
    "                    \"max_depth=3,max_features=None, max_leaf_nodes=None, min_impurity_decrease=0.0,\" \n",
    "                    \"min_impurity_split=None, min_samples_leaf=1, min_samples_split=2, min_weight_fraction_leaf=0.0,\" \n",
    "                    \"n_estimators=100, n_iter_no_change=None, presort='deprecated', random_state=2333, subsample=1.0\", \n",
    "                    \"tol=0.0001, validation_fraction=0.1, verbose=0, warm_start=False\"\n",
    "                   )"
   ]
  },
  {
   "cell_type": "code",
   "execution_count": 4,
   "id": "e6921238",
   "metadata": {},
   "outputs": [],
   "source": [
    "modelos = {\n",
    "            \"AB\": hiperparametrosAB,\n",
    "            \"RF\": hiperparametrosRF,\n",
    "            \"LR\": hiperparametrosLR,\n",
    "            \"GB\": hiperparametrosGB,\n",
    "          }"
   ]
  },
  {
   "cell_type": "code",
   "execution_count": null,
   "id": "fd5271ee",
   "metadata": {},
   "outputs": [],
   "source": [
    "bases = {\n",
    "    \n",
    "}"
   ]
  }
 ],
 "metadata": {
  "kernelspec": {
   "display_name": "Python 3 (ipykernel)",
   "language": "python",
   "name": "python3"
  },
  "language_info": {
   "codemirror_mode": {
    "name": "ipython",
    "version": 3
   },
   "file_extension": ".py",
   "mimetype": "text/x-python",
   "name": "python",
   "nbconvert_exporter": "python",
   "pygments_lexer": "ipython3",
   "version": "3.8.10"
  }
 },
 "nbformat": 4,
 "nbformat_minor": 5
}
