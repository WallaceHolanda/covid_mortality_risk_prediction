{
 "cells": [
  {
   "cell_type": "code",
   "execution_count": null,
   "id": "6357f47d",
   "metadata": {},
   "outputs": [],
   "source": [
    "# pip install -U scikit-learn"
   ]
  },
  {
   "cell_type": "code",
   "execution_count": null,
   "id": "e8171c61",
   "metadata": {},
   "outputs": [],
   "source": [
    "import pandas as pd\n",
    "import numpy as np\n",
    "\n",
    "import import_ipynb\n",
    "import modelofuncoes as mf\n",
    "\n",
    "from sklearn.model_selection import train_test_split\n",
    "from sklearn.ensemble import AdaBoostClassifier\n",
    "from sklearn.ensemble import RandomForestClassifier\n",
    "from sklearn.linear_model import LogisticRegression\n",
    "from sklearn.ensemble import GradientBoostingClassifier"
   ]
  },
  {
   "cell_type": "markdown",
   "id": "9a6b9e80",
   "metadata": {},
   "source": [
    "### Carregando os algoritmos e hiperparâmetros"
   ]
  },
  {
   "cell_type": "code",
   "execution_count": null,
   "id": "1642e9f6",
   "metadata": {},
   "outputs": [],
   "source": [
    "hiperparametrosAB = AdaBoostClassifier(algorithm='SAMME.R', base_estimator=None, learning_rate=1.0, n_estimators=50, random_state=410)\n",
    "\n",
    "hiperparametrosRF = RandomForestClassifier(bootstrap=True, ccp_alpha=0.0, class_weight=None, \n",
    "                                           criterion='gini', max_depth=None, max_features='auto', \n",
    "                                           max_leaf_nodes=None, max_samples=None, \n",
    "                                           min_impurity_decrease=0.0,\n",
    "                                           min_samples_leaf=1, min_samples_split=2,\n",
    "                                           min_weight_fraction_leaf=0.0, n_estimators=100,\n",
    "                                           n_jobs=-1, oob_score=False, random_state=7374, verbose=0,\n",
    "                                           warm_start=False)\n",
    "\n",
    "hiperparametrosLR = LogisticRegression(C=1.0, class_weight=None, dual=False, fit_intercept=True, \n",
    "                                       intercept_scaling=1, l1_ratio=None, max_iter=1000, multi_class='auto', \n",
    "                                       n_jobs=None, penalty='l2', random_state=1340, solver='lbfgs', \n",
    "                                       tol=0.0001, verbose=0, warm_start=False)\n",
    "                    \n",
    "\n",
    "hiperparametrosGB = GradientBoostingClassifier(ccp_alpha=0.0, criterion='friedman_mse', init=None,\n",
    "                           learning_rate=0.1, loss='deviance', max_depth=3,\n",
    "                           max_features=None, max_leaf_nodes=None,\n",
    "                           min_impurity_decrease=0.0,\n",
    "                           min_samples_leaf=1, min_samples_split=2,\n",
    "                           min_weight_fraction_leaf=0.0, n_estimators=100,\n",
    "                           n_iter_no_change=None,\n",
    "                           random_state=2333, subsample=1.0, tol=0.0001,\n",
    "                           validation_fraction=0.1, verbose=0,\n",
    "                           warm_start=False)"
   ]
  },
  {
   "cell_type": "code",
   "execution_count": null,
   "id": "e6921238",
   "metadata": {},
   "outputs": [],
   "source": [
    "modelos = {\n",
    "            \"AB\": hiperparametrosAB,\n",
    "            \"RF\": hiperparametrosRF,\n",
    "            \"LR\": hiperparametrosLR,\n",
    "            \"GB\": hiperparametrosGB,\n",
    "          }"
   ]
  },
  {
   "cell_type": "markdown",
   "id": "df48763a",
   "metadata": {},
   "source": [
    "### Carregando o caminho das Bases de Dados"
   ]
  },
  {
   "cell_type": "code",
   "execution_count": null,
   "id": "ae082e2e",
   "metadata": {},
   "outputs": [],
   "source": [
    "listaBases = [\"oc-7030-ac.xlsx\", \"oc-7030-al.xlsx\", \"oc-7030-am.xlsx\", \"oc-7030-ap.xlsx\", \"oc-7030-ba.xlsx\", \n",
    "              \"oc-7030-ce.xlsx\", \"oc-7030-df.xlsx\", \"oc-7030-go.xlsx\", \"oc-7030-ma.xlsx\", \"oc-7030-mg.xlsx\", \n",
    "              \"oc-7030-mt.xlsx\", \"oc-7030-pa.xlsx\", \"oc-7030-pb.xlsx\", \"oc-7030-pe.xlsx\", \"oc-7030-pi.xlsx\", \n",
    "              \"oc-7030-rj.xlsx\", \"oc-7030-rn.xlsx\", \"oc-7030-ro.xlsx\", \"oc-7030-rr.xlsx\", \"oc-7030-rs.xlsx\", \n",
    "              \"oc-7030-sc.xlsx\", \"oc-7030-sp.xlsx\", \"oc-7030-to.xlsx\"]\n",
    "\n",
    "basesObitoCurado = [\"ic-7030-am.xlsx\", \"ic-7030-ba.xlsx\", \"ic-7030-ce.xlsx\", \"ic-7030-df.xlsx\", \"ic-7030-go.xlsx\", \n",
    "                    \"ic-7030-mg.xlsx\", \"ic-7030-ms.xlsx\", \"ic-7030-pa.xlsx\", \"ic-7030-pb.xlsx\", \"ic-7030-pi.xlsx\", \n",
    "                    \"ic-7030-rj.xlsx\", \"ic-7030-rs.xlsx\", \"ic-7030-sc.xlsx\", \"ic-7030-sp.xlsx\"]\n",
    "\n",
    "\n",
    "regioes6040 = [\"ic-6040-centrooeste.xlsx\", \"ic-6040-nordeste.xlsx\", \"ic-6040-norte.xlsx\", \n",
    "           \"ic-6040-sudeste.xlsx\", \"ic-6040-sul.xlsx\"]\n",
    "\n",
    "regioes7030 = [\"ic-7030-centrooeste.xlsx\", \"ic-7030-nordeste.xlsx\", \"ic-7030-norte.xlsx\", \n",
    "           \"ic-7030-sudeste.xlsx\", \"ic-7030-sul.xlsx\"]\n",
    "\n",
    "brasil = [\"ic-7030-brasil.xlsx\"]\n",
    "# \"oc-7030-brasil.xlsx\"\n",
    "\n"
   ]
  },
  {
   "cell_type": "code",
   "execution_count": null,
   "id": "bddb1271",
   "metadata": {},
   "outputs": [],
   "source": [
    "# Bases com a quantidade de vacinas\n",
    "\n",
    "vacinaOC7030 = [\"oc-vacina-7030-ac.xlsx\", \"oc-vacina-7030-al.xlsx\", \"oc-vacina-7030-am.xlsx\", \"oc-vacina-7030-ap.xlsx\", \"oc-vacina-7030-ba.xlsx\", \n",
    "               \"oc-vacina-7030-ce.xlsx\", \"oc-vacina-7030-df.xlsx\", \"oc-vacina-7030-go.xlsx\", \"oc-vacina-7030-ma.xlsx\", \"oc-vacina-7030-mg.xlsx\", \n",
    "               \"oc-vacina-7030-mt.xlsx\", \"oc-vacina-7030-pa.xlsx\", \"oc-vacina-7030-pb.xlsx\", \"oc-vacina-7030-pe.xlsx\", \"oc-vacina-7030-pi.xlsx\", \n",
    "               \"oc-vacina-7030-rj.xlsx\", \"oc-vacina-7030-rn.xlsx\", \"oc-vacina-7030-ro.xlsx\", \"oc-vacina-7030-rr.xlsx\", \"oc-vacina-7030-rs.xlsx\",\n",
    "               \"oc-vacina-7030-sc.xlsx\", \"oc-vacina-7030-sp.xlsx\", \"oc-vacina-7030-to.xlsx\"]\n",
    "\n",
    "vacinaOC6040 = [\"oc-vacina-6040-ac.xlsx\", \"oc-vacina-6040-al.xlsx\", \"oc-vacina-6040-am.xlsx\", \"oc-vacina-6040-ap.xlsx\", \"oc-vacina-6040-ba.xlsx\", \n",
    "               \"oc-vacina-6040-ce.xlsx\", \"oc-vacina-6040-df.xlsx\", \"oc-vacina-6040-go.xlsx\", \"oc-vacina-6040-ma.xlsx\", \"oc-vacina-6040-mg.xlsx\", \n",
    "               \"oc-vacina-6040-mt.xlsx\", \"oc-vacina-6040-pa.xlsx\", \"oc-vacina-6040-pb.xlsx\", \"oc-vacina-6040-pe.xlsx\", \"oc-vacina-6040-pi.xlsx\", \n",
    "               \"oc-vacina-6040-rj.xlsx\", \"oc-vacina-6040-rn.xlsx\", \"oc-vacina-6040-ro.xlsx\", \"oc-vacina-6040-rr.xlsx\", \"oc-vacina-6040-rs.xlsx\",\n",
    "               \"oc-vacina-6040-sc.xlsx\", \"oc-vacina-6040-sp.xlsx\", \"oc-vacina-6040-to.xlsx\"]\n",
    "\n",
    "vacinaIC6040 = [\"ic-vacina-6040-ac.xlsx\", \"ic-vacina-6040-al.xlsx\", \"ic-vacina-6040-am.xlsx\", \"ic-vacina-6040-ap.xlsx\", \"ic-vacina-6040-ba.xlsx\", \n",
    "               \"ic-vacina-6040-ce.xlsx\", \"ic-vacina-6040-df.xlsx\", \"ic-vacina-6040-go.xlsx\", \"ic-vacina-6040-ma.xlsx\", \"ic-vacina-6040-mg.xlsx\", \n",
    "               \"ic-vacina-6040-mt.xlsx\", \"ic-vacina-6040-pa.xlsx\", \"ic-vacina-6040-pb.xlsx\", \"ic-vacina-6040-pe.xlsx\", \"ic-vacina-6040-pi.xlsx\", \n",
    "               \"ic-vacina-6040-rj.xlsx\", \"ic-vacina-6040-ms.xlsx\", \"ic-vacina-6040-ro.xlsx\", \"ic-vacina-6040-rr.xlsx\", \"ic-vacina-6040-rs.xlsx\",\n",
    "               \"ic-vacina-6040-sc.xlsx\", \"ic-vacina-6040-sp.xlsx\", \"ic-vacina-6040-to.xlsx\"]\n",
    "\n",
    "vacinaIC7030 = [\"ic-vacina-7030-ac.xlsx\", \"ic-vacina-7030-al.xlsx\", \"ic-vacina-7030-am.xlsx\", \"ic-vacina-7030-ap.xlsx\", \"ic-vacina-7030-ba.xlsx\", \n",
    "               \"ic-vacina-7030-ce.xlsx\", \"ic-vacina-7030-df.xlsx\", \"ic-vacina-7030-go.xlsx\", \"ic-vacina-7030-ma.xlsx\", \"ic-vacina-7030-mg.xlsx\", \n",
    "               \"ic-vacina-7030-mt.xlsx\", \"ic-vacina-7030-pa.xlsx\", \"ic-vacina-7030-pb.xlsx\", \"ic-vacina-7030-pe.xlsx\", \"ic-vacina-7030-pi.xlsx\", \n",
    "               \"ic-vacina-7030-rj.xlsx\", \"ic-vacina-7030-ms.xlsx\", \"ic-vacina-7030-ro.xlsx\", \"ic-vacina-7030-rr.xlsx\", \"ic-vacina-7030-rs.xlsx\",\n",
    "               \"ic-vacina-7030-sc.xlsx\", \"ic-vacina-7030-sp.xlsx\", \"ic-vacina-7030-to.xlsx\"]\n",
    "\n",
    "estadosIC7030 = [\"ic-vacina-7030-centrooeste.xlsx\", \"ic-vacina-7030-nordeste.xlsx\", \"ic-vacina-7030-norte.xlsx\", \n",
    "                 \"ic-vacina-7030-sudeste.xlsx\", \"ic-vacina-7030-sul.xlsx\"]\n",
    "\n",
    "estadosIC6040 = [\"ic-vacina-6040-centrooeste.xlsx\", \"ic-vacina-6040-nordeste.xlsx\", \"ic-vacina-6040-norte.xlsx\", \n",
    "                 \"ic-vacina-6040-sudeste.xlsx\", \"ic-vacina-6040-sul.xlsx\"]\n",
    "\n",
    "estadosOC7030 = [\"oc-vacina-7030-centrooeste.xlsx\", \"oc-vacina-7030-nordeste.xlsx\", \"oc-vacina-7030-norte.xlsx\", \n",
    "                 \"oc-vacina-7030-sudeste.xlsx\", \"oc-vacina-7030-sul.xlsx\"]\n",
    "\n",
    "estadosOC6040 = [\"oc-vacina-6040-centrooeste.xlsx\", \"oc-vacina-6040-nordeste.xlsx\", \"oc-vacina-6040-norte.xlsx\", \n",
    "                 \"oc-vacina-6040-sudeste.xlsx\", \"oc-vacina-6040-sul.xlsx\"]"
   ]
  },
  {
   "cell_type": "code",
   "execution_count": null,
   "id": "fd5271ee",
   "metadata": {},
   "outputs": [],
   "source": [
    "import re\n",
    "\n",
    "bases = {}\n",
    "proporcao = \" (60/40)\"\n",
    "baseAlvo = estadosOC6040\n",
    "caminho = \"Vacinas/Regioes/OC/\"\n",
    "alvo = 'evolucaoCaso'"
   ]
  },
  {
   "cell_type": "code",
   "execution_count": null,
   "id": "733e7798",
   "metadata": {},
   "outputs": [],
   "source": [
    "### Carregando as Bases\n",
    "\n",
    "for i in range(0, len(baseAlvo)):\n",
    "    uf = re.compile( \"0-(.*?).xlsx\").search(baseAlvo[i]).group(1)\n",
    "    bases[uf + str(proporcao)] = str(caminho) + baseAlvo[i]\n",
    "    \n",
    "bases\n",
    "\n",
    "#bases['SP (60/40)'] = \"ic-vacina-6040-sp.xlsx\""
   ]
  },
  {
   "cell_type": "markdown",
   "id": "5e22e794",
   "metadata": {},
   "source": [
    "### Definindo as variáveis alvo e colunas removidas"
   ]
  },
  {
   "cell_type": "code",
   "execution_count": null,
   "id": "3881382f",
   "metadata": {},
   "outputs": [],
   "source": [
    "## Teste 1\n",
    "# colunasRemovidas = ['dataPrimeiraDose', 'dataSegundaDose']\n",
    "\n",
    "## Teste 2 (Melhor)\n",
    "colunasRemovidas = ['disturbiosOlfativos', 'disturbiosGustatorios', 'puerpera', 'fragilidadeImuno', \n",
    "                    'assintomatico', 'dataPrimeiraDose', 'dataSegundaDose']\n",
    "\n",
    "## Teste 3\n",
    "#colunasRemovidas = ['disturbiosOlfativos', 'disturbiosGustatorios', 'puerpera', 'fragilidadeImuno', \n",
    "#                    'assintomatico', 'dataPrimeiraDose', 'dataSegundaDose', 'renal', 'obesidade']\n",
    "\n",
    "## Teste 4\n",
    "#colunasRemovidas = ['disturbiosOlfativos', 'disturbiosGustatorios', 'puerpera', 'fragilidadeImuno', \n",
    "#                    'assintomatico', 'dataPrimeiraDose', 'dataSegundaDose', 'renal', 'obesidade', \n",
    "#                    'gestante', 'respiratoria']\n",
    "\n",
    "\n",
    "# 'disturbiosOlfativos', 'disturbiosGustatorios', 'puerpera', 'fragilidadeImuno', 'gestante', \n",
    "# 'obesidade', 'dataPrimeiraDose', 'dataSegundaDose', 'dataPrimeiraDose', 'dataSegundaDose'"
   ]
  },
  {
   "cell_type": "markdown",
   "id": "64ed6d22",
   "metadata": {},
   "source": [
    "### Executando a função de avaliacao dos modelos"
   ]
  },
  {
   "cell_type": "code",
   "execution_count": null,
   "id": "605d46bf",
   "metadata": {},
   "outputs": [],
   "source": [
    "valoresAlvo = [0, 1]\n",
    "\n",
    "desempenhoDosModelos = mf.testarModelos(bases, alvo, colunasRemovidas, modelos, valoresAlvo)\n",
    "desempenhoDosModelos"
   ]
  },
  {
   "cell_type": "code",
   "execution_count": null,
   "id": "5bd54c6e",
   "metadata": {},
   "outputs": [],
   "source": [
    "mf.salvarBaseDeDados(desempenhoDosModelos, \"Vacinas/Desempenho/desempenho-oc-regiao-6040.xlsx\")"
   ]
  },
  {
   "cell_type": "markdown",
   "id": "7d417b3c",
   "metadata": {},
   "source": [
    "### Executando a Probabilidade Casos"
   ]
  },
  {
   "cell_type": "code",
   "execution_count": null,
   "id": "5e4fb7f5",
   "metadata": {},
   "outputs": [],
   "source": [
    "base = \"Inicial/ce-22-7030-2022.xlsx\"\n",
    "alvo = \"evolucaoCaso\"\n",
    "covidData = mf.carregarBase(base, True, \"\")\n",
    "x_train, x_test, y_train, y_test = mf.criarTreinamentoTeste(0.3, covidData, alvo)\n",
    "\n",
    "classificador = mf.criarModelo(\"LR\", modelos[\"LR\"])\n",
    "\n",
    "classificador.fit(x_train, y_train)\n",
    "resultadoPredicao = classificador.predict(x_test)"
   ]
  },
  {
   "cell_type": "code",
   "execution_count": null,
   "id": "1484d334",
   "metadata": {},
   "outputs": [],
   "source": [
    "teste = {\n",
    "    'sexo': 0, \n",
    "    'racaCor': 3, \n",
    "    'assintomatico': 0, \n",
    "    'febre': 1, \n",
    "    'dorDeGarganta': 0,\n",
    "    'dispneia': 0,\n",
    "    'tosse': 0, \n",
    "    'coriza': 0, \n",
    "    'dorDeCabeca': 0, \n",
    "    'disturbiosGustatorios': 0,\n",
    "    'disturbiosOlfativos': 0, \n",
    "    'diabetes':0, \n",
    "    'obesidade': 0, \n",
    "    'renal': 0, \n",
    "    'respiratoria': 1,\n",
    "    'imunossupressao': 0, \n",
    "    'fragilidadeImuno': 0, \n",
    "    'gestante': 0, \n",
    "    'cardiaca': 1,\n",
    "    'puerpera': 0, \n",
    "    'faixaetaria': 6, \n",
    "}"
   ]
  },
  {
   "cell_type": "code",
   "execution_count": null,
   "id": "457fa39f",
   "metadata": {},
   "outputs": [],
   "source": [
    "# Formatando os dados\n",
    "testeFormatado = pd.DataFrame([teste])\n",
    "#testeFormatado = testeFormatado.transpose()\n",
    "\n",
    "# Calculando a Probabilidade\n",
    "probabilidade = classificador.predict_proba(testeFormatado)"
   ]
  },
  {
   "cell_type": "code",
   "execution_count": null,
   "id": "7af04079",
   "metadata": {},
   "outputs": [],
   "source": [
    "probabilidade"
   ]
  }
 ],
 "metadata": {
  "kernelspec": {
   "display_name": "Python 3 (ipykernel)",
   "language": "python",
   "name": "python3"
  },
  "language_info": {
   "codemirror_mode": {
    "name": "ipython",
    "version": 3
   },
   "file_extension": ".py",
   "mimetype": "text/x-python",
   "name": "python",
   "nbconvert_exporter": "python",
   "pygments_lexer": "ipython3",
   "version": "3.8.10"
  }
 },
 "nbformat": 4,
 "nbformat_minor": 5
}
