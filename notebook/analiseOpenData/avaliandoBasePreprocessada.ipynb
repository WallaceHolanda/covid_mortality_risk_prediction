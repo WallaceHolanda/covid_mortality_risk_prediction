{
 "cells": [
  {
   "cell_type": "code",
   "execution_count": 38,
   "id": "8774d1af",
   "metadata": {},
   "outputs": [
    {
     "name": "stdout",
     "output_type": "stream",
     "text": [
      "importing Jupyter notebook from preprocessamentofuncoes.ipynb\n"
     ]
    }
   ],
   "source": [
    "import pandas as pd\n",
    "import numpy as np\n",
    "\n",
    "import import_ipynb\n",
    "import preprocessamentofuncoes as pp"
   ]
  },
  {
   "cell_type": "code",
   "execution_count": 3,
   "id": "82638c42",
   "metadata": {},
   "outputs": [],
   "source": [
    "# Carregando as bases\n",
    "parte_1 = pd.read_excel('PreProcessamento/sus-sp1e4-pp.xlsx')\n",
    "#parte_2 = pd.read_excel('PreProcessamento/sus-sp5e7-pp.xlsx')"
   ]
  },
  {
   "cell_type": "code",
   "execution_count": null,
   "id": "a9d0e1c1",
   "metadata": {},
   "outputs": [],
   "source": [
    "# Juntando as partes\n",
    "# covidData = pd.concat([parte_1, parte_2])\n",
    "# covidData.reset_index(inplace=True, drop = True)"
   ]
  },
  {
   "cell_type": "code",
   "execution_count": 219,
   "id": "9e80903e",
   "metadata": {},
   "outputs": [
    {
     "data": {
      "text/plain": [
       "(486301, 49)"
      ]
     },
     "execution_count": 219,
     "metadata": {},
     "output_type": "execute_result"
    }
   ],
   "source": [
    "covidData = parte_1\n",
    "covidData.shape"
   ]
  },
  {
   "cell_type": "code",
   "execution_count": 220,
   "id": "b742ab4f",
   "metadata": {},
   "outputs": [
    {
     "data": {
      "text/plain": [
       "Index(['source_id', 'dataInicioSintomas', 'dataNotificacao', 'sexo', 'racaCor',\n",
       "       'idade', 'sintomas', 'outrosSintomas', 'condicoes', 'outrasCondicoes',\n",
       "       'dataPrimeiraDose', 'dataSegundaDose', 'classificacaoFinal',\n",
       "       'evolucaoCaso', 'diasSintomas', 'assintomatico', 'febre',\n",
       "       'dorDeGarganta', 'dispneia', 'tosse', 'coriza', 'dorDeCabeca',\n",
       "       'disturbiosGustatorios', 'disturbiosOlfativos', 'mialgia', 'dorNoCorpo',\n",
       "       'diarreia', 'cansaco', 'dosNasCostas', 'congestaoNasal', 'vomito',\n",
       "       'dorNoPeito', 'faltaDeAr', 'cefaleia', 'diabetes', 'obesidade', 'renal',\n",
       "       'respiratoria', 'imunossupressao', 'fragilidadeImuno', 'gestante',\n",
       "       'cardiaca', 'puerpera', 'hipertensao', 'asma', 'bronquite',\n",
       "       'hipotireoidismo', 'qntVacinas', 'faixaetaria'],\n",
       "      dtype='object')"
      ]
     },
     "execution_count": 220,
     "metadata": {},
     "output_type": "execute_result"
    }
   ],
   "source": [
    "covidData.columns"
   ]
  },
  {
   "cell_type": "code",
   "execution_count": 221,
   "id": "d7212832",
   "metadata": {},
   "outputs": [
    {
     "data": {
      "text/plain": [
       "(486301, 38)"
      ]
     },
     "execution_count": 221,
     "metadata": {},
     "output_type": "execute_result"
    }
   ],
   "source": [
    "colunasRemovidas = ['source_id', 'dataInicioSintomas', 'dataNotificacao', 'idade',\n",
    "                    'sintomas', 'outrosSintomas', 'condicoes', 'outrasCondicoes',\n",
    "                    'dataPrimeiraDose', 'dataSegundaDose', 'classificacaoFinal', \n",
    "                    'outrosSintomas', 'outrasCondicoes']\n",
    "\n",
    "covidData = covidData.drop(columns = colunasRemovidas)\n",
    "covidData.shape"
   ]
  },
  {
   "cell_type": "markdown",
   "id": "36ccdce7",
   "metadata": {},
   "source": [
    "### Verificando os atributos"
   ]
  },
  {
   "cell_type": "code",
   "execution_count": 13,
   "id": "7c7710c7",
   "metadata": {
    "collapsed": true
   },
   "outputs": [
    {
     "data": {
      "text/plain": [
       "sexo                     0.000000\n",
       "racaCor                  0.000000\n",
       "evolucaoCaso             0.000000\n",
       "diasSintomas             6.823552\n",
       "assintomatico            0.000000\n",
       "febre                    0.000000\n",
       "dorDeGarganta            0.000000\n",
       "dispneia                 0.000000\n",
       "tosse                    0.000000\n",
       "coriza                   0.000000\n",
       "dorDeCabeca              0.000000\n",
       "disturbiosGustatorios    0.000000\n",
       "disturbiosOlfativos      0.000000\n",
       "mialgia                  0.000000\n",
       "dorNoCorpo               0.000000\n",
       "diarreia                 0.000000\n",
       "cansaco                  0.000000\n",
       "dosNasCostas             0.000000\n",
       "congestaoNasal           0.000000\n",
       "vomito                   0.000000\n",
       "dorNoPeito               0.000000\n",
       "faltaDeAr                0.000000\n",
       "cefaleia                 0.000000\n",
       "diabetes                 0.000000\n",
       "obesidade                0.000000\n",
       "renal                    0.000000\n",
       "respiratoria             0.000000\n",
       "imunossupressao          0.000000\n",
       "fragilidadeImuno         0.000000\n",
       "gestante                 0.000000\n",
       "cardiaca                 0.000000\n",
       "puerpera                 0.000000\n",
       "hipertensao              0.000000\n",
       "asma                     0.000000\n",
       "bronquite                0.000000\n",
       "hipotireoidismo          0.000000\n",
       "qntVacinas               0.000000\n",
       "faixaetaria              0.000000\n",
       "dtype: float64"
      ]
     },
     "execution_count": 13,
     "metadata": {},
     "output_type": "execute_result"
    }
   ],
   "source": [
    "faltantes = covidData.isnull().sum()\n",
    "faltantes_percentual = (covidData.isnull().sum() / len(covidData)) * 100\n",
    "faltantes_percentual"
   ]
  },
  {
   "cell_type": "code",
   "execution_count": 222,
   "id": "4d8b3ac9",
   "metadata": {},
   "outputs": [
    {
     "data": {
      "text/plain": [
       "(453118, 38)"
      ]
     },
     "execution_count": 222,
     "metadata": {},
     "output_type": "execute_result"
    }
   ],
   "source": [
    "# Excluindo os dias vazios\n",
    "diasVazios = covidData.loc[covidData['diasSintomas'].isnull()]\n",
    "covidData = covidData.drop(diasVazios.index)\n",
    "covidData.shape"
   ]
  },
  {
   "cell_type": "code",
   "execution_count": 224,
   "id": "df81960f",
   "metadata": {
    "scrolled": true
   },
   "outputs": [],
   "source": [
    "# Verificando a distribuição de valores em cada atributo\n",
    "# colunas = covidData.columns\n",
    "# for coluna in colunas:\n",
    "#     print(covidData[coluna].value_counts())"
   ]
  },
  {
   "cell_type": "code",
   "execution_count": 225,
   "id": "2fc04130",
   "metadata": {},
   "outputs": [
    {
     "data": {
      "text/plain": [
       "1    451814\n",
       "0       905\n",
       "2       399\n",
       "Name: evolucaoCaso, dtype: int64"
      ]
     },
     "execution_count": 225,
     "metadata": {},
     "output_type": "execute_result"
    }
   ],
   "source": [
    "covidData['evolucaoCaso'].value_counts()"
   ]
  },
  {
   "cell_type": "code",
   "execution_count": 226,
   "id": "c1c9ee19",
   "metadata": {},
   "outputs": [
    {
     "data": {
      "text/plain": [
       "1    430776\n",
       "0       863\n",
       "2       380\n",
       "Name: evolucaoCaso, dtype: int64"
      ]
     },
     "execution_count": 226,
     "metadata": {},
     "output_type": "execute_result"
    }
   ],
   "source": [
    "# Removendo os dias outliers\n",
    "diasSintomasOutliers = covidData.loc[((covidData['diasSintomas'] > 30))]\n",
    "covidData = covidData.drop(diasSintomasOutliers.index)\n",
    "covidData['evolucaoCaso'].value_counts()"
   ]
  },
  {
   "cell_type": "code",
   "execution_count": 227,
   "id": "c3d40de4",
   "metadata": {},
   "outputs": [],
   "source": [
    "def converterDiasSintomas(covidData, diasSintomas, novaColuna):\n",
    "    covidData.loc[((covidData[diasSintomas] >= 0) & (covidData[diasSintomas] <= 3)), novaColuna] = 0\n",
    "    covidData.loc[((covidData[diasSintomas] >= 4) & (covidData[diasSintomas] <= 6)), novaColuna] = 1\n",
    "    covidData.loc[((covidData[diasSintomas] >= 7) & (covidData[diasSintomas] <= 9)), novaColuna] = 2\n",
    "    covidData.loc[((covidData[diasSintomas] >= 10) & (covidData[diasSintomas] <= 12)), novaColuna] = 3\n",
    "    covidData.loc[((covidData[diasSintomas] >= 13) & (covidData[diasSintomas] <= 15)), novaColuna] = 4\n",
    "    covidData.loc[((covidData[diasSintomas] >= 16) & (covidData[diasSintomas] <= 18)), novaColuna] = 5\n",
    "    covidData.loc[((covidData[diasSintomas] > 18)), novaColuna] = 6\n",
    "    return covidData"
   ]
  },
  {
   "cell_type": "code",
   "execution_count": 228,
   "id": "3bbfff51",
   "metadata": {},
   "outputs": [],
   "source": [
    "covidData = converterDiasSintomas(covidData, 'diasSintomas', 'faixaDiasSintomas')"
   ]
  },
  {
   "cell_type": "code",
   "execution_count": 230,
   "id": "c8ef85e7",
   "metadata": {},
   "outputs": [
    {
     "data": {
      "text/plain": [
       "1.0    192837\n",
       "0.0    147705\n",
       "2.0     49546\n",
       "3.0     16591\n",
       "6.0     11540\n",
       "4.0      8208\n",
       "5.0      5533\n",
       "Name: faixaDiasSintomas, dtype: int64"
      ]
     },
     "execution_count": 230,
     "metadata": {},
     "output_type": "execute_result"
    }
   ],
   "source": [
    "covidData['faixaDiasSintomas'].value_counts()"
   ]
  },
  {
   "cell_type": "markdown",
   "id": "1a8f665a",
   "metadata": {},
   "source": [
    "### Balanceamento dos Dados"
   ]
  },
  {
   "cell_type": "code",
   "execution_count": 284,
   "id": "0be74e4a",
   "metadata": {},
   "outputs": [
    {
     "data": {
      "text/plain": [
       "(1646, 39)"
      ]
     },
     "execution_count": 284,
     "metadata": {},
     "output_type": "execute_result"
    }
   ],
   "source": [
    "covidDataBalanced = pp.balanceamento(covidData, 'evolucaoCaso', 2, 30, 1)\n",
    "covidDataBalanced.shape"
   ]
  },
  {
   "cell_type": "code",
   "execution_count": 285,
   "id": "73e50ab8",
   "metadata": {},
   "outputs": [
    {
     "data": {
      "text/plain": [
       "1    1266\n",
       "2     380\n",
       "Name: evolucaoCaso, dtype: int64"
      ]
     },
     "execution_count": 285,
     "metadata": {},
     "output_type": "execute_result"
    }
   ],
   "source": [
    "covidDataBalanced['evolucaoCaso'].value_counts()"
   ]
  },
  {
   "cell_type": "code",
   "execution_count": 281,
   "id": "c43e7440",
   "metadata": {},
   "outputs": [],
   "source": [
    "# Salvando os Dados PreProcessados\n",
    "write = pd.ExcelWriter('PreProcessamento/balanceadas/new-pp-ic-7030-sp.xlsx')\n",
    "covidDataBalanced.to_excel(write, 'dados', index = False)\n",
    "write.save()"
   ]
  },
  {
   "cell_type": "markdown",
   "id": "6cc41ebf",
   "metadata": {},
   "source": [
    "### Testando o Desempenho do Modelo"
   ]
  },
  {
   "cell_type": "code",
   "execution_count": 286,
   "id": "0548402b",
   "metadata": {},
   "outputs": [],
   "source": [
    "from sklearn.model_selection import train_test_split\n",
    "from sklearn.linear_model import LogisticRegression\n",
    "from sklearn import metrics\n",
    "\n",
    "from sklearn.ensemble import GradientBoostingClassifier\n"
   ]
  },
  {
   "cell_type": "code",
   "execution_count": 287,
   "id": "d84292b3",
   "metadata": {},
   "outputs": [],
   "source": [
    "hiperparametrosLR = LogisticRegression(C=1.0, class_weight=None, dual=False, fit_intercept=True, \n",
    "                                       intercept_scaling=1, l1_ratio=None, max_iter=1000, multi_class='auto', \n",
    "                                       n_jobs=None, penalty='l2', random_state=1340, solver='lbfgs', \n",
    "                                       tol=0.0001, verbose=0, warm_start=False)\n",
    "\n",
    "hiperparametrosGB = GradientBoostingClassifier(ccp_alpha=0.0, criterion='friedman_mse', init=None,\n",
    "                           learning_rate=0.1, loss='deviance', max_depth=3,\n",
    "                           max_features=None, max_leaf_nodes=None,\n",
    "                           min_impurity_decrease=0.0, min_impurity_split=None,\n",
    "                           min_samples_leaf=1, min_samples_split=2,\n",
    "                           min_weight_fraction_leaf=0.0, n_estimators=100,\n",
    "                           n_iter_no_change=None, \n",
    "                           random_state=2333, subsample=1.0, tol=0.0001,\n",
    "                           validation_fraction=0.1, verbose=0,\n",
    "                           warm_start=False)"
   ]
  },
  {
   "cell_type": "code",
   "execution_count": 291,
   "id": "090f9b22",
   "metadata": {},
   "outputs": [
    {
     "data": {
      "text/plain": [
       "(1646, 26)"
      ]
     },
     "execution_count": 291,
     "metadata": {},
     "output_type": "execute_result"
    }
   ],
   "source": [
    "atributosRemovidos = ['assintomatico', 'hipotireoidismo', 'vomito', 'imunossupressao', \n",
    "                    'cefaleia', 'puerpera', 'disturbiosGustatorios', 'congestaoNasal', \n",
    "                    'bronquite', 'disturbiosOlfativos', 'cansaco', 'asma', 'diasSintomas',]\n",
    "\n",
    "covidDataBalanced = covidDataBalanced.drop(columns = atributosRemovidos)\n",
    "covidDataBalanced.shape"
   ]
  },
  {
   "cell_type": "code",
   "execution_count": 292,
   "id": "5491257e",
   "metadata": {},
   "outputs": [],
   "source": [
    "baseObitoCurado = covidDataBalanced\n",
    "alvo = 'evolucaoCaso'\n",
    "x_train, x_test, y_train, y_test = train_test_split(baseObitoCurado.drop(alvo,axis=1),\n",
    "                                                    baseObitoCurado[alvo],\n",
    "                                                    test_size=0.3,\n",
    "                                                    random_state=42);"
   ]
  },
  {
   "cell_type": "code",
   "execution_count": 293,
   "id": "27f97e0c",
   "metadata": {},
   "outputs": [
    {
     "name": "stdout",
     "output_type": "stream",
     "text": [
      "              precision    recall  f1-score   support\n",
      "\n",
      "           1       0.84      0.94      0.89       383\n",
      "           2       0.66      0.38      0.48       111\n",
      "\n",
      "    accuracy                           0.82       494\n",
      "   macro avg       0.75      0.66      0.68       494\n",
      "weighted avg       0.80      0.82      0.80       494\n",
      "\n"
     ]
    }
   ],
   "source": [
    "# Fit nos dados\n",
    "modeloClassificador = hiperparametrosGB\n",
    "modeloClassificador.fit(x_train, y_train)\n",
    "\n",
    "#Realizando a predição\n",
    "resultadoTeste = modeloClassificador.predict(x_test)\n",
    "\n",
    "# Verificando a acurácia\n",
    "print(metrics.classification_report(y_test,resultadoTeste))"
   ]
  },
  {
   "cell_type": "code",
   "execution_count": 294,
   "id": "d2463f51",
   "metadata": {},
   "outputs": [
    {
     "data": {
      "text/html": [
       "<div>\n",
       "<style scoped>\n",
       "    .dataframe tbody tr th:only-of-type {\n",
       "        vertical-align: middle;\n",
       "    }\n",
       "\n",
       "    .dataframe tbody tr th {\n",
       "        vertical-align: top;\n",
       "    }\n",
       "\n",
       "    .dataframe thead th {\n",
       "        text-align: right;\n",
       "    }\n",
       "</style>\n",
       "<table border=\"1\" class=\"dataframe\">\n",
       "  <thead>\n",
       "    <tr style=\"text-align: right;\">\n",
       "      <th></th>\n",
       "      <th>importance</th>\n",
       "    </tr>\n",
       "  </thead>\n",
       "  <tbody>\n",
       "    <tr>\n",
       "      <th>faixaetaria</th>\n",
       "      <td>0.474973</td>\n",
       "    </tr>\n",
       "    <tr>\n",
       "      <th>dispneia</th>\n",
       "      <td>0.099109</td>\n",
       "    </tr>\n",
       "    <tr>\n",
       "      <th>dorDeCabeca</th>\n",
       "      <td>0.095416</td>\n",
       "    </tr>\n",
       "    <tr>\n",
       "      <th>faixaDiasSintomas</th>\n",
       "      <td>0.057907</td>\n",
       "    </tr>\n",
       "    <tr>\n",
       "      <th>dorDeGarganta</th>\n",
       "      <td>0.046485</td>\n",
       "    </tr>\n",
       "    <tr>\n",
       "      <th>coriza</th>\n",
       "      <td>0.026309</td>\n",
       "    </tr>\n",
       "    <tr>\n",
       "      <th>renal</th>\n",
       "      <td>0.025820</td>\n",
       "    </tr>\n",
       "    <tr>\n",
       "      <th>diabetes</th>\n",
       "      <td>0.023813</td>\n",
       "    </tr>\n",
       "    <tr>\n",
       "      <th>respiratoria</th>\n",
       "      <td>0.021592</td>\n",
       "    </tr>\n",
       "    <tr>\n",
       "      <th>racaCor</th>\n",
       "      <td>0.018782</td>\n",
       "    </tr>\n",
       "    <tr>\n",
       "      <th>qntVacinas</th>\n",
       "      <td>0.013732</td>\n",
       "    </tr>\n",
       "    <tr>\n",
       "      <th>dorNoCorpo</th>\n",
       "      <td>0.013194</td>\n",
       "    </tr>\n",
       "    <tr>\n",
       "      <th>febre</th>\n",
       "      <td>0.012991</td>\n",
       "    </tr>\n",
       "    <tr>\n",
       "      <th>obesidade</th>\n",
       "      <td>0.010921</td>\n",
       "    </tr>\n",
       "    <tr>\n",
       "      <th>mialgia</th>\n",
       "      <td>0.010369</td>\n",
       "    </tr>\n",
       "    <tr>\n",
       "      <th>diarreia</th>\n",
       "      <td>0.010107</td>\n",
       "    </tr>\n",
       "    <tr>\n",
       "      <th>fragilidadeImuno</th>\n",
       "      <td>0.010072</td>\n",
       "    </tr>\n",
       "    <tr>\n",
       "      <th>cardiaca</th>\n",
       "      <td>0.006640</td>\n",
       "    </tr>\n",
       "    <tr>\n",
       "      <th>tosse</th>\n",
       "      <td>0.006354</td>\n",
       "    </tr>\n",
       "    <tr>\n",
       "      <th>sexo</th>\n",
       "      <td>0.005101</td>\n",
       "    </tr>\n",
       "    <tr>\n",
       "      <th>hipertensao</th>\n",
       "      <td>0.003226</td>\n",
       "    </tr>\n",
       "    <tr>\n",
       "      <th>gestante</th>\n",
       "      <td>0.003158</td>\n",
       "    </tr>\n",
       "    <tr>\n",
       "      <th>faltaDeAr</th>\n",
       "      <td>0.002069</td>\n",
       "    </tr>\n",
       "    <tr>\n",
       "      <th>dosNasCostas</th>\n",
       "      <td>0.001511</td>\n",
       "    </tr>\n",
       "    <tr>\n",
       "      <th>dorNoPeito</th>\n",
       "      <td>0.000351</td>\n",
       "    </tr>\n",
       "  </tbody>\n",
       "</table>\n",
       "</div>"
      ],
      "text/plain": [
       "                   importance\n",
       "faixaetaria          0.474973\n",
       "dispneia             0.099109\n",
       "dorDeCabeca          0.095416\n",
       "faixaDiasSintomas    0.057907\n",
       "dorDeGarganta        0.046485\n",
       "coriza               0.026309\n",
       "renal                0.025820\n",
       "diabetes             0.023813\n",
       "respiratoria         0.021592\n",
       "racaCor              0.018782\n",
       "qntVacinas           0.013732\n",
       "dorNoCorpo           0.013194\n",
       "febre                0.012991\n",
       "obesidade            0.010921\n",
       "mialgia              0.010369\n",
       "diarreia             0.010107\n",
       "fragilidadeImuno     0.010072\n",
       "cardiaca             0.006640\n",
       "tosse                0.006354\n",
       "sexo                 0.005101\n",
       "hipertensao          0.003226\n",
       "gestante             0.003158\n",
       "faltaDeAr            0.002069\n",
       "dosNasCostas         0.001511\n",
       "dorNoPeito           0.000351"
      ]
     },
     "execution_count": 294,
     "metadata": {},
     "output_type": "execute_result"
    }
   ],
   "source": [
    "feature_importances = pd.DataFrame(modeloClassificador.feature_importances_,\n",
    "                                   index = x_train.columns,\n",
    "                                    columns=['importance']).sort_values('importance', ascending=False)\n",
    "feature_importances"
   ]
  },
  {
   "cell_type": "markdown",
   "id": "ef392077",
   "metadata": {},
   "source": [
    "### Colunas - Modelo OC"
   ]
  },
  {
   "cell_type": "code",
   "execution_count": 283,
   "id": "118a6d3d",
   "metadata": {},
   "outputs": [],
   "source": [
    "colunasRemovidas = ['assintomatico', 'hipotireoidismo', 'vomito', 'imunossupressao', \n",
    "                    'cefaleia', 'puerpera', 'disturbiosGustatorios', 'congestaoNasal', \n",
    "                    'bronquite', 'disturbiosOlfativos', 'cansaco', 'asma', 'diasSintomas',]\n",
    "\n",
    "colunasRemovidas = ['assintomatico', 'hipotireoidismo', 'vomito', 'imunossupressao', \n",
    "                    'cefaleia', 'puerpera', 'disturbiosGustatorios', 'congestaoNasal', \n",
    "                    'bronquite', 'disturbiosOlfativos', 'cansaco', 'asma', 'diasSintomas', \n",
    "                    'tosse', 'gestante', 'faltaDeAr', 'mialgia', 'diarreia', \n",
    "                    'dosNasCostas', 'fragilidadeImuno', 'respiratoria', 'dorNoPeito',]\n",
    "\n",
    "# Menos de 1% (0.8 - 0.2)\n",
    "colunasRemovidas = ['assintomatico', 'hipotireoidismo', 'vomito', 'imunossupressao', \n",
    "                    'cefaleia', 'puerpera', 'disturbiosGustatorios', 'congestaoNasal', \n",
    "                    'bronquite', 'disturbiosOlfativos', 'cansaco', 'asma', 'diasSintomas', \n",
    "                    'tosse', 'gestante', 'faltaDeAr', 'mialgia', 'diarreia', \n",
    "                    'dosNasCostas', 'fragilidadeImuno', 'respiratoria', 'dorNoPeito',\n",
    "                    'dorDeCabeca', 'dorNoCorpo', 'obesidade', 'febre', 'renal', 'hipertensao',]"
   ]
  },
  {
   "cell_type": "markdown",
   "id": "ee8df97c",
   "metadata": {},
   "source": [
    "### Colunas - Modelo IC"
   ]
  },
  {
   "cell_type": "code",
   "execution_count": 108,
   "id": "2607e5f6",
   "metadata": {},
   "outputs": [],
   "source": []
  },
  {
   "cell_type": "code",
   "execution_count": null,
   "id": "defea31f",
   "metadata": {},
   "outputs": [],
   "source": []
  }
 ],
 "metadata": {
  "kernelspec": {
   "display_name": "Python 3 (ipykernel)",
   "language": "python",
   "name": "python3"
  },
  "language_info": {
   "codemirror_mode": {
    "name": "ipython",
    "version": 3
   },
   "file_extension": ".py",
   "mimetype": "text/x-python",
   "name": "python",
   "nbconvert_exporter": "python",
   "pygments_lexer": "ipython3",
   "version": "3.8.10"
  }
 },
 "nbformat": 4,
 "nbformat_minor": 5
}
