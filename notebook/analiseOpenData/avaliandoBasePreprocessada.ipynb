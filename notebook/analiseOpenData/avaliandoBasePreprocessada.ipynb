{
 "cells": [
  {
   "cell_type": "code",
   "execution_count": 1,
   "id": "8774d1af",
   "metadata": {},
   "outputs": [
    {
     "name": "stdout",
     "output_type": "stream",
     "text": [
      "importing Jupyter notebook from preprocessamentofuncoes.ipynb\n"
     ]
    }
   ],
   "source": [
    "import pandas as pd\n",
    "import numpy as np\n",
    "\n",
    "import import_ipynb\n",
    "import preprocessamentofuncoes as pp"
   ]
  },
  {
   "cell_type": "code",
   "execution_count": 2,
   "id": "82638c42",
   "metadata": {},
   "outputs": [],
   "source": [
    "# Carregando as bases\n",
    "parte_1 = pd.read_excel('PreProcessamento/sus-sp1e4-pp.xlsx')\n",
    "# parte_2 = pd.read_excel('PreProcessamento/sus-sp5e7-pp.xlsx')"
   ]
  },
  {
   "cell_type": "code",
   "execution_count": null,
   "id": "a9d0e1c1",
   "metadata": {},
   "outputs": [],
   "source": [
    "# Juntando as partes\n",
    "# covidData = pd.concat([parte_1, parte_2])\n",
    "# covidData.reset_index(inplace=True, drop = True)"
   ]
  },
  {
   "cell_type": "code",
   "execution_count": 3,
   "id": "9e80903e",
   "metadata": {},
   "outputs": [
    {
     "data": {
      "text/plain": [
       "(486301, 49)"
      ]
     },
     "execution_count": 3,
     "metadata": {},
     "output_type": "execute_result"
    }
   ],
   "source": [
    "covidData = parte_1\n",
    "covidData.shape"
   ]
  },
  {
   "cell_type": "code",
   "execution_count": null,
   "id": "b742ab4f",
   "metadata": {},
   "outputs": [],
   "source": [
    "# covidData.columns"
   ]
  },
  {
   "cell_type": "code",
   "execution_count": 4,
   "id": "d7212832",
   "metadata": {},
   "outputs": [
    {
     "data": {
      "text/plain": [
       "(486301, 38)"
      ]
     },
     "execution_count": 4,
     "metadata": {},
     "output_type": "execute_result"
    }
   ],
   "source": [
    "colunasRemovidas = ['source_id', 'dataInicioSintomas', 'dataNotificacao', 'idade',\n",
    "                    'sintomas', 'outrosSintomas', 'condicoes', 'outrasCondicoes',\n",
    "                    'dataPrimeiraDose', 'dataSegundaDose', 'classificacaoFinal', \n",
    "                    'outrosSintomas', 'outrasCondicoes']\n",
    "\n",
    "covidData = covidData.drop(columns = colunasRemovidas)\n",
    "covidData.shape"
   ]
  },
  {
   "cell_type": "markdown",
   "id": "36ccdce7",
   "metadata": {},
   "source": [
    "### Verificando os atributos"
   ]
  },
  {
   "cell_type": "code",
   "execution_count": 5,
   "id": "9b8a82b5",
   "metadata": {},
   "outputs": [],
   "source": [
    "# Excluindo os dias vazios\n",
    "def removerAtributosFaltosos(covidData, atributo):\n",
    "    instanciasVazias = covidData.loc[covidData[atributo].isnull()]\n",
    "    covidData = covidData.drop(instanciasVazias.index)\n",
    "    return covidData"
   ]
  },
  {
   "cell_type": "code",
   "execution_count": 6,
   "id": "7c7710c7",
   "metadata": {},
   "outputs": [
    {
     "data": {
      "text/plain": [
       "sexo                     0.000000\n",
       "racaCor                  0.000000\n",
       "evolucaoCaso             0.000000\n",
       "diasSintomas             6.823552\n",
       "assintomatico            0.000000\n",
       "febre                    0.000000\n",
       "dorDeGarganta            0.000000\n",
       "dispneia                 0.000000\n",
       "tosse                    0.000000\n",
       "coriza                   0.000000\n",
       "dorDeCabeca              0.000000\n",
       "disturbiosGustatorios    0.000000\n",
       "disturbiosOlfativos      0.000000\n",
       "mialgia                  0.000000\n",
       "dorNoCorpo               0.000000\n",
       "diarreia                 0.000000\n",
       "cansaco                  0.000000\n",
       "dosNasCostas             0.000000\n",
       "congestaoNasal           0.000000\n",
       "vomito                   0.000000\n",
       "dorNoPeito               0.000000\n",
       "faltaDeAr                0.000000\n",
       "cefaleia                 0.000000\n",
       "diabetes                 0.000000\n",
       "obesidade                0.000000\n",
       "renal                    0.000000\n",
       "respiratoria             0.000000\n",
       "imunossupressao          0.000000\n",
       "fragilidadeImuno         0.000000\n",
       "gestante                 0.000000\n",
       "cardiaca                 0.000000\n",
       "puerpera                 0.000000\n",
       "hipertensao              0.000000\n",
       "asma                     0.000000\n",
       "bronquite                0.000000\n",
       "hipotireoidismo          0.000000\n",
       "qntVacinas               0.000000\n",
       "faixaetaria              0.000000\n",
       "dtype: float64"
      ]
     },
     "execution_count": 6,
     "metadata": {},
     "output_type": "execute_result"
    }
   ],
   "source": [
    "# Verificando a porcentagem de atributos faltosos\n",
    "pp.visualizarQntFaltosos(covidData)"
   ]
  },
  {
   "cell_type": "code",
   "execution_count": 7,
   "id": "4d8b3ac9",
   "metadata": {},
   "outputs": [],
   "source": [
    "# Excluindo os dias vazios\n",
    "covidData = removerAtributosFaltosos(covidData, 'diasSintomas')"
   ]
  },
  {
   "cell_type": "code",
   "execution_count": 8,
   "id": "fbcebbac",
   "metadata": {
    "scrolled": true
   },
   "outputs": [
    {
     "data": {
      "text/plain": [
       "sexo                     0.0\n",
       "racaCor                  0.0\n",
       "evolucaoCaso             0.0\n",
       "diasSintomas             0.0\n",
       "assintomatico            0.0\n",
       "febre                    0.0\n",
       "dorDeGarganta            0.0\n",
       "dispneia                 0.0\n",
       "tosse                    0.0\n",
       "coriza                   0.0\n",
       "dorDeCabeca              0.0\n",
       "disturbiosGustatorios    0.0\n",
       "disturbiosOlfativos      0.0\n",
       "mialgia                  0.0\n",
       "dorNoCorpo               0.0\n",
       "diarreia                 0.0\n",
       "cansaco                  0.0\n",
       "dosNasCostas             0.0\n",
       "congestaoNasal           0.0\n",
       "vomito                   0.0\n",
       "dorNoPeito               0.0\n",
       "faltaDeAr                0.0\n",
       "cefaleia                 0.0\n",
       "diabetes                 0.0\n",
       "obesidade                0.0\n",
       "renal                    0.0\n",
       "respiratoria             0.0\n",
       "imunossupressao          0.0\n",
       "fragilidadeImuno         0.0\n",
       "gestante                 0.0\n",
       "cardiaca                 0.0\n",
       "puerpera                 0.0\n",
       "hipertensao              0.0\n",
       "asma                     0.0\n",
       "bronquite                0.0\n",
       "hipotireoidismo          0.0\n",
       "qntVacinas               0.0\n",
       "faixaetaria              0.0\n",
       "dtype: float64"
      ]
     },
     "execution_count": 8,
     "metadata": {},
     "output_type": "execute_result"
    }
   ],
   "source": [
    "pp.visualizarQntFaltosos(covidData)"
   ]
  },
  {
   "cell_type": "code",
   "execution_count": null,
   "id": "df81960f",
   "metadata": {
    "scrolled": true
   },
   "outputs": [],
   "source": [
    "# Verificando a distribuição de valores em cada atributo\n",
    "# colunas = covidData.columns\n",
    "# for coluna in colunas:\n",
    "#     print(covidData[coluna].value_counts())"
   ]
  },
  {
   "cell_type": "code",
   "execution_count": 9,
   "id": "2fc04130",
   "metadata": {},
   "outputs": [
    {
     "data": {
      "text/plain": [
       "1    451814\n",
       "0       905\n",
       "2       399\n",
       "Name: evolucaoCaso, dtype: int64"
      ]
     },
     "execution_count": 9,
     "metadata": {},
     "output_type": "execute_result"
    }
   ],
   "source": [
    "covidData['evolucaoCaso'].value_counts()"
   ]
  },
  {
   "cell_type": "code",
   "execution_count": 10,
   "id": "c1c9ee19",
   "metadata": {},
   "outputs": [
    {
     "data": {
      "text/plain": [
       "1    430776\n",
       "0       863\n",
       "2       380\n",
       "Name: evolucaoCaso, dtype: int64"
      ]
     },
     "execution_count": 10,
     "metadata": {},
     "output_type": "execute_result"
    }
   ],
   "source": [
    "# Removendo os dias outliers\n",
    "diasSintomasOutliers = covidData.loc[((covidData['diasSintomas'] > 30))]\n",
    "covidData = covidData.drop(diasSintomasOutliers.index)\n",
    "covidData['evolucaoCaso'].value_counts()"
   ]
  },
  {
   "cell_type": "code",
   "execution_count": 11,
   "id": "c3d40de4",
   "metadata": {},
   "outputs": [],
   "source": [
    "def converterDiasSintomas(covidData, diasSintomas, novaColuna):\n",
    "    covidData.loc[((covidData[diasSintomas] >= 0) & (covidData[diasSintomas] <= 3)), novaColuna] = 0\n",
    "    covidData.loc[((covidData[diasSintomas] >= 4) & (covidData[diasSintomas] <= 6)), novaColuna] = 1\n",
    "    covidData.loc[((covidData[diasSintomas] >= 7) & (covidData[diasSintomas] <= 9)), novaColuna] = 2\n",
    "    covidData.loc[((covidData[diasSintomas] >= 10) & (covidData[diasSintomas] <= 12)), novaColuna] = 3\n",
    "    covidData.loc[((covidData[diasSintomas] >= 13) & (covidData[diasSintomas] <= 15)), novaColuna] = 4\n",
    "    covidData.loc[((covidData[diasSintomas] >= 16) & (covidData[diasSintomas] <= 18)), novaColuna] = 5\n",
    "    covidData.loc[((covidData[diasSintomas] > 18)), novaColuna] = 6\n",
    "    return covidData"
   ]
  },
  {
   "cell_type": "code",
   "execution_count": 12,
   "id": "3bbfff51",
   "metadata": {},
   "outputs": [],
   "source": [
    "covidData = converterDiasSintomas(covidData, 'diasSintomas', 'faixaDiasSintomas')"
   ]
  },
  {
   "cell_type": "code",
   "execution_count": 13,
   "id": "c8ef85e7",
   "metadata": {},
   "outputs": [
    {
     "data": {
      "text/plain": [
       "1.0    192837\n",
       "0.0    147705\n",
       "2.0     49546\n",
       "3.0     16591\n",
       "6.0     11540\n",
       "4.0      8208\n",
       "5.0      5533\n",
       "Name: faixaDiasSintomas, dtype: int64"
      ]
     },
     "execution_count": 13,
     "metadata": {},
     "output_type": "execute_result"
    }
   ],
   "source": [
    "covidData['faixaDiasSintomas'].value_counts()"
   ]
  },
  {
   "cell_type": "markdown",
   "id": "1a8f665a",
   "metadata": {},
   "source": [
    "### Balanceamento dos Dados"
   ]
  },
  {
   "cell_type": "code",
   "execution_count": 14,
   "id": "0be74e4a",
   "metadata": {},
   "outputs": [
    {
     "data": {
      "text/plain": [
       "(1646, 39)"
      ]
     },
     "execution_count": 14,
     "metadata": {},
     "output_type": "execute_result"
    }
   ],
   "source": [
    "covidDataBalanced = pp.balanceamento(covidData, 'evolucaoCaso', 2, 30, 1)\n",
    "covidDataBalanced.shape"
   ]
  },
  {
   "cell_type": "code",
   "execution_count": 15,
   "id": "73e50ab8",
   "metadata": {},
   "outputs": [
    {
     "data": {
      "text/plain": [
       "1    1266\n",
       "2     380\n",
       "Name: evolucaoCaso, dtype: int64"
      ]
     },
     "execution_count": 15,
     "metadata": {},
     "output_type": "execute_result"
    }
   ],
   "source": [
    "covidDataBalanced['evolucaoCaso'].value_counts()"
   ]
  },
  {
   "cell_type": "code",
   "execution_count": 16,
   "id": "f8ad8ba6",
   "metadata": {
    "scrolled": true
   },
   "outputs": [
    {
     "data": {
      "text/plain": [
       "sexo                     0.0\n",
       "racaCor                  0.0\n",
       "evolucaoCaso             0.0\n",
       "diasSintomas             0.0\n",
       "assintomatico            0.0\n",
       "febre                    0.0\n",
       "dorDeGarganta            0.0\n",
       "dispneia                 0.0\n",
       "tosse                    0.0\n",
       "coriza                   0.0\n",
       "dorDeCabeca              0.0\n",
       "disturbiosGustatorios    0.0\n",
       "disturbiosOlfativos      0.0\n",
       "mialgia                  0.0\n",
       "dorNoCorpo               0.0\n",
       "diarreia                 0.0\n",
       "cansaco                  0.0\n",
       "dosNasCostas             0.0\n",
       "congestaoNasal           0.0\n",
       "vomito                   0.0\n",
       "dorNoPeito               0.0\n",
       "faltaDeAr                0.0\n",
       "cefaleia                 0.0\n",
       "diabetes                 0.0\n",
       "obesidade                0.0\n",
       "renal                    0.0\n",
       "respiratoria             0.0\n",
       "imunossupressao          0.0\n",
       "fragilidadeImuno         0.0\n",
       "gestante                 0.0\n",
       "cardiaca                 0.0\n",
       "puerpera                 0.0\n",
       "hipertensao              0.0\n",
       "asma                     0.0\n",
       "bronquite                0.0\n",
       "hipotireoidismo          0.0\n",
       "qntVacinas               0.0\n",
       "faixaetaria              0.0\n",
       "faixaDiasSintomas        0.0\n",
       "dtype: float64"
      ]
     },
     "execution_count": 16,
     "metadata": {},
     "output_type": "execute_result"
    }
   ],
   "source": [
    "pp.visualizarQntFaltosos(covidDataBalanced)"
   ]
  },
  {
   "cell_type": "code",
   "execution_count": null,
   "id": "3df1d83d",
   "metadata": {
    "scrolled": true
   },
   "outputs": [],
   "source": [
    "covidDataBalanced = removerAtributosFaltosos(covidDataBalanced, 'faixaDiasSintomas')\n",
    "pp.visualizarQntFaltosos(covidDataBalanced)\n",
    "# covidDataBalanced['evolucaoCaso'].value_counts()"
   ]
  },
  {
   "cell_type": "code",
   "execution_count": 17,
   "id": "c43e7440",
   "metadata": {},
   "outputs": [],
   "source": [
    "# Salvando os Dados PreProcessados\n",
    "write = pd.ExcelWriter('PreProcessamento/balanceadas/new-pp-ic-7030-sp.xlsx')\n",
    "covidDataBalanced.to_excel(write, 'dados', index = False)\n",
    "write.save()"
   ]
  },
  {
   "cell_type": "markdown",
   "id": "6cc41ebf",
   "metadata": {},
   "source": [
    "### Testando o Desempenho do Modelo"
   ]
  },
  {
   "cell_type": "code",
   "execution_count": null,
   "id": "0548402b",
   "metadata": {},
   "outputs": [],
   "source": [
    "from sklearn.model_selection import train_test_split\n",
    "from sklearn.linear_model import LogisticRegression\n",
    "from sklearn import metrics\n",
    "\n",
    "from sklearn.ensemble import GradientBoostingClassifier\n"
   ]
  },
  {
   "cell_type": "code",
   "execution_count": null,
   "id": "d84292b3",
   "metadata": {},
   "outputs": [],
   "source": [
    "hiperparametrosLR = LogisticRegression(C=1.0, class_weight=None, dual=False, fit_intercept=True, \n",
    "                                       intercept_scaling=1, l1_ratio=None, max_iter=1000, multi_class='auto', \n",
    "                                       n_jobs=None, penalty='l2', random_state=1340, solver='lbfgs', \n",
    "                                       tol=0.0001, verbose=0, warm_start=False)\n",
    "\n",
    "hiperparametrosGB = GradientBoostingClassifier(ccp_alpha=0.0, criterion='friedman_mse', init=None,\n",
    "                           learning_rate=0.1, loss='deviance', max_depth=3,\n",
    "                           max_features=None, max_leaf_nodes=None,\n",
    "                           min_impurity_decrease=0.0, min_impurity_split=None,\n",
    "                           min_samples_leaf=1, min_samples_split=2,\n",
    "                           min_weight_fraction_leaf=0.0, n_estimators=100,\n",
    "                           n_iter_no_change=None, \n",
    "                           random_state=2333, subsample=1.0, tol=0.0001,\n",
    "                           validation_fraction=0.1, verbose=0,\n",
    "                           warm_start=False)"
   ]
  },
  {
   "cell_type": "code",
   "execution_count": null,
   "id": "090f9b22",
   "metadata": {},
   "outputs": [],
   "source": [
    "atributosRemovidos = ['assintomatico', 'hipotireoidismo', 'vomito', 'imunossupressao', \n",
    "                    'cefaleia', 'puerpera', 'disturbiosGustatorios', 'congestaoNasal', \n",
    "                    'bronquite', 'disturbiosOlfativos', 'cansaco', 'asma', 'diasSintomas', \n",
    "                    'tosse', 'gestante', 'faltaDeAr', 'mialgia', 'diarreia', \n",
    "                    'dosNasCostas', 'fragilidadeImuno', 'respiratoria', 'dorNoPeito',\n",
    "                    'dorDeCabeca', 'dorNoCorpo', 'obesidade', 'febre', 'renal', 'sexo',]\n",
    "\n",
    "covidDataBalanced = covidDataBalanced.drop(columns = atributosRemovidos)\n",
    "covidDataBalanced.shape"
   ]
  },
  {
   "cell_type": "code",
   "execution_count": null,
   "id": "5491257e",
   "metadata": {},
   "outputs": [],
   "source": [
    "baseObitoCurado = covidDataBalanced\n",
    "alvo = 'evolucaoCaso'\n",
    "x_train, x_test, y_train, y_test = train_test_split(baseObitoCurado.drop(alvo,axis=1),\n",
    "                                                    baseObitoCurado[alvo],\n",
    "                                                    test_size=0.3,\n",
    "                                                    random_state=42);"
   ]
  },
  {
   "cell_type": "code",
   "execution_count": null,
   "id": "27f97e0c",
   "metadata": {},
   "outputs": [],
   "source": [
    "# Fit nos dados\n",
    "modeloClassificador = hiperparametrosGB\n",
    "modeloClassificador.fit(x_train, y_train)\n",
    "\n",
    "#Realizando a predição\n",
    "resultadoTeste = modeloClassificador.predict(x_test)\n",
    "\n",
    "# Verificando a acurácia\n",
    "print(metrics.classification_report(y_test,resultadoTeste))"
   ]
  },
  {
   "cell_type": "code",
   "execution_count": null,
   "id": "d2463f51",
   "metadata": {},
   "outputs": [],
   "source": [
    "feature_importances = pd.DataFrame(modeloClassificador.feature_importances_,\n",
    "                                   index = x_train.columns,\n",
    "                                    columns=['importance']).sort_values('importance', ascending=False)\n",
    "feature_importances"
   ]
  },
  {
   "cell_type": "markdown",
   "id": "ef392077",
   "metadata": {},
   "source": [
    "### Colunas - Modelo OC"
   ]
  },
  {
   "cell_type": "code",
   "execution_count": null,
   "id": "118a6d3d",
   "metadata": {},
   "outputs": [],
   "source": [
    "colunasRemovidas = ['assintomatico', 'hipotireoidismo', 'vomito', 'imunossupressao', \n",
    "                    'cefaleia', 'puerpera', 'disturbiosGustatorios', 'congestaoNasal', \n",
    "                    'bronquite', 'disturbiosOlfativos', 'cansaco', 'asma', 'diasSintomas',]\n",
    "\n",
    "colunasRemovidas = ['assintomatico', 'hipotireoidismo', 'vomito', 'imunossupressao', \n",
    "                    'cefaleia', 'puerpera', 'disturbiosGustatorios', 'congestaoNasal', \n",
    "                    'bronquite', 'disturbiosOlfativos', 'cansaco', 'asma', 'diasSintomas', \n",
    "                    'tosse', 'gestante', 'faltaDeAr', 'mialgia', 'diarreia', \n",
    "                    'dosNasCostas', 'fragilidadeImuno', 'respiratoria', 'dorNoPeito',]\n",
    "\n",
    "# Menos de 1% (0.8 - 0.2)\n",
    "colunasRemovidas = ['assintomatico', 'hipotireoidismo', 'vomito', 'imunossupressao', \n",
    "                    'cefaleia', 'puerpera', 'disturbiosGustatorios', 'congestaoNasal', \n",
    "                    'bronquite', 'disturbiosOlfativos', 'cansaco', 'asma', 'diasSintomas', \n",
    "                    'tosse', 'gestante', 'faltaDeAr', 'mialgia', 'diarreia', \n",
    "                    'dosNasCostas', 'fragilidadeImuno', 'respiratoria', 'dorNoPeito',\n",
    "                    'dorDeCabeca', 'dorNoCorpo', 'obesidade', 'febre', 'renal', 'hipertensao',]"
   ]
  },
  {
   "cell_type": "markdown",
   "id": "ee8df97c",
   "metadata": {},
   "source": [
    "### Colunas - Modelo IC"
   ]
  },
  {
   "cell_type": "code",
   "execution_count": null,
   "id": "2607e5f6",
   "metadata": {},
   "outputs": [],
   "source": []
  },
  {
   "cell_type": "code",
   "execution_count": null,
   "id": "defea31f",
   "metadata": {},
   "outputs": [],
   "source": []
  }
 ],
 "metadata": {
  "kernelspec": {
   "display_name": "Python 3 (ipykernel)",
   "language": "python",
   "name": "python3"
  },
  "language_info": {
   "codemirror_mode": {
    "name": "ipython",
    "version": 3
   },
   "file_extension": ".py",
   "mimetype": "text/x-python",
   "name": "python",
   "nbconvert_exporter": "python",
   "pygments_lexer": "ipython3",
   "version": "3.8.10"
  }
 },
 "nbformat": 4,
 "nbformat_minor": 5
}
