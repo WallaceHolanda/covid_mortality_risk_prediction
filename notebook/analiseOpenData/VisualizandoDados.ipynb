{
 "cells": [
  {
   "cell_type": "code",
   "execution_count": 1,
   "id": "105854fa",
   "metadata": {
    "collapsed": true
   },
   "outputs": [
    {
     "name": "stdout",
     "output_type": "stream",
     "text": [
      "Defaulting to user installation because normal site-packages is not writeable\n",
      "Requirement already satisfied: pandas-profiling in /home/wallece/.local/lib/python3.8/site-packages (3.1.0)\n",
      "Requirement already satisfied: pydantic>=1.8.1 in /home/wallece/.local/lib/python3.8/site-packages (from pandas-profiling) (1.9.0)\n",
      "Requirement already satisfied: missingno>=0.4.2 in /home/wallece/.local/lib/python3.8/site-packages (from pandas-profiling) (0.5.0)\n",
      "Requirement already satisfied: multimethod>=1.4 in /home/wallece/.local/lib/python3.8/site-packages (from pandas-profiling) (1.6)\n",
      "Requirement already satisfied: seaborn>=0.10.1 in /home/wallece/.local/lib/python3.8/site-packages (from pandas-profiling) (0.11.2)\n",
      "Requirement already satisfied: tqdm>=4.48.2 in /home/wallece/.local/lib/python3.8/site-packages (from pandas-profiling) (4.62.3)\n",
      "Requirement already satisfied: jinja2>=2.11.1 in /home/wallece/.local/lib/python3.8/site-packages (from pandas-profiling) (3.0.3)\n",
      "Requirement already satisfied: requests>=2.24.0 in /home/wallece/.local/lib/python3.8/site-packages (from pandas-profiling) (2.27.1)\n",
      "Requirement already satisfied: markupsafe~=2.0.1 in /home/wallece/.local/lib/python3.8/site-packages (from pandas-profiling) (2.0.1)\n",
      "Requirement already satisfied: matplotlib>=3.2.0 in /home/wallece/.local/lib/python3.8/site-packages (from pandas-profiling) (3.5.1)\n",
      "Requirement already satisfied: PyYAML>=5.0.0 in /usr/lib/python3/dist-packages (from pandas-profiling) (5.3.1)\n",
      "Requirement already satisfied: htmlmin>=0.1.12 in /home/wallece/.local/lib/python3.8/site-packages (from pandas-profiling) (0.1.12)\n",
      "Requirement already satisfied: joblib~=1.0.1 in /home/wallece/.local/lib/python3.8/site-packages (from pandas-profiling) (1.0.1)\n",
      "Requirement already satisfied: scipy>=1.4.1 in /home/wallece/.local/lib/python3.8/site-packages (from pandas-profiling) (1.5.4)\n",
      "Requirement already satisfied: phik>=0.11.1 in /home/wallece/.local/lib/python3.8/site-packages (from pandas-profiling) (0.12.0)\n",
      "Requirement already satisfied: tangled-up-in-unicode==0.1.0 in /home/wallece/.local/lib/python3.8/site-packages (from pandas-profiling) (0.1.0)\n",
      "Requirement already satisfied: numpy>=1.16.0 in /home/wallece/.local/lib/python3.8/site-packages (from pandas-profiling) (1.19.5)\n",
      "Requirement already satisfied: visions[type_image_path]==0.7.4 in /home/wallece/.local/lib/python3.8/site-packages (from pandas-profiling) (0.7.4)\n",
      "Requirement already satisfied: pandas!=1.0.0,!=1.0.1,!=1.0.2,!=1.1.0,>=0.25.3 in /home/wallece/.local/lib/python3.8/site-packages (from pandas-profiling) (1.3.5)\n",
      "Requirement already satisfied: networkx>=2.4 in /home/wallece/.local/lib/python3.8/site-packages (from visions[type_image_path]==0.7.4->pandas-profiling) (2.6.3)\n",
      "Requirement already satisfied: attrs>=19.3.0 in /home/wallece/.local/lib/python3.8/site-packages (from visions[type_image_path]==0.7.4->pandas-profiling) (21.2.0)\n",
      "Requirement already satisfied: imagehash in /home/wallece/.local/lib/python3.8/site-packages (from visions[type_image_path]==0.7.4->pandas-profiling) (4.2.1)\n",
      "Requirement already satisfied: Pillow in /usr/lib/python3/dist-packages (from visions[type_image_path]==0.7.4->pandas-profiling) (7.0.0)\n",
      "Requirement already satisfied: packaging>=20.0 in /home/wallece/.local/lib/python3.8/site-packages (from matplotlib>=3.2.0->pandas-profiling) (21.3)\n",
      "Requirement already satisfied: cycler>=0.10 in /home/wallece/.local/lib/python3.8/site-packages (from matplotlib>=3.2.0->pandas-profiling) (0.11.0)\n",
      "Requirement already satisfied: pyparsing>=2.2.1 in /usr/lib/python3/dist-packages (from matplotlib>=3.2.0->pandas-profiling) (2.4.6)\n",
      "Requirement already satisfied: kiwisolver>=1.0.1 in /home/wallece/.local/lib/python3.8/site-packages (from matplotlib>=3.2.0->pandas-profiling) (1.3.2)\n",
      "Requirement already satisfied: fonttools>=4.22.0 in /home/wallece/.local/lib/python3.8/site-packages (from matplotlib>=3.2.0->pandas-profiling) (4.28.5)\n",
      "Requirement already satisfied: python-dateutil>=2.7 in /home/wallece/.local/lib/python3.8/site-packages (from matplotlib>=3.2.0->pandas-profiling) (2.8.2)\n",
      "Requirement already satisfied: pytz>=2017.3 in /usr/lib/python3/dist-packages (from pandas!=1.0.0,!=1.0.1,!=1.0.2,!=1.1.0,>=0.25.3->pandas-profiling) (2019.3)\n",
      "Requirement already satisfied: typing-extensions>=3.7.4.3 in /home/wallece/.local/lib/python3.8/site-packages (from pydantic>=1.8.1->pandas-profiling) (4.0.1)\n",
      "Requirement already satisfied: certifi>=2017.4.17 in /usr/lib/python3/dist-packages (from requests>=2.24.0->pandas-profiling) (2019.11.28)\n",
      "Requirement already satisfied: urllib3<1.27,>=1.21.1 in /usr/lib/python3/dist-packages (from requests>=2.24.0->pandas-profiling) (1.25.8)\n",
      "Requirement already satisfied: idna<4,>=2.5 in /usr/lib/python3/dist-packages (from requests>=2.24.0->pandas-profiling) (2.8)\n",
      "Requirement already satisfied: charset-normalizer~=2.0.0 in /home/wallece/.local/lib/python3.8/site-packages (from requests>=2.24.0->pandas-profiling) (2.0.10)\n",
      "Requirement already satisfied: six>=1.5 in /usr/lib/python3/dist-packages (from python-dateutil>=2.7->matplotlib>=3.2.0->pandas-profiling) (1.14.0)\n",
      "Requirement already satisfied: PyWavelets in /home/wallece/.local/lib/python3.8/site-packages (from imagehash->visions[type_image_path]==0.7.4->pandas-profiling) (1.2.0)\n"
     ]
    }
   ],
   "source": [
    "!pip install pandas-profiling"
   ]
  },
  {
   "cell_type": "code",
   "execution_count": 1,
   "id": "df2c12ff",
   "metadata": {},
   "outputs": [],
   "source": [
    "# Importando as bibliotecas\n",
    "import pandas as pd\n",
    "from pandas_profiling import ProfileReport"
   ]
  },
  {
   "cell_type": "code",
   "execution_count": 2,
   "id": "0edd51b6",
   "metadata": {},
   "outputs": [],
   "source": [
    "# Importando a base de dados\n",
    "\n",
    "#colunasRemovidas = ['disturbiosOlfativos', 'disturbiosGustatorios', 'puerpera', 'fragilidadeImuno', \n",
    "#                    'assintomatico', 'dataPrimeiraDose', 'dataSegundaDose']\n",
    "\n",
    "colunasRemovidas = ['dataPrimeiraDose', 'dataSegundaDose', 'assintomatico', 'puerpera', 'disturbiosGustatorios', \n",
    "                    'disturbiosOlfativos', 'gestante', 'tosse', 'respiratoria', 'fragilidadeImuno', 'racaCor', \n",
    "                    'sexo', 'febre', 'renal', 'imunossupressao', 'obesidade']\n",
    "\n",
    "base = pd.read_excel(\"Vacinas/OC/oc-vacina-6040-sp.xlsx\")\n",
    "base = base.drop(columns = colunasRemovidas)"
   ]
  },
  {
   "cell_type": "code",
   "execution_count": 4,
   "id": "b993c490",
   "metadata": {},
   "outputs": [],
   "source": [
    "# display(base)"
   ]
  },
  {
   "cell_type": "code",
   "execution_count": 5,
   "id": "d1e1b33c",
   "metadata": {},
   "outputs": [],
   "source": [
    "profile = ProfileReport(base)"
   ]
  },
  {
   "cell_type": "code",
   "execution_count": 16,
   "id": "0475b6ec",
   "metadata": {},
   "outputs": [],
   "source": [
    "# profile"
   ]
  },
  {
   "cell_type": "code",
   "execution_count": 6,
   "id": "171c522f",
   "metadata": {},
   "outputs": [
    {
     "data": {
      "application/vnd.jupyter.widget-view+json": {
       "model_id": "d1608138f1c74313aaa078b6c6737880",
       "version_major": 2,
       "version_minor": 0
      },
      "text/plain": [
       "Summarize dataset:   0%|          | 0/5 [00:00<?, ?it/s]"
      ]
     },
     "metadata": {},
     "output_type": "display_data"
    },
    {
     "data": {
      "application/vnd.jupyter.widget-view+json": {
       "model_id": "7b8393ab393c483686ae41681b8033a5",
       "version_major": 2,
       "version_minor": 0
      },
      "text/plain": [
       "Generate report structure:   0%|          | 0/1 [00:00<?, ?it/s]"
      ]
     },
     "metadata": {},
     "output_type": "display_data"
    },
    {
     "data": {
      "application/vnd.jupyter.widget-view+json": {
       "model_id": "39f76ecc70204d1eb42ed86f46200e1a",
       "version_major": 2,
       "version_minor": 0
      },
      "text/plain": [
       "Render HTML:   0%|          | 0/1 [00:00<?, ?it/s]"
      ]
     },
     "metadata": {},
     "output_type": "display_data"
    },
    {
     "data": {
      "application/vnd.jupyter.widget-view+json": {
       "model_id": "4a5f8b8baf5243f89cedd6e72c64c65e",
       "version_major": 2,
       "version_minor": 0
      },
      "text/plain": [
       "Export report to file:   0%|          | 0/1 [00:00<?, ?it/s]"
      ]
     },
     "metadata": {},
     "output_type": "display_data"
    }
   ],
   "source": [
    "profile.to_file(\"relatorioBase.html\")"
   ]
  },
  {
   "cell_type": "code",
   "execution_count": null,
   "id": "fd9ff15e",
   "metadata": {},
   "outputs": [],
   "source": []
  }
 ],
 "metadata": {
  "kernelspec": {
   "display_name": "Python 3 (ipykernel)",
   "language": "python",
   "name": "python3"
  },
  "language_info": {
   "codemirror_mode": {
    "name": "ipython",
    "version": 3
   },
   "file_extension": ".py",
   "mimetype": "text/x-python",
   "name": "python",
   "nbconvert_exporter": "python",
   "pygments_lexer": "ipython3",
   "version": "3.8.10"
  }
 },
 "nbformat": 4,
 "nbformat_minor": 5
}
