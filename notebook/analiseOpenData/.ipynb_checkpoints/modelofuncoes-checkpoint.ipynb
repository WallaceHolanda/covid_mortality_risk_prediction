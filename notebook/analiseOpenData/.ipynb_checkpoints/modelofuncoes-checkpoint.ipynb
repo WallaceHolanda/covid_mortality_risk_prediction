{
 "cells": [
  {
   "cell_type": "code",
   "execution_count": 1,
   "id": "36d383bd",
   "metadata": {},
   "outputs": [],
   "source": [
    "from matplotlib import pyplot as plt\n",
    "import pandas as pd"
   ]
  },
  {
   "cell_type": "code",
   "execution_count": 2,
   "id": "6781abd5",
   "metadata": {},
   "outputs": [],
   "source": [
    "def juntarLotes(proporcao, reduzDados):\n",
    "    spLote1 = pd.read_excel(\"SP/sp-l1-\" + proporcao + \"-2022.xlsx\")\n",
    "    spLote2 = pd.read_excel(\"SP/sp-l2-\" + proporcao + \"-2022.xlsx\")\n",
    "    spLote3 = pd.read_excel(\"SP/sp-l3-\" + proporcao + \"-2022.xlsx\")\n",
    "    spLote4 = pd.read_excel(\"SP/sp-l4-\" + proporcao + \"-2022.xlsx\")\n",
    "    spLote5 = pd.read_excel(\"SP/sp-l5-\" + proporcao + \"-2022.xlsx\")\n",
    "\n",
    "    # Unindo os lotes\n",
    "    covidMerged = pd.concat([spLote1, spLote2, spLote3, spLote4, spLote5])\n",
    "\n",
    "    # Resetando os índices\n",
    "    covidMerged.reset_index(inplace=True, drop = True)\n",
    "    \n",
    "    if(reduzDados):\n",
    "        colunasRemovidas = [ 'disturbiosOlfativos', 'disturbiosGustatorios', 'puerpera', 'fragilidadeImuno', \n",
    "                    'gestante', 'obesidade']\n",
    "        covidMerged = covidMerged.drop(columns = colunasRemovidas)\n",
    "    \n",
    "    return covidMerged"
   ]
  },
  {
   "cell_type": "code",
   "execution_count": null,
   "id": "122530b3",
   "metadata": {},
   "outputs": [],
   "source": []
  }
 ],
 "metadata": {
  "kernelspec": {
   "display_name": "Python 3 (ipykernel)",
   "language": "python",
   "name": "python3"
  },
  "language_info": {
   "codemirror_mode": {
    "name": "ipython",
    "version": 3
   },
   "file_extension": ".py",
   "mimetype": "text/x-python",
   "name": "python",
   "nbconvert_exporter": "python",
   "pygments_lexer": "ipython3",
   "version": "3.8.10"
  }
 },
 "nbformat": 4,
 "nbformat_minor": 5
}
