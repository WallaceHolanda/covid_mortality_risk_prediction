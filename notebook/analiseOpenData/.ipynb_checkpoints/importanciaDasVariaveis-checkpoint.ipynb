{
 "cells": [
  {
   "cell_type": "code",
   "execution_count": null,
   "id": "5dd438f5",
   "metadata": {},
   "outputs": [],
   "source": [
    "# Plotar Curva ROC\n",
    "# https://queirozf.com/entries/visualizing-machine-learning-models-examples-with-scikit-learn-and-matplotlib#plot-roc-curve-and-auc\n",
    "# https://rstudio-pubs-static.s3.amazonaws.com/439808_98cf197211d94a68a1728e29f7a5c253.html"
   ]
  },
  {
   "cell_type": "markdown",
   "id": "4113d0cf",
   "metadata": {},
   "source": [
    "### Carregando a Base de Dados"
   ]
  },
  {
   "cell_type": "code",
   "execution_count": 1,
   "id": "df960b31",
   "metadata": {},
   "outputs": [
    {
     "name": "stdout",
     "output_type": "stream",
     "text": [
      "importing Jupyter notebook from modelofuncoes.ipynb\n"
     ]
    }
   ],
   "source": [
    "import pandas as pd\n",
    "import numpy as np\n",
    "\n",
    "import import_ipynb\n",
    "import modelofuncoes as mf"
   ]
  },
  {
   "cell_type": "code",
   "execution_count": 6,
   "id": "e72f3523",
   "metadata": {},
   "outputs": [
    {
     "data": {
      "text/plain": [
       "(15335, 25)"
      ]
     },
     "execution_count": 6,
     "metadata": {},
     "output_type": "execute_result"
    }
   ],
   "source": [
    "urlBase = \"Vacinas/Regioes/OC/oc-vacina-7030-sudeste.xlsx\"\n",
    "alvo = 'evolucaoCaso'\n",
    "\n",
    "modeloDados = pd.read_excel(urlBase)\n",
    "modeloDados.shape"
   ]
  },
  {
   "cell_type": "code",
   "execution_count": 7,
   "id": "d56d7325",
   "metadata": {},
   "outputs": [],
   "source": [
    "#colunasRemovidas = ['dataPrimeiraDose', 'dataSegundaDose']\n",
    "\n",
    "#colunasRemovidas = ['disturbiosOlfativos', 'disturbiosGustatorios', 'puerpera', 'fragilidadeImuno', \n",
    "#                    'assintomatico', 'dataPrimeiraDose', 'dataSegundaDose', 'obesidade', 'renal', \n",
    "#                    'respiratoria']\n",
    "\n",
    "# OC 6040\n",
    "#colunasRemovidas = ['dataPrimeiraDose', 'dataSegundaDose', 'assintomatico', 'puerpera', 'disturbiosGustatorios', \n",
    "#                    'disturbiosOlfativos', 'gestante', 'tosse', 'respiratoria', 'fragilidadeImuno']\n",
    "\n",
    "# IC 6040\n",
    "#colunasRemovidas = ['dataPrimeiraDose', 'dataSegundaDose', 'respiratoria', 'assintomatico', 'fragilidadeImuno',\n",
    "#                    'puerpera', 'disturbiosGustatorios', 'disturbiosOlfativos']\n",
    "\n",
    "# IC 7030\n",
    "#colunasRemovidas = ['dataPrimeiraDose', 'dataSegundaDose', 'assintomatico', 'puerpera', 'disturbiosGustatorios', \n",
    "#                    'disturbiosOlfativos', 'obesidade', 'febre', 'tosse', 'obesidade', 'respiratoria']\n",
    "\n",
    "# OC 6040 (Atributos < 1%)\n",
    "#colunasRemovidas = ['dataPrimeiraDose', 'dataSegundaDose', 'assintomatico', 'puerpera', 'disturbiosGustatorios', \n",
    "#                    'disturbiosOlfativos', 'gestante', 'tosse', 'respiratoria', 'fragilidadeImuno', 'racaCor', \n",
    "#                    'sexo', 'febre', 'renal', 'imunossupressao', 'obesidade']\n",
    "\n",
    "# OC 7030 (Atributos < 1%)\n",
    "colunasRemovidas = ['dataPrimeiraDose', 'dataSegundaDose', 'disturbiosGustatorios', 'disturbiosOlfativos', \n",
    "                    'puerpera', 'gestante', 'tosse', 'assintomatico', 'respiratoria', 'racaCor', \n",
    "                    'fragilidadeImuno', 'febre', 'sexo', 'imunossupressao', 'obesidade', 'renal']"
   ]
  },
  {
   "cell_type": "code",
   "execution_count": 8,
   "id": "b001ecf5",
   "metadata": {},
   "outputs": [
    {
     "data": {
      "text/plain": [
       "(15335, 9)"
      ]
     },
     "execution_count": 8,
     "metadata": {},
     "output_type": "execute_result"
    }
   ],
   "source": [
    "# Removendos as Colunas Selecionadas\n",
    "modeloDados = modeloDados.drop(columns = colunasRemovidas)\n",
    "modeloDados.shape"
   ]
  },
  {
   "cell_type": "markdown",
   "id": "213242ec",
   "metadata": {},
   "source": [
    "### Criando o Modelo"
   ]
  },
  {
   "cell_type": "code",
   "execution_count": 9,
   "id": "445c674e",
   "metadata": {},
   "outputs": [],
   "source": [
    "from sklearn.model_selection import train_test_split\n",
    "x_train, x_test, y_train, y_test = train_test_split(modeloDados.drop(alvo,axis=1),\n",
    "                                                    modeloDados[alvo],\n",
    "                                                    test_size=0.3,\n",
    "                                                    random_state=42);"
   ]
  },
  {
   "cell_type": "code",
   "execution_count": 10,
   "id": "72f91289",
   "metadata": {},
   "outputs": [],
   "source": [
    "from sklearn.ensemble import GradientBoostingClassifier\n",
    "modeloClassificador = GradientBoostingClassifier(ccp_alpha=0.0, criterion='friedman_mse', init=None,\n",
    "                           learning_rate=0.1, loss='deviance', max_depth=3,\n",
    "                           max_features=None, max_leaf_nodes=None,\n",
    "                           min_impurity_decrease=0.0, min_impurity_split=None,\n",
    "                           min_samples_leaf=1, min_samples_split=2,\n",
    "                           min_weight_fraction_leaf=0.0, n_estimators=100,\n",
    "                           n_iter_no_change=None, presort='deprecated',\n",
    "                           random_state=2333, subsample=1.0, tol=0.0001,\n",
    "                           validation_fraction=0.1, verbose=0,\n",
    "                           warm_start=False)"
   ]
  },
  {
   "cell_type": "code",
   "execution_count": 11,
   "id": "a072364b",
   "metadata": {},
   "outputs": [
    {
     "data": {
      "text/plain": [
       "GradientBoostingClassifier(random_state=2333)"
      ]
     },
     "execution_count": 11,
     "metadata": {},
     "output_type": "execute_result"
    }
   ],
   "source": [
    "modeloClassificador"
   ]
  },
  {
   "cell_type": "markdown",
   "id": "034fa7cd",
   "metadata": {},
   "source": [
    "### Analisando a Acurácia"
   ]
  },
  {
   "cell_type": "code",
   "execution_count": 12,
   "id": "641b1c8b",
   "metadata": {},
   "outputs": [
    {
     "name": "stdout",
     "output_type": "stream",
     "text": [
      "0.8676374701151923\n"
     ]
    }
   ],
   "source": [
    "from sklearn.metrics import accuracy_score\n",
    "\n",
    "# Fit nos dados\n",
    "modeloClassificador.fit(x_train, y_train)\n",
    "\n",
    "#Realizando a predição\n",
    "resultado = modeloClassificador.predict(x_test)\n",
    "\n",
    "# Verificando a acurácia\n",
    "print(accuracy_score(y_test, resultado))"
   ]
  },
  {
   "cell_type": "markdown",
   "id": "186aa6f6",
   "metadata": {},
   "source": [
    "### Cross Validation"
   ]
  },
  {
   "cell_type": "code",
   "execution_count": 13,
   "id": "c179e6d3",
   "metadata": {},
   "outputs": [],
   "source": [
    "from sklearn.model_selection import cross_val_score\n",
    "\n",
    "kfolds = 10\n",
    "data, target = modeloDados.drop(columns = [alvo]), modeloDados[alvo]\n",
    "scores = cross_val_score(modeloClassificador, data, target, cv = kfolds, scoring = \"accuracy\") "
   ]
  },
  {
   "cell_type": "code",
   "execution_count": 14,
   "id": "c3d89936",
   "metadata": {},
   "outputs": [
    {
     "name": "stdout",
     "output_type": "stream",
     "text": [
      "-> Resultado dos k testes [0.87288136 0.86571056 0.86831812 0.84028683 0.85658409 0.88193085\n",
      " 0.89889106 0.8838878  0.8714938  0.84670581]\n",
      "-> Média dos testes 0.868669029291272\n",
      "-> Desvio Padrão dos testes 0.016701601980872616\n"
     ]
    }
   ],
   "source": [
    "print(\"-> Resultado dos k testes\", scores)\n",
    "print(\"-> Média dos testes\", scores.mean())\n",
    "print(\"-> Desvio Padrão dos testes\", scores.std())"
   ]
  },
  {
   "cell_type": "markdown",
   "id": "d6756274",
   "metadata": {},
   "source": [
    "### Importância das Variáveis"
   ]
  },
  {
   "cell_type": "code",
   "execution_count": 15,
   "id": "aa607924",
   "metadata": {},
   "outputs": [
    {
     "data": {
      "text/html": [
       "<div>\n",
       "<style scoped>\n",
       "    .dataframe tbody tr th:only-of-type {\n",
       "        vertical-align: middle;\n",
       "    }\n",
       "\n",
       "    .dataframe tbody tr th {\n",
       "        vertical-align: top;\n",
       "    }\n",
       "\n",
       "    .dataframe thead th {\n",
       "        text-align: right;\n",
       "    }\n",
       "</style>\n",
       "<table border=\"1\" class=\"dataframe\">\n",
       "  <thead>\n",
       "    <tr style=\"text-align: right;\">\n",
       "      <th></th>\n",
       "      <th>importance</th>\n",
       "    </tr>\n",
       "  </thead>\n",
       "  <tbody>\n",
       "    <tr>\n",
       "      <th>faixaetaria</th>\n",
       "      <td>0.721222</td>\n",
       "    </tr>\n",
       "    <tr>\n",
       "      <th>dispneia</th>\n",
       "      <td>0.135519</td>\n",
       "    </tr>\n",
       "    <tr>\n",
       "      <th>qntVacinas</th>\n",
       "      <td>0.040218</td>\n",
       "    </tr>\n",
       "    <tr>\n",
       "      <th>dorDeGarganta</th>\n",
       "      <td>0.034481</td>\n",
       "    </tr>\n",
       "    <tr>\n",
       "      <th>diabetes</th>\n",
       "      <td>0.017638</td>\n",
       "    </tr>\n",
       "    <tr>\n",
       "      <th>cardiaca</th>\n",
       "      <td>0.017625</td>\n",
       "    </tr>\n",
       "    <tr>\n",
       "      <th>dorDeCabeca</th>\n",
       "      <td>0.017518</td>\n",
       "    </tr>\n",
       "    <tr>\n",
       "      <th>coriza</th>\n",
       "      <td>0.015778</td>\n",
       "    </tr>\n",
       "  </tbody>\n",
       "</table>\n",
       "</div>"
      ],
      "text/plain": [
       "               importance\n",
       "faixaetaria      0.721222\n",
       "dispneia         0.135519\n",
       "qntVacinas       0.040218\n",
       "dorDeGarganta    0.034481\n",
       "diabetes         0.017638\n",
       "cardiaca         0.017625\n",
       "dorDeCabeca      0.017518\n",
       "coriza           0.015778"
      ]
     },
     "execution_count": 15,
     "metadata": {},
     "output_type": "execute_result"
    }
   ],
   "source": [
    "feature_importances = pd.DataFrame(modeloClassificador.feature_importances_,\n",
    "                                   index = x_train.columns,\n",
    "                                    columns=['importance']).sort_values('importance', ascending=False)\n",
    "feature_importances"
   ]
  },
  {
   "cell_type": "markdown",
   "id": "83c881d4",
   "metadata": {},
   "source": [
    "### Avaliando os Resultados"
   ]
  },
  {
   "cell_type": "code",
   "execution_count": 16,
   "id": "efe021aa",
   "metadata": {},
   "outputs": [],
   "source": [
    "from sklearn.ensemble import AdaBoostClassifier\n",
    "from sklearn.ensemble import RandomForestClassifier\n",
    "from sklearn.linear_model import LogisticRegression\n",
    "from sklearn.ensemble import GradientBoostingClassifier\n",
    "\n",
    "hiperparametrosAB = AdaBoostClassifier()\n",
    "hiperparametrosRF = RandomForestClassifier()\n",
    "hiperparametrosLR = LogisticRegression()\n",
    "hiperparametrosGB = GradientBoostingClassifier()"
   ]
  },
  {
   "cell_type": "code",
   "execution_count": 17,
   "id": "506bf438",
   "metadata": {},
   "outputs": [],
   "source": [
    "base = {}\n",
    "\n",
    "base[\"Sudeste OC [70/30]\"] = urlBase\n",
    "valoresAlvo = [0, 1]\n",
    "modelos = {\"AB\": hiperparametrosAB, \"RF\": hiperparametrosRF, \n",
    "           \"LR\": hiperparametrosLR, \"GB\": hiperparametrosGB }"
   ]
  },
  {
   "cell_type": "code",
   "execution_count": 18,
   "id": "f1eeedf3",
   "metadata": {
    "scrolled": true
   },
   "outputs": [
    {
     "name": "stdout",
     "output_type": "stream",
     "text": [
      "Index(['evolucaoCaso', 'dorDeGarganta', 'dispneia', 'coriza', 'dorDeCabeca',\n",
      "       'diabetes', 'cardiaca', 'faixaetaria', 'qntVacinas'],\n",
      "      dtype='object')\n",
      "===============\n"
     ]
    }
   ],
   "source": [
    "desempenhoDosModelos = mf.testarModelos(base, alvo, colunasRemovidas, modelos, valoresAlvo)"
   ]
  },
  {
   "cell_type": "code",
   "execution_count": 19,
   "id": "b8404d1f",
   "metadata": {},
   "outputs": [
    {
     "data": {
      "text/html": [
       "<div>\n",
       "<style scoped>\n",
       "    .dataframe tbody tr th:only-of-type {\n",
       "        vertical-align: middle;\n",
       "    }\n",
       "\n",
       "    .dataframe tbody tr th {\n",
       "        vertical-align: top;\n",
       "    }\n",
       "\n",
       "    .dataframe thead th {\n",
       "        text-align: right;\n",
       "    }\n",
       "</style>\n",
       "<table border=\"1\" class=\"dataframe\">\n",
       "  <thead>\n",
       "    <tr style=\"text-align: right;\">\n",
       "      <th></th>\n",
       "      <th>Base</th>\n",
       "      <th>Modelo</th>\n",
       "      <th>Acurácia</th>\n",
       "      <th>Precisão (0)</th>\n",
       "      <th>Recall (0)</th>\n",
       "      <th>F1-Score (0)</th>\n",
       "      <th>Precisão (1)</th>\n",
       "      <th>Recall (1)</th>\n",
       "      <th>F1-Score (1)</th>\n",
       "      <th>3 Kfolds</th>\n",
       "      <th>5 Kfolds</th>\n",
       "    </tr>\n",
       "  </thead>\n",
       "  <tbody>\n",
       "    <tr>\n",
       "      <th>0</th>\n",
       "      <td>Sudeste OC [70/30]</td>\n",
       "      <td>AB</td>\n",
       "      <td>86.568%</td>\n",
       "      <td>79.003%</td>\n",
       "      <td>56.792%</td>\n",
       "      <td>66.081%</td>\n",
       "      <td>88.07%</td>\n",
       "      <td>95.482%</td>\n",
       "      <td>91.626%</td>\n",
       "      <td>86.619%</td>\n",
       "      <td>86.554%</td>\n",
       "    </tr>\n",
       "    <tr>\n",
       "      <th>0</th>\n",
       "      <td>Sudeste OC [70/30]</td>\n",
       "      <td>RF</td>\n",
       "      <td>86.047%</td>\n",
       "      <td>77.143%</td>\n",
       "      <td>56.038%</td>\n",
       "      <td>64.918%</td>\n",
       "      <td>87.836%</td>\n",
       "      <td>95.03%</td>\n",
       "      <td>91.291%</td>\n",
       "      <td>86.195%</td>\n",
       "      <td>85.973%</td>\n",
       "    </tr>\n",
       "    <tr>\n",
       "      <th>0</th>\n",
       "      <td>Sudeste OC [70/30]</td>\n",
       "      <td>LR</td>\n",
       "      <td>86.438%</td>\n",
       "      <td>78.238%</td>\n",
       "      <td>56.981%</td>\n",
       "      <td>65.939%</td>\n",
       "      <td>88.091%</td>\n",
       "      <td>95.256%</td>\n",
       "      <td>91.533%</td>\n",
       "      <td>86.704%</td>\n",
       "      <td>86.704%</td>\n",
       "    </tr>\n",
       "    <tr>\n",
       "      <th>0</th>\n",
       "      <td>Sudeste OC [70/30]</td>\n",
       "      <td>GB</td>\n",
       "      <td>86.764%</td>\n",
       "      <td>80.35%</td>\n",
       "      <td>56.321%</td>\n",
       "      <td>66.223%</td>\n",
       "      <td>87.999%</td>\n",
       "      <td>95.877%</td>\n",
       "      <td>91.769%</td>\n",
       "      <td>86.841%</td>\n",
       "      <td>86.834%</td>\n",
       "    </tr>\n",
       "  </tbody>\n",
       "</table>\n",
       "</div>"
      ],
      "text/plain": [
       "                 Base Modelo Acurácia Precisão (0) Recall (0) F1-Score (0)  \\\n",
       "0  Sudeste OC [70/30]     AB  86.568%      79.003%    56.792%      66.081%   \n",
       "0  Sudeste OC [70/30]     RF  86.047%      77.143%    56.038%      64.918%   \n",
       "0  Sudeste OC [70/30]     LR  86.438%      78.238%    56.981%      65.939%   \n",
       "0  Sudeste OC [70/30]     GB  86.764%       80.35%    56.321%      66.223%   \n",
       "\n",
       "  Precisão (1) Recall (1) F1-Score (1) 3 Kfolds 5 Kfolds  \n",
       "0       88.07%    95.482%      91.626%  86.619%  86.554%  \n",
       "0      87.836%     95.03%      91.291%  86.195%  85.973%  \n",
       "0      88.091%    95.256%      91.533%  86.704%  86.704%  \n",
       "0      87.999%    95.877%      91.769%  86.841%  86.834%  "
      ]
     },
     "execution_count": 19,
     "metadata": {},
     "output_type": "execute_result"
    }
   ],
   "source": [
    "desempenhoDosModelos.drop(columns=['Hiperparâmetros'])"
   ]
  },
  {
   "cell_type": "markdown",
   "id": "dd6d138a",
   "metadata": {},
   "source": [
    "### Curva Roc"
   ]
  },
  {
   "cell_type": "code",
   "execution_count": null,
   "id": "057aa1c4",
   "metadata": {},
   "outputs": [],
   "source": [
    "import matplotlib.pyplot as plt\n",
    "from sklearn import metrics\n",
    "\n",
    "y_preds = modeloClassificador.predict_proba(x_test)\n",
    "\n",
    "# take the second column because the classifier outputs scores for the 0 class as well\n",
    "preds = y_preds[:,1]\n",
    "\n",
    "# fpr (false-positive-rate) e tpr (true-positive-rate)\n",
    "fpr, tpr, _ = metrics.roc_curve(y_test, preds)\n",
    "\n",
    "auc_score = metrics.auc(fpr, tpr)\n",
    "\n",
    "# Construindo o Gráfico\n",
    "plt.clf()\n",
    "plt.title('ROC Curve')\n",
    "plt.plot(fpr, tpr, label='AUC = {:.2f}'.format(auc_score))\n",
    "plt.plot([0,1],[0,1],'r--')\n",
    "\n",
    "plt.xlim([-0.1,1.1])\n",
    "plt.ylim([-0.1,1.1])\n",
    "plt.ylabel('True Positive Rate')\n",
    "plt.xlabel('False Positive Rate')\n",
    "\n",
    "plt.legend(loc='lower right')\n",
    "plt.show()"
   ]
  },
  {
   "cell_type": "code",
   "execution_count": null,
   "id": "4d6a1ccd",
   "metadata": {},
   "outputs": [],
   "source": [
    "y_preds"
   ]
  },
  {
   "cell_type": "code",
   "execution_count": null,
   "id": "05dcbb5d",
   "metadata": {},
   "outputs": [],
   "source": []
  }
 ],
 "metadata": {
  "kernelspec": {
   "display_name": "Python 3 (ipykernel)",
   "language": "python",
   "name": "python3"
  },
  "language_info": {
   "codemirror_mode": {
    "name": "ipython",
    "version": 3
   },
   "file_extension": ".py",
   "mimetype": "text/x-python",
   "name": "python",
   "nbconvert_exporter": "python",
   "pygments_lexer": "ipython3",
   "version": "3.8.10"
  }
 },
 "nbformat": 4,
 "nbformat_minor": 5
}
