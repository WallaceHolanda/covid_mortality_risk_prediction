{
 "cells": [
  {
   "cell_type": "code",
   "execution_count": null,
   "metadata": {},
   "outputs": [],
   "source": [
    "# !pip install import-ipynb"
   ]
  },
  {
   "cell_type": "code",
   "execution_count": null,
   "metadata": {
    "executionInfo": {
     "elapsed": 1799,
     "status": "ok",
     "timestamp": 1606845696531,
     "user": {
      "displayName": "WALLACE DUARTE DE HOLANDA",
      "photoUrl": "https://lh3.googleusercontent.com/a-/AOh14GgeWMOt53non50jDB5bIAwurrZleD5e6T7yfR9w=s64",
      "userId": "03474631865123362594"
     },
     "user_tz": 180
    },
    "id": "TW5Oyd2oXbrk"
   },
   "outputs": [],
   "source": [
    "import pandas as pd\n",
    "import import_ipynb\n",
    "import preprocessamentofuncoes as pp\n",
    "\n",
    "import matplotlib.pyplot as plt\n",
    "import seaborn as sns"
   ]
  },
  {
   "cell_type": "code",
   "execution_count": null,
   "metadata": {},
   "outputs": [],
   "source": [
    "def realizarPreProcessamento(uf, lote):\n",
    "    # Carregando a base\n",
    "    urlBase = \"/media/wallece/HD EXTRA/bases/sus-\" + uf + \"-\" + lote + \".csv\"\n",
    "    covidAllData = pd.read_csv(urlBase, on_bad_lines='skip', sep=';')\n",
    "    covidAllData.shape\n",
    "    \n",
    "    # Definição dos Atributos Utilizados\n",
    "    colunasImportantes = ['source_id', 'dataInicioSintomas', 'dataNotificacao', 'sexo', 'racaCor', \n",
    "    'idade', 'sintomas', 'outrosSintomas', 'condicoes', 'outrasCondicoes', 'dataPrimeiraDose', \n",
    "    'dataSegundaDose', 'classificacaoFinal', 'evolucaoCaso']\n",
    "    covidData = covidAllData[colunasImportantes]\n",
    "    \n",
    "    # Limpeza - Classificação Final\n",
    "    covidData = pp.classFinPreprocessamento(covidData, 'classificacaoFinal')\n",
    "    \n",
    "    # Limpeza - Evolução\n",
    "    covidData = pp.evolucaoPreprocessamento(covidData, 'evolucaoCaso')\n",
    "    \n",
    "    # Limpeza - Dias de Sintomas\n",
    "    covidData = pp.diasSintomasPreprocessamento(covidData, 'dataInicioSintomas', 'dataNotificacao', 'diasSintomas')\n",
    "    \n",
    "    # Limpeza - Sintomas\n",
    "    covidData = pp.sintomasPreprocessamento(covidData, 'sintomas')\n",
    "    covidData = pp.outrosSintomasPreprocessamento(covidData, 'outrosSintomas')\n",
    "    \n",
    "    # Limpeza - Condições\n",
    "    covidData = pp.condicoesPreprocessamento(covidData, 'condicoes')\n",
    "    covidData = pp.outrasCondicoesPreprocessamento(covidData, 'outrasCondicoes')\n",
    "    \n",
    "    # Limpeza - Vacinas\n",
    "    covidData = pp.adicionarQntVacinasPreprocessamento(covidData, 'dataPrimeiraDose', 'dataSegundaDose', 'qntVacinas')\n",
    "    \n",
    "    # Limpeza - Idade\n",
    "    covidData = pp.idadePreprocessamento(covidData, 'idade', 'faixaetaria')\n",
    "    \n",
    "    # Limpeza - Raça\n",
    "    covidData = pp.racaPreprocessamento(covidData, 'racaCor')\n",
    "    \n",
    "    # Limpeza - Sexo\n",
    "    covidData = pp.sexoPreprocessamento(covidData, 'sexo')\n",
    "    \n",
    "    # Formatando as Condições\n",
    "    covidData = pp.condicoesFormatarValores(covidData)\n",
    "    \n",
    "    # Formatando as Colunas\n",
    "    covidData = pp.formatarColunas(covidData)\n",
    "    \n",
    "    # Formatando os valores da Evolução do Caso\n",
    "    evolucao = 'evolucaoCaso'\n",
    "    covidData[evolucao] = covidData[evolucao].replace([0, 1, 'Internado'], [0, 1, 2])\n",
    "    \n",
    "    # Salvando a base de dados\n",
    "    pp.salvarBaseDeDados(covidData, \"PreProcessamento/sus-\"  + uf + \"-pp-\" + lote + \".xlsx\")"
   ]
  },
  {
   "cell_type": "markdown",
   "metadata": {},
   "source": [
    "### Pré-Processamento da Base"
   ]
  },
  {
   "cell_type": "code",
   "execution_count": null,
   "metadata": {},
   "outputs": [],
   "source": [
    "uf = 'sp'\n",
    "lote = 'l1'\n",
    "realizarPreProcessamento(uf, lote)"
   ]
  }
 ],
 "metadata": {
  "colab": {
   "collapsed_sections": [],
   "name": "processamentoDados.ipynb",
   "provenance": [
    {
     "file_id": "14gNqQLvSBxac92pENTV2WFH8c9x6nI_I",
     "timestamp": 1605384432884
    }
   ]
  },
  "kernelspec": {
   "display_name": "Python 3 (ipykernel)",
   "language": "python",
   "name": "python3"
  },
  "language_info": {
   "codemirror_mode": {
    "name": "ipython",
    "version": 3
   },
   "file_extension": ".py",
   "mimetype": "text/x-python",
   "name": "python",
   "nbconvert_exporter": "python",
   "pygments_lexer": "ipython3",
   "version": "3.8.10"
  }
 },
 "nbformat": 4,
 "nbformat_minor": 1
}
