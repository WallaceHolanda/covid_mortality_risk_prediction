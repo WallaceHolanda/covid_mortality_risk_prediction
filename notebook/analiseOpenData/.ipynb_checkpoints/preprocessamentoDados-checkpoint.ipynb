{
 "cells": [
  {
   "cell_type": "code",
   "execution_count": null,
   "metadata": {},
   "outputs": [],
   "source": [
    "# !pip install import-ipynb"
   ]
  },
  {
   "cell_type": "code",
   "execution_count": 1,
   "metadata": {
    "executionInfo": {
     "elapsed": 1799,
     "status": "ok",
     "timestamp": 1606845696531,
     "user": {
      "displayName": "WALLACE DUARTE DE HOLANDA",
      "photoUrl": "https://lh3.googleusercontent.com/a-/AOh14GgeWMOt53non50jDB5bIAwurrZleD5e6T7yfR9w=s64",
      "userId": "03474631865123362594"
     },
     "user_tz": 180
    },
    "id": "TW5Oyd2oXbrk"
   },
   "outputs": [
    {
     "name": "stdout",
     "output_type": "stream",
     "text": [
      "importing Jupyter notebook from preprocessamentofuncoes.ipynb\n"
     ]
    }
   ],
   "source": [
    "import pandas as pd\n",
    "import import_ipynb\n",
    "import preprocessamentofuncoes as pp"
   ]
  },
  {
   "cell_type": "code",
   "execution_count": 2,
   "metadata": {
    "executionInfo": {
     "elapsed": 3434,
     "status": "ok",
     "timestamp": 1606845719272,
     "user": {
      "displayName": "WALLACE DUARTE DE HOLANDA",
      "photoUrl": "https://lh3.googleusercontent.com/a-/AOh14GgeWMOt53non50jDB5bIAwurrZleD5e6T7yfR9w=s64",
      "userId": "03474631865123362594"
     },
     "user_tz": 180
    },
    "id": "4Vjp-2FtXbr7"
   },
   "outputs": [
    {
     "name": "stderr",
     "output_type": "stream",
     "text": [
      "/home/wallece/.local/lib/python3.8/site-packages/IPython/core/interactiveshell.py:3457: DtypeWarning: Columns (15,20,21,22,26,29,30,31,33,34,35,36,41,45,46,48,50,51,53,62) have mixed types.Specify dtype option on import or set low_memory=False.\n",
      "  exec(code_obj, self.user_global_ns, self.user_ns)\n"
     ]
    }
   ],
   "source": [
    "covidData = pd.read_csv(\"../../database/opendatasus/sp-px-opendata-2022.csv\", on_bad_lines='skip')"
   ]
  },
  {
   "cell_type": "code",
   "execution_count": 3,
   "metadata": {
    "colab": {
     "base_uri": "https://localhost:8080/"
    },
    "executionInfo": {
     "elapsed": 823,
     "status": "ok",
     "timestamp": 1606782619746,
     "user": {
      "displayName": "WALLACE DUARTE DE HOLANDA",
      "photoUrl": "https://lh3.googleusercontent.com/a-/AOh14GgeWMOt53non50jDB5bIAwurrZleD5e6T7yfR9w=s64",
      "userId": "03474631865123362594"
     },
     "user_tz": 180
    },
    "id": "R04MwHdxXbsK",
    "outputId": "e5065bd9-5f57-4346-a7d9-25a397411b9d"
   },
   "outputs": [
    {
     "data": {
      "text/plain": [
       "(1000000, 65)"
      ]
     },
     "execution_count": 3,
     "metadata": {},
     "output_type": "execute_result"
    }
   ],
   "source": [
    "# Visualizando Dados\n",
    "# covidData.head()\n",
    "covidData.shape"
   ]
  },
  {
   "cell_type": "code",
   "execution_count": 4,
   "metadata": {},
   "outputs": [],
   "source": [
    "# Separando as colunas mais importantes\n",
    "# colunas = covidData.columns\n",
    "\n",
    "colunasImportantes = ['source_id', 'sexo', 'racaCor', 'idade', 'sintomas', 'condicoes',\n",
    "                      'dataPrimeiraDose', 'dataSegundaDose', 'classificacaoFinal', 'evolucaoCaso']\n",
    "covidData = covidData[colunasImportantes]"
   ]
  },
  {
   "cell_type": "markdown",
   "metadata": {},
   "source": [
    "### Limpeza de Dados - Classificação Final\n"
   ]
  },
  {
   "cell_type": "code",
   "execution_count": 5,
   "metadata": {},
   "outputs": [
    {
     "data": {
      "text/plain": [
       "Confirmado Laboratorial              152050\n",
       "Descartado                           113197\n",
       "Síndrome Gripal Não Especificada      50882\n",
       "Confirmado Clínico-Epidemiológico      3249\n",
       "Confirmado por Critério Clínico        3111\n",
       "1                                       210\n",
       "Confirmado Clínico-Imagem                96\n",
       "2                                        26\n",
       "Em tratamento domiciliar                  1\n",
       "3                                         1\n",
       "Cura                                      1\n",
       "Name: classificacaoFinal, dtype: int64"
      ]
     },
     "execution_count": 5,
     "metadata": {},
     "output_type": "execute_result"
    }
   ],
   "source": [
    "# Visualizando o formato das condições\n",
    "covidData['classificacaoFinal'].value_counts()"
   ]
  },
  {
   "cell_type": "code",
   "execution_count": 6,
   "metadata": {},
   "outputs": [],
   "source": [
    "covidData = pp.classFinPreprocessamento(covidData, 'classificacaoFinal')"
   ]
  },
  {
   "cell_type": "code",
   "execution_count": 7,
   "metadata": {},
   "outputs": [
    {
     "data": {
      "text/plain": [
       "Confirmado    158506\n",
       "Name: classificacaoFinal, dtype: int64"
      ]
     },
     "execution_count": 7,
     "metadata": {},
     "output_type": "execute_result"
    }
   ],
   "source": [
    "covidData['classificacaoFinal'].value_counts()"
   ]
  },
  {
   "cell_type": "code",
   "execution_count": 9,
   "metadata": {},
   "outputs": [
    {
     "data": {
      "text/plain": [
       "source_id              0.000000\n",
       "sexo                   0.000000\n",
       "racaCor                0.022712\n",
       "idade                  0.000000\n",
       "sintomas               0.002524\n",
       "condicoes             90.633793\n",
       "dataPrimeiraDose      42.125219\n",
       "dataSegundaDose       54.176498\n",
       "classificacaoFinal     0.000000\n",
       "evolucaoCaso           2.377197\n",
       "dtype: float64"
      ]
     },
     "execution_count": 9,
     "metadata": {},
     "output_type": "execute_result"
    }
   ],
   "source": [
    "dados_faltosos = pp.visualizarQntFaltosos(covidData)\n",
    "dados_faltosos"
   ]
  },
  {
   "cell_type": "markdown",
   "metadata": {},
   "source": [
    "### Limpeza de Dados - Atibuto Evolução"
   ]
  },
  {
   "cell_type": "code",
   "execution_count": 10,
   "metadata": {},
   "outputs": [
    {
     "data": {
      "text/plain": [
       "Cura                        128192\n",
       "Em tratamento domiciliar     16838\n",
       "Ignorado                      8233\n",
       "Cancelado                     1067\n",
       "Óbito                          264\n",
       "Internado                      132\n",
       "Internado em UTI                12\n",
       "Name: evolucaoCaso, dtype: int64"
      ]
     },
     "execution_count": 10,
     "metadata": {},
     "output_type": "execute_result"
    }
   ],
   "source": [
    "# covidData[alvo].unique()\n",
    "evolucao = 'evolucaoCaso'\n",
    "covidData[evolucao].value_counts()"
   ]
  },
  {
   "cell_type": "code",
   "execution_count": 11,
   "metadata": {},
   "outputs": [
    {
     "data": {
      "text/plain": [
       "Cura         145030\n",
       "Óbito           264\n",
       "Internado       144\n",
       "Name: evolucaoCaso, dtype: int64"
      ]
     },
     "execution_count": 11,
     "metadata": {},
     "output_type": "execute_result"
    }
   ],
   "source": [
    "covidData = pp.evolucaoPreprocessamento(covidData, evolucao)\n",
    "covidData[evolucao].value_counts()"
   ]
  },
  {
   "cell_type": "code",
   "execution_count": null,
   "metadata": {},
   "outputs": [],
   "source": [
    "dados_faltosos = pp.visualizarQntFaltosos(covidData)\n",
    "dados_faltosos"
   ]
  },
  {
   "cell_type": "code",
   "execution_count": null,
   "metadata": {},
   "outputs": [],
   "source": [
    "# covidData[evolucao].value_counts()\n",
    "# covidData.shape"
   ]
  },
  {
   "cell_type": "markdown",
   "metadata": {
    "executionInfo": {
     "elapsed": 901,
     "status": "ok",
     "timestamp": 1606845744318,
     "user": {
      "displayName": "WALLACE DUARTE DE HOLANDA",
      "photoUrl": "https://lh3.googleusercontent.com/a-/AOh14GgeWMOt53non50jDB5bIAwurrZleD5e6T7yfR9w=s64",
      "userId": "03474631865123362594"
     },
     "user_tz": 180
    },
    "id": "KvmI5QyjTNKZ"
   },
   "source": [
    "### Limpeza de Dados - Sintomas"
   ]
  },
  {
   "cell_type": "code",
   "execution_count": null,
   "metadata": {},
   "outputs": [],
   "source": [
    "covidData.head()\n",
    "# covidData.shape"
   ]
  },
  {
   "cell_type": "code",
   "execution_count": 12,
   "metadata": {},
   "outputs": [
    {
     "data": {
      "text/plain": [
       "(145434, 19)"
      ]
     },
     "execution_count": 12,
     "metadata": {},
     "output_type": "execute_result"
    }
   ],
   "source": [
    "# covidData[alvo].unique()\n",
    "sintomas = 'sintomas'\n",
    "covidData = pp.sintomasPreprocessamento(covidData, sintomas)\n",
    "covidData.shape"
   ]
  },
  {
   "cell_type": "code",
   "execution_count": 13,
   "metadata": {},
   "outputs": [
    {
     "data": {
      "text/html": [
       "<div>\n",
       "<style scoped>\n",
       "    .dataframe tbody tr th:only-of-type {\n",
       "        vertical-align: middle;\n",
       "    }\n",
       "\n",
       "    .dataframe tbody tr th {\n",
       "        vertical-align: top;\n",
       "    }\n",
       "\n",
       "    .dataframe thead th {\n",
       "        text-align: right;\n",
       "    }\n",
       "</style>\n",
       "<table border=\"1\" class=\"dataframe\">\n",
       "  <thead>\n",
       "    <tr style=\"text-align: right;\">\n",
       "      <th></th>\n",
       "      <th>source_id</th>\n",
       "      <th>sexo</th>\n",
       "      <th>racaCor</th>\n",
       "      <th>idade</th>\n",
       "      <th>sintomas</th>\n",
       "      <th>condicoes</th>\n",
       "      <th>dataPrimeiraDose</th>\n",
       "      <th>dataSegundaDose</th>\n",
       "      <th>classificacaoFinal</th>\n",
       "      <th>evolucaoCaso</th>\n",
       "      <th>assintomatico</th>\n",
       "      <th>febre</th>\n",
       "      <th>dorDeGarganta</th>\n",
       "      <th>dispneia</th>\n",
       "      <th>tosse</th>\n",
       "      <th>coriza</th>\n",
       "      <th>dorDeCabeca</th>\n",
       "      <th>disturbiosGustatorios</th>\n",
       "      <th>disturbiosOlfativos</th>\n",
       "    </tr>\n",
       "  </thead>\n",
       "  <tbody>\n",
       "    <tr>\n",
       "      <th>3</th>\n",
       "      <td>MAA0obKVBU</td>\n",
       "      <td>Feminino</td>\n",
       "      <td>Parda</td>\n",
       "      <td>20.0</td>\n",
       "      <td>Dor de Cabeça, Outros</td>\n",
       "      <td>NaN</td>\n",
       "      <td>NaN</td>\n",
       "      <td>NaN</td>\n",
       "      <td>Confirmado</td>\n",
       "      <td>Cura</td>\n",
       "      <td>0</td>\n",
       "      <td>0</td>\n",
       "      <td>0</td>\n",
       "      <td>0</td>\n",
       "      <td>0</td>\n",
       "      <td>0</td>\n",
       "      <td>1</td>\n",
       "      <td>0</td>\n",
       "      <td>0</td>\n",
       "    </tr>\n",
       "    <tr>\n",
       "      <th>5</th>\n",
       "      <td>tZWluNQQl9</td>\n",
       "      <td>Masculino</td>\n",
       "      <td>Preta</td>\n",
       "      <td>43.0</td>\n",
       "      <td>Febre, Tosse, Outros, Dispneia</td>\n",
       "      <td>NaN</td>\n",
       "      <td>NaN</td>\n",
       "      <td>NaN</td>\n",
       "      <td>Confirmado</td>\n",
       "      <td>Cura</td>\n",
       "      <td>0</td>\n",
       "      <td>1</td>\n",
       "      <td>0</td>\n",
       "      <td>1</td>\n",
       "      <td>1</td>\n",
       "      <td>0</td>\n",
       "      <td>0</td>\n",
       "      <td>0</td>\n",
       "      <td>0</td>\n",
       "    </tr>\n",
       "    <tr>\n",
       "      <th>9</th>\n",
       "      <td>LyB61WERfv</td>\n",
       "      <td>Feminino</td>\n",
       "      <td>Branca</td>\n",
       "      <td>60.0</td>\n",
       "      <td>Febre, Tosse, Dispneia, Outros</td>\n",
       "      <td>NaN</td>\n",
       "      <td>NaN</td>\n",
       "      <td>NaN</td>\n",
       "      <td>Confirmado</td>\n",
       "      <td>Cura</td>\n",
       "      <td>0</td>\n",
       "      <td>1</td>\n",
       "      <td>0</td>\n",
       "      <td>1</td>\n",
       "      <td>1</td>\n",
       "      <td>0</td>\n",
       "      <td>0</td>\n",
       "      <td>0</td>\n",
       "      <td>0</td>\n",
       "    </tr>\n",
       "    <tr>\n",
       "      <th>14</th>\n",
       "      <td>8diqMhDO6j</td>\n",
       "      <td>Feminino</td>\n",
       "      <td>Branca</td>\n",
       "      <td>47.0</td>\n",
       "      <td>Febre, Dor de Garganta, Outros, Tosse</td>\n",
       "      <td>NaN</td>\n",
       "      <td>2021-06-23</td>\n",
       "      <td>2021-08-02</td>\n",
       "      <td>Confirmado</td>\n",
       "      <td>Cura</td>\n",
       "      <td>0</td>\n",
       "      <td>1</td>\n",
       "      <td>1</td>\n",
       "      <td>0</td>\n",
       "      <td>1</td>\n",
       "      <td>0</td>\n",
       "      <td>0</td>\n",
       "      <td>0</td>\n",
       "      <td>0</td>\n",
       "    </tr>\n",
       "    <tr>\n",
       "      <th>25</th>\n",
       "      <td>lYfupZf9aJ</td>\n",
       "      <td>Feminino</td>\n",
       "      <td>Ignorado</td>\n",
       "      <td>54.0</td>\n",
       "      <td>Tosse, Dor de Cabeça, Dispneia, Outros, Febre</td>\n",
       "      <td>NaN</td>\n",
       "      <td>NaN</td>\n",
       "      <td>NaN</td>\n",
       "      <td>Confirmado</td>\n",
       "      <td>Cura</td>\n",
       "      <td>0</td>\n",
       "      <td>1</td>\n",
       "      <td>0</td>\n",
       "      <td>1</td>\n",
       "      <td>1</td>\n",
       "      <td>0</td>\n",
       "      <td>1</td>\n",
       "      <td>0</td>\n",
       "      <td>0</td>\n",
       "    </tr>\n",
       "  </tbody>\n",
       "</table>\n",
       "</div>"
      ],
      "text/plain": [
       "     source_id       sexo   racaCor  idade  \\\n",
       "3   MAA0obKVBU   Feminino     Parda   20.0   \n",
       "5   tZWluNQQl9  Masculino     Preta   43.0   \n",
       "9   LyB61WERfv   Feminino    Branca   60.0   \n",
       "14  8diqMhDO6j   Feminino    Branca   47.0   \n",
       "25  lYfupZf9aJ   Feminino  Ignorado   54.0   \n",
       "\n",
       "                                         sintomas condicoes dataPrimeiraDose  \\\n",
       "3                           Dor de Cabeça, Outros       NaN              NaN   \n",
       "5                  Febre, Tosse, Outros, Dispneia       NaN              NaN   \n",
       "9                  Febre, Tosse, Dispneia, Outros       NaN              NaN   \n",
       "14          Febre, Dor de Garganta, Outros, Tosse       NaN       2021-06-23   \n",
       "25  Tosse, Dor de Cabeça, Dispneia, Outros, Febre       NaN              NaN   \n",
       "\n",
       "   dataSegundaDose classificacaoFinal evolucaoCaso  assintomatico  febre  \\\n",
       "3              NaN         Confirmado         Cura              0      0   \n",
       "5              NaN         Confirmado         Cura              0      1   \n",
       "9              NaN         Confirmado         Cura              0      1   \n",
       "14      2021-08-02         Confirmado         Cura              0      1   \n",
       "25             NaN         Confirmado         Cura              0      1   \n",
       "\n",
       "    dorDeGarganta  dispneia  tosse  coriza  dorDeCabeca  \\\n",
       "3               0         0      0       0            1   \n",
       "5               0         1      1       0            0   \n",
       "9               0         1      1       0            0   \n",
       "14              1         0      1       0            0   \n",
       "25              0         1      1       0            1   \n",
       "\n",
       "    disturbiosGustatorios  disturbiosOlfativos  \n",
       "3                       0                    0  \n",
       "5                       0                    0  \n",
       "9                       0                    0  \n",
       "14                      0                    0  \n",
       "25                      0                    0  "
      ]
     },
     "execution_count": 13,
     "metadata": {},
     "output_type": "execute_result"
    }
   ],
   "source": [
    "covidData.head()\n",
    "# 'Febre' in covidData['sintomas'] "
   ]
  },
  {
   "cell_type": "markdown",
   "metadata": {},
   "source": [
    "### Limpeza de Dados - Condições"
   ]
  },
  {
   "cell_type": "code",
   "execution_count": 14,
   "metadata": {},
   "outputs": [],
   "source": [
    "# covidData.shape"
   ]
  },
  {
   "cell_type": "code",
   "execution_count": 15,
   "metadata": {},
   "outputs": [
    {
     "data": {
      "text/plain": [
       "(145434, 28)"
      ]
     },
     "execution_count": 15,
     "metadata": {},
     "output_type": "execute_result"
    }
   ],
   "source": [
    "condicoes = 'condicoes'\n",
    "covidData = pp.condicoesPreprocessamento(covidData, condicoes)\n",
    "covidData.shape"
   ]
  },
  {
   "cell_type": "code",
   "execution_count": 23,
   "metadata": {
    "scrolled": true
   },
   "outputs": [
    {
     "data": {
      "text/plain": [
       "33"
      ]
     },
     "execution_count": 23,
     "metadata": {},
     "output_type": "execute_result"
    }
   ],
   "source": [
    "qnt = covidData.loc[(covidData[evolucao] == 'Óbito') & (covidData['cardiaca'] == 1)]\n",
    "len(qnt)\n",
    "\n",
    "# covidData[evolucao].value_counts()"
   ]
  },
  {
   "cell_type": "markdown",
   "metadata": {},
   "source": [
    "### Limpeza de Dados - Vacinas"
   ]
  },
  {
   "cell_type": "code",
   "execution_count": null,
   "metadata": {},
   "outputs": [],
   "source": [
    "#Filtrando os atributos\n",
    "attributes = [\"CS_SEXO\", \"NU_IDADE_N\", \"CS_RACA\", \"SURTO_SG\", \"FEBRE\", \"TOSSE\", \"GARGANTA\", \n",
    "              \"DISPNEIA\", \"DESC_RESP\", \"SATURACAO\", \"DIARREIA\",\"VOMITO\", \"FATOR_RISC\", \"PUERPERA\", \"CARDIOPATI\", \n",
    "              \"HEMATOLOGI\", \"SIND_DOWN\", \"HEPATICA\", \"ASMA\", \"DIABETES\", \"NEUROLOGIC\",\"PNEUMOPATI\",\n",
    "              \"IMUNODEPRE\", \"RENAL\", \"OBESIDADE\", \"DT_INTERNA\", \"DT_EVOLUCA\", \"CLASSI_FIN\", \"SUPORT_VEN\", \"UTI\"]\n",
    "# 'EVOLUCAO'\n",
    "\n",
    "dbCovid = newCovidData[attributes];\n",
    "dbCovid.shape"
   ]
  },
  {
   "cell_type": "code",
   "execution_count": null,
   "metadata": {},
   "outputs": [],
   "source": [
    "write = pd.ExcelWriter('uti_dados_pp_Jan2021.xlsx')\n",
    "dbCovid.to_excel(write, 'dados', index = False)\n",
    "write.save()"
   ]
  }
 ],
 "metadata": {
  "colab": {
   "collapsed_sections": [],
   "name": "processamentoDados.ipynb",
   "provenance": [
    {
     "file_id": "14gNqQLvSBxac92pENTV2WFH8c9x6nI_I",
     "timestamp": 1605384432884
    }
   ]
  },
  "kernelspec": {
   "display_name": "Python 3 (ipykernel)",
   "language": "python",
   "name": "python3"
  },
  "language_info": {
   "codemirror_mode": {
    "name": "ipython",
    "version": 3
   },
   "file_extension": ".py",
   "mimetype": "text/x-python",
   "name": "python",
   "nbconvert_exporter": "python",
   "pygments_lexer": "ipython3",
   "version": "3.8.10"
  }
 },
 "nbformat": 4,
 "nbformat_minor": 1
}
