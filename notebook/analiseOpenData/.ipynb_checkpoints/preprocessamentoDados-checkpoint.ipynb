{
 "cells": [
  {
   "cell_type": "code",
   "execution_count": 1,
   "metadata": {},
   "outputs": [],
   "source": [
    "# !pip install import-ipynb"
   ]
  },
  {
   "cell_type": "code",
   "execution_count": 2,
   "metadata": {
    "executionInfo": {
     "elapsed": 1799,
     "status": "ok",
     "timestamp": 1606845696531,
     "user": {
      "displayName": "WALLACE DUARTE DE HOLANDA",
      "photoUrl": "https://lh3.googleusercontent.com/a-/AOh14GgeWMOt53non50jDB5bIAwurrZleD5e6T7yfR9w=s64",
      "userId": "03474631865123362594"
     },
     "user_tz": 180
    },
    "id": "TW5Oyd2oXbrk"
   },
   "outputs": [
    {
     "name": "stdout",
     "output_type": "stream",
     "text": [
      "importing Jupyter notebook from preprocessamentofuncoes.ipynb\n"
     ]
    }
   ],
   "source": [
    "import pandas as pd\n",
    "import import_ipynb\n",
    "import preprocessamentofuncoes as pp"
   ]
  },
  {
   "cell_type": "code",
   "execution_count": 3,
   "metadata": {
    "executionInfo": {
     "elapsed": 3434,
     "status": "ok",
     "timestamp": 1606845719272,
     "user": {
      "displayName": "WALLACE DUARTE DE HOLANDA",
      "photoUrl": "https://lh3.googleusercontent.com/a-/AOh14GgeWMOt53non50jDB5bIAwurrZleD5e6T7yfR9w=s64",
      "userId": "03474631865123362594"
     },
     "user_tz": 180
    },
    "id": "4Vjp-2FtXbr7"
   },
   "outputs": [
    {
     "name": "stderr",
     "output_type": "stream",
     "text": [
      "/home/wallece/.local/lib/python3.8/site-packages/IPython/core/interactiveshell.py:3457: DtypeWarning: Columns (15,20,21,22,26,29,30,31,33,34,35,36,41,45,46,48,50,51,53,62) have mixed types.Specify dtype option on import or set low_memory=False.\n",
      "  exec(code_obj, self.user_global_ns, self.user_ns)\n"
     ]
    },
    {
     "data": {
      "text/plain": [
       "(1000000, 65)"
      ]
     },
     "execution_count": 3,
     "metadata": {},
     "output_type": "execute_result"
    }
   ],
   "source": [
    "covidData = pd.read_csv(\"../../database/opendatasus/sp-px-opendata-2022.csv\", on_bad_lines='skip')\n",
    "covidData.shape"
   ]
  },
  {
   "cell_type": "code",
   "execution_count": 4,
   "metadata": {
    "colab": {
     "base_uri": "https://localhost:8080/"
    },
    "executionInfo": {
     "elapsed": 823,
     "status": "ok",
     "timestamp": 1606782619746,
     "user": {
      "displayName": "WALLACE DUARTE DE HOLANDA",
      "photoUrl": "https://lh3.googleusercontent.com/a-/AOh14GgeWMOt53non50jDB5bIAwurrZleD5e6T7yfR9w=s64",
      "userId": "03474631865123362594"
     },
     "user_tz": 180
    },
    "id": "R04MwHdxXbsK",
    "outputId": "e5065bd9-5f57-4346-a7d9-25a397411b9d"
   },
   "outputs": [],
   "source": [
    "# Visualizando Dados\n",
    "# covidData.head()"
   ]
  },
  {
   "cell_type": "code",
   "execution_count": 5,
   "metadata": {},
   "outputs": [],
   "source": [
    "# 'dataPrimeiraDose', 'dataSegundaDose'\n",
    "colunasImportantes = ['source_id', 'sexo', 'racaCor', 'idade', 'sintomas', 'condicoes', \n",
    "                      'classificacaoFinal', 'evolucaoCaso']\n",
    "covidData = covidData[colunasImportantes]"
   ]
  },
  {
   "cell_type": "markdown",
   "metadata": {},
   "source": [
    "### Limpeza de Dados - Classificação Final\n"
   ]
  },
  {
   "cell_type": "code",
   "execution_count": 6,
   "metadata": {},
   "outputs": [],
   "source": [
    "# Visualizando o formato das condições\n",
    "# covidData['classificacaoFinal'].value_counts()"
   ]
  },
  {
   "cell_type": "code",
   "execution_count": 7,
   "metadata": {},
   "outputs": [],
   "source": [
    "covidData = pp.classFinPreprocessamento(covidData, 'classificacaoFinal')"
   ]
  },
  {
   "cell_type": "code",
   "execution_count": 8,
   "metadata": {},
   "outputs": [],
   "source": [
    "# covidData['classificacaoFinal'].value_counts()"
   ]
  },
  {
   "cell_type": "code",
   "execution_count": 9,
   "metadata": {},
   "outputs": [
    {
     "data": {
      "text/plain": [
       "source_id              0.000000\n",
       "sexo                   0.000000\n",
       "racaCor                0.022712\n",
       "idade                  0.000000\n",
       "sintomas               0.002524\n",
       "condicoes             90.633793\n",
       "classificacaoFinal     0.000000\n",
       "evolucaoCaso           2.377197\n",
       "dtype: float64"
      ]
     },
     "execution_count": 9,
     "metadata": {},
     "output_type": "execute_result"
    }
   ],
   "source": [
    "dados_faltosos = pp.visualizarQntFaltosos(covidData)\n",
    "dados_faltosos"
   ]
  },
  {
   "cell_type": "markdown",
   "metadata": {},
   "source": [
    "### Limpeza de Dados - Atibuto Evolução"
   ]
  },
  {
   "cell_type": "code",
   "execution_count": 10,
   "metadata": {},
   "outputs": [
    {
     "data": {
      "text/plain": [
       "Cura                        128192\n",
       "Em tratamento domiciliar     16838\n",
       "Ignorado                      8233\n",
       "Cancelado                     1067\n",
       "Óbito                          264\n",
       "Internado                      132\n",
       "Internado em UTI                12\n",
       "Name: evolucaoCaso, dtype: int64"
      ]
     },
     "execution_count": 10,
     "metadata": {},
     "output_type": "execute_result"
    }
   ],
   "source": [
    "# covidData[alvo].unique()\n",
    "evolucao = 'evolucaoCaso'\n",
    "covidData[evolucao].value_counts()"
   ]
  },
  {
   "cell_type": "code",
   "execution_count": 11,
   "metadata": {},
   "outputs": [
    {
     "data": {
      "text/plain": [
       "Cura         145030\n",
       "Óbito           264\n",
       "Internado       144\n",
       "Name: evolucaoCaso, dtype: int64"
      ]
     },
     "execution_count": 11,
     "metadata": {},
     "output_type": "execute_result"
    }
   ],
   "source": [
    "covidData = pp.evolucaoPreprocessamento(covidData, evolucao)\n",
    "covidData[evolucao].value_counts()"
   ]
  },
  {
   "cell_type": "code",
   "execution_count": 12,
   "metadata": {},
   "outputs": [],
   "source": [
    "# dados_faltosos = pp.visualizarQntFaltosos(covidData)\n",
    "# dados_faltosos"
   ]
  },
  {
   "cell_type": "code",
   "execution_count": 13,
   "metadata": {},
   "outputs": [],
   "source": [
    "# covidData[evolucao].value_counts()\n",
    "# covidData.shape"
   ]
  },
  {
   "cell_type": "markdown",
   "metadata": {
    "executionInfo": {
     "elapsed": 901,
     "status": "ok",
     "timestamp": 1606845744318,
     "user": {
      "displayName": "WALLACE DUARTE DE HOLANDA",
      "photoUrl": "https://lh3.googleusercontent.com/a-/AOh14GgeWMOt53non50jDB5bIAwurrZleD5e6T7yfR9w=s64",
      "userId": "03474631865123362594"
     },
     "user_tz": 180
    },
    "id": "KvmI5QyjTNKZ"
   },
   "source": [
    "### Limpeza de Dados - Sintomas"
   ]
  },
  {
   "cell_type": "code",
   "execution_count": 14,
   "metadata": {},
   "outputs": [],
   "source": [
    "# covidData.head()\n",
    "# covidData.shape"
   ]
  },
  {
   "cell_type": "code",
   "execution_count": 15,
   "metadata": {},
   "outputs": [
    {
     "data": {
      "text/plain": [
       "(145434, 17)"
      ]
     },
     "execution_count": 15,
     "metadata": {},
     "output_type": "execute_result"
    }
   ],
   "source": [
    "# covidData[alvo].unique()\n",
    "sintomas = 'sintomas'\n",
    "covidData = pp.sintomasPreprocessamento(covidData, sintomas)\n",
    "covidData.shape"
   ]
  },
  {
   "cell_type": "code",
   "execution_count": 16,
   "metadata": {},
   "outputs": [],
   "source": [
    "# covidData.head()\n",
    "# 'Febre' in covidData['sintomas'] "
   ]
  },
  {
   "cell_type": "markdown",
   "metadata": {},
   "source": [
    "### Limpeza de Dados - Condições"
   ]
  },
  {
   "cell_type": "code",
   "execution_count": 17,
   "metadata": {},
   "outputs": [],
   "source": [
    "# covidData.shape"
   ]
  },
  {
   "cell_type": "code",
   "execution_count": 18,
   "metadata": {},
   "outputs": [
    {
     "data": {
      "text/plain": [
       "(145434, 26)"
      ]
     },
     "execution_count": 18,
     "metadata": {},
     "output_type": "execute_result"
    }
   ],
   "source": [
    "condicoes = 'condicoes'\n",
    "covidData = pp.condicoesPreprocessamento(covidData, condicoes)\n",
    "covidData.shape"
   ]
  },
  {
   "cell_type": "code",
   "execution_count": 19,
   "metadata": {},
   "outputs": [],
   "source": [
    "# pp.condicoesQntValores(covidData)\n",
    "# covidData.head()"
   ]
  },
  {
   "cell_type": "markdown",
   "metadata": {},
   "source": [
    "### Limpeza de Dados - Idade"
   ]
  },
  {
   "cell_type": "code",
   "execution_count": 20,
   "metadata": {},
   "outputs": [
    {
     "data": {
      "text/plain": [
       "(145434, 26)"
      ]
     },
     "execution_count": 20,
     "metadata": {},
     "output_type": "execute_result"
    }
   ],
   "source": [
    "covidData.shape"
   ]
  },
  {
   "cell_type": "code",
   "execution_count": 21,
   "metadata": {},
   "outputs": [],
   "source": [
    "idade = 'idade'\n",
    "covidData = pp.idadePreprocessamento(covidData, idade, 'faixaetaria')"
   ]
  },
  {
   "cell_type": "code",
   "execution_count": 22,
   "metadata": {},
   "outputs": [
    {
     "data": {
      "text/plain": [
       "3.0    45796\n",
       "2.0    33865\n",
       "4.0    30427\n",
       "5.0    14205\n",
       "0.0    10560\n",
       "1.0     5824\n",
       "6.0     4288\n",
       "7.0      441\n",
       "Name: faixaetaria, dtype: int64"
      ]
     },
     "execution_count": 22,
     "metadata": {},
     "output_type": "execute_result"
    }
   ],
   "source": [
    "covidData['faixaetaria'].value_counts()"
   ]
  },
  {
   "cell_type": "markdown",
   "metadata": {},
   "source": [
    "### Limpeza de Dados - Raça"
   ]
  },
  {
   "cell_type": "code",
   "execution_count": 23,
   "metadata": {
    "scrolled": true
   },
   "outputs": [
    {
     "data": {
      "text/plain": [
       "Branca      76868\n",
       "Ignorado    34938\n",
       "Parda       27970\n",
       "Preta        4458\n",
       "Amarela      1114\n",
       "Indigena       27\n",
       "Branco          1\n",
       "Name: racaCor, dtype: int64"
      ]
     },
     "execution_count": 23,
     "metadata": {},
     "output_type": "execute_result"
    }
   ],
   "source": [
    "raca = 'racaCor'\n",
    "covidData[raca].value_counts()"
   ]
  },
  {
   "cell_type": "code",
   "execution_count": 24,
   "metadata": {},
   "outputs": [
    {
     "data": {
      "text/plain": [
       "Branca      76868\n",
       "Parda       27970\n",
       "Preta        4458\n",
       "Amarela      1114\n",
       "Indigena       27\n",
       "Name: racaCor, dtype: int64"
      ]
     },
     "execution_count": 24,
     "metadata": {},
     "output_type": "execute_result"
    }
   ],
   "source": [
    "covidData = pp.racaPreprocessamento(covidData, raca)\n",
    "covidData[raca].value_counts()"
   ]
  },
  {
   "cell_type": "markdown",
   "metadata": {},
   "source": [
    "### Limpeza de Dados - Sexo"
   ]
  },
  {
   "cell_type": "code",
   "execution_count": 25,
   "metadata": {},
   "outputs": [
    {
     "data": {
      "text/plain": [
       "Feminino      63325\n",
       "Masculino     47110\n",
       "Indefinido        2\n",
       "Name: sexo, dtype: int64"
      ]
     },
     "execution_count": 25,
     "metadata": {},
     "output_type": "execute_result"
    }
   ],
   "source": [
    "sexo = 'sexo'\n",
    "covidData[sexo].value_counts()"
   ]
  },
  {
   "cell_type": "code",
   "execution_count": 26,
   "metadata": {
    "scrolled": true
   },
   "outputs": [],
   "source": [
    "covidData = pp.sexoPreprocessamento(covidData, sexo)"
   ]
  },
  {
   "cell_type": "code",
   "execution_count": 27,
   "metadata": {},
   "outputs": [
    {
     "data": {
      "text/plain": [
       "Feminino     63325\n",
       "Masculino    47110\n",
       "Name: sexo, dtype: int64"
      ]
     },
     "execution_count": 27,
     "metadata": {},
     "output_type": "execute_result"
    }
   ],
   "source": [
    "covidData[sexo].value_counts()"
   ]
  },
  {
   "cell_type": "markdown",
   "metadata": {},
   "source": [
    "### Limpeza dos Dados - Removendo Colunas"
   ]
  },
  {
   "cell_type": "code",
   "execution_count": 28,
   "metadata": {},
   "outputs": [
    {
     "data": {
      "text/plain": [
       "(110435, 27)"
      ]
     },
     "execution_count": 28,
     "metadata": {},
     "output_type": "execute_result"
    }
   ],
   "source": [
    "# source_id, idade, sintomas, classificacaoFinal\n",
    "colunasRemovidas = ['source_id', 'idade', 'sintomas', 'classificacaoFinal']\n",
    "covidData.shape"
   ]
  },
  {
   "cell_type": "code",
   "execution_count": 29,
   "metadata": {},
   "outputs": [
    {
     "data": {
      "text/plain": [
       "(110435, 23)"
      ]
     },
     "execution_count": 29,
     "metadata": {},
     "output_type": "execute_result"
    }
   ],
   "source": [
    "covidData = pp.removerColunas(covidData, colunasRemovidas)\n",
    "covidData.shape"
   ]
  },
  {
   "cell_type": "markdown",
   "metadata": {},
   "source": [
    "### Limpeza dos Dados - Formatando Colunas"
   ]
  },
  {
   "cell_type": "code",
   "execution_count": 30,
   "metadata": {},
   "outputs": [
    {
     "name": "stdout",
     "output_type": "stream",
     "text": [
      "Feminino     63325\n",
      "Masculino    47110\n",
      "Name: sexo, dtype: int64 \n",
      "\n",
      " Branca      76866\n",
      "Parda       27970\n",
      "Preta        4458\n",
      "Amarela      1114\n",
      "Indigena       27\n",
      "Name: racaCor, dtype: int64\n"
     ]
    }
   ],
   "source": [
    "# Colunas Formatadas: sexo e racaCor\n",
    "print(covidData['sexo'].value_counts(), '\\n\\n',covidData['racaCor'].value_counts())"
   ]
  },
  {
   "cell_type": "code",
   "execution_count": 31,
   "metadata": {},
   "outputs": [
    {
     "name": "stdout",
     "output_type": "stream",
     "text": [
      "0    63325\n",
      "1    47110\n",
      "Name: sexo, dtype: int64 \n",
      "\n",
      " 0    76866\n",
      "3    27970\n",
      "1     4458\n",
      "2     1114\n",
      "4       27\n",
      "Name: racaCor, dtype: int64\n"
     ]
    }
   ],
   "source": [
    "covidData = pp.formatarColunas(covidData)\n",
    "print(covidData['sexo'].value_counts(), '\\n\\n',covidData['racaCor'].value_counts())"
   ]
  },
  {
   "cell_type": "markdown",
   "metadata": {},
   "source": [
    "### Limpeza dos Dados - Balanceamento"
   ]
  },
  {
   "cell_type": "code",
   "execution_count": 32,
   "metadata": {},
   "outputs": [
    {
     "data": {
      "text/plain": [
       "(927, 23)"
      ]
     },
     "execution_count": 32,
     "metadata": {},
     "output_type": "execute_result"
    }
   ],
   "source": [
    "covidDataBalanced = pp.balanceamento(covidData, 'evolucaoCaso', 'Óbito', 30, 'Cura')\n",
    "covidDataBalanced.shape"
   ]
  },
  {
   "cell_type": "code",
   "execution_count": null,
   "metadata": {},
   "outputs": [],
   "source": [
    "# Avaliação Individual da Base\n",
    "# Análise das Métricas\n",
    "# Remoção de Atributos (menor ganho de informação)"
   ]
  },
  {
   "cell_type": "code",
   "execution_count": null,
   "metadata": {},
   "outputs": [],
   "source": []
  },
  {
   "cell_type": "code",
   "execution_count": null,
   "metadata": {},
   "outputs": [],
   "source": []
  },
  {
   "cell_type": "code",
   "execution_count": null,
   "metadata": {},
   "outputs": [],
   "source": []
  }
 ],
 "metadata": {
  "colab": {
   "collapsed_sections": [],
   "name": "processamentoDados.ipynb",
   "provenance": [
    {
     "file_id": "14gNqQLvSBxac92pENTV2WFH8c9x6nI_I",
     "timestamp": 1605384432884
    }
   ]
  },
  "kernelspec": {
   "display_name": "Python 3 (ipykernel)",
   "language": "python",
   "name": "python3"
  },
  "language_info": {
   "codemirror_mode": {
    "name": "ipython",
    "version": 3
   },
   "file_extension": ".py",
   "mimetype": "text/x-python",
   "name": "python",
   "nbconvert_exporter": "python",
   "pygments_lexer": "ipython3",
   "version": "3.8.10"
  }
 },
 "nbformat": 4,
 "nbformat_minor": 1
}
