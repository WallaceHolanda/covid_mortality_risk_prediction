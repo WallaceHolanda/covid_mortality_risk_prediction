{
 "cells": [
  {
   "cell_type": "code",
   "execution_count": 22,
   "metadata": {
    "executionInfo": {
     "elapsed": 1799,
     "status": "ok",
     "timestamp": 1606845696531,
     "user": {
      "displayName": "WALLACE DUARTE DE HOLANDA",
      "photoUrl": "https://lh3.googleusercontent.com/a-/AOh14GgeWMOt53non50jDB5bIAwurrZleD5e6T7yfR9w=s64",
      "userId": "03474631865123362594"
     },
     "user_tz": 180
    },
    "id": "TW5Oyd2oXbrk"
   },
   "outputs": [],
   "source": [
    "import pandas as pd"
   ]
  },
  {
   "cell_type": "code",
   "execution_count": 24,
   "metadata": {
    "executionInfo": {
     "elapsed": 3434,
     "status": "ok",
     "timestamp": 1606845719272,
     "user": {
      "displayName": "WALLACE DUARTE DE HOLANDA",
      "photoUrl": "https://lh3.googleusercontent.com/a-/AOh14GgeWMOt53non50jDB5bIAwurrZleD5e6T7yfR9w=s64",
      "userId": "03474631865123362594"
     },
     "user_tz": 180
    },
    "id": "4Vjp-2FtXbr7"
   },
   "outputs": [
    {
     "name": "stderr",
     "output_type": "stream",
     "text": [
      "/home/wallece/.local/lib/python3.8/site-packages/IPython/core/interactiveshell.py:3457: DtypeWarning: Columns (15,20,21,22,28,30,33,34,35,36,45,46,48,50,55,62) have mixed types.Specify dtype option on import or set low_memory=False.\n",
      "  exec(code_obj, self.user_global_ns, self.user_ns)\n"
     ]
    }
   ],
   "source": [
    "covidData = pd.read_csv(\"../../database/opendatasus/rn-opendata-2022.csv\", on_bad_lines='skip')"
   ]
  },
  {
   "cell_type": "code",
   "execution_count": 25,
   "metadata": {
    "colab": {
     "base_uri": "https://localhost:8080/"
    },
    "executionInfo": {
     "elapsed": 823,
     "status": "ok",
     "timestamp": 1606782619746,
     "user": {
      "displayName": "WALLACE DUARTE DE HOLANDA",
      "photoUrl": "https://lh3.googleusercontent.com/a-/AOh14GgeWMOt53non50jDB5bIAwurrZleD5e6T7yfR9w=s64",
      "userId": "03474631865123362594"
     },
     "user_tz": 180
    },
    "id": "R04MwHdxXbsK",
    "outputId": "e5065bd9-5f57-4346-a7d9-25a397411b9d"
   },
   "outputs": [
    {
     "data": {
      "text/plain": [
       "(230764, 65)"
      ]
     },
     "execution_count": 25,
     "metadata": {},
     "output_type": "execute_result"
    }
   ],
   "source": [
    "#Visualizando Dados\n",
    "covidData.head()\n",
    "covidData.shape"
   ]
  },
  {
   "cell_type": "markdown",
   "metadata": {},
   "source": [
    "# Verificando e Selecionando as Colunas"
   ]
  },
  {
   "cell_type": "code",
   "execution_count": 26,
   "metadata": {
    "colab": {
     "base_uri": "https://localhost:8080/"
    },
    "executionInfo": {
     "elapsed": 1467,
     "status": "ok",
     "timestamp": 1606845724926,
     "user": {
      "displayName": "WALLACE DUARTE DE HOLANDA",
      "photoUrl": "https://lh3.googleusercontent.com/a-/AOh14GgeWMOt53non50jDB5bIAwurrZleD5e6T7yfR9w=s64",
      "userId": "03474631865123362594"
     },
     "user_tz": 180
    },
    "id": "kGnNDZZvXbsk",
    "outputId": "bf3b6b9b-14ef-4889-907e-671a9dd779e7"
   },
   "outputs": [
    {
     "data": {
      "text/plain": [
       "Index(['source_id', 'dataNotificacao', 'dataInicioSintomas', 'sintomas',\n",
       "       'profissionalSaude', 'racaCor', 'outrosSintomas', 'outrasCondicoes',\n",
       "       'profissionalSeguranca', 'cbo', 'condicoes', 'sexo', 'estado',\n",
       "       'estadoIBGE', 'municipio', 'municipioIBGE', 'origem',\n",
       "       'estadoNotificacao', 'estadoNotificacaoIBGE', 'municipioNotificacao',\n",
       "       'municipioNotificacaoIBGE', 'excluido', 'validado', 'dataEncerramento',\n",
       "       'evolucaoCaso', 'classificacaoFinal', 'codigoEstrategiaCovid',\n",
       "       'codigoBuscaAtivaAssintomatico', 'outroBuscaAtivaAssintomatico',\n",
       "       'codigoTriagemPopulacaoEspecifica', 'outroTriagemPopulacaoEspecifica',\n",
       "       'codigoLocalRealizacaoTestagem', 'outroLocalRealizacaoTestagem',\n",
       "       'codigoRecebeuVacina', 'codigoDosesVacina', 'dataPrimeiraDose',\n",
       "       'dataSegundaDose', 'codigoLaboratorioPrimeiraDose',\n",
       "       'codigoLaboratorioSegundaDose', 'lotePrimeiraDose', 'loteSegundaDose',\n",
       "       'codigoContemComunidadeTradicional', 'totalTestesRealizados',\n",
       "       'codigoEstadoTeste1', 'codigoTipoTeste1', 'codigoFabricanteTeste1',\n",
       "       'codigoResultadoTeste1', 'dataColetaTeste1', 'codigoEstadoTeste2',\n",
       "       'codigoTipoTeste2', 'codigoFabricanteTeste2', 'codigoResultadoTeste2',\n",
       "       'dataColetaTeste2', 'codigoEstadoTeste3', 'codigoTipoTeste3',\n",
       "       'codigoFabricanteTeste3', 'codigoResultadoTeste3', 'dataColetaTeste3',\n",
       "       'codigoEstadoTeste4', 'codigoTipoTeste4', 'codigoFabricanteTeste4',\n",
       "       'codigoResultadoTeste4', 'dataColetaTeste4', 'idade', 'Unnamed: 64'],\n",
       "      dtype='object')"
      ]
     },
     "execution_count": 26,
     "metadata": {},
     "output_type": "execute_result"
    }
   ],
   "source": [
    "#Verificando a dimensão da Tabela\n",
    "colunas = covidData.columns\n",
    "colunas"
   ]
  },
  {
   "cell_type": "code",
   "execution_count": 27,
   "metadata": {},
   "outputs": [
    {
     "data": {
      "text/plain": [
       "Descartado                           5619\n",
       "Confirmado Laboratorial              4485\n",
       "Confirmado Clínico-Epidemiológico    1128\n",
       "Confirmado por Critério Clínico       886\n",
       "Síndrome Gripal Não Especificada      657\n",
       "1                                       3\n",
       "Name: classificacaoFinal, dtype: int64"
      ]
     },
     "execution_count": 27,
     "metadata": {},
     "output_type": "execute_result"
    }
   ],
   "source": [
    "# Visualizando o formato das condições\n",
    "covidData['classificacaoFinal'].value_counts()"
   ]
  },
  {
   "cell_type": "code",
   "execution_count": 28,
   "metadata": {},
   "outputs": [],
   "source": [
    "# Separando as colunas mais importantes\n",
    "colunasImportantes = ['source_id', 'sexo', 'racaCor', 'idade', 'sintomas', 'condicoes',\n",
    "                      'dataPrimeiraDose', 'dataSegundaDose', 'classificacaoFinal', 'evolucaoCaso']\n",
    "covidData = covidData[colunasImportantes]"
   ]
  },
  {
   "cell_type": "markdown",
   "metadata": {},
   "source": [
    "# Calculando e Removendo os Valores Ausentes"
   ]
  },
  {
   "cell_type": "code",
   "execution_count": 29,
   "metadata": {
    "colab": {
     "base_uri": "https://localhost:8080/"
    },
    "executionInfo": {
     "elapsed": 786,
     "status": "ok",
     "timestamp": 1606782622935,
     "user": {
      "displayName": "WALLACE DUARTE DE HOLANDA",
      "photoUrl": "https://lh3.googleusercontent.com/a-/AOh14GgeWMOt53non50jDB5bIAwurrZleD5e6T7yfR9w=s64",
      "userId": "03474631865123362594"
     },
     "user_tz": 180
    },
    "id": "Dxgp81H2Xbs5",
    "outputId": "f0228368-565a-448f-bea8-43f58ae8d5ed"
   },
   "outputs": [],
   "source": [
    "#Verificando a quantidade de dados faltantes por colunas\n",
    "from matplotlib import pyplot as plt\n",
    "\n",
    "def visualizarQntFaltosos(covidData):\n",
    "    faltantes = covidData.isnull().sum()\n",
    "    faltantes_percentual = (covidData.isnull().sum() / len(covidData['source_id'])) * 100\n",
    "    return faltantes_percentual\n",
    "    \n",
    "def plotarQntFaltosos(dados):\n",
    "    nomes = dados.index\n",
    "    valores = dados.values\n",
    "    plt.barh(nomes, valores)\n",
    "    plt.show"
   ]
  },
  {
   "cell_type": "code",
   "execution_count": 30,
   "metadata": {},
   "outputs": [
    {
     "data": {
      "text/plain": [
       "source_id              0.000000\n",
       "sexo                   0.000433\n",
       "racaCor                0.002600\n",
       "idade                  0.363575\n",
       "sintomas               0.000000\n",
       "condicoes             89.077152\n",
       "dataPrimeiraDose      31.541315\n",
       "dataSegundaDose       35.425370\n",
       "classificacaoFinal    94.462741\n",
       "evolucaoCaso          94.441941\n",
       "dtype: float64"
      ]
     },
     "execution_count": 30,
     "metadata": {},
     "output_type": "execute_result"
    }
   ],
   "source": [
    "dados_faltosos = visualizarQntFaltosos(covidData)\n",
    "dados_faltosos\n",
    "# plotarQntFaltosos(dados_faltosos)"
   ]
  },
  {
   "cell_type": "markdown",
   "metadata": {},
   "source": [
    "# Limpeza de Dados - Atibuto Evolução\n",
    "\n",
    "``` Pode conter (Cancelado, Cura, Ignorado, Em tratamento domiciliar, Óbito, Internado, Internado em UTI ```"
   ]
  },
  {
   "cell_type": "code",
   "execution_count": 31,
   "metadata": {},
   "outputs": [
    {
     "data": {
      "text/plain": [
       "Cura                        8914\n",
       "Cancelado                   2099\n",
       "1                            825\n",
       "Em tratamento domiciliar     494\n",
       "Ignorado                     423\n",
       "Óbito                         60\n",
       "Internado                      9\n",
       "3                              1\n",
       "Internado em UTI               1\n",
       "Name: evolucaoCaso, dtype: int64"
      ]
     },
     "execution_count": 31,
     "metadata": {},
     "output_type": "execute_result"
    }
   ],
   "source": [
    "alvo = 'evolucaoCaso'\n",
    "#covidData[alvo].unique()\n",
    "covidData[alvo].value_counts()"
   ]
  },
  {
   "cell_type": "markdown",
   "metadata": {},
   "source": [
    "#### i. Remoção dos valores ausentes"
   ]
  },
  {
   "cell_type": "code",
   "execution_count": 32,
   "metadata": {
    "executionInfo": {
     "elapsed": 1376,
     "status": "ok",
     "timestamp": 1606845731410,
     "user": {
      "displayName": "WALLACE DUARTE DE HOLANDA",
      "photoUrl": "https://lh3.googleusercontent.com/a-/AOh14GgeWMOt53non50jDB5bIAwurrZleD5e6T7yfR9w=s64",
      "userId": "03474631865123362594"
     },
     "user_tz": 180
    },
    "id": "5q41oIsjXbtL"
   },
   "outputs": [],
   "source": [
    "atributosVazios = covidData.loc[covidData[alvo].isnull()]\n",
    "covidData = covidData.drop(atributosVazios.index)"
   ]
  },
  {
   "cell_type": "code",
   "execution_count": 33,
   "metadata": {},
   "outputs": [
    {
     "data": {
      "text/plain": [
       "Cura                        8914\n",
       "Cancelado                   2099\n",
       "1                            825\n",
       "Em tratamento domiciliar     494\n",
       "Ignorado                     423\n",
       "Óbito                         60\n",
       "Internado                      9\n",
       "3                              1\n",
       "Internado em UTI               1\n",
       "Name: evolucaoCaso, dtype: int64"
      ]
     },
     "execution_count": 33,
     "metadata": {},
     "output_type": "execute_result"
    }
   ],
   "source": [
    "# visualizarQntFaltosos(covidData)\n",
    "covidData[alvo].value_counts()"
   ]
  },
  {
   "cell_type": "markdown",
   "metadata": {},
   "source": [
    "#### ii. Removendo os valores Ignorado e Cancelado"
   ]
  },
  {
   "cell_type": "code",
   "execution_count": 34,
   "metadata": {},
   "outputs": [],
   "source": [
    "dadosIgnoradosCancelados = covidData.loc[((covidData[alvo] == 'Ignorado') | \n",
    "                                          (covidData[alvo] == 'Cancelado'))]\n",
    "\n",
    "covidData = covidData.drop(dadosIgnoradosCancelados.index)"
   ]
  },
  {
   "cell_type": "code",
   "execution_count": 35,
   "metadata": {},
   "outputs": [
    {
     "data": {
      "text/plain": [
       "Cura                        8914\n",
       "1                            825\n",
       "Em tratamento domiciliar     494\n",
       "Óbito                         60\n",
       "Internado                      9\n",
       "3                              1\n",
       "Internado em UTI               1\n",
       "Name: evolucaoCaso, dtype: int64"
      ]
     },
     "execution_count": 35,
     "metadata": {},
     "output_type": "execute_result"
    }
   ],
   "source": [
    "covidData[alvo].value_counts()"
   ]
  },
  {
   "cell_type": "markdown",
   "metadata": {},
   "source": [
    "#### iii. Agrupando os valores de 'Internado'"
   ]
  },
  {
   "cell_type": "code",
   "execution_count": 36,
   "metadata": {},
   "outputs": [
    {
     "data": {
      "text/plain": [
       "Cura                        8914\n",
       "1                            825\n",
       "Em tratamento domiciliar     494\n",
       "Óbito                         60\n",
       "Internado                     10\n",
       "3                              1\n",
       "Name: evolucaoCaso, dtype: int64"
      ]
     },
     "execution_count": 36,
     "metadata": {},
     "output_type": "execute_result"
    }
   ],
   "source": [
    "covidData.loc[covidData[alvo] == 'Internado em UTI', [alvo]] = 'Internado';\n",
    "covidData[alvo].value_counts()"
   ]
  },
  {
   "cell_type": "markdown",
   "metadata": {},
   "source": [
    "#### iv. Agrupando os valores de 'Tratamento Domiciliar'"
   ]
  },
  {
   "cell_type": "code",
   "execution_count": 37,
   "metadata": {},
   "outputs": [
    {
     "data": {
      "text/plain": [
       "Cura         9408\n",
       "1             825\n",
       "Óbito          60\n",
       "Internado      10\n",
       "3               1\n",
       "Name: evolucaoCaso, dtype: int64"
      ]
     },
     "execution_count": 37,
     "metadata": {},
     "output_type": "execute_result"
    }
   ],
   "source": [
    "covidData.loc[covidData[alvo] == 'Em tratamento domiciliar', [alvo]] = 'Cura';\n",
    "covidData[alvo].value_counts()"
   ]
  },
  {
   "cell_type": "code",
   "execution_count": 38,
   "metadata": {},
   "outputs": [
    {
     "data": {
      "text/plain": [
       "source_id              0.000000\n",
       "sexo                   0.000000\n",
       "racaCor                0.029115\n",
       "idade                  8.016304\n",
       "sintomas               0.000000\n",
       "condicoes             86.199534\n",
       "dataPrimeiraDose      37.237966\n",
       "dataSegundaDose       41.644022\n",
       "classificacaoFinal    11.306289\n",
       "evolucaoCaso           0.000000\n",
       "dtype: float64"
      ]
     },
     "execution_count": 38,
     "metadata": {},
     "output_type": "execute_result"
    }
   ],
   "source": [
    "dados_faltosos = visualizarQntFaltosos(covidData)\n",
    "dados_faltosos"
   ]
  },
  {
   "cell_type": "markdown",
   "metadata": {
    "executionInfo": {
     "elapsed": 901,
     "status": "ok",
     "timestamp": 1606845744318,
     "user": {
      "displayName": "WALLACE DUARTE DE HOLANDA",
      "photoUrl": "https://lh3.googleusercontent.com/a-/AOh14GgeWMOt53non50jDB5bIAwurrZleD5e6T7yfR9w=s64",
      "userId": "03474631865123362594"
     },
     "user_tz": 180
    },
    "id": "KvmI5QyjTNKZ"
   },
   "source": [
    "# Coletando os Sintomas\n",
    "\n",
    "``` Pode conter - Assintomático, Febre, Dor de Garganta, Dispneia, Tosse,  Coriza, Dor de Cabeça, Distúrbios gustatórios, Distúrbios olfativos ```"
   ]
  },
  {
   "cell_type": "code",
   "execution_count": null,
   "metadata": {},
   "outputs": [],
   "source": [
    "# df['equal_or_lower_than_4?'] = df['set_of_numbers'].apply(lambda x: 'True' if x <= 4 else 'False')"
   ]
  },
  {
   "cell_type": "code",
   "execution_count": 21,
   "metadata": {},
   "outputs": [],
   "source": [
    "# 'Febre' in covidData['sintomas'] "
   ]
  },
  {
   "cell_type": "code",
   "execution_count": null,
   "metadata": {},
   "outputs": [],
   "source": []
  },
  {
   "cell_type": "code",
   "execution_count": null,
   "metadata": {},
   "outputs": [],
   "source": []
  },
  {
   "cell_type": "markdown",
   "metadata": {},
   "source": [
    "# Organizando as Comorbidades\n",
    "#### "
   ]
  },
  {
   "cell_type": "code",
   "execution_count": null,
   "metadata": {},
   "outputs": [],
   "source": []
  },
  {
   "cell_type": "code",
   "execution_count": 46,
   "metadata": {},
   "outputs": [],
   "source": [
    "# Comorbidades\n",
    "comorbidades = {\"diabetes\": 'Diabetes', \n",
    "                \"obesidade\": 'Obesidade', \n",
    "                \"renal\": 'Doenças renais crônicas em estágio avançado',\n",
    "                \"respiratoria\": 'Doenças respiratórias crônicas descompensadas',\n",
    "                \"imunossupressao\": 'Imunossupressão',\n",
    "                \"fragilidadeImuno\": 'Portador de doenças cromossômicas ou estado de fragilidade imunológica',\n",
    "                \"gestante\": 'Gestante',\n",
    "                \"cardiaca\": 'Doenças cardíacas crônicas',\n",
    "                \"puerpera\": 'Puérpera'}\n",
    "\n",
    "x = comorbidades.keys()\n",
    "\n",
    "\n",
    "# stringX = 'Doenças cardíacas crônicas, Diabetes'\n",
    "# comorbidades['diabetes'] in stringX"
   ]
  },
  {
   "cell_type": "code",
   "execution_count": null,
   "metadata": {},
   "outputs": [],
   "source": [
    "for chave in comorbidades.keys():\n",
    "    print(chave)"
   ]
  },
  {
   "cell_type": "code",
   "execution_count": 45,
   "metadata": {},
   "outputs": [
    {
     "name": "stderr",
     "output_type": "stream",
     "text": [
      "/home/wallece/.local/lib/python3.8/site-packages/pandas/core/indexing.py:1817: SettingWithCopyWarning: \n",
      "A value is trying to be set on a copy of a slice from a DataFrame.\n",
      "Try using .loc[row_indexer,col_indexer] = value instead\n",
      "\n",
      "See the caveats in the documentation: https://pandas.pydata.org/pandas-docs/stable/user_guide/indexing.html#returning-a-view-versus-a-copy\n",
      "  self._setitem_single_column(loc, value, pi)\n"
     ]
    },
    {
     "data": {
      "text/plain": [
       "2.0    424\n",
       "1.0     53\n",
       "Name: RENAL, dtype: int64"
      ]
     },
     "execution_count": 45,
     "metadata": {},
     "output_type": "execute_result"
    }
   ],
   "source": [
    "# Substituindo o valor das comorbidades\n",
    "covidNewData.loc[covidNewData.FATOR_RISC == 2, [\"PUERPERA\", \"CARDIOPATI\", \"HEMATOLOGI\",\n",
    "            \"SIND_DOWN\", \"HEPATICA\", \"ASMA\",\"DIABETES\", \"NEUROLOGIC\", \"PNEUMOPATI\",\n",
    "            \"IMUNODEPRE\", \"RENAL\", \"OBESIDADE\"]] = 2;\n",
    "covidNewData.RENAL.value_counts()"
   ]
  },
  {
   "cell_type": "code",
   "execution_count": 46,
   "metadata": {},
   "outputs": [
    {
     "data": {
      "text/plain": [
       "(1120, 165)"
      ]
     },
     "execution_count": 46,
     "metadata": {},
     "output_type": "execute_result"
    }
   ],
   "source": [
    "covidNewData.shape"
   ]
  },
  {
   "cell_type": "code",
   "execution_count": 47,
   "metadata": {},
   "outputs": [
    {
     "data": {
      "text/plain": [
       "(762, 165)"
      ]
     },
     "execution_count": 47,
     "metadata": {},
     "output_type": "execute_result"
    }
   ],
   "source": [
    "newCovidData = covidNewData.drop(covidNewData[covidNewData.CLASSI_FIN != 5].index, inplace = False)\n",
    "#covidNewData.shape\n",
    "newCovidData.shape"
   ]
  },
  {
   "cell_type": "code",
   "execution_count": 48,
   "metadata": {},
   "outputs": [
    {
     "data": {
      "text/plain": [
       "(762, 30)"
      ]
     },
     "execution_count": 48,
     "metadata": {},
     "output_type": "execute_result"
    }
   ],
   "source": [
    "#Filtrando os atributos\n",
    "attributes = [\"CS_SEXO\", \"NU_IDADE_N\", \"CS_RACA\", \"SURTO_SG\", \"FEBRE\", \"TOSSE\", \"GARGANTA\", \n",
    "              \"DISPNEIA\", \"DESC_RESP\", \"SATURACAO\", \"DIARREIA\",\"VOMITO\", \"FATOR_RISC\", \"PUERPERA\", \"CARDIOPATI\", \n",
    "              \"HEMATOLOGI\", \"SIND_DOWN\", \"HEPATICA\", \"ASMA\", \"DIABETES\", \"NEUROLOGIC\",\"PNEUMOPATI\",\n",
    "              \"IMUNODEPRE\", \"RENAL\", \"OBESIDADE\", \"DT_INTERNA\", \"DT_EVOLUCA\", \"CLASSI_FIN\", \"SUPORT_VEN\", \"UTI\"]\n",
    "# 'EVOLUCAO'\n",
    "\n",
    "dbCovid = newCovidData[attributes];\n",
    "dbCovid.shape"
   ]
  },
  {
   "cell_type": "code",
   "execution_count": 49,
   "metadata": {},
   "outputs": [],
   "source": [
    "write = pd.ExcelWriter('uti_dados_pp_Jan2021.xlsx')\n",
    "dbCovid.to_excel(write, 'dados', index = False)\n",
    "write.save()"
   ]
  },
  {
   "cell_type": "code",
   "execution_count": null,
   "metadata": {},
   "outputs": [],
   "source": []
  },
  {
   "cell_type": "code",
   "execution_count": null,
   "metadata": {},
   "outputs": [],
   "source": []
  },
  {
   "cell_type": "code",
   "execution_count": 47,
   "metadata": {},
   "outputs": [
    {
     "data": {
      "text/plain": [
       "'\\nDiabetes\\nObesidade\\nDoenças renais crônicas em estágio avançado (graus 3, 4 e 5)\\nDoenças respiratórias crônicas descompensadas \\nImunossupressão\\nPortador de doenças cromossômicas ou estado de fragilidade imunológica\\nGestante\\nDoenças cardíacas crônicas \\nPuérpera (até 45 dias do parto)\\n'"
      ]
     },
     "execution_count": 47,
     "metadata": {},
     "output_type": "execute_result"
    }
   ],
   "source": [
    "# Lista de Comorbidades\n",
    "\"\"\"\n",
    "Diabetes\n",
    "Obesidade\n",
    "Doenças renais crônicas em estágio avançado (graus 3, 4 e 5)\n",
    "Doenças respiratórias crônicas descompensadas \n",
    "Imunossupressão\n",
    "Portador de doenças cromossômicas ou estado de fragilidade imunológica\n",
    "Gestante\n",
    "Doenças cardíacas crônicas \n",
    "Puérpera (até 45 dias do parto)\n",
    "\"\"\""
   ]
  },
  {
   "cell_type": "code",
   "execution_count": null,
   "metadata": {},
   "outputs": [],
   "source": []
  }
 ],
 "metadata": {
  "colab": {
   "collapsed_sections": [],
   "name": "processamentoDados.ipynb",
   "provenance": [
    {
     "file_id": "14gNqQLvSBxac92pENTV2WFH8c9x6nI_I",
     "timestamp": 1605384432884
    }
   ]
  },
  "kernelspec": {
   "display_name": "Python 3 (ipykernel)",
   "language": "python",
   "name": "python3"
  },
  "language_info": {
   "codemirror_mode": {
    "name": "ipython",
    "version": 3
   },
   "file_extension": ".py",
   "mimetype": "text/x-python",
   "name": "python",
   "nbconvert_exporter": "python",
   "pygments_lexer": "ipython3",
   "version": "3.8.10"
  }
 },
 "nbformat": 4,
 "nbformat_minor": 1
}
