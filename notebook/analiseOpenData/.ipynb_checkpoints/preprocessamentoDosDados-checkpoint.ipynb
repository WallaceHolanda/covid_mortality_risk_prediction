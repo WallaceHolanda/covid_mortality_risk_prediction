{
 "cells": [
  {
   "cell_type": "code",
   "execution_count": 1,
   "metadata": {
    "executionInfo": {
     "elapsed": 1799,
     "status": "ok",
     "timestamp": 1606845696531,
     "user": {
      "displayName": "WALLACE DUARTE DE HOLANDA",
      "photoUrl": "https://lh3.googleusercontent.com/a-/AOh14GgeWMOt53non50jDB5bIAwurrZleD5e6T7yfR9w=s64",
      "userId": "03474631865123362594"
     },
     "user_tz": 180
    },
    "id": "TW5Oyd2oXbrk"
   },
   "outputs": [],
   "source": [
    "import pandas as pd"
   ]
  },
  {
   "cell_type": "code",
   "execution_count": 9,
   "metadata": {
    "executionInfo": {
     "elapsed": 3434,
     "status": "ok",
     "timestamp": 1606845719272,
     "user": {
      "displayName": "WALLACE DUARTE DE HOLANDA",
      "photoUrl": "https://lh3.googleusercontent.com/a-/AOh14GgeWMOt53non50jDB5bIAwurrZleD5e6T7yfR9w=s64",
      "userId": "03474631865123362594"
     },
     "user_tz": 180
    },
    "id": "4Vjp-2FtXbr7"
   },
   "outputs": [
    {
     "name": "stderr",
     "output_type": "stream",
     "text": [
      "/home/wallece/.local/lib/python3.8/site-packages/IPython/core/interactiveshell.py:3457: DtypeWarning: Columns (2,13,20,26) have mixed types.Specify dtype option on import or set low_memory=False.\n",
      "  exec(code_obj, self.user_global_ns, self.user_ns)\n"
     ]
    }
   ],
   "source": [
    "covidData = pd.read_csv(\"../../database/dadosSP22.csv\", on_bad_lines='skip')"
   ]
  },
  {
   "cell_type": "code",
   "execution_count": 10,
   "metadata": {
    "colab": {
     "base_uri": "https://localhost:8080/"
    },
    "executionInfo": {
     "elapsed": 823,
     "status": "ok",
     "timestamp": 1606782619746,
     "user": {
      "displayName": "WALLACE DUARTE DE HOLANDA",
      "photoUrl": "https://lh3.googleusercontent.com/a-/AOh14GgeWMOt53non50jDB5bIAwurrZleD5e6T7yfR9w=s64",
      "userId": "03474631865123362594"
     },
     "user_tz": 180
    },
    "id": "R04MwHdxXbsK",
    "outputId": "e5065bd9-5f57-4346-a7d9-25a397411b9d"
   },
   "outputs": [
    {
     "data": {
      "text/plain": [
       "(652852, 28)"
      ]
     },
     "execution_count": 10,
     "metadata": {},
     "output_type": "execute_result"
    }
   ],
   "source": [
    "#Visualizando Dados\n",
    "covidData.head()\n",
    "covidData.shape"
   ]
  },
  {
   "cell_type": "code",
   "execution_count": 11,
   "metadata": {
    "colab": {
     "base_uri": "https://localhost:8080/"
    },
    "executionInfo": {
     "elapsed": 1467,
     "status": "ok",
     "timestamp": 1606845724926,
     "user": {
      "displayName": "WALLACE DUARTE DE HOLANDA",
      "photoUrl": "https://lh3.googleusercontent.com/a-/AOh14GgeWMOt53non50jDB5bIAwurrZleD5e6T7yfR9w=s64",
      "userId": "03474631865123362594"
     },
     "user_tz": 180
    },
    "id": "kGnNDZZvXbsk",
    "outputId": "bf3b6b9b-14ef-4889-907e-671a9dd779e7"
   },
   "outputs": [
    {
     "data": {
      "text/plain": [
       "Index(['id', 'estadoNotificacao', 'estadoNotificacaoIBGE',\n",
       "       'municipioNotificacao', 'municipioNotificacaoIBGE', 'profissionalSaude',\n",
       "       'profissionalSeguranca', 'cbo', 'sexo', 'racaCor', 'estado',\n",
       "       'estadoIBGE', 'municipio', 'municipioIBGE', 'dataNotificacao',\n",
       "       'sintomas', 'outrosSintomas', 'dataInicioSintomas', 'condicoes',\n",
       "       'estadoTeste', 'dataTeste', 'tipoTeste', 'resultadoTeste',\n",
       "       'classificacaoFinal', 'evolucaoCaso', 'dataEncerramento', 'cnes',\n",
       "       'idade'],\n",
       "      dtype='object')"
      ]
     },
     "execution_count": 11,
     "metadata": {},
     "output_type": "execute_result"
    }
   ],
   "source": [
    "#Verificando a dimensão da Tabela\n",
    "covidData.columns"
   ]
  },
  {
   "cell_type": "code",
   "execution_count": 13,
   "metadata": {
    "scrolled": true
   },
   "outputs": [
    {
     "data": {
      "text/plain": [
       "Negativo                         245887\n",
       "Positivo                         132611\n",
       "Inconclusivo ou Indeterminado       602\n",
       "Name: resultadoTeste, dtype: int64"
      ]
     },
     "execution_count": 13,
     "metadata": {},
     "output_type": "execute_result"
    }
   ],
   "source": [
    "covidData['evolucaoCaso'].value_counts()"
   ]
  },
  {
   "cell_type": "markdown",
   "metadata": {},
   "source": [
    "# Pré-processamento dos Dados"
   ]
  },
  {
   "cell_type": "code",
   "execution_count": 32,
   "metadata": {
    "colab": {
     "base_uri": "https://localhost:8080/"
    },
    "executionInfo": {
     "elapsed": 786,
     "status": "ok",
     "timestamp": 1606782622935,
     "user": {
      "displayName": "WALLACE DUARTE DE HOLANDA",
      "photoUrl": "https://lh3.googleusercontent.com/a-/AOh14GgeWMOt53non50jDB5bIAwurrZleD5e6T7yfR9w=s64",
      "userId": "03474631865123362594"
     },
     "user_tz": 180
    },
    "id": "Dxgp81H2Xbs5",
    "outputId": "f0228368-565a-448f-bea8-43f58ae8d5ed"
   },
   "outputs": [],
   "source": [
    "#Verificando a quantidade de dados faltantes por colunas\n",
    "faltantes = covidData.isnull().sum()\n",
    "faltantes_percentual = (covidData.isnull().sum() / len(covidData['DT_NOTIFIC'])) * 100"
   ]
  },
  {
   "cell_type": "code",
   "execution_count": 34,
   "metadata": {},
   "outputs": [
    {
     "name": "stdout",
     "output_type": "stream",
     "text": [
      "63.77422072451559\n",
      "2.527379949452401\n",
      "UTI 50\n"
     ]
    }
   ],
   "source": [
    "#Exibindo a porcentagem/quantidade de dados ausentes\n",
    "print(faltantes_percentual['DIABETES'])\n",
    "print(faltantes_percentual['EVOLUCAO'])\n",
    "\n",
    "alvo = 'UTI'\n",
    "#print(faltantes['EVOLUCAO'])\n",
    "print(alvo, faltantes[alvo])"
   ]
  },
  {
   "cell_type": "code",
   "execution_count": 35,
   "metadata": {
    "executionInfo": {
     "elapsed": 1376,
     "status": "ok",
     "timestamp": 1606845731410,
     "user": {
      "displayName": "WALLACE DUARTE DE HOLANDA",
      "photoUrl": "https://lh3.googleusercontent.com/a-/AOh14GgeWMOt53non50jDB5bIAwurrZleD5e6T7yfR9w=s64",
      "userId": "03474631865123362594"
     },
     "user_tz": 180
    },
    "id": "5q41oIsjXbtL"
   },
   "outputs": [],
   "source": [
    "#Salvando todos os dados que não possuem a evolução vazia\n",
    "#newData = covidData.loc[covidData['EVOLUCAO'].notnull()]\n",
    "newData = covidData.loc[covidData[alvo].notnull()]"
   ]
  },
  {
   "cell_type": "code",
   "execution_count": 36,
   "metadata": {
    "colab": {
     "base_uri": "https://localhost:8080/"
    },
    "executionInfo": {
     "elapsed": 933,
     "status": "ok",
     "timestamp": 1606845733956,
     "user": {
      "displayName": "WALLACE DUARTE DE HOLANDA",
      "photoUrl": "https://lh3.googleusercontent.com/a-/AOh14GgeWMOt53non50jDB5bIAwurrZleD5e6T7yfR9w=s64",
      "userId": "03474631865123362594"
     },
     "user_tz": 180
    },
    "id": "Rc6CyvoTXbtW",
    "outputId": "ad8899f2-02ad-4e19-832e-ce97145d4fb5"
   },
   "outputs": [
    {
     "data": {
      "text/plain": [
       "(1137, 165)"
      ]
     },
     "execution_count": 36,
     "metadata": {},
     "output_type": "execute_result"
    }
   ],
   "source": [
    "#Visualizando as novas dimensões dos novos dados\n",
    "newData.shape"
   ]
  },
  {
   "cell_type": "code",
   "execution_count": 37,
   "metadata": {
    "id": "Ykv1O0EsXbtd"
   },
   "outputs": [
    {
     "data": {
      "text/html": [
       "<div>\n",
       "<style scoped>\n",
       "    .dataframe tbody tr th:only-of-type {\n",
       "        vertical-align: middle;\n",
       "    }\n",
       "\n",
       "    .dataframe tbody tr th {\n",
       "        vertical-align: top;\n",
       "    }\n",
       "\n",
       "    .dataframe thead th {\n",
       "        text-align: right;\n",
       "    }\n",
       "</style>\n",
       "<table border=\"1\" class=\"dataframe\">\n",
       "  <thead>\n",
       "    <tr style=\"text-align: right;\">\n",
       "      <th></th>\n",
       "      <th>NU_NOTIFIC</th>\n",
       "      <th>DT_NOTIFIC</th>\n",
       "      <th>SEM_NOT</th>\n",
       "      <th>DT_SIN_PRI</th>\n",
       "      <th>SEM_PRI</th>\n",
       "      <th>SG_UF_NOT</th>\n",
       "      <th>ID_REGIONA</th>\n",
       "      <th>CO_REGIONA</th>\n",
       "      <th>ID_MUNICIP</th>\n",
       "      <th>CO_MUN_NOT</th>\n",
       "      <th>...</th>\n",
       "      <th>DS_AN_OUT</th>\n",
       "      <th>TP_AM_SOR</th>\n",
       "      <th>SOR_OUT</th>\n",
       "      <th>DT_CO_SOR</th>\n",
       "      <th>TP_SOR</th>\n",
       "      <th>OUT_SOR</th>\n",
       "      <th>DT_RES</th>\n",
       "      <th>RES_IGG</th>\n",
       "      <th>RES_IGM</th>\n",
       "      <th>RES_IGA</th>\n",
       "    </tr>\n",
       "  </thead>\n",
       "  <tbody>\n",
       "    <tr>\n",
       "      <th>0</th>\n",
       "      <td>315843770177</td>\n",
       "      <td>2020-03-11</td>\n",
       "      <td>11</td>\n",
       "      <td>2020-03-08</td>\n",
       "      <td>11</td>\n",
       "      <td>RN</td>\n",
       "      <td>II URSAP</td>\n",
       "      <td>1412</td>\n",
       "      <td>MOSSORO</td>\n",
       "      <td>240800</td>\n",
       "      <td>...</td>\n",
       "      <td>NaN</td>\n",
       "      <td>0</td>\n",
       "      <td>NaN</td>\n",
       "      <td>NaT</td>\n",
       "      <td>0</td>\n",
       "      <td>NaN</td>\n",
       "      <td>NaT</td>\n",
       "      <td>NaN</td>\n",
       "      <td>NaN</td>\n",
       "      <td>NaN</td>\n",
       "    </tr>\n",
       "    <tr>\n",
       "      <th>1</th>\n",
       "      <td>315852258039</td>\n",
       "      <td>2020-03-20</td>\n",
       "      <td>12</td>\n",
       "      <td>2020-03-20</td>\n",
       "      <td>12</td>\n",
       "      <td>SP</td>\n",
       "      <td>GVE I CAPITAL</td>\n",
       "      <td>1331</td>\n",
       "      <td>SAO PAULO</td>\n",
       "      <td>355030</td>\n",
       "      <td>...</td>\n",
       "      <td>NaN</td>\n",
       "      <td>0</td>\n",
       "      <td>NaN</td>\n",
       "      <td>NaT</td>\n",
       "      <td>0</td>\n",
       "      <td>NaN</td>\n",
       "      <td>NaT</td>\n",
       "      <td>NaN</td>\n",
       "      <td>NaN</td>\n",
       "      <td>NaN</td>\n",
       "    </tr>\n",
       "    <tr>\n",
       "      <th>2</th>\n",
       "      <td>315856537361</td>\n",
       "      <td>2020-03-16</td>\n",
       "      <td>12</td>\n",
       "      <td>2020-03-11</td>\n",
       "      <td>11</td>\n",
       "      <td>CE</td>\n",
       "      <td>1 CRES FORTALEZA</td>\n",
       "      <td>1519</td>\n",
       "      <td>FORTALEZA</td>\n",
       "      <td>230440</td>\n",
       "      <td>...</td>\n",
       "      <td>NaN</td>\n",
       "      <td>0</td>\n",
       "      <td>NaN</td>\n",
       "      <td>NaT</td>\n",
       "      <td>0</td>\n",
       "      <td>NaN</td>\n",
       "      <td>NaT</td>\n",
       "      <td>NaN</td>\n",
       "      <td>NaN</td>\n",
       "      <td>NaN</td>\n",
       "    </tr>\n",
       "    <tr>\n",
       "      <th>3</th>\n",
       "      <td>315863608860</td>\n",
       "      <td>2020-04-08</td>\n",
       "      <td>15</td>\n",
       "      <td>2020-03-20</td>\n",
       "      <td>12</td>\n",
       "      <td>CE</td>\n",
       "      <td>1 CRES FORTALEZA</td>\n",
       "      <td>1519</td>\n",
       "      <td>FORTALEZA</td>\n",
       "      <td>230440</td>\n",
       "      <td>...</td>\n",
       "      <td>NaN</td>\n",
       "      <td>0</td>\n",
       "      <td>NaN</td>\n",
       "      <td>NaT</td>\n",
       "      <td>0</td>\n",
       "      <td>NaN</td>\n",
       "      <td>NaT</td>\n",
       "      <td>NaN</td>\n",
       "      <td>NaN</td>\n",
       "      <td>NaN</td>\n",
       "    </tr>\n",
       "    <tr>\n",
       "      <th>4</th>\n",
       "      <td>315863711481</td>\n",
       "      <td>2020-03-18</td>\n",
       "      <td>12</td>\n",
       "      <td>2020-03-03</td>\n",
       "      <td>10</td>\n",
       "      <td>RN</td>\n",
       "      <td>II URSAP</td>\n",
       "      <td>1412</td>\n",
       "      <td>MOSSORO</td>\n",
       "      <td>240800</td>\n",
       "      <td>...</td>\n",
       "      <td>NaN</td>\n",
       "      <td>0</td>\n",
       "      <td>NaN</td>\n",
       "      <td>NaT</td>\n",
       "      <td>0</td>\n",
       "      <td>NaN</td>\n",
       "      <td>NaT</td>\n",
       "      <td>NaN</td>\n",
       "      <td>NaN</td>\n",
       "      <td>NaN</td>\n",
       "    </tr>\n",
       "    <tr>\n",
       "      <th>...</th>\n",
       "      <td>...</td>\n",
       "      <td>...</td>\n",
       "      <td>...</td>\n",
       "      <td>...</td>\n",
       "      <td>...</td>\n",
       "      <td>...</td>\n",
       "      <td>...</td>\n",
       "      <td>...</td>\n",
       "      <td>...</td>\n",
       "      <td>...</td>\n",
       "      <td>...</td>\n",
       "      <td>...</td>\n",
       "      <td>...</td>\n",
       "      <td>...</td>\n",
       "      <td>...</td>\n",
       "      <td>...</td>\n",
       "      <td>...</td>\n",
       "      <td>...</td>\n",
       "      <td>...</td>\n",
       "      <td>...</td>\n",
       "      <td>...</td>\n",
       "    </tr>\n",
       "    <tr>\n",
       "      <th>1182</th>\n",
       "      <td>316116889978</td>\n",
       "      <td>2021-01-14</td>\n",
       "      <td>2</td>\n",
       "      <td>2020-12-31</td>\n",
       "      <td>53</td>\n",
       "      <td>RN</td>\n",
       "      <td>II URSAP</td>\n",
       "      <td>1412</td>\n",
       "      <td>MOSSORO</td>\n",
       "      <td>240800</td>\n",
       "      <td>...</td>\n",
       "      <td>NaN</td>\n",
       "      <td>0</td>\n",
       "      <td>NaN</td>\n",
       "      <td>NaT</td>\n",
       "      <td>0</td>\n",
       "      <td>NaN</td>\n",
       "      <td>NaT</td>\n",
       "      <td>NaN</td>\n",
       "      <td>NaN</td>\n",
       "      <td>NaN</td>\n",
       "    </tr>\n",
       "    <tr>\n",
       "      <th>1183</th>\n",
       "      <td>316118533677</td>\n",
       "      <td>2021-01-05</td>\n",
       "      <td>1</td>\n",
       "      <td>2020-12-20</td>\n",
       "      <td>52</td>\n",
       "      <td>RN</td>\n",
       "      <td>II URSAP</td>\n",
       "      <td>1412</td>\n",
       "      <td>MOSSORO</td>\n",
       "      <td>240800</td>\n",
       "      <td>...</td>\n",
       "      <td>NaN</td>\n",
       "      <td>1</td>\n",
       "      <td>NaN</td>\n",
       "      <td>2021-01-05</td>\n",
       "      <td>3</td>\n",
       "      <td>NaN</td>\n",
       "      <td>2021-01-06</td>\n",
       "      <td>2.0</td>\n",
       "      <td>2.0</td>\n",
       "      <td>NaN</td>\n",
       "    </tr>\n",
       "    <tr>\n",
       "      <th>1184</th>\n",
       "      <td>316118592075</td>\n",
       "      <td>2021-01-01</td>\n",
       "      <td>53</td>\n",
       "      <td>2020-12-26</td>\n",
       "      <td>52</td>\n",
       "      <td>RN</td>\n",
       "      <td>II URSAP</td>\n",
       "      <td>1412</td>\n",
       "      <td>MOSSORO</td>\n",
       "      <td>240800</td>\n",
       "      <td>...</td>\n",
       "      <td>NaN</td>\n",
       "      <td>0</td>\n",
       "      <td>NaN</td>\n",
       "      <td>NaT</td>\n",
       "      <td>0</td>\n",
       "      <td>NaN</td>\n",
       "      <td>NaT</td>\n",
       "      <td>NaN</td>\n",
       "      <td>NaN</td>\n",
       "      <td>NaN</td>\n",
       "    </tr>\n",
       "    <tr>\n",
       "      <th>1185</th>\n",
       "      <td>316119458662</td>\n",
       "      <td>2021-01-08</td>\n",
       "      <td>1</td>\n",
       "      <td>2020-12-26</td>\n",
       "      <td>52</td>\n",
       "      <td>RN</td>\n",
       "      <td>II URSAP</td>\n",
       "      <td>1412</td>\n",
       "      <td>MOSSORO</td>\n",
       "      <td>240800</td>\n",
       "      <td>...</td>\n",
       "      <td>NaN</td>\n",
       "      <td>0</td>\n",
       "      <td>NaN</td>\n",
       "      <td>NaT</td>\n",
       "      <td>0</td>\n",
       "      <td>NaN</td>\n",
       "      <td>NaT</td>\n",
       "      <td>NaN</td>\n",
       "      <td>NaN</td>\n",
       "      <td>NaN</td>\n",
       "    </tr>\n",
       "    <tr>\n",
       "      <th>1186</th>\n",
       "      <td>316119463775</td>\n",
       "      <td>2021-01-11</td>\n",
       "      <td>2</td>\n",
       "      <td>2020-12-30</td>\n",
       "      <td>53</td>\n",
       "      <td>RN</td>\n",
       "      <td>II URSAP</td>\n",
       "      <td>1412</td>\n",
       "      <td>MOSSORO</td>\n",
       "      <td>240800</td>\n",
       "      <td>...</td>\n",
       "      <td>NaN</td>\n",
       "      <td>1</td>\n",
       "      <td>NaN</td>\n",
       "      <td>2021-01-11</td>\n",
       "      <td>3</td>\n",
       "      <td>NaN</td>\n",
       "      <td>2021-01-15</td>\n",
       "      <td>1.0</td>\n",
       "      <td>1.0</td>\n",
       "      <td>NaN</td>\n",
       "    </tr>\n",
       "  </tbody>\n",
       "</table>\n",
       "<p>1137 rows × 165 columns</p>\n",
       "</div>"
      ],
      "text/plain": [
       "        NU_NOTIFIC DT_NOTIFIC  SEM_NOT DT_SIN_PRI  SEM_PRI SG_UF_NOT  \\\n",
       "0     315843770177 2020-03-11       11 2020-03-08       11        RN   \n",
       "1     315852258039 2020-03-20       12 2020-03-20       12        SP   \n",
       "2     315856537361 2020-03-16       12 2020-03-11       11        CE   \n",
       "3     315863608860 2020-04-08       15 2020-03-20       12        CE   \n",
       "4     315863711481 2020-03-18       12 2020-03-03       10        RN   \n",
       "...            ...        ...      ...        ...      ...       ...   \n",
       "1182  316116889978 2021-01-14        2 2020-12-31       53        RN   \n",
       "1183  316118533677 2021-01-05        1 2020-12-20       52        RN   \n",
       "1184  316118592075 2021-01-01       53 2020-12-26       52        RN   \n",
       "1185  316119458662 2021-01-08        1 2020-12-26       52        RN   \n",
       "1186  316119463775 2021-01-11        2 2020-12-30       53        RN   \n",
       "\n",
       "            ID_REGIONA  CO_REGIONA ID_MUNICIP  CO_MUN_NOT  ... DS_AN_OUT  \\\n",
       "0             II URSAP        1412    MOSSORO      240800  ...       NaN   \n",
       "1        GVE I CAPITAL        1331  SAO PAULO      355030  ...       NaN   \n",
       "2     1 CRES FORTALEZA        1519  FORTALEZA      230440  ...       NaN   \n",
       "3     1 CRES FORTALEZA        1519  FORTALEZA      230440  ...       NaN   \n",
       "4             II URSAP        1412    MOSSORO      240800  ...       NaN   \n",
       "...                ...         ...        ...         ...  ...       ...   \n",
       "1182          II URSAP        1412    MOSSORO      240800  ...       NaN   \n",
       "1183          II URSAP        1412    MOSSORO      240800  ...       NaN   \n",
       "1184          II URSAP        1412    MOSSORO      240800  ...       NaN   \n",
       "1185          II URSAP        1412    MOSSORO      240800  ...       NaN   \n",
       "1186          II URSAP        1412    MOSSORO      240800  ...       NaN   \n",
       "\n",
       "      TP_AM_SOR SOR_OUT  DT_CO_SOR  TP_SOR  OUT_SOR     DT_RES  RES_IGG  \\\n",
       "0             0     NaN        NaT       0      NaN        NaT      NaN   \n",
       "1             0     NaN        NaT       0      NaN        NaT      NaN   \n",
       "2             0     NaN        NaT       0      NaN        NaT      NaN   \n",
       "3             0     NaN        NaT       0      NaN        NaT      NaN   \n",
       "4             0     NaN        NaT       0      NaN        NaT      NaN   \n",
       "...         ...     ...        ...     ...      ...        ...      ...   \n",
       "1182          0     NaN        NaT       0      NaN        NaT      NaN   \n",
       "1183          1     NaN 2021-01-05       3      NaN 2021-01-06      2.0   \n",
       "1184          0     NaN        NaT       0      NaN        NaT      NaN   \n",
       "1185          0     NaN        NaT       0      NaN        NaT      NaN   \n",
       "1186          1     NaN 2021-01-11       3      NaN 2021-01-15      1.0   \n",
       "\n",
       "      RES_IGM  RES_IGA  \n",
       "0         NaN      NaN  \n",
       "1         NaN      NaN  \n",
       "2         NaN      NaN  \n",
       "3         NaN      NaN  \n",
       "4         NaN      NaN  \n",
       "...       ...      ...  \n",
       "1182      NaN      NaN  \n",
       "1183      2.0      NaN  \n",
       "1184      NaN      NaN  \n",
       "1185      NaN      NaN  \n",
       "1186      1.0      NaN  \n",
       "\n",
       "[1137 rows x 165 columns]"
      ]
     },
     "execution_count": 37,
     "metadata": {},
     "output_type": "execute_result"
    }
   ],
   "source": [
    "#Imprimindo o novo dataset\n",
    "newData"
   ]
  },
  {
   "cell_type": "code",
   "execution_count": 38,
   "metadata": {
    "colab": {
     "base_uri": "https://localhost:8080/"
    },
    "executionInfo": {
     "elapsed": 943,
     "status": "ok",
     "timestamp": 1606845737145,
     "user": {
      "displayName": "WALLACE DUARTE DE HOLANDA",
      "photoUrl": "https://lh3.googleusercontent.com/a-/AOh14GgeWMOt53non50jDB5bIAwurrZleD5e6T7yfR9w=s64",
      "userId": "03474631865123362594"
     },
     "user_tz": 180
    },
    "id": "11JoImaGbEI4",
    "outputId": "4ca08867-d495-4338-b536-89cd73b22a4f"
   },
   "outputs": [
    {
     "name": "stdout",
     "output_type": "stream",
     "text": [
      "NU_NOTIFIC       0\n",
      "DT_NOTIFIC       0\n",
      "SEM_NOT          0\n",
      "DT_SIN_PRI       0\n",
      "SEM_PRI          0\n",
      "              ... \n",
      "OUT_SOR       1136\n",
      "DT_RES         997\n",
      "RES_IGG        983\n",
      "RES_IGM        979\n",
      "RES_IGA       1120\n",
      "Length: 165, dtype: int64\n"
     ]
    }
   ],
   "source": [
    "novosFaltantes = newData.isnull().sum()\n",
    "print(novosFaltantes)"
   ]
  },
  {
   "cell_type": "code",
   "execution_count": 40,
   "metadata": {},
   "outputs": [
    {
     "data": {
      "text/plain": [
       "1.0    656\n",
       "2.0    479\n",
       "9.0      2\n",
       "Name: UTI, dtype: int64"
      ]
     },
     "execution_count": 40,
     "metadata": {},
     "output_type": "execute_result"
    }
   ],
   "source": [
    "newData[alvo].value_counts()"
   ]
  },
  {
   "cell_type": "code",
   "execution_count": 41,
   "metadata": {
    "executionInfo": {
     "elapsed": 939,
     "status": "ok",
     "timestamp": 1606845739033,
     "user": {
      "displayName": "WALLACE DUARTE DE HOLANDA",
      "photoUrl": "https://lh3.googleusercontent.com/a-/AOh14GgeWMOt53non50jDB5bIAwurrZleD5e6T7yfR9w=s64",
      "userId": "03474631865123362594"
     },
     "user_tz": 180
    },
    "id": "eRjMptrqXbt2"
   },
   "outputs": [
    {
     "data": {
      "text/plain": [
       "1.0    656\n",
       "2.0    479\n",
       "Name: UTI, dtype: int64"
      ]
     },
     "execution_count": 41,
     "metadata": {},
     "output_type": "execute_result"
    }
   ],
   "source": [
    "#Verificando quantos casos foram óbitos e recuperados\n",
    "# alvo = 'EVOLUCAO'\n",
    "# newDData = newData.drop(newData[newData[alvo]== 3].index);\n",
    "\n",
    "newDData = newData.drop(newData[newData[alvo] == 9].index);\n",
    "newDData[alvo].value_counts()\n",
    "\n",
    "#newData['EVOLUCAO'].value_counts()\n",
    "#print(newDData.shape)\n",
    "#newDData.value_counts()\n",
    "\n",
    "#newDData['EVOLUCAO'].replace(1, 'OBITO', inplace = True);"
   ]
  },
  {
   "cell_type": "code",
   "execution_count": 42,
   "metadata": {
    "colab": {
     "base_uri": "https://localhost:8080/"
    },
    "executionInfo": {
     "elapsed": 911,
     "status": "ok",
     "timestamp": 1606845741733,
     "user": {
      "displayName": "WALLACE DUARTE DE HOLANDA",
      "photoUrl": "https://lh3.googleusercontent.com/a-/AOh14GgeWMOt53non50jDB5bIAwurrZleD5e6T7yfR9w=s64",
      "userId": "03474631865123362594"
     },
     "user_tz": 180
    },
    "id": "eJXSQLn-SYGo",
    "outputId": "247b8c7c-8570-4d82-f4ac-1ebd2639624f"
   },
   "outputs": [
    {
     "data": {
      "text/plain": [
       "(1120, 165)"
      ]
     },
     "execution_count": 42,
     "metadata": {},
     "output_type": "execute_result"
    }
   ],
   "source": [
    "#Eliminando os atributos vazios\n",
    "covidNewData = newDData.loc[newDData['CLASSI_FIN'].notnull()]\n",
    "covidNewData.shape"
   ]
  },
  {
   "cell_type": "code",
   "execution_count": 43,
   "metadata": {},
   "outputs": [
    {
     "data": {
      "text/plain": [
       "5.0    762\n",
       "4.0    350\n",
       "1.0      3\n",
       "3.0      3\n",
       "2.0      2\n",
       "Name: CLASSI_FIN, dtype: int64"
      ]
     },
     "execution_count": 43,
     "metadata": {},
     "output_type": "execute_result"
    }
   ],
   "source": [
    "covidNewData['CLASSI_FIN'].value_counts()"
   ]
  },
  {
   "cell_type": "code",
   "execution_count": 13,
   "metadata": {
    "executionInfo": {
     "elapsed": 901,
     "status": "ok",
     "timestamp": 1606845744318,
     "user": {
      "displayName": "WALLACE DUARTE DE HOLANDA",
      "photoUrl": "https://lh3.googleusercontent.com/a-/AOh14GgeWMOt53non50jDB5bIAwurrZleD5e6T7yfR9w=s64",
      "userId": "03474631865123362594"
     },
     "user_tz": 180
    },
    "id": "KvmI5QyjTNKZ"
   },
   "outputs": [],
   "source": [
    "#Calculando os vazios\n",
    "#attributes = [\"CS_SEXO\", \"NU_IDADE_N\", \"CS_RACA\", \"SURTO_SG\", \"FEBRE\", \"TOSSE\", \"GARGANTA\", \n",
    "#              \"DISPNEIA\", \"DESC_RESP\", \"SATURACAO\", \"DIARREIA\",\"VOMITO\", \"PUERPERA\", \"CARDIOPATI\", \n",
    "#              \"HEMATOLOGI\", \"SIND_DOWN\", \"HEPATICA\", \"ASMA\", \"DIABETES\", \"NEUROLOGIC\",\t\"PNEUMOPATI\",\n",
    "#              \"IMUNODEPRE\", \"RENAL\",\t\"OBESIDADE\", \"UTI\", \"SUPORT_VEN\", \"CLASSI_FIN\", \"FATOR_RISC\", \"EVOLUCAO\"]\n",
    "#newData = covidNewData[attributes]\n",
    "#dados_faltantes = newData.isnull().sum()\n",
    "#covidNewData['CLASSI_FIN']\n",
    "#dados_faltantes"
   ]
  },
  {
   "cell_type": "code",
   "execution_count": 44,
   "metadata": {
    "colab": {
     "base_uri": "https://localhost:8080/"
    },
    "executionInfo": {
     "elapsed": 883,
     "status": "ok",
     "timestamp": 1606845757135,
     "user": {
      "displayName": "WALLACE DUARTE DE HOLANDA",
      "photoUrl": "https://lh3.googleusercontent.com/a-/AOh14GgeWMOt53non50jDB5bIAwurrZleD5e6T7yfR9w=s64",
      "userId": "03474631865123362594"
     },
     "user_tz": 180
    },
    "id": "gokpbfOhL4jD",
    "outputId": "42827157-6744-4a87-8314-4dca478256ac"
   },
   "outputs": [
    {
     "data": {
      "text/plain": [
       "2.0    118\n",
       "1.0     53\n",
       "Name: RENAL, dtype: int64"
      ]
     },
     "execution_count": 44,
     "metadata": {},
     "output_type": "execute_result"
    }
   ],
   "source": [
    "# Imprimindo os valores de Problema Renal\n",
    "covidNewData.RENAL.value_counts()"
   ]
  },
  {
   "cell_type": "code",
   "execution_count": 45,
   "metadata": {},
   "outputs": [
    {
     "name": "stderr",
     "output_type": "stream",
     "text": [
      "/home/wallece/.local/lib/python3.8/site-packages/pandas/core/indexing.py:1817: SettingWithCopyWarning: \n",
      "A value is trying to be set on a copy of a slice from a DataFrame.\n",
      "Try using .loc[row_indexer,col_indexer] = value instead\n",
      "\n",
      "See the caveats in the documentation: https://pandas.pydata.org/pandas-docs/stable/user_guide/indexing.html#returning-a-view-versus-a-copy\n",
      "  self._setitem_single_column(loc, value, pi)\n"
     ]
    },
    {
     "data": {
      "text/plain": [
       "2.0    424\n",
       "1.0     53\n",
       "Name: RENAL, dtype: int64"
      ]
     },
     "execution_count": 45,
     "metadata": {},
     "output_type": "execute_result"
    }
   ],
   "source": [
    "# Substituindo o valor das comorbidades\n",
    "covidNewData.loc[covidNewData.FATOR_RISC == 2, [\"PUERPERA\", \"CARDIOPATI\", \"HEMATOLOGI\",\n",
    "            \"SIND_DOWN\", \"HEPATICA\", \"ASMA\",\"DIABETES\", \"NEUROLOGIC\", \"PNEUMOPATI\",\n",
    "            \"IMUNODEPRE\", \"RENAL\", \"OBESIDADE\"]] = 2;\n",
    "covidNewData.RENAL.value_counts()"
   ]
  },
  {
   "cell_type": "code",
   "execution_count": 46,
   "metadata": {},
   "outputs": [
    {
     "data": {
      "text/plain": [
       "(1120, 165)"
      ]
     },
     "execution_count": 46,
     "metadata": {},
     "output_type": "execute_result"
    }
   ],
   "source": [
    "covidNewData.shape"
   ]
  }
 ],
 "metadata": {
  "colab": {
   "collapsed_sections": [],
   "name": "processamentoDados.ipynb",
   "provenance": [
    {
     "file_id": "14gNqQLvSBxac92pENTV2WFH8c9x6nI_I",
     "timestamp": 1605384432884
    }
   ]
  },
  "kernelspec": {
   "display_name": "Python 3 (ipykernel)",
   "language": "python",
   "name": "python3"
  },
  "language_info": {
   "codemirror_mode": {
    "name": "ipython",
    "version": 3
   },
   "file_extension": ".py",
   "mimetype": "text/x-python",
   "name": "python",
   "nbconvert_exporter": "python",
   "pygments_lexer": "ipython3",
   "version": "3.8.10"
  }
 },
 "nbformat": 4,
 "nbformat_minor": 1
}
