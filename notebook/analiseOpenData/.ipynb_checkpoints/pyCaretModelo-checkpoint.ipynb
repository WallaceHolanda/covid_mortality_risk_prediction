{
 "cells": [
  {
   "cell_type": "code",
   "execution_count": null,
   "id": "67b30a16",
   "metadata": {},
   "outputs": [],
   "source": [
    "# Para a correta execução do notebook será necessário instalar a biblioteca PyCaret\n",
    "# pip install pycaret\n",
    "# pip install openpyxl (Caso ocorra problema na leitura da base de dados)\n",
    "# Tutorial: https://www.youtube.com/watch?v=88jD1nnkNfM&ab_channel=Let%27sData\n",
    "# Site: https://www.learndatasci.com/tutorials/introduction-pycaret-machine-learning/\n",
    "# !pip install pandas\n",
    "\n",
    "#!pip install --upgrade pip\n",
    "#!pip install openpyxl\n",
    "#!pip install pycaret\n",
    "#!pip install import-ipynb\n",
    "#!pip install shap\n",
    "#!pip install scikit-learn==0.23.2"
   ]
  },
  {
   "cell_type": "code",
   "execution_count": 1,
   "id": "52616adb",
   "metadata": {},
   "outputs": [],
   "source": [
    "from pycaret.classification import *\n",
    "\n",
    "import pandas as pd\n",
    "import numpy as np\n",
    "import matplotlib.pyplot as plt\n",
    "import seaborn as sns\n",
    "\n",
    "#import import_ipynb\n",
    "#import modelofuncoes as mf"
   ]
  },
  {
   "cell_type": "code",
   "execution_count": 2,
   "id": "ea1a6c5d",
   "metadata": {},
   "outputs": [
    {
     "data": {
      "text/plain": [
       "'0.23.2'"
      ]
     },
     "execution_count": 2,
     "metadata": {},
     "output_type": "execute_result"
    }
   ],
   "source": [
    "import sklearn\n",
    "sklearn.__version__"
   ]
  },
  {
   "cell_type": "code",
   "execution_count": 2,
   "id": "605dcd93",
   "metadata": {},
   "outputs": [
    {
     "data": {
      "text/plain": [
       "(12386, 25)"
      ]
     },
     "execution_count": 2,
     "metadata": {},
     "output_type": "execute_result"
    }
   ],
   "source": [
    "#covidData = pd.read_excel(\"../database/novosDados/balanceados/balanceados_70_30_Jan2021.xlsx\")\n",
    "\n",
    "urlBase = \"Vacinas/Regioes/OC/oc-vacina-6040-sudeste.xlsx\"\n",
    "\n",
    "#urlBase = 'ic-vacina-7030-sp-v2.xlsx'\n",
    "alvo = 'evolucaoCaso'\n",
    "\n",
    "covidData = pd.read_excel(urlBase)\n",
    "covidData.shape\n",
    "\n",
    "#covidData = mf.juntarLotes('7030', True)\n",
    "#covidData[alvo].value_counts()"
   ]
  },
  {
   "cell_type": "code",
   "execution_count": 3,
   "id": "9e78309b",
   "metadata": {
    "scrolled": true
   },
   "outputs": [
    {
     "data": {
      "text/plain": [
       "(12386, 15)"
      ]
     },
     "execution_count": 3,
     "metadata": {},
     "output_type": "execute_result"
    }
   ],
   "source": [
    "#colunasRemovidas = ['disturbiosOlfativos', 'disturbiosGustatorios', 'puerpera', 'fragilidadeImuno', \n",
    "#                    'gestante', 'obesidade', 'dataPrimeiraDose', 'dataSegundaDose']\n",
    "\n",
    "## Teste 2\n",
    "#colunasRemovidas = ['dataPrimeiraDose', 'dataSegundaDose']\n",
    "\n",
    "\n",
    "## Teste 3 (Melhor)\n",
    "colunasRemovidas = ['disturbiosOlfativos', 'disturbiosGustatorios', 'puerpera', 'fragilidadeImuno', \n",
    "                    'assintomatico', 'dataPrimeiraDose', 'dataSegundaDose', 'obesidade', 'renal', 'respiratoria']\n",
    "\n",
    "## Teste 4\n",
    "#colunasRemovidas = ['disturbiosOlfativos', 'disturbiosGustatorios', 'puerpera', 'fragilidadeImuno', \n",
    "#                    'assintomatico', 'dataPrimeiraDose', 'dataSegundaDose', 'renal', 'obesidade']\n",
    "\n",
    "## Teste 5\n",
    "#colunasRemovidas = ['disturbiosOlfativos', 'disturbiosGustatorios', 'puerpera', 'fragilidadeImuno', \n",
    "#                    'assintomatico', 'dataPrimeiraDose', 'dataSegundaDose', 'renal', 'obesidade', 'gestante', \n",
    "#                    'respiratoria']\n",
    "\n",
    "covidData = covidData.drop(columns = colunasRemovidas)\n",
    "covidData.shape"
   ]
  },
  {
   "cell_type": "code",
   "execution_count": 4,
   "id": "a0f57060",
   "metadata": {},
   "outputs": [
    {
     "data": {
      "text/plain": [
       "Index(['sexo', 'racaCor', 'evolucaoCaso', 'febre', 'dorDeGarganta', 'dispneia',\n",
       "       'tosse', 'coriza', 'dorDeCabeca', 'diabetes', 'imunossupressao',\n",
       "       'gestante', 'cardiaca', 'faixaetaria', 'qntVacinas'],\n",
       "      dtype='object')"
      ]
     },
     "execution_count": 4,
     "metadata": {},
     "output_type": "execute_result"
    }
   ],
   "source": [
    "covidData.columns"
   ]
  },
  {
   "cell_type": "code",
   "execution_count": null,
   "id": "f741161f",
   "metadata": {},
   "outputs": [],
   "source": [
    "# covidData.dtypes"
   ]
  },
  {
   "cell_type": "code",
   "execution_count": 1,
   "id": "3f2ad992",
   "metadata": {
    "scrolled": true
   },
   "outputs": [],
   "source": [
    "# setup_classificao = setup(data = covidData, target = alvo, train_size=0.7)\n",
    "# profile=True"
   ]
  },
  {
   "cell_type": "code",
   "execution_count": null,
   "id": "72de71b5",
   "metadata": {},
   "outputs": [],
   "source": [
    "# get_config('X')"
   ]
  },
  {
   "cell_type": "code",
   "execution_count": null,
   "id": "b141c9be",
   "metadata": {
    "scrolled": true
   },
   "outputs": [],
   "source": [
    "melhores_modelos = compare_models(n_select= 20)"
   ]
  },
  {
   "cell_type": "code",
   "execution_count": null,
   "id": "588cc7dd",
   "metadata": {},
   "outputs": [],
   "source": [
    "melhores_modelos[0]"
   ]
  },
  {
   "cell_type": "code",
   "execution_count": null,
   "id": "10125b4f",
   "metadata": {},
   "outputs": [],
   "source": [
    "modelo_tunado = tune_model(melhores_modelos[0])"
   ]
  },
  {
   "cell_type": "code",
   "execution_count": null,
   "id": "8d5f2dea",
   "metadata": {},
   "outputs": [],
   "source": [
    "modelo_tunado\n",
    "#modelo_final = finalize_model(random_forest_tunado)"
   ]
  },
  {
   "cell_type": "markdown",
   "id": "816feb19",
   "metadata": {},
   "source": [
    "# Usando o Feature Selection"
   ]
  },
  {
   "cell_type": "code",
   "execution_count": null,
   "id": "0c652f25",
   "metadata": {},
   "outputs": [],
   "source": [
    "#setupFeature = setup(data = covidData, target = 'EVOLUCAO', feature_selection = True)"
   ]
  },
  {
   "cell_type": "code",
   "execution_count": null,
   "id": "7feaf268",
   "metadata": {},
   "outputs": [],
   "source": [
    "#setupFeature\n",
    "#plot_model(melhores_modelos[0], plot='feature')"
   ]
  },
  {
   "cell_type": "code",
   "execution_count": null,
   "id": "9cad5762",
   "metadata": {},
   "outputs": [],
   "source": [
    "#lr = create_model('lr')\n",
    "#plotting a model\n",
    "#plot_model(melhores_modelos[0])"
   ]
  },
  {
   "cell_type": "markdown",
   "id": "4bac065a",
   "metadata": {},
   "source": [
    "## Treinando o melhor modelo\n"
   ]
  },
  {
   "cell_type": "code",
   "execution_count": 6,
   "id": "60e8c6dd",
   "metadata": {},
   "outputs": [
    {
     "data": {
      "text/plain": [
       "(12386, 15)"
      ]
     },
     "execution_count": 6,
     "metadata": {},
     "output_type": "execute_result"
    }
   ],
   "source": [
    "modeloDados = covidData\n",
    "modeloDados.shape\n",
    "#modeloDados = pd.read_excel(urlBase)"
   ]
  },
  {
   "cell_type": "markdown",
   "id": "66224c8f",
   "metadata": {},
   "source": [
    "### Separando os dados (Treinamento e Teste)"
   ]
  },
  {
   "cell_type": "code",
   "execution_count": 7,
   "id": "98b3689e",
   "metadata": {},
   "outputs": [],
   "source": [
    "from sklearn.model_selection import train_test_split\n",
    "x_train, x_test, y_train, y_test = train_test_split(modeloDados.drop(alvo,axis=1),\n",
    "                                                    modeloDados[alvo],\n",
    "                                                    test_size=0.3,\n",
    "                                                    random_state=42);"
   ]
  },
  {
   "cell_type": "markdown",
   "id": "839cccdd",
   "metadata": {},
   "source": [
    "### Escolhendo o Algoritmo"
   ]
  },
  {
   "cell_type": "code",
   "execution_count": 8,
   "id": "4e058578",
   "metadata": {},
   "outputs": [],
   "source": [
    "from sklearn.ensemble import GradientBoostingClassifier\n",
    "modeloClassificador = GradientBoostingClassifier(ccp_alpha=0.0, criterion='friedman_mse', init=None,\n",
    "                           learning_rate=0.1, loss='deviance', max_depth=3,\n",
    "                           max_features=None, max_leaf_nodes=None,\n",
    "                           min_impurity_decrease=0.0, min_impurity_split=None,\n",
    "                           min_samples_leaf=1, min_samples_split=2,\n",
    "                           min_weight_fraction_leaf=0.0, n_estimators=100,\n",
    "                           n_iter_no_change=None, presort='deprecated',\n",
    "                           random_state=2333, subsample=1.0, tol=0.0001,\n",
    "                           validation_fraction=0.1, verbose=0,\n",
    "                           warm_start=False)"
   ]
  },
  {
   "cell_type": "code",
   "execution_count": 9,
   "id": "70f148c9",
   "metadata": {},
   "outputs": [
    {
     "data": {
      "text/plain": [
       "GradientBoostingClassifier(random_state=2333)"
      ]
     },
     "execution_count": 9,
     "metadata": {},
     "output_type": "execute_result"
    }
   ],
   "source": [
    "modeloClassificador"
   ]
  },
  {
   "cell_type": "code",
   "execution_count": null,
   "id": "22c30712",
   "metadata": {},
   "outputs": [],
   "source": [
    "# from sklearn.linear_model import LogisticRegression\n",
    "from sklearn.ensemble import AdaBoostClassifier\n",
    "\n",
    "modeloClassificador = AdaBoostClassifier(algorithm='SAMME.R', base_estimator=None, learning_rate=1.0,\n",
    "                   n_estimators=50, random_state=410)\n",
    "\n"
   ]
  },
  {
   "cell_type": "code",
   "execution_count": null,
   "id": "6771da31",
   "metadata": {},
   "outputs": [],
   "source": [
    "from sklearn.linear_model import LogisticRegression\n",
    "\n",
    "modeloClassificador = LogisticRegression(C=1.0, class_weight=None, dual=False, fit_intercept=True,\n",
    "                   intercept_scaling=1, l1_ratio=None, max_iter=1000,\n",
    "                   multi_class='auto', n_jobs=None, penalty='l2',\n",
    "                   random_state=2576, solver='lbfgs', tol=0.0001, verbose=0,\n",
    "                   warm_start=False)"
   ]
  },
  {
   "cell_type": "code",
   "execution_count": null,
   "id": "a5be6730",
   "metadata": {},
   "outputs": [],
   "source": [
    "from sklearn.ensemble import RandomForestClassifier\n",
    "modeloClassificador = RandomForestClassifier(bootstrap=True, ccp_alpha=0.0, class_weight=None,\n",
    "                       criterion='gini', max_depth=None, max_features='auto',\n",
    "                       max_leaf_nodes=None, max_samples=None,\n",
    "                       min_impurity_decrease=0.0, min_impurity_split=None,\n",
    "                       min_samples_leaf=1, min_samples_split=2,\n",
    "                       min_weight_fraction_leaf=0.0, n_estimators=100,\n",
    "                       n_jobs=-1, oob_score=False, random_state=7374, verbose=0,\n",
    "                       warm_start=False)\n",
    "\n",
    "# modeloClassificador.fit(x_train, y_train)\n"
   ]
  },
  {
   "cell_type": "markdown",
   "id": "0d0895ec",
   "metadata": {},
   "source": [
    "### Desempenho - Acurácia Geral"
   ]
  },
  {
   "cell_type": "code",
   "execution_count": 10,
   "id": "fb4122f9",
   "metadata": {
    "scrolled": true
   },
   "outputs": [
    {
     "name": "stdout",
     "output_type": "stream",
     "text": [
      "0.8482238966630786\n"
     ]
    }
   ],
   "source": [
    "from sklearn.metrics import accuracy_score\n",
    "\n",
    "# Fit nos dados\n",
    "modeloClassificador.fit(x_train, y_train)\n",
    "\n",
    "#Realizando a predição\n",
    "resultado = modeloClassificador.predict(x_test)\n",
    "\n",
    "# Verificando a acurácia\n",
    "print(accuracy_score(y_test, resultado))"
   ]
  },
  {
   "cell_type": "markdown",
   "id": "b7eef3f0",
   "metadata": {},
   "source": [
    "### Desempenho - Cross Validation"
   ]
  },
  {
   "cell_type": "code",
   "execution_count": null,
   "id": "6dc338e1",
   "metadata": {},
   "outputs": [],
   "source": [
    "from sklearn.model_selection import cross_val_score\n",
    "\n",
    "kfolds = 3\n",
    "data, target = modeloDados.drop(columns = [alvo]), modeloDados[alvo]\n",
    "scores = cross_val_score(modeloClassificador, data, target, cv = kfolds, scoring = \"accuracy\") "
   ]
  },
  {
   "cell_type": "code",
   "execution_count": null,
   "id": "e839f750",
   "metadata": {},
   "outputs": [],
   "source": [
    "print(\"Resultado dos k testes\", scores)\n",
    "print(\"Média dos testes\", scores.mean())\n",
    "print(\"Desvio Padrão dos testes\", scores.std())"
   ]
  },
  {
   "cell_type": "markdown",
   "id": "a73c6aa2",
   "metadata": {},
   "source": [
    "### Desempenho - Por Classes"
   ]
  },
  {
   "cell_type": "code",
   "execution_count": null,
   "id": "83f6a99d",
   "metadata": {
    "scrolled": true
   },
   "outputs": [],
   "source": [
    "from sklearn import metrics\n",
    "#print(metrics.classification_report(y_test,resultado))\n",
    "\n",
    "report = metrics.classification_report(y_test,resultado, output_dict=True)\n",
    "df = pd.DataFrame(report).transpose()\n",
    "\n",
    "precisao = round(df.loc['0']['precision'],3) * 100\n",
    "\n",
    "valor = str(precisao) + \"%\"\n",
    "\n",
    "valor\n",
    "\n",
    "df\n",
    "\n",
    "round(df.loc['0']['recall'],3) * 100\n",
    "round(df.loc['0']['f1-score'],3) * 100\n"
   ]
  },
  {
   "cell_type": "markdown",
   "id": "ae8da3bd",
   "metadata": {},
   "source": [
    "### Importância das Features"
   ]
  },
  {
   "cell_type": "code",
   "execution_count": 11,
   "id": "b5b0fae5",
   "metadata": {},
   "outputs": [
    {
     "data": {
      "text/html": [
       "<div>\n",
       "<style scoped>\n",
       "    .dataframe tbody tr th:only-of-type {\n",
       "        vertical-align: middle;\n",
       "    }\n",
       "\n",
       "    .dataframe tbody tr th {\n",
       "        vertical-align: top;\n",
       "    }\n",
       "\n",
       "    .dataframe thead th {\n",
       "        text-align: right;\n",
       "    }\n",
       "</style>\n",
       "<table border=\"1\" class=\"dataframe\">\n",
       "  <thead>\n",
       "    <tr style=\"text-align: right;\">\n",
       "      <th></th>\n",
       "      <th>importance</th>\n",
       "    </tr>\n",
       "  </thead>\n",
       "  <tbody>\n",
       "    <tr>\n",
       "      <th>faixaetaria</th>\n",
       "      <td>0.732516</td>\n",
       "    </tr>\n",
       "    <tr>\n",
       "      <th>dispneia</th>\n",
       "      <td>0.119514</td>\n",
       "    </tr>\n",
       "    <tr>\n",
       "      <th>dorDeGarganta</th>\n",
       "      <td>0.036160</td>\n",
       "    </tr>\n",
       "    <tr>\n",
       "      <th>qntVacinas</th>\n",
       "      <td>0.035694</td>\n",
       "    </tr>\n",
       "    <tr>\n",
       "      <th>coriza</th>\n",
       "      <td>0.017033</td>\n",
       "    </tr>\n",
       "    <tr>\n",
       "      <th>diabetes</th>\n",
       "      <td>0.013898</td>\n",
       "    </tr>\n",
       "    <tr>\n",
       "      <th>dorDeCabeca</th>\n",
       "      <td>0.013474</td>\n",
       "    </tr>\n",
       "    <tr>\n",
       "      <th>cardiaca</th>\n",
       "      <td>0.012857</td>\n",
       "    </tr>\n",
       "    <tr>\n",
       "      <th>imunossupressao</th>\n",
       "      <td>0.008096</td>\n",
       "    </tr>\n",
       "    <tr>\n",
       "      <th>febre</th>\n",
       "      <td>0.003879</td>\n",
       "    </tr>\n",
       "    <tr>\n",
       "      <th>sexo</th>\n",
       "      <td>0.002902</td>\n",
       "    </tr>\n",
       "    <tr>\n",
       "      <th>racaCor</th>\n",
       "      <td>0.002331</td>\n",
       "    </tr>\n",
       "    <tr>\n",
       "      <th>tosse</th>\n",
       "      <td>0.001307</td>\n",
       "    </tr>\n",
       "    <tr>\n",
       "      <th>gestante</th>\n",
       "      <td>0.000339</td>\n",
       "    </tr>\n",
       "  </tbody>\n",
       "</table>\n",
       "</div>"
      ],
      "text/plain": [
       "                 importance\n",
       "faixaetaria        0.732516\n",
       "dispneia           0.119514\n",
       "dorDeGarganta      0.036160\n",
       "qntVacinas         0.035694\n",
       "coriza             0.017033\n",
       "diabetes           0.013898\n",
       "dorDeCabeca        0.013474\n",
       "cardiaca           0.012857\n",
       "imunossupressao    0.008096\n",
       "febre              0.003879\n",
       "sexo               0.002902\n",
       "racaCor            0.002331\n",
       "tosse              0.001307\n",
       "gestante           0.000339"
      ]
     },
     "execution_count": 11,
     "metadata": {},
     "output_type": "execute_result"
    }
   ],
   "source": [
    "# Verificando os melhores dados\n",
    "# from sklearn.ensemble import RandomForestClassifier\n",
    "\n",
    "feature_importances = pd.DataFrame(modeloClassificador.feature_importances_,\n",
    "                                   index = x_train.columns,\n",
    "                                    columns=['importance']).sort_values('importance', ascending=False)\n",
    "feature_importances"
   ]
  },
  {
   "cell_type": "code",
   "execution_count": null,
   "id": "a5ec95dd",
   "metadata": {},
   "outputs": [],
   "source": [
    "importance = modeloClassificador.coef_[0]\n",
    "#importance is a list so you can plot it. \n",
    "feat_importances = pd.Series(importance)\n",
    "feat_importances.nlargest(20).plot(kind='barh',title = 'Feature Importance')"
   ]
  },
  {
   "cell_type": "code",
   "execution_count": null,
   "id": "62c1783c",
   "metadata": {},
   "outputs": [],
   "source": [
    "from sklearn import metrics\n",
    "import matplotlib.pyplot as plt\n",
    "\n",
    "# Fit nos dados\n",
    "modeloClassificador.fit(x_train, y_train)\n",
    "\n",
    "#Realizando a predição\n",
    "resultado = modeloClassificador.predict(x_test)\n",
    "\n",
    "y_pred_proba = modeloClassificador.predict_proba(x_test)[::,1]\n",
    "fpr, tpr, _ = metrics.roc_curve(y_test,  y_pred_proba)\n",
    "auc = metrics.roc_auc_score(y_test, y_pred_proba)\n",
    "plt.plot(fpr,tpr,label=\"data 1, auc=\"+str(auc))\n",
    "plt.legend(loc=4)\n",
    "plt.show()"
   ]
  },
  {
   "cell_type": "code",
   "execution_count": null,
   "id": "2246c6da",
   "metadata": {},
   "outputs": [],
   "source": []
  }
 ],
 "metadata": {
  "kernelspec": {
   "display_name": "Python 3 (ipykernel)",
   "language": "python",
   "name": "python3"
  },
  "language_info": {
   "codemirror_mode": {
    "name": "ipython",
    "version": 3
   },
   "file_extension": ".py",
   "mimetype": "text/x-python",
   "name": "python",
   "nbconvert_exporter": "python",
   "pygments_lexer": "ipython3",
   "version": "3.8.10"
  }
 },
 "nbformat": 4,
 "nbformat_minor": 5
}
