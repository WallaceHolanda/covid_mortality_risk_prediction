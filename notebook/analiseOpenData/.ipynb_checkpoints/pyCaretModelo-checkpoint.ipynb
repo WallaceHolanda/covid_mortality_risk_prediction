{
 "cells": [
  {
   "cell_type": "code",
   "execution_count": null,
   "id": "67b30a16",
   "metadata": {},
   "outputs": [],
   "source": [
    "# Para a correta execução do notebook será necessário instalar a biblioteca PyCaret\n",
    "# pip install pycaret\n",
    "# pip install openpyxl (Caso ocorra problema na leitura da base de dados)\n",
    "# Tutorial: https://www.youtube.com/watch?v=88jD1nnkNfM&ab_channel=Let%27sData\n",
    "# Site: https://www.learndatasci.com/tutorials/introduction-pycaret-machine-learning/\n",
    "# !pip install pandas\n",
    "\n",
    "#!pip install --upgrade pip\n",
    "#!pip install openpyxl\n",
    "#!pip install pycaret\n",
    "#!pip install import-ipynb"
   ]
  },
  {
   "cell_type": "code",
   "execution_count": 2,
   "id": "52616adb",
   "metadata": {},
   "outputs": [
    {
     "name": "stdout",
     "output_type": "stream",
     "text": [
      "importing Jupyter notebook from modelofuncoes.ipynb\n"
     ]
    }
   ],
   "source": [
    "from pycaret.classification import *\n",
    "\n",
    "import pandas as pd\n",
    "import numpy as np\n",
    "import matplotlib.pyplot as plt\n",
    "import seaborn as sns\n",
    "\n",
    "import import_ipynb\n",
    "import modelofuncoes as mf"
   ]
  },
  {
   "cell_type": "code",
   "execution_count": 3,
   "id": "605dcd93",
   "metadata": {},
   "outputs": [
    {
     "data": {
      "text/plain": [
       "(1326, 22)"
      ]
     },
     "execution_count": 3,
     "metadata": {},
     "output_type": "execute_result"
    }
   ],
   "source": [
    "#covidData = pd.read_excel(\"../database/novosDados/balanceados/balanceados_70_30_Jan2021.xlsx\")\n",
    "#urlBase = \"SP/sp-l5-7030-2022.xlsx\"\n",
    "\n",
    "urlBase = \"Inicial/ce-22-7030-2022.xlsx\"\n",
    "alvo = 'evolucaoCaso'\n",
    "\n",
    "covidData = pd.read_excel(urlBase)\n",
    "covidData.shape\n",
    "\n",
    "#covidData = mf.juntarLotes('7030', True)\n",
    "#covidData[alvo].value_counts()"
   ]
  },
  {
   "cell_type": "code",
   "execution_count": 4,
   "id": "9e78309b",
   "metadata": {},
   "outputs": [
    {
     "data": {
      "text/plain": [
       "(1326, 16)"
      ]
     },
     "execution_count": 4,
     "metadata": {},
     "output_type": "execute_result"
    }
   ],
   "source": [
    "colunasRemovidas = [ 'disturbiosOlfativos', 'disturbiosGustatorios', 'puerpera', 'fragilidadeImuno', \n",
    "                    'gestante', 'obesidade']\n",
    "\n",
    "covidData = covidData.drop(columns = colunasRemovidas)\n",
    "covidData.shape"
   ]
  },
  {
   "cell_type": "code",
   "execution_count": null,
   "id": "f741161f",
   "metadata": {},
   "outputs": [],
   "source": [
    "# covidData.dtypes"
   ]
  },
  {
   "cell_type": "code",
   "execution_count": null,
   "id": "3f2ad992",
   "metadata": {
    "scrolled": true
   },
   "outputs": [],
   "source": [
    "setup_classificao = setup(data = covidData, target = alvo, train_size=0.7)"
   ]
  },
  {
   "cell_type": "code",
   "execution_count": null,
   "id": "72de71b5",
   "metadata": {},
   "outputs": [],
   "source": [
    "# get_config('X')"
   ]
  },
  {
   "cell_type": "code",
   "execution_count": null,
   "id": "b141c9be",
   "metadata": {
    "scrolled": true
   },
   "outputs": [],
   "source": [
    "melhores_modelos = compare_models(n_select= 20)"
   ]
  },
  {
   "cell_type": "code",
   "execution_count": null,
   "id": "588cc7dd",
   "metadata": {},
   "outputs": [],
   "source": [
    "melhores_modelos[1]"
   ]
  },
  {
   "cell_type": "code",
   "execution_count": null,
   "id": "10125b4f",
   "metadata": {},
   "outputs": [],
   "source": [
    "modelo_tunado = tune_model(melhores_modelos[1])"
   ]
  },
  {
   "cell_type": "code",
   "execution_count": null,
   "id": "8d5f2dea",
   "metadata": {},
   "outputs": [],
   "source": [
    "#modelo_tunado[1]\n",
    "#modelo_final = finalize_model(random_forest_tunado)"
   ]
  },
  {
   "cell_type": "markdown",
   "id": "816feb19",
   "metadata": {},
   "source": [
    "# Usando o Feature Selection"
   ]
  },
  {
   "cell_type": "code",
   "execution_count": null,
   "id": "0c652f25",
   "metadata": {},
   "outputs": [],
   "source": [
    "#setupFeature = setup(data = covidData, target = 'EVOLUCAO', feature_selection = True)"
   ]
  },
  {
   "cell_type": "code",
   "execution_count": null,
   "id": "7feaf268",
   "metadata": {},
   "outputs": [],
   "source": [
    "#setupFeature\n",
    "#plot_model(melhores_modelos[0], plot='feature')"
   ]
  },
  {
   "cell_type": "code",
   "execution_count": null,
   "id": "9cad5762",
   "metadata": {},
   "outputs": [],
   "source": [
    "#lr = create_model('lr')\n",
    "#plotting a model\n",
    "#plot_model(melhores_modelos[0])"
   ]
  },
  {
   "cell_type": "markdown",
   "id": "4bac065a",
   "metadata": {},
   "source": [
    "## Treinando o melhor modelo\n"
   ]
  },
  {
   "cell_type": "code",
   "execution_count": 5,
   "id": "60e8c6dd",
   "metadata": {},
   "outputs": [
    {
     "data": {
      "text/plain": [
       "(1326, 16)"
      ]
     },
     "execution_count": 5,
     "metadata": {},
     "output_type": "execute_result"
    }
   ],
   "source": [
    "modeloDados = covidData\n",
    "modeloDados.shape\n",
    "#modeloDados = pd.read_excel(urlBase)"
   ]
  },
  {
   "cell_type": "markdown",
   "id": "66224c8f",
   "metadata": {},
   "source": [
    "### Separando os dados (Treinamento e Teste)"
   ]
  },
  {
   "cell_type": "code",
   "execution_count": 6,
   "id": "98b3689e",
   "metadata": {},
   "outputs": [],
   "source": [
    "from sklearn.model_selection import train_test_split\n",
    "x_train, x_test, y_train, y_test = train_test_split(modeloDados.drop(alvo,axis=1),\n",
    "                                                    modeloDados[alvo],\n",
    "                                                    test_size=0.3,\n",
    "                                                    random_state=42);"
   ]
  },
  {
   "cell_type": "markdown",
   "id": "839cccdd",
   "metadata": {},
   "source": [
    "### Escolhendo o Algoritmo"
   ]
  },
  {
   "cell_type": "code",
   "execution_count": null,
   "id": "4e058578",
   "metadata": {},
   "outputs": [],
   "source": [
    "from sklearn.ensemble import GradientBoostingClassifier\n",
    "modeloClassificador = GradientBoostingClassifier(ccp_alpha=0.0, criterion='friedman_mse', init=None,\n",
    "                           learning_rate=0.1, loss='deviance', max_depth=3,\n",
    "                           max_features=None, max_leaf_nodes=None,\n",
    "                           min_impurity_decrease=0.0, min_impurity_split=None,\n",
    "                           min_samples_leaf=1, min_samples_split=2,\n",
    "                           min_weight_fraction_leaf=0.0, n_estimators=100,\n",
    "                           n_iter_no_change=None, presort='deprecated',\n",
    "                           random_state=2333, subsample=1.0, tol=0.0001,\n",
    "                           validation_fraction=0.1, verbose=0,\n",
    "                           warm_start=False)"
   ]
  },
  {
   "cell_type": "code",
   "execution_count": null,
   "id": "22c30712",
   "metadata": {},
   "outputs": [],
   "source": [
    "# from sklearn.linear_model import LogisticRegression\n",
    "from sklearn.ensemble import AdaBoostClassifier\n",
    "\n",
    "modeloClassificador = AdaBoostClassifier(algorithm='SAMME.R', base_estimator=None, learning_rate=1.0,\n",
    "                   n_estimators=50, random_state=410)\n",
    "\n"
   ]
  },
  {
   "cell_type": "code",
   "execution_count": 7,
   "id": "6771da31",
   "metadata": {},
   "outputs": [],
   "source": [
    "from sklearn.linear_model import LogisticRegression\n",
    "\n",
    "modeloClassificador = LogisticRegression(C=1.0, class_weight=None, dual=False, fit_intercept=True,\n",
    "                   intercept_scaling=1, l1_ratio=None, max_iter=1000,\n",
    "                   multi_class='auto', n_jobs=None, penalty='l2',\n",
    "                   random_state=2576, solver='lbfgs', tol=0.0001, verbose=0,\n",
    "                   warm_start=False)"
   ]
  },
  {
   "cell_type": "code",
   "execution_count": null,
   "id": "a5be6730",
   "metadata": {},
   "outputs": [],
   "source": [
    "from sklearn.ensemble import RandomForestClassifier\n",
    "modeloClassificador = RandomForestClassifier(bootstrap=True, ccp_alpha=0.0, class_weight=None,\n",
    "                       criterion='gini', max_depth=None, max_features='auto',\n",
    "                       max_leaf_nodes=None, max_samples=None,\n",
    "                       min_impurity_decrease=0.0, min_impurity_split=None,\n",
    "                       min_samples_leaf=1, min_samples_split=2,\n",
    "                       min_weight_fraction_leaf=0.0, n_estimators=100,\n",
    "                       n_jobs=-1, oob_score=False, random_state=7374, verbose=0,\n",
    "                       warm_start=False)\n",
    "\n",
    "# modeloClassificador.fit(x_train, y_train)\n"
   ]
  },
  {
   "cell_type": "markdown",
   "id": "0d0895ec",
   "metadata": {},
   "source": [
    "### Desempenho - Acurácia Geral"
   ]
  },
  {
   "cell_type": "code",
   "execution_count": 10,
   "id": "fb4122f9",
   "metadata": {},
   "outputs": [
    {
     "name": "stdout",
     "output_type": "stream",
     "text": [
      "0.9020100502512562\n"
     ]
    }
   ],
   "source": [
    "from sklearn.metrics import accuracy_score\n",
    "\n",
    "# Fit nos dados\n",
    "modeloClassificador.fit(x_train, y_train)\n",
    "\n",
    "#Realizando a predição\n",
    "resultado = modeloClassificador.predict(x_test)\n",
    "\n",
    "# Verificando a acurácia\n",
    "print(accuracy_score(y_test, resultado))"
   ]
  },
  {
   "cell_type": "markdown",
   "id": "b7eef3f0",
   "metadata": {},
   "source": [
    "### Desempenho - Cross Validation"
   ]
  },
  {
   "cell_type": "code",
   "execution_count": null,
   "id": "6dc338e1",
   "metadata": {},
   "outputs": [],
   "source": [
    "from sklearn.model_selection import cross_val_score\n",
    "\n",
    "kfolds = 3\n",
    "data, target = modeloDados.drop(columns = [alvo]), modeloDados[alvo]\n",
    "scores = cross_val_score(modeloClassificador, data, target, cv = kfolds, scoring = \"accuracy\") "
   ]
  },
  {
   "cell_type": "code",
   "execution_count": null,
   "id": "e839f750",
   "metadata": {},
   "outputs": [],
   "source": [
    "print(\"Resultado dos k testes\", scores)\n",
    "print(\"Média dos testes\", scores.mean())\n",
    "print(\"Desvio Padrão dos testes\", scores.std())"
   ]
  },
  {
   "cell_type": "markdown",
   "id": "a73c6aa2",
   "metadata": {},
   "source": [
    "### Desempenho - Por Classes"
   ]
  },
  {
   "cell_type": "code",
   "execution_count": null,
   "id": "83f6a99d",
   "metadata": {
    "scrolled": true
   },
   "outputs": [],
   "source": [
    "from sklearn import metrics\n",
    "print(metrics.classification_report(y_test,resultado))"
   ]
  },
  {
   "cell_type": "markdown",
   "id": "ae8da3bd",
   "metadata": {},
   "source": [
    "### Importância das Features"
   ]
  },
  {
   "cell_type": "code",
   "execution_count": 12,
   "id": "b5b0fae5",
   "metadata": {
    "collapsed": true
   },
   "outputs": [
    {
     "ename": "AttributeError",
     "evalue": "'LogisticRegression' object has no attribute 'feature_importances_'",
     "output_type": "error",
     "traceback": [
      "\u001b[0;31m---------------------------------------------------------------------------\u001b[0m",
      "\u001b[0;31mAttributeError\u001b[0m                            Traceback (most recent call last)",
      "\u001b[0;32m/tmp/ipykernel_33494/2757776377.py\u001b[0m in \u001b[0;36m<module>\u001b[0;34m\u001b[0m\n\u001b[1;32m      2\u001b[0m \u001b[0;31m# from sklearn.ensemble import RandomForestClassifier\u001b[0m\u001b[0;34m\u001b[0m\u001b[0;34m\u001b[0m\u001b[0;34m\u001b[0m\u001b[0m\n\u001b[1;32m      3\u001b[0m \u001b[0;34m\u001b[0m\u001b[0m\n\u001b[0;32m----> 4\u001b[0;31m feature_importances = pd.DataFrame(modeloClassificador.feature_importances_,\n\u001b[0m\u001b[1;32m      5\u001b[0m                                    \u001b[0mindex\u001b[0m \u001b[0;34m=\u001b[0m \u001b[0mx_train\u001b[0m\u001b[0;34m.\u001b[0m\u001b[0mcolumns\u001b[0m\u001b[0;34m,\u001b[0m\u001b[0;34m\u001b[0m\u001b[0;34m\u001b[0m\u001b[0m\n\u001b[1;32m      6\u001b[0m                                     columns=['importance']).sort_values('importance', ascending=False)\n",
      "\u001b[0;31mAttributeError\u001b[0m: 'LogisticRegression' object has no attribute 'feature_importances_'"
     ]
    }
   ],
   "source": [
    "# Verificando os melhores dados\n",
    "# from sklearn.ensemble import RandomForestClassifier\n",
    "\n",
    "feature_importances = pd.DataFrame(modeloClassificador.feature_importances_,\n",
    "                                   index = x_train.columns,\n",
    "                                    columns=['importance']).sort_values('importance', ascending=False)\n",
    "feature_importances"
   ]
  },
  {
   "cell_type": "code",
   "execution_count": 11,
   "id": "a5ec95dd",
   "metadata": {},
   "outputs": [
    {
     "data": {
      "text/plain": [
       "<AxesSubplot:title={'center':'Feature Importance'}>"
      ]
     },
     "execution_count": 11,
     "metadata": {},
     "output_type": "execute_result"
    },
    {
     "data": {
      "image/png": "[encoded data removed]",
      "text/plain": [
       "<Figure size 576x396 with 1 Axes>"
      ]
     },
     "metadata": {},
     "output_type": "display_data"
    }
   ],
   "source": [
    "importance = modeloClassificador.coef_[0]\n",
    "#importance is a list so you can plot it. \n",
    "feat_importances = pd.Series(importance)\n",
    "feat_importances.nlargest(20).plot(kind='barh',title = 'Feature Importance')"
   ]
  },
  {
   "cell_type": "code",
   "execution_count": null,
   "id": "93c97be1",
   "metadata": {},
   "outputs": [],
   "source": []
  }
 ],
 "metadata": {
  "kernelspec": {
   "display_name": "Python 3 (ipykernel)",
   "language": "python",
   "name": "python3"
  },
  "language_info": {
   "codemirror_mode": {
    "name": "ipython",
    "version": 3
   },
   "file_extension": ".py",
   "mimetype": "text/x-python",
   "name": "python",
   "nbconvert_exporter": "python",
   "pygments_lexer": "ipython3",
   "version": "3.8.10"
  }
 },
 "nbformat": 4,
 "nbformat_minor": 5
}
