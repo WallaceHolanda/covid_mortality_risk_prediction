{
 "cells": [
  {
   "cell_type": "code",
   "execution_count": 1,
   "id": "8774d1af",
   "metadata": {},
   "outputs": [
    {
     "name": "stdout",
     "output_type": "stream",
     "text": [
      "importing Jupyter notebook from preprocessamentofuncoes.ipynb\n"
     ]
    }
   ],
   "source": [
    "import pandas as pd\n",
    "import numpy as np\n",
    "\n",
    "import import_ipynb\n",
    "import preprocessamentofuncoes as pp"
   ]
  },
  {
   "cell_type": "markdown",
   "id": "97e7d952",
   "metadata": {},
   "source": [
    "### Definindo as Funções Auxiliares"
   ]
  },
  {
   "cell_type": "code",
   "execution_count": 5,
   "id": "9b8a82b5",
   "metadata": {},
   "outputs": [],
   "source": [
    "# Excluindo os dias vazios\n",
    "def removerAtributosFaltosos(covidData, atributo):\n",
    "    instanciasVazias = covidData.loc[covidData[atributo].isnull()]\n",
    "    covidData = covidData.drop(instanciasVazias.index)\n",
    "    return covidData"
   ]
  },
  {
   "cell_type": "code",
   "execution_count": 11,
   "id": "c3d40de4",
   "metadata": {},
   "outputs": [],
   "source": [
    "def converterDiasSintomas(covidData, diasSintomas, novaColuna):\n",
    "    covidData.loc[((covidData[diasSintomas] >= 0) & (covidData[diasSintomas] <= 3)), novaColuna] = 0\n",
    "    covidData.loc[((covidData[diasSintomas] >= 4) & (covidData[diasSintomas] <= 6)), novaColuna] = 1\n",
    "    covidData.loc[((covidData[diasSintomas] >= 7) & (covidData[diasSintomas] <= 9)), novaColuna] = 2\n",
    "    covidData.loc[((covidData[diasSintomas] >= 10) & (covidData[diasSintomas] <= 12)), novaColuna] = 3\n",
    "    covidData.loc[((covidData[diasSintomas] >= 13) & (covidData[diasSintomas] <= 15)), novaColuna] = 4\n",
    "    covidData.loc[((covidData[diasSintomas] >= 16) & (covidData[diasSintomas] <= 18)), novaColuna] = 5\n",
    "    covidData.loc[((covidData[diasSintomas] > 18)), novaColuna] = 6\n",
    "    return covidData"
   ]
  },
  {
   "cell_type": "code",
   "execution_count": null,
   "id": "782c308d",
   "metadata": {},
   "outputs": [],
   "source": [
    "def salvarDataframeEmPlanilha(covidDataBalanced, url):\n",
    "    write = pd.ExcelWriter(url)\n",
    "    covidDataBalanced.to_excel(write, 'dados', index = False)\n",
    "    write.save()"
   ]
  },
  {
   "cell_type": "code",
   "execution_count": null,
   "id": "af63b422",
   "metadata": {},
   "outputs": [],
   "source": [
    "def balanceandoDados(urlBase, colunasRemovidas, uf):\n",
    "    covidData = pd.read_excel(urlBase, colunasRemovidas)\n",
    "    \n",
    "    # Removendo as colunas destacadas\n",
    "    covidData = covidData.drop(columns = colunasRemovidas)\n",
    "    \n",
    "    # Excluindo os dias vazios\n",
    "    covidData = removerAtributosFaltosos(covidData, 'diasSintomas')\n",
    "    \n",
    "    # Removendo os dias outliers\n",
    "    diasSintomasOutliers = covidData.loc[((covidData['diasSintomas'] > 30))]\n",
    "    covidData = covidData.drop(diasSintomasOutliers.index)\n",
    "    \n",
    "    # Converter os dias de sintomas em faixas\n",
    "    covidData = converterDiasSintomas(covidData, 'diasSintomas', 'faixaDiasSintomas')\n",
    "    \n",
    "    # Balanceamento - OC 60/40\n",
    "    covidDataBalanced = pp.balanceamento(covidData, 'evolucaoCaso', 0, 40, 1)\n",
    "    covidDataBalanced = removerAtributosFaltosos(covidDataBalanced, 'faixaDiasSintomas')\n",
    "    salvarDataframeEmPlanilha(covidDataBalanced, 'PreProcessamento/balanceadas/OC/new-pp-oc-6040-' + uf + '.xlsx')\n",
    "    \n",
    "    # Balanceamento - OC 70/30\n",
    "    covidDataBalanced = pp.balanceamento(covidData, 'evolucaoCaso', 0, 30, 1)\n",
    "    covidDataBalanced = removerAtributosFaltosos(covidDataBalanced, 'faixaDiasSintomas')\n",
    "    salvarDataframeEmPlanilha(covidDataBalanced, 'PreProcessamento/balanceadas/OC/new-pp-oc-7030-' + uf + '.xlsx')\n",
    "    \n",
    "    # Balanceamento - IC 60/40\n",
    "    covidDataBalanced = pp.balanceamento(covidData, 'evolucaoCaso', 2, 40, 1)\n",
    "    covidDataBalanced = removerAtributosFaltosos(covidDataBalanced, 'faixaDiasSintomas')\n",
    "    salvarDataframeEmPlanilha(covidDataBalanced, 'PreProcessamento/balanceadas/IC/new-pp-ic-6040-' + uf + '.xlsx')\n",
    "    \n",
    "    # Balanceamento - IC 70/30\n",
    "    covidDataBalanced = pp.balanceamento(covidData, 'evolucaoCaso', 2, 30, 1)\n",
    "    covidDataBalanced = removerAtributosFaltosos(covidDataBalanced, 'faixaDiasSintomas')\n",
    "    salvarDataframeEmPlanilha(covidDataBalanced, 'PreProcessamento/balanceadas/IC/new-pp-ic-7030-' + uf + '.xlsx')\n",
    "    \n",
    "    print(\"Finalizado - Base \", uf)"
   ]
  },
  {
   "cell_type": "markdown",
   "id": "a317c941",
   "metadata": {},
   "source": [
    "### Realizando o balanceamento"
   ]
  },
  {
   "cell_type": "code",
   "execution_count": 1,
   "id": "d7212832",
   "metadata": {},
   "outputs": [],
   "source": [
    "colunasRemovidas = ['source_id', 'dataInicioSintomas', 'dataNotificacao', 'idade',\n",
    "                    'sintomas', 'outrosSintomas', 'condicoes', 'outrasCondicoes',\n",
    "                    'dataPrimeiraDose', 'dataSegundaDose', 'classificacaoFinal', \n",
    "                    'outrosSintomas', 'outrasCondicoes']"
   ]
  },
  {
   "cell_type": "code",
   "execution_count": 2,
   "id": "e9c58b9d",
   "metadata": {},
   "outputs": [],
   "source": [
    "bases = ['sus-ac-pp.xlsx', 'sus-al-pp.xlsx', 'sus-am-pp.xlsx', 'sus-ap-pp.xlsx', \n",
    "         'sus-ba-pp.xlsx', 'sus-ce-pp.xlsx', 'sus-df-pp.xlsx', 'sus-es-pp.xlsx', \n",
    "         'sus-go-pp.xlsx', 'sus-ma-pp.xlsx', 'sus-mg-pp.xlsx', 'sus-ms-pp.xlsx', \n",
    "         'sus-mt-pp.xlsx', 'sus-pa-pp.xlsx', 'sus-pb-pp.xlsx', 'sus-pe-pp.xlsx', \n",
    "         'sus-pi-pp.xlsx', 'sus-pr-pp.xlsx', 'sus-rj-pp.xlsx', 'sus-rn-pp.xlsx', \n",
    "         'sus-ro-pp.xlsx', 'sus-rr-pp.xlsx', 'sus-rs-pp.xlsx', 'sus-sc-pp.xlsx', \n",
    "         'sus-se-pp.xlsx', 'sus-to-pp.xlsx']"
   ]
  },
  {
   "cell_type": "code",
   "execution_count": null,
   "id": "fb990181",
   "metadata": {},
   "outputs": [],
   "source": []
  },
  {
   "cell_type": "code",
   "execution_count": null,
   "id": "ba6c498f",
   "metadata": {},
   "outputs": [],
   "source": [
    "balanceandoDados(urlBase, colunasRemovidas, uf)"
   ]
  },
  {
   "cell_type": "code",
   "execution_count": null,
   "id": "3cac2b7c",
   "metadata": {},
   "outputs": [],
   "source": []
  }
 ],
 "metadata": {
  "kernelspec": {
   "display_name": "Python 3 (ipykernel)",
   "language": "python",
   "name": "python3"
  },
  "language_info": {
   "codemirror_mode": {
    "name": "ipython",
    "version": 3
   },
   "file_extension": ".py",
   "mimetype": "text/x-python",
   "name": "python",
   "nbconvert_exporter": "python",
   "pygments_lexer": "ipython3",
   "version": "3.8.10"
  }
 },
 "nbformat": 4,
 "nbformat_minor": 5
}
