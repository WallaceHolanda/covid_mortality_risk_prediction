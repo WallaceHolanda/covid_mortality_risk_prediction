{
 "cells": [
  {
   "cell_type": "code",
   "execution_count": 1,
   "id": "8774d1af",
   "metadata": {},
   "outputs": [
    {
     "name": "stdout",
     "output_type": "stream",
     "text": [
      "importing Jupyter notebook from preprocessamentofuncoes.ipynb\n"
     ]
    }
   ],
   "source": [
    "import pandas as pd\n",
    "import numpy as np\n",
    "\n",
    "import import_ipynb\n",
    "import preprocessamentofuncoes as pp"
   ]
  },
  {
   "cell_type": "markdown",
   "id": "97e7d952",
   "metadata": {},
   "source": [
    "### Definindo as Funções Auxiliares"
   ]
  },
  {
   "cell_type": "code",
   "execution_count": 2,
   "id": "9b8a82b5",
   "metadata": {},
   "outputs": [],
   "source": [
    "# Excluindo os dias vazios\n",
    "def removerAtributosFaltosos(covidData, atributo):\n",
    "    instanciasVazias = covidData.loc[covidData[atributo].isnull()]\n",
    "    covidData = covidData.drop(instanciasVazias.index)\n",
    "    return covidData"
   ]
  },
  {
   "cell_type": "code",
   "execution_count": 3,
   "id": "c3d40de4",
   "metadata": {},
   "outputs": [],
   "source": [
    "def converterDiasSintomas(covidData, diasSintomas, novaColuna):\n",
    "    covidData.loc[((covidData[diasSintomas] >= 0) & (covidData[diasSintomas] <= 3)), novaColuna] = 0\n",
    "    covidData.loc[((covidData[diasSintomas] >= 4) & (covidData[diasSintomas] <= 6)), novaColuna] = 1\n",
    "    covidData.loc[((covidData[diasSintomas] >= 7) & (covidData[diasSintomas] <= 9)), novaColuna] = 2\n",
    "    covidData.loc[((covidData[diasSintomas] >= 10) & (covidData[diasSintomas] <= 12)), novaColuna] = 3\n",
    "    covidData.loc[((covidData[diasSintomas] >= 13) & (covidData[diasSintomas] <= 15)), novaColuna] = 4\n",
    "    covidData.loc[((covidData[diasSintomas] >= 16) & (covidData[diasSintomas] <= 18)), novaColuna] = 5\n",
    "    covidData.loc[((covidData[diasSintomas] > 18)), novaColuna] = 6\n",
    "    return covidData"
   ]
  },
  {
   "cell_type": "code",
   "execution_count": 4,
   "id": "782c308d",
   "metadata": {},
   "outputs": [],
   "source": [
    "def salvarDataframeEmPlanilha(covidDataBalanced, url):\n",
    "    write = pd.ExcelWriter(url)\n",
    "    covidDataBalanced.to_excel(write, 'dados', index = False)\n",
    "    write.save()"
   ]
  },
  {
   "cell_type": "code",
   "execution_count": 32,
   "id": "af63b422",
   "metadata": {},
   "outputs": [],
   "source": [
    "def balanceandoDados(urlBase, colunasRemovidas, uf):\n",
    "    covidData = pd.read_excel(urlBase)\n",
    "    print('Base Total', covidData['evolucaoCaso'].value_counts())\n",
    "    \n",
    "    # Removendo as colunas destacadas\n",
    "    covidData = covidData.drop(columns = colunasRemovidas)\n",
    "    \n",
    "    # Excluindo os dias vazios\n",
    "    covidData = removerAtributosFaltosos(covidData, 'diasSintomas')\n",
    "    \n",
    "    # Removendo os dias outliers\n",
    "    diasSintomasOutliers = covidData.loc[((covidData['diasSintomas'] > 30))]\n",
    "    covidData = covidData.drop(diasSintomasOutliers.index)\n",
    "    \n",
    "    # Converter os dias de sintomas em faixas\n",
    "    covidData = converterDiasSintomas(covidData, 'diasSintomas', 'faixaDiasSintomas')\n",
    "    \n",
    "    # Removendo o atributo Dias de Sintomas \n",
    "    covidData = covidData.drop(columns = 'diasSintomas')\n",
    "    \n",
    "    # Balanceamento - OC 60/40\n",
    "    covidDataBalanced = pp.balanceamento(covidData, 'evolucaoCaso', 0, 40, 1)\n",
    "    covidDataBalanced = removerAtributosFaltosos(covidDataBalanced, 'faixaDiasSintomas')\n",
    "    salvarDataframeEmPlanilha(covidDataBalanced, 'PreProcessamento/balanceadas/OC/ba-oc-6040-' + uf + '.xlsx')\n",
    "    print('OC 6040 - ', covidDataBalanced.shape)\n",
    "    \n",
    "    # Balanceamento - OC 70/30\n",
    "    covidDataBalanced = pp.balanceamento(covidData, 'evolucaoCaso', 0, 30, 1)\n",
    "    covidDataBalanced = removerAtributosFaltosos(covidDataBalanced, 'faixaDiasSintomas')\n",
    "    salvarDataframeEmPlanilha(covidDataBalanced, 'PreProcessamento/balanceadas/OC/ba-oc-7030-' + uf + '.xlsx')\n",
    "    print('OC 7030 - ', covidDataBalanced.shape)\n",
    "\n",
    "    # Balanceamento - IC 60/40\n",
    "    covidDataBalanced = pp.balanceamento(covidData, 'evolucaoCaso', 2, 40, 1)\n",
    "    covidDataBalanced = removerAtributosFaltosos(covidDataBalanced, 'faixaDiasSintomas')\n",
    "    salvarDataframeEmPlanilha(covidDataBalanced, 'PreProcessamento/balanceadas/IC/ba-ic-6040-' + uf + '.xlsx')\n",
    "    print('IC 6040 - ', covidDataBalanced.shape)\n",
    "\n",
    "    # Balanceamento - IC 70/30\n",
    "    covidDataBalanced = pp.balanceamento(covidData, 'evolucaoCaso', 2, 30, 1)\n",
    "    covidDataBalanced = removerAtributosFaltosos(covidDataBalanced, 'faixaDiasSintomas')\n",
    "    salvarDataframeEmPlanilha(covidDataBalanced, 'PreProcessamento/balanceadas/IC/ba-ic-7030-' + uf + '.xlsx')\n",
    "    print('IC 7030 - ', covidDataBalanced.shape)\n",
    "  \n",
    "    print(\"Finalizado - Base \", uf)"
   ]
  },
  {
   "cell_type": "markdown",
   "id": "a317c941",
   "metadata": {},
   "source": [
    "### Realizando o balanceamento"
   ]
  },
  {
   "cell_type": "code",
   "execution_count": 35,
   "id": "d7212832",
   "metadata": {},
   "outputs": [],
   "source": [
    "colunasRemovidas = ['source_id', 'dataInicioSintomas', 'dataNotificacao', 'idade',\n",
    "                    'sintomas', 'outrosSintomas', 'condicoes', 'outrasCondicoes',\n",
    "                    'dataPrimeiraDose', 'dataSegundaDose', 'classificacaoFinal', \n",
    "                    'outrosSintomas', 'outrasCondicoes']"
   ]
  },
  {
   "cell_type": "code",
   "execution_count": 51,
   "id": "e9c58b9d",
   "metadata": {},
   "outputs": [],
   "source": [
    "bases = ['sus-ac-pp.xlsx', 'sus-al-pp.xlsx', 'sus-am-pp.xlsx', 'sus-ap-pp.xlsx', \n",
    "         'sus-ba-pp.xlsx', 'sus-ce-pp.xlsx', 'sus-df-pp.xlsx', \n",
    "         'sus-go-pp.xlsx', 'sus-ma-pp.xlsx', 'sus-mg-pp.xlsx', 'sus-ms-pp.xlsx', \n",
    "         'sus-mt-pp.xlsx', 'sus-pa-pp.xlsx', 'sus-pb-pp.xlsx', 'sus-pe-pp.xlsx', \n",
    "         'sus-pi-pp.xlsx',  'sus-rj-pp.xlsx', 'sus-rn-pp.xlsx', \n",
    "         'sus-ro-pp.xlsx', 'sus-rr-pp.xlsx', 'sus-rs-pp.xlsx', 'sus-sc-pp.xlsx', \n",
    "         'sus-se-pp.xlsx', 'sus-to-pp.xlsx']\n",
    "\n",
    "\n",
    "ufs = ['ac', 'al', 'am', 'ap', 'ba', 'ce', 'df',  \n",
    "      'go', 'ma', 'mg', 'ms', 'mt', 'pa', 'pb', 'pe',\n",
    "      'pi', 'rj', 'rn', 'ro', 'rr', 'rs', 'sc', \n",
    "       'se', 'to']\n",
    "\n",
    "\n",
    "urlPadrao = 'PreProcessamento/'"
   ]
  },
  {
   "cell_type": "code",
   "execution_count": 41,
   "id": "fb990181",
   "metadata": {
    "scrolled": true
   },
   "outputs": [
    {
     "name": "stdout",
     "output_type": "stream",
     "text": [
      "Base Total 1    16530\n",
      "0      188\n",
      "2       10\n",
      "Name: evolucaoCaso, dtype: int64\n",
      "OC 6040 -  (574, 38)\n",
      "OC 7030 -  (710, 38)\n",
      "IC 6040 -  (28, 38)\n",
      "IC 7030 -  (34, 38)\n",
      "Finalizado - Base  ma\n",
      "Base Total 1    369125\n",
      "0      1322\n",
      "2       234\n",
      "Name: evolucaoCaso, dtype: int64\n",
      "OC 6040 -  (4254, 38)\n",
      "OC 7030 -  (5263, 38)\n",
      "IC 6040 -  (703, 38)\n",
      "IC 7030 -  (871, 38)\n",
      "Finalizado - Base  mg\n",
      "Base Total 1    142604\n",
      "2        63\n",
      "0        24\n",
      "Name: evolucaoCaso, dtype: int64\n",
      "OC 6040 -  (77, 38)\n",
      "OC 7030 -  (95, 38)\n",
      "IC 6040 -  (196, 38)\n",
      "IC 7030 -  (242, 38)\n",
      "Finalizado - Base  ms\n",
      "Base Total 1    55119\n",
      "0      210\n",
      "2       28\n",
      "Name: evolucaoCaso, dtype: int64\n",
      "OC 6040 -  (682, 38)\n",
      "OC 7030 -  (845, 38)\n",
      "IC 6040 -  (91, 38)\n",
      "IC 7030 -  (112, 38)\n",
      "Finalizado - Base  mt\n",
      "Base Total 1    66601\n",
      "0      683\n",
      "2       80\n",
      "Name: evolucaoCaso, dtype: int64\n",
      "OC 6040 -  (2124, 38)\n",
      "OC 7030 -  (2629, 38)\n",
      "IC 6040 -  (234, 38)\n",
      "IC 7030 -  (290, 38)\n",
      "Finalizado - Base  pa\n",
      "Base Total 1    82601\n",
      "2      162\n",
      "0      157\n",
      "Name: evolucaoCaso, dtype: int64\n",
      "OC 6040 -  (507, 38)\n",
      "OC 7030 -  (628, 38)\n",
      "IC 6040 -  (514, 38)\n",
      "IC 7030 -  (637, 38)\n",
      "Finalizado - Base  pb\n",
      "Base Total 1    167727\n",
      "0       103\n",
      "2        33\n",
      "Name: evolucaoCaso, dtype: int64\n",
      "OC 6040 -  (290, 38)\n",
      "OC 7030 -  (359, 38)\n",
      "IC 6040 -  (87, 38)\n",
      "IC 7030 -  (108, 38)\n",
      "Finalizado - Base  pe\n",
      "Base Total 1    27748\n",
      "0      149\n",
      "2       55\n",
      "Name: evolucaoCaso, dtype: int64\n",
      "OC 6040 -  (465, 38)\n",
      "OC 7030 -  (576, 38)\n",
      "IC 6040 -  (140, 38)\n",
      "IC 7030 -  (173, 38)\n",
      "Finalizado - Base  pi\n",
      "Base Total 1    187531\n",
      "0       585\n",
      "2       202\n",
      "Name: evolucaoCaso, dtype: int64\n",
      "OC 6040 -  (1687, 38)\n",
      "OC 7030 -  (2088, 38)\n",
      "IC 6040 -  (570, 38)\n",
      "IC 7030 -  (705, 38)\n",
      "Finalizado - Base  rj\n",
      "Base Total 1    8981\n",
      "0      67\n",
      "2       3\n",
      "Name: evolucaoCaso, dtype: int64\n",
      "OC 6040 -  (231, 38)\n",
      "OC 7030 -  (286, 38)\n",
      "IC 6040 -  (10, 38)\n",
      "IC 7030 -  (13, 38)\n",
      "Finalizado - Base  rn\n",
      "Base Total 1    97710\n",
      "0      587\n",
      "2       47\n",
      "Name: evolucaoCaso, dtype: int64\n",
      "OC 6040 -  (1844, 38)\n",
      "OC 7030 -  (2283, 38)\n",
      "IC 6040 -  (119, 38)\n",
      "IC 7030 -  (147, 38)\n",
      "Finalizado - Base  ro\n",
      "Base Total 1    7362\n",
      "0     138\n",
      "2      14\n",
      "Name: evolucaoCaso, dtype: int64\n",
      "OC 6040 -  (461, 38)\n",
      "OC 7030 -  (571, 38)\n",
      "IC 6040 -  (45, 38)\n",
      "IC 7030 -  (56, 38)\n",
      "Finalizado - Base  rr\n"
     ]
    },
    {
     "ename": "KeyboardInterrupt",
     "evalue": "",
     "output_type": "error",
     "traceback": [
      "\u001b[0;31m---------------------------------------------------------------------------\u001b[0m",
      "\u001b[0;31mKeyboardInterrupt\u001b[0m                         Traceback (most recent call last)",
      "\u001b[0;32m/tmp/ipykernel_4351/3877566614.py\u001b[0m in \u001b[0;36m<module>\u001b[0;34m\u001b[0m\n\u001b[1;32m      1\u001b[0m \u001b[0;32mfor\u001b[0m \u001b[0mi\u001b[0m \u001b[0;32min\u001b[0m \u001b[0mrange\u001b[0m\u001b[0;34m(\u001b[0m\u001b[0;36m0\u001b[0m\u001b[0;34m,\u001b[0m \u001b[0mlen\u001b[0m\u001b[0;34m(\u001b[0m\u001b[0mbases\u001b[0m\u001b[0;34m)\u001b[0m\u001b[0;34m)\u001b[0m\u001b[0;34m:\u001b[0m\u001b[0;34m\u001b[0m\u001b[0;34m\u001b[0m\u001b[0m\n\u001b[1;32m      2\u001b[0m     \u001b[0murl\u001b[0m \u001b[0;34m=\u001b[0m \u001b[0murlPadrao\u001b[0m \u001b[0;34m+\u001b[0m \u001b[0mbases\u001b[0m\u001b[0;34m[\u001b[0m\u001b[0mi\u001b[0m\u001b[0;34m]\u001b[0m\u001b[0;34m\u001b[0m\u001b[0;34m\u001b[0m\u001b[0m\n\u001b[0;32m----> 3\u001b[0;31m     \u001b[0mbalanceandoDados\u001b[0m\u001b[0;34m(\u001b[0m\u001b[0murl\u001b[0m\u001b[0;34m,\u001b[0m \u001b[0mcolunasRemovidas\u001b[0m\u001b[0;34m,\u001b[0m \u001b[0mufs\u001b[0m\u001b[0;34m[\u001b[0m\u001b[0mi\u001b[0m\u001b[0;34m]\u001b[0m\u001b[0;34m)\u001b[0m\u001b[0;34m\u001b[0m\u001b[0;34m\u001b[0m\u001b[0m\n\u001b[0m",
      "\u001b[0;32m/tmp/ipykernel_4351/1959644144.py\u001b[0m in \u001b[0;36mbalanceandoDados\u001b[0;34m(urlBase, colunasRemovidas, uf)\u001b[0m\n\u001b[1;32m      1\u001b[0m \u001b[0;32mdef\u001b[0m \u001b[0mbalanceandoDados\u001b[0m\u001b[0;34m(\u001b[0m\u001b[0murlBase\u001b[0m\u001b[0;34m,\u001b[0m \u001b[0mcolunasRemovidas\u001b[0m\u001b[0;34m,\u001b[0m \u001b[0muf\u001b[0m\u001b[0;34m)\u001b[0m\u001b[0;34m:\u001b[0m\u001b[0;34m\u001b[0m\u001b[0;34m\u001b[0m\u001b[0m\n\u001b[0;32m----> 2\u001b[0;31m     \u001b[0mcovidData\u001b[0m \u001b[0;34m=\u001b[0m \u001b[0mpd\u001b[0m\u001b[0;34m.\u001b[0m\u001b[0mread_excel\u001b[0m\u001b[0;34m(\u001b[0m\u001b[0murlBase\u001b[0m\u001b[0;34m)\u001b[0m\u001b[0;34m\u001b[0m\u001b[0;34m\u001b[0m\u001b[0m\n\u001b[0m\u001b[1;32m      3\u001b[0m     \u001b[0mprint\u001b[0m\u001b[0;34m(\u001b[0m\u001b[0;34m'Base Total'\u001b[0m\u001b[0;34m,\u001b[0m \u001b[0mcovidData\u001b[0m\u001b[0;34m[\u001b[0m\u001b[0;34m'evolucaoCaso'\u001b[0m\u001b[0;34m]\u001b[0m\u001b[0;34m.\u001b[0m\u001b[0mvalue_counts\u001b[0m\u001b[0;34m(\u001b[0m\u001b[0;34m)\u001b[0m\u001b[0;34m)\u001b[0m\u001b[0;34m\u001b[0m\u001b[0;34m\u001b[0m\u001b[0m\n\u001b[1;32m      4\u001b[0m \u001b[0;34m\u001b[0m\u001b[0m\n\u001b[1;32m      5\u001b[0m     \u001b[0;31m# Removendo as colunas destacadas\u001b[0m\u001b[0;34m\u001b[0m\u001b[0;34m\u001b[0m\u001b[0;34m\u001b[0m\u001b[0m\n",
      "\u001b[0;32m~/.local/lib/python3.8/site-packages/pandas/util/_decorators.py\u001b[0m in \u001b[0;36mwrapper\u001b[0;34m(*args, **kwargs)\u001b[0m\n\u001b[1;32m    309\u001b[0m                     \u001b[0mstacklevel\u001b[0m\u001b[0;34m=\u001b[0m\u001b[0mstacklevel\u001b[0m\u001b[0;34m,\u001b[0m\u001b[0;34m\u001b[0m\u001b[0;34m\u001b[0m\u001b[0m\n\u001b[1;32m    310\u001b[0m                 )\n\u001b[0;32m--> 311\u001b[0;31m             \u001b[0;32mreturn\u001b[0m \u001b[0mfunc\u001b[0m\u001b[0;34m(\u001b[0m\u001b[0;34m*\u001b[0m\u001b[0margs\u001b[0m\u001b[0;34m,\u001b[0m \u001b[0;34m**\u001b[0m\u001b[0mkwargs\u001b[0m\u001b[0;34m)\u001b[0m\u001b[0;34m\u001b[0m\u001b[0;34m\u001b[0m\u001b[0m\n\u001b[0m\u001b[1;32m    312\u001b[0m \u001b[0;34m\u001b[0m\u001b[0m\n\u001b[1;32m    313\u001b[0m         \u001b[0;32mreturn\u001b[0m \u001b[0mwrapper\u001b[0m\u001b[0;34m\u001b[0m\u001b[0;34m\u001b[0m\u001b[0m\n",
      "\u001b[0;32m~/.local/lib/python3.8/site-packages/pandas/io/excel/_base.py\u001b[0m in \u001b[0;36mread_excel\u001b[0;34m(io, sheet_name, header, names, index_col, usecols, squeeze, dtype, engine, converters, true_values, false_values, skiprows, nrows, na_values, keep_default_na, na_filter, verbose, parse_dates, date_parser, thousands, comment, skipfooter, convert_float, mangle_dupe_cols, storage_options)\u001b[0m\n\u001b[1;32m    370\u001b[0m \u001b[0;34m\u001b[0m\u001b[0m\n\u001b[1;32m    371\u001b[0m     \u001b[0;32mtry\u001b[0m\u001b[0;34m:\u001b[0m\u001b[0;34m\u001b[0m\u001b[0;34m\u001b[0m\u001b[0m\n\u001b[0;32m--> 372\u001b[0;31m         data = io.parse(\n\u001b[0m\u001b[1;32m    373\u001b[0m             \u001b[0msheet_name\u001b[0m\u001b[0;34m=\u001b[0m\u001b[0msheet_name\u001b[0m\u001b[0;34m,\u001b[0m\u001b[0;34m\u001b[0m\u001b[0;34m\u001b[0m\u001b[0m\n\u001b[1;32m    374\u001b[0m             \u001b[0mheader\u001b[0m\u001b[0;34m=\u001b[0m\u001b[0mheader\u001b[0m\u001b[0;34m,\u001b[0m\u001b[0;34m\u001b[0m\u001b[0;34m\u001b[0m\u001b[0m\n",
      "\u001b[0;32m~/.local/lib/python3.8/site-packages/pandas/io/excel/_base.py\u001b[0m in \u001b[0;36mparse\u001b[0;34m(self, sheet_name, header, names, index_col, usecols, squeeze, converters, true_values, false_values, skiprows, nrows, na_values, parse_dates, date_parser, thousands, comment, skipfooter, convert_float, mangle_dupe_cols, **kwds)\u001b[0m\n\u001b[1;32m   1270\u001b[0m             \u001b[0mDataFrame\u001b[0m \u001b[0;32mfrom\u001b[0m \u001b[0mthe\u001b[0m \u001b[0mpassed\u001b[0m \u001b[0;32min\u001b[0m \u001b[0mExcel\u001b[0m \u001b[0mfile\u001b[0m\u001b[0;34m.\u001b[0m\u001b[0;34m\u001b[0m\u001b[0;34m\u001b[0m\u001b[0m\n\u001b[1;32m   1271\u001b[0m         \"\"\"\n\u001b[0;32m-> 1272\u001b[0;31m         return self._reader.parse(\n\u001b[0m\u001b[1;32m   1273\u001b[0m             \u001b[0msheet_name\u001b[0m\u001b[0;34m=\u001b[0m\u001b[0msheet_name\u001b[0m\u001b[0;34m,\u001b[0m\u001b[0;34m\u001b[0m\u001b[0;34m\u001b[0m\u001b[0m\n\u001b[1;32m   1274\u001b[0m             \u001b[0mheader\u001b[0m\u001b[0;34m=\u001b[0m\u001b[0mheader\u001b[0m\u001b[0;34m,\u001b[0m\u001b[0;34m\u001b[0m\u001b[0;34m\u001b[0m\u001b[0m\n",
      "\u001b[0;32m~/.local/lib/python3.8/site-packages/pandas/io/excel/_base.py\u001b[0m in \u001b[0;36mparse\u001b[0;34m(self, sheet_name, header, names, index_col, usecols, squeeze, dtype, true_values, false_values, skiprows, nrows, na_values, verbose, parse_dates, date_parser, thousands, comment, skipfooter, convert_float, mangle_dupe_cols, **kwds)\u001b[0m\n\u001b[1;32m    537\u001b[0m                 \u001b[0msheet\u001b[0m \u001b[0;34m=\u001b[0m \u001b[0mself\u001b[0m\u001b[0;34m.\u001b[0m\u001b[0mget_sheet_by_index\u001b[0m\u001b[0;34m(\u001b[0m\u001b[0masheetname\u001b[0m\u001b[0;34m)\u001b[0m\u001b[0;34m\u001b[0m\u001b[0;34m\u001b[0m\u001b[0m\n\u001b[1;32m    538\u001b[0m \u001b[0;34m\u001b[0m\u001b[0m\n\u001b[0;32m--> 539\u001b[0;31m             \u001b[0mdata\u001b[0m \u001b[0;34m=\u001b[0m \u001b[0mself\u001b[0m\u001b[0;34m.\u001b[0m\u001b[0mget_sheet_data\u001b[0m\u001b[0;34m(\u001b[0m\u001b[0msheet\u001b[0m\u001b[0;34m,\u001b[0m \u001b[0mconvert_float\u001b[0m\u001b[0;34m)\u001b[0m\u001b[0;34m\u001b[0m\u001b[0;34m\u001b[0m\u001b[0m\n\u001b[0m\u001b[1;32m    540\u001b[0m             \u001b[0;32mif\u001b[0m \u001b[0mhasattr\u001b[0m\u001b[0;34m(\u001b[0m\u001b[0msheet\u001b[0m\u001b[0;34m,\u001b[0m \u001b[0;34m\"close\"\u001b[0m\u001b[0;34m)\u001b[0m\u001b[0;34m:\u001b[0m\u001b[0;34m\u001b[0m\u001b[0;34m\u001b[0m\u001b[0m\n\u001b[1;32m    541\u001b[0m                 \u001b[0;31m# pyxlsb opens two TemporaryFiles\u001b[0m\u001b[0;34m\u001b[0m\u001b[0;34m\u001b[0m\u001b[0;34m\u001b[0m\u001b[0m\n",
      "\u001b[0;32m~/.local/lib/python3.8/site-packages/pandas/io/excel/_openpyxl.py\u001b[0m in \u001b[0;36mget_sheet_data\u001b[0;34m(self, sheet, convert_float)\u001b[0m\n\u001b[1;32m    570\u001b[0m         \u001b[0mdata\u001b[0m\u001b[0;34m:\u001b[0m \u001b[0mlist\u001b[0m\u001b[0;34m[\u001b[0m\u001b[0mlist\u001b[0m\u001b[0;34m[\u001b[0m\u001b[0mScalar\u001b[0m\u001b[0;34m]\u001b[0m\u001b[0;34m]\u001b[0m \u001b[0;34m=\u001b[0m \u001b[0;34m[\u001b[0m\u001b[0;34m]\u001b[0m\u001b[0;34m\u001b[0m\u001b[0;34m\u001b[0m\u001b[0m\n\u001b[1;32m    571\u001b[0m         \u001b[0mlast_row_with_data\u001b[0m \u001b[0;34m=\u001b[0m \u001b[0;34m-\u001b[0m\u001b[0;36m1\u001b[0m\u001b[0;34m\u001b[0m\u001b[0;34m\u001b[0m\u001b[0m\n\u001b[0;32m--> 572\u001b[0;31m         \u001b[0;32mfor\u001b[0m \u001b[0mrow_number\u001b[0m\u001b[0;34m,\u001b[0m \u001b[0mrow\u001b[0m \u001b[0;32min\u001b[0m \u001b[0menumerate\u001b[0m\u001b[0;34m(\u001b[0m\u001b[0msheet\u001b[0m\u001b[0;34m.\u001b[0m\u001b[0mrows\u001b[0m\u001b[0;34m)\u001b[0m\u001b[0;34m:\u001b[0m\u001b[0;34m\u001b[0m\u001b[0;34m\u001b[0m\u001b[0m\n\u001b[0m\u001b[1;32m    573\u001b[0m             \u001b[0mconverted_row\u001b[0m \u001b[0;34m=\u001b[0m \u001b[0;34m[\u001b[0m\u001b[0mself\u001b[0m\u001b[0;34m.\u001b[0m\u001b[0m_convert_cell\u001b[0m\u001b[0;34m(\u001b[0m\u001b[0mcell\u001b[0m\u001b[0;34m,\u001b[0m \u001b[0mconvert_float\u001b[0m\u001b[0;34m)\u001b[0m \u001b[0;32mfor\u001b[0m \u001b[0mcell\u001b[0m \u001b[0;32min\u001b[0m \u001b[0mrow\u001b[0m\u001b[0;34m]\u001b[0m\u001b[0;34m\u001b[0m\u001b[0;34m\u001b[0m\u001b[0m\n\u001b[1;32m    574\u001b[0m             \u001b[0;32mwhile\u001b[0m \u001b[0mconverted_row\u001b[0m \u001b[0;32mand\u001b[0m \u001b[0mconverted_row\u001b[0m\u001b[0;34m[\u001b[0m\u001b[0;34m-\u001b[0m\u001b[0;36m1\u001b[0m\u001b[0;34m]\u001b[0m \u001b[0;34m==\u001b[0m \u001b[0;34m\"\"\u001b[0m\u001b[0;34m:\u001b[0m\u001b[0;34m\u001b[0m\u001b[0;34m\u001b[0m\u001b[0m\n",
      "\u001b[0;32m~/.local/lib/python3.8/site-packages/openpyxl/worksheet/_read_only.py\u001b[0m in \u001b[0;36m_cells_by_row\u001b[0;34m(self, min_col, min_row, max_col, max_row, values_only)\u001b[0m\n\u001b[1;32m     77\u001b[0m                                  \u001b[0mdata_only\u001b[0m\u001b[0;34m=\u001b[0m\u001b[0mself\u001b[0m\u001b[0;34m.\u001b[0m\u001b[0mparent\u001b[0m\u001b[0;34m.\u001b[0m\u001b[0mdata_only\u001b[0m\u001b[0;34m,\u001b[0m \u001b[0mepoch\u001b[0m\u001b[0;34m=\u001b[0m\u001b[0mself\u001b[0m\u001b[0;34m.\u001b[0m\u001b[0mparent\u001b[0m\u001b[0;34m.\u001b[0m\u001b[0mepoch\u001b[0m\u001b[0;34m,\u001b[0m\u001b[0;34m\u001b[0m\u001b[0;34m\u001b[0m\u001b[0m\n\u001b[1;32m     78\u001b[0m                                  date_formats=self.parent._date_formats)\n\u001b[0;32m---> 79\u001b[0;31m         \u001b[0;32mfor\u001b[0m \u001b[0midx\u001b[0m\u001b[0;34m,\u001b[0m \u001b[0mrow\u001b[0m \u001b[0;32min\u001b[0m \u001b[0mparser\u001b[0m\u001b[0;34m.\u001b[0m\u001b[0mparse\u001b[0m\u001b[0;34m(\u001b[0m\u001b[0;34m)\u001b[0m\u001b[0;34m:\u001b[0m\u001b[0;34m\u001b[0m\u001b[0;34m\u001b[0m\u001b[0m\n\u001b[0m\u001b[1;32m     80\u001b[0m             \u001b[0;32mif\u001b[0m \u001b[0mmax_row\u001b[0m \u001b[0;32mis\u001b[0m \u001b[0;32mnot\u001b[0m \u001b[0;32mNone\u001b[0m \u001b[0;32mand\u001b[0m \u001b[0midx\u001b[0m \u001b[0;34m>\u001b[0m \u001b[0mmax_row\u001b[0m\u001b[0;34m:\u001b[0m\u001b[0;34m\u001b[0m\u001b[0;34m\u001b[0m\u001b[0m\n\u001b[1;32m     81\u001b[0m                 \u001b[0;32mbreak\u001b[0m\u001b[0;34m\u001b[0m\u001b[0;34m\u001b[0m\u001b[0m\n",
      "\u001b[0;32m~/.local/lib/python3.8/site-packages/openpyxl/worksheet/_reader.py\u001b[0m in \u001b[0;36mparse\u001b[0;34m(self)\u001b[0m\n\u001b[1;32m    142\u001b[0m         \u001b[0mit\u001b[0m \u001b[0;34m=\u001b[0m \u001b[0miterparse\u001b[0m\u001b[0;34m(\u001b[0m\u001b[0mself\u001b[0m\u001b[0;34m.\u001b[0m\u001b[0msource\u001b[0m\u001b[0;34m)\u001b[0m \u001b[0;31m# add a finaliser to close the source when this becomes possible\u001b[0m\u001b[0;34m\u001b[0m\u001b[0;34m\u001b[0m\u001b[0m\n\u001b[1;32m    143\u001b[0m \u001b[0;34m\u001b[0m\u001b[0m\n\u001b[0;32m--> 144\u001b[0;31m         \u001b[0;32mfor\u001b[0m \u001b[0m_\u001b[0m\u001b[0;34m,\u001b[0m \u001b[0melement\u001b[0m \u001b[0;32min\u001b[0m \u001b[0mit\u001b[0m\u001b[0;34m:\u001b[0m\u001b[0;34m\u001b[0m\u001b[0;34m\u001b[0m\u001b[0m\n\u001b[0m\u001b[1;32m    145\u001b[0m             \u001b[0mtag_name\u001b[0m \u001b[0;34m=\u001b[0m \u001b[0melement\u001b[0m\u001b[0;34m.\u001b[0m\u001b[0mtag\u001b[0m\u001b[0;34m\u001b[0m\u001b[0;34m\u001b[0m\u001b[0m\n\u001b[1;32m    146\u001b[0m             \u001b[0;32mif\u001b[0m \u001b[0mtag_name\u001b[0m \u001b[0;32min\u001b[0m \u001b[0mdispatcher\u001b[0m\u001b[0;34m:\u001b[0m\u001b[0;34m\u001b[0m\u001b[0;34m\u001b[0m\u001b[0m\n",
      "\u001b[0;32m/usr/lib/python3.8/xml/etree/ElementTree.py\u001b[0m in \u001b[0;36miterator\u001b[0;34m()\u001b[0m\n\u001b[1;32m   1230\u001b[0m                 \u001b[0;32mif\u001b[0m \u001b[0;32mnot\u001b[0m \u001b[0mdata\u001b[0m\u001b[0;34m:\u001b[0m\u001b[0;34m\u001b[0m\u001b[0;34m\u001b[0m\u001b[0m\n\u001b[1;32m   1231\u001b[0m                     \u001b[0;32mbreak\u001b[0m\u001b[0;34m\u001b[0m\u001b[0;34m\u001b[0m\u001b[0m\n\u001b[0;32m-> 1232\u001b[0;31m                 \u001b[0mpullparser\u001b[0m\u001b[0;34m.\u001b[0m\u001b[0mfeed\u001b[0m\u001b[0;34m(\u001b[0m\u001b[0mdata\u001b[0m\u001b[0;34m)\u001b[0m\u001b[0;34m\u001b[0m\u001b[0;34m\u001b[0m\u001b[0m\n\u001b[0m\u001b[1;32m   1233\u001b[0m             \u001b[0mroot\u001b[0m \u001b[0;34m=\u001b[0m \u001b[0mpullparser\u001b[0m\u001b[0;34m.\u001b[0m\u001b[0m_close_and_return_root\u001b[0m\u001b[0;34m(\u001b[0m\u001b[0;34m)\u001b[0m\u001b[0;34m\u001b[0m\u001b[0;34m\u001b[0m\u001b[0m\n\u001b[1;32m   1234\u001b[0m             \u001b[0;32myield\u001b[0m \u001b[0;32mfrom\u001b[0m \u001b[0mpullparser\u001b[0m\u001b[0;34m.\u001b[0m\u001b[0mread_events\u001b[0m\u001b[0;34m(\u001b[0m\u001b[0;34m)\u001b[0m\u001b[0;34m\u001b[0m\u001b[0;34m\u001b[0m\u001b[0m\n",
      "\u001b[0;32m/usr/lib/python3.8/xml/etree/ElementTree.py\u001b[0m in \u001b[0;36mfeed\u001b[0;34m(self, data)\u001b[0m\n\u001b[1;32m   1272\u001b[0m         \u001b[0;32mif\u001b[0m \u001b[0mdata\u001b[0m\u001b[0;34m:\u001b[0m\u001b[0;34m\u001b[0m\u001b[0;34m\u001b[0m\u001b[0m\n\u001b[1;32m   1273\u001b[0m             \u001b[0;32mtry\u001b[0m\u001b[0;34m:\u001b[0m\u001b[0;34m\u001b[0m\u001b[0;34m\u001b[0m\u001b[0m\n\u001b[0;32m-> 1274\u001b[0;31m                 \u001b[0mself\u001b[0m\u001b[0;34m.\u001b[0m\u001b[0m_parser\u001b[0m\u001b[0;34m.\u001b[0m\u001b[0mfeed\u001b[0m\u001b[0;34m(\u001b[0m\u001b[0mdata\u001b[0m\u001b[0;34m)\u001b[0m\u001b[0;34m\u001b[0m\u001b[0;34m\u001b[0m\u001b[0m\n\u001b[0m\u001b[1;32m   1275\u001b[0m             \u001b[0;32mexcept\u001b[0m \u001b[0mSyntaxError\u001b[0m \u001b[0;32mas\u001b[0m \u001b[0mexc\u001b[0m\u001b[0;34m:\u001b[0m\u001b[0;34m\u001b[0m\u001b[0;34m\u001b[0m\u001b[0m\n\u001b[1;32m   1276\u001b[0m                 \u001b[0mself\u001b[0m\u001b[0;34m.\u001b[0m\u001b[0m_events_queue\u001b[0m\u001b[0;34m.\u001b[0m\u001b[0mappend\u001b[0m\u001b[0;34m(\u001b[0m\u001b[0mexc\u001b[0m\u001b[0;34m)\u001b[0m\u001b[0;34m\u001b[0m\u001b[0;34m\u001b[0m\u001b[0m\n",
      "\u001b[0;32m/usr/lib/python3.8/xml/etree/ElementTree.py\u001b[0m in \u001b[0;36mfeed\u001b[0;34m(self, data)\u001b[0m\n\u001b[1;32m   1691\u001b[0m         \u001b[0;34m\"\"\"Feed encoded data to parser.\"\"\"\u001b[0m\u001b[0;34m\u001b[0m\u001b[0;34m\u001b[0m\u001b[0m\n\u001b[1;32m   1692\u001b[0m         \u001b[0;32mtry\u001b[0m\u001b[0;34m:\u001b[0m\u001b[0;34m\u001b[0m\u001b[0;34m\u001b[0m\u001b[0m\n\u001b[0;32m-> 1693\u001b[0;31m             \u001b[0mself\u001b[0m\u001b[0;34m.\u001b[0m\u001b[0mparser\u001b[0m\u001b[0;34m.\u001b[0m\u001b[0mParse\u001b[0m\u001b[0;34m(\u001b[0m\u001b[0mdata\u001b[0m\u001b[0;34m,\u001b[0m \u001b[0;36m0\u001b[0m\u001b[0;34m)\u001b[0m\u001b[0;34m\u001b[0m\u001b[0;34m\u001b[0m\u001b[0m\n\u001b[0m\u001b[1;32m   1694\u001b[0m         \u001b[0;32mexcept\u001b[0m \u001b[0mself\u001b[0m\u001b[0;34m.\u001b[0m\u001b[0m_error\u001b[0m \u001b[0;32mas\u001b[0m \u001b[0mv\u001b[0m\u001b[0;34m:\u001b[0m\u001b[0;34m\u001b[0m\u001b[0;34m\u001b[0m\u001b[0m\n\u001b[1;32m   1695\u001b[0m             \u001b[0mself\u001b[0m\u001b[0;34m.\u001b[0m\u001b[0m_raiseerror\u001b[0m\u001b[0;34m(\u001b[0m\u001b[0mv\u001b[0m\u001b[0;34m)\u001b[0m\u001b[0;34m\u001b[0m\u001b[0;34m\u001b[0m\u001b[0m\n",
      "\u001b[0;32m../Modules/pyexpat.c\u001b[0m in \u001b[0;36mEndElement\u001b[0;34m()\u001b[0m\n",
      "\u001b[0;32m/usr/lib/python3.8/xml/etree/ElementTree.py\u001b[0m in \u001b[0;36mhandler\u001b[0;34m(tag, event, append, end)\u001b[0m\n\u001b[1;32m   1560\u001b[0m                 \u001b[0mparser\u001b[0m\u001b[0;34m.\u001b[0m\u001b[0mStartElementHandler\u001b[0m \u001b[0;34m=\u001b[0m \u001b[0mhandler\u001b[0m\u001b[0;34m\u001b[0m\u001b[0;34m\u001b[0m\u001b[0m\n\u001b[1;32m   1561\u001b[0m             \u001b[0;32melif\u001b[0m \u001b[0mevent_name\u001b[0m \u001b[0;34m==\u001b[0m \u001b[0;34m\"end\"\u001b[0m\u001b[0;34m:\u001b[0m\u001b[0;34m\u001b[0m\u001b[0;34m\u001b[0m\u001b[0m\n\u001b[0;32m-> 1562\u001b[0;31m                 def handler(tag, event=event_name, append=append,\n\u001b[0m\u001b[1;32m   1563\u001b[0m                             end=self._end):\n\u001b[1;32m   1564\u001b[0m                     \u001b[0mappend\u001b[0m\u001b[0;34m(\u001b[0m\u001b[0;34m(\u001b[0m\u001b[0mevent\u001b[0m\u001b[0;34m,\u001b[0m \u001b[0mend\u001b[0m\u001b[0;34m(\u001b[0m\u001b[0mtag\u001b[0m\u001b[0;34m)\u001b[0m\u001b[0;34m)\u001b[0m\u001b[0;34m)\u001b[0m\u001b[0;34m\u001b[0m\u001b[0;34m\u001b[0m\u001b[0m\n",
      "\u001b[0;31mKeyboardInterrupt\u001b[0m: "
     ]
    }
   ],
   "source": [
    "for i in range(0, len(bases)):\n",
    "    url = urlPadrao + bases[i]\n",
    "    balanceandoDados(url, colunasRemovidas, ufs[i])"
   ]
  },
  {
   "cell_type": "code",
   "execution_count": 33,
   "id": "ba6c498f",
   "metadata": {
    "collapsed": true
   },
   "outputs": [
    {
     "name": "stdout",
     "output_type": "stream",
     "text": [
      "Base Total 1    23760\n",
      "0       92\n",
      "2       18\n",
      "Name: evolucaoCaso, dtype: int64\n",
      "OC 6040 -  (301, 38)\n",
      "OC 7030 -  (372, 38)\n",
      "IC 6040 -  (59, 38)\n",
      "IC 7030 -  (73, 38)\n",
      "Finalizado - Base  ac\n"
     ]
    }
   ],
   "source": [
    "# balanceandoDados(urlBase, colunasRemovidas, uf)\n"
   ]
  },
  {
   "cell_type": "code",
   "execution_count": null,
   "id": "3cac2b7c",
   "metadata": {},
   "outputs": [],
   "source": []
  },
  {
   "cell_type": "code",
   "execution_count": 52,
   "id": "6435b67a",
   "metadata": {},
   "outputs": [
    {
     "name": "stdout",
     "output_type": "stream",
     "text": [
      "base  ac\n",
      "base  al\n",
      "base  am\n",
      "base  ap\n",
      "base  ba\n",
      "base  ce\n",
      "base  df\n",
      "base  go\n",
      "base  ma\n",
      "base  mg\n",
      "base  ms\n",
      "base  mt\n",
      "base  pa\n",
      "base  pb\n",
      "base  pe\n",
      "base  pi\n",
      "base  rj\n",
      "base  rn\n",
      "base  ro\n",
      "base  rr\n",
      "base  rs\n",
      "base  sc\n",
      "base  se\n",
      "base  to\n"
     ]
    }
   ],
   "source": [
    "dfMetricas = pd.DataFrame()\n",
    "for i in range(0, len(bases)):\n",
    "    print('base ', ufs[i])\n",
    "    row = {}\n",
    "    url = urlPadrao + bases[i]\n",
    "    covidData = pd.read_excel(url)\n",
    "    evolucao = covidData['evolucaoCaso'].value_counts()\n",
    "\n",
    "    row['UF'] = ufs[i].upper()\n",
    "    row['Instâncias'] = covidData.shape[0]\n",
    "    row['Curado'] = evolucao[1]\n",
    "    row['Interado'] = evolucao[2]\n",
    "    row['Óbito'] = evolucao[0]\n",
    "\n",
    "    dfMetricas = pd.concat([dfMetricas, pd.DataFrame([row])])"
   ]
  },
  {
   "cell_type": "code",
   "execution_count": 54,
   "id": "41177558",
   "metadata": {},
   "outputs": [],
   "source": [
    "salvarDataframeEmPlanilha(dfMetricas, 'metricas.xlsx')"
   ]
  },
  {
   "cell_type": "code",
   "execution_count": null,
   "id": "3214e1d9",
   "metadata": {},
   "outputs": [],
   "source": []
  }
 ],
 "metadata": {
  "kernelspec": {
   "display_name": "Python 3 (ipykernel)",
   "language": "python",
   "name": "python3"
  },
  "language_info": {
   "codemirror_mode": {
    "name": "ipython",
    "version": 3
   },
   "file_extension": ".py",
   "mimetype": "text/x-python",
   "name": "python",
   "nbconvert_exporter": "python",
   "pygments_lexer": "ipython3",
   "version": "3.8.10"
  }
 },
 "nbformat": 4,
 "nbformat_minor": 5
}
