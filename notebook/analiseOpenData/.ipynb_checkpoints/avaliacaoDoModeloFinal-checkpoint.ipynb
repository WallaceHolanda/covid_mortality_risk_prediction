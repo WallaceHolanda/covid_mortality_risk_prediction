{
 "cells": [
  {
   "cell_type": "markdown",
   "id": "583d5d99",
   "metadata": {},
   "source": [
    "### Modelos\n",
    "- Modelo Óbito-Curado (60/40): Regressão\n",
    "- Modelo Internado-Curado (70/30): AdaBoost"
   ]
  },
  {
   "cell_type": "code",
   "execution_count": 14,
   "id": "424c51e5",
   "metadata": {},
   "outputs": [],
   "source": [
    "import pandas as pd\n",
    "import numpy as np\n",
    "import matplotlib.pyplot as plt\n",
    "\n",
    "import import_ipynb\n",
    "import modelofuncoes as mf\n",
    "\n",
    "from joblib import dump, load\n",
    "\n",
    "from sklearn.model_selection import train_test_split\n",
    "from sklearn.linear_model import LogisticRegression\n",
    "from sklearn.ensemble import AdaBoostClassifier\n",
    "from sklearn.ensemble import GradientBoostingClassifier\n",
    "from sklearn import metrics\n",
    "from sklearn.metrics import accuracy_score"
   ]
  },
  {
   "cell_type": "markdown",
   "id": "6e40193e",
   "metadata": {},
   "source": [
    "### Modelo OC - Constatando o Desempenho"
   ]
  },
  {
   "cell_type": "code",
   "execution_count": 3,
   "id": "1367a248",
   "metadata": {},
   "outputs": [],
   "source": [
    "# Carregando a Base de Dados\n",
    "\n",
    "url = 'Vacinas/OC/oc-vacina-6040-sp.xlsx'\n",
    "alvo = 'evolucaoCaso'\n",
    "baseObitoCurado = pd.read_excel(url)\n",
    "\n",
    "bases = {}\n",
    "bases['Base OC (60/40)'] = url"
   ]
  },
  {
   "cell_type": "code",
   "execution_count": 4,
   "id": "267aeffa",
   "metadata": {},
   "outputs": [
    {
     "data": {
      "text/plain": [
       "1    4080\n",
       "0    1632\n",
       "Name: evolucaoCaso, dtype: int64"
      ]
     },
     "execution_count": 4,
     "metadata": {},
     "output_type": "execute_result"
    }
   ],
   "source": [
    "baseObitoCurado[alvo].value_counts()"
   ]
  },
  {
   "cell_type": "code",
   "execution_count": 5,
   "id": "ec79483c",
   "metadata": {},
   "outputs": [],
   "source": [
    "# Definindo o Modelo de Regressão Logística\n",
    "hiperparametrosLR = LogisticRegression(C=1.0, class_weight=None, dual=False, fit_intercept=True, \n",
    "                                       intercept_scaling=1, l1_ratio=None, max_iter=1000, multi_class='auto', \n",
    "                                       n_jobs=None, penalty='l2', random_state=1340, solver='lbfgs', \n",
    "                                       tol=0.0001, verbose=0, warm_start=False)\n",
    "\n",
    "modeloClassificador = {\"LR\": hiperparametrosLR}"
   ]
  },
  {
   "cell_type": "code",
   "execution_count": 6,
   "id": "a2e9845f",
   "metadata": {},
   "outputs": [
    {
     "name": "stdout",
     "output_type": "stream",
     "text": [
      "Index(['evolucaoCaso', 'dorDeGarganta', 'dispneia', 'coriza', 'dorDeCabeca',\n",
      "       'diabetes', 'cardiaca', 'faixaetaria', 'qntVacinas'],\n",
      "      dtype='object')\n",
      "===============\n"
     ]
    },
    {
     "data": {
      "text/html": [
       "<div>\n",
       "<style scoped>\n",
       "    .dataframe tbody tr th:only-of-type {\n",
       "        vertical-align: middle;\n",
       "    }\n",
       "\n",
       "    .dataframe tbody tr th {\n",
       "        vertical-align: top;\n",
       "    }\n",
       "\n",
       "    .dataframe thead th {\n",
       "        text-align: right;\n",
       "    }\n",
       "</style>\n",
       "<table border=\"1\" class=\"dataframe\">\n",
       "  <thead>\n",
       "    <tr style=\"text-align: right;\">\n",
       "      <th></th>\n",
       "      <th>Base</th>\n",
       "      <th>Modelo</th>\n",
       "      <th>Hiperparâmetros</th>\n",
       "      <th>Acurácia</th>\n",
       "      <th>Precisão (0)</th>\n",
       "      <th>Recall (0)</th>\n",
       "      <th>F1-Score (0)</th>\n",
       "      <th>Precisão (1)</th>\n",
       "      <th>Recall (1)</th>\n",
       "      <th>F1-Score (1)</th>\n",
       "      <th>3 Kfolds</th>\n",
       "      <th>5 Kfolds</th>\n",
       "    </tr>\n",
       "  </thead>\n",
       "  <tbody>\n",
       "    <tr>\n",
       "      <th>0</th>\n",
       "      <td>Base OC (60/40)</td>\n",
       "      <td>LR</td>\n",
       "      <td>{'C': 1.0, 'class_weight': None, 'dual': False...</td>\n",
       "      <td>83.372%</td>\n",
       "      <td>84.181%</td>\n",
       "      <td>56.546%</td>\n",
       "      <td>67.65%</td>\n",
       "      <td>83.162%</td>\n",
       "      <td>95.282%</td>\n",
       "      <td>88.81%</td>\n",
       "      <td>83.473%</td>\n",
       "      <td>83.806%</td>\n",
       "    </tr>\n",
       "  </tbody>\n",
       "</table>\n",
       "</div>"
      ],
      "text/plain": [
       "              Base Modelo                                    Hiperparâmetros  \\\n",
       "0  Base OC (60/40)     LR  {'C': 1.0, 'class_weight': None, 'dual': False...   \n",
       "\n",
       "  Acurácia Precisão (0) Recall (0) F1-Score (0) Precisão (1) Recall (1)  \\\n",
       "0  83.372%      84.181%    56.546%       67.65%      83.162%    95.282%   \n",
       "\n",
       "  F1-Score (1) 3 Kfolds 5 Kfolds  \n",
       "0       88.81%  83.473%  83.806%  "
      ]
     },
     "execution_count": 6,
     "metadata": {},
     "output_type": "execute_result"
    }
   ],
   "source": [
    "valoresAlvo = [0, 1]\n",
    "\n",
    "colunasRemovidas = ['dataPrimeiraDose', 'dataSegundaDose', 'assintomatico', 'puerpera', 'disturbiosGustatorios', \n",
    "                    'disturbiosOlfativos', 'gestante', 'tosse', 'respiratoria', 'fragilidadeImuno', 'racaCor', \n",
    "                    'sexo', 'febre', 'renal', 'imunossupressao', 'obesidade']\n",
    "\n",
    "desempenhoDosModelos = mf.testarModelos(bases, alvo, colunasRemovidas, modeloClassificador, valoresAlvo)\n",
    "desempenhoDosModelos"
   ]
  },
  {
   "cell_type": "markdown",
   "id": "83ecbb5e",
   "metadata": {},
   "source": [
    "### Definindo a Função da Curva ROC"
   ]
  },
  {
   "cell_type": "code",
   "execution_count": 15,
   "id": "de3719c8",
   "metadata": {},
   "outputs": [],
   "source": [
    "def exibirCurvaROC(modeloClassificador, x_test, y_test):\n",
    "    y_preds = modeloClassificador.predict_proba(x_test)\n",
    "\n",
    "    # take the second column because the classifier outputs scores for the 0 class as well\n",
    "    preds = y_preds[:,1]\n",
    "\n",
    "    # fpr (false-positive-rate) e tpr (true-positive-rate)\n",
    "    fpr, tpr, _ = metrics.roc_curve(y_test, preds)\n",
    "\n",
    "    auc_score = metrics.auc(fpr, tpr)\n",
    "\n",
    "    # Construindo o Gráfico\n",
    "    plt.clf()\n",
    "    plt.title('ROC Curve')\n",
    "    plt.plot(fpr, tpr, label='AUC = {:.2f}'.format(auc_score))\n",
    "    plt.plot([0,1],[0,1],'r--')\n",
    "\n",
    "    plt.xlim([-0.1,1.1])\n",
    "    plt.ylim([-0.1,1.1])\n",
    "    plt.ylabel('True Positive Rate')\n",
    "    plt.xlabel('False Positive Rate')\n",
    "\n",
    "    plt.legend(loc='lower right')\n",
    "    plt.show()"
   ]
  },
  {
   "cell_type": "markdown",
   "id": "b28942ce",
   "metadata": {},
   "source": [
    "### Modelo OC - Treinamento e Teste"
   ]
  },
  {
   "cell_type": "code",
   "execution_count": 8,
   "id": "c187f984",
   "metadata": {},
   "outputs": [],
   "source": [
    "# Carregando a Base de Dados\n",
    "baseObitoCurado = pd.read_excel(url)"
   ]
  },
  {
   "cell_type": "code",
   "execution_count": 9,
   "id": "2152c16c",
   "metadata": {},
   "outputs": [],
   "source": [
    "# Selecionando os Atributos do Pré-Processamento\n",
    "\n",
    "atributosSelecionados = ['faixaetaria', 'dispneia', 'qntVacinas', 'dorDeGarganta', \n",
    "                         'coriza', 'diabetes', 'dorDeCabeca', 'cardiaca', 'evolucaoCaso']\n",
    "\n",
    "baseObitoCurado = baseObitoCurado.loc[:, atributosSelecionados]"
   ]
  },
  {
   "cell_type": "code",
   "execution_count": 10,
   "id": "8eef6ee1",
   "metadata": {},
   "outputs": [],
   "source": [
    "x_train, x_test, y_train, y_test = train_test_split(baseObitoCurado.drop(alvo,axis=1),\n",
    "                                                    baseObitoCurado[alvo],\n",
    "                                                    test_size=0.3,\n",
    "                                                    random_state=42);"
   ]
  },
  {
   "cell_type": "code",
   "execution_count": 11,
   "id": "b1069414",
   "metadata": {},
   "outputs": [
    {
     "name": "stdout",
     "output_type": "stream",
     "text": [
      "              precision    recall  f1-score   support\n",
      "\n",
      "           0       0.84      0.57      0.68       527\n",
      "           1       0.83      0.95      0.89      1187\n",
      "\n",
      "    accuracy                           0.83      1714\n",
      "   macro avg       0.84      0.76      0.78      1714\n",
      "weighted avg       0.83      0.83      0.82      1714\n",
      "\n"
     ]
    }
   ],
   "source": [
    "# Fit nos dados\n",
    "modeloClassificador = hiperparametrosLR\n",
    "modeloClassificador.fit(x_train, y_train)\n",
    "\n",
    "#Realizando a predição\n",
    "resultadoTeste = modeloClassificador.predict(x_test)\n",
    "\n",
    "# Verificando a acurácia\n",
    "print(metrics.classification_report(y_test,resultadoTeste))"
   ]
  },
  {
   "cell_type": "code",
   "execution_count": 33,
   "id": "0b929b12",
   "metadata": {
    "scrolled": true
   },
   "outputs": [],
   "source": [
    "# Plotando a curva ROC\n",
    "# exibirCurvaROC(modeloClassificador, x_test, y_test)"
   ]
  },
  {
   "cell_type": "code",
   "execution_count": 12,
   "id": "3d29d500",
   "metadata": {},
   "outputs": [],
   "source": [
    "# Exportando o modelo criado\n",
    "# dump(modeloClassificador, 'modeloOC.pk1')"
   ]
  },
  {
   "cell_type": "markdown",
   "id": "aee2a066",
   "metadata": {},
   "source": [
    "### Funções Utilizadas"
   ]
  },
  {
   "cell_type": "code",
   "execution_count": 18,
   "id": "333b4f5d",
   "metadata": {},
   "outputs": [],
   "source": [
    "def __transformarEmPorcentagem__(valor):\n",
    "    porcentagem = str(round(valor * 100, 3)) + \"%\"\n",
    "    return porcentagem"
   ]
  },
  {
   "cell_type": "code",
   "execution_count": 19,
   "id": "46e49d32",
   "metadata": {},
   "outputs": [],
   "source": [
    "def calcularMetricas(x_test, y_test, baseDeDados, classificador, alvos):\n",
    "    metricas = {}\n",
    "    \n",
    "    #Realizando a predição\n",
    "    resultadoPredicao = classificador.predict(x_test)\n",
    "\n",
    "    # Verificando a acurácia\n",
    "    metricas['Acurácia'] = __transformarEmPorcentagem__(accuracy_score(y_test, resultadoPredicao))\n",
    "    \n",
    "    # Criando um dicionaŕio a partir das métricas\n",
    "    metricasValores = metrics.classification_report(y_test, resultadoPredicao, output_dict=True)\n",
    "    df = pd.DataFrame(metricasValores).transpose()\n",
    "    \n",
    "    metricas[\"Base\"] = baseDeDados\n",
    "\n",
    "    for classe in alvos:\n",
    "        metricas[\"Precisão (\" + str(classe) + \")\"] = __transformarEmPorcentagem__(df.loc[str(classe)]['precision'])\n",
    "        metricas[\"Recall (\" + str(classe) + \")\"] = __transformarEmPorcentagem__(df.loc[str(classe)]['recall'])\n",
    "        metricas[\"F1-Score (\" + str(classe) + \")\"] = __transformarEmPorcentagem__(df.loc[str(classe)]['f1-score'])\n",
    "    \n",
    "    return metricas"
   ]
  },
  {
   "cell_type": "markdown",
   "id": "fe38c57c",
   "metadata": {},
   "source": [
    "### Modelo OC - Avaliando as outras Bases (Estados)"
   ]
  },
  {
   "cell_type": "code",
   "execution_count": 9,
   "id": "7b19bce9",
   "metadata": {},
   "outputs": [],
   "source": [
    "listaBases = [\"Vacinas/OC/oc-vacina-6040-ac.xlsx\", \"Vacinas/OC/oc-vacina-6040-al.xlsx\", \"Vacinas/OC/oc-vacina-6040-am.xlsx\", \"Vacinas/OC/oc-vacina-6040-ap.xlsx\", \"Vacinas/OC/oc-vacina-6040-ba.xlsx\", \n",
    "              \"Vacinas/OC/oc-vacina-6040-ce.xlsx\", \"Vacinas/OC/oc-vacina-6040-df.xlsx\", \"Vacinas/OC/oc-vacina-6040-go.xlsx\", \"Vacinas/OC/oc-vacina-6040-ma.xlsx\", \"Vacinas/OC/oc-vacina-6040-mg.xlsx\", \n",
    "              \"Vacinas/OC/oc-vacina-6040-mt.xlsx\", \"Vacinas/OC/oc-vacina-6040-pa.xlsx\", \"Vacinas/OC/oc-vacina-6040-pb.xlsx\", \"Vacinas/OC/oc-vacina-6040-pe.xlsx\", \"Vacinas/OC/oc-vacina-6040-pi.xlsx\", \n",
    "              \"Vacinas/OC/oc-vacina-6040-rj.xlsx\", \"Vacinas/OC/oc-vacina-6040-rn.xlsx\", \"Vacinas/OC/oc-vacina-6040-ro.xlsx\", \"Vacinas/OC/oc-vacina-6040-rr.xlsx\", \"Vacinas/OC/oc-vacina-6040-rs.xlsx\"] \n",
    "\n",
    "alvo = 'evolucaoCaso'\n",
    "colunasSelecionadasTeste = ['faixaetaria', 'dispneia', 'qntVacinas', 'dorDeGarganta', \n",
    "                            'coriza', 'diabetes', 'dorDeCabeca', 'cardiaca']"
   ]
  },
  {
   "cell_type": "code",
   "execution_count": 25,
   "id": "bebbee09",
   "metadata": {},
   "outputs": [],
   "source": [
    "alvos = [0, 1]\n",
    "desempenhoDosModelos = pd.DataFrame()\n",
    "for indice in range(0, len(listaBases)):\n",
    "    covidData = pd.read_excel(listaBases[indice])\n",
    "    dadosTeste = covidData.loc[:, colunasSelecionadasTeste]\n",
    "    dadosAlvo =  covidData.loc[:, alvo]\n",
    "     \n",
    "    metricasMap = calcularMetricas(dadosTeste, dadosAlvo, listaBases[indice], modeloClassificador, alvos)\n",
    "    desempenhoDosModelos = pd.concat([desempenhoDosModelos, pd.DataFrame([metricasMap])]) "
   ]
  },
  {
   "cell_type": "code",
   "execution_count": 26,
   "id": "fcda363f",
   "metadata": {
    "collapsed": true
   },
   "outputs": [
    {
     "data": {
      "text/html": [
       "<div>\n",
       "<style scoped>\n",
       "    .dataframe tbody tr th:only-of-type {\n",
       "        vertical-align: middle;\n",
       "    }\n",
       "\n",
       "    .dataframe tbody tr th {\n",
       "        vertical-align: top;\n",
       "    }\n",
       "\n",
       "    .dataframe thead th {\n",
       "        text-align: right;\n",
       "    }\n",
       "</style>\n",
       "<table border=\"1\" class=\"dataframe\">\n",
       "  <thead>\n",
       "    <tr style=\"text-align: right;\">\n",
       "      <th></th>\n",
       "      <th>Acurácia</th>\n",
       "      <th>Base</th>\n",
       "      <th>Precisão (0)</th>\n",
       "      <th>Recall (0)</th>\n",
       "      <th>F1-Score (0)</th>\n",
       "      <th>Precisão (1)</th>\n",
       "      <th>Recall (1)</th>\n",
       "      <th>F1-Score (1)</th>\n",
       "    </tr>\n",
       "  </thead>\n",
       "  <tbody>\n",
       "    <tr>\n",
       "      <th>0</th>\n",
       "      <td>87.267%</td>\n",
       "      <td>Vacinas/OC/oc-vacina-6040-ac.xlsx</td>\n",
       "      <td>81.481%</td>\n",
       "      <td>71.739%</td>\n",
       "      <td>76.301%</td>\n",
       "      <td>89.212%</td>\n",
       "      <td>93.478%</td>\n",
       "      <td>91.295%</td>\n",
       "    </tr>\n",
       "    <tr>\n",
       "      <th>0</th>\n",
       "      <td>84.725%</td>\n",
       "      <td>Vacinas/OC/oc-vacina-6040-al.xlsx</td>\n",
       "      <td>80.0%</td>\n",
       "      <td>62.112%</td>\n",
       "      <td>69.93%</td>\n",
       "      <td>86.073%</td>\n",
       "      <td>93.781%</td>\n",
       "      <td>89.762%</td>\n",
       "    </tr>\n",
       "    <tr>\n",
       "      <th>0</th>\n",
       "      <td>78.882%</td>\n",
       "      <td>Vacinas/OC/oc-vacina-6040-am.xlsx</td>\n",
       "      <td>75.714%</td>\n",
       "      <td>38.406%</td>\n",
       "      <td>50.962%</td>\n",
       "      <td>79.419%</td>\n",
       "      <td>95.072%</td>\n",
       "      <td>86.544%</td>\n",
       "    </tr>\n",
       "    <tr>\n",
       "      <th>0</th>\n",
       "      <td>87.25%</td>\n",
       "      <td>Vacinas/OC/oc-vacina-6040-ap.xlsx</td>\n",
       "      <td>88.148%</td>\n",
       "      <td>63.978%</td>\n",
       "      <td>74.143%</td>\n",
       "      <td>87.016%</td>\n",
       "      <td>96.559%</td>\n",
       "      <td>91.539%</td>\n",
       "    </tr>\n",
       "    <tr>\n",
       "      <th>0</th>\n",
       "      <td>88.802%</td>\n",
       "      <td>Vacinas/OC/oc-vacina-6040-ba.xlsx</td>\n",
       "      <td>83.741%</td>\n",
       "      <td>75.463%</td>\n",
       "      <td>79.387%</td>\n",
       "      <td>90.557%</td>\n",
       "      <td>94.138%</td>\n",
       "      <td>92.313%</td>\n",
       "    </tr>\n",
       "    <tr>\n",
       "      <th>0</th>\n",
       "      <td>87.363%</td>\n",
       "      <td>Vacinas/OC/oc-vacina-6040-ce.xlsx</td>\n",
       "      <td>80.688%</td>\n",
       "      <td>73.317%</td>\n",
       "      <td>76.826%</td>\n",
       "      <td>89.703%</td>\n",
       "      <td>92.981%</td>\n",
       "      <td>91.313%</td>\n",
       "    </tr>\n",
       "    <tr>\n",
       "      <th>0</th>\n",
       "      <td>83.041%</td>\n",
       "      <td>Vacinas/OC/oc-vacina-6040-df.xlsx</td>\n",
       "      <td>76.316%</td>\n",
       "      <td>59.184%</td>\n",
       "      <td>66.667%</td>\n",
       "      <td>84.962%</td>\n",
       "      <td>92.623%</td>\n",
       "      <td>88.627%</td>\n",
       "    </tr>\n",
       "    <tr>\n",
       "      <th>0</th>\n",
       "      <td>82.714%</td>\n",
       "      <td>Vacinas/OC/oc-vacina-6040-go.xlsx</td>\n",
       "      <td>83.654%</td>\n",
       "      <td>49.153%</td>\n",
       "      <td>61.922%</td>\n",
       "      <td>82.524%</td>\n",
       "      <td>96.154%</td>\n",
       "      <td>88.819%</td>\n",
       "    </tr>\n",
       "    <tr>\n",
       "      <th>0</th>\n",
       "      <td>88.754%</td>\n",
       "      <td>Vacinas/OC/oc-vacina-6040-ma.xlsx</td>\n",
       "      <td>84.756%</td>\n",
       "      <td>73.936%</td>\n",
       "      <td>78.977%</td>\n",
       "      <td>90.081%</td>\n",
       "      <td>94.681%</td>\n",
       "      <td>92.324%</td>\n",
       "    </tr>\n",
       "    <tr>\n",
       "      <th>0</th>\n",
       "      <td>86.082%</td>\n",
       "      <td>Vacinas/OC/oc-vacina-6040-mg.xlsx</td>\n",
       "      <td>82.102%</td>\n",
       "      <td>65.582%</td>\n",
       "      <td>72.918%</td>\n",
       "      <td>87.258%</td>\n",
       "      <td>94.281%</td>\n",
       "      <td>90.634%</td>\n",
       "    </tr>\n",
       "    <tr>\n",
       "      <th>0</th>\n",
       "      <td>85.034%</td>\n",
       "      <td>Vacinas/OC/oc-vacina-6040-mt.xlsx</td>\n",
       "      <td>87.879%</td>\n",
       "      <td>55.238%</td>\n",
       "      <td>67.836%</td>\n",
       "      <td>84.411%</td>\n",
       "      <td>96.952%</td>\n",
       "      <td>90.248%</td>\n",
       "    </tr>\n",
       "    <tr>\n",
       "      <th>0</th>\n",
       "      <td>88.326%</td>\n",
       "      <td>Vacinas/OC/oc-vacina-6040-pa.xlsx</td>\n",
       "      <td>82.166%</td>\n",
       "      <td>75.549%</td>\n",
       "      <td>78.719%</td>\n",
       "      <td>90.522%</td>\n",
       "      <td>93.439%</td>\n",
       "      <td>91.957%</td>\n",
       "    </tr>\n",
       "    <tr>\n",
       "      <th>0</th>\n",
       "      <td>86.703%</td>\n",
       "      <td>Vacinas/OC/oc-vacina-6040-pb.xlsx</td>\n",
       "      <td>89.623%</td>\n",
       "      <td>60.51%</td>\n",
       "      <td>72.243%</td>\n",
       "      <td>86.005%</td>\n",
       "      <td>97.194%</td>\n",
       "      <td>91.257%</td>\n",
       "    </tr>\n",
       "    <tr>\n",
       "      <th>0</th>\n",
       "      <td>82.778%</td>\n",
       "      <td>Vacinas/OC/oc-vacina-6040-pe.xlsx</td>\n",
       "      <td>90.196%</td>\n",
       "      <td>44.66%</td>\n",
       "      <td>59.74%</td>\n",
       "      <td>81.553%</td>\n",
       "      <td>98.054%</td>\n",
       "      <td>89.046%</td>\n",
       "    </tr>\n",
       "    <tr>\n",
       "      <th>0</th>\n",
       "      <td>87.716%</td>\n",
       "      <td>Vacinas/OC/oc-vacina-6040-pi.xlsx</td>\n",
       "      <td>82.946%</td>\n",
       "      <td>71.812%</td>\n",
       "      <td>76.978%</td>\n",
       "      <td>89.286%</td>\n",
       "      <td>94.086%</td>\n",
       "      <td>91.623%</td>\n",
       "    </tr>\n",
       "    <tr>\n",
       "      <th>0</th>\n",
       "      <td>85.491%</td>\n",
       "      <td>Vacinas/OC/oc-vacina-6040-rj.xlsx</td>\n",
       "      <td>80.38%</td>\n",
       "      <td>65.128%</td>\n",
       "      <td>71.955%</td>\n",
       "      <td>87.031%</td>\n",
       "      <td>93.639%</td>\n",
       "      <td>90.214%</td>\n",
       "    </tr>\n",
       "    <tr>\n",
       "      <th>0</th>\n",
       "      <td>90.171%</td>\n",
       "      <td>Vacinas/OC/oc-vacina-6040-rn.xlsx</td>\n",
       "      <td>86.667%</td>\n",
       "      <td>77.612%</td>\n",
       "      <td>81.89%</td>\n",
       "      <td>91.379%</td>\n",
       "      <td>95.21%</td>\n",
       "      <td>93.255%</td>\n",
       "    </tr>\n",
       "    <tr>\n",
       "      <th>0</th>\n",
       "      <td>86.952%</td>\n",
       "      <td>Vacinas/OC/oc-vacina-6040-ro.xlsx</td>\n",
       "      <td>86.005%</td>\n",
       "      <td>64.906%</td>\n",
       "      <td>73.981%</td>\n",
       "      <td>87.213%</td>\n",
       "      <td>95.774%</td>\n",
       "      <td>91.293%</td>\n",
       "    </tr>\n",
       "    <tr>\n",
       "      <th>0</th>\n",
       "      <td>83.851%</td>\n",
       "      <td>Vacinas/OC/oc-vacina-6040-rr.xlsx</td>\n",
       "      <td>71.429%</td>\n",
       "      <td>72.464%</td>\n",
       "      <td>71.942%</td>\n",
       "      <td>88.921%</td>\n",
       "      <td>88.406%</td>\n",
       "      <td>88.663%</td>\n",
       "    </tr>\n",
       "    <tr>\n",
       "      <th>0</th>\n",
       "      <td>82.334%</td>\n",
       "      <td>Vacinas/OC/oc-vacina-6040-rs.xlsx</td>\n",
       "      <td>86.429%</td>\n",
       "      <td>45.318%</td>\n",
       "      <td>59.459%</td>\n",
       "      <td>81.612%</td>\n",
       "      <td>97.151%</td>\n",
       "      <td>88.706%</td>\n",
       "    </tr>\n",
       "  </tbody>\n",
       "</table>\n",
       "</div>"
      ],
      "text/plain": [
       "  Acurácia                               Base Precisão (0) Recall (0)  \\\n",
       "0  87.267%  Vacinas/OC/oc-vacina-6040-ac.xlsx      81.481%    71.739%   \n",
       "0  84.725%  Vacinas/OC/oc-vacina-6040-al.xlsx        80.0%    62.112%   \n",
       "0  78.882%  Vacinas/OC/oc-vacina-6040-am.xlsx      75.714%    38.406%   \n",
       "0   87.25%  Vacinas/OC/oc-vacina-6040-ap.xlsx      88.148%    63.978%   \n",
       "0  88.802%  Vacinas/OC/oc-vacina-6040-ba.xlsx      83.741%    75.463%   \n",
       "0  87.363%  Vacinas/OC/oc-vacina-6040-ce.xlsx      80.688%    73.317%   \n",
       "0  83.041%  Vacinas/OC/oc-vacina-6040-df.xlsx      76.316%    59.184%   \n",
       "0  82.714%  Vacinas/OC/oc-vacina-6040-go.xlsx      83.654%    49.153%   \n",
       "0  88.754%  Vacinas/OC/oc-vacina-6040-ma.xlsx      84.756%    73.936%   \n",
       "0  86.082%  Vacinas/OC/oc-vacina-6040-mg.xlsx      82.102%    65.582%   \n",
       "0  85.034%  Vacinas/OC/oc-vacina-6040-mt.xlsx      87.879%    55.238%   \n",
       "0  88.326%  Vacinas/OC/oc-vacina-6040-pa.xlsx      82.166%    75.549%   \n",
       "0  86.703%  Vacinas/OC/oc-vacina-6040-pb.xlsx      89.623%     60.51%   \n",
       "0  82.778%  Vacinas/OC/oc-vacina-6040-pe.xlsx      90.196%     44.66%   \n",
       "0  87.716%  Vacinas/OC/oc-vacina-6040-pi.xlsx      82.946%    71.812%   \n",
       "0  85.491%  Vacinas/OC/oc-vacina-6040-rj.xlsx       80.38%    65.128%   \n",
       "0  90.171%  Vacinas/OC/oc-vacina-6040-rn.xlsx      86.667%    77.612%   \n",
       "0  86.952%  Vacinas/OC/oc-vacina-6040-ro.xlsx      86.005%    64.906%   \n",
       "0  83.851%  Vacinas/OC/oc-vacina-6040-rr.xlsx      71.429%    72.464%   \n",
       "0  82.334%  Vacinas/OC/oc-vacina-6040-rs.xlsx      86.429%    45.318%   \n",
       "\n",
       "  F1-Score (0) Precisão (1) Recall (1) F1-Score (1)  \n",
       "0      76.301%      89.212%    93.478%      91.295%  \n",
       "0       69.93%      86.073%    93.781%      89.762%  \n",
       "0      50.962%      79.419%    95.072%      86.544%  \n",
       "0      74.143%      87.016%    96.559%      91.539%  \n",
       "0      79.387%      90.557%    94.138%      92.313%  \n",
       "0      76.826%      89.703%    92.981%      91.313%  \n",
       "0      66.667%      84.962%    92.623%      88.627%  \n",
       "0      61.922%      82.524%    96.154%      88.819%  \n",
       "0      78.977%      90.081%    94.681%      92.324%  \n",
       "0      72.918%      87.258%    94.281%      90.634%  \n",
       "0      67.836%      84.411%    96.952%      90.248%  \n",
       "0      78.719%      90.522%    93.439%      91.957%  \n",
       "0      72.243%      86.005%    97.194%      91.257%  \n",
       "0       59.74%      81.553%    98.054%      89.046%  \n",
       "0      76.978%      89.286%    94.086%      91.623%  \n",
       "0      71.955%      87.031%    93.639%      90.214%  \n",
       "0       81.89%      91.379%     95.21%      93.255%  \n",
       "0      73.981%      87.213%    95.774%      91.293%  \n",
       "0      71.942%      88.921%    88.406%      88.663%  \n",
       "0      59.459%      81.612%    97.151%      88.706%  "
      ]
     },
     "execution_count": 26,
     "metadata": {},
     "output_type": "execute_result"
    }
   ],
   "source": [
    "desempenhoDosModelos"
   ]
  },
  {
   "cell_type": "code",
   "execution_count": 27,
   "id": "6c37af81",
   "metadata": {},
   "outputs": [],
   "source": [
    "write = pd.ExcelWriter('desempenhoModeloFinal.xlsx')\n",
    "desempenhoDosModelos.to_excel(write, 'dados', index = False)\n",
    "write.save()"
   ]
  },
  {
   "cell_type": "markdown",
   "id": "6fe45d1a",
   "metadata": {},
   "source": [
    "### Modelo IC - Constatando o Desempenho"
   ]
  },
  {
   "cell_type": "code",
   "execution_count": 29,
   "id": "cddde96d",
   "metadata": {},
   "outputs": [],
   "source": [
    "# Carregando a Base de Dados\n",
    "urlIC = 'Vacinas/Regioes/IC/ic-vacina-6040-sul.xlsx'\n",
    "alvo = 'evolucaoCaso'\n",
    "baseInternadoCurado = pd.read_excel(urlIC)\n",
    "\n",
    "basesIC = {}\n",
    "basesIC['Nordeste IC (60/40)'] = urlIC"
   ]
  },
  {
   "cell_type": "code",
   "execution_count": 30,
   "id": "cf949cac",
   "metadata": {},
   "outputs": [],
   "source": [
    "# Definindo o Modelo de Regressão Logística\n",
    "hiperparametrosAB = AdaBoostClassifier(algorithm='SAMME.R', base_estimator=None, \n",
    "                                                           learning_rate=1.0, n_estimators=50, \n",
    "                                                           random_state=410)\n",
    "\n",
    "hiperparametrosLR = LogisticRegression(C=1.0, class_weight=None, dual=False, fit_intercept=True, \n",
    "                                       intercept_scaling=1, l1_ratio=None, max_iter=1000, multi_class='auto', \n",
    "                                       n_jobs=None, penalty='l2', random_state=1340, solver='lbfgs', \n",
    "                                       tol=0.0001, verbose=0, warm_start=False)\n",
    "\n",
    "\n",
    "hiperparametrosGB = GradientBoostingClassifier(ccp_alpha=0.0, criterion='friedman_mse', init=None,\n",
    "                           learning_rate=0.1, loss='deviance', max_depth=3,\n",
    "                           max_features=None, max_leaf_nodes=None,\n",
    "                           min_impurity_decrease=0.0,\n",
    "                           min_samples_leaf=1, min_samples_split=2,\n",
    "                           min_weight_fraction_leaf=0.0, n_estimators=100,\n",
    "                           n_iter_no_change=None,\n",
    "                           random_state=2333, subsample=1.0, tol=0.0001,\n",
    "                           validation_fraction=0.1, verbose=0,\n",
    "                           warm_start=False)\n",
    "\n",
    "\n",
    "modeloClassificador = {\"LR\": hiperparametrosLR}"
   ]
  },
  {
   "cell_type": "code",
   "execution_count": 31,
   "id": "bcf64ebf",
   "metadata": {},
   "outputs": [
    {
     "name": "stdout",
     "output_type": "stream",
     "text": [
      "Index(['sexo', 'racaCor', 'evolucaoCaso', 'dorDeGarganta', 'dispneia',\n",
      "       'coriza', 'dorDeCabeca', 'diabetes', 'renal', 'imunossupressao',\n",
      "       'fragilidadeImuno', 'gestante', 'cardiaca', 'faixaetaria',\n",
      "       'qntVacinas'],\n",
      "      dtype='object')\n",
      "===============\n"
     ]
    },
    {
     "data": {
      "text/html": [
       "<div>\n",
       "<style scoped>\n",
       "    .dataframe tbody tr th:only-of-type {\n",
       "        vertical-align: middle;\n",
       "    }\n",
       "\n",
       "    .dataframe tbody tr th {\n",
       "        vertical-align: top;\n",
       "    }\n",
       "\n",
       "    .dataframe thead th {\n",
       "        text-align: right;\n",
       "    }\n",
       "</style>\n",
       "<table border=\"1\" class=\"dataframe\">\n",
       "  <thead>\n",
       "    <tr style=\"text-align: right;\">\n",
       "      <th></th>\n",
       "      <th>Base</th>\n",
       "      <th>Modelo</th>\n",
       "      <th>Hiperparâmetros</th>\n",
       "      <th>Acurácia</th>\n",
       "      <th>Precisão (1)</th>\n",
       "      <th>Recall (1)</th>\n",
       "      <th>F1-Score (1)</th>\n",
       "      <th>Precisão (2)</th>\n",
       "      <th>Recall (2)</th>\n",
       "      <th>F1-Score (2)</th>\n",
       "      <th>3 Kfolds</th>\n",
       "      <th>5 Kfolds</th>\n",
       "    </tr>\n",
       "  </thead>\n",
       "  <tbody>\n",
       "    <tr>\n",
       "      <th>0</th>\n",
       "      <td>Nordeste IC (60/40)</td>\n",
       "      <td>LR</td>\n",
       "      <td>{'C': 1.0, 'class_weight': None, 'dual': False...</td>\n",
       "      <td>79.825%</td>\n",
       "      <td>82.262%</td>\n",
       "      <td>93.294%</td>\n",
       "      <td>87.432%</td>\n",
       "      <td>65.672%</td>\n",
       "      <td>38.938%</td>\n",
       "      <td>48.889%</td>\n",
       "      <td>77.009%</td>\n",
       "      <td>76.879%</td>\n",
       "    </tr>\n",
       "  </tbody>\n",
       "</table>\n",
       "</div>"
      ],
      "text/plain": [
       "                  Base Modelo  \\\n",
       "0  Nordeste IC (60/40)     LR   \n",
       "\n",
       "                                     Hiperparâmetros Acurácia Precisão (1)  \\\n",
       "0  {'C': 1.0, 'class_weight': None, 'dual': False...  79.825%      82.262%   \n",
       "\n",
       "  Recall (1) F1-Score (1) Precisão (2) Recall (2) F1-Score (2) 3 Kfolds  \\\n",
       "0    93.294%      87.432%      65.672%    38.938%      48.889%  77.009%   \n",
       "\n",
       "  5 Kfolds  \n",
       "0  76.879%  "
      ]
     },
     "execution_count": 31,
     "metadata": {},
     "output_type": "execute_result"
    }
   ],
   "source": [
    "valoresAlvo = [1, 2]\n",
    "\n",
    "colunasRemovidas = ['dataPrimeiraDose', 'dataSegundaDose', 'disturbiosGustatorios', 'disturbiosOlfativos', \n",
    "                    'puerpera', 'respiratoria', 'tosse', 'febre', 'assintomatico', 'obesidade']\n",
    "                    \n",
    "desempenhoDosModelos = mf.testarModelos(basesIC, alvo, colunasRemovidas, modeloClassificador, valoresAlvo)\n",
    "desempenhoDosModelos"
   ]
  },
  {
   "cell_type": "markdown",
   "id": "8b955d13",
   "metadata": {},
   "source": [
    "### Modelo IC - Treinamento e Teste"
   ]
  },
  {
   "cell_type": "code",
   "execution_count": 37,
   "id": "044f9ce4",
   "metadata": {},
   "outputs": [
    {
     "data": {
      "text/plain": [
       "1    1084\n",
       "2     434\n",
       "Name: evolucaoCaso, dtype: int64"
      ]
     },
     "execution_count": 37,
     "metadata": {},
     "output_type": "execute_result"
    }
   ],
   "source": [
    "# Carregando a Base de Dados\n",
    "baseInternadoCurado = pd.read_excel(urlIC)\n",
    "baseInternadoCurado['evolucaoCaso'].value_counts()"
   ]
  },
  {
   "cell_type": "code",
   "execution_count": 40,
   "id": "db8179d4",
   "metadata": {},
   "outputs": [
    {
     "data": {
      "text/plain": [
       "1    1084\n",
       "0     434\n",
       "Name: evolucaoCaso, dtype: int64"
      ]
     },
     "execution_count": 40,
     "metadata": {},
     "output_type": "execute_result"
    }
   ],
   "source": [
    "# Convertendo os valores internado (2 -> 0)\n",
    "baseInternadoCurado['evolucaoCaso'] = baseInternadoCurado['evolucaoCaso'].replace([1, 2], [1, 0])\n",
    "baseInternadoCurado['evolucaoCaso'].value_counts()"
   ]
  },
  {
   "cell_type": "code",
   "execution_count": 41,
   "id": "4e85d1ec",
   "metadata": {},
   "outputs": [],
   "source": [
    "# Selecionando os Atributos do Pré-Processamento\n",
    "baseInternadoCurado = baseInternadoCurado.drop(columns = colunasRemovidas)"
   ]
  },
  {
   "cell_type": "code",
   "execution_count": 42,
   "id": "3d568ee1",
   "metadata": {},
   "outputs": [
    {
     "data": {
      "text/plain": [
       "Index(['sexo', 'racaCor', 'evolucaoCaso', 'dorDeGarganta', 'dispneia',\n",
       "       'coriza', 'dorDeCabeca', 'diabetes', 'renal', 'imunossupressao',\n",
       "       'fragilidadeImuno', 'gestante', 'cardiaca', 'faixaetaria',\n",
       "       'qntVacinas'],\n",
       "      dtype='object')"
      ]
     },
     "execution_count": 42,
     "metadata": {},
     "output_type": "execute_result"
    }
   ],
   "source": [
    "baseInternadoCurado.columns"
   ]
  },
  {
   "cell_type": "code",
   "execution_count": 43,
   "id": "cb38a059",
   "metadata": {},
   "outputs": [],
   "source": [
    "# Definindo o treinamento e teste\n",
    "x_train, x_test, y_train, y_test = train_test_split(baseInternadoCurado.drop(alvo,axis=1),\n",
    "                                                    baseInternadoCurado[alvo],\n",
    "                                                    test_size=0.3,\n",
    "                                                    random_state=42);"
   ]
  },
  {
   "cell_type": "code",
   "execution_count": 44,
   "id": "3e65bda9",
   "metadata": {},
   "outputs": [
    {
     "name": "stdout",
     "output_type": "stream",
     "text": [
      "              precision    recall  f1-score   support\n",
      "\n",
      "           0       0.66      0.39      0.49       113\n",
      "           1       0.82      0.93      0.87       343\n",
      "\n",
      "    accuracy                           0.80       456\n",
      "   macro avg       0.74      0.66      0.68       456\n",
      "weighted avg       0.78      0.80      0.78       456\n",
      "\n"
     ]
    }
   ],
   "source": [
    "# Fit nos dados\n",
    "modeloClassificador = hiperparametrosLR\n",
    "modeloClassificador.fit(x_train, y_train)\n",
    "\n",
    "#Realizando a predição\n",
    "resultadoTeste = modeloClassificador.predict(x_test)\n",
    "\n",
    "# Verificando a acurácia\n",
    "print(metrics.classification_report(y_test,resultadoTeste))"
   ]
  },
  {
   "cell_type": "code",
   "execution_count": 45,
   "id": "44823875",
   "metadata": {},
   "outputs": [
    {
     "data": {
      "image/png": "[encoded data removed]",
      "text/plain": [
       "<Figure size 432x288 with 1 Axes>"
      ]
     },
     "metadata": {
      "needs_background": "light"
     },
     "output_type": "display_data"
    }
   ],
   "source": [
    "# Plotando a curva ROC\n",
    "exibirCurvaROC(modeloClassificador, x_test, y_test)"
   ]
  },
  {
   "cell_type": "markdown",
   "id": "0385d86d",
   "metadata": {},
   "source": [
    "### Modelo IC - Analisando outras Regiões"
   ]
  },
  {
   "cell_type": "code",
   "execution_count": 83,
   "id": "c1208a50",
   "metadata": {},
   "outputs": [],
   "source": [
    "# Lista das Bases de Regiões\n",
    "listaBases = [\"Vacinas/Regioes/IC/ic-vacina-6040-centrooeste.xlsx\", \"Vacinas/Regioes/IC/ic-vacina-6040-sudeste.xlsx\", \n",
    "               \"Vacinas/Regioes/IC/ic-vacina-6040-norte.xlsx\", \"Vacinas/Regioes/IC/ic-vacina-6040-nordeste.xlsx\"]\n",
    "\n",
    "# Colunas Utilizadas\n",
    "colunasSelecionadasTeste = ['faixaetaria', 'sexo', 'racaCor', 'dorDeGarganta', 'dispneia', 'coriza', \n",
    "                            'dorDeCabeca', 'diabetes', 'renal', 'imunossupressao', 'fragilidadeImuno', \n",
    "                            'gestante', 'cardiaca', 'qntVacinas']\n",
    "\n",
    "alvo = 'evolucaoCaso'"
   ]
  },
  {
   "cell_type": "code",
   "execution_count": 84,
   "id": "84ec40f3",
   "metadata": {},
   "outputs": [
    {
     "data": {
      "text/html": [
       "<div>\n",
       "<style scoped>\n",
       "    .dataframe tbody tr th:only-of-type {\n",
       "        vertical-align: middle;\n",
       "    }\n",
       "\n",
       "    .dataframe tbody tr th {\n",
       "        vertical-align: top;\n",
       "    }\n",
       "\n",
       "    .dataframe thead th {\n",
       "        text-align: right;\n",
       "    }\n",
       "</style>\n",
       "<table border=\"1\" class=\"dataframe\">\n",
       "  <thead>\n",
       "    <tr style=\"text-align: right;\">\n",
       "      <th></th>\n",
       "      <th>Acurácia</th>\n",
       "      <th>Base</th>\n",
       "      <th>Precisão (1)</th>\n",
       "      <th>Recall (1)</th>\n",
       "      <th>F1-Score (1)</th>\n",
       "      <th>Precisão (2)</th>\n",
       "      <th>Recall (2)</th>\n",
       "      <th>F1-Score (2)</th>\n",
       "    </tr>\n",
       "  </thead>\n",
       "  <tbody>\n",
       "    <tr>\n",
       "      <th>0</th>\n",
       "      <td>70.236%</td>\n",
       "      <td>Vacinas/Regioes/IC/ic-vacina-6040-centrooeste....</td>\n",
       "      <td>71.371%</td>\n",
       "      <td>97.387%</td>\n",
       "      <td>82.373%</td>\n",
       "      <td>26.923%</td>\n",
       "      <td>2.405%</td>\n",
       "      <td>4.416%</td>\n",
       "    </tr>\n",
       "    <tr>\n",
       "      <th>0</th>\n",
       "      <td>69.084%</td>\n",
       "      <td>Vacinas/Regioes/IC/ic-vacina-6040-sudeste.xlsx</td>\n",
       "      <td>71.223%</td>\n",
       "      <td>95.17%</td>\n",
       "      <td>81.474%</td>\n",
       "      <td>24.272%</td>\n",
       "      <td>3.87%</td>\n",
       "      <td>6.676%</td>\n",
       "    </tr>\n",
       "    <tr>\n",
       "      <th>0</th>\n",
       "      <td>71.107%</td>\n",
       "      <td>Vacinas/Regioes/IC/ic-vacina-6040-norte.xlsx</td>\n",
       "      <td>71.443%</td>\n",
       "      <td>99.177%</td>\n",
       "      <td>83.056%</td>\n",
       "      <td>33.333%</td>\n",
       "      <td>1.027%</td>\n",
       "      <td>1.993%</td>\n",
       "    </tr>\n",
       "    <tr>\n",
       "      <th>0</th>\n",
       "      <td>70.777%</td>\n",
       "      <td>Vacinas/Regioes/IC/ic-vacina-6040-nordeste.xlsx</td>\n",
       "      <td>71.372%</td>\n",
       "      <td>98.653%</td>\n",
       "      <td>82.824%</td>\n",
       "      <td>25.0%</td>\n",
       "      <td>1.122%</td>\n",
       "      <td>2.148%</td>\n",
       "    </tr>\n",
       "  </tbody>\n",
       "</table>\n",
       "</div>"
      ],
      "text/plain": [
       "  Acurácia                                               Base Precisão (1)  \\\n",
       "0  70.236%  Vacinas/Regioes/IC/ic-vacina-6040-centrooeste....      71.371%   \n",
       "0  69.084%     Vacinas/Regioes/IC/ic-vacina-6040-sudeste.xlsx      71.223%   \n",
       "0  71.107%       Vacinas/Regioes/IC/ic-vacina-6040-norte.xlsx      71.443%   \n",
       "0  70.777%    Vacinas/Regioes/IC/ic-vacina-6040-nordeste.xlsx      71.372%   \n",
       "\n",
       "  Recall (1) F1-Score (1) Precisão (2) Recall (2) F1-Score (2)  \n",
       "0    97.387%      82.373%      26.923%     2.405%       4.416%  \n",
       "0     95.17%      81.474%      24.272%      3.87%       6.676%  \n",
       "0    99.177%      83.056%      33.333%     1.027%       1.993%  \n",
       "0    98.653%      82.824%        25.0%     1.122%       2.148%  "
      ]
     },
     "execution_count": 84,
     "metadata": {},
     "output_type": "execute_result"
    }
   ],
   "source": [
    "alvos = [1, 2]\n",
    "desempenhoDosModelos = pd.DataFrame()\n",
    "for indice in range(0, len(listaBases)):\n",
    "    covidData = pd.read_excel(listaBases[indice])\n",
    "    dadosTeste = covidData.loc[:, colunasSelecionadasTeste]\n",
    "    dadosAlvo =  covidData.loc[:, alvo]\n",
    "     \n",
    "    metricasMap = calcularMetricas(dadosTeste, dadosAlvo, listaBases[indice], modeloClassificador, alvos)\n",
    "    desempenhoDosModelos = pd.concat([desempenhoDosModelos, pd.DataFrame([metricasMap])])\n",
    "desempenhoDosModelos"
   ]
  },
  {
   "cell_type": "code",
   "execution_count": null,
   "id": "ab184977",
   "metadata": {},
   "outputs": [],
   "source": [
    "write = pd.ExcelWriter('desempenhoModeloICFinal.xlsx')\n",
    "desempenhoDosModelos.to_excel(write, 'dados', index = False)\n",
    "write.save()"
   ]
  }
 ],
 "metadata": {
  "kernelspec": {
   "display_name": "Python 3 (ipykernel)",
   "language": "python",
   "name": "python3"
  },
  "language_info": {
   "codemirror_mode": {
    "name": "ipython",
    "version": 3
   },
   "file_extension": ".py",
   "mimetype": "text/x-python",
   "name": "python",
   "nbconvert_exporter": "python",
   "pygments_lexer": "ipython3",
   "version": "3.8.10"
  }
 },
 "nbformat": 4,
 "nbformat_minor": 5
}
