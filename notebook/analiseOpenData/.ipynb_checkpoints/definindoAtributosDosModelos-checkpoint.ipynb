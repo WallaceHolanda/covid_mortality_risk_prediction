{
 "cells": [
  {
   "cell_type": "code",
   "execution_count": 1,
   "id": "14416589",
   "metadata": {},
   "outputs": [
    {
     "name": "stdout",
     "output_type": "stream",
     "text": [
      "importing Jupyter notebook from preprocessamentofuncoes.ipynb\n"
     ]
    }
   ],
   "source": [
    "import pandas as pd\n",
    "import numpy as np\n",
    "\n",
    "import import_ipynb\n",
    "import preprocessamentofuncoes as pp"
   ]
  },
  {
   "cell_type": "code",
   "execution_count": 70,
   "id": "6b5b0c0e",
   "metadata": {},
   "outputs": [],
   "source": [
    "# Carregando as bases\n",
    "parte_1 = pd.read_excel('PreProcessamento/balanceadas/new-pp-ic-7030-sp.xlsx')\n",
    "parte_2 = pd.read_excel('PreProcessamento/balanceadas/new-pp-ic-7030-sp2.xlsx')"
   ]
  },
  {
   "cell_type": "code",
   "execution_count": 71,
   "id": "ca249bf8",
   "metadata": {},
   "outputs": [],
   "source": [
    "# Juntando as partes\n",
    "covidData = pd.concat([parte_1, parte_2])\n",
    "covidData.reset_index(inplace=True, drop = True)"
   ]
  },
  {
   "cell_type": "code",
   "execution_count": 72,
   "id": "c25df5b0",
   "metadata": {},
   "outputs": [
    {
     "data": {
      "text/plain": [
       "1    2439\n",
       "2     732\n",
       "Name: evolucaoCaso, dtype: int64"
      ]
     },
     "execution_count": 72,
     "metadata": {},
     "output_type": "execute_result"
    }
   ],
   "source": [
    "covidData['evolucaoCaso'].value_counts()"
   ]
  },
  {
   "cell_type": "markdown",
   "id": "d0bae12c",
   "metadata": {},
   "source": [
    "### Modelo OC - Removendo as colunas não utilizadas"
   ]
  },
  {
   "cell_type": "code",
   "execution_count": 42,
   "id": "aa8010b9",
   "metadata": {},
   "outputs": [],
   "source": [
    "# Modelo OC\n",
    "\n",
    "# Menos de 0.1% de Importância (25 Atributos)\n",
    "# colunasRemovidas = ['assintomatico', 'asma', 'cefaleia', 'tosse', 'diarreia', \n",
    "#                     'dorNoPeito', 'hipotireoidismo', 'imunossupressao', 'puerpera', \n",
    "#                     'disturbiosGustatorios', 'disturbiosOlfativos', 'bronquite', \n",
    "#                     'dosNasCostas', 'gestante']\n",
    "\n",
    "# Menos de 1% de Importância (10 Atributos)\n",
    "# colunasRemovidas = ['assintomatico', 'asma', 'cefaleia', 'tosse', 'diarreia', \n",
    "#                     'dorNoPeito', 'hipotireoidismo', 'imunossupressao', 'puerpera', \n",
    "#                     'disturbiosGustatorios', 'disturbiosOlfativos', 'bronquite', \n",
    "#                     'dosNasCostas', 'gestante', 'respiratoria', 'sexo', 'febre', \n",
    "#                     'mialgia', 'cardiaca', 'hipertensao', 'faixaDiasSintomas', \n",
    "#                     'faltaDeAr', 'racaCor', 'congestaoNasal', 'renal', 'dorNoCorpo', \n",
    "#                     'vomito', 'fragilidadeImuno', 'cansaco']\n",
    "\n",
    "# colunasSelecionadas = ['evolucaoCaso', 'diasSintomas', 'dorDeGarganta', 'dispneia', \n",
    "#                        'coriza','dorDeCabeca', 'obesidade', 'qntVacinas', 'faixaetaria']\n",
    "\n",
    "# covidDataReduced = covidData.drop(columns = colunasRemovidas)\n",
    "# covidDataReduced.shape"
   ]
  },
  {
   "cell_type": "markdown",
   "id": "f2c893b9",
   "metadata": {},
   "source": [
    "### Modelo IC - Removendo as colunas não utilizadas"
   ]
  },
  {
   "cell_type": "code",
   "execution_count": 84,
   "id": "3e80ea2a",
   "metadata": {},
   "outputs": [
    {
     "data": {
      "text/plain": [
       "(3171, 10)"
      ]
     },
     "execution_count": 84,
     "metadata": {},
     "output_type": "execute_result"
    }
   ],
   "source": [
    "# Modelo IC\n",
    "\n",
    "# Menos de 1% de Importância (17 Atributos)\n",
    "# colunasRemovidas = ['racaCor', 'dosNasCostas', 'dorNoCorpo', 'cefaleia', \n",
    "#                     'febre', 'diarreia', 'cardiaca', 'respiratoria', \n",
    "#                     'congestaoNasal', 'cansaco', 'mialgia', 'fragilidadeImuno', \n",
    "#                     'tosse', 'dorNoPeito', 'asma', 'disturbiosOlfativos', 'faltaDeAr', \n",
    "#                     'puerpera', 'disturbiosGustatorios', 'bronquite', 'hipotireoidismo', 'vomito']\n",
    "\n",
    "# Menos de 2% de Importância (10 Atributos)\n",
    "# colunasRemovidas = ['racaCor', 'dosNasCostas', 'dorNoCorpo', 'cefaleia', \n",
    "#                     'febre', 'diarreia', 'cardiaca', 'respiratoria', \n",
    "#                     'congestaoNasal', 'cansaco', 'mialgia', 'fragilidadeImuno', \n",
    "#                     'tosse', 'dorNoPeito', 'asma', 'disturbiosOlfativos', 'faltaDeAr', \n",
    "#                     'puerpera', 'disturbiosGustatorios', 'bronquite', 'hipotireoidismo', \n",
    "#                     'vomito', 'qntVacinas', 'imunossupressao', 'assintomatico', 'gestante', \n",
    "#                     'renal', 'hipertensao', 'faixaDiasSintomas']\n",
    "\n",
    "# colunasSelecionadas = ['faixaetaria', 'dispneia', 'dorDeGarganta', 'diasSintomas', \n",
    "#                        'dorDeCabeca', 'coriza', 'diabetes', 'obesidade', 'sexo', 'qntVacinas',\n",
    "#                        'imunossupressao', 'assintomatico', 'gestante', 'renal', 'hipertensao',\n",
    "#                        'faixaDiasSintomas']\n",
    "\n",
    "covidDataReduced = covidData.drop(columns = colunasRemovidas)\n",
    "covidDataReduced.shape"
   ]
  },
  {
   "cell_type": "code",
   "execution_count": 78,
   "id": "59d1093e",
   "metadata": {},
   "outputs": [],
   "source": [
    "# covidDataReduced = covidData"
   ]
  },
  {
   "cell_type": "markdown",
   "id": "fcd4505c",
   "metadata": {},
   "source": [
    "### Avaliando o desempenho do modelo"
   ]
  },
  {
   "cell_type": "code",
   "execution_count": 85,
   "id": "c666ed79",
   "metadata": {},
   "outputs": [],
   "source": [
    "from sklearn.model_selection import train_test_split\n",
    "from sklearn.linear_model import LogisticRegression\n",
    "from sklearn import metrics\n",
    "\n",
    "from sklearn.ensemble import GradientBoostingClassifier"
   ]
  },
  {
   "cell_type": "code",
   "execution_count": 86,
   "id": "4142dae5",
   "metadata": {},
   "outputs": [],
   "source": [
    "hiperparametrosLR = LogisticRegression(C=1.0, class_weight=None, dual=False, fit_intercept=True, \n",
    "                                       intercept_scaling=1, l1_ratio=None, max_iter=1000, multi_class='auto', \n",
    "                                       n_jobs=None, penalty='l2', random_state=1340, solver='lbfgs', \n",
    "                                       tol=0.0001, verbose=0, warm_start=False)\n",
    "\n",
    "hiperparametrosGB = GradientBoostingClassifier(ccp_alpha=0.0, criterion='friedman_mse', init=None,\n",
    "                           learning_rate=0.1, loss='deviance', max_depth=3,\n",
    "                           max_features=None, max_leaf_nodes=None,\n",
    "                           min_impurity_decrease=0.0, min_impurity_split=None,\n",
    "                           min_samples_leaf=1, min_samples_split=2,\n",
    "                           min_weight_fraction_leaf=0.0, n_estimators=100,\n",
    "                           n_iter_no_change=None, \n",
    "                           random_state=2333, subsample=1.0, tol=0.0001,\n",
    "                           validation_fraction=0.1, verbose=0,\n",
    "                           warm_start=False)"
   ]
  },
  {
   "cell_type": "markdown",
   "id": "9780890a",
   "metadata": {},
   "source": [
    "### Treinamento e Teste"
   ]
  },
  {
   "cell_type": "code",
   "execution_count": 87,
   "id": "15791da7",
   "metadata": {},
   "outputs": [],
   "source": [
    "baseModelo = covidDataReduced\n",
    "alvo = 'evolucaoCaso'\n",
    "x_train, x_test, y_train, y_test = train_test_split(baseModelo.drop(alvo,axis=1),\n",
    "                                                    baseModelo[alvo],\n",
    "                                                    test_size=0.3,\n",
    "                                                    random_state=42);"
   ]
  },
  {
   "cell_type": "code",
   "execution_count": 88,
   "id": "7fb075b3",
   "metadata": {},
   "outputs": [
    {
     "name": "stdout",
     "output_type": "stream",
     "text": [
      "              precision    recall  f1-score   support\n",
      "\n",
      "           1       0.82      0.96      0.88       719\n",
      "           2       0.71      0.34      0.46       233\n",
      "\n",
      "    accuracy                           0.80       952\n",
      "   macro avg       0.76      0.65      0.67       952\n",
      "weighted avg       0.79      0.80      0.78       952\n",
      "\n"
     ]
    }
   ],
   "source": [
    "# Fit nos dados\n",
    "modeloClassificador = hiperparametrosGB\n",
    "modeloClassificador.fit(x_train, y_train)\n",
    "\n",
    "#Realizando a predição\n",
    "resultadoTeste = modeloClassificador.predict(x_test)\n",
    "\n",
    "# Verificando a acurácia\n",
    "print(metrics.classification_report(y_test,resultadoTeste))"
   ]
  },
  {
   "cell_type": "markdown",
   "id": "7707174b",
   "metadata": {},
   "source": [
    "### Verificando a importância dos atributos"
   ]
  },
  {
   "cell_type": "code",
   "execution_count": 89,
   "id": "f7c656d1",
   "metadata": {},
   "outputs": [
    {
     "data": {
      "text/html": [
       "<div>\n",
       "<style scoped>\n",
       "    .dataframe tbody tr th:only-of-type {\n",
       "        vertical-align: middle;\n",
       "    }\n",
       "\n",
       "    .dataframe tbody tr th {\n",
       "        vertical-align: top;\n",
       "    }\n",
       "\n",
       "    .dataframe thead th {\n",
       "        text-align: right;\n",
       "    }\n",
       "</style>\n",
       "<table border=\"1\" class=\"dataframe\">\n",
       "  <thead>\n",
       "    <tr style=\"text-align: right;\">\n",
       "      <th></th>\n",
       "      <th>importance</th>\n",
       "    </tr>\n",
       "  </thead>\n",
       "  <tbody>\n",
       "    <tr>\n",
       "      <th>faixaetaria</th>\n",
       "      <td>0.502563</td>\n",
       "    </tr>\n",
       "    <tr>\n",
       "      <th>diasSintomas</th>\n",
       "      <td>0.126615</td>\n",
       "    </tr>\n",
       "    <tr>\n",
       "      <th>dispneia</th>\n",
       "      <td>0.121794</td>\n",
       "    </tr>\n",
       "    <tr>\n",
       "      <th>dorDeGarganta</th>\n",
       "      <td>0.082184</td>\n",
       "    </tr>\n",
       "    <tr>\n",
       "      <th>dorDeCabeca</th>\n",
       "      <td>0.080467</td>\n",
       "    </tr>\n",
       "    <tr>\n",
       "      <th>coriza</th>\n",
       "      <td>0.032202</td>\n",
       "    </tr>\n",
       "    <tr>\n",
       "      <th>diabetes</th>\n",
       "      <td>0.019652</td>\n",
       "    </tr>\n",
       "    <tr>\n",
       "      <th>sexo</th>\n",
       "      <td>0.019343</td>\n",
       "    </tr>\n",
       "    <tr>\n",
       "      <th>obesidade</th>\n",
       "      <td>0.015181</td>\n",
       "    </tr>\n",
       "  </tbody>\n",
       "</table>\n",
       "</div>"
      ],
      "text/plain": [
       "               importance\n",
       "faixaetaria      0.502563\n",
       "diasSintomas     0.126615\n",
       "dispneia         0.121794\n",
       "dorDeGarganta    0.082184\n",
       "dorDeCabeca      0.080467\n",
       "coriza           0.032202\n",
       "diabetes         0.019652\n",
       "sexo             0.019343\n",
       "obesidade        0.015181"
      ]
     },
     "execution_count": 89,
     "metadata": {},
     "output_type": "execute_result"
    }
   ],
   "source": [
    "feature_importances = pd.DataFrame(modeloClassificador.feature_importances_,\n",
    "                                   index = x_train.columns,\n",
    "                                    columns=['importance']).sort_values('importance', ascending=False)\n",
    "feature_importances"
   ]
  },
  {
   "cell_type": "code",
   "execution_count": 56,
   "id": "08547e61",
   "metadata": {},
   "outputs": [
    {
     "data": {
      "text/plain": [
       "Index(['faixaetaria', 'dispneia', 'dorDeGarganta', 'diasSintomas',\n",
       "       'dorDeCabeca', 'coriza', 'diabetes', 'obesidade', 'sexo', 'qntVacinas',\n",
       "       'imunossupressao', 'assintomatico', 'gestante', 'renal', 'hipertensao',\n",
       "       'faixaDiasSintomas'],\n",
       "      dtype='object')"
      ]
     },
     "execution_count": 56,
     "metadata": {},
     "output_type": "execute_result"
    }
   ],
   "source": [
    "feature_importances.index"
   ]
  },
  {
   "cell_type": "code",
   "execution_count": null,
   "id": "f0c06fec",
   "metadata": {},
   "outputs": [],
   "source": []
  }
 ],
 "metadata": {
  "kernelspec": {
   "display_name": "Python 3 (ipykernel)",
   "language": "python",
   "name": "python3"
  },
  "language_info": {
   "codemirror_mode": {
    "name": "ipython",
    "version": 3
   },
   "file_extension": ".py",
   "mimetype": "text/x-python",
   "name": "python",
   "nbconvert_exporter": "python",
   "pygments_lexer": "ipython3",
   "version": "3.8.10"
  }
 },
 "nbformat": 4,
 "nbformat_minor": 5
}
