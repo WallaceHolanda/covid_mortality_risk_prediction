{
 "cells": [
  {
   "cell_type": "code",
   "execution_count": 20,
   "metadata": {
    "executionInfo": {
     "elapsed": 1799,
     "status": "ok",
     "timestamp": 1606845696531,
     "user": {
      "displayName": "WALLACE DUARTE DE HOLANDA",
      "photoUrl": "https://lh3.googleusercontent.com/a-/AOh14GgeWMOt53non50jDB5bIAwurrZleD5e6T7yfR9w=s64",
      "userId": "03474631865123362594"
     },
     "user_tz": 180
    },
    "id": "TW5Oyd2oXbrk"
   },
   "outputs": [],
   "source": [
    "import pandas as pd"
   ]
  },
  {
   "cell_type": "code",
   "execution_count": 38,
   "metadata": {
    "executionInfo": {
     "elapsed": 3434,
     "status": "ok",
     "timestamp": 1606845719272,
     "user": {
      "displayName": "WALLACE DUARTE DE HOLANDA",
      "photoUrl": "https://lh3.googleusercontent.com/a-/AOh14GgeWMOt53non50jDB5bIAwurrZleD5e6T7yfR9w=s64",
      "userId": "03474631865123362594"
     },
     "user_tz": 180
    },
    "id": "4Vjp-2FtXbr7"
   },
   "outputs": [],
   "source": [
    "covidData = pd.read_csv(\"../../database/opendatasus/rn-opendata-2022.csv\", on_bad_lines='skip')"
   ]
  },
  {
   "cell_type": "code",
   "execution_count": 39,
   "metadata": {
    "colab": {
     "base_uri": "https://localhost:8080/"
    },
    "executionInfo": {
     "elapsed": 823,
     "status": "ok",
     "timestamp": 1606782619746,
     "user": {
      "displayName": "WALLACE DUARTE DE HOLANDA",
      "photoUrl": "https://lh3.googleusercontent.com/a-/AOh14GgeWMOt53non50jDB5bIAwurrZleD5e6T7yfR9w=s64",
      "userId": "03474631865123362594"
     },
     "user_tz": 180
    },
    "id": "R04MwHdxXbsK",
    "outputId": "e5065bd9-5f57-4346-a7d9-25a397411b9d"
   },
   "outputs": [
    {
     "data": {
      "text/plain": [
       "(230764, 65)"
      ]
     },
     "execution_count": 39,
     "metadata": {},
     "output_type": "execute_result"
    }
   ],
   "source": [
    "#Visualizando Dados\n",
    "covidData.head()\n",
    "covidData.shape"
   ]
  },
  {
   "cell_type": "markdown",
   "metadata": {},
   "source": [
    "# Verificando e Selecionando as Colunas"
   ]
  },
  {
   "cell_type": "code",
   "execution_count": 40,
   "metadata": {
    "colab": {
     "base_uri": "https://localhost:8080/"
    },
    "executionInfo": {
     "elapsed": 1467,
     "status": "ok",
     "timestamp": 1606845724926,
     "user": {
      "displayName": "WALLACE DUARTE DE HOLANDA",
      "photoUrl": "https://lh3.googleusercontent.com/a-/AOh14GgeWMOt53non50jDB5bIAwurrZleD5e6T7yfR9w=s64",
      "userId": "03474631865123362594"
     },
     "user_tz": 180
    },
    "id": "kGnNDZZvXbsk",
    "outputId": "bf3b6b9b-14ef-4889-907e-671a9dd779e7"
   },
   "outputs": [
    {
     "data": {
      "text/plain": [
       "Index(['source_id', 'dataNotificacao', 'dataInicioSintomas', 'sintomas',\n",
       "       'profissionalSaude', 'racaCor', 'outrosSintomas', 'outrasCondicoes',\n",
       "       'profissionalSeguranca', 'cbo', 'condicoes', 'sexo', 'estado',\n",
       "       'estadoIBGE', 'municipio', 'municipioIBGE', 'origem',\n",
       "       'estadoNotificacao', 'estadoNotificacaoIBGE', 'municipioNotificacao',\n",
       "       'municipioNotificacaoIBGE', 'excluido', 'validado', 'dataEncerramento',\n",
       "       'evolucaoCaso', 'classificacaoFinal', 'codigoEstrategiaCovid',\n",
       "       'codigoBuscaAtivaAssintomatico', 'outroBuscaAtivaAssintomatico',\n",
       "       'codigoTriagemPopulacaoEspecifica', 'outroTriagemPopulacaoEspecifica',\n",
       "       'codigoLocalRealizacaoTestagem', 'outroLocalRealizacaoTestagem',\n",
       "       'codigoRecebeuVacina', 'codigoDosesVacina', 'dataPrimeiraDose',\n",
       "       'dataSegundaDose', 'codigoLaboratorioPrimeiraDose',\n",
       "       'codigoLaboratorioSegundaDose', 'lotePrimeiraDose', 'loteSegundaDose',\n",
       "       'codigoContemComunidadeTradicional', 'totalTestesRealizados',\n",
       "       'codigoEstadoTeste1', 'codigoTipoTeste1', 'codigoFabricanteTeste1',\n",
       "       'codigoResultadoTeste1', 'dataColetaTeste1', 'codigoEstadoTeste2',\n",
       "       'codigoTipoTeste2', 'codigoFabricanteTeste2', 'codigoResultadoTeste2',\n",
       "       'dataColetaTeste2', 'codigoEstadoTeste3', 'codigoTipoTeste3',\n",
       "       'codigoFabricanteTeste3', 'codigoResultadoTeste3', 'dataColetaTeste3',\n",
       "       'codigoEstadoTeste4', 'codigoTipoTeste4', 'codigoFabricanteTeste4',\n",
       "       'codigoResultadoTeste4', 'dataColetaTeste4', 'idade', 'Unnamed: 64'],\n",
       "      dtype='object')"
      ]
     },
     "execution_count": 40,
     "metadata": {},
     "output_type": "execute_result"
    }
   ],
   "source": [
    "#Verificando a dimensão da Tabela\n",
    "colunas = covidData.columns\n",
    "colunas"
   ]
  },
  {
   "cell_type": "code",
   "execution_count": 41,
   "metadata": {},
   "outputs": [
    {
     "data": {
      "text/plain": [
       "Descartado                           5619\n",
       "Confirmado Laboratorial              4485\n",
       "Confirmado Clínico-Epidemiológico    1128\n",
       "Confirmado por Critério Clínico       886\n",
       "Síndrome Gripal Não Especificada      657\n",
       "1                                       3\n",
       "Name: classificacaoFinal, dtype: int64"
      ]
     },
     "execution_count": 41,
     "metadata": {},
     "output_type": "execute_result"
    }
   ],
   "source": [
    "# Visualizando o formato das condições\n",
    "covidData['classificacaoFinal'].value_counts()"
   ]
  },
  {
   "cell_type": "code",
   "execution_count": 42,
   "metadata": {},
   "outputs": [],
   "source": [
    "# Separando as colunas mais importantes\n",
    "colunasImportantes = ['source_id', 'sexo', 'racaCor', 'idade', 'sintomas', 'condicoes',\n",
    "                      'dataPrimeiraDose', 'dataSegundaDose', 'classificacaoFinal', 'evolucaoCaso']\n",
    "covidData = covidData[colunasImportantes]"
   ]
  },
  {
   "cell_type": "markdown",
   "metadata": {},
   "source": [
    "# Calculando e Removendo os Valores Ausentes"
   ]
  },
  {
   "cell_type": "code",
   "execution_count": 43,
   "metadata": {
    "colab": {
     "base_uri": "https://localhost:8080/"
    },
    "executionInfo": {
     "elapsed": 786,
     "status": "ok",
     "timestamp": 1606782622935,
     "user": {
      "displayName": "WALLACE DUARTE DE HOLANDA",
      "photoUrl": "https://lh3.googleusercontent.com/a-/AOh14GgeWMOt53non50jDB5bIAwurrZleD5e6T7yfR9w=s64",
      "userId": "03474631865123362594"
     },
     "user_tz": 180
    },
    "id": "Dxgp81H2Xbs5",
    "outputId": "f0228368-565a-448f-bea8-43f58ae8d5ed"
   },
   "outputs": [],
   "source": [
    "#Verificando a quantidade de dados faltantes por colunas\n",
    "from matplotlib import pyplot as plt\n",
    "\n",
    "def visualizarQntFaltosos(covidData):\n",
    "    faltantes = covidData.isnull().sum()\n",
    "    faltantes_percentual = (covidData.isnull().sum() / len(covidData['source_id'])) * 100\n",
    "    return faltantes_percentual\n",
    "    \n",
    "def plotarQntFaltosos(dados):\n",
    "    nomes = dados.index\n",
    "    valores = dados.values\n",
    "    plt.barh(nomes, valores)\n",
    "    plt.show"
   ]
  },
  {
   "cell_type": "code",
   "execution_count": 44,
   "metadata": {},
   "outputs": [
    {
     "data": {
      "text/plain": [
       "source_id              0.000000\n",
       "sexo                   0.000433\n",
       "racaCor                0.002600\n",
       "idade                  0.363575\n",
       "sintomas               0.000000\n",
       "condicoes             89.077152\n",
       "dataPrimeiraDose      31.541315\n",
       "dataSegundaDose       35.425370\n",
       "classificacaoFinal    94.462741\n",
       "evolucaoCaso          94.441941\n",
       "dtype: float64"
      ]
     },
     "execution_count": 44,
     "metadata": {},
     "output_type": "execute_result"
    }
   ],
   "source": [
    "dados_faltosos = visualizarQntFaltosos(covidData)\n",
    "dados_faltosos\n",
    "# plotarQntFaltosos(dados_faltosos)"
   ]
  },
  {
   "cell_type": "markdown",
   "metadata": {},
   "source": [
    "# Limpeza de Dados - Classificação Final\n",
    "\n",
    "```Descartado, Confirmado [Laboratorial, Clínico-Epidemiológico, Critério Clínico] e  Síndrome Gripal Não Especificada```"
   ]
  },
  {
   "cell_type": "code",
   "execution_count": 45,
   "metadata": {},
   "outputs": [
    {
     "data": {
      "text/plain": [
       "Descartado                           5619\n",
       "Confirmado Laboratorial              4485\n",
       "Confirmado Clínico-Epidemiológico    1128\n",
       "Confirmado por Critério Clínico       886\n",
       "Síndrome Gripal Não Especificada      657\n",
       "1                                       3\n",
       "Name: classificacaoFinal, dtype: int64"
      ]
     },
     "execution_count": 45,
     "metadata": {},
     "output_type": "execute_result"
    }
   ],
   "source": [
    "# Visualizando o formato das condições\n",
    "covidData['classificacaoFinal'].value_counts()"
   ]
  },
  {
   "cell_type": "markdown",
   "metadata": {},
   "source": [
    "#### i. Remoção dos valores ausentes"
   ]
  },
  {
   "cell_type": "code",
   "execution_count": 46,
   "metadata": {},
   "outputs": [],
   "source": [
    "classificacao = 'classificacaoFinal'\n",
    "atributosVazios = covidData.loc[covidData[classificacao].isnull()]\n",
    "covidData = covidData.drop(atributosVazios.index)"
   ]
  },
  {
   "cell_type": "markdown",
   "metadata": {},
   "source": [
    "#### ii. Juntando os valores Confirmados"
   ]
  },
  {
   "cell_type": "code",
   "execution_count": 47,
   "metadata": {},
   "outputs": [
    {
     "data": {
      "text/plain": [
       "Confirmado                          6499\n",
       "Descartado                          5619\n",
       "Síndrome Gripal Não Especificada     657\n",
       "1                                      3\n",
       "Name: classificacaoFinal, dtype: int64"
      ]
     },
     "execution_count": 47,
     "metadata": {},
     "output_type": "execute_result"
    }
   ],
   "source": [
    "covidData.loc[covidData[classificacao].str.contains(pat = 'Confirmado'), [classificacao]] = 'Confirmado';\n",
    "covidData[classificacao].value_counts()"
   ]
  },
  {
   "cell_type": "code",
   "execution_count": 48,
   "metadata": {},
   "outputs": [
    {
     "data": {
      "text/plain": [
       "Confirmado                          6499\n",
       "Descartado                          5619\n",
       "Síndrome Gripal Não Especificada     657\n",
       "1                                      3\n",
       "Name: classificacaoFinal, dtype: int64"
      ]
     },
     "execution_count": 48,
     "metadata": {},
     "output_type": "execute_result"
    }
   ],
   "source": [
    "covidData[classificacao].value_counts()"
   ]
  },
  {
   "cell_type": "markdown",
   "metadata": {},
   "source": [
    "#### iii. Removendo os valores diferentes de Confirmados"
   ]
  },
  {
   "cell_type": "code",
   "execution_count": 49,
   "metadata": {},
   "outputs": [],
   "source": [
    "dadosNaoConfirmados = covidData.loc[((covidData[classificacao] != 'Confirmado'))]\n",
    "\n",
    "covidData = covidData.drop(dadosNaoConfirmados.index)"
   ]
  },
  {
   "cell_type": "code",
   "execution_count": 50,
   "metadata": {},
   "outputs": [
    {
     "data": {
      "text/plain": [
       "Confirmado    6499\n",
       "Name: classificacaoFinal, dtype: int64"
      ]
     },
     "execution_count": 50,
     "metadata": {},
     "output_type": "execute_result"
    }
   ],
   "source": [
    "covidData[classificacao].value_counts()"
   ]
  },
  {
   "cell_type": "code",
   "execution_count": 51,
   "metadata": {},
   "outputs": [
    {
     "data": {
      "text/plain": [
       "source_id              0.000000\n",
       "sexo                   0.000000\n",
       "racaCor                0.015387\n",
       "idade                  0.000000\n",
       "sintomas               0.000000\n",
       "condicoes             93.537467\n",
       "dataPrimeiraDose      35.190029\n",
       "dataSegundaDose       37.913525\n",
       "classificacaoFinal     0.000000\n",
       "evolucaoCaso           2.800431\n",
       "dtype: float64"
      ]
     },
     "execution_count": 51,
     "metadata": {},
     "output_type": "execute_result"
    }
   ],
   "source": [
    "dados_faltosos = visualizarQntFaltosos(covidData)\n",
    "dados_faltosos"
   ]
  },
  {
   "cell_type": "markdown",
   "metadata": {},
   "source": [
    "# Limpeza de Dados - Atibuto Evolução\n",
    "\n",
    "``` Pode conter (Cancelado, Cura, Ignorado, Em tratamento domiciliar, Óbito, Internado, Internado em UTI ```"
   ]
  },
  {
   "cell_type": "code",
   "execution_count": 52,
   "metadata": {},
   "outputs": [
    {
     "data": {
      "text/plain": [
       "Cura                        5609\n",
       "Em tratamento domiciliar     490\n",
       "Ignorado                     126\n",
       "Óbito                         56\n",
       "Cancelado                     31\n",
       "Internado                      4\n",
       "Internado em UTI               1\n",
       "Name: evolucaoCaso, dtype: int64"
      ]
     },
     "execution_count": 52,
     "metadata": {},
     "output_type": "execute_result"
    }
   ],
   "source": [
    "alvo = 'evolucaoCaso'\n",
    "#covidData[alvo].unique()\n",
    "covidData[alvo].value_counts()"
   ]
  },
  {
   "cell_type": "markdown",
   "metadata": {},
   "source": [
    "#### i. Remoção dos valores ausentes"
   ]
  },
  {
   "cell_type": "code",
   "execution_count": 53,
   "metadata": {
    "executionInfo": {
     "elapsed": 1376,
     "status": "ok",
     "timestamp": 1606845731410,
     "user": {
      "displayName": "WALLACE DUARTE DE HOLANDA",
      "photoUrl": "https://lh3.googleusercontent.com/a-/AOh14GgeWMOt53non50jDB5bIAwurrZleD5e6T7yfR9w=s64",
      "userId": "03474631865123362594"
     },
     "user_tz": 180
    },
    "id": "5q41oIsjXbtL"
   },
   "outputs": [],
   "source": [
    "atributosVazios = covidData.loc[covidData[alvo].isnull()]\n",
    "covidData = covidData.drop(atributosVazios.index)"
   ]
  },
  {
   "cell_type": "code",
   "execution_count": 54,
   "metadata": {},
   "outputs": [
    {
     "data": {
      "text/plain": [
       "Cura                        5609\n",
       "Em tratamento domiciliar     490\n",
       "Ignorado                     126\n",
       "Óbito                         56\n",
       "Cancelado                     31\n",
       "Internado                      4\n",
       "Internado em UTI               1\n",
       "Name: evolucaoCaso, dtype: int64"
      ]
     },
     "execution_count": 54,
     "metadata": {},
     "output_type": "execute_result"
    }
   ],
   "source": [
    "# visualizarQntFaltosos(covidData)\n",
    "covidData[alvo].value_counts()"
   ]
  },
  {
   "cell_type": "markdown",
   "metadata": {},
   "source": [
    "#### ii. Removendo os valores Ignorado e Cancelado"
   ]
  },
  {
   "cell_type": "code",
   "execution_count": 55,
   "metadata": {},
   "outputs": [],
   "source": [
    "dadosIgnoradosCancelados = covidData.loc[((covidData[alvo] == 'Ignorado') | \n",
    "                                          (covidData[alvo] == 'Cancelado'))]\n",
    "\n",
    "covidData = covidData.drop(dadosIgnoradosCancelados.index)"
   ]
  },
  {
   "cell_type": "code",
   "execution_count": 56,
   "metadata": {},
   "outputs": [
    {
     "data": {
      "text/plain": [
       "Cura                        5609\n",
       "Em tratamento domiciliar     490\n",
       "Óbito                         56\n",
       "Internado                      4\n",
       "Internado em UTI               1\n",
       "Name: evolucaoCaso, dtype: int64"
      ]
     },
     "execution_count": 56,
     "metadata": {},
     "output_type": "execute_result"
    }
   ],
   "source": [
    "covidData[alvo].value_counts()"
   ]
  },
  {
   "cell_type": "markdown",
   "metadata": {},
   "source": [
    "#### iii. Agrupando os valores de 'Internado'"
   ]
  },
  {
   "cell_type": "code",
   "execution_count": 58,
   "metadata": {},
   "outputs": [
    {
     "data": {
      "text/plain": [
       "Cura                        5609\n",
       "Em tratamento domiciliar     490\n",
       "Óbito                         56\n",
       "Internado                      5\n",
       "Name: evolucaoCaso, dtype: int64"
      ]
     },
     "execution_count": 58,
     "metadata": {},
     "output_type": "execute_result"
    }
   ],
   "source": [
    "covidData.loc[covidData[alvo] == 'Internado em UTI', [alvo]] = 'Internado';\n",
    "covidData[alvo].value_counts()"
   ]
  },
  {
   "cell_type": "markdown",
   "metadata": {},
   "source": [
    "#### iv. Agrupando os valores de 'Tratamento Domiciliar'"
   ]
  },
  {
   "cell_type": "code",
   "execution_count": 59,
   "metadata": {},
   "outputs": [
    {
     "data": {
      "text/plain": [
       "Cura         6099\n",
       "Óbito          56\n",
       "Internado       5\n",
       "Name: evolucaoCaso, dtype: int64"
      ]
     },
     "execution_count": 59,
     "metadata": {},
     "output_type": "execute_result"
    }
   ],
   "source": [
    "covidData.loc[covidData[alvo] == 'Em tratamento domiciliar', [alvo]] = 'Cura';\n",
    "covidData[alvo].value_counts()"
   ]
  },
  {
   "cell_type": "code",
   "execution_count": 60,
   "metadata": {},
   "outputs": [
    {
     "data": {
      "text/plain": [
       "source_id              0.000000\n",
       "sexo                   0.000000\n",
       "racaCor                0.016234\n",
       "idade                  0.000000\n",
       "sintomas               0.000000\n",
       "condicoes             93.620130\n",
       "dataPrimeiraDose      34.837662\n",
       "dataSegundaDose       37.581169\n",
       "classificacaoFinal     0.000000\n",
       "evolucaoCaso           0.000000\n",
       "dtype: float64"
      ]
     },
     "execution_count": 60,
     "metadata": {},
     "output_type": "execute_result"
    }
   ],
   "source": [
    "dados_faltosos = visualizarQntFaltosos(covidData)\n",
    "dados_faltosos"
   ]
  },
  {
   "cell_type": "code",
   "execution_count": 61,
   "metadata": {},
   "outputs": [
    {
     "data": {
      "text/plain": [
       "(6160, 10)"
      ]
     },
     "execution_count": 61,
     "metadata": {},
     "output_type": "execute_result"
    }
   ],
   "source": [
    "covidData.shape"
   ]
  },
  {
   "cell_type": "markdown",
   "metadata": {
    "executionInfo": {
     "elapsed": 901,
     "status": "ok",
     "timestamp": 1606845744318,
     "user": {
      "displayName": "WALLACE DUARTE DE HOLANDA",
      "photoUrl": "https://lh3.googleusercontent.com/a-/AOh14GgeWMOt53non50jDB5bIAwurrZleD5e6T7yfR9w=s64",
      "userId": "03474631865123362594"
     },
     "user_tz": 180
    },
    "id": "KvmI5QyjTNKZ"
   },
   "source": [
    "# Coletando os Sintomas\n",
    "\n",
    "``` Pode conter - Assintomático, Febre, Dor de Garganta, Dispneia, Tosse,  Coriza, Dor de Cabeça, Distúrbios gustatórios, Distúrbios olfativos ```"
   ]
  },
  {
   "cell_type": "code",
   "execution_count": 62,
   "metadata": {
    "collapsed": true
   },
   "outputs": [
    {
     "data": {
      "text/html": [
       "<div>\n",
       "<style scoped>\n",
       "    .dataframe tbody tr th:only-of-type {\n",
       "        vertical-align: middle;\n",
       "    }\n",
       "\n",
       "    .dataframe tbody tr th {\n",
       "        vertical-align: top;\n",
       "    }\n",
       "\n",
       "    .dataframe thead th {\n",
       "        text-align: right;\n",
       "    }\n",
       "</style>\n",
       "<table border=\"1\" class=\"dataframe\">\n",
       "  <thead>\n",
       "    <tr style=\"text-align: right;\">\n",
       "      <th></th>\n",
       "      <th>source_id</th>\n",
       "      <th>sexo</th>\n",
       "      <th>racaCor</th>\n",
       "      <th>idade</th>\n",
       "      <th>sintomas</th>\n",
       "      <th>condicoes</th>\n",
       "      <th>dataPrimeiraDose</th>\n",
       "      <th>dataSegundaDose</th>\n",
       "      <th>classificacaoFinal</th>\n",
       "      <th>evolucaoCaso</th>\n",
       "    </tr>\n",
       "  </thead>\n",
       "  <tbody>\n",
       "    <tr>\n",
       "      <th>273</th>\n",
       "      <td>eetgqKPruw</td>\n",
       "      <td>Masculino</td>\n",
       "      <td>Preta</td>\n",
       "      <td>39.0</td>\n",
       "      <td>Coriza, Dor de Cabeça, Tosse, Febre, Dispneia,...</td>\n",
       "      <td>NaN</td>\n",
       "      <td>2021-07-01</td>\n",
       "      <td>2021-10-13</td>\n",
       "      <td>Confirmado</td>\n",
       "      <td>Cura</td>\n",
       "    </tr>\n",
       "    <tr>\n",
       "      <th>289</th>\n",
       "      <td>aOl819OygW</td>\n",
       "      <td>Masculino</td>\n",
       "      <td>Ignorado</td>\n",
       "      <td>48.0</td>\n",
       "      <td>Outros</td>\n",
       "      <td>NaN</td>\n",
       "      <td>2021-07-01</td>\n",
       "      <td>NaN</td>\n",
       "      <td>Confirmado</td>\n",
       "      <td>Cura</td>\n",
       "    </tr>\n",
       "    <tr>\n",
       "      <th>299</th>\n",
       "      <td>y0XUQvdgIV</td>\n",
       "      <td>Masculino</td>\n",
       "      <td>Parda</td>\n",
       "      <td>42.0</td>\n",
       "      <td>Coriza, Dor de Cabeça, Tosse, Dor de Garganta</td>\n",
       "      <td>NaN</td>\n",
       "      <td>2021-07-01</td>\n",
       "      <td>NaN</td>\n",
       "      <td>Confirmado</td>\n",
       "      <td>Cura</td>\n",
       "    </tr>\n",
       "    <tr>\n",
       "      <th>301</th>\n",
       "      <td>3KwWZV0ODQ</td>\n",
       "      <td>Feminino</td>\n",
       "      <td>Preta</td>\n",
       "      <td>46.0</td>\n",
       "      <td>Coriza, Dor de Cabeça, Tosse, Febre, Dor de Ga...</td>\n",
       "      <td>NaN</td>\n",
       "      <td>2021-07-01</td>\n",
       "      <td>2021-07-31</td>\n",
       "      <td>Confirmado</td>\n",
       "      <td>Cura</td>\n",
       "    </tr>\n",
       "    <tr>\n",
       "      <th>346</th>\n",
       "      <td>EeGqCf9XLd</td>\n",
       "      <td>Feminino</td>\n",
       "      <td>Parda</td>\n",
       "      <td>27.0</td>\n",
       "      <td>Tosse, Febre, Dor de Garganta</td>\n",
       "      <td>NaN</td>\n",
       "      <td>2021-01-20</td>\n",
       "      <td>2021-10-18</td>\n",
       "      <td>Confirmado</td>\n",
       "      <td>Cura</td>\n",
       "    </tr>\n",
       "  </tbody>\n",
       "</table>\n",
       "</div>"
      ],
      "text/plain": [
       "      source_id       sexo   racaCor  idade  \\\n",
       "273  eetgqKPruw  Masculino     Preta   39.0   \n",
       "289  aOl819OygW  Masculino  Ignorado   48.0   \n",
       "299  y0XUQvdgIV  Masculino     Parda   42.0   \n",
       "301  3KwWZV0ODQ   Feminino     Preta   46.0   \n",
       "346  EeGqCf9XLd   Feminino     Parda   27.0   \n",
       "\n",
       "                                              sintomas condicoes  \\\n",
       "273  Coriza, Dor de Cabeça, Tosse, Febre, Dispneia,...       NaN   \n",
       "289                                             Outros       NaN   \n",
       "299      Coriza, Dor de Cabeça, Tosse, Dor de Garganta       NaN   \n",
       "301  Coriza, Dor de Cabeça, Tosse, Febre, Dor de Ga...       NaN   \n",
       "346                      Tosse, Febre, Dor de Garganta       NaN   \n",
       "\n",
       "    dataPrimeiraDose dataSegundaDose classificacaoFinal evolucaoCaso  \n",
       "273       2021-07-01      2021-10-13         Confirmado         Cura  \n",
       "289       2021-07-01             NaN         Confirmado         Cura  \n",
       "299       2021-07-01             NaN         Confirmado         Cura  \n",
       "301       2021-07-01      2021-07-31         Confirmado         Cura  \n",
       "346       2021-01-20      2021-10-18         Confirmado         Cura  "
      ]
     },
     "execution_count": 62,
     "metadata": {},
     "output_type": "execute_result"
    }
   ],
   "source": [
    "covidData.head()"
   ]
  },
  {
   "cell_type": "code",
   "execution_count": 69,
   "metadata": {},
   "outputs": [],
   "source": [
    "sintomas = {\"assintomatico\": 'Assintomático', \n",
    "            \"febre\": 'Febre', \n",
    "            \"dorDeGarganta\": 'Dor de Garganta',\n",
    "            \"dispneia\": 'Dispneia',\n",
    "            \"tosse\": 'Tosse',\n",
    "            \"coriza\": 'Coriza',\n",
    "            \"dorDeCabeca\": 'Dor de Cabeça',\n",
    "            \"disturbiosGustatórios\": 'Distúrbios gustatórios',\n",
    "            \"disturbiosOlfativos\": 'Distúrbios olfativos'}"
   ]
  },
  {
   "cell_type": "code",
   "execution_count": 72,
   "metadata": {},
   "outputs": [],
   "source": [
    "for chave in sintomas.keys():\n",
    "    covidData[chave] = covidData['sintomas'].apply(lambda x: 1 if sintomas[chave] in x else 0)"
   ]
  },
  {
   "cell_type": "code",
   "execution_count": 73,
   "metadata": {},
   "outputs": [
    {
     "data": {
      "text/html": [
       "<div>\n",
       "<style scoped>\n",
       "    .dataframe tbody tr th:only-of-type {\n",
       "        vertical-align: middle;\n",
       "    }\n",
       "\n",
       "    .dataframe tbody tr th {\n",
       "        vertical-align: top;\n",
       "    }\n",
       "\n",
       "    .dataframe thead th {\n",
       "        text-align: right;\n",
       "    }\n",
       "</style>\n",
       "<table border=\"1\" class=\"dataframe\">\n",
       "  <thead>\n",
       "    <tr style=\"text-align: right;\">\n",
       "      <th></th>\n",
       "      <th>source_id</th>\n",
       "      <th>sexo</th>\n",
       "      <th>racaCor</th>\n",
       "      <th>idade</th>\n",
       "      <th>sintomas</th>\n",
       "      <th>condicoes</th>\n",
       "      <th>dataPrimeiraDose</th>\n",
       "      <th>dataSegundaDose</th>\n",
       "      <th>classificacaoFinal</th>\n",
       "      <th>evolucaoCaso</th>\n",
       "      <th>febre</th>\n",
       "      <th>assintomatico</th>\n",
       "      <th>dorDeGarganta</th>\n",
       "      <th>dispneia</th>\n",
       "      <th>tosse</th>\n",
       "      <th>coriza</th>\n",
       "      <th>dorDeCabeca</th>\n",
       "      <th>disturbiosGustatórios</th>\n",
       "      <th>disturbiosOlfativos</th>\n",
       "    </tr>\n",
       "  </thead>\n",
       "  <tbody>\n",
       "    <tr>\n",
       "      <th>273</th>\n",
       "      <td>eetgqKPruw</td>\n",
       "      <td>Masculino</td>\n",
       "      <td>Preta</td>\n",
       "      <td>39.0</td>\n",
       "      <td>Coriza, Dor de Cabeça, Tosse, Febre, Dispneia,...</td>\n",
       "      <td>NaN</td>\n",
       "      <td>2021-07-01</td>\n",
       "      <td>2021-10-13</td>\n",
       "      <td>Confirmado</td>\n",
       "      <td>Cura</td>\n",
       "      <td>1</td>\n",
       "      <td>0</td>\n",
       "      <td>1</td>\n",
       "      <td>1</td>\n",
       "      <td>1</td>\n",
       "      <td>1</td>\n",
       "      <td>1</td>\n",
       "      <td>0</td>\n",
       "      <td>0</td>\n",
       "    </tr>\n",
       "    <tr>\n",
       "      <th>289</th>\n",
       "      <td>aOl819OygW</td>\n",
       "      <td>Masculino</td>\n",
       "      <td>Ignorado</td>\n",
       "      <td>48.0</td>\n",
       "      <td>Outros</td>\n",
       "      <td>NaN</td>\n",
       "      <td>2021-07-01</td>\n",
       "      <td>NaN</td>\n",
       "      <td>Confirmado</td>\n",
       "      <td>Cura</td>\n",
       "      <td>0</td>\n",
       "      <td>0</td>\n",
       "      <td>0</td>\n",
       "      <td>0</td>\n",
       "      <td>0</td>\n",
       "      <td>0</td>\n",
       "      <td>0</td>\n",
       "      <td>0</td>\n",
       "      <td>0</td>\n",
       "    </tr>\n",
       "    <tr>\n",
       "      <th>299</th>\n",
       "      <td>y0XUQvdgIV</td>\n",
       "      <td>Masculino</td>\n",
       "      <td>Parda</td>\n",
       "      <td>42.0</td>\n",
       "      <td>Coriza, Dor de Cabeça, Tosse, Dor de Garganta</td>\n",
       "      <td>NaN</td>\n",
       "      <td>2021-07-01</td>\n",
       "      <td>NaN</td>\n",
       "      <td>Confirmado</td>\n",
       "      <td>Cura</td>\n",
       "      <td>0</td>\n",
       "      <td>0</td>\n",
       "      <td>1</td>\n",
       "      <td>0</td>\n",
       "      <td>1</td>\n",
       "      <td>1</td>\n",
       "      <td>1</td>\n",
       "      <td>0</td>\n",
       "      <td>0</td>\n",
       "    </tr>\n",
       "    <tr>\n",
       "      <th>301</th>\n",
       "      <td>3KwWZV0ODQ</td>\n",
       "      <td>Feminino</td>\n",
       "      <td>Preta</td>\n",
       "      <td>46.0</td>\n",
       "      <td>Coriza, Dor de Cabeça, Tosse, Febre, Dor de Ga...</td>\n",
       "      <td>NaN</td>\n",
       "      <td>2021-07-01</td>\n",
       "      <td>2021-07-31</td>\n",
       "      <td>Confirmado</td>\n",
       "      <td>Cura</td>\n",
       "      <td>1</td>\n",
       "      <td>0</td>\n",
       "      <td>1</td>\n",
       "      <td>0</td>\n",
       "      <td>1</td>\n",
       "      <td>1</td>\n",
       "      <td>1</td>\n",
       "      <td>0</td>\n",
       "      <td>0</td>\n",
       "    </tr>\n",
       "    <tr>\n",
       "      <th>346</th>\n",
       "      <td>EeGqCf9XLd</td>\n",
       "      <td>Feminino</td>\n",
       "      <td>Parda</td>\n",
       "      <td>27.0</td>\n",
       "      <td>Tosse, Febre, Dor de Garganta</td>\n",
       "      <td>NaN</td>\n",
       "      <td>2021-01-20</td>\n",
       "      <td>2021-10-18</td>\n",
       "      <td>Confirmado</td>\n",
       "      <td>Cura</td>\n",
       "      <td>1</td>\n",
       "      <td>0</td>\n",
       "      <td>1</td>\n",
       "      <td>0</td>\n",
       "      <td>1</td>\n",
       "      <td>0</td>\n",
       "      <td>0</td>\n",
       "      <td>0</td>\n",
       "      <td>0</td>\n",
       "    </tr>\n",
       "  </tbody>\n",
       "</table>\n",
       "</div>"
      ],
      "text/plain": [
       "      source_id       sexo   racaCor  idade  \\\n",
       "273  eetgqKPruw  Masculino     Preta   39.0   \n",
       "289  aOl819OygW  Masculino  Ignorado   48.0   \n",
       "299  y0XUQvdgIV  Masculino     Parda   42.0   \n",
       "301  3KwWZV0ODQ   Feminino     Preta   46.0   \n",
       "346  EeGqCf9XLd   Feminino     Parda   27.0   \n",
       "\n",
       "                                              sintomas condicoes  \\\n",
       "273  Coriza, Dor de Cabeça, Tosse, Febre, Dispneia,...       NaN   \n",
       "289                                             Outros       NaN   \n",
       "299      Coriza, Dor de Cabeça, Tosse, Dor de Garganta       NaN   \n",
       "301  Coriza, Dor de Cabeça, Tosse, Febre, Dor de Ga...       NaN   \n",
       "346                      Tosse, Febre, Dor de Garganta       NaN   \n",
       "\n",
       "    dataPrimeiraDose dataSegundaDose classificacaoFinal evolucaoCaso  febre  \\\n",
       "273       2021-07-01      2021-10-13         Confirmado         Cura      1   \n",
       "289       2021-07-01             NaN         Confirmado         Cura      0   \n",
       "299       2021-07-01             NaN         Confirmado         Cura      0   \n",
       "301       2021-07-01      2021-07-31         Confirmado         Cura      1   \n",
       "346       2021-01-20      2021-10-18         Confirmado         Cura      1   \n",
       "\n",
       "     assintomatico  dorDeGarganta  dispneia  tosse  coriza  dorDeCabeca  \\\n",
       "273              0              1         1      1       1            1   \n",
       "289              0              0         0      0       0            0   \n",
       "299              0              1         0      1       1            1   \n",
       "301              0              1         0      1       1            1   \n",
       "346              0              1         0      1       0            0   \n",
       "\n",
       "     disturbiosGustatórios  disturbiosOlfativos  \n",
       "273                      0                    0  \n",
       "289                      0                    0  \n",
       "299                      0                    0  \n",
       "301                      0                    0  \n",
       "346                      0                    0  "
      ]
     },
     "execution_count": 73,
     "metadata": {},
     "output_type": "execute_result"
    }
   ],
   "source": [
    "covidData.head()\n",
    "# 'Febre' in covidData['sintomas'] "
   ]
  },
  {
   "cell_type": "code",
   "execution_count": null,
   "metadata": {},
   "outputs": [],
   "source": []
  },
  {
   "cell_type": "code",
   "execution_count": null,
   "metadata": {},
   "outputs": [],
   "source": []
  },
  {
   "cell_type": "markdown",
   "metadata": {},
   "source": [
    "# Organizando as Comorbidades\n",
    "#### "
   ]
  },
  {
   "cell_type": "code",
   "execution_count": null,
   "metadata": {},
   "outputs": [],
   "source": []
  },
  {
   "cell_type": "code",
   "execution_count": 67,
   "metadata": {},
   "outputs": [
    {
     "data": {
      "text/plain": [
       "dict_values(['Diabetes', 'Obesidade', 'Doenças renais crônicas em estágio avançado', 'Doenças respiratórias crônicas descompensadas', 'Imunossupressão', 'Portador de doenças cromossômicas ou estado de fragilidade imunológica', 'Gestante', 'Doenças cardíacas crônicas', 'Puérpera'])"
      ]
     },
     "execution_count": 67,
     "metadata": {},
     "output_type": "execute_result"
    }
   ],
   "source": [
    "# Comorbidades\n",
    "comorbidades = {\"diabetes\": 'Diabetes', \n",
    "                \"obesidade\": 'Obesidade', \n",
    "                \"renal\": 'Doenças renais crônicas em estágio avançado',\n",
    "                \"respiratoria\": 'Doenças respiratórias crônicas descompensadas',\n",
    "                \"imunossupressao\": 'Imunossupressão',\n",
    "                \"fragilidadeImuno\": 'Portador de doenças cromossômicas ou estado de fragilidade imunológica',\n",
    "                \"gestante\": 'Gestante',\n",
    "                \"cardiaca\": 'Doenças cardíacas crônicas',\n",
    "                \"puerpera\": 'Puérpera'}\n",
    "\n",
    "x = comorbidades.keys()\n",
    "\n",
    "\n",
    "# stringX = 'Doenças cardíacas crônicas, Diabetes'\n",
    "# comorbidades['diabetes'] in stringX"
   ]
  },
  {
   "cell_type": "code",
   "execution_count": null,
   "metadata": {},
   "outputs": [],
   "source": [
    "for chave in comorbidades.keys():\n",
    "    print(chave)"
   ]
  },
  {
   "cell_type": "code",
   "execution_count": 45,
   "metadata": {},
   "outputs": [
    {
     "name": "stderr",
     "output_type": "stream",
     "text": [
      "/home/wallece/.local/lib/python3.8/site-packages/pandas/core/indexing.py:1817: SettingWithCopyWarning: \n",
      "A value is trying to be set on a copy of a slice from a DataFrame.\n",
      "Try using .loc[row_indexer,col_indexer] = value instead\n",
      "\n",
      "See the caveats in the documentation: https://pandas.pydata.org/pandas-docs/stable/user_guide/indexing.html#returning-a-view-versus-a-copy\n",
      "  self._setitem_single_column(loc, value, pi)\n"
     ]
    },
    {
     "data": {
      "text/plain": [
       "2.0    424\n",
       "1.0     53\n",
       "Name: RENAL, dtype: int64"
      ]
     },
     "execution_count": 45,
     "metadata": {},
     "output_type": "execute_result"
    }
   ],
   "source": [
    "# Substituindo o valor das comorbidades\n",
    "covidNewData.loc[covidNewData.FATOR_RISC == 2, [\"PUERPERA\", \"CARDIOPATI\", \"HEMATOLOGI\",\n",
    "            \"SIND_DOWN\", \"HEPATICA\", \"ASMA\",\"DIABETES\", \"NEUROLOGIC\", \"PNEUMOPATI\",\n",
    "            \"IMUNODEPRE\", \"RENAL\", \"OBESIDADE\"]] = 2;\n",
    "covidNewData.RENAL.value_counts()"
   ]
  },
  {
   "cell_type": "code",
   "execution_count": 46,
   "metadata": {},
   "outputs": [
    {
     "data": {
      "text/plain": [
       "(1120, 165)"
      ]
     },
     "execution_count": 46,
     "metadata": {},
     "output_type": "execute_result"
    }
   ],
   "source": [
    "covidNewData.shape"
   ]
  },
  {
   "cell_type": "code",
   "execution_count": 47,
   "metadata": {},
   "outputs": [
    {
     "data": {
      "text/plain": [
       "(762, 165)"
      ]
     },
     "execution_count": 47,
     "metadata": {},
     "output_type": "execute_result"
    }
   ],
   "source": [
    "newCovidData = covidNewData.drop(covidNewData[covidNewData.CLASSI_FIN != 5].index, inplace = False)\n",
    "#covidNewData.shape\n",
    "newCovidData.shape"
   ]
  },
  {
   "cell_type": "code",
   "execution_count": 48,
   "metadata": {},
   "outputs": [
    {
     "data": {
      "text/plain": [
       "(762, 30)"
      ]
     },
     "execution_count": 48,
     "metadata": {},
     "output_type": "execute_result"
    }
   ],
   "source": [
    "#Filtrando os atributos\n",
    "attributes = [\"CS_SEXO\", \"NU_IDADE_N\", \"CS_RACA\", \"SURTO_SG\", \"FEBRE\", \"TOSSE\", \"GARGANTA\", \n",
    "              \"DISPNEIA\", \"DESC_RESP\", \"SATURACAO\", \"DIARREIA\",\"VOMITO\", \"FATOR_RISC\", \"PUERPERA\", \"CARDIOPATI\", \n",
    "              \"HEMATOLOGI\", \"SIND_DOWN\", \"HEPATICA\", \"ASMA\", \"DIABETES\", \"NEUROLOGIC\",\"PNEUMOPATI\",\n",
    "              \"IMUNODEPRE\", \"RENAL\", \"OBESIDADE\", \"DT_INTERNA\", \"DT_EVOLUCA\", \"CLASSI_FIN\", \"SUPORT_VEN\", \"UTI\"]\n",
    "# 'EVOLUCAO'\n",
    "\n",
    "dbCovid = newCovidData[attributes];\n",
    "dbCovid.shape"
   ]
  },
  {
   "cell_type": "code",
   "execution_count": 49,
   "metadata": {},
   "outputs": [],
   "source": [
    "write = pd.ExcelWriter('uti_dados_pp_Jan2021.xlsx')\n",
    "dbCovid.to_excel(write, 'dados', index = False)\n",
    "write.save()"
   ]
  },
  {
   "cell_type": "code",
   "execution_count": null,
   "metadata": {},
   "outputs": [],
   "source": []
  },
  {
   "cell_type": "code",
   "execution_count": null,
   "metadata": {},
   "outputs": [],
   "source": []
  },
  {
   "cell_type": "code",
   "execution_count": 47,
   "metadata": {},
   "outputs": [
    {
     "data": {
      "text/plain": [
       "'\\nDiabetes\\nObesidade\\nDoenças renais crônicas em estágio avançado (graus 3, 4 e 5)\\nDoenças respiratórias crônicas descompensadas \\nImunossupressão\\nPortador de doenças cromossômicas ou estado de fragilidade imunológica\\nGestante\\nDoenças cardíacas crônicas \\nPuérpera (até 45 dias do parto)\\n'"
      ]
     },
     "execution_count": 47,
     "metadata": {},
     "output_type": "execute_result"
    }
   ],
   "source": [
    "# Lista de Comorbidades\n",
    "\"\"\"\n",
    "Diabetes\n",
    "Obesidade\n",
    "Doenças renais crônicas em estágio avançado (graus 3, 4 e 5)\n",
    "Doenças respiratórias crônicas descompensadas \n",
    "Imunossupressão\n",
    "Portador de doenças cromossômicas ou estado de fragilidade imunológica\n",
    "Gestante\n",
    "Doenças cardíacas crônicas \n",
    "Puérpera (até 45 dias do parto)\n",
    "\"\"\""
   ]
  },
  {
   "cell_type": "code",
   "execution_count": null,
   "metadata": {},
   "outputs": [],
   "source": []
  }
 ],
 "metadata": {
  "colab": {
   "collapsed_sections": [],
   "name": "processamentoDados.ipynb",
   "provenance": [
    {
     "file_id": "14gNqQLvSBxac92pENTV2WFH8c9x6nI_I",
     "timestamp": 1605384432884
    }
   ]
  },
  "kernelspec": {
   "display_name": "Python 3 (ipykernel)",
   "language": "python",
   "name": "python3"
  },
  "language_info": {
   "codemirror_mode": {
    "name": "ipython",
    "version": 3
   },
   "file_extension": ".py",
   "mimetype": "text/x-python",
   "name": "python",
   "nbconvert_exporter": "python",
   "pygments_lexer": "ipython3",
   "version": "3.8.10"
  }
 },
 "nbformat": 4,
 "nbformat_minor": 1
}
