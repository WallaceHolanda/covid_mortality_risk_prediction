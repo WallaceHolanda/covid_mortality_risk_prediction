{
 "cells": [
  {
   "cell_type": "code",
   "execution_count": 1,
   "metadata": {},
   "outputs": [],
   "source": [
    "# !pip install import-ipynb"
   ]
  },
  {
   "cell_type": "code",
   "execution_count": 2,
   "metadata": {
    "executionInfo": {
     "elapsed": 1799,
     "status": "ok",
     "timestamp": 1606845696531,
     "user": {
      "displayName": "WALLACE DUARTE DE HOLANDA",
      "photoUrl": "https://lh3.googleusercontent.com/a-/AOh14GgeWMOt53non50jDB5bIAwurrZleD5e6T7yfR9w=s64",
      "userId": "03474631865123362594"
     },
     "user_tz": 180
    },
    "id": "TW5Oyd2oXbrk"
   },
   "outputs": [
    {
     "name": "stdout",
     "output_type": "stream",
     "text": [
      "importing Jupyter notebook from preprocessamentofuncoes.ipynb\n"
     ]
    }
   ],
   "source": [
    "import pandas as pd\n",
    "import import_ipynb\n",
    "import preprocessamentofuncoes as pp"
   ]
  },
  {
   "cell_type": "code",
   "execution_count": 3,
   "metadata": {
    "executionInfo": {
     "elapsed": 3434,
     "status": "ok",
     "timestamp": 1606845719272,
     "user": {
      "displayName": "WALLACE DUARTE DE HOLANDA",
      "photoUrl": "https://lh3.googleusercontent.com/a-/AOh14GgeWMOt53non50jDB5bIAwurrZleD5e6T7yfR9w=s64",
      "userId": "03474631865123362594"
     },
     "user_tz": 180
    },
    "id": "4Vjp-2FtXbr7"
   },
   "outputs": [
    {
     "name": "stderr",
     "output_type": "stream",
     "text": [
      "/home/wallece/.local/lib/python3.8/site-packages/IPython/core/interactiveshell.py:3457: DtypeWarning: Columns (15,57,62) have mixed types.Specify dtype option on import or set low_memory=False.\n",
      "  exec(code_obj, self.user_global_ns, self.user_ns)\n"
     ]
    },
    {
     "data": {
      "text/plain": [
       "(295676, 64)"
      ]
     },
     "execution_count": 3,
     "metadata": {},
     "output_type": "execute_result"
    }
   ],
   "source": [
    "uf = \"mt\"\n",
    "urlBase = \"/media/wallece/HD EXTRA/bases/sus-\" + uf + \"-l1.csv\"\n",
    "\n",
    "covidAllData = pd.read_csv(urlBase, on_bad_lines='skip', sep=';')\n",
    "covidAllData.shape"
   ]
  },
  {
   "cell_type": "code",
   "execution_count": 4,
   "metadata": {
    "colab": {
     "base_uri": "https://localhost:8080/"
    },
    "executionInfo": {
     "elapsed": 823,
     "status": "ok",
     "timestamp": 1606782619746,
     "user": {
      "displayName": "WALLACE DUARTE DE HOLANDA",
      "photoUrl": "https://lh3.googleusercontent.com/a-/AOh14GgeWMOt53non50jDB5bIAwurrZleD5e6T7yfR9w=s64",
      "userId": "03474631865123362594"
     },
     "user_tz": 180
    },
    "id": "R04MwHdxXbsK",
    "outputId": "e5065bd9-5f57-4346-a7d9-25a397411b9d"
   },
   "outputs": [
    {
     "data": {
      "text/html": [
       "<div>\n",
       "<style scoped>\n",
       "    .dataframe tbody tr th:only-of-type {\n",
       "        vertical-align: middle;\n",
       "    }\n",
       "\n",
       "    .dataframe tbody tr th {\n",
       "        vertical-align: top;\n",
       "    }\n",
       "\n",
       "    .dataframe thead th {\n",
       "        text-align: right;\n",
       "    }\n",
       "</style>\n",
       "<table border=\"1\" class=\"dataframe\">\n",
       "  <thead>\n",
       "    <tr style=\"text-align: right;\">\n",
       "      <th></th>\n",
       "      <th>source_id</th>\n",
       "      <th>dataNotificacao</th>\n",
       "      <th>dataInicioSintomas</th>\n",
       "      <th>sintomas</th>\n",
       "      <th>profissionalSaude</th>\n",
       "      <th>racaCor</th>\n",
       "      <th>outrosSintomas</th>\n",
       "      <th>outrasCondicoes</th>\n",
       "      <th>profissionalSeguranca</th>\n",
       "      <th>cbo</th>\n",
       "      <th>...</th>\n",
       "      <th>codigoTipoTeste3</th>\n",
       "      <th>codigoFabricanteTeste3</th>\n",
       "      <th>codigoResultadoTeste3</th>\n",
       "      <th>dataColetaTeste3</th>\n",
       "      <th>codigoEstadoTeste4</th>\n",
       "      <th>codigoTipoTeste4</th>\n",
       "      <th>codigoFabricanteTeste4</th>\n",
       "      <th>codigoResultadoTeste4</th>\n",
       "      <th>dataColetaTeste4</th>\n",
       "      <th>idade</th>\n",
       "    </tr>\n",
       "  </thead>\n",
       "  <tbody>\n",
       "    <tr>\n",
       "      <th>0</th>\n",
       "      <td>m4TtVReGCK</td>\n",
       "      <td>2021-07-26</td>\n",
       "      <td>2021-07-26</td>\n",
       "      <td>Assintomático</td>\n",
       "      <td>Não</td>\n",
       "      <td>Parda</td>\n",
       "      <td>NaN</td>\n",
       "      <td>NaN</td>\n",
       "      <td>Não</td>\n",
       "      <td>NaN</td>\n",
       "      <td>...</td>\n",
       "      <td>NaN</td>\n",
       "      <td>NaN</td>\n",
       "      <td>NaN</td>\n",
       "      <td>NaN</td>\n",
       "      <td>NaN</td>\n",
       "      <td>NaN</td>\n",
       "      <td>NaN</td>\n",
       "      <td>NaN</td>\n",
       "      <td>NaN</td>\n",
       "      <td>24</td>\n",
       "    </tr>\n",
       "    <tr>\n",
       "      <th>1</th>\n",
       "      <td>H8D0jLGAL7</td>\n",
       "      <td>2022-02-02</td>\n",
       "      <td>2022-01-27</td>\n",
       "      <td>Distúrbios Olfativos, Distúrbios Gustativos, D...</td>\n",
       "      <td>Não</td>\n",
       "      <td>Amarela</td>\n",
       "      <td>NaN</td>\n",
       "      <td>NaN</td>\n",
       "      <td>Não</td>\n",
       "      <td>NaN</td>\n",
       "      <td>...</td>\n",
       "      <td>NaN</td>\n",
       "      <td>NaN</td>\n",
       "      <td>NaN</td>\n",
       "      <td>NaN</td>\n",
       "      <td>NaN</td>\n",
       "      <td>NaN</td>\n",
       "      <td>NaN</td>\n",
       "      <td>NaN</td>\n",
       "      <td>NaN</td>\n",
       "      <td>72</td>\n",
       "    </tr>\n",
       "    <tr>\n",
       "      <th>2</th>\n",
       "      <td>IIA7Cm65UG</td>\n",
       "      <td>2021-07-26</td>\n",
       "      <td>2021-07-26</td>\n",
       "      <td>Assintomático</td>\n",
       "      <td>Não</td>\n",
       "      <td>Preta</td>\n",
       "      <td>NaN</td>\n",
       "      <td>NaN</td>\n",
       "      <td>Não</td>\n",
       "      <td>NaN</td>\n",
       "      <td>...</td>\n",
       "      <td>NaN</td>\n",
       "      <td>NaN</td>\n",
       "      <td>NaN</td>\n",
       "      <td>NaN</td>\n",
       "      <td>NaN</td>\n",
       "      <td>NaN</td>\n",
       "      <td>NaN</td>\n",
       "      <td>NaN</td>\n",
       "      <td>NaN</td>\n",
       "      <td>26</td>\n",
       "    </tr>\n",
       "    <tr>\n",
       "      <th>3</th>\n",
       "      <td>tQEHmFByEb</td>\n",
       "      <td>2022-02-07</td>\n",
       "      <td>2022-02-06</td>\n",
       "      <td>Dor de Cabeça, Febre, Dor de Garganta, Outros</td>\n",
       "      <td>Não</td>\n",
       "      <td>Parda</td>\n",
       "      <td>MAL ESTAR</td>\n",
       "      <td>NaN</td>\n",
       "      <td>Não</td>\n",
       "      <td>NaN</td>\n",
       "      <td>...</td>\n",
       "      <td>NaN</td>\n",
       "      <td>NaN</td>\n",
       "      <td>NaN</td>\n",
       "      <td>NaN</td>\n",
       "      <td>NaN</td>\n",
       "      <td>NaN</td>\n",
       "      <td>NaN</td>\n",
       "      <td>NaN</td>\n",
       "      <td>NaN</td>\n",
       "      <td>39</td>\n",
       "    </tr>\n",
       "    <tr>\n",
       "      <th>4</th>\n",
       "      <td>Tq3rcuTCaF</td>\n",
       "      <td>2021-05-06</td>\n",
       "      <td>2021-04-30</td>\n",
       "      <td>Dor de Cabeça, Febre, Dor de Garganta, Outros</td>\n",
       "      <td>Não</td>\n",
       "      <td>Parda</td>\n",
       "      <td>MIALGIA</td>\n",
       "      <td>NaN</td>\n",
       "      <td>Não</td>\n",
       "      <td>5121 - Trabalhadores dos serviços domésticos e...</td>\n",
       "      <td>...</td>\n",
       "      <td>NaN</td>\n",
       "      <td>NaN</td>\n",
       "      <td>NaN</td>\n",
       "      <td>NaN</td>\n",
       "      <td>NaN</td>\n",
       "      <td>NaN</td>\n",
       "      <td>NaN</td>\n",
       "      <td>NaN</td>\n",
       "      <td>NaN</td>\n",
       "      <td>38</td>\n",
       "    </tr>\n",
       "  </tbody>\n",
       "</table>\n",
       "<p>5 rows × 64 columns</p>\n",
       "</div>"
      ],
      "text/plain": [
       "    source_id dataNotificacao dataInicioSintomas  \\\n",
       "0  m4TtVReGCK      2021-07-26         2021-07-26   \n",
       "1  H8D0jLGAL7      2022-02-02         2022-01-27   \n",
       "2  IIA7Cm65UG      2021-07-26         2021-07-26   \n",
       "3  tQEHmFByEb      2022-02-07         2022-02-06   \n",
       "4  Tq3rcuTCaF      2021-05-06         2021-04-30   \n",
       "\n",
       "                                            sintomas profissionalSaude  \\\n",
       "0                                      Assintomático               Não   \n",
       "1  Distúrbios Olfativos, Distúrbios Gustativos, D...               Não   \n",
       "2                                      Assintomático               Não   \n",
       "3      Dor de Cabeça, Febre, Dor de Garganta, Outros               Não   \n",
       "4      Dor de Cabeça, Febre, Dor de Garganta, Outros               Não   \n",
       "\n",
       "   racaCor outrosSintomas outrasCondicoes profissionalSeguranca  \\\n",
       "0    Parda            NaN             NaN                   Não   \n",
       "1  Amarela            NaN             NaN                   Não   \n",
       "2    Preta            NaN             NaN                   Não   \n",
       "3    Parda      MAL ESTAR             NaN                   Não   \n",
       "4    Parda        MIALGIA             NaN                   Não   \n",
       "\n",
       "                                                 cbo  ... codigoTipoTeste3  \\\n",
       "0                                                NaN  ...              NaN   \n",
       "1                                                NaN  ...              NaN   \n",
       "2                                                NaN  ...              NaN   \n",
       "3                                                NaN  ...              NaN   \n",
       "4  5121 - Trabalhadores dos serviços domésticos e...  ...              NaN   \n",
       "\n",
       "  codigoFabricanteTeste3 codigoResultadoTeste3 dataColetaTeste3  \\\n",
       "0                    NaN                   NaN              NaN   \n",
       "1                    NaN                   NaN              NaN   \n",
       "2                    NaN                   NaN              NaN   \n",
       "3                    NaN                   NaN              NaN   \n",
       "4                    NaN                   NaN              NaN   \n",
       "\n",
       "  codigoEstadoTeste4 codigoTipoTeste4 codigoFabricanteTeste4  \\\n",
       "0                NaN              NaN                    NaN   \n",
       "1                NaN              NaN                    NaN   \n",
       "2                NaN              NaN                    NaN   \n",
       "3                NaN              NaN                    NaN   \n",
       "4                NaN              NaN                    NaN   \n",
       "\n",
       "  codigoResultadoTeste4 dataColetaTeste4 idade  \n",
       "0                   NaN              NaN    24  \n",
       "1                   NaN              NaN    72  \n",
       "2                   NaN              NaN    26  \n",
       "3                   NaN              NaN    39  \n",
       "4                   NaN              NaN    38  \n",
       "\n",
       "[5 rows x 64 columns]"
      ]
     },
     "execution_count": 4,
     "metadata": {},
     "output_type": "execute_result"
    }
   ],
   "source": [
    "# Visualizando Dados\n",
    "covidAllData.head()"
   ]
  },
  {
   "cell_type": "code",
   "execution_count": 5,
   "metadata": {},
   "outputs": [],
   "source": [
    "# 'dataPrimeiraDose', 'dataSegundaDose'\n",
    "colunasImportantes = ['source_id', 'sexo', 'racaCor', 'idade', 'sintomas', 'condicoes', 'dataPrimeiraDose', \n",
    "                      'dataSegundaDose', 'classificacaoFinal', 'evolucaoCaso']\n",
    "covidData = covidAllData[colunasImportantes]"
   ]
  },
  {
   "cell_type": "markdown",
   "metadata": {},
   "source": [
    "### Limpeza de Dados - Classificação Final\n"
   ]
  },
  {
   "cell_type": "code",
   "execution_count": 6,
   "metadata": {},
   "outputs": [
    {
     "data": {
      "text/plain": [
       "Confirmado Laboratorial              58682\n",
       "Descartado                           35158\n",
       "Síndrome Gripal Não Especificada      9837\n",
       "Confirmado por Critério Clínico       3403\n",
       "Confirmado Clínico-Epidemiológico      526\n",
       "Confirmado Clínico-Imagem               39\n",
       "Name: classificacaoFinal, dtype: int64"
      ]
     },
     "execution_count": 6,
     "metadata": {},
     "output_type": "execute_result"
    }
   ],
   "source": [
    "# Visualizando o formato das condições\n",
    "covidData['classificacaoFinal'].value_counts()"
   ]
  },
  {
   "cell_type": "code",
   "execution_count": 7,
   "metadata": {},
   "outputs": [],
   "source": [
    "covidData = pp.classFinPreprocessamento(covidData, 'classificacaoFinal')"
   ]
  },
  {
   "cell_type": "code",
   "execution_count": 8,
   "metadata": {},
   "outputs": [
    {
     "data": {
      "text/plain": [
       "Confirmado    62650\n",
       "Name: classificacaoFinal, dtype: int64"
      ]
     },
     "execution_count": 8,
     "metadata": {},
     "output_type": "execute_result"
    }
   ],
   "source": [
    "covidData['classificacaoFinal'].value_counts()"
   ]
  },
  {
   "cell_type": "code",
   "execution_count": 9,
   "metadata": {},
   "outputs": [
    {
     "data": {
      "text/plain": [
       "source_id              0.000000\n",
       "sexo                   0.000000\n",
       "racaCor                0.006385\n",
       "idade                  0.000000\n",
       "sintomas               0.000000\n",
       "condicoes             92.493216\n",
       "dataPrimeiraDose      41.297686\n",
       "dataSegundaDose       51.843575\n",
       "classificacaoFinal     0.000000\n",
       "evolucaoCaso           2.239425\n",
       "dtype: float64"
      ]
     },
     "execution_count": 9,
     "metadata": {},
     "output_type": "execute_result"
    }
   ],
   "source": [
    "dados_faltosos = pp.visualizarQntFaltosos(covidData)\n",
    "dados_faltosos"
   ]
  },
  {
   "cell_type": "markdown",
   "metadata": {},
   "source": [
    "### Limpeza de Dados - Atibuto Evolução"
   ]
  },
  {
   "cell_type": "code",
   "execution_count": 10,
   "metadata": {},
   "outputs": [
    {
     "data": {
      "text/plain": [
       "Cura                        59218\n",
       "Em tratamento domiciliar     1351\n",
       "Cancelado                     244\n",
       "Óbito                         223\n",
       "Ignorado                      179\n",
       "Internado                      27\n",
       "Internado em UTI                5\n",
       "Name: evolucaoCaso, dtype: int64"
      ]
     },
     "execution_count": 10,
     "metadata": {},
     "output_type": "execute_result"
    }
   ],
   "source": [
    "# covidData[alvo].unique()\n",
    "evolucao = 'evolucaoCaso'\n",
    "covidData[evolucao].value_counts()"
   ]
  },
  {
   "cell_type": "code",
   "execution_count": 11,
   "metadata": {},
   "outputs": [
    {
     "data": {
      "text/plain": [
       "Cura         60569\n",
       "Óbito          223\n",
       "Internado       32\n",
       "Name: evolucaoCaso, dtype: int64"
      ]
     },
     "execution_count": 11,
     "metadata": {},
     "output_type": "execute_result"
    }
   ],
   "source": [
    "covidData = pp.evolucaoPreprocessamento(covidData, evolucao)\n",
    "covidData[evolucao].value_counts()"
   ]
  },
  {
   "cell_type": "code",
   "execution_count": 12,
   "metadata": {},
   "outputs": [],
   "source": [
    "# dados_faltosos = pp.visualizarQntFaltosos(covidData)\n",
    "# dados_faltosos"
   ]
  },
  {
   "cell_type": "code",
   "execution_count": 13,
   "metadata": {},
   "outputs": [],
   "source": [
    "# covidData[evolucao].value_counts()\n",
    "# covidData.shape"
   ]
  },
  {
   "cell_type": "markdown",
   "metadata": {
    "executionInfo": {
     "elapsed": 901,
     "status": "ok",
     "timestamp": 1606845744318,
     "user": {
      "displayName": "WALLACE DUARTE DE HOLANDA",
      "photoUrl": "https://lh3.googleusercontent.com/a-/AOh14GgeWMOt53non50jDB5bIAwurrZleD5e6T7yfR9w=s64",
      "userId": "03474631865123362594"
     },
     "user_tz": 180
    },
    "id": "KvmI5QyjTNKZ"
   },
   "source": [
    "### Limpeza de Dados - Sintomas"
   ]
  },
  {
   "cell_type": "code",
   "execution_count": 14,
   "metadata": {},
   "outputs": [],
   "source": [
    "# covidData.head()\n",
    "# covidData.shape"
   ]
  },
  {
   "cell_type": "code",
   "execution_count": 15,
   "metadata": {},
   "outputs": [
    {
     "data": {
      "text/plain": [
       "(60824, 19)"
      ]
     },
     "execution_count": 15,
     "metadata": {},
     "output_type": "execute_result"
    }
   ],
   "source": [
    "# covidData[alvo].unique()\n",
    "sintomas = 'sintomas'\n",
    "covidData = pp.sintomasPreprocessamento(covidData, sintomas)\n",
    "covidData.shape"
   ]
  },
  {
   "cell_type": "code",
   "execution_count": 16,
   "metadata": {},
   "outputs": [
    {
     "data": {
      "text/html": [
       "<div>\n",
       "<style scoped>\n",
       "    .dataframe tbody tr th:only-of-type {\n",
       "        vertical-align: middle;\n",
       "    }\n",
       "\n",
       "    .dataframe tbody tr th {\n",
       "        vertical-align: top;\n",
       "    }\n",
       "\n",
       "    .dataframe thead th {\n",
       "        text-align: right;\n",
       "    }\n",
       "</style>\n",
       "<table border=\"1\" class=\"dataframe\">\n",
       "  <thead>\n",
       "    <tr style=\"text-align: right;\">\n",
       "      <th></th>\n",
       "      <th>source_id</th>\n",
       "      <th>sexo</th>\n",
       "      <th>racaCor</th>\n",
       "      <th>idade</th>\n",
       "      <th>sintomas</th>\n",
       "      <th>condicoes</th>\n",
       "      <th>dataPrimeiraDose</th>\n",
       "      <th>dataSegundaDose</th>\n",
       "      <th>classificacaoFinal</th>\n",
       "      <th>evolucaoCaso</th>\n",
       "      <th>assintomatico</th>\n",
       "      <th>febre</th>\n",
       "      <th>dorDeGarganta</th>\n",
       "      <th>dispneia</th>\n",
       "      <th>tosse</th>\n",
       "      <th>coriza</th>\n",
       "      <th>dorDeCabeca</th>\n",
       "      <th>disturbiosGustatorios</th>\n",
       "      <th>disturbiosOlfativos</th>\n",
       "    </tr>\n",
       "  </thead>\n",
       "  <tbody>\n",
       "    <tr>\n",
       "      <th>4</th>\n",
       "      <td>Tq3rcuTCaF</td>\n",
       "      <td>Feminino</td>\n",
       "      <td>Parda</td>\n",
       "      <td>38</td>\n",
       "      <td>Dor de Cabeça, Febre, Dor de Garganta, Outros</td>\n",
       "      <td>NaN</td>\n",
       "      <td>NaN</td>\n",
       "      <td>NaN</td>\n",
       "      <td>Confirmado</td>\n",
       "      <td>Cura</td>\n",
       "      <td>0</td>\n",
       "      <td>1</td>\n",
       "      <td>1</td>\n",
       "      <td>0</td>\n",
       "      <td>0</td>\n",
       "      <td>0</td>\n",
       "      <td>1</td>\n",
       "      <td>0</td>\n",
       "      <td>0</td>\n",
       "    </tr>\n",
       "    <tr>\n",
       "      <th>5</th>\n",
       "      <td>wKlLRhxgV6</td>\n",
       "      <td>Masculino</td>\n",
       "      <td>Parda</td>\n",
       "      <td>72</td>\n",
       "      <td>Febre, Outros, Dor de Garganta</td>\n",
       "      <td>Outros</td>\n",
       "      <td>2021-04-01</td>\n",
       "      <td>2021-04-24</td>\n",
       "      <td>Confirmado</td>\n",
       "      <td>Cura</td>\n",
       "      <td>0</td>\n",
       "      <td>1</td>\n",
       "      <td>1</td>\n",
       "      <td>0</td>\n",
       "      <td>0</td>\n",
       "      <td>0</td>\n",
       "      <td>0</td>\n",
       "      <td>0</td>\n",
       "      <td>0</td>\n",
       "    </tr>\n",
       "    <tr>\n",
       "      <th>6</th>\n",
       "      <td>2HS1q63uaR</td>\n",
       "      <td>Masculino</td>\n",
       "      <td>Parda</td>\n",
       "      <td>20</td>\n",
       "      <td>Dor de Garganta, Outros</td>\n",
       "      <td>NaN</td>\n",
       "      <td>NaN</td>\n",
       "      <td>NaN</td>\n",
       "      <td>Confirmado</td>\n",
       "      <td>Cura</td>\n",
       "      <td>0</td>\n",
       "      <td>0</td>\n",
       "      <td>1</td>\n",
       "      <td>0</td>\n",
       "      <td>0</td>\n",
       "      <td>0</td>\n",
       "      <td>0</td>\n",
       "      <td>0</td>\n",
       "      <td>0</td>\n",
       "    </tr>\n",
       "    <tr>\n",
       "      <th>15</th>\n",
       "      <td>kB5hJkNZ76</td>\n",
       "      <td>Feminino</td>\n",
       "      <td>Parda</td>\n",
       "      <td>74</td>\n",
       "      <td>Dor de Cabeça, Tosse, Febre, Coriza</td>\n",
       "      <td>NaN</td>\n",
       "      <td>2021-04-01</td>\n",
       "      <td>2021-04-24</td>\n",
       "      <td>Confirmado</td>\n",
       "      <td>Cura</td>\n",
       "      <td>0</td>\n",
       "      <td>1</td>\n",
       "      <td>0</td>\n",
       "      <td>0</td>\n",
       "      <td>1</td>\n",
       "      <td>1</td>\n",
       "      <td>1</td>\n",
       "      <td>0</td>\n",
       "      <td>0</td>\n",
       "    </tr>\n",
       "    <tr>\n",
       "      <th>19</th>\n",
       "      <td>IAnieoeFeh</td>\n",
       "      <td>Masculino</td>\n",
       "      <td>Parda</td>\n",
       "      <td>73</td>\n",
       "      <td>Coriza, Dor de Cabeça</td>\n",
       "      <td>NaN</td>\n",
       "      <td>2021-04-01</td>\n",
       "      <td>2021-10-25</td>\n",
       "      <td>Confirmado</td>\n",
       "      <td>Cura</td>\n",
       "      <td>0</td>\n",
       "      <td>0</td>\n",
       "      <td>0</td>\n",
       "      <td>0</td>\n",
       "      <td>0</td>\n",
       "      <td>1</td>\n",
       "      <td>1</td>\n",
       "      <td>0</td>\n",
       "      <td>0</td>\n",
       "    </tr>\n",
       "  </tbody>\n",
       "</table>\n",
       "</div>"
      ],
      "text/plain": [
       "     source_id       sexo racaCor  idade  \\\n",
       "4   Tq3rcuTCaF   Feminino   Parda     38   \n",
       "5   wKlLRhxgV6  Masculino   Parda     72   \n",
       "6   2HS1q63uaR  Masculino   Parda     20   \n",
       "15  kB5hJkNZ76   Feminino   Parda     74   \n",
       "19  IAnieoeFeh  Masculino   Parda     73   \n",
       "\n",
       "                                         sintomas condicoes dataPrimeiraDose  \\\n",
       "4   Dor de Cabeça, Febre, Dor de Garganta, Outros       NaN              NaN   \n",
       "5                  Febre, Outros, Dor de Garganta    Outros       2021-04-01   \n",
       "6                         Dor de Garganta, Outros       NaN              NaN   \n",
       "15            Dor de Cabeça, Tosse, Febre, Coriza       NaN       2021-04-01   \n",
       "19                          Coriza, Dor de Cabeça       NaN       2021-04-01   \n",
       "\n",
       "   dataSegundaDose classificacaoFinal evolucaoCaso  assintomatico  febre  \\\n",
       "4              NaN         Confirmado         Cura              0      1   \n",
       "5       2021-04-24         Confirmado         Cura              0      1   \n",
       "6              NaN         Confirmado         Cura              0      0   \n",
       "15      2021-04-24         Confirmado         Cura              0      1   \n",
       "19      2021-10-25         Confirmado         Cura              0      0   \n",
       "\n",
       "    dorDeGarganta  dispneia  tosse  coriza  dorDeCabeca  \\\n",
       "4               1         0      0       0            1   \n",
       "5               1         0      0       0            0   \n",
       "6               1         0      0       0            0   \n",
       "15              0         0      1       1            1   \n",
       "19              0         0      0       1            1   \n",
       "\n",
       "    disturbiosGustatorios  disturbiosOlfativos  \n",
       "4                       0                    0  \n",
       "5                       0                    0  \n",
       "6                       0                    0  \n",
       "15                      0                    0  \n",
       "19                      0                    0  "
      ]
     },
     "execution_count": 16,
     "metadata": {},
     "output_type": "execute_result"
    }
   ],
   "source": [
    "covidData.head()"
   ]
  },
  {
   "cell_type": "markdown",
   "metadata": {},
   "source": [
    "### Limpeza de Dados - Condições"
   ]
  },
  {
   "cell_type": "code",
   "execution_count": 17,
   "metadata": {},
   "outputs": [],
   "source": [
    "# covidData.shape"
   ]
  },
  {
   "cell_type": "code",
   "execution_count": 18,
   "metadata": {},
   "outputs": [
    {
     "data": {
      "text/plain": [
       "(60824, 28)"
      ]
     },
     "execution_count": 18,
     "metadata": {},
     "output_type": "execute_result"
    }
   ],
   "source": [
    "condicoes = 'condicoes'\n",
    "covidData = pp.condicoesPreprocessamento(covidData, condicoes)\n",
    "covidData.shape"
   ]
  },
  {
   "cell_type": "code",
   "execution_count": 19,
   "metadata": {},
   "outputs": [
    {
     "data": {
      "text/html": [
       "<div>\n",
       "<style scoped>\n",
       "    .dataframe tbody tr th:only-of-type {\n",
       "        vertical-align: middle;\n",
       "    }\n",
       "\n",
       "    .dataframe tbody tr th {\n",
       "        vertical-align: top;\n",
       "    }\n",
       "\n",
       "    .dataframe thead th {\n",
       "        text-align: right;\n",
       "    }\n",
       "</style>\n",
       "<table border=\"1\" class=\"dataframe\">\n",
       "  <thead>\n",
       "    <tr style=\"text-align: right;\">\n",
       "      <th></th>\n",
       "      <th>source_id</th>\n",
       "      <th>sexo</th>\n",
       "      <th>racaCor</th>\n",
       "      <th>idade</th>\n",
       "      <th>sintomas</th>\n",
       "      <th>condicoes</th>\n",
       "      <th>dataPrimeiraDose</th>\n",
       "      <th>dataSegundaDose</th>\n",
       "      <th>classificacaoFinal</th>\n",
       "      <th>evolucaoCaso</th>\n",
       "      <th>...</th>\n",
       "      <th>disturbiosOlfativos</th>\n",
       "      <th>diabetes</th>\n",
       "      <th>obesidade</th>\n",
       "      <th>renal</th>\n",
       "      <th>respiratoria</th>\n",
       "      <th>imunossupressao</th>\n",
       "      <th>fragilidadeImuno</th>\n",
       "      <th>gestante</th>\n",
       "      <th>cardiaca</th>\n",
       "      <th>puerpera</th>\n",
       "    </tr>\n",
       "  </thead>\n",
       "  <tbody>\n",
       "    <tr>\n",
       "      <th>4</th>\n",
       "      <td>Tq3rcuTCaF</td>\n",
       "      <td>Feminino</td>\n",
       "      <td>Parda</td>\n",
       "      <td>38</td>\n",
       "      <td>Dor de Cabeça, Febre, Dor de Garganta, Outros</td>\n",
       "      <td>Faltoso</td>\n",
       "      <td>NaN</td>\n",
       "      <td>NaN</td>\n",
       "      <td>Confirmado</td>\n",
       "      <td>Cura</td>\n",
       "      <td>...</td>\n",
       "      <td>0</td>\n",
       "      <td>F</td>\n",
       "      <td>F</td>\n",
       "      <td>F</td>\n",
       "      <td>F</td>\n",
       "      <td>F</td>\n",
       "      <td>F</td>\n",
       "      <td>F</td>\n",
       "      <td>F</td>\n",
       "      <td>F</td>\n",
       "    </tr>\n",
       "    <tr>\n",
       "      <th>5</th>\n",
       "      <td>wKlLRhxgV6</td>\n",
       "      <td>Masculino</td>\n",
       "      <td>Parda</td>\n",
       "      <td>72</td>\n",
       "      <td>Febre, Outros, Dor de Garganta</td>\n",
       "      <td>Outros</td>\n",
       "      <td>2021-04-01</td>\n",
       "      <td>2021-04-24</td>\n",
       "      <td>Confirmado</td>\n",
       "      <td>Cura</td>\n",
       "      <td>...</td>\n",
       "      <td>0</td>\n",
       "      <td>0</td>\n",
       "      <td>0</td>\n",
       "      <td>0</td>\n",
       "      <td>0</td>\n",
       "      <td>0</td>\n",
       "      <td>0</td>\n",
       "      <td>0</td>\n",
       "      <td>0</td>\n",
       "      <td>0</td>\n",
       "    </tr>\n",
       "    <tr>\n",
       "      <th>6</th>\n",
       "      <td>2HS1q63uaR</td>\n",
       "      <td>Masculino</td>\n",
       "      <td>Parda</td>\n",
       "      <td>20</td>\n",
       "      <td>Dor de Garganta, Outros</td>\n",
       "      <td>Faltoso</td>\n",
       "      <td>NaN</td>\n",
       "      <td>NaN</td>\n",
       "      <td>Confirmado</td>\n",
       "      <td>Cura</td>\n",
       "      <td>...</td>\n",
       "      <td>0</td>\n",
       "      <td>F</td>\n",
       "      <td>F</td>\n",
       "      <td>F</td>\n",
       "      <td>F</td>\n",
       "      <td>F</td>\n",
       "      <td>F</td>\n",
       "      <td>F</td>\n",
       "      <td>F</td>\n",
       "      <td>F</td>\n",
       "    </tr>\n",
       "    <tr>\n",
       "      <th>15</th>\n",
       "      <td>kB5hJkNZ76</td>\n",
       "      <td>Feminino</td>\n",
       "      <td>Parda</td>\n",
       "      <td>74</td>\n",
       "      <td>Dor de Cabeça, Tosse, Febre, Coriza</td>\n",
       "      <td>Faltoso</td>\n",
       "      <td>2021-04-01</td>\n",
       "      <td>2021-04-24</td>\n",
       "      <td>Confirmado</td>\n",
       "      <td>Cura</td>\n",
       "      <td>...</td>\n",
       "      <td>0</td>\n",
       "      <td>F</td>\n",
       "      <td>F</td>\n",
       "      <td>F</td>\n",
       "      <td>F</td>\n",
       "      <td>F</td>\n",
       "      <td>F</td>\n",
       "      <td>F</td>\n",
       "      <td>F</td>\n",
       "      <td>F</td>\n",
       "    </tr>\n",
       "    <tr>\n",
       "      <th>19</th>\n",
       "      <td>IAnieoeFeh</td>\n",
       "      <td>Masculino</td>\n",
       "      <td>Parda</td>\n",
       "      <td>73</td>\n",
       "      <td>Coriza, Dor de Cabeça</td>\n",
       "      <td>Faltoso</td>\n",
       "      <td>2021-04-01</td>\n",
       "      <td>2021-10-25</td>\n",
       "      <td>Confirmado</td>\n",
       "      <td>Cura</td>\n",
       "      <td>...</td>\n",
       "      <td>0</td>\n",
       "      <td>F</td>\n",
       "      <td>F</td>\n",
       "      <td>F</td>\n",
       "      <td>F</td>\n",
       "      <td>F</td>\n",
       "      <td>F</td>\n",
       "      <td>F</td>\n",
       "      <td>F</td>\n",
       "      <td>F</td>\n",
       "    </tr>\n",
       "  </tbody>\n",
       "</table>\n",
       "<p>5 rows × 28 columns</p>\n",
       "</div>"
      ],
      "text/plain": [
       "     source_id       sexo racaCor  idade  \\\n",
       "4   Tq3rcuTCaF   Feminino   Parda     38   \n",
       "5   wKlLRhxgV6  Masculino   Parda     72   \n",
       "6   2HS1q63uaR  Masculino   Parda     20   \n",
       "15  kB5hJkNZ76   Feminino   Parda     74   \n",
       "19  IAnieoeFeh  Masculino   Parda     73   \n",
       "\n",
       "                                         sintomas condicoes dataPrimeiraDose  \\\n",
       "4   Dor de Cabeça, Febre, Dor de Garganta, Outros   Faltoso              NaN   \n",
       "5                  Febre, Outros, Dor de Garganta    Outros       2021-04-01   \n",
       "6                         Dor de Garganta, Outros   Faltoso              NaN   \n",
       "15            Dor de Cabeça, Tosse, Febre, Coriza   Faltoso       2021-04-01   \n",
       "19                          Coriza, Dor de Cabeça   Faltoso       2021-04-01   \n",
       "\n",
       "   dataSegundaDose classificacaoFinal evolucaoCaso  ...  disturbiosOlfativos  \\\n",
       "4              NaN         Confirmado         Cura  ...                    0   \n",
       "5       2021-04-24         Confirmado         Cura  ...                    0   \n",
       "6              NaN         Confirmado         Cura  ...                    0   \n",
       "15      2021-04-24         Confirmado         Cura  ...                    0   \n",
       "19      2021-10-25         Confirmado         Cura  ...                    0   \n",
       "\n",
       "    diabetes  obesidade  renal  respiratoria  imunossupressao  \\\n",
       "4          F          F      F             F                F   \n",
       "5          0          0      0             0                0   \n",
       "6          F          F      F             F                F   \n",
       "15         F          F      F             F                F   \n",
       "19         F          F      F             F                F   \n",
       "\n",
       "    fragilidadeImuno  gestante  cardiaca puerpera  \n",
       "4                  F         F         F        F  \n",
       "5                  0         0         0        0  \n",
       "6                  F         F         F        F  \n",
       "15                 F         F         F        F  \n",
       "19                 F         F         F        F  \n",
       "\n",
       "[5 rows x 28 columns]"
      ]
     },
     "execution_count": 19,
     "metadata": {},
     "output_type": "execute_result"
    }
   ],
   "source": [
    "covidData.head()"
   ]
  },
  {
   "cell_type": "markdown",
   "metadata": {},
   "source": [
    "### Limpeza de Dados - Idade"
   ]
  },
  {
   "cell_type": "code",
   "execution_count": 20,
   "metadata": {},
   "outputs": [
    {
     "data": {
      "text/plain": [
       "(60824, 28)"
      ]
     },
     "execution_count": 20,
     "metadata": {},
     "output_type": "execute_result"
    }
   ],
   "source": [
    "covidData.shape"
   ]
  },
  {
   "cell_type": "code",
   "execution_count": 21,
   "metadata": {},
   "outputs": [],
   "source": [
    "idade = 'idade'\n",
    "covidData = pp.idadePreprocessamento(covidData, idade, 'faixaetaria')"
   ]
  },
  {
   "cell_type": "code",
   "execution_count": 22,
   "metadata": {},
   "outputs": [
    {
     "data": {
      "text/plain": [
       "3.0    19954\n",
       "2.0    13492\n",
       "4.0    12485\n",
       "0.0     5366\n",
       "5.0     4859\n",
       "1.0     3281\n",
       "6.0     1272\n",
       "7.0       93\n",
       "Name: faixaetaria, dtype: int64"
      ]
     },
     "execution_count": 22,
     "metadata": {},
     "output_type": "execute_result"
    }
   ],
   "source": [
    "covidData['faixaetaria'].value_counts()"
   ]
  },
  {
   "cell_type": "markdown",
   "metadata": {},
   "source": [
    "### Limpeza de Dados - Raça"
   ]
  },
  {
   "cell_type": "code",
   "execution_count": 23,
   "metadata": {
    "scrolled": true
   },
   "outputs": [
    {
     "data": {
      "text/plain": [
       "Parda       36399\n",
       "Branca      15792\n",
       "Ignorado     5437\n",
       "Preta        1738\n",
       "Amarela       772\n",
       "Indigena      661\n",
       "Name: racaCor, dtype: int64"
      ]
     },
     "execution_count": 23,
     "metadata": {},
     "output_type": "execute_result"
    }
   ],
   "source": [
    "raca = 'racaCor'\n",
    "covidData[raca].value_counts()"
   ]
  },
  {
   "cell_type": "code",
   "execution_count": 24,
   "metadata": {},
   "outputs": [
    {
     "data": {
      "text/plain": [
       "Parda       36399\n",
       "Branca      15792\n",
       "Preta        1738\n",
       "Amarela       772\n",
       "Indigena      661\n",
       "Name: racaCor, dtype: int64"
      ]
     },
     "execution_count": 24,
     "metadata": {},
     "output_type": "execute_result"
    }
   ],
   "source": [
    "covidData = pp.racaPreprocessamento(covidData, raca)\n",
    "covidData[raca].value_counts()"
   ]
  },
  {
   "cell_type": "markdown",
   "metadata": {},
   "source": [
    "### Limpeza de Dados - Sexo"
   ]
  },
  {
   "cell_type": "code",
   "execution_count": 25,
   "metadata": {},
   "outputs": [
    {
     "data": {
      "text/plain": [
       "Feminino      30778\n",
       "Masculino     24579\n",
       "Indefinido        5\n",
       "Name: sexo, dtype: int64"
      ]
     },
     "execution_count": 25,
     "metadata": {},
     "output_type": "execute_result"
    }
   ],
   "source": [
    "sexo = 'sexo'\n",
    "covidData[sexo].value_counts()"
   ]
  },
  {
   "cell_type": "code",
   "execution_count": 26,
   "metadata": {
    "scrolled": true
   },
   "outputs": [],
   "source": [
    "covidData = pp.sexoPreprocessamento(covidData, sexo)"
   ]
  },
  {
   "cell_type": "code",
   "execution_count": 27,
   "metadata": {},
   "outputs": [
    {
     "data": {
      "text/plain": [
       "Feminino     30778\n",
       "Masculino    24579\n",
       "Name: sexo, dtype: int64"
      ]
     },
     "execution_count": 27,
     "metadata": {},
     "output_type": "execute_result"
    }
   ],
   "source": [
    "covidData[sexo].value_counts()"
   ]
  },
  {
   "cell_type": "markdown",
   "metadata": {},
   "source": [
    "### Formatando Condições"
   ]
  },
  {
   "cell_type": "code",
   "execution_count": 28,
   "metadata": {},
   "outputs": [],
   "source": [
    "covidData = pp.condicoesFormatarValores(covidData)"
   ]
  },
  {
   "cell_type": "markdown",
   "metadata": {},
   "source": [
    "### Limpeza dos Dados - Balanceamento"
   ]
  },
  {
   "cell_type": "code",
   "execution_count": 29,
   "metadata": {},
   "outputs": [],
   "source": [
    "#covidDataBalanced = pp.balanceamento(covidData, 'evolucaoCaso', 'Óbito', 40, 'Cura')\n",
    "# pp.condicoesQntValoresComAusentes(covidDataBalanced)\n",
    "#covidDataBalanced.shape"
   ]
  },
  {
   "cell_type": "code",
   "execution_count": 30,
   "metadata": {},
   "outputs": [],
   "source": [
    "#covidDataBalanced = pp.condicoesFormatarValores(covidDataBalanced)\n",
    "#pp.condicoesQntValores(covidDataBalanced)"
   ]
  },
  {
   "cell_type": "code",
   "execution_count": 31,
   "metadata": {},
   "outputs": [],
   "source": [
    "#pp.sintomasQntValores(covidDataBalanced)"
   ]
  },
  {
   "cell_type": "code",
   "execution_count": 32,
   "metadata": {},
   "outputs": [],
   "source": [
    "#covidDataBalanced.shape"
   ]
  },
  {
   "cell_type": "markdown",
   "metadata": {},
   "source": [
    "### Limpeza dos Dados - Removendo Colunas"
   ]
  },
  {
   "cell_type": "code",
   "execution_count": 33,
   "metadata": {},
   "outputs": [],
   "source": [
    "colunasRemovidas = ['source_id', 'idade', 'sintomas', 'condicoes', 'classificacaoFinal']\n",
    "# colunasRemovidas = ['source_id', 'idade', 'sintomas', 'condicoes', 'disturbiosOlfativos', \n",
    "#                    'disturbiosGustatorios', 'puerpera', 'fragilidadeImuno', 'gestante', \n",
    "#                    'obesidade', 'classificacaoFinal']"
   ]
  },
  {
   "cell_type": "code",
   "execution_count": 34,
   "metadata": {},
   "outputs": [
    {
     "data": {
      "text/plain": [
       "(55357, 24)"
      ]
     },
     "execution_count": 34,
     "metadata": {},
     "output_type": "execute_result"
    }
   ],
   "source": [
    "# Excluir linha abaixo caso utilize o balanceamento\n",
    "covidDataBalanced = covidData\n",
    "\n",
    "covidDataBalanced = pp.removerColunas(covidDataBalanced, colunasRemovidas)\n",
    "covidDataBalanced.shape"
   ]
  },
  {
   "cell_type": "markdown",
   "metadata": {},
   "source": [
    "### Limpeza dos Dados - Formatando Colunas"
   ]
  },
  {
   "cell_type": "code",
   "execution_count": 35,
   "metadata": {},
   "outputs": [
    {
     "name": "stdout",
     "output_type": "stream",
     "text": [
      "Feminino     30778\n",
      "Masculino    24579\n",
      "Name: sexo, dtype: int64 \n",
      "\n",
      " Parda       36395\n",
      "Branca      15791\n",
      "Preta        1738\n",
      "Amarela       772\n",
      "Indigena      661\n",
      "Name: racaCor, dtype: int64\n"
     ]
    }
   ],
   "source": [
    "# Colunas Formatadas: sexo e racaCor\n",
    "print(covidDataBalanced['sexo'].value_counts(), '\\n\\n',covidDataBalanced['racaCor'].value_counts())"
   ]
  },
  {
   "cell_type": "code",
   "execution_count": 36,
   "metadata": {},
   "outputs": [
    {
     "name": "stdout",
     "output_type": "stream",
     "text": [
      "0    30778\n",
      "1    24579\n",
      "Name: sexo, dtype: int64 \n",
      "\n",
      " 3    36395\n",
      "0    15791\n",
      "1     1738\n",
      "2      772\n",
      "4      661\n",
      "Name: racaCor, dtype: int64\n"
     ]
    }
   ],
   "source": [
    "covidDataBalanced = pp.formatarColunas(covidDataBalanced)\n",
    "print(covidDataBalanced['sexo'].value_counts(), '\\n\\n', covidDataBalanced['racaCor'].value_counts())"
   ]
  },
  {
   "cell_type": "markdown",
   "metadata": {},
   "source": [
    "### Salvando a Base Pré-processada"
   ]
  },
  {
   "cell_type": "code",
   "execution_count": 37,
   "metadata": {},
   "outputs": [
    {
     "data": {
      "text/plain": [
       "(55357, 24)"
      ]
     },
     "execution_count": 37,
     "metadata": {},
     "output_type": "execute_result"
    }
   ],
   "source": [
    "covidDataBalanced.shape"
   ]
  },
  {
   "cell_type": "code",
   "execution_count": 38,
   "metadata": {},
   "outputs": [],
   "source": [
    "evolucao = 'evolucaoCaso'\n",
    "covidDataBalanced[evolucao]= covidDataBalanced[evolucao].replace([0, 1, 'Internado'], [0, 1, 2])"
   ]
  },
  {
   "cell_type": "code",
   "execution_count": 39,
   "metadata": {},
   "outputs": [
    {
     "data": {
      "text/plain": [
       "1    55119\n",
       "0      210\n",
       "2       28\n",
       "Name: evolucaoCaso, dtype: int64"
      ]
     },
     "execution_count": 39,
     "metadata": {},
     "output_type": "execute_result"
    }
   ],
   "source": [
    "# dados_faltosos = pp.visualizarQntFaltosos(covidDataBalanced)\n",
    "# dados_faltosos\n",
    "covidDataBalanced['evolucaoCaso'].value_counts()"
   ]
  },
  {
   "cell_type": "code",
   "execution_count": 40,
   "metadata": {},
   "outputs": [],
   "source": [
    "pp.salvarBaseDeDados(covidDataBalanced, \"BasesPreProcessadas/sus-\"  + uf + \"-pp.xlsx\")"
   ]
  },
  {
   "cell_type": "code",
   "execution_count": 41,
   "metadata": {},
   "outputs": [
    {
     "data": {
      "text/html": [
       "<div>\n",
       "<style scoped>\n",
       "    .dataframe tbody tr th:only-of-type {\n",
       "        vertical-align: middle;\n",
       "    }\n",
       "\n",
       "    .dataframe tbody tr th {\n",
       "        vertical-align: top;\n",
       "    }\n",
       "\n",
       "    .dataframe thead th {\n",
       "        text-align: right;\n",
       "    }\n",
       "</style>\n",
       "<table border=\"1\" class=\"dataframe\">\n",
       "  <thead>\n",
       "    <tr style=\"text-align: right;\">\n",
       "      <th></th>\n",
       "      <th>sexo</th>\n",
       "      <th>racaCor</th>\n",
       "      <th>dataPrimeiraDose</th>\n",
       "      <th>dataSegundaDose</th>\n",
       "      <th>evolucaoCaso</th>\n",
       "      <th>assintomatico</th>\n",
       "      <th>febre</th>\n",
       "      <th>dorDeGarganta</th>\n",
       "      <th>dispneia</th>\n",
       "      <th>tosse</th>\n",
       "      <th>...</th>\n",
       "      <th>diabetes</th>\n",
       "      <th>obesidade</th>\n",
       "      <th>renal</th>\n",
       "      <th>respiratoria</th>\n",
       "      <th>imunossupressao</th>\n",
       "      <th>fragilidadeImuno</th>\n",
       "      <th>gestante</th>\n",
       "      <th>cardiaca</th>\n",
       "      <th>puerpera</th>\n",
       "      <th>faixaetaria</th>\n",
       "    </tr>\n",
       "  </thead>\n",
       "  <tbody>\n",
       "    <tr>\n",
       "      <th>4</th>\n",
       "      <td>0</td>\n",
       "      <td>3</td>\n",
       "      <td>NaN</td>\n",
       "      <td>NaN</td>\n",
       "      <td>1</td>\n",
       "      <td>0</td>\n",
       "      <td>1</td>\n",
       "      <td>1</td>\n",
       "      <td>0</td>\n",
       "      <td>0</td>\n",
       "      <td>...</td>\n",
       "      <td>0</td>\n",
       "      <td>0</td>\n",
       "      <td>0</td>\n",
       "      <td>0</td>\n",
       "      <td>0</td>\n",
       "      <td>0</td>\n",
       "      <td>0</td>\n",
       "      <td>0</td>\n",
       "      <td>0</td>\n",
       "      <td>3.0</td>\n",
       "    </tr>\n",
       "    <tr>\n",
       "      <th>5</th>\n",
       "      <td>1</td>\n",
       "      <td>3</td>\n",
       "      <td>2021-04-01</td>\n",
       "      <td>2021-04-24</td>\n",
       "      <td>1</td>\n",
       "      <td>0</td>\n",
       "      <td>1</td>\n",
       "      <td>1</td>\n",
       "      <td>0</td>\n",
       "      <td>0</td>\n",
       "      <td>...</td>\n",
       "      <td>0</td>\n",
       "      <td>0</td>\n",
       "      <td>0</td>\n",
       "      <td>0</td>\n",
       "      <td>0</td>\n",
       "      <td>0</td>\n",
       "      <td>0</td>\n",
       "      <td>0</td>\n",
       "      <td>0</td>\n",
       "      <td>5.0</td>\n",
       "    </tr>\n",
       "    <tr>\n",
       "      <th>6</th>\n",
       "      <td>1</td>\n",
       "      <td>3</td>\n",
       "      <td>NaN</td>\n",
       "      <td>NaN</td>\n",
       "      <td>1</td>\n",
       "      <td>0</td>\n",
       "      <td>0</td>\n",
       "      <td>1</td>\n",
       "      <td>0</td>\n",
       "      <td>0</td>\n",
       "      <td>...</td>\n",
       "      <td>0</td>\n",
       "      <td>0</td>\n",
       "      <td>0</td>\n",
       "      <td>0</td>\n",
       "      <td>0</td>\n",
       "      <td>0</td>\n",
       "      <td>0</td>\n",
       "      <td>0</td>\n",
       "      <td>0</td>\n",
       "      <td>2.0</td>\n",
       "    </tr>\n",
       "    <tr>\n",
       "      <th>15</th>\n",
       "      <td>0</td>\n",
       "      <td>3</td>\n",
       "      <td>2021-04-01</td>\n",
       "      <td>2021-04-24</td>\n",
       "      <td>1</td>\n",
       "      <td>0</td>\n",
       "      <td>1</td>\n",
       "      <td>0</td>\n",
       "      <td>0</td>\n",
       "      <td>1</td>\n",
       "      <td>...</td>\n",
       "      <td>0</td>\n",
       "      <td>0</td>\n",
       "      <td>0</td>\n",
       "      <td>0</td>\n",
       "      <td>0</td>\n",
       "      <td>0</td>\n",
       "      <td>0</td>\n",
       "      <td>0</td>\n",
       "      <td>0</td>\n",
       "      <td>5.0</td>\n",
       "    </tr>\n",
       "    <tr>\n",
       "      <th>19</th>\n",
       "      <td>1</td>\n",
       "      <td>3</td>\n",
       "      <td>2021-04-01</td>\n",
       "      <td>2021-10-25</td>\n",
       "      <td>1</td>\n",
       "      <td>0</td>\n",
       "      <td>0</td>\n",
       "      <td>0</td>\n",
       "      <td>0</td>\n",
       "      <td>0</td>\n",
       "      <td>...</td>\n",
       "      <td>0</td>\n",
       "      <td>0</td>\n",
       "      <td>0</td>\n",
       "      <td>0</td>\n",
       "      <td>0</td>\n",
       "      <td>0</td>\n",
       "      <td>0</td>\n",
       "      <td>0</td>\n",
       "      <td>0</td>\n",
       "      <td>5.0</td>\n",
       "    </tr>\n",
       "    <tr>\n",
       "      <th>...</th>\n",
       "      <td>...</td>\n",
       "      <td>...</td>\n",
       "      <td>...</td>\n",
       "      <td>...</td>\n",
       "      <td>...</td>\n",
       "      <td>...</td>\n",
       "      <td>...</td>\n",
       "      <td>...</td>\n",
       "      <td>...</td>\n",
       "      <td>...</td>\n",
       "      <td>...</td>\n",
       "      <td>...</td>\n",
       "      <td>...</td>\n",
       "      <td>...</td>\n",
       "      <td>...</td>\n",
       "      <td>...</td>\n",
       "      <td>...</td>\n",
       "      <td>...</td>\n",
       "      <td>...</td>\n",
       "      <td>...</td>\n",
       "      <td>...</td>\n",
       "    </tr>\n",
       "    <tr>\n",
       "      <th>295665</th>\n",
       "      <td>0</td>\n",
       "      <td>3</td>\n",
       "      <td>2022-03-22</td>\n",
       "      <td>NaN</td>\n",
       "      <td>1</td>\n",
       "      <td>0</td>\n",
       "      <td>1</td>\n",
       "      <td>1</td>\n",
       "      <td>0</td>\n",
       "      <td>1</td>\n",
       "      <td>...</td>\n",
       "      <td>0</td>\n",
       "      <td>0</td>\n",
       "      <td>0</td>\n",
       "      <td>0</td>\n",
       "      <td>0</td>\n",
       "      <td>0</td>\n",
       "      <td>0</td>\n",
       "      <td>0</td>\n",
       "      <td>0</td>\n",
       "      <td>0.0</td>\n",
       "    </tr>\n",
       "    <tr>\n",
       "      <th>295666</th>\n",
       "      <td>0</td>\n",
       "      <td>3</td>\n",
       "      <td>2022-03-23</td>\n",
       "      <td>NaN</td>\n",
       "      <td>1</td>\n",
       "      <td>0</td>\n",
       "      <td>1</td>\n",
       "      <td>0</td>\n",
       "      <td>0</td>\n",
       "      <td>0</td>\n",
       "      <td>...</td>\n",
       "      <td>0</td>\n",
       "      <td>0</td>\n",
       "      <td>0</td>\n",
       "      <td>0</td>\n",
       "      <td>0</td>\n",
       "      <td>0</td>\n",
       "      <td>0</td>\n",
       "      <td>0</td>\n",
       "      <td>0</td>\n",
       "      <td>0.0</td>\n",
       "    </tr>\n",
       "    <tr>\n",
       "      <th>295667</th>\n",
       "      <td>0</td>\n",
       "      <td>0</td>\n",
       "      <td>2022-03-23</td>\n",
       "      <td>NaN</td>\n",
       "      <td>1</td>\n",
       "      <td>1</td>\n",
       "      <td>0</td>\n",
       "      <td>0</td>\n",
       "      <td>0</td>\n",
       "      <td>0</td>\n",
       "      <td>...</td>\n",
       "      <td>0</td>\n",
       "      <td>0</td>\n",
       "      <td>0</td>\n",
       "      <td>0</td>\n",
       "      <td>0</td>\n",
       "      <td>0</td>\n",
       "      <td>0</td>\n",
       "      <td>0</td>\n",
       "      <td>0</td>\n",
       "      <td>0.0</td>\n",
       "    </tr>\n",
       "    <tr>\n",
       "      <th>295672</th>\n",
       "      <td>1</td>\n",
       "      <td>0</td>\n",
       "      <td>2022-03-26</td>\n",
       "      <td>NaN</td>\n",
       "      <td>1</td>\n",
       "      <td>1</td>\n",
       "      <td>0</td>\n",
       "      <td>0</td>\n",
       "      <td>0</td>\n",
       "      <td>0</td>\n",
       "      <td>...</td>\n",
       "      <td>0</td>\n",
       "      <td>0</td>\n",
       "      <td>0</td>\n",
       "      <td>0</td>\n",
       "      <td>0</td>\n",
       "      <td>0</td>\n",
       "      <td>0</td>\n",
       "      <td>0</td>\n",
       "      <td>0</td>\n",
       "      <td>0.0</td>\n",
       "    </tr>\n",
       "    <tr>\n",
       "      <th>295673</th>\n",
       "      <td>0</td>\n",
       "      <td>3</td>\n",
       "      <td>2022-03-26</td>\n",
       "      <td>NaN</td>\n",
       "      <td>1</td>\n",
       "      <td>0</td>\n",
       "      <td>1</td>\n",
       "      <td>0</td>\n",
       "      <td>0</td>\n",
       "      <td>1</td>\n",
       "      <td>...</td>\n",
       "      <td>0</td>\n",
       "      <td>0</td>\n",
       "      <td>0</td>\n",
       "      <td>0</td>\n",
       "      <td>0</td>\n",
       "      <td>0</td>\n",
       "      <td>0</td>\n",
       "      <td>0</td>\n",
       "      <td>0</td>\n",
       "      <td>2.0</td>\n",
       "    </tr>\n",
       "  </tbody>\n",
       "</table>\n",
       "<p>55357 rows × 24 columns</p>\n",
       "</div>"
      ],
      "text/plain": [
       "        sexo  racaCor dataPrimeiraDose dataSegundaDose  evolucaoCaso  \\\n",
       "4          0        3              NaN             NaN             1   \n",
       "5          1        3       2021-04-01      2021-04-24             1   \n",
       "6          1        3              NaN             NaN             1   \n",
       "15         0        3       2021-04-01      2021-04-24             1   \n",
       "19         1        3       2021-04-01      2021-10-25             1   \n",
       "...      ...      ...              ...             ...           ...   \n",
       "295665     0        3       2022-03-22             NaN             1   \n",
       "295666     0        3       2022-03-23             NaN             1   \n",
       "295667     0        0       2022-03-23             NaN             1   \n",
       "295672     1        0       2022-03-26             NaN             1   \n",
       "295673     0        3       2022-03-26             NaN             1   \n",
       "\n",
       "        assintomatico  febre  dorDeGarganta  dispneia  tosse  ...  diabetes  \\\n",
       "4                   0      1              1         0      0  ...         0   \n",
       "5                   0      1              1         0      0  ...         0   \n",
       "6                   0      0              1         0      0  ...         0   \n",
       "15                  0      1              0         0      1  ...         0   \n",
       "19                  0      0              0         0      0  ...         0   \n",
       "...               ...    ...            ...       ...    ...  ...       ...   \n",
       "295665              0      1              1         0      1  ...         0   \n",
       "295666              0      1              0         0      0  ...         0   \n",
       "295667              1      0              0         0      0  ...         0   \n",
       "295672              1      0              0         0      0  ...         0   \n",
       "295673              0      1              0         0      1  ...         0   \n",
       "\n",
       "        obesidade  renal  respiratoria  imunossupressao  fragilidadeImuno  \\\n",
       "4               0      0             0                0                 0   \n",
       "5               0      0             0                0                 0   \n",
       "6               0      0             0                0                 0   \n",
       "15              0      0             0                0                 0   \n",
       "19              0      0             0                0                 0   \n",
       "...           ...    ...           ...              ...               ...   \n",
       "295665          0      0             0                0                 0   \n",
       "295666          0      0             0                0                 0   \n",
       "295667          0      0             0                0                 0   \n",
       "295672          0      0             0                0                 0   \n",
       "295673          0      0             0                0                 0   \n",
       "\n",
       "        gestante  cardiaca  puerpera  faixaetaria  \n",
       "4              0         0         0          3.0  \n",
       "5              0         0         0          5.0  \n",
       "6              0         0         0          2.0  \n",
       "15             0         0         0          5.0  \n",
       "19             0         0         0          5.0  \n",
       "...          ...       ...       ...          ...  \n",
       "295665         0         0         0          0.0  \n",
       "295666         0         0         0          0.0  \n",
       "295667         0         0         0          0.0  \n",
       "295672         0         0         0          0.0  \n",
       "295673         0         0         0          2.0  \n",
       "\n",
       "[55357 rows x 24 columns]"
      ]
     },
     "execution_count": 41,
     "metadata": {},
     "output_type": "execute_result"
    }
   ],
   "source": [
    "covidDataBalanced"
   ]
  },
  {
   "cell_type": "code",
   "execution_count": null,
   "metadata": {},
   "outputs": [],
   "source": []
  }
 ],
 "metadata": {
  "colab": {
   "collapsed_sections": [],
   "name": "processamentoDados.ipynb",
   "provenance": [
    {
     "file_id": "14gNqQLvSBxac92pENTV2WFH8c9x6nI_I",
     "timestamp": 1605384432884
    }
   ]
  },
  "kernelspec": {
   "display_name": "Python 3 (ipykernel)",
   "language": "python",
   "name": "python3"
  },
  "language_info": {
   "codemirror_mode": {
    "name": "ipython",
    "version": 3
   },
   "file_extension": ".py",
   "mimetype": "text/x-python",
   "name": "python",
   "nbconvert_exporter": "python",
   "pygments_lexer": "ipython3",
   "version": "3.8.10"
  }
 },
 "nbformat": 4,
 "nbformat_minor": 1
}
