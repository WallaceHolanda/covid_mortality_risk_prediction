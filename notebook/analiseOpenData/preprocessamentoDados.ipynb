{
 "cells": [
  {
   "cell_type": "code",
   "execution_count": null,
   "metadata": {},
   "outputs": [],
   "source": [
    "# !pip install import-ipynb"
   ]
  },
  {
   "cell_type": "code",
   "execution_count": null,
   "metadata": {
    "executionInfo": {
     "elapsed": 1799,
     "status": "ok",
     "timestamp": 1606845696531,
     "user": {
      "displayName": "WALLACE DUARTE DE HOLANDA",
      "photoUrl": "https://lh3.googleusercontent.com/a-/AOh14GgeWMOt53non50jDB5bIAwurrZleD5e6T7yfR9w=s64",
      "userId": "03474631865123362594"
     },
     "user_tz": 180
    },
    "id": "TW5Oyd2oXbrk"
   },
   "outputs": [],
   "source": [
    "import pandas as pd\n",
    "import import_ipynb\n",
    "import preprocessamentofuncoes as pp"
   ]
  },
  {
   "cell_type": "code",
   "execution_count": null,
   "metadata": {
    "executionInfo": {
     "elapsed": 3434,
     "status": "ok",
     "timestamp": 1606845719272,
     "user": {
      "displayName": "WALLACE DUARTE DE HOLANDA",
      "photoUrl": "https://lh3.googleusercontent.com/a-/AOh14GgeWMOt53non50jDB5bIAwurrZleD5e6T7yfR9w=s64",
      "userId": "03474631865123362594"
     },
     "user_tz": 180
    },
    "id": "4Vjp-2FtXbr7"
   },
   "outputs": [],
   "source": [
    "covidData = pd.read_csv(\"../../database/opendatasus/sp-px-opendata-2022.csv\", on_bad_lines='skip')"
   ]
  },
  {
   "cell_type": "code",
   "execution_count": null,
   "metadata": {
    "colab": {
     "base_uri": "https://localhost:8080/"
    },
    "executionInfo": {
     "elapsed": 823,
     "status": "ok",
     "timestamp": 1606782619746,
     "user": {
      "displayName": "WALLACE DUARTE DE HOLANDA",
      "photoUrl": "https://lh3.googleusercontent.com/a-/AOh14GgeWMOt53non50jDB5bIAwurrZleD5e6T7yfR9w=s64",
      "userId": "03474631865123362594"
     },
     "user_tz": 180
    },
    "id": "R04MwHdxXbsK",
    "outputId": "e5065bd9-5f57-4346-a7d9-25a397411b9d"
   },
   "outputs": [],
   "source": [
    "# Visualizando Dados\n",
    "# covidData.head()\n",
    "covidData.shape"
   ]
  },
  {
   "cell_type": "code",
   "execution_count": null,
   "metadata": {},
   "outputs": [],
   "source": [
    "# 'dataPrimeiraDose', 'dataSegundaDose'\n",
    "colunasImportantes = ['source_id', 'sexo', 'racaCor', 'idade', 'sintomas', 'condicoes', \n",
    "                      'classificacaoFinal', 'evolucaoCaso']\n",
    "covidData = covidData[colunasImportantes]"
   ]
  },
  {
   "cell_type": "markdown",
   "metadata": {},
   "source": [
    "### Limpeza de Dados - Classificação Final\n"
   ]
  },
  {
   "cell_type": "code",
   "execution_count": null,
   "metadata": {},
   "outputs": [],
   "source": [
    "# Visualizando o formato das condições\n",
    "# covidData['classificacaoFinal'].value_counts()"
   ]
  },
  {
   "cell_type": "code",
   "execution_count": null,
   "metadata": {},
   "outputs": [],
   "source": [
    "covidData = pp.classFinPreprocessamento(covidData, 'classificacaoFinal')"
   ]
  },
  {
   "cell_type": "code",
   "execution_count": null,
   "metadata": {},
   "outputs": [],
   "source": [
    "# covidData['classificacaoFinal'].value_counts()"
   ]
  },
  {
   "cell_type": "code",
   "execution_count": null,
   "metadata": {},
   "outputs": [],
   "source": [
    "dados_faltosos = pp.visualizarQntFaltosos(covidData)\n",
    "dados_faltosos"
   ]
  },
  {
   "cell_type": "markdown",
   "metadata": {},
   "source": [
    "### Limpeza de Dados - Atibuto Evolução"
   ]
  },
  {
   "cell_type": "code",
   "execution_count": null,
   "metadata": {},
   "outputs": [],
   "source": [
    "# covidData[alvo].unique()\n",
    "evolucao = 'evolucaoCaso'\n",
    "covidData[evolucao].value_counts()"
   ]
  },
  {
   "cell_type": "code",
   "execution_count": null,
   "metadata": {},
   "outputs": [],
   "source": [
    "covidData = pp.evolucaoPreprocessamento(covidData, evolucao)\n",
    "covidData[evolucao].value_counts()"
   ]
  },
  {
   "cell_type": "code",
   "execution_count": null,
   "metadata": {},
   "outputs": [],
   "source": [
    "# dados_faltosos = pp.visualizarQntFaltosos(covidData)\n",
    "# dados_faltosos"
   ]
  },
  {
   "cell_type": "code",
   "execution_count": null,
   "metadata": {},
   "outputs": [],
   "source": [
    "# covidData[evolucao].value_counts()\n",
    "# covidData.shape"
   ]
  },
  {
   "cell_type": "markdown",
   "metadata": {
    "executionInfo": {
     "elapsed": 901,
     "status": "ok",
     "timestamp": 1606845744318,
     "user": {
      "displayName": "WALLACE DUARTE DE HOLANDA",
      "photoUrl": "https://lh3.googleusercontent.com/a-/AOh14GgeWMOt53non50jDB5bIAwurrZleD5e6T7yfR9w=s64",
      "userId": "03474631865123362594"
     },
     "user_tz": 180
    },
    "id": "KvmI5QyjTNKZ"
   },
   "source": [
    "### Limpeza de Dados - Sintomas"
   ]
  },
  {
   "cell_type": "code",
   "execution_count": null,
   "metadata": {},
   "outputs": [],
   "source": [
    "# covidData.head()\n",
    "# covidData.shape"
   ]
  },
  {
   "cell_type": "code",
   "execution_count": null,
   "metadata": {},
   "outputs": [],
   "source": [
    "# covidData[alvo].unique()\n",
    "sintomas = 'sintomas'\n",
    "covidData = pp.sintomasPreprocessamento(covidData, sintomas)\n",
    "covidData.shape"
   ]
  },
  {
   "cell_type": "code",
   "execution_count": null,
   "metadata": {},
   "outputs": [],
   "source": [
    "# covidData.head()\n",
    "# 'Febre' in covidData['sintomas'] "
   ]
  },
  {
   "cell_type": "markdown",
   "metadata": {},
   "source": [
    "### Limpeza de Dados - Condições"
   ]
  },
  {
   "cell_type": "code",
   "execution_count": null,
   "metadata": {},
   "outputs": [],
   "source": [
    "# covidData.shape"
   ]
  },
  {
   "cell_type": "code",
   "execution_count": null,
   "metadata": {},
   "outputs": [],
   "source": [
    "condicoes = 'condicoes'\n",
    "covidData = pp.condicoesPreprocessamento(covidData, condicoes)\n",
    "covidData.shape"
   ]
  },
  {
   "cell_type": "code",
   "execution_count": null,
   "metadata": {},
   "outputs": [],
   "source": [
    "# pp.condicoesQntValores(covidData)\n",
    "# covidData.head()"
   ]
  },
  {
   "cell_type": "markdown",
   "metadata": {},
   "source": [
    "### Limpeza de Dados - Idade"
   ]
  },
  {
   "cell_type": "code",
   "execution_count": null,
   "metadata": {},
   "outputs": [],
   "source": [
    "covidData.shape"
   ]
  },
  {
   "cell_type": "code",
   "execution_count": null,
   "metadata": {},
   "outputs": [],
   "source": [
    "idade = 'idade'\n",
    "covidData = pp.idadePreprocessamento(covidData, idade, 'faixaetaria')"
   ]
  },
  {
   "cell_type": "code",
   "execution_count": null,
   "metadata": {},
   "outputs": [],
   "source": [
    "covidData['faixaetaria'].value_counts()"
   ]
  },
  {
   "cell_type": "markdown",
   "metadata": {},
   "source": [
    "### Limpeza de Dados - Raça"
   ]
  },
  {
   "cell_type": "code",
   "execution_count": null,
   "metadata": {
    "scrolled": true
   },
   "outputs": [],
   "source": [
    "raca = 'racaCor'\n",
    "covidData = pp.racaPreprocessamento(covidData, raca)\n",
    "covidData[raca].value_counts()"
   ]
  },
  {
   "cell_type": "markdown",
   "metadata": {},
   "source": [
    "### Limpeza de Dados - Sexo"
   ]
  },
  {
   "cell_type": "code",
   "execution_count": null,
   "metadata": {},
   "outputs": [],
   "source": [
    "sexo = 'sexo'\n",
    "covidData[sexo].value_counts()"
   ]
  },
  {
   "cell_type": "code",
   "execution_count": null,
   "metadata": {
    "scrolled": true
   },
   "outputs": [],
   "source": [
    "covidData = pp.sexoPreprocessamento(covidData, sexo)"
   ]
  },
  {
   "cell_type": "code",
   "execution_count": null,
   "metadata": {},
   "outputs": [],
   "source": [
    "covidData[sexo].value_counts()"
   ]
  },
  {
   "cell_type": "markdown",
   "metadata": {},
   "source": [
    "### Limpeza dos Dados - Removendo Colunas"
   ]
  },
  {
   "cell_type": "code",
   "execution_count": null,
   "metadata": {},
   "outputs": [],
   "source": [
    "# source_id, idade, sintomas, classificacaoFinal\n",
    "colunasRemovidas = ['source_id', 'idade', 'sintomas', 'classificacaoFinal']\n",
    "covidData.shape"
   ]
  },
  {
   "cell_type": "code",
   "execution_count": null,
   "metadata": {},
   "outputs": [],
   "source": [
    "covidData = pp.removerColunas(covidData, colunasRemovidas)\n",
    "covidData.shape"
   ]
  },
  {
   "cell_type": "markdown",
   "metadata": {},
   "source": [
    "### Limpeza dos Dados - Formatando Colunas"
   ]
  },
  {
   "cell_type": "code",
   "execution_count": null,
   "metadata": {},
   "outputs": [],
   "source": [
    "# Colunas Formatadas: sexo e racaCor\n",
    "print(covidData['sexo'].value_counts(), '\\n\\n',covidData['racaCor'].value_counts())"
   ]
  },
  {
   "cell_type": "code",
   "execution_count": null,
   "metadata": {},
   "outputs": [],
   "source": [
    "covidData = formatarColunas(covidData)\n",
    "print(covidData['sexo'].value_counts(), '\\n\\n',covidData['racaCor'].value_counts())"
   ]
  },
  {
   "cell_type": "code",
   "execution_count": null,
   "metadata": {},
   "outputs": [],
   "source": []
  }
 ],
 "metadata": {
  "colab": {
   "collapsed_sections": [],
   "name": "processamentoDados.ipynb",
   "provenance": [
    {
     "file_id": "14gNqQLvSBxac92pENTV2WFH8c9x6nI_I",
     "timestamp": 1605384432884
    }
   ]
  },
  "kernelspec": {
   "display_name": "Python 3 (ipykernel)",
   "language": "python",
   "name": "python3"
  },
  "language_info": {
   "codemirror_mode": {
    "name": "ipython",
    "version": 3
   },
   "file_extension": ".py",
   "mimetype": "text/x-python",
   "name": "python",
   "nbconvert_exporter": "python",
   "pygments_lexer": "ipython3",
   "version": "3.8.10"
  }
 },
 "nbformat": 4,
 "nbformat_minor": 1
}
