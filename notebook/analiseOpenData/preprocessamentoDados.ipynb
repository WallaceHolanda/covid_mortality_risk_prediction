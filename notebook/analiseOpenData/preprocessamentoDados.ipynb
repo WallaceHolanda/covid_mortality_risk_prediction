{
 "cells": [
  {
   "cell_type": "code",
   "execution_count": 1,
   "metadata": {
    "executionInfo": {
     "elapsed": 1799,
     "status": "ok",
     "timestamp": 1606845696531,
     "user": {
      "displayName": "WALLACE DUARTE DE HOLANDA",
      "photoUrl": "https://lh3.googleusercontent.com/a-/AOh14GgeWMOt53non50jDB5bIAwurrZleD5e6T7yfR9w=s64",
      "userId": "03474631865123362594"
     },
     "user_tz": 180
    },
    "id": "TW5Oyd2oXbrk"
   },
   "outputs": [],
   "source": [
    "import pandas as pd"
   ]
  },
  {
   "cell_type": "code",
   "execution_count": 2,
   "metadata": {
    "executionInfo": {
     "elapsed": 3434,
     "status": "ok",
     "timestamp": 1606845719272,
     "user": {
      "displayName": "WALLACE DUARTE DE HOLANDA",
      "photoUrl": "https://lh3.googleusercontent.com/a-/AOh14GgeWMOt53non50jDB5bIAwurrZleD5e6T7yfR9w=s64",
      "userId": "03474631865123362594"
     },
     "user_tz": 180
    },
    "id": "4Vjp-2FtXbr7"
   },
   "outputs": [
    {
     "name": "stderr",
     "output_type": "stream",
     "text": [
      "/home/wallece/.local/lib/python3.8/site-packages/IPython/core/interactiveshell.py:3457: DtypeWarning: Columns (2,13,20,26) have mixed types.Specify dtype option on import or set low_memory=False.\n",
      "  exec(code_obj, self.user_global_ns, self.user_ns)\n"
     ]
    }
   ],
   "source": [
    "covidData = pd.read_csv(\"../../database/dadosSP22.csv\", on_bad_lines='skip')"
   ]
  },
  {
   "cell_type": "code",
   "execution_count": 3,
   "metadata": {
    "colab": {
     "base_uri": "https://localhost:8080/"
    },
    "executionInfo": {
     "elapsed": 823,
     "status": "ok",
     "timestamp": 1606782619746,
     "user": {
      "displayName": "WALLACE DUARTE DE HOLANDA",
      "photoUrl": "https://lh3.googleusercontent.com/a-/AOh14GgeWMOt53non50jDB5bIAwurrZleD5e6T7yfR9w=s64",
      "userId": "03474631865123362594"
     },
     "user_tz": 180
    },
    "id": "R04MwHdxXbsK",
    "outputId": "e5065bd9-5f57-4346-a7d9-25a397411b9d"
   },
   "outputs": [
    {
     "data": {
      "text/plain": [
       "(652852, 28)"
      ]
     },
     "execution_count": 3,
     "metadata": {},
     "output_type": "execute_result"
    }
   ],
   "source": [
    "#Visualizando Dados\n",
    "covidData.head()\n",
    "covidData.shape"
   ]
  },
  {
   "cell_type": "markdown",
   "metadata": {},
   "source": [
    "# Verificando e Selecionando as Colunas"
   ]
  },
  {
   "cell_type": "code",
   "execution_count": 4,
   "metadata": {
    "colab": {
     "base_uri": "https://localhost:8080/"
    },
    "executionInfo": {
     "elapsed": 1467,
     "status": "ok",
     "timestamp": 1606845724926,
     "user": {
      "displayName": "WALLACE DUARTE DE HOLANDA",
      "photoUrl": "https://lh3.googleusercontent.com/a-/AOh14GgeWMOt53non50jDB5bIAwurrZleD5e6T7yfR9w=s64",
      "userId": "03474631865123362594"
     },
     "user_tz": 180
    },
    "id": "kGnNDZZvXbsk",
    "outputId": "bf3b6b9b-14ef-4889-907e-671a9dd779e7"
   },
   "outputs": [
    {
     "data": {
      "text/plain": [
       "Index(['id', 'estadoNotificacao', 'estadoNotificacaoIBGE',\n",
       "       'municipioNotificacao', 'municipioNotificacaoIBGE', 'profissionalSaude',\n",
       "       'profissionalSeguranca', 'cbo', 'sexo', 'racaCor', 'estado',\n",
       "       'estadoIBGE', 'municipio', 'municipioIBGE', 'dataNotificacao',\n",
       "       'sintomas', 'outrosSintomas', 'dataInicioSintomas', 'condicoes',\n",
       "       'estadoTeste', 'dataTeste', 'tipoTeste', 'resultadoTeste',\n",
       "       'classificacaoFinal', 'evolucaoCaso', 'dataEncerramento', 'cnes',\n",
       "       'idade'],\n",
       "      dtype='object')"
      ]
     },
     "execution_count": 4,
     "metadata": {},
     "output_type": "execute_result"
    }
   ],
   "source": [
    "#Verificando a dimensão da Tabela\n",
    "colunas = covidData.columns\n",
    "colunas"
   ]
  },
  {
   "cell_type": "code",
   "execution_count": 7,
   "metadata": {
    "collapsed": true
   },
   "outputs": [
    {
     "data": {
      "text/plain": [
       "Doenças cardíacas crônicas                                                                                                                         19619\n",
       "Doenças respiratórias crônicas descompensadas                                                                                                      13837\n",
       "Diabetes                                                                                                                                            9604\n",
       "Outros                                                                                                                                              3345\n",
       "Doenças cardíacas crônicas, Diabetes                                                                                                                3069\n",
       "                                                                                                                                                   ...  \n",
       "Gestante, Doenças renais crônicas em estágio avançado (graus 3, 4 ou 5)                                                                                1\n",
       "Obesidade, Doenças respiratórias crônicas descompensadas, Doenças cardíacas crônicas                                                                   1\n",
       "Doenças cardíacas crônicas, Diabetes, Imunossupressão, Obesidade                                                                                       1\n",
       "Doenças renais crônicas em estágio avançado (graus 3, 4 ou 5), Diabetes, Portador de doenças cromossômicas ou estado de fragilidade imunológica        1\n",
       "Doenças respiratórias crônicas descompensadas, Doenças renais crônicas em estágio avançado (graus 3, 4 ou 5), Outros                                   1\n",
       "Name: condicoes, Length: 316, dtype: int64"
      ]
     },
     "execution_count": 7,
     "metadata": {},
     "output_type": "execute_result"
    }
   ],
   "source": [
    "# Visualizando o formato das condições\n",
    "covidData['condicoes'].value_counts()"
   ]
  },
  {
   "cell_type": "code",
   "execution_count": 5,
   "metadata": {},
   "outputs": [],
   "source": [
    "# Separando as colunas mais importantes\n",
    "colunasImportantes = ['id', 'sexo', 'racaCor', 'idade', 'sintomas', 'condicoes',\n",
    "                      'resultadoTeste', 'evolucaoCaso']\n",
    "covidData = covidData[colunasImportantes]"
   ]
  },
  {
   "cell_type": "markdown",
   "metadata": {},
   "source": [
    "# Calculando e Removendo os Valores Ausentes"
   ]
  },
  {
   "cell_type": "code",
   "execution_count": 29,
   "metadata": {
    "colab": {
     "base_uri": "https://localhost:8080/"
    },
    "executionInfo": {
     "elapsed": 786,
     "status": "ok",
     "timestamp": 1606782622935,
     "user": {
      "displayName": "WALLACE DUARTE DE HOLANDA",
      "photoUrl": "https://lh3.googleusercontent.com/a-/AOh14GgeWMOt53non50jDB5bIAwurrZleD5e6T7yfR9w=s64",
      "userId": "03474631865123362594"
     },
     "user_tz": 180
    },
    "id": "Dxgp81H2Xbs5",
    "outputId": "f0228368-565a-448f-bea8-43f58ae8d5ed"
   },
   "outputs": [],
   "source": [
    "#Verificando a quantidade de dados faltantes por colunas\n",
    "from matplotlib import pyplot as plt\n",
    "\n",
    "def visualizarQntFaltosos(covidData):\n",
    "    faltantes = covidData.isnull().sum()\n",
    "    faltantes_percentual = (covidData.isnull().sum() / len(covidData['id'])) * 100\n",
    "    return faltantes_percentual\n",
    "    \n",
    "def plotarQntFaltosos(dados):\n",
    "    nomes = dados.index\n",
    "    valores = dados.values\n",
    "    plt.barh(nomes, valores)\n",
    "    plt.show"
   ]
  },
  {
   "cell_type": "code",
   "execution_count": 30,
   "metadata": {},
   "outputs": [
    {
     "data": {
      "image/png": "[encoded data removed]",
      "text/plain": [
       "<Figure size 432x288 with 1 Axes>"
      ]
     },
     "metadata": {
      "needs_background": "light"
     },
     "output_type": "display_data"
    }
   ],
   "source": [
    "dados_faltosos = visualizarQntFaltosos(covidData)\n",
    "plotarQntFaltosos(dados_faltosos)"
   ]
  },
  {
   "cell_type": "markdown",
   "metadata": {},
   "source": [
    "# Limpeza de Dados - Atibuto Evolução\n",
    "\n",
    "#### i. Pode conter (Cancelado, Cura, Ignorado, Em tratamento domiciliar, Óbito, Internado, Internado em UTI\n",
    "#### ii. Inicialmente, serão removido os valore ausentes\n",
    "#### iii. Em seguida, os valores Cancelado e Ignorado serão removidos"
   ]
  },
  {
   "cell_type": "code",
   "execution_count": 37,
   "metadata": {
    "executionInfo": {
     "elapsed": 1376,
     "status": "ok",
     "timestamp": 1606845731410,
     "user": {
      "displayName": "WALLACE DUARTE DE HOLANDA",
      "photoUrl": "https://lh3.googleusercontent.com/a-/AOh14GgeWMOt53non50jDB5bIAwurrZleD5e6T7yfR9w=s64",
      "userId": "03474631865123362594"
     },
     "user_tz": 180
    },
    "id": "5q41oIsjXbtL"
   },
   "outputs": [],
   "source": [
    "#Salvando todos os dados que não possuem a evolução vazia\n",
    "alvo = 'evolucaoCaso'\n",
    "newData = covidData.loc[covidData[alvo].notnull()]"
   ]
  },
  {
   "cell_type": "code",
   "execution_count": 32,
   "metadata": {
    "colab": {
     "base_uri": "https://localhost:8080/"
    },
    "executionInfo": {
     "elapsed": 933,
     "status": "ok",
     "timestamp": 1606845733956,
     "user": {
      "displayName": "WALLACE DUARTE DE HOLANDA",
      "photoUrl": "https://lh3.googleusercontent.com/a-/AOh14GgeWMOt53non50jDB5bIAwurrZleD5e6T7yfR9w=s64",
      "userId": "03474631865123362594"
     },
     "user_tz": 180
    },
    "id": "Rc6CyvoTXbtW",
    "outputId": "ad8899f2-02ad-4e19-832e-ce97145d4fb5"
   },
   "outputs": [
    {
     "data": {
      "text/plain": [
       "(332250, 8)"
      ]
     },
     "execution_count": 32,
     "metadata": {},
     "output_type": "execute_result"
    }
   ],
   "source": [
    "#Visualizando as novas dimensões dos novos dados\n",
    "newData.shape"
   ]
  },
  {
   "cell_type": "code",
   "execution_count": 34,
   "metadata": {
    "colab": {
     "base_uri": "https://localhost:8080/"
    },
    "executionInfo": {
     "elapsed": 943,
     "status": "ok",
     "timestamp": 1606845737145,
     "user": {
      "displayName": "WALLACE DUARTE DE HOLANDA",
      "photoUrl": "https://lh3.googleusercontent.com/a-/AOh14GgeWMOt53non50jDB5bIAwurrZleD5e6T7yfR9w=s64",
      "userId": "03474631865123362594"
     },
     "user_tz": 180
    },
    "id": "11JoImaGbEI4",
    "outputId": "4ca08867-d495-4338-b536-89cd73b22a4f"
   },
   "outputs": [
    {
     "data": {
      "text/plain": [
       "id                 0.000000\n",
       "sexo               0.001806\n",
       "racaCor            1.246953\n",
       "idade              0.001806\n",
       "sintomas           0.004214\n",
       "condicoes         89.121746\n",
       "resultadoTeste    26.618811\n",
       "evolucaoCaso       0.000000\n",
       "dtype: float64"
      ]
     },
     "execution_count": 34,
     "metadata": {},
     "output_type": "execute_result"
    }
   ],
   "source": [
    "visualizarQntFaltosos(newData)"
   ]
  },
  {
   "cell_type": "code",
   "execution_count": 36,
   "metadata": {},
   "outputs": [
    {
     "data": {
      "text/plain": [
       "array(['Cancelado', 'Cura', 'Ignorado', 'Em tratamento domiciliar',\n",
       "       'Óbito', 'Internado', 'Internado em UTI'], dtype=object)"
      ]
     },
     "execution_count": 36,
     "metadata": {},
     "output_type": "execute_result"
    }
   ],
   "source": [
    "# Os valores - Ignorado e Cancelado devem ser removidos\n",
    "# newData[alvo].value_counts()\n",
    "newData[alvo].unique()"
   ]
  },
  {
   "cell_type": "code",
   "execution_count": 61,
   "metadata": {
    "executionInfo": {
     "elapsed": 939,
     "status": "ok",
     "timestamp": 1606845739033,
     "user": {
      "displayName": "WALLACE DUARTE DE HOLANDA",
      "photoUrl": "https://lh3.googleusercontent.com/a-/AOh14GgeWMOt53non50jDB5bIAwurrZleD5e6T7yfR9w=s64",
      "userId": "03474631865123362594"
     },
     "user_tz": 180
    },
    "id": "eRjMptrqXbt2"
   },
   "outputs": [
    {
     "ename": "TypeError",
     "evalue": "unhashable type: 'Series'",
     "output_type": "error",
     "traceback": [
      "\u001b[0;31m---------------------------------------------------------------------------\u001b[0m",
      "\u001b[0;31mTypeError\u001b[0m                                 Traceback (most recent call last)",
      "\u001b[0;32m/tmp/ipykernel_5418/1086418606.py\u001b[0m in \u001b[0;36m<module>\u001b[0;34m\u001b[0m\n\u001b[1;32m      1\u001b[0m \u001b[0;31m#Verificando quantos casos foram óbitos e recuperados\u001b[0m\u001b[0;34m\u001b[0m\u001b[0;34m\u001b[0m\u001b[0;34m\u001b[0m\u001b[0m\n\u001b[1;32m      2\u001b[0m \u001b[0;34m\u001b[0m\u001b[0m\n\u001b[0;32m----> 3\u001b[0;31m \u001b[0mnewDData\u001b[0m \u001b[0;34m=\u001b[0m \u001b[0mnewData\u001b[0m\u001b[0;34m.\u001b[0m\u001b[0mdrop\u001b[0m\u001b[0;34m(\u001b[0m\u001b[0mnewData\u001b[0m\u001b[0;34m[\u001b[0m\u001b[0mnewData\u001b[0m\u001b[0;34m[\u001b[0m\u001b[0malvo\u001b[0m\u001b[0;34m]\u001b[0m \u001b[0;32min\u001b[0m \u001b[0;34m{\u001b[0m\u001b[0;34m'Internado'\u001b[0m\u001b[0;34m,\u001b[0m \u001b[0;34m'Cancelado'\u001b[0m\u001b[0;34m}\u001b[0m\u001b[0;34m]\u001b[0m\u001b[0;34m.\u001b[0m\u001b[0mindex\u001b[0m\u001b[0;34m)\u001b[0m\u001b[0;34m;\u001b[0m\u001b[0;34m\u001b[0m\u001b[0;34m\u001b[0m\u001b[0m\n\u001b[0m\u001b[1;32m      4\u001b[0m \u001b[0;34m\u001b[0m\u001b[0m\n\u001b[1;32m      5\u001b[0m \u001b[0mnewDData\u001b[0m\u001b[0;34m[\u001b[0m\u001b[0malvo\u001b[0m\u001b[0;34m]\u001b[0m\u001b[0;34m.\u001b[0m\u001b[0mvalue_counts\u001b[0m\u001b[0;34m(\u001b[0m\u001b[0;34m)\u001b[0m\u001b[0;34m\u001b[0m\u001b[0;34m\u001b[0m\u001b[0m\n",
      "\u001b[0;31mTypeError\u001b[0m: unhashable type: 'Series'"
     ]
    }
   ],
   "source": [
    "#Verificando quantos casos foram óbitos e recuperados\n",
    "\n",
    "newDData = newData.drop(newData[newData[alvo] == 'Ignorado'].index);\n",
    "newDData = newData.drop(newData[newData[alvo] == 'Cancelado'].index);\n",
    "\n",
    "newDData[alvo].value_counts()\n",
    "# newDData.shape\n",
    "\n",
    "#newDData['EVOLUCAO'].replace(1, 'OBITO', inplace = True);"
   ]
  },
  {
   "cell_type": "code",
   "execution_count": 42,
   "metadata": {
    "colab": {
     "base_uri": "https://localhost:8080/"
    },
    "executionInfo": {
     "elapsed": 911,
     "status": "ok",
     "timestamp": 1606845741733,
     "user": {
      "displayName": "WALLACE DUARTE DE HOLANDA",
      "photoUrl": "https://lh3.googleusercontent.com/a-/AOh14GgeWMOt53non50jDB5bIAwurrZleD5e6T7yfR9w=s64",
      "userId": "03474631865123362594"
     },
     "user_tz": 180
    },
    "id": "eJXSQLn-SYGo",
    "outputId": "247b8c7c-8570-4d82-f4ac-1ebd2639624f"
   },
   "outputs": [
    {
     "data": {
      "text/plain": [
       "(1120, 165)"
      ]
     },
     "execution_count": 42,
     "metadata": {},
     "output_type": "execute_result"
    }
   ],
   "source": [
    "#Eliminando os atributos vazios\n",
    "covidNewData = newDData.loc[newDData['CLASSI_FIN'].notnull()]\n",
    "covidNewData.shape"
   ]
  },
  {
   "cell_type": "code",
   "execution_count": 43,
   "metadata": {},
   "outputs": [
    {
     "data": {
      "text/plain": [
       "5.0    762\n",
       "4.0    350\n",
       "1.0      3\n",
       "3.0      3\n",
       "2.0      2\n",
       "Name: CLASSI_FIN, dtype: int64"
      ]
     },
     "execution_count": 43,
     "metadata": {},
     "output_type": "execute_result"
    }
   ],
   "source": [
    "covidNewData['CLASSI_FIN'].value_counts()"
   ]
  },
  {
   "cell_type": "markdown",
   "metadata": {
    "executionInfo": {
     "elapsed": 901,
     "status": "ok",
     "timestamp": 1606845744318,
     "user": {
      "displayName": "WALLACE DUARTE DE HOLANDA",
      "photoUrl": "https://lh3.googleusercontent.com/a-/AOh14GgeWMOt53non50jDB5bIAwurrZleD5e6T7yfR9w=s64",
      "userId": "03474631865123362594"
     },
     "user_tz": 180
    },
    "id": "KvmI5QyjTNKZ"
   },
   "source": [
    "# Coletando os Sintomas"
   ]
  },
  {
   "cell_type": "code",
   "execution_count": null,
   "metadata": {},
   "outputs": [],
   "source": []
  },
  {
   "cell_type": "code",
   "execution_count": null,
   "metadata": {},
   "outputs": [],
   "source": []
  },
  {
   "cell_type": "code",
   "execution_count": null,
   "metadata": {},
   "outputs": [],
   "source": []
  },
  {
   "cell_type": "code",
   "execution_count": null,
   "metadata": {},
   "outputs": [],
   "source": []
  },
  {
   "cell_type": "markdown",
   "metadata": {},
   "source": [
    "# Organizando as Comorbidades\n",
    "#### "
   ]
  },
  {
   "cell_type": "code",
   "execution_count": null,
   "metadata": {},
   "outputs": [],
   "source": []
  },
  {
   "cell_type": "code",
   "execution_count": 46,
   "metadata": {},
   "outputs": [],
   "source": [
    "# Comorbidades\n",
    "comorbidades = {\"diabetes\": 'Diabetes', \n",
    "                \"obesidade\": 'Obesidade', \n",
    "                \"renal\": 'Doenças renais crônicas em estágio avançado',\n",
    "                \"respiratoria\": 'Doenças respiratórias crônicas descompensadas',\n",
    "                \"imunossupressao\": 'Imunossupressão',\n",
    "                \"fragilidadeImuno\": 'Portador de doenças cromossômicas ou estado de fragilidade imunológica',\n",
    "                \"gestante\": 'Gestante',\n",
    "                \"cardiaca\": 'Doenças cardíacas crônicas',\n",
    "                \"puerpera\": 'Puérpera'}\n",
    "\n",
    "x = comorbidades.keys()\n",
    "\n",
    "\n",
    "# stringX = 'Doenças cardíacas crônicas, Diabetes'\n",
    "# comorbidades['diabetes'] in stringX"
   ]
  },
  {
   "cell_type": "code",
   "execution_count": null,
   "metadata": {},
   "outputs": [],
   "source": [
    "for chave in comorbidades.keys():\n",
    "    print(chave)"
   ]
  },
  {
   "cell_type": "code",
   "execution_count": 45,
   "metadata": {},
   "outputs": [
    {
     "name": "stderr",
     "output_type": "stream",
     "text": [
      "/home/wallece/.local/lib/python3.8/site-packages/pandas/core/indexing.py:1817: SettingWithCopyWarning: \n",
      "A value is trying to be set on a copy of a slice from a DataFrame.\n",
      "Try using .loc[row_indexer,col_indexer] = value instead\n",
      "\n",
      "See the caveats in the documentation: https://pandas.pydata.org/pandas-docs/stable/user_guide/indexing.html#returning-a-view-versus-a-copy\n",
      "  self._setitem_single_column(loc, value, pi)\n"
     ]
    },
    {
     "data": {
      "text/plain": [
       "2.0    424\n",
       "1.0     53\n",
       "Name: RENAL, dtype: int64"
      ]
     },
     "execution_count": 45,
     "metadata": {},
     "output_type": "execute_result"
    }
   ],
   "source": [
    "# Substituindo o valor das comorbidades\n",
    "covidNewData.loc[covidNewData.FATOR_RISC == 2, [\"PUERPERA\", \"CARDIOPATI\", \"HEMATOLOGI\",\n",
    "            \"SIND_DOWN\", \"HEPATICA\", \"ASMA\",\"DIABETES\", \"NEUROLOGIC\", \"PNEUMOPATI\",\n",
    "            \"IMUNODEPRE\", \"RENAL\", \"OBESIDADE\"]] = 2;\n",
    "covidNewData.RENAL.value_counts()"
   ]
  },
  {
   "cell_type": "code",
   "execution_count": 46,
   "metadata": {},
   "outputs": [
    {
     "data": {
      "text/plain": [
       "(1120, 165)"
      ]
     },
     "execution_count": 46,
     "metadata": {},
     "output_type": "execute_result"
    }
   ],
   "source": [
    "covidNewData.shape"
   ]
  },
  {
   "cell_type": "code",
   "execution_count": 47,
   "metadata": {},
   "outputs": [
    {
     "data": {
      "text/plain": [
       "(762, 165)"
      ]
     },
     "execution_count": 47,
     "metadata": {},
     "output_type": "execute_result"
    }
   ],
   "source": [
    "newCovidData = covidNewData.drop(covidNewData[covidNewData.CLASSI_FIN != 5].index, inplace = False)\n",
    "#covidNewData.shape\n",
    "newCovidData.shape"
   ]
  },
  {
   "cell_type": "code",
   "execution_count": 48,
   "metadata": {},
   "outputs": [
    {
     "data": {
      "text/plain": [
       "(762, 30)"
      ]
     },
     "execution_count": 48,
     "metadata": {},
     "output_type": "execute_result"
    }
   ],
   "source": [
    "#Filtrando os atributos\n",
    "attributes = [\"CS_SEXO\", \"NU_IDADE_N\", \"CS_RACA\", \"SURTO_SG\", \"FEBRE\", \"TOSSE\", \"GARGANTA\", \n",
    "              \"DISPNEIA\", \"DESC_RESP\", \"SATURACAO\", \"DIARREIA\",\"VOMITO\", \"FATOR_RISC\", \"PUERPERA\", \"CARDIOPATI\", \n",
    "              \"HEMATOLOGI\", \"SIND_DOWN\", \"HEPATICA\", \"ASMA\", \"DIABETES\", \"NEUROLOGIC\",\"PNEUMOPATI\",\n",
    "              \"IMUNODEPRE\", \"RENAL\", \"OBESIDADE\", \"DT_INTERNA\", \"DT_EVOLUCA\", \"CLASSI_FIN\", \"SUPORT_VEN\", \"UTI\"]\n",
    "# 'EVOLUCAO'\n",
    "\n",
    "dbCovid = newCovidData[attributes];\n",
    "dbCovid.shape"
   ]
  },
  {
   "cell_type": "code",
   "execution_count": 49,
   "metadata": {},
   "outputs": [],
   "source": [
    "write = pd.ExcelWriter('uti_dados_pp_Jan2021.xlsx')\n",
    "dbCovid.to_excel(write, 'dados', index = False)\n",
    "write.save()"
   ]
  },
  {
   "cell_type": "code",
   "execution_count": null,
   "metadata": {},
   "outputs": [],
   "source": []
  },
  {
   "cell_type": "code",
   "execution_count": null,
   "metadata": {},
   "outputs": [],
   "source": []
  },
  {
   "cell_type": "code",
   "execution_count": 47,
   "metadata": {},
   "outputs": [
    {
     "data": {
      "text/plain": [
       "'\\nDiabetes\\nObesidade\\nDoenças renais crônicas em estágio avançado (graus 3, 4 e 5)\\nDoenças respiratórias crônicas descompensadas \\nImunossupressão\\nPortador de doenças cromossômicas ou estado de fragilidade imunológica\\nGestante\\nDoenças cardíacas crônicas \\nPuérpera (até 45 dias do parto)\\n'"
      ]
     },
     "execution_count": 47,
     "metadata": {},
     "output_type": "execute_result"
    }
   ],
   "source": [
    "# Lista de Comorbidades\n",
    "\"\"\"\n",
    "Diabetes\n",
    "Obesidade\n",
    "Doenças renais crônicas em estágio avançado (graus 3, 4 e 5)\n",
    "Doenças respiratórias crônicas descompensadas \n",
    "Imunossupressão\n",
    "Portador de doenças cromossômicas ou estado de fragilidade imunológica\n",
    "Gestante\n",
    "Doenças cardíacas crônicas \n",
    "Puérpera (até 45 dias do parto)\n",
    "\"\"\""
   ]
  },
  {
   "cell_type": "code",
   "execution_count": null,
   "metadata": {},
   "outputs": [],
   "source": []
  }
 ],
 "metadata": {
  "colab": {
   "collapsed_sections": [],
   "name": "processamentoDados.ipynb",
   "provenance": [
    {
     "file_id": "14gNqQLvSBxac92pENTV2WFH8c9x6nI_I",
     "timestamp": 1605384432884
    }
   ]
  },
  "kernelspec": {
   "display_name": "Python 3 (ipykernel)",
   "language": "python",
   "name": "python3"
  },
  "language_info": {
   "codemirror_mode": {
    "name": "ipython",
    "version": 3
   },
   "file_extension": ".py",
   "mimetype": "text/x-python",
   "name": "python",
   "nbconvert_exporter": "python",
   "pygments_lexer": "ipython3",
   "version": "3.8.10"
  }
 },
 "nbformat": 4,
 "nbformat_minor": 1
}
