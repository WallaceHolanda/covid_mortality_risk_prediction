{
 "cells": [
  {
   "cell_type": "markdown",
   "id": "583d5d99",
   "metadata": {},
   "source": [
    "### Modelos\n",
    "- Modelo Óbito-Curado (60/40): Regressão\n",
    "- Modelo Internado-Curado (70/30): AdaBoost"
   ]
  },
  {
   "cell_type": "code",
   "execution_count": 1,
   "id": "424c51e5",
   "metadata": {},
   "outputs": [
    {
     "name": "stdout",
     "output_type": "stream",
     "text": [
      "importing Jupyter notebook from modelofuncoes.ipynb\n"
     ]
    }
   ],
   "source": [
    "import pandas as pd\n",
    "import numpy as np\n",
    "import matplotlib.pyplot as plt\n",
    "\n",
    "import import_ipynb\n",
    "import modelofuncoes as mf\n",
    "\n",
    "from joblib import dump, load\n",
    "\n",
    "from sklearn.model_selection import train_test_split\n",
    "from sklearn.linear_model import LogisticRegression\n",
    "from sklearn.ensemble import AdaBoostClassifier\n",
    "from sklearn.ensemble import RandomForestClassifier\n",
    "from sklearn.linear_model import LogisticRegression\n",
    "from sklearn.ensemble import GradientBoostingClassifier\n",
    "from sklearn import metrics\n",
    "from sklearn.metrics import accuracy_score"
   ]
  },
  {
   "cell_type": "markdown",
   "id": "28b37ccf",
   "metadata": {},
   "source": [
    "### Avaliando o Smote"
   ]
  },
  {
   "cell_type": "code",
   "execution_count": null,
   "id": "3787e4e6",
   "metadata": {},
   "outputs": [],
   "source": [
    "from imblearn.over_sampling import RandomOverSampler, SMOTE\n",
    "\n",
    "def aplicarSmote(base, alvo):\n",
    "\n",
    "    X_smt = base.drop(alvo, axis = 1)\n",
    "    y_smt = base[alvo]\n",
    "    \n",
    "    # Contar o número de ocorrências\n",
    "    # np.bincount(y_smt)\n",
    "    \n",
    "    # Carregar o Smote\n",
    "    smt = SMOTE()\n",
    "    \n",
    "    # Aplicar o Smote\n",
    "    X_smt, y_smt = smt.fit_resample(X_smt, y_smt)\n",
    "    \n",
    "    # Contar o número de ocorrências\n",
    "    # np.bincount(y_smt)\n",
    "    \n",
    "    # Convertendo em DF\n",
    "    smoteBase = pd.DataFrame(X_smt)\n",
    "    smoteBase[alvo] = y_smt\n",
    "    \n",
    "    return smoteBase"
   ]
  },
  {
   "cell_type": "markdown",
   "id": "6e40193e",
   "metadata": {},
   "source": [
    "### Modelo OC - Constatando o Desempenho"
   ]
  },
  {
   "cell_type": "code",
   "execution_count": 2,
   "id": "1367a248",
   "metadata": {},
   "outputs": [],
   "source": [
    "# Carregando a Base de Dados\n",
    "\n",
    "#url = 'Vacinas/OC/oc-vacina-6040-sp.xlsx'\n",
    "url = 'PreProcessamento/balanceadas/OC/ba-oc-6040-sp.xlsx'\n",
    "alvo = 'evolucaoCaso'\n",
    "baseObitoCurado = pd.read_excel(url)\n",
    "\n",
    "bases = {}\n",
    "bases['Base OC (60/40)'] = url"
   ]
  },
  {
   "cell_type": "code",
   "execution_count": null,
   "id": "267aeffa",
   "metadata": {},
   "outputs": [],
   "source": [
    "#baseObitoCurado[alvo].value_counts()"
   ]
  },
  {
   "cell_type": "code",
   "execution_count": 3,
   "id": "ec79483c",
   "metadata": {},
   "outputs": [],
   "source": [
    "# Definindo o Modelo de Regressão Logística\n",
    "hiperparametrosLR = LogisticRegression(C=1.0, class_weight=None, dual=False, fit_intercept=True, \n",
    "                                       intercept_scaling=1, l1_ratio=None, max_iter=1000, multi_class='auto', \n",
    "                                       n_jobs=None, penalty='l2', random_state=1340, solver='lbfgs', \n",
    "                                       tol=0.0001, verbose=0, warm_start=False)\n",
    "\n",
    "modeloClassificador = {\"LR\": hiperparametrosLR}"
   ]
  },
  {
   "cell_type": "code",
   "execution_count": 4,
   "id": "a2e9845f",
   "metadata": {},
   "outputs": [],
   "source": [
    "valoresAlvo = [0, 1]\n",
    "\n",
    "#colunasRemovidas = ['dataPrimeiraDose', 'dataSegundaDose', 'assintomatico', 'puerpera', 'disturbiosGustatorios', \n",
    "#                    'disturbiosOlfativos', 'gestante', 'tosse', 'respiratoria', 'fragilidadeImuno', 'racaCor', \n",
    "#                    'sexo', 'febre', 'renal', 'imunossupressao', 'obesidade']\n",
    "\n",
    "colunasRemovidas = ['assintomatico', 'asma', 'cefaleia', 'tosse', 'diarreia', \n",
    "                    'dorNoPeito', 'hipotireoidismo', 'imunossupressao', 'puerpera', \n",
    "                    'disturbiosGustatorios', 'disturbiosOlfativos', 'bronquite', \n",
    "                    'dosNasCostas', 'gestante', 'respiratoria', 'sexo', 'febre', \n",
    "                    'mialgia', 'cardiaca', 'hipertensao',  \n",
    "                    'faltaDeAr', 'racaCor', 'congestaoNasal', 'renal', 'dorNoCorpo', \n",
    "                    'vomito', 'fragilidadeImuno', 'cansaco']\n",
    "\n"
   ]
  },
  {
   "cell_type": "code",
   "execution_count": 48,
   "id": "eb541145",
   "metadata": {},
   "outputs": [
    {
     "name": "stdout",
     "output_type": "stream",
     "text": [
      "Index(['evolucaoCaso', 'dorDeGarganta', 'dispneia', 'coriza', 'dorDeCabeca',\n",
      "       'diabetes', 'obesidade', 'qntVacinas', 'faixaetaria',\n",
      "       'faixaDiasSintomas'],\n",
      "      dtype='object')\n",
      "===============\n"
     ]
    },
    {
     "data": {
      "text/html": [
       "<div>\n",
       "<style scoped>\n",
       "    .dataframe tbody tr th:only-of-type {\n",
       "        vertical-align: middle;\n",
       "    }\n",
       "\n",
       "    .dataframe tbody tr th {\n",
       "        vertical-align: top;\n",
       "    }\n",
       "\n",
       "    .dataframe thead th {\n",
       "        text-align: right;\n",
       "    }\n",
       "</style>\n",
       "<table border=\"1\" class=\"dataframe\">\n",
       "  <thead>\n",
       "    <tr style=\"text-align: right;\">\n",
       "      <th></th>\n",
       "      <th>Base</th>\n",
       "      <th>Modelo</th>\n",
       "      <th>Acurácia</th>\n",
       "      <th>AUC</th>\n",
       "      <th>Precisão (0)</th>\n",
       "      <th>Recall (0)</th>\n",
       "      <th>F1-Score (0)</th>\n",
       "      <th>Precisão (1)</th>\n",
       "      <th>Recall (1)</th>\n",
       "      <th>F1-Score (1)</th>\n",
       "      <th>3 Kfolds</th>\n",
       "      <th>5 Kfolds</th>\n",
       "    </tr>\n",
       "  </thead>\n",
       "  <tbody>\n",
       "    <tr>\n",
       "      <th>0</th>\n",
       "      <td>Base OC (60/40)</td>\n",
       "      <td>LR</td>\n",
       "      <td>81.01</td>\n",
       "      <td>0.86</td>\n",
       "      <td>82.43</td>\n",
       "      <td>70.11</td>\n",
       "      <td>75.77</td>\n",
       "      <td>80.2</td>\n",
       "      <td>89.01</td>\n",
       "      <td>84.38</td>\n",
       "      <td>79.79</td>\n",
       "      <td>80.35</td>\n",
       "    </tr>\n",
       "  </tbody>\n",
       "</table>\n",
       "</div>"
      ],
      "text/plain": [
       "              Base Modelo  Acurácia   AUC  Precisão (0)  Recall (0)  \\\n",
       "0  Base OC (60/40)     LR     81.01  0.86         82.43       70.11   \n",
       "\n",
       "   F1-Score (0)  Precisão (1)  Recall (1)  F1-Score (1)  3 Kfolds  5 Kfolds  \n",
       "0         75.77          80.2       89.01         84.38     79.79     80.35  "
      ]
     },
     "execution_count": 48,
     "metadata": {},
     "output_type": "execute_result"
    }
   ],
   "source": [
    "# Verificando o Desempenho do Modelo\n",
    "desempenhoDosModelos = mf.testarModelos(bases, alvo, colunasRemovidas, modeloClassificador, valoresAlvo)\n",
    "desempenhoDosModelos"
   ]
  },
  {
   "cell_type": "code",
   "execution_count": 49,
   "id": "ba5d907c",
   "metadata": {},
   "outputs": [
    {
     "name": "stderr",
     "output_type": "stream",
     "text": [
      "/tmp/ipykernel_7561/1827519719.py:2: FutureWarning: Dropping of nuisance columns in DataFrame reductions (with 'numeric_only=None') is deprecated; in a future version this will raise TypeError.  Select only valid columns before calling the reduction.\n",
      "  media = desempenhoDosModelos.mean()\n"
     ]
    }
   ],
   "source": [
    "# Identificando a média \n",
    "# media = desempenhoDosModelos.mean()\n",
    "\n",
    "# Inserindo as outras colunas\n",
    "# media['Base'] = 'Média dos Modelos'\n",
    "# media['Modelo'] = \"-\"\n",
    "\n",
    "# Adicionando a média dos valores\n",
    "# desempenhoDosModelos = desempenhoDosModelos.append(media, ignore_index=True)\n",
    "# desempenhoDosModelos\n",
    "\n",
    "# Convertendo series para dict\n",
    "# media_dict = pd.Series(media.values, index=media.keys).to_dict()"
   ]
  },
  {
   "cell_type": "markdown",
   "id": "83ecbb5e",
   "metadata": {},
   "source": [
    "### Definindo a Função da Curva ROC"
   ]
  },
  {
   "cell_type": "code",
   "execution_count": null,
   "id": "de3719c8",
   "metadata": {},
   "outputs": [],
   "source": [
    "def exibirCurvaROC(modeloClassificador, x_test, y_test):\n",
    "    y_preds = modeloClassificador.predict_proba(x_test)\n",
    "\n",
    "    # take the second column because the classifier outputs scores for the 0 class as well\n",
    "    preds = y_preds[:,1]\n",
    "\n",
    "    # fpr (false-positive-rate) e tpr (true-positive-rate)\n",
    "    fpr, tpr, _ = metrics.roc_curve(y_test, preds)\n",
    "\n",
    "    auc_score = metrics.auc(fpr, tpr)\n",
    "\n",
    "    # Construindo o Gráfico\n",
    "    plt.clf()\n",
    "    plt.title('ROC Curve')\n",
    "    plt.plot(fpr, tpr, label='AUC = {:.2f}'.format(auc_score))\n",
    "    plt.plot([0,1],[0,1],'r--')\n",
    "\n",
    "    plt.xlim([-0.1,1.1])\n",
    "    plt.ylim([-0.1,1.1])\n",
    "    plt.ylabel('True Positive Rate')\n",
    "    plt.xlabel('False Positive Rate')\n",
    "\n",
    "    plt.legend(loc='lower right')\n",
    "    plt.show()"
   ]
  },
  {
   "cell_type": "markdown",
   "id": "b28942ce",
   "metadata": {},
   "source": [
    "### Modelo OC - Treinamento e Teste"
   ]
  },
  {
   "cell_type": "code",
   "execution_count": null,
   "id": "c187f984",
   "metadata": {},
   "outputs": [],
   "source": [
    "# Carregando a Base de Dados\n",
    "baseObitoCurado = pd.read_excel(url)"
   ]
  },
  {
   "cell_type": "code",
   "execution_count": null,
   "id": "2152c16c",
   "metadata": {},
   "outputs": [],
   "source": [
    "# Selecionando os Atributos do Pré-Processamento\n",
    "\n",
    "# Antigos Atributos\n",
    "#atributosSelecionados = ['faixaetaria', 'dispneia', 'qntVacinas', 'dorDeGarganta', \n",
    "#                         'coriza', 'diabetes', 'dorDeCabeca', 'cardiaca', 'evolucaoCaso']\n",
    "\n",
    "atributosSelecionados = [ 'evolucaoCaso', 'dorDeGarganta', 'dispneia', 'coriza', 'dorDeCabeca', \n",
    "                         'diabetes', 'obesidade', 'qntVacinas', 'faixaetaria', 'faixaDiasSintomas']\n",
    "\n",
    "\n",
    "baseObitoCurado = baseObitoCurado.loc[:, atributosSelecionados]"
   ]
  },
  {
   "cell_type": "code",
   "execution_count": null,
   "id": "7e5b992f",
   "metadata": {},
   "outputs": [],
   "source": [
    "baseObitoCurado[alvo].value_counts()"
   ]
  },
  {
   "cell_type": "code",
   "execution_count": null,
   "id": "b656a469",
   "metadata": {},
   "outputs": [],
   "source": [
    "baseObitoCurado = aplicarSmote(baseObitoCurado, alvo)\n",
    "baseObitoCurado[alvo].value_counts()"
   ]
  },
  {
   "cell_type": "code",
   "execution_count": null,
   "id": "8eef6ee1",
   "metadata": {},
   "outputs": [],
   "source": [
    "x_train, x_test, y_train, y_test = train_test_split(result.drop(alvo,axis=1),\n",
    "                                                    result[alvo],\n",
    "                                                    test_size=0.3,\n",
    "                                                    random_state=42);"
   ]
  },
  {
   "cell_type": "code",
   "execution_count": null,
   "id": "e718110b",
   "metadata": {},
   "outputs": [],
   "source": [
    "hiperparametrosGB = GradientBoostingClassifier(ccp_alpha=0.0, criterion='friedman_mse', init=None,\n",
    "                           learning_rate=0.1, loss='deviance', max_depth=3,\n",
    "                           max_features=None, max_leaf_nodes=None,\n",
    "                           min_impurity_decrease=0.0, min_impurity_split=None,\n",
    "                           min_samples_leaf=1, min_samples_split=2,\n",
    "                           min_weight_fraction_leaf=0.0, n_estimators=100,\n",
    "                           n_iter_no_change=None, \n",
    "                           random_state=1859, subsample=1.0, tol=0.0001,\n",
    "                           validation_fraction=0.1, verbose=0,\n",
    "                           warm_start=False)"
   ]
  },
  {
   "cell_type": "code",
   "execution_count": null,
   "id": "b1069414",
   "metadata": {},
   "outputs": [],
   "source": [
    "# Fit nos dados\n",
    "modeloClassificador = hiperparametrosGB\n",
    "modeloClassificador.fit(x_train, y_train)\n",
    "\n",
    "#Realizando a predição\n",
    "resultadoTeste = modeloClassificador.predict(x_test)\n",
    "\n",
    "# Verificando a acurácia\n",
    "print(metrics.classification_report(y_test,resultadoTeste))"
   ]
  },
  {
   "cell_type": "code",
   "execution_count": null,
   "id": "0b929b12",
   "metadata": {
    "scrolled": true
   },
   "outputs": [],
   "source": [
    "# Plotando a curva ROC\n",
    "exibirCurvaROC(modeloClassificador, x_test, y_test)"
   ]
  },
  {
   "cell_type": "code",
   "execution_count": null,
   "id": "3d29d500",
   "metadata": {},
   "outputs": [],
   "source": [
    "# Exportando o modelo criado\n",
    "# dump(modeloClassificador, 'modeloOC.pk1')"
   ]
  },
  {
   "cell_type": "markdown",
   "id": "aee2a066",
   "metadata": {},
   "source": [
    "### Funções Utilizadas"
   ]
  },
  {
   "cell_type": "code",
   "execution_count": null,
   "id": "333b4f5d",
   "metadata": {},
   "outputs": [],
   "source": [
    "def __transformarEmPorcentagem__(valor):\n",
    "    porcentagem = str(round(valor * 100, 3)) + \"%\"\n",
    "    return porcentagem"
   ]
  },
  {
   "cell_type": "code",
   "execution_count": null,
   "id": "46e49d32",
   "metadata": {},
   "outputs": [],
   "source": [
    "def calcularMetricas(x_test, y_test, baseDeDados, classificador, alvos):\n",
    "    metricas = {}\n",
    "    \n",
    "    #Realizando a predição\n",
    "    resultadoPredicao = classificador.predict(x_test)\n",
    "\n",
    "    # Verificando a acurácia\n",
    "    metricas['Acurácia'] = __transformarEmPorcentagem__(accuracy_score(y_test, resultadoPredicao))\n",
    "    \n",
    "    # Criando um dicionaŕio a partir das métricas\n",
    "    metricasValores = metrics.classification_report(y_test, resultadoPredicao, output_dict=True)\n",
    "    df = pd.DataFrame(metricasValores).transpose()\n",
    "    \n",
    "    metricas[\"Base\"] = baseDeDados\n",
    "\n",
    "    for classe in alvos:\n",
    "        metricas[\"Precisão (\" + str(classe) + \")\"] = __transformarEmPorcentagem__(df.loc[str(classe)]['precision'])\n",
    "        metricas[\"Recall (\" + str(classe) + \")\"] = __transformarEmPorcentagem__(df.loc[str(classe)]['recall'])\n",
    "        metricas[\"F1-Score (\" + str(classe) + \")\"] = __transformarEmPorcentagem__(df.loc[str(classe)]['f1-score'])\n",
    "    \n",
    "    return metricas"
   ]
  },
  {
   "cell_type": "markdown",
   "id": "fe38c57c",
   "metadata": {},
   "source": [
    "### Modelo OC - Avaliando as outras Bases (Estados)"
   ]
  },
  {
   "cell_type": "code",
   "execution_count": null,
   "id": "7b19bce9",
   "metadata": {},
   "outputs": [],
   "source": [
    "listaBases = [\"Vacinas/OC/oc-vacina-6040-ac.xlsx\", \"Vacinas/OC/oc-vacina-6040-al.xlsx\", \"Vacinas/OC/oc-vacina-6040-am.xlsx\", \"Vacinas/OC/oc-vacina-6040-ap.xlsx\", \"Vacinas/OC/oc-vacina-6040-ba.xlsx\", \n",
    "              \"Vacinas/OC/oc-vacina-6040-ce.xlsx\", \"Vacinas/OC/oc-vacina-6040-df.xlsx\", \"Vacinas/OC/oc-vacina-6040-go.xlsx\", \"Vacinas/OC/oc-vacina-6040-ma.xlsx\", \"Vacinas/OC/oc-vacina-6040-mg.xlsx\", \n",
    "              \"Vacinas/OC/oc-vacina-6040-mt.xlsx\", \"Vacinas/OC/oc-vacina-6040-pa.xlsx\", \"Vacinas/OC/oc-vacina-6040-pb.xlsx\", \"Vacinas/OC/oc-vacina-6040-pe.xlsx\", \"Vacinas/OC/oc-vacina-6040-pi.xlsx\", \n",
    "              \"Vacinas/OC/oc-vacina-6040-rj.xlsx\", \"Vacinas/OC/oc-vacina-6040-rn.xlsx\", \"Vacinas/OC/oc-vacina-6040-ro.xlsx\", \"Vacinas/OC/oc-vacina-6040-rr.xlsx\", \"Vacinas/OC/oc-vacina-6040-rs.xlsx\"] \n",
    "\n",
    "alvo = 'evolucaoCaso'\n",
    "colunasSelecionadasTeste = ['faixaetaria', 'dispneia', 'qntVacinas', 'dorDeGarganta', \n",
    "                            'coriza', 'diabetes', 'dorDeCabeca', 'cardiaca']"
   ]
  },
  {
   "cell_type": "code",
   "execution_count": null,
   "id": "bebbee09",
   "metadata": {},
   "outputs": [],
   "source": [
    "alvos = [0, 1]\n",
    "desempenhoDosModelos = pd.DataFrame()\n",
    "for indice in range(0, len(listaBases)):\n",
    "    covidData = pd.read_excel(listaBases[indice])\n",
    "    dadosTeste = covidData.loc[:, colunasSelecionadasTeste]\n",
    "    dadosAlvo =  covidData.loc[:, alvo]\n",
    "     \n",
    "    metricasMap = calcularMetricas(dadosTeste, dadosAlvo, listaBases[indice], modeloClassificador, alvos)\n",
    "    desempenhoDosModelos = pd.concat([desempenhoDosModelos, pd.DataFrame([metricasMap])]) "
   ]
  },
  {
   "cell_type": "code",
   "execution_count": null,
   "id": "fcda363f",
   "metadata": {},
   "outputs": [],
   "source": [
    "desempenhoDosModelos"
   ]
  },
  {
   "cell_type": "code",
   "execution_count": null,
   "id": "6c37af81",
   "metadata": {},
   "outputs": [],
   "source": [
    "write = pd.ExcelWriter('desempenhoModeloFinal.xlsx')\n",
    "desempenhoDosModelos.to_excel(write, 'dados', index = False)\n",
    "write.save()"
   ]
  },
  {
   "cell_type": "markdown",
   "id": "6fe45d1a",
   "metadata": {},
   "source": [
    "### Modelo IC - Constatando o Desempenho"
   ]
  },
  {
   "cell_type": "code",
   "execution_count": null,
   "id": "cddde96d",
   "metadata": {},
   "outputs": [],
   "source": [
    "# Carregando a Base de Dados\n",
    "urlIC = 'Vacinas/Regioes/IC/ic-vacina-6040-sudeste.xlsx'\n",
    "alvo = 'evolucaoCaso'\n",
    "baseInternadoCurado = pd.read_excel(urlIC)\n",
    "\n",
    "basesIC = {}\n",
    "basesIC['Nordeste IC (60/40)'] = urlIC"
   ]
  },
  {
   "cell_type": "code",
   "execution_count": null,
   "id": "cf949cac",
   "metadata": {},
   "outputs": [],
   "source": [
    "# Definindo o Modelo de Regressão Logística\n",
    "hiperparametrosAB = AdaBoostClassifier(algorithm='SAMME.R', base_estimator=None, \n",
    "                                                           learning_rate=1.0, n_estimators=50, \n",
    "                                                           random_state=410)\n",
    "\n",
    "hiperparametrosLR = LogisticRegression(C=1.0, class_weight=None, dual=False, fit_intercept=True, \n",
    "                                       intercept_scaling=1, l1_ratio=None, max_iter=1000, multi_class='auto', \n",
    "                                       n_jobs=None, penalty='l2', random_state=1340, solver='lbfgs', \n",
    "                                       tol=0.0001, verbose=0, warm_start=False)\n",
    "\n",
    "\n",
    "hiperparametrosGB = GradientBoostingClassifier(ccp_alpha=0.0, criterion='friedman_mse', init=None,\n",
    "                           learning_rate=0.1, loss='deviance', max_depth=3,\n",
    "                           max_features=None, max_leaf_nodes=None,\n",
    "                           min_impurity_decrease=0.0,\n",
    "                           min_samples_leaf=1, min_samples_split=2,\n",
    "                           min_weight_fraction_leaf=0.0, n_estimators=100,\n",
    "                           n_iter_no_change=None,\n",
    "                           random_state=2333, subsample=1.0, tol=0.0001,\n",
    "                           validation_fraction=0.1, verbose=0,\n",
    "                           warm_start=False)\n",
    "\n",
    "\n",
    "modeloClassificador = {\"LR\": hiperparametrosLR}"
   ]
  },
  {
   "cell_type": "code",
   "execution_count": null,
   "id": "bcf64ebf",
   "metadata": {},
   "outputs": [],
   "source": [
    "valoresAlvo = [1, 2]\n",
    "\n",
    "colunasRemovidas = ['dataPrimeiraDose', 'dataSegundaDose', 'disturbiosGustatorios', 'disturbiosOlfativos', \n",
    "                    'puerpera', 'respiratoria', 'tosse', 'febre', 'assintomatico', 'obesidade']\n",
    "                    \n",
    "desempenhoDosModelos = mf.testarModelos(basesIC, alvo, colunasRemovidas, modeloClassificador, valoresAlvo)\n",
    "desempenhoDosModelos"
   ]
  },
  {
   "cell_type": "markdown",
   "id": "8b955d13",
   "metadata": {},
   "source": [
    "### Modelo IC - Treinamento e Teste"
   ]
  },
  {
   "cell_type": "code",
   "execution_count": null,
   "id": "044f9ce4",
   "metadata": {},
   "outputs": [],
   "source": [
    "# Carregando a Base de Dados\n",
    "baseInternadoCurado = pd.read_excel(urlIC)\n",
    "baseInternadoCurado['evolucaoCaso'].value_counts()"
   ]
  },
  {
   "cell_type": "code",
   "execution_count": null,
   "id": "db8179d4",
   "metadata": {},
   "outputs": [],
   "source": [
    "# Convertendo os valores internado (2 -> 0)\n",
    "baseInternadoCurado['evolucaoCaso'] = baseInternadoCurado['evolucaoCaso'].replace([1, 2], [1, 0])\n",
    "baseInternadoCurado['evolucaoCaso'].value_counts()"
   ]
  },
  {
   "cell_type": "code",
   "execution_count": null,
   "id": "4e85d1ec",
   "metadata": {},
   "outputs": [],
   "source": [
    "# Selecionando os Atributos do Pré-Processamento\n",
    "baseInternadoCurado = baseInternadoCurado.drop(columns = colunasRemovidas)"
   ]
  },
  {
   "cell_type": "code",
   "execution_count": null,
   "id": "7f843520",
   "metadata": {},
   "outputs": [],
   "source": [
    "baseInternadoCurado"
   ]
  },
  {
   "cell_type": "code",
   "execution_count": null,
   "id": "0f3ef68b",
   "metadata": {},
   "outputs": [],
   "source": [
    "alvo = 'evolucaoCaso'\n",
    "baseInternadoCurado = aplicarSmote(baseInternadoCurado, alvo)"
   ]
  },
  {
   "cell_type": "code",
   "execution_count": null,
   "id": "3d568ee1",
   "metadata": {},
   "outputs": [],
   "source": [
    "baseInternadoCurado.columns"
   ]
  },
  {
   "cell_type": "code",
   "execution_count": null,
   "id": "cb38a059",
   "metadata": {},
   "outputs": [],
   "source": [
    "# Definindo o treinamento e teste\n",
    "x_train, x_test, y_train, y_test = train_test_split(baseInternadoCurado.drop(alvo,axis=1),\n",
    "                                                    baseInternadoCurado[alvo],\n",
    "                                                    test_size=0.3,\n",
    "                                                    random_state=42);"
   ]
  },
  {
   "cell_type": "code",
   "execution_count": null,
   "id": "3e65bda9",
   "metadata": {},
   "outputs": [],
   "source": [
    "# Fit nos dados\n",
    "modeloClassificador = hiperparametrosLR\n",
    "modeloClassificador.fit(x_train, y_train)\n",
    "\n",
    "#Realizando a predição\n",
    "resultadoTeste = modeloClassificador.predict(x_test)\n",
    "\n",
    "# Verificando a acurácia\n",
    "print(metrics.classification_report(y_test,resultadoTeste))"
   ]
  },
  {
   "cell_type": "code",
   "execution_count": null,
   "id": "44823875",
   "metadata": {},
   "outputs": [],
   "source": [
    "# Plotando a curva ROC\n",
    "exibirCurvaROC(modeloClassificador, x_test, y_test)"
   ]
  },
  {
   "cell_type": "markdown",
   "id": "0385d86d",
   "metadata": {},
   "source": [
    "### Modelo IC - Analisando outras Regiões"
   ]
  },
  {
   "cell_type": "code",
   "execution_count": null,
   "id": "c1208a50",
   "metadata": {},
   "outputs": [],
   "source": [
    "# Lista das Bases de Regiões\n",
    "listaBases = [\"Vacinas/Regioes/IC/ic-vacina-6040-centrooeste.xlsx\", \"Vacinas/Regioes/IC/ic-vacina-6040-sudeste.xlsx\", \n",
    "               \"Vacinas/Regioes/IC/ic-vacina-6040-norte.xlsx\", \"Vacinas/Regioes/IC/ic-vacina-6040-nordeste.xlsx\"]\n",
    "\n",
    "# Colunas Utilizadas\n",
    "colunasSelecionadasTeste = ['faixaetaria', 'sexo', 'racaCor', 'dorDeGarganta', 'dispneia', 'coriza', \n",
    "                            'dorDeCabeca', 'diabetes', 'renal', 'imunossupressao', 'fragilidadeImuno', \n",
    "                            'gestante', 'cardiaca', 'qntVacinas']\n",
    "\n",
    "alvo = 'evolucaoCaso'"
   ]
  },
  {
   "cell_type": "code",
   "execution_count": null,
   "id": "84ec40f3",
   "metadata": {},
   "outputs": [],
   "source": [
    "alvos = [1, 2]\n",
    "desempenhoDosModelos = pd.DataFrame()\n",
    "for indice in range(0, len(listaBases)):\n",
    "    covidData = pd.read_excel(listaBases[indice])\n",
    "    dadosTeste = covidData.loc[:, colunasSelecionadasTeste]\n",
    "    dadosAlvo =  covidData.loc[:, alvo]\n",
    "     \n",
    "    metricasMap = calcularMetricas(dadosTeste, dadosAlvo, listaBases[indice], modeloClassificador, alvos)\n",
    "    desempenhoDosModelos = pd.concat([desempenhoDosModelos, pd.DataFrame([metricasMap])])\n",
    "desempenhoDosModelos"
   ]
  },
  {
   "cell_type": "code",
   "execution_count": null,
   "id": "ab184977",
   "metadata": {},
   "outputs": [],
   "source": [
    "write = pd.ExcelWriter('desempenhoModeloICFinal.xlsx')\n",
    "desempenhoDosModelos.to_excel(write, 'dados', index = False)\n",
    "write.save()"
   ]
  }
 ],
 "metadata": {
  "kernelspec": {
   "display_name": "Python 3 (ipykernel)",
   "language": "python",
   "name": "python3"
  },
  "language_info": {
   "codemirror_mode": {
    "name": "ipython",
    "version": 3
   },
   "file_extension": ".py",
   "mimetype": "text/x-python",
   "name": "python",
   "nbconvert_exporter": "python",
   "pygments_lexer": "ipython3",
   "version": "3.8.10"
  }
 },
 "nbformat": 4,
 "nbformat_minor": 5
}
