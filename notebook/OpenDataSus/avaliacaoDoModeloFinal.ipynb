{
 "cells": [
  {
   "cell_type": "markdown",
   "id": "583d5d99",
   "metadata": {},
   "source": [
    "### Modelos\n",
    "- Modelo Óbito-Curado (60/40): Regressão\n",
    "- Modelo Internado-Curado (70/30): AdaBoost"
   ]
  },
  {
   "cell_type": "code",
   "execution_count": 1,
   "id": "424c51e5",
   "metadata": {},
   "outputs": [
    {
     "name": "stdout",
     "output_type": "stream",
     "text": [
      "importing Jupyter notebook from modelofuncoes.ipynb\n"
     ]
    }
   ],
   "source": [
    "import pandas as pd\n",
    "import numpy as np\n",
    "import matplotlib.pyplot as plt\n",
    "\n",
    "import import_ipynb\n",
    "import modelofuncoes as mf\n",
    "\n",
    "from joblib import dump, load\n",
    "\n",
    "from sklearn.model_selection import train_test_split\n",
    "from sklearn.linear_model import LogisticRegression\n",
    "from sklearn.ensemble import AdaBoostClassifier\n",
    "from sklearn.ensemble import RandomForestClassifier\n",
    "from sklearn.linear_model import LogisticRegression\n",
    "from sklearn.ensemble import GradientBoostingClassifier\n",
    "from sklearn import metrics\n",
    "from sklearn.metrics import accuracy_score"
   ]
  },
  {
   "cell_type": "markdown",
   "id": "3edce887",
   "metadata": {},
   "source": [
    "### Curva ROC"
   ]
  },
  {
   "cell_type": "code",
   "execution_count": 2,
   "id": "1663ea4e",
   "metadata": {},
   "outputs": [],
   "source": [
    "def exibirCurvaROC(modeloClassificador, x_test, y_test):\n",
    "    y_preds = modeloClassificador.predict_proba(x_test)\n",
    "\n",
    "    # take the second column because the classifier outputs scores for the 0 class as well\n",
    "    preds = y_preds[:,1]\n",
    "\n",
    "    # fpr (false-positive-rate) e tpr (true-positive-rate)\n",
    "    fpr, tpr, _ = metrics.roc_curve(y_test, preds)\n",
    "\n",
    "    auc_score = metrics.auc(fpr, tpr)\n",
    "\n",
    "    # Construindo o Gráfico\n",
    "    plt.clf()\n",
    "    plt.title('ROC Curve')\n",
    "    plt.plot(fpr, tpr, label='AUC = {:.2f}'.format(auc_score))\n",
    "    plt.plot([0,1],[0,1],'r--')\n",
    "\n",
    "    plt.xlim([-0.1,1.1])\n",
    "    plt.ylim([-0.1,1.1])\n",
    "    plt.ylabel('True Positive Rate')\n",
    "    plt.xlabel('False Positive Rate')\n",
    "\n",
    "    plt.legend(loc='lower right')\n",
    "    plt.show()"
   ]
  },
  {
   "cell_type": "markdown",
   "id": "28b37ccf",
   "metadata": {},
   "source": [
    "### Avaliando o Smote"
   ]
  },
  {
   "cell_type": "code",
   "execution_count": 3,
   "id": "3787e4e6",
   "metadata": {},
   "outputs": [],
   "source": [
    "from imblearn.over_sampling import RandomOverSampler, SMOTE\n",
    "\n",
    "def aplicarSmote(base, alvo):\n",
    "\n",
    "    X_smt = base.drop(alvo, axis = 1)\n",
    "    y_smt = base[alvo]\n",
    "    \n",
    "    # Contar o número de ocorrências\n",
    "    # np.bincount(y_smt)\n",
    "    \n",
    "    # Carregar o Smote\n",
    "    smt = SMOTE()\n",
    "    \n",
    "    # Aplicar o Smote\n",
    "    X_smt, y_smt = smt.fit_resample(X_smt, y_smt)\n",
    "    \n",
    "    # Contar o número de ocorrências\n",
    "    # np.bincount(y_smt)\n",
    "    \n",
    "    # Convertendo em DF\n",
    "    smoteBase = pd.DataFrame(X_smt)\n",
    "    smoteBase[alvo] = y_smt\n",
    "    \n",
    "    return smoteBase"
   ]
  },
  {
   "cell_type": "code",
   "execution_count": 4,
   "id": "20c4807c",
   "metadata": {},
   "outputs": [],
   "source": [
    "hiperparametrosGB = GradientBoostingClassifier(ccp_alpha=0.0, criterion='friedman_mse', init=None,\n",
    "                           learning_rate=0.1, loss='deviance', max_depth=3,\n",
    "                           max_features=None, max_leaf_nodes=None,\n",
    "                           min_impurity_decrease=0.0, min_impurity_split=None,\n",
    "                           min_samples_leaf=1, min_samples_split=2,\n",
    "                           min_weight_fraction_leaf=0.0, n_estimators=100,\n",
    "                           n_iter_no_change=None, \n",
    "                           random_state=1859, subsample=1.0, tol=0.0001,\n",
    "                           validation_fraction=0.1, verbose=0,\n",
    "                           warm_start=False)"
   ]
  },
  {
   "cell_type": "markdown",
   "id": "6e40193e",
   "metadata": {},
   "source": [
    "## Desempenho dos Modelos Escolhidos\n",
    "---------"
   ]
  },
  {
   "cell_type": "markdown",
   "id": "d06ef88a",
   "metadata": {},
   "source": [
    "### Definindo as bases de dados"
   ]
  },
  {
   "cell_type": "code",
   "execution_count": 24,
   "id": "1367a248",
   "metadata": {},
   "outputs": [],
   "source": [
    "# Modelo OC (7030 e Smote 7030)\n",
    "# url = 'PreProcessamento/balanceadas/OC/ba-oc-7030-sp.xlsx'\n",
    "#url = 'PreProcessamento/balanceadas/Smote/sm-oc-7030-sp.xlsx'\n",
    "\n",
    "# Modelo IC (Smote 6040)\n",
    "# url = 'PreProcessamento/balanceadas/Smote/sm-ic-6040-sp.xlsx'\n",
    "url = 'PreProcessamento/balanceadas/IC/ba-ic-6040-sp.xlsx'\n",
    "\n",
    "alvo = 'evolucaoCaso'\n",
    "baseFinal = pd.read_excel(url)"
   ]
  },
  {
   "cell_type": "code",
   "execution_count": 25,
   "id": "76709ad2",
   "metadata": {},
   "outputs": [
    {
     "name": "stdout",
     "output_type": "stream",
     "text": [
      "(1817, 38)\n",
      "1    1090\n",
      "0     727\n",
      "Name: evolucaoCaso, dtype: int64\n"
     ]
    }
   ],
   "source": [
    "print(baseFinal.shape)\n",
    "print(baseFinal[alvo].value_counts())"
   ]
  },
  {
   "cell_type": "markdown",
   "id": "2431f8ef",
   "metadata": {},
   "source": [
    "### Reduzindo os Atributos"
   ]
  },
  {
   "cell_type": "code",
   "execution_count": 26,
   "id": "82926eb5",
   "metadata": {},
   "outputs": [],
   "source": [
    "# (Modelo OC)\n",
    "# atributosSelecionados = ['faixaetaria', 'dispneia', 'qntVacinas', 'coriza', 'dorDeGarganta', \n",
    "#                        'dorDeCabeca', 'obesidade', 'diabetes', 'faixaDiasSintomas', 'evolucaoCaso']\n",
    "\n",
    "# (Modelo IC)\n",
    "atributosSelecionados = ['faixaetaria', 'dorDeCabeca', 'dorDeGarganta', 'renal', 'dispneia', 'diabetes',  \n",
    "                       'tosse', 'qntVacinas', 'faixaDiasSintomas', 'coriza', 'febre', 'evolucaoCaso']"
   ]
  },
  {
   "cell_type": "code",
   "execution_count": 27,
   "id": "df551807",
   "metadata": {},
   "outputs": [],
   "source": [
    "baseFinalReduzida = baseFinal.loc[:, atributosSelecionados]"
   ]
  },
  {
   "cell_type": "code",
   "execution_count": 28,
   "id": "74e5e394",
   "metadata": {},
   "outputs": [
    {
     "data": {
      "text/plain": [
       "1    1090\n",
       "0     727\n",
       "Name: evolucaoCaso, dtype: int64"
      ]
     },
     "execution_count": 28,
     "metadata": {},
     "output_type": "execute_result"
    }
   ],
   "source": [
    "#baseFinalReduzida['evolucaoCaso'] = baseFinalReduzida['evolucaoCaso'].map({0:2, 1:1})\n",
    "baseFinalReduzida['evolucaoCaso'].value_counts()"
   ]
  },
  {
   "cell_type": "code",
   "execution_count": 29,
   "id": "48c90529",
   "metadata": {},
   "outputs": [
    {
     "data": {
      "text/plain": [
       "(1817, 12)"
      ]
     },
     "execution_count": 29,
     "metadata": {},
     "output_type": "execute_result"
    }
   ],
   "source": [
    "baseFinalReduzida.shape"
   ]
  },
  {
   "cell_type": "markdown",
   "id": "fa00084a",
   "metadata": {},
   "source": [
    "### Carregando o Modelo Escolhido"
   ]
  },
  {
   "cell_type": "code",
   "execution_count": 30,
   "id": "8ae2b9f3",
   "metadata": {},
   "outputs": [],
   "source": [
    "x_train, x_test, y_train, y_test = train_test_split(baseFinalReduzida.drop(alvo,axis=1),\n",
    "                                                    baseFinalReduzida[alvo],\n",
    "                                                    test_size=0.3,\n",
    "                                                    random_state=42);"
   ]
  },
  {
   "cell_type": "code",
   "execution_count": 31,
   "id": "2f17b225",
   "metadata": {},
   "outputs": [
    {
     "name": "stdout",
     "output_type": "stream",
     "text": [
      "              precision    recall  f1-score   support\n",
      "\n",
      "           0       0.67      0.55      0.60       217\n",
      "           1       0.73      0.82      0.77       329\n",
      "\n",
      "    accuracy                           0.71       546\n",
      "   macro avg       0.70      0.68      0.69       546\n",
      "weighted avg       0.71      0.71      0.71       546\n",
      "\n"
     ]
    }
   ],
   "source": [
    "# Fit nos dados\n",
    "modeloClassificador = hiperparametrosGB\n",
    "modeloClassificador.fit(x_train, y_train)\n",
    "\n",
    "#Realizando a predição\n",
    "resultadoTeste = modeloClassificador.predict(x_test)\n",
    "\n",
    "# Verificando a acurácia\n",
    "print(metrics.classification_report(y_test, resultadoTeste))"
   ]
  },
  {
   "cell_type": "code",
   "execution_count": 33,
   "id": "19741661",
   "metadata": {},
   "outputs": [
    {
     "data": {
      "image/png": "[encoded data removed]",
      "text/plain": [
       "<Figure size 432x288 with 1 Axes>"
      ]
     },
     "metadata": {
      "needs_background": "light"
     },
     "output_type": "display_data"
    }
   ],
   "source": [
    "exibirCurvaROC(modeloClassificador, x_test, y_test)"
   ]
  },
  {
   "cell_type": "markdown",
   "id": "b43aa4f9",
   "metadata": {},
   "source": [
    "------"
   ]
  },
  {
   "cell_type": "markdown",
   "id": "749a9a27",
   "metadata": {},
   "source": [
    "### Selecionando as bases para a Validação"
   ]
  },
  {
   "cell_type": "code",
   "execution_count": 15,
   "id": "d0073a74",
   "metadata": {},
   "outputs": [],
   "source": [
    "# Bases - OC\n",
    "# top10_bases_modelo_oc_map = {'MG': 'PreProcessamento/balanceadas/OC/ba-oc-7030-mg.xlsx',\n",
    "#                          'BA': 'PreProcessamento/balanceadas/OC/ba-oc-7030-ba.xlsx',\n",
    "#                          'PA': 'PreProcessamento/balanceadas/OC/ba-oc-7030-pa.xlsx',\n",
    "#                          'RO': 'PreProcessamento/balanceadas/OC/ba-oc-7030-ro.xlsx',\n",
    "#                          'RJ': 'PreProcessamento/balanceadas/OC/ba-oc-7030-rj.xlsx',\n",
    "#                          'SC': 'PreProcessamento/balanceadas/OC/ba-oc-7030-sc.xlsx',\n",
    "#                          'CE': 'PreProcessamento/balanceadas/OC/ba-oc-7030-ce.xlsx',\n",
    "#                          'RS': 'PreProcessamento/balanceadas/OC/ba-oc-7030-rs.xlsx',\n",
    "#                          'TO': 'PreProcessamento/balanceadas/OC/ba-oc-7030-to.xlsx',\n",
    "#                          'MT': 'PreProcessamento/balanceadas/OC/ba-oc-7030-mt.xlsx',\n",
    "#                         }\n",
    "\n",
    "# top10_bases_modelo_oc = ['ba-oc-7030-mg.xlsx', 'ba-oc-7030-ba.xlsx', 'ba-oc-7030-pa.xlsx', \n",
    "#                          'ba-oc-7030-ro.xlsx', 'ba-oc-7030-rj.xlsx', 'ba-oc-7030-sc.xlsx', \n",
    "#                          'ba-oc-7030-ce.xlsx', 'ba-oc-7030-rs.xlsx', 'ba-oc-7030-to.xlsx', \n",
    "#                          'ba-oc-7030-mt.xlsx']"
   ]
  },
  {
   "cell_type": "code",
   "execution_count": 34,
   "id": "7b54e65a",
   "metadata": {},
   "outputs": [],
   "source": [
    "# Bases - IC\n",
    "# top10_bases_modelo_ic_map = {'BA': 'PreProcessamento/balanceadas/IC/ba-ic-6040-sp.xlsx',\n",
    "#                         'MG': 'PreProcessamento/balanceadas/IC/ba-ic-6040-mg.xlsx',\n",
    "#                         'SC': 'PreProcessamento/balanceadas/IC/ba-ic-6040-sc.xlsx',\n",
    "#                         'RS': 'PreProcessamento/balanceadas/IC/ba-ic-6040-rs.xlsx',\n",
    "#                         'RJ': 'PreProcessamento/balanceadas/IC/ba-ic-6040-rj.xlsx',\n",
    "#                         'PB': 'PreProcessamento/balanceadas/IC/ba-ic-6040-pb.xlsx',\n",
    "#                         'GO': 'PreProcessamento/balanceadas/IC/ba-ic-6040-go.xlsx',\n",
    "#                         'CE': 'PreProcessamento/balanceadas/IC/ba-ic-6040-ce.xlsx',\n",
    "#                         'DF': 'PreProcessamento/balanceadas/IC/ba-ic-6040-df.xlsx',\n",
    "#                         'PA': 'PreProcessamento/balanceadas/IC/ba-ic-6040-pa.xlsx'\n",
    "#                         }\n",
    "\n",
    "top10_bases_modelo_ic = ['ba-ic-6040-sp.xlsx', 'ba-ic-6040-mg.xlsx', 'ba-ic-6040-sc.xlsx',\n",
    "                        'ba-ic-6040-rs.xlsx', 'ba-ic-6040-rj.xlsx', 'ba-ic-6040-pb.xlsx',\n",
    "                        'ba-ic-6040-go.xlsx', 'ba-ic-6040-ce.xlsx', 'ba-ic-6040-df.xlsx',\n",
    "                        'ba-ic-6040-pa.xlsx']"
   ]
  },
  {
   "cell_type": "code",
   "execution_count": 36,
   "id": "c1dd5720",
   "metadata": {},
   "outputs": [],
   "source": [
    "# (Modelo OC)\n",
    "# colunasSelecionadasTeste = ['faixaetaria', 'dispneia', 'qntVacinas', 'coriza', 'dorDeGarganta', \n",
    "#                        'dorDeCabeca', 'obesidade', 'diabetes', 'faixaDiasSintomas']\n",
    "\n",
    "# (Modelo IC)\n",
    "colunasSelecionadasTeste = ['faixaetaria', 'dorDeCabeca', 'dorDeGarganta', 'renal', 'dispneia', 'diabetes',  \n",
    "                       'tosse', 'qntVacinas', 'faixaDiasSintomas', 'coriza', 'febre']"
   ]
  },
  {
   "cell_type": "markdown",
   "id": "259c1b39",
   "metadata": {},
   "source": [
    "### Executando a Validação"
   ]
  },
  {
   "cell_type": "code",
   "execution_count": 37,
   "id": "1a12a381",
   "metadata": {},
   "outputs": [],
   "source": [
    "alvos = [0, 1]\n",
    "default_path = 'PreProcessamento/balanceadas/IC/'\n",
    "listaBases = top10_bases_modelo_ic\n",
    "alvo = 'evolucaoCaso'\n",
    "\n",
    "desempenhoDosModelos = pd.DataFrame()\n",
    "for indice in range(0, len(listaBases)):\n",
    "    covidData = pd.read_excel(default_path + listaBases[indice])\n",
    "    dadosTeste = covidData.loc[:, colunasSelecionadasTeste]\n",
    "    dadosAlvo =  covidData.loc[:, alvo]\n",
    "     \n",
    "    metricasMap = mf.calcularMetricasValidacao(dadosTeste, dadosAlvo, listaBases[indice], modeloClassificador, alvos)\n",
    "    desempenhoDosModelos = pd.concat([desempenhoDosModelos, pd.DataFrame([metricasMap])]) "
   ]
  },
  {
   "cell_type": "code",
   "execution_count": 38,
   "id": "af08068c",
   "metadata": {},
   "outputs": [
    {
     "data": {
      "text/html": [
       "<div>\n",
       "<style scoped>\n",
       "    .dataframe tbody tr th:only-of-type {\n",
       "        vertical-align: middle;\n",
       "    }\n",
       "\n",
       "    .dataframe tbody tr th {\n",
       "        vertical-align: top;\n",
       "    }\n",
       "\n",
       "    .dataframe thead th {\n",
       "        text-align: right;\n",
       "    }\n",
       "</style>\n",
       "<table border=\"1\" class=\"dataframe\">\n",
       "  <thead>\n",
       "    <tr style=\"text-align: right;\">\n",
       "      <th></th>\n",
       "      <th>Acurácia</th>\n",
       "      <th>AUC</th>\n",
       "      <th>Base</th>\n",
       "      <th>Precisão (0)</th>\n",
       "      <th>Recall (0)</th>\n",
       "      <th>F1-Score (0)</th>\n",
       "      <th>Precisão (1)</th>\n",
       "      <th>Recall (1)</th>\n",
       "      <th>F1-Score (1)</th>\n",
       "    </tr>\n",
       "  </thead>\n",
       "  <tbody>\n",
       "    <tr>\n",
       "      <th>0</th>\n",
       "      <td>77.00</td>\n",
       "      <td>0.83</td>\n",
       "      <td>ba-ic-6040-sp.xlsx</td>\n",
       "      <td>75.71</td>\n",
       "      <td>62.59</td>\n",
       "      <td>68.52</td>\n",
       "      <td>77.63</td>\n",
       "      <td>86.61</td>\n",
       "      <td>81.87</td>\n",
       "    </tr>\n",
       "    <tr>\n",
       "      <th>0</th>\n",
       "      <td>77.49</td>\n",
       "      <td>0.80</td>\n",
       "      <td>ba-ic-6040-mg.xlsx</td>\n",
       "      <td>74.72</td>\n",
       "      <td>66.17</td>\n",
       "      <td>70.18</td>\n",
       "      <td>79.01</td>\n",
       "      <td>85.05</td>\n",
       "      <td>81.92</td>\n",
       "    </tr>\n",
       "    <tr>\n",
       "      <th>0</th>\n",
       "      <td>74.90</td>\n",
       "      <td>0.77</td>\n",
       "      <td>ba-ic-6040-sc.xlsx</td>\n",
       "      <td>75.17</td>\n",
       "      <td>55.72</td>\n",
       "      <td>64.00</td>\n",
       "      <td>74.79</td>\n",
       "      <td>87.71</td>\n",
       "      <td>80.73</td>\n",
       "    </tr>\n",
       "    <tr>\n",
       "      <th>0</th>\n",
       "      <td>70.34</td>\n",
       "      <td>0.72</td>\n",
       "      <td>ba-ic-6040-rs.xlsx</td>\n",
       "      <td>68.70</td>\n",
       "      <td>47.62</td>\n",
       "      <td>56.25</td>\n",
       "      <td>70.97</td>\n",
       "      <td>85.51</td>\n",
       "      <td>77.56</td>\n",
       "    </tr>\n",
       "    <tr>\n",
       "      <th>0</th>\n",
       "      <td>72.48</td>\n",
       "      <td>0.77</td>\n",
       "      <td>ba-ic-6040-rj.xlsx</td>\n",
       "      <td>67.11</td>\n",
       "      <td>61.35</td>\n",
       "      <td>64.10</td>\n",
       "      <td>75.58</td>\n",
       "      <td>79.92</td>\n",
       "      <td>77.69</td>\n",
       "    </tr>\n",
       "    <tr>\n",
       "      <th>0</th>\n",
       "      <td>66.21</td>\n",
       "      <td>0.66</td>\n",
       "      <td>ba-ic-6040-pb.xlsx</td>\n",
       "      <td>65.75</td>\n",
       "      <td>32.65</td>\n",
       "      <td>43.64</td>\n",
       "      <td>66.33</td>\n",
       "      <td>88.64</td>\n",
       "      <td>75.88</td>\n",
       "    </tr>\n",
       "    <tr>\n",
       "      <th>0</th>\n",
       "      <td>68.02</td>\n",
       "      <td>0.65</td>\n",
       "      <td>ba-ic-6040-go.xlsx</td>\n",
       "      <td>66.13</td>\n",
       "      <td>41.41</td>\n",
       "      <td>50.93</td>\n",
       "      <td>68.65</td>\n",
       "      <td>85.81</td>\n",
       "      <td>76.28</td>\n",
       "    </tr>\n",
       "    <tr>\n",
       "      <th>0</th>\n",
       "      <td>74.87</td>\n",
       "      <td>0.78</td>\n",
       "      <td>ba-ic-6040-ce.xlsx</td>\n",
       "      <td>78.43</td>\n",
       "      <td>51.95</td>\n",
       "      <td>62.50</td>\n",
       "      <td>73.57</td>\n",
       "      <td>90.35</td>\n",
       "      <td>81.10</td>\n",
       "    </tr>\n",
       "    <tr>\n",
       "      <th>0</th>\n",
       "      <td>71.03</td>\n",
       "      <td>0.78</td>\n",
       "      <td>ba-ic-6040-df.xlsx</td>\n",
       "      <td>62.50</td>\n",
       "      <td>69.77</td>\n",
       "      <td>65.93</td>\n",
       "      <td>77.97</td>\n",
       "      <td>71.88</td>\n",
       "      <td>74.80</td>\n",
       "    </tr>\n",
       "    <tr>\n",
       "      <th>0</th>\n",
       "      <td>70.06</td>\n",
       "      <td>0.76</td>\n",
       "      <td>ba-ic-6040-pa.xlsx</td>\n",
       "      <td>62.32</td>\n",
       "      <td>64.18</td>\n",
       "      <td>63.24</td>\n",
       "      <td>75.51</td>\n",
       "      <td>74.00</td>\n",
       "      <td>74.75</td>\n",
       "    </tr>\n",
       "  </tbody>\n",
       "</table>\n",
       "</div>"
      ],
      "text/plain": [
       "   Acurácia   AUC                Base  Precisão (0)  Recall (0)  F1-Score (0)  \\\n",
       "0     77.00  0.83  ba-ic-6040-sp.xlsx         75.71       62.59         68.52   \n",
       "0     77.49  0.80  ba-ic-6040-mg.xlsx         74.72       66.17         70.18   \n",
       "0     74.90  0.77  ba-ic-6040-sc.xlsx         75.17       55.72         64.00   \n",
       "0     70.34  0.72  ba-ic-6040-rs.xlsx         68.70       47.62         56.25   \n",
       "0     72.48  0.77  ba-ic-6040-rj.xlsx         67.11       61.35         64.10   \n",
       "0     66.21  0.66  ba-ic-6040-pb.xlsx         65.75       32.65         43.64   \n",
       "0     68.02  0.65  ba-ic-6040-go.xlsx         66.13       41.41         50.93   \n",
       "0     74.87  0.78  ba-ic-6040-ce.xlsx         78.43       51.95         62.50   \n",
       "0     71.03  0.78  ba-ic-6040-df.xlsx         62.50       69.77         65.93   \n",
       "0     70.06  0.76  ba-ic-6040-pa.xlsx         62.32       64.18         63.24   \n",
       "\n",
       "   Precisão (1)  Recall (1)  F1-Score (1)  \n",
       "0         77.63       86.61         81.87  \n",
       "0         79.01       85.05         81.92  \n",
       "0         74.79       87.71         80.73  \n",
       "0         70.97       85.51         77.56  \n",
       "0         75.58       79.92         77.69  \n",
       "0         66.33       88.64         75.88  \n",
       "0         68.65       85.81         76.28  \n",
       "0         73.57       90.35         81.10  \n",
       "0         77.97       71.88         74.80  \n",
       "0         75.51       74.00         74.75  "
      ]
     },
     "execution_count": 38,
     "metadata": {},
     "output_type": "execute_result"
    }
   ],
   "source": [
    "desempenhoDosModelos"
   ]
  },
  {
   "cell_type": "markdown",
   "id": "9a05ff64",
   "metadata": {},
   "source": [
    "### Calculando a média das Métricas"
   ]
  },
  {
   "cell_type": "code",
   "execution_count": 39,
   "id": "ba5d907c",
   "metadata": {},
   "outputs": [
    {
     "name": "stderr",
     "output_type": "stream",
     "text": [
      "/tmp/ipykernel_8557/1463340102.py:2: FutureWarning: Dropping of nuisance columns in DataFrame reductions (with 'numeric_only=None') is deprecated; in a future version this will raise TypeError.  Select only valid columns before calling the reduction.\n",
      "  media = desempenhoDosModelos.mean()\n"
     ]
    }
   ],
   "source": [
    "# Identificando a média \n",
    "media = desempenhoDosModelos.mean()\n",
    "\n",
    "# Inserindo as outras colunas\n",
    "# media['Modelo'] = \"-\"\n",
    "media['Base'] = 'Média dos Modelos'"
   ]
  },
  {
   "cell_type": "code",
   "execution_count": 40,
   "id": "fa2fbf64",
   "metadata": {},
   "outputs": [
    {
     "data": {
      "text/html": [
       "<div>\n",
       "<style scoped>\n",
       "    .dataframe tbody tr th:only-of-type {\n",
       "        vertical-align: middle;\n",
       "    }\n",
       "\n",
       "    .dataframe tbody tr th {\n",
       "        vertical-align: top;\n",
       "    }\n",
       "\n",
       "    .dataframe thead th {\n",
       "        text-align: right;\n",
       "    }\n",
       "</style>\n",
       "<table border=\"1\" class=\"dataframe\">\n",
       "  <thead>\n",
       "    <tr style=\"text-align: right;\">\n",
       "      <th></th>\n",
       "      <th>Acurácia</th>\n",
       "      <th>AUC</th>\n",
       "      <th>Base</th>\n",
       "      <th>Precisão (0)</th>\n",
       "      <th>Recall (0)</th>\n",
       "      <th>F1-Score (0)</th>\n",
       "      <th>Precisão (1)</th>\n",
       "      <th>Recall (1)</th>\n",
       "      <th>F1-Score (1)</th>\n",
       "    </tr>\n",
       "  </thead>\n",
       "  <tbody>\n",
       "    <tr>\n",
       "      <th>0</th>\n",
       "      <td>77.00</td>\n",
       "      <td>0.830</td>\n",
       "      <td>ba-ic-6040-sp.xlsx</td>\n",
       "      <td>75.710</td>\n",
       "      <td>62.590</td>\n",
       "      <td>68.520</td>\n",
       "      <td>77.630</td>\n",
       "      <td>86.610</td>\n",
       "      <td>81.870</td>\n",
       "    </tr>\n",
       "    <tr>\n",
       "      <th>1</th>\n",
       "      <td>77.49</td>\n",
       "      <td>0.800</td>\n",
       "      <td>ba-ic-6040-mg.xlsx</td>\n",
       "      <td>74.720</td>\n",
       "      <td>66.170</td>\n",
       "      <td>70.180</td>\n",
       "      <td>79.010</td>\n",
       "      <td>85.050</td>\n",
       "      <td>81.920</td>\n",
       "    </tr>\n",
       "    <tr>\n",
       "      <th>2</th>\n",
       "      <td>74.90</td>\n",
       "      <td>0.770</td>\n",
       "      <td>ba-ic-6040-sc.xlsx</td>\n",
       "      <td>75.170</td>\n",
       "      <td>55.720</td>\n",
       "      <td>64.000</td>\n",
       "      <td>74.790</td>\n",
       "      <td>87.710</td>\n",
       "      <td>80.730</td>\n",
       "    </tr>\n",
       "    <tr>\n",
       "      <th>3</th>\n",
       "      <td>70.34</td>\n",
       "      <td>0.720</td>\n",
       "      <td>ba-ic-6040-rs.xlsx</td>\n",
       "      <td>68.700</td>\n",
       "      <td>47.620</td>\n",
       "      <td>56.250</td>\n",
       "      <td>70.970</td>\n",
       "      <td>85.510</td>\n",
       "      <td>77.560</td>\n",
       "    </tr>\n",
       "    <tr>\n",
       "      <th>4</th>\n",
       "      <td>72.48</td>\n",
       "      <td>0.770</td>\n",
       "      <td>ba-ic-6040-rj.xlsx</td>\n",
       "      <td>67.110</td>\n",
       "      <td>61.350</td>\n",
       "      <td>64.100</td>\n",
       "      <td>75.580</td>\n",
       "      <td>79.920</td>\n",
       "      <td>77.690</td>\n",
       "    </tr>\n",
       "    <tr>\n",
       "      <th>5</th>\n",
       "      <td>66.21</td>\n",
       "      <td>0.660</td>\n",
       "      <td>ba-ic-6040-pb.xlsx</td>\n",
       "      <td>65.750</td>\n",
       "      <td>32.650</td>\n",
       "      <td>43.640</td>\n",
       "      <td>66.330</td>\n",
       "      <td>88.640</td>\n",
       "      <td>75.880</td>\n",
       "    </tr>\n",
       "    <tr>\n",
       "      <th>6</th>\n",
       "      <td>68.02</td>\n",
       "      <td>0.650</td>\n",
       "      <td>ba-ic-6040-go.xlsx</td>\n",
       "      <td>66.130</td>\n",
       "      <td>41.410</td>\n",
       "      <td>50.930</td>\n",
       "      <td>68.650</td>\n",
       "      <td>85.810</td>\n",
       "      <td>76.280</td>\n",
       "    </tr>\n",
       "    <tr>\n",
       "      <th>7</th>\n",
       "      <td>74.87</td>\n",
       "      <td>0.780</td>\n",
       "      <td>ba-ic-6040-ce.xlsx</td>\n",
       "      <td>78.430</td>\n",
       "      <td>51.950</td>\n",
       "      <td>62.500</td>\n",
       "      <td>73.570</td>\n",
       "      <td>90.350</td>\n",
       "      <td>81.100</td>\n",
       "    </tr>\n",
       "    <tr>\n",
       "      <th>8</th>\n",
       "      <td>71.03</td>\n",
       "      <td>0.780</td>\n",
       "      <td>ba-ic-6040-df.xlsx</td>\n",
       "      <td>62.500</td>\n",
       "      <td>69.770</td>\n",
       "      <td>65.930</td>\n",
       "      <td>77.970</td>\n",
       "      <td>71.880</td>\n",
       "      <td>74.800</td>\n",
       "    </tr>\n",
       "    <tr>\n",
       "      <th>9</th>\n",
       "      <td>70.06</td>\n",
       "      <td>0.760</td>\n",
       "      <td>ba-ic-6040-pa.xlsx</td>\n",
       "      <td>62.320</td>\n",
       "      <td>64.180</td>\n",
       "      <td>63.240</td>\n",
       "      <td>75.510</td>\n",
       "      <td>74.000</td>\n",
       "      <td>74.750</td>\n",
       "    </tr>\n",
       "    <tr>\n",
       "      <th>10</th>\n",
       "      <td>72.24</td>\n",
       "      <td>0.752</td>\n",
       "      <td>Média dos Modelos</td>\n",
       "      <td>69.654</td>\n",
       "      <td>55.341</td>\n",
       "      <td>60.929</td>\n",
       "      <td>74.001</td>\n",
       "      <td>83.548</td>\n",
       "      <td>78.258</td>\n",
       "    </tr>\n",
       "  </tbody>\n",
       "</table>\n",
       "</div>"
      ],
      "text/plain": [
       "    Acurácia    AUC                Base  Precisão (0)  Recall (0)  \\\n",
       "0      77.00  0.830  ba-ic-6040-sp.xlsx        75.710      62.590   \n",
       "1      77.49  0.800  ba-ic-6040-mg.xlsx        74.720      66.170   \n",
       "2      74.90  0.770  ba-ic-6040-sc.xlsx        75.170      55.720   \n",
       "3      70.34  0.720  ba-ic-6040-rs.xlsx        68.700      47.620   \n",
       "4      72.48  0.770  ba-ic-6040-rj.xlsx        67.110      61.350   \n",
       "5      66.21  0.660  ba-ic-6040-pb.xlsx        65.750      32.650   \n",
       "6      68.02  0.650  ba-ic-6040-go.xlsx        66.130      41.410   \n",
       "7      74.87  0.780  ba-ic-6040-ce.xlsx        78.430      51.950   \n",
       "8      71.03  0.780  ba-ic-6040-df.xlsx        62.500      69.770   \n",
       "9      70.06  0.760  ba-ic-6040-pa.xlsx        62.320      64.180   \n",
       "10     72.24  0.752   Média dos Modelos        69.654      55.341   \n",
       "\n",
       "    F1-Score (0)  Precisão (1)  Recall (1)  F1-Score (1)  \n",
       "0         68.520        77.630      86.610        81.870  \n",
       "1         70.180        79.010      85.050        81.920  \n",
       "2         64.000        74.790      87.710        80.730  \n",
       "3         56.250        70.970      85.510        77.560  \n",
       "4         64.100        75.580      79.920        77.690  \n",
       "5         43.640        66.330      88.640        75.880  \n",
       "6         50.930        68.650      85.810        76.280  \n",
       "7         62.500        73.570      90.350        81.100  \n",
       "8         65.930        77.970      71.880        74.800  \n",
       "9         63.240        75.510      74.000        74.750  \n",
       "10        60.929        74.001      83.548        78.258  "
      ]
     },
     "execution_count": 40,
     "metadata": {},
     "output_type": "execute_result"
    }
   ],
   "source": [
    "# Adicionando a média dos valores\n",
    "desempenhoDosModelos = desempenhoDosModelos.append(media, ignore_index=True)\n",
    "desempenhoDosModelos"
   ]
  },
  {
   "cell_type": "code",
   "execution_count": 42,
   "id": "3c43e2f7",
   "metadata": {
    "scrolled": true
   },
   "outputs": [],
   "source": [
    "# Convertendo series para dict\n",
    "# media_dict = pd.Series(media.values, index=media.keys).to_dict()"
   ]
  },
  {
   "cell_type": "markdown",
   "id": "311f10d0",
   "metadata": {},
   "source": [
    "### Salvando o Desempenho"
   ]
  },
  {
   "cell_type": "code",
   "execution_count": 43,
   "id": "235e6a96",
   "metadata": {},
   "outputs": [],
   "source": [
    "mf.salvarBaseDeDados(desempenhoDosModelos, 'validacao-modelo-ic.xlsx')"
   ]
  }
 ],
 "metadata": {
  "kernelspec": {
   "display_name": "Python 3 (ipykernel)",
   "language": "python",
   "name": "python3"
  },
  "language_info": {
   "codemirror_mode": {
    "name": "ipython",
    "version": 3
   },
   "file_extension": ".py",
   "mimetype": "text/x-python",
   "name": "python",
   "nbconvert_exporter": "python",
   "pygments_lexer": "ipython3",
   "version": "3.8.10"
  }
 },
 "nbformat": 4,
 "nbformat_minor": 5
}
