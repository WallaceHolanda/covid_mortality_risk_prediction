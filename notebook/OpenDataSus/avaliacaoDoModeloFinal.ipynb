{
 "cells": [
  {
   "cell_type": "markdown",
   "id": "583d5d99",
   "metadata": {},
   "source": [
    "### Modelos\n",
    "- Modelo Óbito-Curado (60/40): Regressão\n",
    "- Modelo Internado-Curado (70/30): AdaBoost"
   ]
  },
  {
   "cell_type": "code",
   "execution_count": 2,
   "id": "424c51e5",
   "metadata": {},
   "outputs": [
    {
     "name": "stdout",
     "output_type": "stream",
     "text": [
      "importing Jupyter notebook from modelofuncoes.ipynb\n"
     ]
    }
   ],
   "source": [
    "import pandas as pd\n",
    "import numpy as np\n",
    "import matplotlib.pyplot as plt\n",
    "\n",
    "import import_ipynb\n",
    "import modelofuncoes as mf\n",
    "\n",
    "from joblib import dump, load\n",
    "\n",
    "from sklearn.model_selection import train_test_split\n",
    "from sklearn.linear_model import LogisticRegression\n",
    "from sklearn.ensemble import AdaBoostClassifier\n",
    "from sklearn.ensemble import RandomForestClassifier\n",
    "from sklearn.linear_model import LogisticRegression\n",
    "from sklearn.ensemble import GradientBoostingClassifier\n",
    "from sklearn import metrics\n",
    "from sklearn.metrics import accuracy_score"
   ]
  },
  {
   "cell_type": "markdown",
   "id": "3edce887",
   "metadata": {},
   "source": [
    "### Curva ROC"
   ]
  },
  {
   "cell_type": "code",
   "execution_count": null,
   "id": "1663ea4e",
   "metadata": {},
   "outputs": [],
   "source": [
    "def exibirCurvaROC(modeloClassificador, x_test, y_test):\n",
    "    y_preds = modeloClassificador.predict_proba(x_test)\n",
    "\n",
    "    # take the second column because the classifier outputs scores for the 0 class as well\n",
    "    preds = y_preds[:,1]\n",
    "\n",
    "    # fpr (false-positive-rate) e tpr (true-positive-rate)\n",
    "    fpr, tpr, _ = metrics.roc_curve(y_test, preds)\n",
    "\n",
    "    auc_score = metrics.auc(fpr, tpr)\n",
    "\n",
    "    # Construindo o Gráfico\n",
    "    plt.clf()\n",
    "    plt.title('ROC Curve')\n",
    "    plt.plot(fpr, tpr, label='AUC = {:.2f}'.format(auc_score))\n",
    "    plt.plot([0,1],[0,1],'r--')\n",
    "\n",
    "    plt.xlim([-0.1,1.1])\n",
    "    plt.ylim([-0.1,1.1])\n",
    "    plt.ylabel('True Positive Rate')\n",
    "    plt.xlabel('False Positive Rate')\n",
    "\n",
    "    plt.legend(loc='lower right')\n",
    "    plt.show()"
   ]
  },
  {
   "cell_type": "markdown",
   "id": "28b37ccf",
   "metadata": {},
   "source": [
    "### Avaliando o Smote"
   ]
  },
  {
   "cell_type": "code",
   "execution_count": null,
   "id": "3787e4e6",
   "metadata": {},
   "outputs": [],
   "source": [
    "from imblearn.over_sampling import RandomOverSampler, SMOTE\n",
    "\n",
    "def aplicarSmote(base, alvo):\n",
    "\n",
    "    X_smt = base.drop(alvo, axis = 1)\n",
    "    y_smt = base[alvo]\n",
    "    \n",
    "    # Contar o número de ocorrências\n",
    "    # np.bincount(y_smt)\n",
    "    \n",
    "    # Carregar o Smote\n",
    "    smt = SMOTE()\n",
    "    \n",
    "    # Aplicar o Smote\n",
    "    X_smt, y_smt = smt.fit_resample(X_smt, y_smt)\n",
    "    \n",
    "    # Contar o número de ocorrências\n",
    "    # np.bincount(y_smt)\n",
    "    \n",
    "    # Convertendo em DF\n",
    "    smoteBase = pd.DataFrame(X_smt)\n",
    "    smoteBase[alvo] = y_smt\n",
    "    \n",
    "    return smoteBase"
   ]
  },
  {
   "cell_type": "code",
   "execution_count": null,
   "id": "20c4807c",
   "metadata": {},
   "outputs": [],
   "source": [
    "hiperparametrosGB = GradientBoostingClassifier(ccp_alpha=0.0, criterion='friedman_mse', init=None,\n",
    "                           learning_rate=0.1, loss='deviance', max_depth=3,\n",
    "                           max_features=None, max_leaf_nodes=None,\n",
    "                           min_impurity_decrease=0.0, min_impurity_split=None,\n",
    "                           min_samples_leaf=1, min_samples_split=2,\n",
    "                           min_weight_fraction_leaf=0.0, n_estimators=100,\n",
    "                           n_iter_no_change=None, \n",
    "                           random_state=1859, subsample=1.0, tol=0.0001,\n",
    "                           validation_fraction=0.1, verbose=0,\n",
    "                           warm_start=False)"
   ]
  },
  {
   "cell_type": "markdown",
   "id": "6e40193e",
   "metadata": {},
   "source": [
    "## Desempenho dos Modelos Escolhidos\n",
    "---------"
   ]
  },
  {
   "cell_type": "markdown",
   "id": "d06ef88a",
   "metadata": {},
   "source": [
    "### Definindo as bases de dados"
   ]
  },
  {
   "cell_type": "code",
   "execution_count": 11,
   "id": "1367a248",
   "metadata": {},
   "outputs": [],
   "source": [
    "# Modelo OC (7030 e Smote 7030)\n",
    "# url = 'PreProcessamento/balanceadas/OC/ba-oc-7030-sp.xlsx',\n",
    "url = 'PreProcessamento/balanceadas/Smote/sm-oc-7030-sp.xlsx'\n",
    "\n",
    "# Modelo IC (Smote 6040)\n",
    "# url = 'PreProcessamento/balanceadas/Smote/sm-ic-6040-sp.xlsx'\n",
    "\n",
    "alvo = 'evolucaoCaso'\n",
    "baseFinal = pd.read_excel(url)"
   ]
  },
  {
   "cell_type": "code",
   "execution_count": 12,
   "id": "76709ad2",
   "metadata": {},
   "outputs": [
    {
     "data": {
      "text/plain": [
       "(6678, 38)"
      ]
     },
     "execution_count": 12,
     "metadata": {},
     "output_type": "execute_result"
    }
   ],
   "source": [
    "baseFinal.shape()"
   ]
  },
  {
   "cell_type": "markdown",
   "id": "2431f8ef",
   "metadata": {},
   "source": [
    "### Reduzindo os Atributos"
   ]
  },
  {
   "cell_type": "code",
   "execution_count": 13,
   "id": "82926eb5",
   "metadata": {
    "collapsed": true
   },
   "outputs": [
    {
     "ename": "NameError",
     "evalue": "name 'atributosSelecionados' is not defined",
     "output_type": "error",
     "traceback": [
      "\u001b[0;31m---------------------------------------------------------------------------\u001b[0m",
      "\u001b[0;31mNameError\u001b[0m                                 Traceback (most recent call last)",
      "\u001b[0;32m/tmp/ipykernel_7949/2350269312.py\u001b[0m in \u001b[0;36m<module>\u001b[0;34m\u001b[0m\n\u001b[1;32m      7\u001b[0m \u001b[0;31m#                        ‘tosse’, 'qntVacinas', 'faixaDiasSintomas', 'coriza', ‘febre’, evolucaoCaso']\u001b[0m\u001b[0;34m\u001b[0m\u001b[0;34m\u001b[0m\u001b[0;34m\u001b[0m\u001b[0m\n\u001b[1;32m      8\u001b[0m \u001b[0;34m\u001b[0m\u001b[0m\n\u001b[0;32m----> 9\u001b[0;31m \u001b[0mbaseFinalReduzida\u001b[0m \u001b[0;34m=\u001b[0m \u001b[0mbaseFinal\u001b[0m\u001b[0;34m.\u001b[0m\u001b[0mloc\u001b[0m\u001b[0;34m[\u001b[0m\u001b[0;34m:\u001b[0m\u001b[0;34m,\u001b[0m \u001b[0matributosSelecionados\u001b[0m\u001b[0;34m]\u001b[0m\u001b[0;34m\u001b[0m\u001b[0;34m\u001b[0m\u001b[0m\n\u001b[0m",
      "\u001b[0;31mNameError\u001b[0m: name 'atributosSelecionados' is not defined"
     ]
    }
   ],
   "source": [
    "# (Modelo OC)\n",
    "# atributosSelecionados = ['faixaetaria', 'dispneia', 'qntVacinas', 'coriza', 'dorDeGarganta', \n",
    "#                        dorDeCabeca', 'obesidade', 'diabetes', 'faixaDiasSintomas', 'evolucaoCaso']\n",
    "\n",
    "# (Modelo IC)\n",
    "# atributosSelecionados = ['faixaetaria', 'dorDeCabeca', 'dorDeGarganta', ‘renal’, 'dispneia', 'diabetes',  \n",
    "#                        ‘tosse’, 'qntVacinas', 'faixaDiasSintomas', 'coriza', ‘febre’, evolucaoCaso']\n",
    "\n",
    "baseFinalReduzida = baseFinal.loc[:, atributosSelecionados]"
   ]
  },
  {
   "cell_type": "markdown",
   "id": "fa00084a",
   "metadata": {},
   "source": [
    "### Carregando o Modelo Escolhido"
   ]
  },
  {
   "cell_type": "code",
   "execution_count": null,
   "id": "8ae2b9f3",
   "metadata": {},
   "outputs": [],
   "source": [
    "x_train, x_test, y_train, y_test = train_test_split(baseFinalReduzida.drop(alvo,axis=1),\n",
    "                                                    baseFinalReduzida[alvo],\n",
    "                                                    test_size=0.3,\n",
    "                                                    random_state=42);"
   ]
  },
  {
   "cell_type": "code",
   "execution_count": null,
   "id": "2f17b225",
   "metadata": {},
   "outputs": [],
   "source": [
    "# Fit nos dados\n",
    "modeloClassificador = hiperparametrosGB\n",
    "modeloClassificador.fit(x_train, y_train)\n",
    "\n",
    "#Realizando a predição\n",
    "resultadoTeste = modeloClassificador.predict(x_test)\n",
    "\n",
    "# Verificando a acurácia\n",
    "print(metrics.classification_report(y_test, resultadoTeste))"
   ]
  },
  {
   "cell_type": "code",
   "execution_count": null,
   "id": "19741661",
   "metadata": {},
   "outputs": [],
   "source": [
    "exibirCurvaROC(modeloClassificador, x_test, y_test)"
   ]
  },
  {
   "cell_type": "markdown",
   "id": "b43aa4f9",
   "metadata": {},
   "source": [
    "------"
   ]
  },
  {
   "cell_type": "markdown",
   "id": "749a9a27",
   "metadata": {},
   "source": [
    "### Selecionando as bases para a Validação"
   ]
  },
  {
   "cell_type": "code",
   "execution_count": 16,
   "id": "d0073a74",
   "metadata": {},
   "outputs": [],
   "source": [
    "# Bases - OC\n",
    "top10_bases_modelo_oc_map = {'MG': 'PreProcessamento/balanceadas/OC/ba-oc-7030-mg.xlsx',\n",
    "                         'BA': 'PreProcessamento/balanceadas/OC/ba-oc-7030-ba.xlsx',\n",
    "                         'PA': 'PreProcessamento/balanceadas/OC/ba-oc-7030-pa.xlsx',\n",
    "                         'RO': 'PreProcessamento/balanceadas/OC/ba-oc-7030-ro.xlsx',\n",
    "                         'RJ': 'PreProcessamento/balanceadas/OC/ba-oc-7030-rj.xlsx',\n",
    "                         'SC': 'PreProcessamento/balanceadas/OC/ba-oc-7030-sc.xlsx',\n",
    "                         'CE': 'PreProcessamento/balanceadas/OC/ba-oc-7030-ce.xlsx',\n",
    "                         'RS': 'PreProcessamento/balanceadas/OC/ba-oc-7030-rs.xlsx',\n",
    "                         'TO': 'PreProcessamento/balanceadas/OC/ba-oc-7030-to.xlsx',\n",
    "                         'MT': 'PreProcessamento/balanceadas/OC/ba-oc-7030-mt.xlsx',\n",
    "                        }\n",
    "\n",
    "default_path = 'PreProcessamento/balanceadas/OC/'\n",
    "top10_bases_modelo_oc = ['ba-oc-7030-mg.xlsx', 'ba-oc-7030-ba.xlsx', 'ba-oc-7030-pa.xlsx', \n",
    "                         'ba-oc-7030-ro.xlsx', 'ba-oc-7030-rj.xlsx', 'ba-oc-7030-sc.xlsx', \n",
    "                         'ba-oc-7030-ce.xlsx', 'ba-oc-7030-rs.xlsx', 'ba-oc-7030-to.xlsx', \n",
    "                         'ba-oc-7030-mt.xlsx']"
   ]
  },
  {
   "cell_type": "code",
   "execution_count": null,
   "id": "7b54e65a",
   "metadata": {},
   "outputs": [],
   "source": [
    "# Bases - IC\n",
    "top10_bases_modelo_ic = {'BA': 'PreProcessamento/balanceadas/IC/ba-ic-6040-sp.xlsx',\n",
    "                        'MG': 'PreProcessamento/balanceadas/IC/ba-ic-6040-mg.xlsx',\n",
    "                        'SC': 'PreProcessamento/balanceadas/IC/ba-ic-6040-sc.xlsx',\n",
    "                        'RS': 'PreProcessamento/balanceadas/IC/ba-ic-6040-rs.xlsx',\n",
    "                        'RJ': 'PreProcessamento/balanceadas/IC/ba-ic-6040-rj.xlsx',\n",
    "                        'PB': 'PreProcessamento/balanceadas/IC/ba-ic-6040-pb.xlsx',\n",
    "                        'GO': 'PreProcessamento/balanceadas/IC/ba-ic-6040-go.xlsx',\n",
    "                        'CE': 'PreProcessamento/balanceadas/IC/ba-ic-6040-ce.xlsx',\n",
    "                        'DF': 'PreProcessamento/balanceadas/IC/ba-ic-6040-df.xlsx',\n",
    "                        'PA': 'PreProcessamento/balanceadas/IC/ba-ic-6040-pa.xlsx'\n",
    "                        }"
   ]
  },
  {
   "cell_type": "code",
   "execution_count": 18,
   "id": "31d26b62",
   "metadata": {},
   "outputs": [
    {
     "data": {
      "text/plain": [
       "dict_values(['PreProcessamento/balanceadas/OC/ba-oc-7030-mg.xlsx', 'PreProcessamento/balanceadas/OC/ba-oc-7030-ba.xlsx', 'PreProcessamento/balanceadas/OC/ba-oc-7030-pa.xlsx', 'PreProcessamento/balanceadas/OC/ba-oc-7030-ro.xlsx', 'PreProcessamento/balanceadas/OC/ba-oc-7030-rj.xlsx', 'PreProcessamento/balanceadas/OC/ba-oc-7030-sc.xlsx', 'PreProcessamento/balanceadas/OC/ba-oc-7030-ce.xlsx', 'PreProcessamento/balanceadas/OC/ba-oc-7030-rs.xlsx', 'PreProcessamento/balanceadas/OC/ba-oc-7030-to.xlsx', 'PreProcessamento/balanceadas/OC/ba-oc-7030-mt.xlsx'])"
      ]
     },
     "execution_count": 18,
     "metadata": {},
     "output_type": "execute_result"
    }
   ],
   "source": [
    "top10_bases_modelo_oc.values()"
   ]
  },
  {
   "cell_type": "markdown",
   "id": "259c1b39",
   "metadata": {},
   "source": [
    "### Executando a Validação"
   ]
  },
  {
   "cell_type": "code",
   "execution_count": null,
   "id": "1a12a381",
   "metadata": {},
   "outputs": [],
   "source": [
    "alvos = [0, 1]\n",
    "desempenhoDosModelos = pd.DataFrame()\n",
    "for indice in range(0, len(listaBases)):\n",
    "    covidData = pd.read_excel(listaBases[indice])\n",
    "    dadosTeste = covidData.loc[:, colunasSelecionadasTeste]\n",
    "    dadosAlvo =  covidData.loc[:, alvo]\n",
    "     \n",
    "    metricasMap = calcularMetricas(dadosTeste, dadosAlvo, listaBases[indice], modeloClassificador, alvos)\n",
    "    desempenhoDosModelos = pd.concat([desempenhoDosModelos, pd.DataFrame([metricasMap])]) "
   ]
  },
  {
   "cell_type": "markdown",
   "id": "9a05ff64",
   "metadata": {},
   "source": [
    "### Calculando a média das Métricas"
   ]
  },
  {
   "cell_type": "code",
   "execution_count": 14,
   "id": "eb541145",
   "metadata": {
    "scrolled": true
   },
   "outputs": [],
   "source": [
    "# Verificando o Desempenho do Modelo\n",
    "# desempenhoDosModelos = mf.testarModelos(bases, alvo, colunasRemovidas, modeloClassificador, valoresAlvo)\n",
    "# desempenhoDosModelos"
   ]
  },
  {
   "cell_type": "code",
   "execution_count": 15,
   "id": "ba5d907c",
   "metadata": {},
   "outputs": [],
   "source": [
    "# Identificando a média \n",
    "# media = desempenhoDosModelos.mean()\n",
    "\n",
    "# Inserindo as outras colunas\n",
    "# media['Base'] = 'Média dos Modelos'\n",
    "# media['Modelo'] = \"-\"\n",
    "\n",
    "# Adicionando a média dos valores\n",
    "# desempenhoDosModelos = desempenhoDosModelos.append(media, ignore_index=True)\n",
    "# desempenhoDosModelos\n",
    "\n",
    "# Convertendo series para dict\n",
    "# media_dict = pd.Series(media.values, index=media.keys).to_dict()"
   ]
  },
  {
   "cell_type": "markdown",
   "id": "83ecbb5e",
   "metadata": {},
   "source": [
    "### Definindo a Função da Curva ROC"
   ]
  },
  {
   "cell_type": "markdown",
   "id": "aee2a066",
   "metadata": {},
   "source": [
    "### Funções Utilizadas"
   ]
  },
  {
   "cell_type": "code",
   "execution_count": null,
   "id": "333b4f5d",
   "metadata": {},
   "outputs": [],
   "source": [
    "def __transformarEmPorcentagem__(valor):\n",
    "    porcentagem = str(round(valor * 100, 3)) + \"%\"\n",
    "    return porcentagem"
   ]
  },
  {
   "cell_type": "code",
   "execution_count": null,
   "id": "46e49d32",
   "metadata": {},
   "outputs": [],
   "source": [
    "def calcularMetricas(x_test, y_test, baseDeDados, classificador, alvos):\n",
    "    metricas = {}\n",
    "    \n",
    "    #Realizando a predição\n",
    "    resultadoPredicao = classificador.predict(x_test)\n",
    "\n",
    "    # Verificando a acurácia\n",
    "    metricas['Acurácia'] = __transformarEmPorcentagem__(accuracy_score(y_test, resultadoPredicao))\n",
    "    \n",
    "    # Criando um dicionaŕio a partir das métricas\n",
    "    metricasValores = metrics.classification_report(y_test, resultadoPredicao, output_dict=True)\n",
    "    df = pd.DataFrame(metricasValores).transpose()\n",
    "    \n",
    "    metricas[\"Base\"] = baseDeDados\n",
    "\n",
    "    for classe in alvos:\n",
    "        metricas[\"Precisão (\" + str(classe) + \")\"] = __transformarEmPorcentagem__(df.loc[str(classe)]['precision'])\n",
    "        metricas[\"Recall (\" + str(classe) + \")\"] = __transformarEmPorcentagem__(df.loc[str(classe)]['recall'])\n",
    "        metricas[\"F1-Score (\" + str(classe) + \")\"] = __transformarEmPorcentagem__(df.loc[str(classe)]['f1-score'])\n",
    "    \n",
    "    return metricas"
   ]
  },
  {
   "cell_type": "markdown",
   "id": "fe38c57c",
   "metadata": {},
   "source": [
    "### Modelo OC - Avaliando as outras Bases (Estados)"
   ]
  },
  {
   "cell_type": "code",
   "execution_count": null,
   "id": "7b19bce9",
   "metadata": {},
   "outputs": [],
   "source": [
    "listaBases = [\"Vacinas/OC/oc-vacina-6040-ac.xlsx\", \"Vacinas/OC/oc-vacina-6040-al.xlsx\", \"Vacinas/OC/oc-vacina-6040-am.xlsx\", \"Vacinas/OC/oc-vacina-6040-ap.xlsx\", \"Vacinas/OC/oc-vacina-6040-ba.xlsx\", \n",
    "              \"Vacinas/OC/oc-vacina-6040-ce.xlsx\", \"Vacinas/OC/oc-vacina-6040-df.xlsx\", \"Vacinas/OC/oc-vacina-6040-go.xlsx\", \"Vacinas/OC/oc-vacina-6040-ma.xlsx\", \"Vacinas/OC/oc-vacina-6040-mg.xlsx\", \n",
    "              \"Vacinas/OC/oc-vacina-6040-mt.xlsx\", \"Vacinas/OC/oc-vacina-6040-pa.xlsx\", \"Vacinas/OC/oc-vacina-6040-pb.xlsx\", \"Vacinas/OC/oc-vacina-6040-pe.xlsx\", \"Vacinas/OC/oc-vacina-6040-pi.xlsx\", \n",
    "              \"Vacinas/OC/oc-vacina-6040-rj.xlsx\", \"Vacinas/OC/oc-vacina-6040-rn.xlsx\", \"Vacinas/OC/oc-vacina-6040-ro.xlsx\", \"Vacinas/OC/oc-vacina-6040-rr.xlsx\", \"Vacinas/OC/oc-vacina-6040-rs.xlsx\"] \n",
    "\n",
    "alvo = 'evolucaoCaso'\n",
    "colunasSelecionadasTeste = ['faixaetaria', 'dispneia', 'qntVacinas', 'dorDeGarganta', \n",
    "                            'coriza', 'diabetes', 'dorDeCabeca', 'cardiaca']"
   ]
  },
  {
   "cell_type": "code",
   "execution_count": null,
   "id": "bebbee09",
   "metadata": {},
   "outputs": [],
   "source": [
    "alvos = [0, 1]\n",
    "desempenhoDosModelos = pd.DataFrame()\n",
    "for indice in range(0, len(listaBases)):\n",
    "    covidData = pd.read_excel(listaBases[indice])\n",
    "    dadosTeste = covidData.loc[:, colunasSelecionadasTeste]\n",
    "    dadosAlvo =  covidData.loc[:, alvo]\n",
    "     \n",
    "    metricasMap = calcularMetricas(dadosTeste, dadosAlvo, listaBases[indice], modeloClassificador, alvos)\n",
    "    desempenhoDosModelos = pd.concat([desempenhoDosModelos, pd.DataFrame([metricasMap])]) "
   ]
  },
  {
   "cell_type": "markdown",
   "id": "0385d86d",
   "metadata": {},
   "source": [
    "### Modelo IC - Analisando outras Regiões"
   ]
  },
  {
   "cell_type": "code",
   "execution_count": null,
   "id": "c1208a50",
   "metadata": {},
   "outputs": [],
   "source": [
    "# Lista das Bases de Regiões\n",
    "listaBases = [\"Vacinas/Regioes/IC/ic-vacina-6040-centrooeste.xlsx\", \"Vacinas/Regioes/IC/ic-vacina-6040-sudeste.xlsx\", \n",
    "               \"Vacinas/Regioes/IC/ic-vacina-6040-norte.xlsx\", \"Vacinas/Regioes/IC/ic-vacina-6040-nordeste.xlsx\"]\n",
    "\n",
    "# Colunas Utilizadas\n",
    "colunasSelecionadasTeste = ['faixaetaria', 'sexo', 'racaCor', 'dorDeGarganta', 'dispneia', 'coriza', \n",
    "                            'dorDeCabeca', 'diabetes', 'renal', 'imunossupressao', 'fragilidadeImuno', \n",
    "                            'gestante', 'cardiaca', 'qntVacinas']\n",
    "\n",
    "alvo = 'evolucaoCaso'"
   ]
  },
  {
   "cell_type": "code",
   "execution_count": null,
   "id": "84ec40f3",
   "metadata": {},
   "outputs": [],
   "source": [
    "alvos = [1, 2]\n",
    "desempenhoDosModelos = pd.DataFrame()\n",
    "for indice in range(0, len(listaBases)):\n",
    "    covidData = pd.read_excel(listaBases[indice])\n",
    "    dadosTeste = covidData.loc[:, colunasSelecionadasTeste]\n",
    "    dadosAlvo =  covidData.loc[:, alvo]\n",
    "     \n",
    "    metricasMap = calcularMetricas(dadosTeste, dadosAlvo, listaBases[indice], modeloClassificador, alvos)\n",
    "    desempenhoDosModelos = pd.concat([desempenhoDosModelos, pd.DataFrame([metricasMap])])\n",
    "desempenhoDosModelos"
   ]
  }
 ],
 "metadata": {
  "kernelspec": {
   "display_name": "Python 3 (ipykernel)",
   "language": "python",
   "name": "python3"
  },
  "language_info": {
   "codemirror_mode": {
    "name": "ipython",
    "version": 3
   },
   "file_extension": ".py",
   "mimetype": "text/x-python",
   "name": "python",
   "nbconvert_exporter": "python",
   "pygments_lexer": "ipython3",
   "version": "3.8.10"
  }
 },
 "nbformat": 4,
 "nbformat_minor": 5
}
