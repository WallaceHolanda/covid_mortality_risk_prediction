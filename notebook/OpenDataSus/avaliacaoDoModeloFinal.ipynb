{
 "cells": [
  {
   "cell_type": "code",
   "execution_count": 1,
   "id": "424c51e5",
   "metadata": {},
   "outputs": [
    {
     "name": "stdout",
     "output_type": "stream",
     "text": [
      "importing Jupyter notebook from modelofuncoes.ipynb\n"
     ]
    }
   ],
   "source": [
    "import pandas as pd\n",
    "import numpy as np\n",
    "import matplotlib.pyplot as plt\n",
    "\n",
    "import import_ipynb\n",
    "import modelofuncoes as mf\n",
    "\n",
    "from joblib import dump, load\n",
    "\n",
    "from sklearn.model_selection import train_test_split\n",
    "from sklearn.linear_model import LogisticRegression\n",
    "from sklearn.ensemble import AdaBoostClassifier\n",
    "from sklearn.ensemble import RandomForestClassifier\n",
    "from sklearn.linear_model import LogisticRegression\n",
    "from sklearn.ensemble import GradientBoostingClassifier\n",
    "from sklearn import metrics\n",
    "from sklearn.metrics import accuracy_score"
   ]
  },
  {
   "cell_type": "markdown",
   "id": "3edce887",
   "metadata": {},
   "source": [
    "### Curva ROC"
   ]
  },
  {
   "cell_type": "code",
   "execution_count": 2,
   "id": "1663ea4e",
   "metadata": {},
   "outputs": [],
   "source": [
    "def exibirCurvaROC(modeloClassificador, x_test, y_test):\n",
    "    y_preds = modeloClassificador.predict_proba(x_test)\n",
    "\n",
    "    # take the second column because the classifier outputs scores for the 0 class as well\n",
    "    preds = y_preds[:,1]\n",
    "\n",
    "    # fpr (false-positive-rate) e tpr (true-positive-rate)\n",
    "    fpr, tpr, _ = metrics.roc_curve(y_test, preds)\n",
    "\n",
    "    auc_score = metrics.auc(fpr, tpr)\n",
    "\n",
    "    # Construindo o Gráfico\n",
    "    plt.clf()\n",
    "    plt.title('ROC Curve')\n",
    "    plt.plot(fpr, tpr, label='AUC = {:.2f}'.format(auc_score))\n",
    "    plt.plot([0,1],[0,1],'r--')\n",
    "\n",
    "    plt.xlim([-0.1,1.1])\n",
    "    plt.ylim([-0.1,1.1])\n",
    "    plt.ylabel('True Positive Rate')\n",
    "    plt.xlabel('False Positive Rate')\n",
    "\n",
    "    plt.legend(loc='lower right')\n",
    "    plt.show()"
   ]
  },
  {
   "cell_type": "markdown",
   "id": "28b37ccf",
   "metadata": {},
   "source": [
    "### Avaliando o Smote"
   ]
  },
  {
   "cell_type": "code",
   "execution_count": 3,
   "id": "3787e4e6",
   "metadata": {},
   "outputs": [],
   "source": [
    "from imblearn.over_sampling import RandomOverSampler, SMOTE\n",
    "\n",
    "def aplicarSmote(base, alvo):\n",
    "\n",
    "    X_smt = base.drop(alvo, axis = 1)\n",
    "    y_smt = base[alvo]\n",
    "    \n",
    "    # Contar o número de ocorrências\n",
    "    # np.bincount(y_smt)\n",
    "    \n",
    "    # Carregar o Smote\n",
    "    smt = SMOTE()\n",
    "    \n",
    "    # Aplicar o Smote\n",
    "    X_smt, y_smt = smt.fit_resample(X_smt, y_smt)\n",
    "    \n",
    "    # Contar o número de ocorrências\n",
    "    # np.bincount(y_smt)\n",
    "    \n",
    "    # Convertendo em DF\n",
    "    smoteBase = pd.DataFrame(X_smt)\n",
    "    smoteBase[alvo] = y_smt\n",
    "    \n",
    "    return smoteBase"
   ]
  },
  {
   "cell_type": "code",
   "execution_count": 4,
   "id": "20c4807c",
   "metadata": {},
   "outputs": [],
   "source": [
    "# Padrão - (Modelo OC)\n",
    "hiperparametrosGB = GradientBoostingClassifier(ccp_alpha=0.0, criterion='friedman_mse', init=None,\n",
    "                           learning_rate=0.1, loss='deviance', max_depth=3,\n",
    "                           max_features=None, max_leaf_nodes=None,\n",
    "                           min_impurity_decrease=0.0, min_impurity_split=None,\n",
    "                           min_samples_leaf=1, min_samples_split=2,\n",
    "                           min_weight_fraction_leaf=0.0, n_estimators=100,\n",
    "                           n_iter_no_change=None, \n",
    "                           random_state=1859, subsample=1.0, tol=0.0001,\n",
    "                           validation_fraction=0.1, verbose=0,\n",
    "                           warm_start=False)\n",
    "\n",
    "\n",
    "# Smote 60/40 (Modelo IC)\n",
    "# hiperparametrosGB = GradientBoostingClassifier(ccp_alpha=0.0, criterion='friedman_mse', init=None,\n",
    "#                            learning_rate=0.05, loss='deviance', max_depth=6,\n",
    "#                            max_features='sqrt', max_leaf_nodes=None,\n",
    "#                            min_impurity_decrease=0.1, min_impurity_split=None,\n",
    "#                            min_samples_leaf=5, min_samples_split=4,\n",
    "#                            min_weight_fraction_leaf=0.0, n_estimators=280,\n",
    "#                            n_iter_no_change=None, presort='deprecated',\n",
    "#                            random_state=4156, subsample=0.75, tol=0.0001,\n",
    "#                            validation_fraction=0.1, verbose=0,\n",
    "#                            warm_start=False)"
   ]
  },
  {
   "cell_type": "markdown",
   "id": "6e40193e",
   "metadata": {},
   "source": [
    "## Desempenho dos Modelos Escolhidos\n",
    "---------"
   ]
  },
  {
   "cell_type": "markdown",
   "id": "d06ef88a",
   "metadata": {},
   "source": [
    "### Definindo as bases de dados"
   ]
  },
  {
   "cell_type": "code",
   "execution_count": 5,
   "id": "1367a248",
   "metadata": {},
   "outputs": [],
   "source": [
    "# Modelo OC (7030 e Smote 7030)\n",
    "# url = 'PreProcessamento/balanceadas/OC/ba-oc-7030-sp.xlsx'\n",
    "url = 'PreProcessamento/balanceadas/Smote/sm-oc-6040-sp.xlsx'\n",
    "\n",
    "# Modelo IC (Smote 6040)\n",
    "#url = 'PreProcessamento/balanceadas/Smote/sm-ic-6040-sp.xlsx'\n",
    "# url = 'PreProcessamento/balanceadas/IC/ba-ic-6040-sp.xlsx'\n",
    "\n",
    "alvo = 'evolucaoCaso'\n",
    "baseFinal = pd.read_excel(url)"
   ]
  },
  {
   "cell_type": "code",
   "execution_count": 6,
   "id": "76709ad2",
   "metadata": {},
   "outputs": [
    {
     "name": "stdout",
     "output_type": "stream",
     "text": [
      "(4292, 38)\n",
      "0    2146\n",
      "1    2146\n",
      "Name: evolucaoCaso, dtype: int64\n"
     ]
    }
   ],
   "source": [
    "print(baseFinal.shape)\n",
    "print(baseFinal[alvo].value_counts())"
   ]
  },
  {
   "cell_type": "markdown",
   "id": "2431f8ef",
   "metadata": {},
   "source": [
    "### Reduzindo os Atributos"
   ]
  },
  {
   "cell_type": "code",
   "execution_count": 7,
   "id": "82926eb5",
   "metadata": {},
   "outputs": [],
   "source": [
    "# (Modelo OC)\n",
    "atributosSelecionados = ['faixaetaria', 'dispneia', 'qntVacinas', 'coriza', 'dorDeGarganta', \n",
    "                       'dorDeCabeca', 'obesidade', 'diabetes', 'faixaDiasSintomas', 'evolucaoCaso']\n",
    "\n",
    "# (Modelo IC)\n",
    "# atributosSelecionados = ['faixaetaria', 'dorDeCabeca', 'dorDeGarganta', 'renal', 'dispneia', 'diabetes',  \n",
    "#                        'tosse', 'qntVacinas', 'faixaDiasSintomas', 'coriza', 'febre', 'evolucaoCaso']"
   ]
  },
  {
   "cell_type": "code",
   "execution_count": 8,
   "id": "df551807",
   "metadata": {},
   "outputs": [],
   "source": [
    "baseFinalReduzida = baseFinal.loc[:, atributosSelecionados]"
   ]
  },
  {
   "cell_type": "code",
   "execution_count": 9,
   "id": "74e5e394",
   "metadata": {},
   "outputs": [
    {
     "data": {
      "text/plain": [
       "0    2146\n",
       "1    2146\n",
       "Name: evolucaoCaso, dtype: int64"
      ]
     },
     "execution_count": 9,
     "metadata": {},
     "output_type": "execute_result"
    }
   ],
   "source": [
    "#baseFinalReduzida['evolucaoCaso'] = baseFinalReduzida['evolucaoCaso'].map({0:2, 1:1})\n",
    "baseFinalReduzida['evolucaoCaso'].value_counts()"
   ]
  },
  {
   "cell_type": "code",
   "execution_count": 10,
   "id": "48c90529",
   "metadata": {},
   "outputs": [
    {
     "data": {
      "text/plain": [
       "(4292, 10)"
      ]
     },
     "execution_count": 10,
     "metadata": {},
     "output_type": "execute_result"
    }
   ],
   "source": [
    "baseFinalReduzida.shape"
   ]
  },
  {
   "cell_type": "markdown",
   "id": "fa00084a",
   "metadata": {},
   "source": [
    "### Carregando o Modelo Escolhido"
   ]
  },
  {
   "cell_type": "code",
   "execution_count": 11,
   "id": "8ae2b9f3",
   "metadata": {},
   "outputs": [],
   "source": [
    "x_train, x_test, y_train, y_test = train_test_split(baseFinalReduzida.drop(alvo,axis=1),\n",
    "                                                    baseFinalReduzida[alvo],\n",
    "                                                    test_size=0.3,\n",
    "                                                    random_state=42);"
   ]
  },
  {
   "cell_type": "code",
   "execution_count": 12,
   "id": "2f17b225",
   "metadata": {},
   "outputs": [
    {
     "name": "stdout",
     "output_type": "stream",
     "text": [
      "              precision    recall  f1-score   support\n",
      "\n",
      "           0       0.82      0.73      0.77       664\n",
      "           1       0.74      0.83      0.79       624\n",
      "\n",
      "    accuracy                           0.78      1288\n",
      "   macro avg       0.78      0.78      0.78      1288\n",
      "weighted avg       0.78      0.78      0.78      1288\n",
      "\n"
     ]
    }
   ],
   "source": [
    "# Fit nos dados\n",
    "modeloClassificador = hiperparametrosGB\n",
    "modeloClassificador.fit(x_train, y_train)\n",
    "\n",
    "#Realizando a predição\n",
    "resultadoTeste = modeloClassificador.predict(x_test)\n",
    "\n",
    "# Verificando a acurácia\n",
    "print(metrics.classification_report(y_test, resultadoTeste))"
   ]
  },
  {
   "cell_type": "code",
   "execution_count": 13,
   "id": "19741661",
   "metadata": {},
   "outputs": [
    {
     "data": {
      "image/png": "[encoded data removed]",
      "text/plain": [
       "<Figure size 432x288 with 1 Axes>"
      ]
     },
     "metadata": {
      "needs_background": "light"
     },
     "output_type": "display_data"
    }
   ],
   "source": [
    "exibirCurvaROC(modeloClassificador, x_test, y_test)"
   ]
  },
  {
   "cell_type": "markdown",
   "id": "b43aa4f9",
   "metadata": {},
   "source": [
    "------"
   ]
  },
  {
   "cell_type": "markdown",
   "id": "749a9a27",
   "metadata": {},
   "source": [
    "### Selecionando as bases para a Validação"
   ]
  },
  {
   "cell_type": "code",
   "execution_count": 14,
   "id": "d0073a74",
   "metadata": {},
   "outputs": [],
   "source": [
    "# Bases - OC\n",
    "# top10_bases_modelo_oc_map = {'MG': 'PreProcessamento/balanceadas/OC/ba-oc-7030-mg.xlsx',\n",
    "#                          'BA': 'PreProcessamento/balanceadas/OC/ba-oc-7030-ba.xlsx',\n",
    "#                          'PA': 'PreProcessamento/balanceadas/OC/ba-oc-7030-pa.xlsx',\n",
    "#                          'RO': 'PreProcessamento/balanceadas/OC/ba-oc-7030-ro.xlsx',\n",
    "#                          'RJ': 'PreProcessamento/balanceadas/OC/ba-oc-7030-rj.xlsx',\n",
    "#                          'SC': 'PreProcessamento/balanceadas/OC/ba-oc-7030-sc.xlsx',\n",
    "#                          'CE': 'PreProcessamento/balanceadas/OC/ba-oc-7030-ce.xlsx',\n",
    "#                          'RS': 'PreProcessamento/balanceadas/OC/ba-oc-7030-rs.xlsx',\n",
    "#                          'TO': 'PreProcessamento/balanceadas/OC/ba-oc-7030-to.xlsx',\n",
    "#                          'MT': 'PreProcessamento/balanceadas/OC/ba-oc-7030-mt.xlsx',\n",
    "#                         }"
   ]
  },
  {
   "cell_type": "code",
   "execution_count": 15,
   "id": "1c2d5a80",
   "metadata": {},
   "outputs": [],
   "source": [
    "top10_bases_modelo_oc = ['ba-oc-6040-mg.xlsx', 'ba-oc-6040-ba.xlsx', 'ba-oc-6040-pa.xlsx', \n",
    "                         'ba-oc-6040-ro.xlsx', 'ba-oc-6040-rj.xlsx', 'ba-oc-6040-sc.xlsx', \n",
    "                         'ba-oc-6040-ce.xlsx', 'ba-oc-6040-rs.xlsx', 'ba-oc-6040-to.xlsx', \n",
    "                         'ba-oc-6040-mt.xlsx']"
   ]
  },
  {
   "cell_type": "code",
   "execution_count": 16,
   "id": "7b54e65a",
   "metadata": {},
   "outputs": [],
   "source": [
    "# Bases - IC\n",
    "# top10_bases_modelo_ic_map = {'BA': 'PreProcessamento/balanceadas/IC/ba-ic-6040-sp.xlsx',\n",
    "#                         'MG': 'PreProcessamento/balanceadas/IC/ba-ic-6040-mg.xlsx',\n",
    "#                         'SC': 'PreProcessamento/balanceadas/IC/ba-ic-6040-sc.xlsx',\n",
    "#                         'RS': 'PreProcessamento/balanceadas/IC/ba-ic-6040-rs.xlsx',\n",
    "#                         'RJ': 'PreProcessamento/balanceadas/IC/ba-ic-6040-rj.xlsx',\n",
    "#                         'PB': 'PreProcessamento/balanceadas/IC/ba-ic-6040-pb.xlsx',\n",
    "#                         'GO': 'PreProcessamento/balanceadas/IC/ba-ic-6040-go.xlsx',\n",
    "#                         'CE': 'PreProcessamento/balanceadas/IC/ba-ic-6040-ce.xlsx',\n",
    "#                         'DF': 'PreProcessamento/balanceadas/IC/ba-ic-6040-df.xlsx',\n",
    "#                         'PA': 'PreProcessamento/balanceadas/IC/ba-ic-6040-pa.xlsx'\n",
    "#                         }"
   ]
  },
  {
   "cell_type": "code",
   "execution_count": 17,
   "id": "84249d29",
   "metadata": {},
   "outputs": [],
   "source": [
    "# Bases - IC\n",
    "# top10_bases_modelo_ic = ['ba-ic-6040-ba.xlsx', 'ba-ic-6040-mg.xlsx', 'ba-ic-6040-sc.xlsx',\n",
    "#                         'ba-ic-6040-rs.xlsx', 'ba-ic-6040-rj.xlsx', 'ba-ic-6040-pb.xlsx',\n",
    "#                         'ba-ic-6040-go.xlsx', 'ba-ic-6040-ce.xlsx', 'ba-ic-6040-df.xlsx',\n",
    "#                         'ba-ic-6040-pa.xlsx']"
   ]
  },
  {
   "cell_type": "code",
   "execution_count": 18,
   "id": "c1dd5720",
   "metadata": {},
   "outputs": [],
   "source": [
    "# (Modelo OC)\n",
    "colunasSelecionadasTeste = ['faixaetaria', 'dispneia', 'qntVacinas', 'coriza', 'dorDeGarganta', \n",
    "                       'dorDeCabeca', 'obesidade', 'diabetes', 'faixaDiasSintomas']\n",
    "\n",
    "# (Modelo IC)\n",
    "# colunasSelecionadasTeste = ['faixaetaria', 'dorDeCabeca', 'dorDeGarganta', 'renal', 'dispneia', 'diabetes',  \n",
    "#                        'tosse', 'qntVacinas', 'faixaDiasSintomas', 'coriza', 'febre']"
   ]
  },
  {
   "cell_type": "markdown",
   "id": "259c1b39",
   "metadata": {},
   "source": [
    "### Executando a Validação"
   ]
  },
  {
   "cell_type": "code",
   "execution_count": 19,
   "id": "1a12a381",
   "metadata": {},
   "outputs": [],
   "source": [
    "alvos = [0, 1]\n",
    "default_path = 'PreProcessamento/balanceadas/OC/'\n",
    "listaBases = top10_bases_modelo_oc\n",
    "alvo = 'evolucaoCaso'\n",
    "\n",
    "desempenhoDosModelos = pd.DataFrame()\n",
    "for indice in range(0, len(listaBases)):\n",
    "    covidData = pd.read_excel(default_path + listaBases[indice])\n",
    "#     covidData['evolucaoCaso'] = covidData['evolucaoCaso'].replace([1, 2], [1, 0])\n",
    "#     print(covidData['evolucaoCaso'].value_counts())\n",
    "    \n",
    "    dadosTeste = covidData.loc[:, colunasSelecionadasTeste]\n",
    "    dadosAlvo =  covidData.loc[:, alvo]\n",
    "     \n",
    "    metricasMap = mf.calcularMetricasValidacao(dadosTeste, dadosAlvo, listaBases[indice], modeloClassificador, alvos)\n",
    "    desempenhoDosModelos = pd.concat([desempenhoDosModelos, pd.DataFrame([metricasMap])]) "
   ]
  },
  {
   "cell_type": "code",
   "execution_count": 20,
   "id": "af08068c",
   "metadata": {},
   "outputs": [
    {
     "data": {
      "text/html": [
       "<div>\n",
       "<style scoped>\n",
       "    .dataframe tbody tr th:only-of-type {\n",
       "        vertical-align: middle;\n",
       "    }\n",
       "\n",
       "    .dataframe tbody tr th {\n",
       "        vertical-align: top;\n",
       "    }\n",
       "\n",
       "    .dataframe thead th {\n",
       "        text-align: right;\n",
       "    }\n",
       "</style>\n",
       "<table border=\"1\" class=\"dataframe\">\n",
       "  <thead>\n",
       "    <tr style=\"text-align: right;\">\n",
       "      <th></th>\n",
       "      <th>Acurácia</th>\n",
       "      <th>AUC</th>\n",
       "      <th>Base</th>\n",
       "      <th>Precisão (0)</th>\n",
       "      <th>Recall (0)</th>\n",
       "      <th>F1-Score (0)</th>\n",
       "      <th>Precisão (1)</th>\n",
       "      <th>Recall (1)</th>\n",
       "      <th>F1-Score (1)</th>\n",
       "    </tr>\n",
       "  </thead>\n",
       "  <tbody>\n",
       "    <tr>\n",
       "      <th>0</th>\n",
       "      <td>81.67</td>\n",
       "      <td>0.88</td>\n",
       "      <td>ba-oc-6040-mg.xlsx</td>\n",
       "      <td>75.70</td>\n",
       "      <td>79.75</td>\n",
       "      <td>77.68</td>\n",
       "      <td>86.01</td>\n",
       "      <td>82.95</td>\n",
       "      <td>84.45</td>\n",
       "    </tr>\n",
       "    <tr>\n",
       "      <th>0</th>\n",
       "      <td>85.28</td>\n",
       "      <td>0.92</td>\n",
       "      <td>ba-oc-6040-ba.xlsx</td>\n",
       "      <td>78.52</td>\n",
       "      <td>87.01</td>\n",
       "      <td>82.54</td>\n",
       "      <td>90.66</td>\n",
       "      <td>84.13</td>\n",
       "      <td>87.28</td>\n",
       "    </tr>\n",
       "    <tr>\n",
       "      <th>0</th>\n",
       "      <td>84.43</td>\n",
       "      <td>0.92</td>\n",
       "      <td>ba-oc-6040-pa.xlsx</td>\n",
       "      <td>76.69</td>\n",
       "      <td>87.81</td>\n",
       "      <td>81.87</td>\n",
       "      <td>90.99</td>\n",
       "      <td>82.18</td>\n",
       "      <td>86.36</td>\n",
       "    </tr>\n",
       "    <tr>\n",
       "      <th>0</th>\n",
       "      <td>83.90</td>\n",
       "      <td>0.92</td>\n",
       "      <td>ba-oc-6040-ro.xlsx</td>\n",
       "      <td>78.58</td>\n",
       "      <td>82.16</td>\n",
       "      <td>80.33</td>\n",
       "      <td>87.73</td>\n",
       "      <td>85.06</td>\n",
       "      <td>86.38</td>\n",
       "    </tr>\n",
       "    <tr>\n",
       "      <th>0</th>\n",
       "      <td>80.41</td>\n",
       "      <td>0.88</td>\n",
       "      <td>ba-oc-6040-rj.xlsx</td>\n",
       "      <td>72.61</td>\n",
       "      <td>81.95</td>\n",
       "      <td>77.00</td>\n",
       "      <td>86.84</td>\n",
       "      <td>79.39</td>\n",
       "      <td>82.95</td>\n",
       "    </tr>\n",
       "    <tr>\n",
       "      <th>0</th>\n",
       "      <td>81.86</td>\n",
       "      <td>0.87</td>\n",
       "      <td>ba-oc-6040-sc.xlsx</td>\n",
       "      <td>76.47</td>\n",
       "      <td>78.99</td>\n",
       "      <td>77.71</td>\n",
       "      <td>85.66</td>\n",
       "      <td>83.78</td>\n",
       "      <td>84.71</td>\n",
       "    </tr>\n",
       "    <tr>\n",
       "      <th>0</th>\n",
       "      <td>84.49</td>\n",
       "      <td>0.91</td>\n",
       "      <td>ba-oc-6040-ce.xlsx</td>\n",
       "      <td>78.35</td>\n",
       "      <td>84.51</td>\n",
       "      <td>81.31</td>\n",
       "      <td>89.13</td>\n",
       "      <td>84.47</td>\n",
       "      <td>86.74</td>\n",
       "    </tr>\n",
       "    <tr>\n",
       "      <th>0</th>\n",
       "      <td>76.42</td>\n",
       "      <td>0.79</td>\n",
       "      <td>ba-oc-6040-rs.xlsx</td>\n",
       "      <td>77.44</td>\n",
       "      <td>57.99</td>\n",
       "      <td>66.32</td>\n",
       "      <td>75.98</td>\n",
       "      <td>88.72</td>\n",
       "      <td>81.86</td>\n",
       "    </tr>\n",
       "    <tr>\n",
       "      <th>0</th>\n",
       "      <td>84.28</td>\n",
       "      <td>0.91</td>\n",
       "      <td>ba-oc-6040-to.xlsx</td>\n",
       "      <td>75.48</td>\n",
       "      <td>89.71</td>\n",
       "      <td>81.98</td>\n",
       "      <td>92.21</td>\n",
       "      <td>80.68</td>\n",
       "      <td>86.06</td>\n",
       "    </tr>\n",
       "    <tr>\n",
       "      <th>0</th>\n",
       "      <td>85.22</td>\n",
       "      <td>0.89</td>\n",
       "      <td>ba-oc-6040-mt.xlsx</td>\n",
       "      <td>81.54</td>\n",
       "      <td>81.54</td>\n",
       "      <td>81.54</td>\n",
       "      <td>87.67</td>\n",
       "      <td>87.67</td>\n",
       "      <td>87.67</td>\n",
       "    </tr>\n",
       "  </tbody>\n",
       "</table>\n",
       "</div>"
      ],
      "text/plain": [
       "   Acurácia   AUC                Base  Precisão (0)  Recall (0)  F1-Score (0)  \\\n",
       "0     81.67  0.88  ba-oc-6040-mg.xlsx         75.70       79.75         77.68   \n",
       "0     85.28  0.92  ba-oc-6040-ba.xlsx         78.52       87.01         82.54   \n",
       "0     84.43  0.92  ba-oc-6040-pa.xlsx         76.69       87.81         81.87   \n",
       "0     83.90  0.92  ba-oc-6040-ro.xlsx         78.58       82.16         80.33   \n",
       "0     80.41  0.88  ba-oc-6040-rj.xlsx         72.61       81.95         77.00   \n",
       "0     81.86  0.87  ba-oc-6040-sc.xlsx         76.47       78.99         77.71   \n",
       "0     84.49  0.91  ba-oc-6040-ce.xlsx         78.35       84.51         81.31   \n",
       "0     76.42  0.79  ba-oc-6040-rs.xlsx         77.44       57.99         66.32   \n",
       "0     84.28  0.91  ba-oc-6040-to.xlsx         75.48       89.71         81.98   \n",
       "0     85.22  0.89  ba-oc-6040-mt.xlsx         81.54       81.54         81.54   \n",
       "\n",
       "   Precisão (1)  Recall (1)  F1-Score (1)  \n",
       "0         86.01       82.95         84.45  \n",
       "0         90.66       84.13         87.28  \n",
       "0         90.99       82.18         86.36  \n",
       "0         87.73       85.06         86.38  \n",
       "0         86.84       79.39         82.95  \n",
       "0         85.66       83.78         84.71  \n",
       "0         89.13       84.47         86.74  \n",
       "0         75.98       88.72         81.86  \n",
       "0         92.21       80.68         86.06  \n",
       "0         87.67       87.67         87.67  "
      ]
     },
     "execution_count": 20,
     "metadata": {},
     "output_type": "execute_result"
    }
   ],
   "source": [
    "desempenhoDosModelos"
   ]
  },
  {
   "cell_type": "markdown",
   "id": "9a05ff64",
   "metadata": {},
   "source": [
    "### Calculando a média das Métricas"
   ]
  },
  {
   "cell_type": "code",
   "execution_count": 21,
   "id": "ba5d907c",
   "metadata": {},
   "outputs": [
    {
     "name": "stderr",
     "output_type": "stream",
     "text": [
      "/tmp/ipykernel_13789/1463340102.py:2: FutureWarning: Dropping of nuisance columns in DataFrame reductions (with 'numeric_only=None') is deprecated; in a future version this will raise TypeError.  Select only valid columns before calling the reduction.\n",
      "  media = desempenhoDosModelos.mean()\n"
     ]
    }
   ],
   "source": [
    "# Identificando a média \n",
    "media = desempenhoDosModelos.mean()\n",
    "\n",
    "# Inserindo as outras colunas\n",
    "# media['Modelo'] = \"-\"\n",
    "media['Base'] = 'Média dos Modelos'"
   ]
  },
  {
   "cell_type": "code",
   "execution_count": 22,
   "id": "fa2fbf64",
   "metadata": {},
   "outputs": [
    {
     "data": {
      "text/html": [
       "<div>\n",
       "<style scoped>\n",
       "    .dataframe tbody tr th:only-of-type {\n",
       "        vertical-align: middle;\n",
       "    }\n",
       "\n",
       "    .dataframe tbody tr th {\n",
       "        vertical-align: top;\n",
       "    }\n",
       "\n",
       "    .dataframe thead th {\n",
       "        text-align: right;\n",
       "    }\n",
       "</style>\n",
       "<table border=\"1\" class=\"dataframe\">\n",
       "  <thead>\n",
       "    <tr style=\"text-align: right;\">\n",
       "      <th></th>\n",
       "      <th>Acurácia</th>\n",
       "      <th>AUC</th>\n",
       "      <th>Base</th>\n",
       "      <th>Precisão (0)</th>\n",
       "      <th>Recall (0)</th>\n",
       "      <th>F1-Score (0)</th>\n",
       "      <th>Precisão (1)</th>\n",
       "      <th>Recall (1)</th>\n",
       "      <th>F1-Score (1)</th>\n",
       "    </tr>\n",
       "  </thead>\n",
       "  <tbody>\n",
       "    <tr>\n",
       "      <th>0</th>\n",
       "      <td>81.670</td>\n",
       "      <td>0.880</td>\n",
       "      <td>ba-oc-6040-mg.xlsx</td>\n",
       "      <td>75.700</td>\n",
       "      <td>79.750</td>\n",
       "      <td>77.680</td>\n",
       "      <td>86.010</td>\n",
       "      <td>82.950</td>\n",
       "      <td>84.450</td>\n",
       "    </tr>\n",
       "    <tr>\n",
       "      <th>1</th>\n",
       "      <td>85.280</td>\n",
       "      <td>0.920</td>\n",
       "      <td>ba-oc-6040-ba.xlsx</td>\n",
       "      <td>78.520</td>\n",
       "      <td>87.010</td>\n",
       "      <td>82.540</td>\n",
       "      <td>90.660</td>\n",
       "      <td>84.130</td>\n",
       "      <td>87.280</td>\n",
       "    </tr>\n",
       "    <tr>\n",
       "      <th>2</th>\n",
       "      <td>84.430</td>\n",
       "      <td>0.920</td>\n",
       "      <td>ba-oc-6040-pa.xlsx</td>\n",
       "      <td>76.690</td>\n",
       "      <td>87.810</td>\n",
       "      <td>81.870</td>\n",
       "      <td>90.990</td>\n",
       "      <td>82.180</td>\n",
       "      <td>86.360</td>\n",
       "    </tr>\n",
       "    <tr>\n",
       "      <th>3</th>\n",
       "      <td>83.900</td>\n",
       "      <td>0.920</td>\n",
       "      <td>ba-oc-6040-ro.xlsx</td>\n",
       "      <td>78.580</td>\n",
       "      <td>82.160</td>\n",
       "      <td>80.330</td>\n",
       "      <td>87.730</td>\n",
       "      <td>85.060</td>\n",
       "      <td>86.380</td>\n",
       "    </tr>\n",
       "    <tr>\n",
       "      <th>4</th>\n",
       "      <td>80.410</td>\n",
       "      <td>0.880</td>\n",
       "      <td>ba-oc-6040-rj.xlsx</td>\n",
       "      <td>72.610</td>\n",
       "      <td>81.950</td>\n",
       "      <td>77.000</td>\n",
       "      <td>86.840</td>\n",
       "      <td>79.390</td>\n",
       "      <td>82.950</td>\n",
       "    </tr>\n",
       "    <tr>\n",
       "      <th>5</th>\n",
       "      <td>81.860</td>\n",
       "      <td>0.870</td>\n",
       "      <td>ba-oc-6040-sc.xlsx</td>\n",
       "      <td>76.470</td>\n",
       "      <td>78.990</td>\n",
       "      <td>77.710</td>\n",
       "      <td>85.660</td>\n",
       "      <td>83.780</td>\n",
       "      <td>84.710</td>\n",
       "    </tr>\n",
       "    <tr>\n",
       "      <th>6</th>\n",
       "      <td>84.490</td>\n",
       "      <td>0.910</td>\n",
       "      <td>ba-oc-6040-ce.xlsx</td>\n",
       "      <td>78.350</td>\n",
       "      <td>84.510</td>\n",
       "      <td>81.310</td>\n",
       "      <td>89.130</td>\n",
       "      <td>84.470</td>\n",
       "      <td>86.740</td>\n",
       "    </tr>\n",
       "    <tr>\n",
       "      <th>7</th>\n",
       "      <td>76.420</td>\n",
       "      <td>0.790</td>\n",
       "      <td>ba-oc-6040-rs.xlsx</td>\n",
       "      <td>77.440</td>\n",
       "      <td>57.990</td>\n",
       "      <td>66.320</td>\n",
       "      <td>75.980</td>\n",
       "      <td>88.720</td>\n",
       "      <td>81.860</td>\n",
       "    </tr>\n",
       "    <tr>\n",
       "      <th>8</th>\n",
       "      <td>84.280</td>\n",
       "      <td>0.910</td>\n",
       "      <td>ba-oc-6040-to.xlsx</td>\n",
       "      <td>75.480</td>\n",
       "      <td>89.710</td>\n",
       "      <td>81.980</td>\n",
       "      <td>92.210</td>\n",
       "      <td>80.680</td>\n",
       "      <td>86.060</td>\n",
       "    </tr>\n",
       "    <tr>\n",
       "      <th>9</th>\n",
       "      <td>85.220</td>\n",
       "      <td>0.890</td>\n",
       "      <td>ba-oc-6040-mt.xlsx</td>\n",
       "      <td>81.540</td>\n",
       "      <td>81.540</td>\n",
       "      <td>81.540</td>\n",
       "      <td>87.670</td>\n",
       "      <td>87.670</td>\n",
       "      <td>87.670</td>\n",
       "    </tr>\n",
       "    <tr>\n",
       "      <th>10</th>\n",
       "      <td>82.796</td>\n",
       "      <td>0.889</td>\n",
       "      <td>Média dos Modelos</td>\n",
       "      <td>77.138</td>\n",
       "      <td>81.142</td>\n",
       "      <td>78.828</td>\n",
       "      <td>87.288</td>\n",
       "      <td>83.903</td>\n",
       "      <td>85.446</td>\n",
       "    </tr>\n",
       "  </tbody>\n",
       "</table>\n",
       "</div>"
      ],
      "text/plain": [
       "    Acurácia    AUC                Base  Precisão (0)  Recall (0)  \\\n",
       "0     81.670  0.880  ba-oc-6040-mg.xlsx        75.700      79.750   \n",
       "1     85.280  0.920  ba-oc-6040-ba.xlsx        78.520      87.010   \n",
       "2     84.430  0.920  ba-oc-6040-pa.xlsx        76.690      87.810   \n",
       "3     83.900  0.920  ba-oc-6040-ro.xlsx        78.580      82.160   \n",
       "4     80.410  0.880  ba-oc-6040-rj.xlsx        72.610      81.950   \n",
       "5     81.860  0.870  ba-oc-6040-sc.xlsx        76.470      78.990   \n",
       "6     84.490  0.910  ba-oc-6040-ce.xlsx        78.350      84.510   \n",
       "7     76.420  0.790  ba-oc-6040-rs.xlsx        77.440      57.990   \n",
       "8     84.280  0.910  ba-oc-6040-to.xlsx        75.480      89.710   \n",
       "9     85.220  0.890  ba-oc-6040-mt.xlsx        81.540      81.540   \n",
       "10    82.796  0.889   Média dos Modelos        77.138      81.142   \n",
       "\n",
       "    F1-Score (0)  Precisão (1)  Recall (1)  F1-Score (1)  \n",
       "0         77.680        86.010      82.950        84.450  \n",
       "1         82.540        90.660      84.130        87.280  \n",
       "2         81.870        90.990      82.180        86.360  \n",
       "3         80.330        87.730      85.060        86.380  \n",
       "4         77.000        86.840      79.390        82.950  \n",
       "5         77.710        85.660      83.780        84.710  \n",
       "6         81.310        89.130      84.470        86.740  \n",
       "7         66.320        75.980      88.720        81.860  \n",
       "8         81.980        92.210      80.680        86.060  \n",
       "9         81.540        87.670      87.670        87.670  \n",
       "10        78.828        87.288      83.903        85.446  "
      ]
     },
     "execution_count": 22,
     "metadata": {},
     "output_type": "execute_result"
    }
   ],
   "source": [
    "# Adicionando a média dos valores\n",
    "desempenhoDosModelos = desempenhoDosModelos.append(media, ignore_index=True)\n",
    "desempenhoDosModelos"
   ]
  },
  {
   "cell_type": "code",
   "execution_count": 23,
   "id": "3c43e2f7",
   "metadata": {
    "scrolled": true
   },
   "outputs": [],
   "source": [
    "# Convertendo series para dict\n",
    "# media_dict = pd.Series(media.values, index=media.keys).to_dict()"
   ]
  },
  {
   "cell_type": "markdown",
   "id": "311f10d0",
   "metadata": {},
   "source": [
    "### Salvando o Desempenho"
   ]
  },
  {
   "cell_type": "code",
   "execution_count": 25,
   "id": "235e6a96",
   "metadata": {},
   "outputs": [],
   "source": [
    "mf.salvarBaseDeDados(desempenhoDosModelos, 'validacao-modelo-reduzido-oc.xlsx')"
   ]
  },
  {
   "cell_type": "code",
   "execution_count": null,
   "id": "17fc4b04",
   "metadata": {},
   "outputs": [],
   "source": []
  }
 ],
 "metadata": {
  "kernelspec": {
   "display_name": "Python 3 (ipykernel)",
   "language": "python",
   "name": "python3"
  },
  "language_info": {
   "codemirror_mode": {
    "name": "ipython",
    "version": 3
   },
   "file_extension": ".py",
   "mimetype": "text/x-python",
   "name": "python",
   "nbconvert_exporter": "python",
   "pygments_lexer": "ipython3",
   "version": "3.8.10"
  }
 },
 "nbformat": 4,
 "nbformat_minor": 5
}
