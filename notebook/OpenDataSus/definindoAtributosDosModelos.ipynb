{
 "cells": [
  {
   "cell_type": "code",
   "execution_count": null,
   "id": "76b172e7",
   "metadata": {},
   "outputs": [],
   "source": [
    "# !pip install --upgrade pip\n",
    "# !pip install shap\n",
    "#!pip install scikit-learn==0.23.2\n",
    "#!pip install shap==0.39.0"
   ]
  },
  {
   "cell_type": "code",
   "execution_count": null,
   "id": "14416589",
   "metadata": {},
   "outputs": [],
   "source": [
    "import pandas as pd\n",
    "import numpy as np\n",
    "\n",
    "import shap\n",
    "import import_ipynb\n",
    "import preprocessamentofuncoes as pp\n",
    "\n",
    "from sklearn.model_selection import train_test_split\n",
    "from sklearn import metrics\n",
    "from sklearn.linear_model import LogisticRegression\n",
    "from sklearn.ensemble import GradientBoostingClassifier"
   ]
  },
  {
   "cell_type": "code",
   "execution_count": null,
   "id": "20a72780",
   "metadata": {},
   "outputs": [],
   "source": [
    "#print(shap.__version__)"
   ]
  },
  {
   "cell_type": "markdown",
   "id": "2feafcca",
   "metadata": {},
   "source": [
    "### Carregando a base"
   ]
  },
  {
   "cell_type": "code",
   "execution_count": null,
   "id": "8ac44176",
   "metadata": {},
   "outputs": [],
   "source": [
    "#'PreProcessamento/balanceadas/IC/ba-ic-6040-sp.xlsx',\n",
    "#'PreProcessamento/balanceadas/IC/ba-ic-7030-sp.xlsx',\n",
    "#'PreProcessamento/balanceadas/Smote/sm-ic-6040-sp.xlsx',\n",
    "#'PreProcessamento/balanceadas/Smote/sm-ic-7030-sp.xlsx',\n",
    "\n",
    "\n",
    "url_base = 'PreProcessamento/balanceadas/Smote/sm-ic-7030-sp.xlsx'\n",
    "covidData = pd.read_excel(url_base)"
   ]
  },
  {
   "cell_type": "code",
   "execution_count": null,
   "id": "c25df5b0",
   "metadata": {},
   "outputs": [],
   "source": [
    "#covidData['evolucaoCaso'].value_counts()\n",
    "#covidData.shape\n",
    "covidData['evolucaoCaso'] = covidData['evolucaoCaso'].map({2:1, 1:0})"
   ]
  },
  {
   "cell_type": "code",
   "execution_count": null,
   "id": "d01bccc5",
   "metadata": {},
   "outputs": [],
   "source": [
    "covidData['evolucaoCaso'].value_counts()"
   ]
  },
  {
   "cell_type": "code",
   "execution_count": null,
   "id": "ea92f4f7",
   "metadata": {},
   "outputs": [],
   "source": [
    "# colunasRemovidas = ['dataPrimeiraDose', 'dataSegundaDose', 'disturbiosGustatorios', 'disturbiosOlfativos', \n",
    "#                     'puerpera', 'respiratoria', 'tosse', 'febre', 'assintomatico', 'obesidade']\n",
    "\n",
    "# covidDataReduced = covidData.drop(columns = colunasRemovidas)\n",
    "# covidDataReduced.shape"
   ]
  },
  {
   "cell_type": "markdown",
   "id": "d0bae12c",
   "metadata": {},
   "source": [
    "### Modelo OC - Removendo as colunas não utilizadas"
   ]
  },
  {
   "cell_type": "code",
   "execution_count": null,
   "id": "aa8010b9",
   "metadata": {},
   "outputs": [],
   "source": [
    "# Modelo OC\n",
    "\n",
    "# Menos de 0.1% de Importância (25 Atributos)\n",
    "# colunasRemovidas = ['assintomatico', 'asma', 'cefaleia', 'tosse', 'diarreia', \n",
    "#                     'dorNoPeito', 'hipotireoidismo', 'imunossupressao', 'puerpera', \n",
    "#                     'disturbiosGustatorios', 'disturbiosOlfativos', 'bronquite', \n",
    "#                     'dosNasCostas', 'gestante']\n",
    "\n",
    "# Menos de 1% de Importância (10 Atributos)\n",
    "# colunasRemovidas = ['assintomatico', 'asma', 'cefaleia', 'tosse', 'diarreia', \n",
    "#                     'dorNoPeito', 'hipotireoidismo', 'imunossupressao', 'puerpera', \n",
    "#                     'disturbiosGustatorios', 'disturbiosOlfativos', 'bronquite', \n",
    "#                     'dosNasCostas', 'gestante', 'respiratoria', 'sexo', 'febre', \n",
    "#                     'mialgia', 'cardiaca', 'hipertensao', 'diasSintomas', \n",
    "#                     'faltaDeAr', 'racaCor', 'congestaoNasal', 'renal', 'dorNoCorpo', \n",
    "#                     'vomito', 'fragilidadeImuno', 'cansaco']\n",
    "\n",
    "colunasSelecionadas = ['evolucaoCaso', 'faixaDiasSintomas', 'dorDeGarganta', 'dispneia', \n",
    "                       'coriza','dorDeCabeca', 'sexo', 'obesidade', 'qntVacinas', 'faixaetaria']\n",
    "\n",
    "# covidDataReduced = covidData.drop(columns = colunasRemovidas)\n",
    "# covidDataReduced.shape\n",
    "\n",
    "covidDataReduced = covidData[colunasSelecionadas]\n",
    "covidDataReduced.shape"
   ]
  },
  {
   "cell_type": "markdown",
   "id": "f2c893b9",
   "metadata": {},
   "source": [
    "### Modelo IC - Removendo as colunas não utilizadas"
   ]
  },
  {
   "cell_type": "code",
   "execution_count": null,
   "id": "3e80ea2a",
   "metadata": {},
   "outputs": [],
   "source": [
    "# Modelo IC\n",
    "\n",
    "# Menos de 1% de Importância (17 Atributos)\n",
    "# colunasRemovidas = ['racaCor', 'dosNasCostas', 'dorNoCorpo', 'cefaleia', \n",
    "#                     'febre', 'diarreia', 'cardiaca', 'respiratoria', \n",
    "#                     'congestaoNasal', 'cansaco', 'mialgia', 'fragilidadeImuno', \n",
    "#                     'tosse', 'dorNoPeito', 'asma', 'disturbiosOlfativos', 'faltaDeAr', \n",
    "#                     'puerpera', 'disturbiosGustatorios', 'bronquite', 'hipotireoidismo', \n",
    "#                     'vomito', 'diasSintomas', 'assintomatico']\n",
    "\n",
    "# Menos de 2% de Importância (10 Atributos)\n",
    "# colunasRemovidas = ['racaCor', 'dosNasCostas', 'dorNoCorpo', 'cefaleia', \n",
    "#                     'febre', 'diarreia', 'cardiaca', 'respiratoria', \n",
    "#                     'congestaoNasal', 'cansaco', 'mialgia', 'fragilidadeImuno', \n",
    "#                     'tosse', 'dorNoPeito', 'asma', 'disturbiosOlfativos', 'faltaDeAr', \n",
    "#                     'puerpera', 'disturbiosGustatorios', 'bronquite', 'hipotireoidismo', \n",
    "#                     'vomito', 'qntVacinas', 'imunossupressao', 'assintomatico', 'gestante', \n",
    "#                     'renal', 'hipertensao', 'faixaDiasSintomas']\n",
    "\n",
    "# colunasSelecionadas = ['faixaetaria', 'dispneia', 'dorDeGarganta', 'dorDeCabeca', 'coriza', \n",
    "#                        'diabetes', 'obesidade', 'sexo', 'qntVacinas', 'imunossupressao', \n",
    "#                        'assintomatico', 'gestante', 'renal', 'hipertensao', 'faixaDiasSintomas']\n",
    "\n",
    "#covidDataReduced = covidData.drop(columns = colunasRemovidas)\n",
    "#covidDataReduced.shape"
   ]
  },
  {
   "cell_type": "code",
   "execution_count": null,
   "id": "59d1093e",
   "metadata": {},
   "outputs": [],
   "source": [
    "covidDataReduced = covidData\n",
    "covidDataReduced.shape"
   ]
  },
  {
   "cell_type": "markdown",
   "id": "fcd4505c",
   "metadata": {},
   "source": [
    "### Avaliando o desempenho do modelo"
   ]
  },
  {
   "cell_type": "code",
   "execution_count": null,
   "id": "4142dae5",
   "metadata": {},
   "outputs": [],
   "source": [
    "hiperparametrosLR = LogisticRegression(C=1.0, class_weight=None, dual=False, fit_intercept=True, \n",
    "                                       intercept_scaling=1, l1_ratio=None, max_iter=1000, multi_class='auto', \n",
    "                                       n_jobs=None, penalty='l2', random_state=1340, solver='lbfgs', \n",
    "                                       tol=0.0001, verbose=0, warm_start=False)\n",
    "\n",
    "hiperparametrosGB = GradientBoostingClassifier(ccp_alpha=0.0, criterion='friedman_mse', init=None,\n",
    "                           learning_rate=0.1, loss='deviance', max_depth=3,\n",
    "                           max_features=None, max_leaf_nodes=None,\n",
    "                           min_impurity_decrease=0.0, min_impurity_split=None,\n",
    "                           min_samples_leaf=1, min_samples_split=2,\n",
    "                           min_weight_fraction_leaf=0.0, n_estimators=100,\n",
    "                           n_iter_no_change=None, \n",
    "                           random_state=2333, subsample=1.0, tol=0.0001,\n",
    "                           validation_fraction=0.1, verbose=0,\n",
    "                           warm_start=False)"
   ]
  },
  {
   "cell_type": "markdown",
   "id": "9780890a",
   "metadata": {},
   "source": [
    "### Treinamento e Teste"
   ]
  },
  {
   "cell_type": "code",
   "execution_count": null,
   "id": "15791da7",
   "metadata": {},
   "outputs": [],
   "source": [
    "baseModelo = covidDataReduced\n",
    "alvo = 'evolucaoCaso'\n",
    "x_train, x_test, y_train, y_test = train_test_split(baseModelo.drop(alvo,axis=1),\n",
    "                                                    baseModelo[alvo],\n",
    "                                                    test_size=0.3,\n",
    "                                                    random_state=42);"
   ]
  },
  {
   "cell_type": "code",
   "execution_count": null,
   "id": "7fb075b3",
   "metadata": {},
   "outputs": [],
   "source": [
    "# Fit nos dados\n",
    "modeloClassificador = hiperparametrosGB\n",
    "modeloClassificador.fit(x_train, y_train)\n",
    "\n",
    "#Realizando a predição\n",
    "resultadoTeste = modeloClassificador.predict(x_test)\n",
    "\n",
    "# Verificando a acurácia\n",
    "print(metrics.classification_report(y_test,resultadoTeste))"
   ]
  },
  {
   "cell_type": "markdown",
   "id": "7707174b",
   "metadata": {},
   "source": [
    "### Verificando a importância dos atributos (Feature Importances)"
   ]
  },
  {
   "cell_type": "code",
   "execution_count": null,
   "id": "f7c656d1",
   "metadata": {},
   "outputs": [],
   "source": [
    "feature_importances = pd.DataFrame(modeloClassificador.feature_importances_,\n",
    "                                   index = x_train.columns,\n",
    "                                    columns=['importance']).sort_values('importance', ascending=False)\n",
    "feature_importances"
   ]
  },
  {
   "cell_type": "code",
   "execution_count": null,
   "id": "08547e61",
   "metadata": {},
   "outputs": [],
   "source": [
    "#feature_importances.index"
   ]
  },
  {
   "cell_type": "markdown",
   "id": "1fc25908",
   "metadata": {},
   "source": [
    "### Verificando a importância dos atributos (Shap Values)"
   ]
  },
  {
   "cell_type": "code",
   "execution_count": null,
   "id": "17ed84f7",
   "metadata": {},
   "outputs": [],
   "source": [
    "# Iniciando o visualizador de gráficos do shap\n",
    "shap.initjs()"
   ]
  },
  {
   "cell_type": "code",
   "execution_count": null,
   "id": "6ec3f837",
   "metadata": {},
   "outputs": [],
   "source": [
    "# Criando o explainer a partir do classificador\n",
    "explainer = shap.Explainer(modeloClassificador)\n",
    "\n",
    "# Criando os valores shap a partir dos dados usados no treinamento\n",
    "# Duas matrizes, uma para cada classe\n",
    "shap_values = explainer(x_train)"
   ]
  },
  {
   "cell_type": "code",
   "execution_count": null,
   "id": "79d7135e",
   "metadata": {},
   "outputs": [],
   "source": [
    "# Explicação da predição do modelo\n",
    "shap.plots.force(shap_values[0])"
   ]
  },
  {
   "cell_type": "code",
   "execution_count": null,
   "id": "02328ad4",
   "metadata": {},
   "outputs": [],
   "source": [
    "# visualize all the training set predictions\n",
    "shap.plots.force(explainer.expected_value, shap_values.values)"
   ]
  },
  {
   "cell_type": "code",
   "execution_count": null,
   "id": "9e0839b0",
   "metadata": {},
   "outputs": [],
   "source": [
    "# faixaetaria - Quando o valor é baixo, a classificação tende a ser curada (1)\n",
    "# vacina - Quando o valor é alto, tende a ser curado\n",
    "\n",
    "shap.plots.beeswarm(shap_values)"
   ]
  },
  {
   "cell_type": "code",
   "execution_count": null,
   "id": "fc28aec4",
   "metadata": {},
   "outputs": [],
   "source": [
    "shap.plots.bar(shap_values)"
   ]
  },
  {
   "cell_type": "code",
   "execution_count": null,
   "id": "e951adef",
   "metadata": {},
   "outputs": [],
   "source": [
    "# import statsmodels.api as sm\n",
    "# X = x_train\n",
    "# idx = np.where(X.columns==\"diabetes\")[0][0]\n",
    "# x = X.iloc[:,idx]\n",
    "# y_sv = shap_values[:,idx]\n",
    "# lowess = sm.nonparametric.lowess(y_sv, x, frac=.3)\n",
    "\n",
    "# _,ax = plt.subplots()\n",
    "# ax.plot(*list(zip(*lowess)), color=\"red\")"
   ]
  },
  {
   "cell_type": "code",
   "execution_count": null,
   "id": "126882c6",
   "metadata": {},
   "outputs": [],
   "source": [
    "x_train.values[35]"
   ]
  },
  {
   "cell_type": "code",
   "execution_count": null,
   "id": "918ea360",
   "metadata": {},
   "outputs": [],
   "source": [
    "shap.dependence_plot('faixaetaria', shap_values, x_train.values, feature_names=x_train.columns)"
   ]
  },
  {
   "cell_type": "code",
   "execution_count": null,
   "id": "96811d9a",
   "metadata": {},
   "outputs": [],
   "source": []
  }
 ],
 "metadata": {
  "kernelspec": {
   "display_name": "Python 3 (ipykernel)",
   "language": "python",
   "name": "python3"
  },
  "language_info": {
   "codemirror_mode": {
    "name": "ipython",
    "version": 3
   },
   "file_extension": ".py",
   "mimetype": "text/x-python",
   "name": "python",
   "nbconvert_exporter": "python",
   "pygments_lexer": "ipython3",
   "version": "3.8.10"
  }
 },
 "nbformat": 4,
 "nbformat_minor": 5
}
