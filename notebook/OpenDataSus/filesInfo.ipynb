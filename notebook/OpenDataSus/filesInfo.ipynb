{
 "cells": [
  {
   "cell_type": "markdown",
   "id": "cbd92e3f",
   "metadata": {},
   "source": [
    "## Descrição de cada um dos arquivos\n",
    "\n",
    "-----------"
   ]
  },
  {
   "cell_type": "markdown",
   "id": "d300f4e2",
   "metadata": {},
   "source": [
    "#### definindoAtributosDosModelos.ipynb\n",
    "- Avaliação dos atributos das bases de dados\n",
    "- Utilização dos valores SHAP\n",
    "-------------"
   ]
  },
  {
   "cell_type": "markdown",
   "id": "3ce93672",
   "metadata": {},
   "source": [
    "#### avaliacaoDoModeloFinal.ipynb\n",
    "- Importação e avaliação do modelo\n",
    "- Valição dos resultados com outras bases\n",
    "-------------"
   ]
  },
  {
   "cell_type": "markdown",
   "id": "60e059d5",
   "metadata": {},
   "source": [
    "#### analisandoModelos\n",
    "- Escolhendo as bases a serem testadas\n",
    "- Avaliando o desempenho dos algoritmos"
   ]
  }
 ],
 "metadata": {
  "kernelspec": {
   "display_name": "Python 3 (ipykernel)",
   "language": "python",
   "name": "python3"
  },
  "language_info": {
   "codemirror_mode": {
    "name": "ipython",
    "version": 3
   },
   "file_extension": ".py",
   "mimetype": "text/x-python",
   "name": "python",
   "nbconvert_exporter": "python",
   "pygments_lexer": "ipython3",
   "version": "3.8.10"
  }
 },
 "nbformat": 4,
 "nbformat_minor": 5
}
