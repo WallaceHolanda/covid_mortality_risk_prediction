{
 "cells": [
  {
   "cell_type": "code",
   "execution_count": 1,
   "id": "1a65dc02",
   "metadata": {},
   "outputs": [],
   "source": [
    "import pandas as pd\n",
    "import numpy as np\n",
    "import matplotlib.pyplot as plt\n",
    "\n",
    "from sklearn.model_selection import train_test_split\n",
    "from sklearn.linear_model import LogisticRegression\n",
    "from sklearn.ensemble import AdaBoostClassifier\n",
    "from sklearn.ensemble import GradientBoostingClassifier\n",
    "from sklearn.ensemble import RandomForestClassifier\n",
    "from sklearn import metrics\n",
    "from sklearn.metrics import accuracy_score"
   ]
  },
  {
   "cell_type": "markdown",
   "id": "03efd870",
   "metadata": {},
   "source": [
    "### Definindo a Curva Roc"
   ]
  },
  {
   "cell_type": "code",
   "execution_count": null,
   "id": "7673fe53",
   "metadata": {},
   "outputs": [],
   "source": [
    "def plotarCurvaROC(title, modeloClassificador, base, alvo):\n",
    "    x_train, x_test, y_train, y_test = train_test_split(base.drop(alvo,axis=1),\n",
    "                                                        base[alvo],\n",
    "                                                        test_size=0.3,\n",
    "                                                        random_state=42);\n",
    "\n",
    "    # Fit nos dados\n",
    "    modeloClassificador.fit(x_train, y_train)\n",
    "\n",
    "    # Realizando a predição\n",
    "    resultadoTeste = modeloClassificador.predict(x_test)\n",
    "    \n",
    "    # Exibindo a Curva\n",
    "    exibirCurvaROC(title, modeloClassificador, x_test, y_test)"
   ]
  },
  {
   "cell_type": "code",
   "execution_count": null,
   "id": "b7926a5a",
   "metadata": {},
   "outputs": [],
   "source": [
    "def exibirCurvaROC(title, modeloClassificador, x_test, y_test):\n",
    "    y_preds = modeloClassificador.predict_proba(x_test)\n",
    "\n",
    "    # take the second column because the classifier outputs scores for the 0 class as well\n",
    "    preds = y_preds[:,1]\n",
    "\n",
    "    # fpr (false-positive-rate) e tpr (true-positive-rate)\n",
    "    fpr, tpr, _ = metrics.roc_curve(y_test, preds)\n",
    "\n",
    "    auc_score = metrics.auc(fpr, tpr)\n",
    "\n",
    "    # Construindo o Gráfico\n",
    "    plt.clf()\n",
    "    plt.title(title)\n",
    "    plt.plot(fpr, tpr, label='AUC = {:.2f}'.format(auc_score))\n",
    "    plt.plot([0,1],[0,1],'r--')\n",
    "\n",
    "    plt.xlim([-0.1,1.1])\n",
    "    plt.ylim([-0.1,1.1])\n",
    "    plt.ylabel('True Positive Rate')\n",
    "    plt.xlabel('False Positive Rate')\n",
    "\n",
    "    plt.legend(loc='lower right')\n",
    "    plt.show()"
   ]
  },
  {
   "cell_type": "code",
   "execution_count": null,
   "id": "5ecad120",
   "metadata": {},
   "outputs": [],
   "source": [
    "def valorCurvaROC(modeloClassificador, x_test, y_test):\n",
    "    y_preds = modeloClassificador.predict_proba(x_test)\n",
    "\n",
    "    # take the second column because the classifier outputs scores for the 0 class as well\n",
    "    preds = y_preds[:,1]\n",
    "\n",
    "    # fpr (false-positive-rate) e tpr (true-positive-rate)\n",
    "    fpr, tpr, _ = metrics.roc_curve(y_test, preds)\n",
    "\n",
    "    auc_score = metrics.auc(fpr, tpr)\n",
    "\n",
    "    # Construindo o Gráfico\n",
    "    return auc_score"
   ]
  },
  {
   "cell_type": "markdown",
   "id": "08e085d3",
   "metadata": {},
   "source": [
    "### Definindo os Modelos"
   ]
  },
  {
   "cell_type": "code",
   "execution_count": 2,
   "id": "75a77949",
   "metadata": {},
   "outputs": [],
   "source": [
    "hiperparametrosAB = AdaBoostClassifier(algorithm='SAMME.R', base_estimator=None, learning_rate=1.0, n_estimators=50, random_state=410)\n",
    "\n",
    "hiperparametrosRF = RandomForestClassifier(bootstrap=True, ccp_alpha=0.0, class_weight=None, \n",
    "                                           criterion='gini', max_depth=None, max_features='auto', \n",
    "                                           max_leaf_nodes=None, max_samples=None, \n",
    "                                           min_impurity_decrease=0.0,\n",
    "                                           min_samples_leaf=1, min_samples_split=2,\n",
    "                                           min_weight_fraction_leaf=0.0, n_estimators=100,\n",
    "                                           n_jobs=-1, oob_score=False, random_state=7374, verbose=0,\n",
    "                                           warm_start=False)\n",
    "\n",
    "hiperparametrosLR = LogisticRegression(C=1.0, class_weight=None, dual=False, fit_intercept=True, \n",
    "                                       intercept_scaling=1, l1_ratio=None, max_iter=1000, multi_class='auto', \n",
    "                                       n_jobs=None, penalty='l2', random_state=1340, solver='lbfgs', \n",
    "                                       tol=0.0001, verbose=0, warm_start=False)\n",
    "                    \n",
    "\n",
    "hiperparametrosGB = GradientBoostingClassifier(ccp_alpha=0.0, criterion='friedman_mse', init=None,\n",
    "                           learning_rate=0.1, loss='deviance', max_depth=3,\n",
    "                           max_features=None, max_leaf_nodes=None,\n",
    "                           min_impurity_decrease=0.0,\n",
    "                           min_samples_leaf=1, min_samples_split=2,\n",
    "                           min_weight_fraction_leaf=0.0, n_estimators=100,\n",
    "                           n_iter_no_change=None,\n",
    "                           random_state=2333, subsample=1.0, tol=0.0001,\n",
    "                           validation_fraction=0.1, verbose=0,\n",
    "                           warm_start=False)"
   ]
  },
  {
   "cell_type": "code",
   "execution_count": 3,
   "id": "1966b5e5",
   "metadata": {},
   "outputs": [],
   "source": [
    "modelos = {\n",
    "            \"AB\": hiperparametrosAB,\n",
    "            \"RF\": hiperparametrosRF,\n",
    "            \"LR\": hiperparametrosLR,\n",
    "            \"GB\": hiperparametrosGB,\n",
    "          }"
   ]
  },
  {
   "cell_type": "markdown",
   "id": "99755600",
   "metadata": {},
   "source": [
    "### Visualizando a curva ROC - Óbito / Curado"
   ]
  },
  {
   "cell_type": "code",
   "execution_count": null,
   "id": "2276eb5a",
   "metadata": {},
   "outputs": [],
   "source": [
    "# Carregando a Base de Dados\n",
    "#url = 'Vacinas/OC/oc-vacina-6040-sp.xlsx'\n",
    "url = 'PreProcessamento/balanceadas/OC/ba-oc-6040-sp.xlsx'\n",
    "alvo = 'evolucaoCaso'\n",
    "baseObitoCurado = pd.read_excel(url)"
   ]
  },
  {
   "cell_type": "code",
   "execution_count": null,
   "id": "9582f8f9",
   "metadata": {},
   "outputs": [],
   "source": [
    "# Selecionando os atributos\n",
    "# atributosSelecionados = ['faixaetaria', 'dispneia', 'qntVacinas', 'dorDeGarganta', \n",
    "#                          'coriza', 'diabetes', 'dorDeCabeca', 'cardiaca', 'evolucaoCaso']\n",
    "\n",
    "atributosSelecionados = ['evolucaoCaso', 'faixaDiasSintomas', 'dorDeGarganta', 'cardiaca', 'dispneia', \n",
    "                       'coriza','dorDeCabeca', 'obesidade', 'qntVacinas', 'faixaetaria']\n",
    "\n",
    "\n",
    "baseObitoCurado = baseObitoCurado.loc[:, atributosSelecionados]"
   ]
  },
  {
   "cell_type": "code",
   "execution_count": null,
   "id": "64d345c4",
   "metadata": {},
   "outputs": [],
   "source": [
    "# Curva ROC - Random Forest\n",
    "plotarCurvaROC('Curva ROC - RF', modelos[\"RF\"], baseObitoCurado, alvo)"
   ]
  },
  {
   "cell_type": "code",
   "execution_count": null,
   "id": "ee864e4f",
   "metadata": {},
   "outputs": [],
   "source": [
    "# Curva ROC - Ada Boost\n",
    "plotarCurvaROC('Curva ROC - AB', modelos[\"AB\"], baseObitoCurado, alvo)"
   ]
  },
  {
   "cell_type": "code",
   "execution_count": null,
   "id": "1bb3deee",
   "metadata": {},
   "outputs": [],
   "source": [
    "# Curva ROC - Regressão Logística\n",
    "plotarCurvaROC('Curva ROC - RL', modelos[\"LR\"], baseObitoCurado, alvo)"
   ]
  },
  {
   "cell_type": "code",
   "execution_count": null,
   "id": "f9601f7f",
   "metadata": {
    "scrolled": true
   },
   "outputs": [],
   "source": [
    "# Curva ROC - XGBoost\n",
    "plotarCurvaROC('Curva ROC - GB', modelos[\"GB\"], baseObitoCurado, alvo)"
   ]
  },
  {
   "cell_type": "markdown",
   "id": "c7ff7973",
   "metadata": {},
   "source": [
    "### Visualizando a curva ROC - Óbito / Curado"
   ]
  },
  {
   "cell_type": "code",
   "execution_count": null,
   "id": "8af09e1f",
   "metadata": {},
   "outputs": [],
   "source": [
    "# Carregando a Base de Dados\n",
    "# urlIC = 'Vacinas/Regioes/IC/ic-vacina-6040-sudeste.xlsx'\n",
    "urlIC = 'PreProcessamento/balanceadas/Regioes/ba-ic-6040-sudeste.xlsx'\n",
    "alvo = 'evolucaoCaso'\n",
    "baseInternadoCurado = pd.read_excel(urlIC)\n",
    "baseInternadoCurado['evolucaoCaso'].value_counts()"
   ]
  },
  {
   "cell_type": "code",
   "execution_count": null,
   "id": "2687836c",
   "metadata": {},
   "outputs": [],
   "source": [
    "# # Definindo os atributos removidos\n",
    "# colunasRemovidas = ['dataPrimeiraDose', 'dataSegundaDose', 'disturbiosGustatorios', 'disturbiosOlfativos', \n",
    "#                     'puerpera', 'respiratoria', 'tosse', 'febre', 'assintomatico', 'obesidade']\n",
    "\n",
    "# baseInternadoCurado = baseInternadoCurado.drop(columns = colunasRemovidas)"
   ]
  },
  {
   "cell_type": "code",
   "execution_count": null,
   "id": "b34ac7a5",
   "metadata": {},
   "outputs": [],
   "source": [
    "atributosSelecionados = ['faixaetaria', 'dispneia', 'dorDeGarganta', 'dorDeCabeca', 'coriza', \n",
    "                       'diabetes', 'obesidade', 'sexo', 'qntVacinas', 'imunossupressao', \n",
    "                       'assintomatico', 'gestante', 'renal', 'hipertensao', 'faixaDiasSintomas', 'evolucaoCaso']\n",
    "\n",
    "baseInternadoCurado = baseInternadoCurado.loc[:, atributosSelecionados]"
   ]
  },
  {
   "cell_type": "code",
   "execution_count": null,
   "id": "1befc82c",
   "metadata": {},
   "outputs": [],
   "source": [
    "# Convertendo os valores internado (2 -> 0)\n",
    "baseInternadoCurado['evolucaoCaso'] = baseInternadoCurado['evolucaoCaso'].replace([1, 2], [1, 0])\n",
    "baseInternadoCurado['evolucaoCaso'].value_counts()"
   ]
  },
  {
   "cell_type": "code",
   "execution_count": null,
   "id": "4c12dfa9",
   "metadata": {},
   "outputs": [],
   "source": [
    "# # Curva ROC - RF\n",
    "# plotarCurvaROC('Curva ROC - RF', modelos[\"RF\"], baseInternadoCurado, alvo)\n",
    "\n",
    "# # Curva ROC - AB\n",
    "# plotarCurvaROC('Curva ROC - AB', modelos[\"AB\"], baseInternadoCurado, alvo)\n",
    "\n",
    "# # Curva ROC - LR\n",
    "# plotarCurvaROC('Curva ROC - RL', modelos[\"LR\"], baseInternadoCurado, alvo)\n",
    "\n",
    "# # Curva ROC - GB\n",
    "# plotarCurvaROC('Curva ROC - GB', modelos[\"GB\"], baseInternadoCurado, alvo)"
   ]
  },
  {
   "cell_type": "code",
   "execution_count": null,
   "id": "ce7179b2",
   "metadata": {},
   "outputs": [],
   "source": [
    "# balanced_and_smote_oc = {'OC 60/40': 'PreProcessamento/balanceadas/OC/ba-oc-6040-sp.xlsx', \n",
    "#                       'OC 70/30': 'PreProcessamento/balanceadas/OC/ba-oc-7030-sp.xlsx',\n",
    "#                       'Smote OC 60/40': 'PreProcessamento/balanceadas/Smote/sm-oc-6040-sp.xlsx',\n",
    "#                       'Smote OC 70/30': 'PreProcessamento/balanceadas/Smote/sm-oc-7030-sp.xlsx',\n",
    "#                      }\n",
    "\n",
    "# balanced_and_smote_ic = {'IC 60/40': 'PreProcessamento/balanceadas/IC/ba-ic-6040-sp.xlsx',\n",
    "#                          'IC 70/30': 'PreProcessamento/balanceadas/IC/ba-ic-7030-sp.xlsx',\n",
    "#                          'Smote IC 60/40': 'PreProcessamento/balanceadas/Smote/sm-ic-6040-sp.xlsx',\n",
    "#                          'Smote IC 70/30': 'PreProcessamento/balanceadas/Smote/sm-ic-7030-sp.xlsx',\n",
    "#                         }"
   ]
  },
  {
   "cell_type": "markdown",
   "id": "15c49a27",
   "metadata": {},
   "source": [
    "## Múltiplas Curvas ROC"
   ]
  },
  {
   "cell_type": "code",
   "execution_count": 73,
   "id": "8e3d6168",
   "metadata": {},
   "outputs": [],
   "source": [
    "url = 'PreProcessamento/balanceadas/Smote/sm-ic-7030-sp.xlsx'\n",
    "alvo = 'evolucaoCaso'\n",
    "\n",
    "base = pd.read_excel(url)"
   ]
  },
  {
   "cell_type": "code",
   "execution_count": 74,
   "id": "80306ad9",
   "metadata": {},
   "outputs": [
    {
     "data": {
      "text/plain": [
       "(3392, 12)"
      ]
     },
     "execution_count": 74,
     "metadata": {},
     "output_type": "execute_result"
    }
   ],
   "source": [
    "# (Modelo OC)\n",
    "# atributosSelecionados = ['faixaetaria', 'dispneia', 'qntVacinas', 'coriza', 'dorDeGarganta', \n",
    "#                        'dorDeCabeca', 'obesidade', 'diabetes', 'faixaDiasSintomas', 'evolucaoCaso']\n",
    "\n",
    "# (Modelo IC)\n",
    "atributosSelecionados = ['faixaetaria', 'dorDeCabeca', 'dorDeGarganta', 'renal', 'dispneia', 'diabetes',  \n",
    "                       'tosse', 'qntVacinas', 'faixaDiasSintomas', 'coriza', 'febre', 'evolucaoCaso']\n",
    "\n",
    "base = base.loc[:, atributosSelecionados]\n",
    "base.shape"
   ]
  },
  {
   "cell_type": "markdown",
   "id": "d03834d7",
   "metadata": {},
   "source": [
    "### Treinando os Classificadores"
   ]
  },
  {
   "cell_type": "code",
   "execution_count": 75,
   "id": "b276a83a",
   "metadata": {},
   "outputs": [],
   "source": [
    "x_train, x_test, y_train, y_test = train_test_split(base.drop(alvo,axis=1),\n",
    "                                                        base[alvo],\n",
    "                                                        test_size=0.3,\n",
    "                                                        random_state=42);"
   ]
  },
  {
   "cell_type": "code",
   "execution_count": 76,
   "id": "50b78043",
   "metadata": {},
   "outputs": [
    {
     "data": {
      "text/plain": [
       "GradientBoostingClassifier(random_state=2333)"
      ]
     },
     "execution_count": 76,
     "metadata": {},
     "output_type": "execute_result"
    }
   ],
   "source": [
    "classifier1 = modelos[\"AB\"]\n",
    "classifier1.fit(x_train, y_train)\n",
    "\n",
    "classifier2 = modelos[\"RF\"]\n",
    "classifier2.fit(x_train, y_train)\n",
    "\n",
    "classifier3 = modelos[\"LR\"]\n",
    "classifier3.fit(x_train, y_train)\n",
    "\n",
    "classifier4 = modelos[\"GB\"]\n",
    "classifier4.fit(x_train, y_train)"
   ]
  },
  {
   "cell_type": "markdown",
   "id": "e54ef161",
   "metadata": {},
   "source": [
    "### Plotando as Curvas"
   ]
  },
  {
   "cell_type": "code",
   "execution_count": 77,
   "id": "4ed21b62",
   "metadata": {},
   "outputs": [
    {
     "data": {
      "text/plain": [
       "<matplotlib.legend.Legend at 0x7f75a5ff6d00>"
      ]
     },
     "execution_count": 77,
     "metadata": {},
     "output_type": "execute_result"
    },
    {
     "data": {
      "image/png": "[encoded data removed]",
      "text/plain": [
       "<Figure size 432x288 with 1 Axes>"
      ]
     },
     "metadata": {
      "needs_background": "light"
     },
     "output_type": "display_data"
    }
   ],
   "source": [
    "plt.figure(0).clf()\n",
    "\n",
    "y_pred = classifier1.predict_proba(x_test)[:, 1]\n",
    "fpr, tpr, _ = metrics.roc_curve(y_test, y_pred)\n",
    "auc = round(metrics.roc_auc_score(y_test, y_pred), 2)\n",
    "plt.plot(fpr, tpr, label=\"AB, AUC=\"+str(auc))\n",
    "\n",
    "y_pred = classifier2.predict_proba(x_test)[:, 1]\n",
    "fpr, tpr, _ = metrics.roc_curve(y_test, y_pred)\n",
    "auc = round(metrics.roc_auc_score(y_test, y_pred), 2)\n",
    "plt.plot(fpr, tpr, label = \"RF, AUC=\" + str(auc))\n",
    "\n",
    "y_pred = classifier3.predict_proba(x_test)[:, 1]\n",
    "fpr, tpr, _ = metrics.roc_curve(y_test, y_pred)\n",
    "auc = round(metrics.roc_auc_score(y_test, y_pred), 2)\n",
    "plt.plot(fpr, tpr, label = \"LR, AUC=\" + str(auc))\n",
    "\n",
    "y_pred = classifier3.predict_proba(x_test)[:, 1]\n",
    "fpr, tpr, _ = metrics.roc_curve(y_test, y_pred)\n",
    "auc = round(metrics.roc_auc_score(y_test, y_pred), 2)\n",
    "plt.plot(fpr, tpr, label = \"XG, AUC=\" + str(auc))\n",
    "\n",
    "plt.title('AUC - 70/30 + SMOTE')\n",
    "plt.legend(bbox_to_anchor=(1,0), loc=\"lower right\")"
   ]
  },
  {
   "cell_type": "code",
   "execution_count": null,
   "id": "6644c14c",
   "metadata": {},
   "outputs": [],
   "source": []
  }
 ],
 "metadata": {
  "kernelspec": {
   "display_name": "Python 3 (ipykernel)",
   "language": "python",
   "name": "python3"
  },
  "language_info": {
   "codemirror_mode": {
    "name": "ipython",
    "version": 3
   },
   "file_extension": ".py",
   "mimetype": "text/x-python",
   "name": "python",
   "nbconvert_exporter": "python",
   "pygments_lexer": "ipython3",
   "version": "3.8.10"
  }
 },
 "nbformat": 4,
 "nbformat_minor": 5
}
