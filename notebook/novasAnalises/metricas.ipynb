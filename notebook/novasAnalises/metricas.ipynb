{
 "cells": [
  {
   "cell_type": "markdown",
   "id": "32e5e8a6",
   "metadata": {},
   "source": [
    "## Kappa (Análise de Concordância)\n",
    "\n",
    "#### Método estatístico para avaliar o nível de concordância ou reprodutibilidade entre dois conjuntos de dados.\n",
    "\n",
    "#### * Kappa < 0, não existe concordância\n",
    "#### * 0.81 <= Kappa <= 1.0, concordância perfeita\n",
    "\n",
    "#### * Para acurácias menores que 0.50 não existe concordância\n",
    "#### * Para acurácias maiores que 0.70 a concordância é razoável ou melhor.\n"
   ]
  },
  {
   "cell_type": "markdown",
   "id": "38c5c388",
   "metadata": {},
   "source": [
    "## MCC (Coeficiente de Correlação de Matthews)\n",
    "#### Sua função é medir a diferença entre os valores previstos e os valores reais e é equivalente à estatística qui-quadrado\n",
    "\n",
    "#### * Quando o classificador é perfeito (FP = FN = 0) o valor de MCC é 1\n",
    "#### * Quando o classificador sempre classifica mal (TP = TN = 0), obtemos um valor de -1\n",
    "#### * O valor MCC está sempre entre -1 e 1"
   ]
  },
  {
   "cell_type": "markdown",
   "id": "55080c59",
   "metadata": {},
   "source": [
    "https://scikit-learn.org/stable/auto_examples/model_selection/plot_roc.html"
   ]
  },
  {
   "cell_type": "code",
   "execution_count": null,
   "id": "b1bf344a",
   "metadata": {},
   "outputs": [],
   "source": []
  }
 ],
 "metadata": {
  "kernelspec": {
   "display_name": "Python 3 (ipykernel)",
   "language": "python",
   "name": "python3"
  },
  "language_info": {
   "codemirror_mode": {
    "name": "ipython",
    "version": 3
   },
   "file_extension": ".py",
   "mimetype": "text/x-python",
   "name": "python",
   "nbconvert_exporter": "python",
   "pygments_lexer": "ipython3",
   "version": "3.8.10"
  }
 },
 "nbformat": 4,
 "nbformat_minor": 5
}
