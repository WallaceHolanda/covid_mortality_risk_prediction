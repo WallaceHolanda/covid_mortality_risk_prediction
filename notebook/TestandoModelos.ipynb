{
 "cells": [
  {
   "cell_type": "code",
   "execution_count": 1,
   "metadata": {
    "executionInfo": {
     "elapsed": 1311,
     "status": "ok",
     "timestamp": 1607110506483,
     "user": {
      "displayName": "WALLACE DUARTE DE HOLANDA",
      "photoUrl": "https://lh3.googleusercontent.com/a-/AOh14GgeWMOt53non50jDB5bIAwurrZleD5e6T7yfR9w=s64",
      "userId": "03474631865123362594"
     },
     "user_tz": 180
    },
    "id": "NkgS3ea87PZt"
   },
   "outputs": [],
   "source": [
    "# Importando as bibliotecas\n",
    "import pandas as pd\n",
    "from sklearn import tree;\n",
    "from sklearn.model_selection import train_test_split"
   ]
  },
  {
   "cell_type": "code",
   "execution_count": 2,
   "metadata": {
    "colab": {
     "base_uri": "https://localhost:8080/",
     "height": 224
    },
    "executionInfo": {
     "elapsed": 695,
     "status": "ok",
     "timestamp": 1607110993624,
     "user": {
      "displayName": "WALLACE DUARTE DE HOLANDA",
      "photoUrl": "https://lh3.googleusercontent.com/a-/AOh14GgeWMOt53non50jDB5bIAwurrZleD5e6T7yfR9w=s64",
      "userId": "03474631865123362594"
     },
     "user_tz": 180
    },
    "id": "p4tjH3S-7f26",
    "outputId": "18a2903a-ccab-4bc4-90d7-3a479c9e76fa"
   },
   "outputs": [
    {
     "data": {
      "text/html": [
       "<div>\n",
       "<style scoped>\n",
       "    .dataframe tbody tr th:only-of-type {\n",
       "        vertical-align: middle;\n",
       "    }\n",
       "\n",
       "    .dataframe tbody tr th {\n",
       "        vertical-align: top;\n",
       "    }\n",
       "\n",
       "    .dataframe thead th {\n",
       "        text-align: right;\n",
       "    }\n",
       "</style>\n",
       "<table border=\"1\" class=\"dataframe\">\n",
       "  <thead>\n",
       "    <tr style=\"text-align: right;\">\n",
       "      <th></th>\n",
       "      <th>NU_IDADE_N</th>\n",
       "      <th>CS_RACA</th>\n",
       "      <th>FEBRE</th>\n",
       "      <th>TOSSE</th>\n",
       "      <th>GARGANTA</th>\n",
       "      <th>QNT_DIAS</th>\n",
       "      <th>DISPNEIA</th>\n",
       "      <th>DESC_RESP</th>\n",
       "      <th>FATOR_RISC</th>\n",
       "      <th>SATURACAO</th>\n",
       "      <th>DIARREIA</th>\n",
       "      <th>VOMITO</th>\n",
       "      <th>OBESIDADE</th>\n",
       "      <th>UTI</th>\n",
       "      <th>SUPORT_VEN</th>\n",
       "      <th>EVOLUCAO</th>\n",
       "    </tr>\n",
       "  </thead>\n",
       "  <tbody>\n",
       "    <tr>\n",
       "      <th>0</th>\n",
       "      <td>4</td>\n",
       "      <td>4</td>\n",
       "      <td>1</td>\n",
       "      <td>1</td>\n",
       "      <td>1</td>\n",
       "      <td>4</td>\n",
       "      <td>1</td>\n",
       "      <td>1</td>\n",
       "      <td>1</td>\n",
       "      <td>1</td>\n",
       "      <td>2</td>\n",
       "      <td>2</td>\n",
       "      <td>2</td>\n",
       "      <td>1</td>\n",
       "      <td>2</td>\n",
       "      <td>1</td>\n",
       "    </tr>\n",
       "    <tr>\n",
       "      <th>1</th>\n",
       "      <td>5</td>\n",
       "      <td>4</td>\n",
       "      <td>1</td>\n",
       "      <td>1</td>\n",
       "      <td>1</td>\n",
       "      <td>1</td>\n",
       "      <td>1</td>\n",
       "      <td>1</td>\n",
       "      <td>1</td>\n",
       "      <td>1</td>\n",
       "      <td>2</td>\n",
       "      <td>2</td>\n",
       "      <td>2</td>\n",
       "      <td>2</td>\n",
       "      <td>2</td>\n",
       "      <td>1</td>\n",
       "    </tr>\n",
       "    <tr>\n",
       "      <th>2</th>\n",
       "      <td>4</td>\n",
       "      <td>4</td>\n",
       "      <td>1</td>\n",
       "      <td>1</td>\n",
       "      <td>2</td>\n",
       "      <td>1</td>\n",
       "      <td>1</td>\n",
       "      <td>1</td>\n",
       "      <td>2</td>\n",
       "      <td>1</td>\n",
       "      <td>1</td>\n",
       "      <td>2</td>\n",
       "      <td>2</td>\n",
       "      <td>2</td>\n",
       "      <td>1</td>\n",
       "      <td>2</td>\n",
       "    </tr>\n",
       "    <tr>\n",
       "      <th>3</th>\n",
       "      <td>4</td>\n",
       "      <td>4</td>\n",
       "      <td>1</td>\n",
       "      <td>1</td>\n",
       "      <td>2</td>\n",
       "      <td>2</td>\n",
       "      <td>1</td>\n",
       "      <td>1</td>\n",
       "      <td>1</td>\n",
       "      <td>1</td>\n",
       "      <td>2</td>\n",
       "      <td>2</td>\n",
       "      <td>2</td>\n",
       "      <td>1</td>\n",
       "      <td>1</td>\n",
       "      <td>2</td>\n",
       "    </tr>\n",
       "    <tr>\n",
       "      <th>4</th>\n",
       "      <td>5</td>\n",
       "      <td>4</td>\n",
       "      <td>1</td>\n",
       "      <td>1</td>\n",
       "      <td>2</td>\n",
       "      <td>1</td>\n",
       "      <td>1</td>\n",
       "      <td>1</td>\n",
       "      <td>2</td>\n",
       "      <td>1</td>\n",
       "      <td>2</td>\n",
       "      <td>2</td>\n",
       "      <td>2</td>\n",
       "      <td>2</td>\n",
       "      <td>2</td>\n",
       "      <td>1</td>\n",
       "    </tr>\n",
       "  </tbody>\n",
       "</table>\n",
       "</div>"
      ],
      "text/plain": [
       "   NU_IDADE_N  CS_RACA  FEBRE  TOSSE  GARGANTA  QNT_DIAS  DISPNEIA  DESC_RESP  \\\n",
       "0           4        4      1      1         1         4         1          1   \n",
       "1           5        4      1      1         1         1         1          1   \n",
       "2           4        4      1      1         2         1         1          1   \n",
       "3           4        4      1      1         2         2         1          1   \n",
       "4           5        4      1      1         2         1         1          1   \n",
       "\n",
       "   FATOR_RISC  SATURACAO  DIARREIA  VOMITO  OBESIDADE  UTI  SUPORT_VEN  \\\n",
       "0           1          1         2       2          2    1           2   \n",
       "1           1          1         2       2          2    2           2   \n",
       "2           2          1         1       2          2    2           1   \n",
       "3           1          1         2       2          2    1           1   \n",
       "4           2          1         2       2          2    2           2   \n",
       "\n",
       "   EVOLUCAO  \n",
       "0         1  \n",
       "1         1  \n",
       "2         2  \n",
       "3         2  \n",
       "4         1  "
      ]
     },
     "execution_count": 2,
     "metadata": {},
     "output_type": "execute_result"
    }
   ],
   "source": [
    "covidData = pd.read_excel(\"../database/dados-preprocessados-novos-organizados.xlsx\")\n",
    "covidData.head()"
   ]
  },
  {
   "cell_type": "code",
   "execution_count": 3,
   "metadata": {},
   "outputs": [
    {
     "data": {
      "text/html": [
       "<div>\n",
       "<style scoped>\n",
       "    .dataframe tbody tr th:only-of-type {\n",
       "        vertical-align: middle;\n",
       "    }\n",
       "\n",
       "    .dataframe tbody tr th {\n",
       "        vertical-align: top;\n",
       "    }\n",
       "\n",
       "    .dataframe thead th {\n",
       "        text-align: right;\n",
       "    }\n",
       "</style>\n",
       "<table border=\"1\" class=\"dataframe\">\n",
       "  <thead>\n",
       "    <tr style=\"text-align: right;\">\n",
       "      <th></th>\n",
       "      <th>NU_IDADE_N</th>\n",
       "      <th>CS_RACA</th>\n",
       "      <th>FEBRE</th>\n",
       "      <th>TOSSE</th>\n",
       "      <th>GARGANTA</th>\n",
       "      <th>QNT_DIAS</th>\n",
       "      <th>DISPNEIA</th>\n",
       "      <th>DESC_RESP</th>\n",
       "      <th>FATOR_RISC</th>\n",
       "      <th>SATURACAO</th>\n",
       "      <th>DIARREIA</th>\n",
       "      <th>VOMITO</th>\n",
       "      <th>OBESIDADE</th>\n",
       "      <th>UTI</th>\n",
       "      <th>SUPORT_VEN</th>\n",
       "      <th>EVOLUCAO</th>\n",
       "    </tr>\n",
       "  </thead>\n",
       "  <tbody>\n",
       "    <tr>\n",
       "      <th>0</th>\n",
       "      <td>4</td>\n",
       "      <td>4</td>\n",
       "      <td>1</td>\n",
       "      <td>1</td>\n",
       "      <td>1</td>\n",
       "      <td>4</td>\n",
       "      <td>1</td>\n",
       "      <td>1</td>\n",
       "      <td>1</td>\n",
       "      <td>1</td>\n",
       "      <td>2</td>\n",
       "      <td>2</td>\n",
       "      <td>2</td>\n",
       "      <td>1</td>\n",
       "      <td>2</td>\n",
       "      <td>0</td>\n",
       "    </tr>\n",
       "    <tr>\n",
       "      <th>1</th>\n",
       "      <td>5</td>\n",
       "      <td>4</td>\n",
       "      <td>1</td>\n",
       "      <td>1</td>\n",
       "      <td>1</td>\n",
       "      <td>1</td>\n",
       "      <td>1</td>\n",
       "      <td>1</td>\n",
       "      <td>1</td>\n",
       "      <td>1</td>\n",
       "      <td>2</td>\n",
       "      <td>2</td>\n",
       "      <td>2</td>\n",
       "      <td>2</td>\n",
       "      <td>2</td>\n",
       "      <td>0</td>\n",
       "    </tr>\n",
       "    <tr>\n",
       "      <th>2</th>\n",
       "      <td>4</td>\n",
       "      <td>4</td>\n",
       "      <td>1</td>\n",
       "      <td>1</td>\n",
       "      <td>2</td>\n",
       "      <td>1</td>\n",
       "      <td>1</td>\n",
       "      <td>1</td>\n",
       "      <td>2</td>\n",
       "      <td>1</td>\n",
       "      <td>1</td>\n",
       "      <td>2</td>\n",
       "      <td>2</td>\n",
       "      <td>2</td>\n",
       "      <td>1</td>\n",
       "      <td>1</td>\n",
       "    </tr>\n",
       "    <tr>\n",
       "      <th>3</th>\n",
       "      <td>4</td>\n",
       "      <td>4</td>\n",
       "      <td>1</td>\n",
       "      <td>1</td>\n",
       "      <td>2</td>\n",
       "      <td>2</td>\n",
       "      <td>1</td>\n",
       "      <td>1</td>\n",
       "      <td>1</td>\n",
       "      <td>1</td>\n",
       "      <td>2</td>\n",
       "      <td>2</td>\n",
       "      <td>2</td>\n",
       "      <td>1</td>\n",
       "      <td>1</td>\n",
       "      <td>1</td>\n",
       "    </tr>\n",
       "    <tr>\n",
       "      <th>4</th>\n",
       "      <td>5</td>\n",
       "      <td>4</td>\n",
       "      <td>1</td>\n",
       "      <td>1</td>\n",
       "      <td>2</td>\n",
       "      <td>1</td>\n",
       "      <td>1</td>\n",
       "      <td>1</td>\n",
       "      <td>2</td>\n",
       "      <td>1</td>\n",
       "      <td>2</td>\n",
       "      <td>2</td>\n",
       "      <td>2</td>\n",
       "      <td>2</td>\n",
       "      <td>2</td>\n",
       "      <td>0</td>\n",
       "    </tr>\n",
       "  </tbody>\n",
       "</table>\n",
       "</div>"
      ],
      "text/plain": [
       "   NU_IDADE_N  CS_RACA  FEBRE  TOSSE  GARGANTA  QNT_DIAS  DISPNEIA  DESC_RESP  \\\n",
       "0           4        4      1      1         1         4         1          1   \n",
       "1           5        4      1      1         1         1         1          1   \n",
       "2           4        4      1      1         2         1         1          1   \n",
       "3           4        4      1      1         2         2         1          1   \n",
       "4           5        4      1      1         2         1         1          1   \n",
       "\n",
       "   FATOR_RISC  SATURACAO  DIARREIA  VOMITO  OBESIDADE  UTI  SUPORT_VEN  \\\n",
       "0           1          1         2       2          2    1           2   \n",
       "1           1          1         2       2          2    2           2   \n",
       "2           2          1         1       2          2    2           1   \n",
       "3           1          1         2       2          2    1           1   \n",
       "4           2          1         2       2          2    2           2   \n",
       "\n",
       "   EVOLUCAO  \n",
       "0         0  \n",
       "1         0  \n",
       "2         1  \n",
       "3         1  \n",
       "4         0  "
      ]
     },
     "execution_count": 3,
     "metadata": {},
     "output_type": "execute_result"
    }
   ],
   "source": [
    "# Trocando os valores de evolução 1  -> 0 (curado); 2 -> 1 (óbito)\n",
    "evolucao_valores = {1:0, 2:1}\n",
    "\n",
    "covidData['EVOLUCAO'] = covidData['EVOLUCAO'].map(evolucao_valores)\n",
    "\n",
    "#attributes = [\"NU_IDADE_N\", \"CS_RACA\", \"FEBRE\", \"TOSSE\", \"GARGANTA\", \"QNT_DIAS\", \"DISPNEIA\", \"DESC_RESP\", \"FATOR_RISC\", \n",
    "#               \"SATURACAO\", \"DIARREIA\",\"VOMITO\", \"OBESIDADE\", \"UTI\", \"SUPORT_VEN\", \"EVOLUCAO\"]\n",
    "\n",
    "#covidData = covidData[attributes]\n",
    "covidData.head()"
   ]
  },
  {
   "cell_type": "code",
   "execution_count": 5,
   "metadata": {
    "colab": {
     "base_uri": "https://localhost:8080/",
     "height": 224
    },
    "executionInfo": {
     "elapsed": 855,
     "status": "ok",
     "timestamp": 1607111101617,
     "user": {
      "displayName": "WALLACE DUARTE DE HOLANDA",
      "photoUrl": "https://lh3.googleusercontent.com/a-/AOh14GgeWMOt53non50jDB5bIAwurrZleD5e6T7yfR9w=s64",
      "userId": "03474631865123362594"
     },
     "user_tz": 180
    },
    "id": "DIy3D9Ubwd4l",
    "outputId": "011bc843-a62b-42ec-df87-9533af6f2362"
   },
   "outputs": [],
   "source": [
    "#attributes = [\"NU_IDADE_N\", \"CS_RACA\", \"FEBRE\", \"TOSSE\", \"GARGANTA\", \"QNT_DIAS\", \"DISPNEIA\", \"DESC_RESP\", \"FATOR_RISC\", \n",
    "#               \"SATURACAO\", \"DIARREIA\",\"VOMITO\", \"OBESIDADE\", \"UTI\", \"SUPORT_VEN\", \"EVOLUCAO\"]\n",
    "#covidData.drop(columns=['FATOR_RISC'], inplace = True)\n",
    "#covidData.head()"
   ]
  },
  {
   "cell_type": "markdown",
   "metadata": {},
   "source": [
    "# Aplicando o PCA"
   ]
  },
  {
   "cell_type": "code",
   "execution_count": 110,
   "metadata": {},
   "outputs": [],
   "source": [
    "from sklearn.decomposition import PCA\n",
    "from sklearn.preprocessing import StandardScaler\n",
    "\n",
    "x = covidData.drop(columns=['EVOLUCAO'], inplace = False)\n",
    "\n",
    "x = StandardScaler().fit_transform(x)\n"
   ]
  },
  {
   "cell_type": "code",
   "execution_count": 112,
   "metadata": {},
   "outputs": [
    {
     "data": {
      "text/html": [
       "<div>\n",
       "<style scoped>\n",
       "    .dataframe tbody tr th:only-of-type {\n",
       "        vertical-align: middle;\n",
       "    }\n",
       "\n",
       "    .dataframe tbody tr th {\n",
       "        vertical-align: top;\n",
       "    }\n",
       "\n",
       "    .dataframe thead th {\n",
       "        text-align: right;\n",
       "    }\n",
       "</style>\n",
       "<table border=\"1\" class=\"dataframe\">\n",
       "  <thead>\n",
       "    <tr style=\"text-align: right;\">\n",
       "      <th></th>\n",
       "      <th>PC1</th>\n",
       "      <th>PC2</th>\n",
       "      <th>PC3</th>\n",
       "      <th>PC4</th>\n",
       "      <th>PC5</th>\n",
       "      <th>PC6</th>\n",
       "      <th>PC7</th>\n",
       "      <th>PC8</th>\n",
       "      <th>PC9</th>\n",
       "      <th>PC10</th>\n",
       "      <th>PC11</th>\n",
       "      <th>PC12</th>\n",
       "      <th>PC13</th>\n",
       "    </tr>\n",
       "  </thead>\n",
       "  <tbody>\n",
       "    <tr>\n",
       "      <th>0</th>\n",
       "      <td>-1.828928</td>\n",
       "      <td>-0.869096</td>\n",
       "      <td>1.122837</td>\n",
       "      <td>-0.455836</td>\n",
       "      <td>-0.085615</td>\n",
       "      <td>0.959222</td>\n",
       "      <td>-0.009339</td>\n",
       "      <td>0.524570</td>\n",
       "      <td>0.138848</td>\n",
       "      <td>0.566827</td>\n",
       "      <td>-0.459496</td>\n",
       "      <td>0.403662</td>\n",
       "      <td>0.011834</td>\n",
       "    </tr>\n",
       "    <tr>\n",
       "      <th>1</th>\n",
       "      <td>-1.630747</td>\n",
       "      <td>0.376140</td>\n",
       "      <td>-0.442482</td>\n",
       "      <td>0.894236</td>\n",
       "      <td>0.349870</td>\n",
       "      <td>0.167390</td>\n",
       "      <td>-0.592239</td>\n",
       "      <td>-0.426566</td>\n",
       "      <td>0.375516</td>\n",
       "      <td>0.144432</td>\n",
       "      <td>-0.065381</td>\n",
       "      <td>0.215443</td>\n",
       "      <td>0.070714</td>\n",
       "    </tr>\n",
       "    <tr>\n",
       "      <th>2</th>\n",
       "      <td>-1.663902</td>\n",
       "      <td>1.303686</td>\n",
       "      <td>-0.981353</td>\n",
       "      <td>-0.988004</td>\n",
       "      <td>-0.066478</td>\n",
       "      <td>0.362695</td>\n",
       "      <td>-0.184976</td>\n",
       "      <td>-0.593723</td>\n",
       "      <td>0.100909</td>\n",
       "      <td>0.140629</td>\n",
       "      <td>0.713633</td>\n",
       "      <td>-0.277646</td>\n",
       "      <td>0.059385</td>\n",
       "    </tr>\n",
       "    <tr>\n",
       "      <th>3</th>\n",
       "      <td>-1.708409</td>\n",
       "      <td>-0.601199</td>\n",
       "      <td>0.258571</td>\n",
       "      <td>-0.361334</td>\n",
       "      <td>0.008403</td>\n",
       "      <td>0.429916</td>\n",
       "      <td>-0.329834</td>\n",
       "      <td>-0.427448</td>\n",
       "      <td>-0.213322</td>\n",
       "      <td>0.025614</td>\n",
       "      <td>-0.773854</td>\n",
       "      <td>0.109037</td>\n",
       "      <td>-0.076466</td>\n",
       "    </tr>\n",
       "    <tr>\n",
       "      <th>4</th>\n",
       "      <td>-1.422633</td>\n",
       "      <td>1.186133</td>\n",
       "      <td>-0.954997</td>\n",
       "      <td>-0.385775</td>\n",
       "      <td>-0.161961</td>\n",
       "      <td>0.465056</td>\n",
       "      <td>-0.351087</td>\n",
       "      <td>-0.166432</td>\n",
       "      <td>0.262601</td>\n",
       "      <td>-0.249773</td>\n",
       "      <td>1.157436</td>\n",
       "      <td>-0.262514</td>\n",
       "      <td>0.173847</td>\n",
       "    </tr>\n",
       "    <tr>\n",
       "      <th>...</th>\n",
       "      <td>...</td>\n",
       "      <td>...</td>\n",
       "      <td>...</td>\n",
       "      <td>...</td>\n",
       "      <td>...</td>\n",
       "      <td>...</td>\n",
       "      <td>...</td>\n",
       "      <td>...</td>\n",
       "      <td>...</td>\n",
       "      <td>...</td>\n",
       "      <td>...</td>\n",
       "      <td>...</td>\n",
       "      <td>...</td>\n",
       "    </tr>\n",
       "    <tr>\n",
       "      <th>769</th>\n",
       "      <td>-1.390143</td>\n",
       "      <td>2.053920</td>\n",
       "      <td>-1.173188</td>\n",
       "      <td>-0.977781</td>\n",
       "      <td>0.334528</td>\n",
       "      <td>0.073427</td>\n",
       "      <td>-0.023617</td>\n",
       "      <td>-0.252843</td>\n",
       "      <td>-0.260114</td>\n",
       "      <td>-0.241018</td>\n",
       "      <td>0.049972</td>\n",
       "      <td>-0.333369</td>\n",
       "      <td>0.159938</td>\n",
       "    </tr>\n",
       "    <tr>\n",
       "      <th>770</th>\n",
       "      <td>-1.460198</td>\n",
       "      <td>-1.259102</td>\n",
       "      <td>-0.000462</td>\n",
       "      <td>1.092274</td>\n",
       "      <td>-1.020590</td>\n",
       "      <td>-0.202774</td>\n",
       "      <td>1.036892</td>\n",
       "      <td>-0.125093</td>\n",
       "      <td>0.053397</td>\n",
       "      <td>-0.413512</td>\n",
       "      <td>0.261152</td>\n",
       "      <td>0.104969</td>\n",
       "      <td>-0.049869</td>\n",
       "    </tr>\n",
       "    <tr>\n",
       "      <th>771</th>\n",
       "      <td>1.053471</td>\n",
       "      <td>-1.595506</td>\n",
       "      <td>0.290521</td>\n",
       "      <td>-0.781088</td>\n",
       "      <td>-0.297356</td>\n",
       "      <td>-0.196277</td>\n",
       "      <td>-1.410218</td>\n",
       "      <td>0.860387</td>\n",
       "      <td>0.930334</td>\n",
       "      <td>-0.145703</td>\n",
       "      <td>-0.496721</td>\n",
       "      <td>0.275977</td>\n",
       "      <td>-0.110795</td>\n",
       "    </tr>\n",
       "    <tr>\n",
       "      <th>772</th>\n",
       "      <td>2.749284</td>\n",
       "      <td>-0.811410</td>\n",
       "      <td>-2.201801</td>\n",
       "      <td>-0.149383</td>\n",
       "      <td>2.297809</td>\n",
       "      <td>0.229094</td>\n",
       "      <td>0.376966</td>\n",
       "      <td>0.430719</td>\n",
       "      <td>-0.569498</td>\n",
       "      <td>0.677442</td>\n",
       "      <td>-0.529407</td>\n",
       "      <td>0.993754</td>\n",
       "      <td>0.058057</td>\n",
       "    </tr>\n",
       "    <tr>\n",
       "      <th>773</th>\n",
       "      <td>-1.777455</td>\n",
       "      <td>0.971918</td>\n",
       "      <td>-0.367124</td>\n",
       "      <td>0.185828</td>\n",
       "      <td>0.917831</td>\n",
       "      <td>0.197128</td>\n",
       "      <td>0.094857</td>\n",
       "      <td>-0.389025</td>\n",
       "      <td>-0.135527</td>\n",
       "      <td>0.522872</td>\n",
       "      <td>-0.905599</td>\n",
       "      <td>0.490906</td>\n",
       "      <td>-0.006661</td>\n",
       "    </tr>\n",
       "  </tbody>\n",
       "</table>\n",
       "<p>774 rows × 13 columns</p>\n",
       "</div>"
      ],
      "text/plain": [
       "          PC1       PC2       PC3       PC4       PC5       PC6       PC7  \\\n",
       "0   -1.828928 -0.869096  1.122837 -0.455836 -0.085615  0.959222 -0.009339   \n",
       "1   -1.630747  0.376140 -0.442482  0.894236  0.349870  0.167390 -0.592239   \n",
       "2   -1.663902  1.303686 -0.981353 -0.988004 -0.066478  0.362695 -0.184976   \n",
       "3   -1.708409 -0.601199  0.258571 -0.361334  0.008403  0.429916 -0.329834   \n",
       "4   -1.422633  1.186133 -0.954997 -0.385775 -0.161961  0.465056 -0.351087   \n",
       "..        ...       ...       ...       ...       ...       ...       ...   \n",
       "769 -1.390143  2.053920 -1.173188 -0.977781  0.334528  0.073427 -0.023617   \n",
       "770 -1.460198 -1.259102 -0.000462  1.092274 -1.020590 -0.202774  1.036892   \n",
       "771  1.053471 -1.595506  0.290521 -0.781088 -0.297356 -0.196277 -1.410218   \n",
       "772  2.749284 -0.811410 -2.201801 -0.149383  2.297809  0.229094  0.376966   \n",
       "773 -1.777455  0.971918 -0.367124  0.185828  0.917831  0.197128  0.094857   \n",
       "\n",
       "          PC8       PC9      PC10      PC11      PC12      PC13  \n",
       "0    0.524570  0.138848  0.566827 -0.459496  0.403662  0.011834  \n",
       "1   -0.426566  0.375516  0.144432 -0.065381  0.215443  0.070714  \n",
       "2   -0.593723  0.100909  0.140629  0.713633 -0.277646  0.059385  \n",
       "3   -0.427448 -0.213322  0.025614 -0.773854  0.109037 -0.076466  \n",
       "4   -0.166432  0.262601 -0.249773  1.157436 -0.262514  0.173847  \n",
       "..        ...       ...       ...       ...       ...       ...  \n",
       "769 -0.252843 -0.260114 -0.241018  0.049972 -0.333369  0.159938  \n",
       "770 -0.125093  0.053397 -0.413512  0.261152  0.104969 -0.049869  \n",
       "771  0.860387  0.930334 -0.145703 -0.496721  0.275977 -0.110795  \n",
       "772  0.430719 -0.569498  0.677442 -0.529407  0.993754  0.058057  \n",
       "773 -0.389025 -0.135527  0.522872 -0.905599  0.490906 -0.006661  \n",
       "\n",
       "[774 rows x 13 columns]"
      ]
     },
     "execution_count": 112,
     "metadata": {},
     "output_type": "execute_result"
    }
   ],
   "source": [
    "pca = PCA (n_components = 13)\n",
    "\n",
    "principalComponents = pca.fit_transform(x)\n",
    "\n",
    "principalDf = pd.DataFrame(data = principalComponents\n",
    "             , columns = ['PC1', 'PC2', 'PC3', 'PC4', 'PC5', 'PC6', 'PC7', 'PC8', 'PC9', 'PC10', \n",
    "                          'PC11', 'PC12', 'PC13'])\n",
    "principalDf"
   ]
  },
  {
   "cell_type": "markdown",
   "metadata": {},
   "source": [
    "# Transformando os dados - Dummies"
   ]
  },
  {
   "cell_type": "code",
   "execution_count": 93,
   "metadata": {
    "collapsed": true,
    "executionInfo": {
     "elapsed": 687,
     "status": "ok",
     "timestamp": 1607111105094,
     "user": {
      "displayName": "WALLACE DUARTE DE HOLANDA",
      "photoUrl": "https://lh3.googleusercontent.com/a-/AOh14GgeWMOt53non50jDB5bIAwurrZleD5e6T7yfR9w=s64",
      "userId": "03474631865123362594"
     },
     "user_tz": 180
    },
    "id": "O6qnZEGM9ylU"
   },
   "outputs": [
    {
     "ename": "ValueError",
     "evalue": "Length of 'prefix' (18) did not match the length of the columns being encoded (0).",
     "output_type": "error",
     "traceback": [
      "\u001b[1;31m---------------------------------------------------------------------------\u001b[0m",
      "\u001b[1;31mValueError\u001b[0m                                Traceback (most recent call last)",
      "\u001b[1;32m<ipython-input-93-bc704597bb3c>\u001b[0m in \u001b[0;36m<module>\u001b[1;34m\u001b[0m\n\u001b[0;32m      2\u001b[0m covidTrain = pd.get_dummies(covidData, prefix=[\"NU_IDADE_N\", \"CS_RACA\", \"SURTO_SG\", \"FEBRE\", \"TOSSE\", \"GARGANTA\", \n\u001b[0;32m      3\u001b[0m                                                \u001b[1;34m\"DISPNEIA\"\u001b[0m\u001b[1;33m,\u001b[0m \u001b[1;34m\"CS_SEXO     \"\u001b[0m\u001b[1;33m,\u001b[0m \u001b[1;34m\"DESC_RESP\"\u001b[0m\u001b[1;33m,\u001b[0m \u001b[1;34m\"SATURACAO\"\u001b[0m\u001b[1;33m,\u001b[0m \u001b[1;34m\"DIARREIA\"\u001b[0m\u001b[1;33m,\u001b[0m\u001b[1;34m\"VOMITO\"\u001b[0m\u001b[1;33m,\u001b[0m \u001b[1;34m\"CARDIOPATI\"\u001b[0m\u001b[1;33m,\u001b[0m\u001b[1;33m\u001b[0m\u001b[1;33m\u001b[0m\u001b[0m\n\u001b[1;32m----> 4\u001b[1;33m                                                \"DIABETES\", \"PNEUMOPATI\", \"OBESIDADE\", \"UTI\", \"SUPORT_VEN\"])\n\u001b[0m\u001b[0;32m      5\u001b[0m \u001b[1;33m\u001b[0m\u001b[0m\n\u001b[0;32m      6\u001b[0m \u001b[1;31m#covidTrain = pd.get_dummies(covidData, prefix=[\"NU_IDADE_N\", \"CS_RACA\", \"SURTO_SG\", \"FEBRE\", \"TOSSE\", \"GARGANTA\",\u001b[0m\u001b[1;33m\u001b[0m\u001b[1;33m\u001b[0m\u001b[1;33m\u001b[0m\u001b[0m\n",
      "\u001b[1;32m~\\anaconda3\\lib\\site-packages\\pandas\\core\\reshape\\reshape.py\u001b[0m in \u001b[0;36mget_dummies\u001b[1;34m(data, prefix, prefix_sep, dummy_na, columns, sparse, drop_first, dtype)\u001b[0m\n\u001b[0;32m    882\u001b[0m                     \u001b[1;32mraise\u001b[0m \u001b[0mValueError\u001b[0m\u001b[1;33m(\u001b[0m\u001b[0mlen_msg\u001b[0m\u001b[1;33m)\u001b[0m\u001b[1;33m\u001b[0m\u001b[1;33m\u001b[0m\u001b[0m\n\u001b[0;32m    883\u001b[0m \u001b[1;33m\u001b[0m\u001b[0m\n\u001b[1;32m--> 884\u001b[1;33m         \u001b[0mcheck_len\u001b[0m\u001b[1;33m(\u001b[0m\u001b[0mprefix\u001b[0m\u001b[1;33m,\u001b[0m \u001b[1;34m\"prefix\"\u001b[0m\u001b[1;33m)\u001b[0m\u001b[1;33m\u001b[0m\u001b[1;33m\u001b[0m\u001b[0m\n\u001b[0m\u001b[0;32m    885\u001b[0m         \u001b[0mcheck_len\u001b[0m\u001b[1;33m(\u001b[0m\u001b[0mprefix_sep\u001b[0m\u001b[1;33m,\u001b[0m \u001b[1;34m\"prefix_sep\"\u001b[0m\u001b[1;33m)\u001b[0m\u001b[1;33m\u001b[0m\u001b[1;33m\u001b[0m\u001b[0m\n\u001b[0;32m    886\u001b[0m \u001b[1;33m\u001b[0m\u001b[0m\n",
      "\u001b[1;32m~\\anaconda3\\lib\\site-packages\\pandas\\core\\reshape\\reshape.py\u001b[0m in \u001b[0;36mcheck_len\u001b[1;34m(item, name)\u001b[0m\n\u001b[0;32m    880\u001b[0m                         \u001b[0mname\u001b[0m\u001b[1;33m=\u001b[0m\u001b[0mname\u001b[0m\u001b[1;33m,\u001b[0m \u001b[0mlen_item\u001b[0m\u001b[1;33m=\u001b[0m\u001b[0mlen\u001b[0m\u001b[1;33m(\u001b[0m\u001b[0mitem\u001b[0m\u001b[1;33m)\u001b[0m\u001b[1;33m,\u001b[0m \u001b[0mlen_enc\u001b[0m\u001b[1;33m=\u001b[0m\u001b[0mdata_to_encode\u001b[0m\u001b[1;33m.\u001b[0m\u001b[0mshape\u001b[0m\u001b[1;33m[\u001b[0m\u001b[1;36m1\u001b[0m\u001b[1;33m]\u001b[0m\u001b[1;33m\u001b[0m\u001b[1;33m\u001b[0m\u001b[0m\n\u001b[0;32m    881\u001b[0m                     )\n\u001b[1;32m--> 882\u001b[1;33m                     \u001b[1;32mraise\u001b[0m \u001b[0mValueError\u001b[0m\u001b[1;33m(\u001b[0m\u001b[0mlen_msg\u001b[0m\u001b[1;33m)\u001b[0m\u001b[1;33m\u001b[0m\u001b[1;33m\u001b[0m\u001b[0m\n\u001b[0m\u001b[0;32m    883\u001b[0m \u001b[1;33m\u001b[0m\u001b[0m\n\u001b[0;32m    884\u001b[0m         \u001b[0mcheck_len\u001b[0m\u001b[1;33m(\u001b[0m\u001b[0mprefix\u001b[0m\u001b[1;33m,\u001b[0m \u001b[1;34m\"prefix\"\u001b[0m\u001b[1;33m)\u001b[0m\u001b[1;33m\u001b[0m\u001b[1;33m\u001b[0m\u001b[0m\n",
      "\u001b[1;31mValueError\u001b[0m: Length of 'prefix' (18) did not match the length of the columns being encoded (0)."
     ]
    }
   ],
   "source": [
    "#Usando o getDummies\n",
    "covidTrain = pd.get_dummies(covidData, prefix=[\"NU_IDADE_N\", \"CS_RACA\", \"SURTO_SG\", \"FEBRE\", \"TOSSE\", \"GARGANTA\", \n",
    "                                               \"DISPNEIA\", \"CS_SEXO\t\", \"DESC_RESP\", \"SATURACAO\", \"DIARREIA\",\"VOMITO\", \"CARDIOPATI\", \n",
    "                                               \"DIABETES\", \"PNEUMOPATI\", \"OBESIDADE\", \"UTI\", \"SUPORT_VEN\"])\n",
    "\n",
    "#covidTrain = pd.get_dummies(covidData, prefix=[\"NU_IDADE_N\", \"CS_RACA\", \"SURTO_SG\", \"FEBRE\", \"TOSSE\", \"GARGANTA\", \n",
    "#                                               \"DISPNEIA\", \"DESC_RESP\", \"SATURACAO\", \"DIARREIA\",\"VOMITO\", \"PUERPERA\", \"CARDIOPATI\", \n",
    "#                                               \"HEMATOLOGI\", \"SIND_DOWN\", \"HEPATICA\", \"ASMA\", \"DIABETES\", \"NEUROLOGIC\",\t\"PNEUMOPATI\", \n",
    "#                                               \"IMUNODEPRE\", \"RENAL\",\t\"OBESIDADE\", \"UTI\", \"SUPORT_VEN\"]);"
   ]
  },
  {
   "cell_type": "code",
   "execution_count": 39,
   "metadata": {
    "colab": {
     "base_uri": "https://localhost:8080/",
     "height": 224
    },
    "collapsed": true,
    "executionInfo": {
     "elapsed": 790,
     "status": "ok",
     "timestamp": 1607111108827,
     "user": {
      "displayName": "WALLACE DUARTE DE HOLANDA",
      "photoUrl": "https://lh3.googleusercontent.com/a-/AOh14GgeWMOt53non50jDB5bIAwurrZleD5e6T7yfR9w=s64",
      "userId": "03474631865123362594"
     },
     "user_tz": 180
    },
    "id": "ZVzcKd2v99LD",
    "outputId": "1982ba73-9dd2-45aa-a924-c13ac921d33b"
   },
   "outputs": [
    {
     "data": {
      "text/html": [
       "<div>\n",
       "<style scoped>\n",
       "    .dataframe tbody tr th:only-of-type {\n",
       "        vertical-align: middle;\n",
       "    }\n",
       "\n",
       "    .dataframe tbody tr th {\n",
       "        vertical-align: top;\n",
       "    }\n",
       "\n",
       "    .dataframe thead th {\n",
       "        text-align: right;\n",
       "    }\n",
       "</style>\n",
       "<table border=\"1\" class=\"dataframe\">\n",
       "  <thead>\n",
       "    <tr style=\"text-align: right;\">\n",
       "      <th></th>\n",
       "      <th>EVOLUCAO</th>\n",
       "      <th>NU_IDADE_N_ADULTO1</th>\n",
       "      <th>NU_IDADE_N_ADULTO2</th>\n",
       "      <th>NU_IDADE_N_ADULTO3</th>\n",
       "      <th>NU_IDADE_N_CRIANCA</th>\n",
       "      <th>NU_IDADE_N_IDOSO1</th>\n",
       "      <th>NU_IDADE_N_IDOSO2</th>\n",
       "      <th>NU_IDADE_N_IDOSO3</th>\n",
       "      <th>NU_IDADE_N_JOVEM</th>\n",
       "      <th>CS_RACA_FEMININO</th>\n",
       "      <th>CS_RACA_MASCULINO</th>\n",
       "      <th>SURTO_SG_Amarela</th>\n",
       "      <th>SURTO_SG_Branca</th>\n",
       "      <th>SURTO_SG_Ignorado</th>\n",
       "      <th>SURTO_SG_Parda</th>\n",
       "      <th>SURTO_SG_Preta</th>\n",
       "      <th>FEBRE_Ignorado</th>\n",
       "      <th>FEBRE_Nao</th>\n",
       "      <th>FEBRE_Sim</th>\n",
       "      <th>TOSSE_Ignorado</th>\n",
       "      <th>TOSSE_Nao</th>\n",
       "      <th>TOSSE_Sim</th>\n",
       "      <th>GARGANTA_Ignorado</th>\n",
       "      <th>GARGANTA_Nao</th>\n",
       "      <th>GARGANTA_Sim</th>\n",
       "      <th>DISPNEIA_Ignorado</th>\n",
       "      <th>DISPNEIA_Nao</th>\n",
       "      <th>DISPNEIA_Sim</th>\n",
       "      <th>CS_SEXO\\t_Ignorado</th>\n",
       "      <th>CS_SEXO\\t_Nao</th>\n",
       "      <th>CS_SEXO\\t_Sim</th>\n",
       "      <th>DESC_RESP_Ignorado</th>\n",
       "      <th>DESC_RESP_Nao</th>\n",
       "      <th>DESC_RESP_Sim</th>\n",
       "      <th>SATURACAO_Ignorado</th>\n",
       "      <th>SATURACAO_Nao</th>\n",
       "      <th>SATURACAO_Sim</th>\n",
       "      <th>DIARREIA_Ignorado</th>\n",
       "      <th>DIARREIA_Nao</th>\n",
       "      <th>DIARREIA_Sim</th>\n",
       "      <th>VOMITO_Ignorado</th>\n",
       "      <th>VOMITO_Nao</th>\n",
       "      <th>VOMITO_Sim</th>\n",
       "      <th>CARDIOPATI_Nao</th>\n",
       "      <th>CARDIOPATI_Sim</th>\n",
       "      <th>DIABETES_Nao</th>\n",
       "      <th>DIABETES_Sim</th>\n",
       "      <th>PNEUMOPATI_Nao</th>\n",
       "      <th>PNEUMOPATI_Sim</th>\n",
       "      <th>OBESIDADE_Nao</th>\n",
       "      <th>OBESIDADE_Sim</th>\n",
       "      <th>UTI_Nao</th>\n",
       "      <th>UTI_Sim</th>\n",
       "      <th>SUPORT_VEN_Ignorado</th>\n",
       "      <th>SUPORT_VEN_Invasivo</th>\n",
       "      <th>SUPORT_VEN_Nao</th>\n",
       "      <th>SUPORT_VEN_Nao_Invasivo</th>\n",
       "    </tr>\n",
       "  </thead>\n",
       "  <tbody>\n",
       "    <tr>\n",
       "      <th>0</th>\n",
       "      <td>1</td>\n",
       "      <td>0</td>\n",
       "      <td>0</td>\n",
       "      <td>1</td>\n",
       "      <td>0</td>\n",
       "      <td>0</td>\n",
       "      <td>0</td>\n",
       "      <td>0</td>\n",
       "      <td>0</td>\n",
       "      <td>1</td>\n",
       "      <td>0</td>\n",
       "      <td>0</td>\n",
       "      <td>0</td>\n",
       "      <td>0</td>\n",
       "      <td>1</td>\n",
       "      <td>0</td>\n",
       "      <td>0</td>\n",
       "      <td>1</td>\n",
       "      <td>0</td>\n",
       "      <td>0</td>\n",
       "      <td>0</td>\n",
       "      <td>1</td>\n",
       "      <td>0</td>\n",
       "      <td>0</td>\n",
       "      <td>1</td>\n",
       "      <td>0</td>\n",
       "      <td>0</td>\n",
       "      <td>1</td>\n",
       "      <td>0</td>\n",
       "      <td>0</td>\n",
       "      <td>1</td>\n",
       "      <td>0</td>\n",
       "      <td>0</td>\n",
       "      <td>1</td>\n",
       "      <td>0</td>\n",
       "      <td>0</td>\n",
       "      <td>1</td>\n",
       "      <td>0</td>\n",
       "      <td>1</td>\n",
       "      <td>0</td>\n",
       "      <td>0</td>\n",
       "      <td>1</td>\n",
       "      <td>0</td>\n",
       "      <td>0</td>\n",
       "      <td>1</td>\n",
       "      <td>1</td>\n",
       "      <td>0</td>\n",
       "      <td>1</td>\n",
       "      <td>0</td>\n",
       "      <td>1</td>\n",
       "      <td>0</td>\n",
       "      <td>0</td>\n",
       "      <td>1</td>\n",
       "      <td>0</td>\n",
       "      <td>0</td>\n",
       "      <td>0</td>\n",
       "      <td>1</td>\n",
       "    </tr>\n",
       "    <tr>\n",
       "      <th>1</th>\n",
       "      <td>1</td>\n",
       "      <td>0</td>\n",
       "      <td>0</td>\n",
       "      <td>0</td>\n",
       "      <td>0</td>\n",
       "      <td>1</td>\n",
       "      <td>0</td>\n",
       "      <td>0</td>\n",
       "      <td>0</td>\n",
       "      <td>0</td>\n",
       "      <td>1</td>\n",
       "      <td>0</td>\n",
       "      <td>0</td>\n",
       "      <td>0</td>\n",
       "      <td>1</td>\n",
       "      <td>0</td>\n",
       "      <td>0</td>\n",
       "      <td>1</td>\n",
       "      <td>0</td>\n",
       "      <td>0</td>\n",
       "      <td>0</td>\n",
       "      <td>1</td>\n",
       "      <td>0</td>\n",
       "      <td>0</td>\n",
       "      <td>1</td>\n",
       "      <td>0</td>\n",
       "      <td>0</td>\n",
       "      <td>1</td>\n",
       "      <td>0</td>\n",
       "      <td>0</td>\n",
       "      <td>1</td>\n",
       "      <td>0</td>\n",
       "      <td>0</td>\n",
       "      <td>1</td>\n",
       "      <td>0</td>\n",
       "      <td>0</td>\n",
       "      <td>1</td>\n",
       "      <td>0</td>\n",
       "      <td>1</td>\n",
       "      <td>0</td>\n",
       "      <td>0</td>\n",
       "      <td>1</td>\n",
       "      <td>0</td>\n",
       "      <td>1</td>\n",
       "      <td>0</td>\n",
       "      <td>0</td>\n",
       "      <td>1</td>\n",
       "      <td>1</td>\n",
       "      <td>0</td>\n",
       "      <td>1</td>\n",
       "      <td>0</td>\n",
       "      <td>1</td>\n",
       "      <td>0</td>\n",
       "      <td>0</td>\n",
       "      <td>0</td>\n",
       "      <td>0</td>\n",
       "      <td>1</td>\n",
       "    </tr>\n",
       "    <tr>\n",
       "      <th>2</th>\n",
       "      <td>2</td>\n",
       "      <td>0</td>\n",
       "      <td>0</td>\n",
       "      <td>1</td>\n",
       "      <td>0</td>\n",
       "      <td>0</td>\n",
       "      <td>0</td>\n",
       "      <td>0</td>\n",
       "      <td>0</td>\n",
       "      <td>0</td>\n",
       "      <td>1</td>\n",
       "      <td>0</td>\n",
       "      <td>0</td>\n",
       "      <td>0</td>\n",
       "      <td>1</td>\n",
       "      <td>0</td>\n",
       "      <td>0</td>\n",
       "      <td>1</td>\n",
       "      <td>0</td>\n",
       "      <td>0</td>\n",
       "      <td>0</td>\n",
       "      <td>1</td>\n",
       "      <td>0</td>\n",
       "      <td>0</td>\n",
       "      <td>1</td>\n",
       "      <td>0</td>\n",
       "      <td>1</td>\n",
       "      <td>0</td>\n",
       "      <td>0</td>\n",
       "      <td>0</td>\n",
       "      <td>1</td>\n",
       "      <td>0</td>\n",
       "      <td>0</td>\n",
       "      <td>1</td>\n",
       "      <td>0</td>\n",
       "      <td>0</td>\n",
       "      <td>1</td>\n",
       "      <td>0</td>\n",
       "      <td>0</td>\n",
       "      <td>1</td>\n",
       "      <td>0</td>\n",
       "      <td>1</td>\n",
       "      <td>0</td>\n",
       "      <td>1</td>\n",
       "      <td>0</td>\n",
       "      <td>1</td>\n",
       "      <td>0</td>\n",
       "      <td>1</td>\n",
       "      <td>0</td>\n",
       "      <td>1</td>\n",
       "      <td>0</td>\n",
       "      <td>1</td>\n",
       "      <td>0</td>\n",
       "      <td>0</td>\n",
       "      <td>1</td>\n",
       "      <td>0</td>\n",
       "      <td>0</td>\n",
       "    </tr>\n",
       "    <tr>\n",
       "      <th>3</th>\n",
       "      <td>2</td>\n",
       "      <td>0</td>\n",
       "      <td>0</td>\n",
       "      <td>1</td>\n",
       "      <td>0</td>\n",
       "      <td>0</td>\n",
       "      <td>0</td>\n",
       "      <td>0</td>\n",
       "      <td>0</td>\n",
       "      <td>0</td>\n",
       "      <td>1</td>\n",
       "      <td>0</td>\n",
       "      <td>0</td>\n",
       "      <td>0</td>\n",
       "      <td>1</td>\n",
       "      <td>0</td>\n",
       "      <td>0</td>\n",
       "      <td>1</td>\n",
       "      <td>0</td>\n",
       "      <td>0</td>\n",
       "      <td>0</td>\n",
       "      <td>1</td>\n",
       "      <td>0</td>\n",
       "      <td>0</td>\n",
       "      <td>1</td>\n",
       "      <td>0</td>\n",
       "      <td>1</td>\n",
       "      <td>0</td>\n",
       "      <td>0</td>\n",
       "      <td>0</td>\n",
       "      <td>1</td>\n",
       "      <td>0</td>\n",
       "      <td>0</td>\n",
       "      <td>1</td>\n",
       "      <td>0</td>\n",
       "      <td>0</td>\n",
       "      <td>1</td>\n",
       "      <td>0</td>\n",
       "      <td>1</td>\n",
       "      <td>0</td>\n",
       "      <td>0</td>\n",
       "      <td>1</td>\n",
       "      <td>0</td>\n",
       "      <td>1</td>\n",
       "      <td>0</td>\n",
       "      <td>0</td>\n",
       "      <td>1</td>\n",
       "      <td>1</td>\n",
       "      <td>0</td>\n",
       "      <td>1</td>\n",
       "      <td>0</td>\n",
       "      <td>0</td>\n",
       "      <td>1</td>\n",
       "      <td>0</td>\n",
       "      <td>1</td>\n",
       "      <td>0</td>\n",
       "      <td>0</td>\n",
       "    </tr>\n",
       "    <tr>\n",
       "      <th>4</th>\n",
       "      <td>1</td>\n",
       "      <td>0</td>\n",
       "      <td>0</td>\n",
       "      <td>0</td>\n",
       "      <td>0</td>\n",
       "      <td>1</td>\n",
       "      <td>0</td>\n",
       "      <td>0</td>\n",
       "      <td>0</td>\n",
       "      <td>0</td>\n",
       "      <td>1</td>\n",
       "      <td>0</td>\n",
       "      <td>0</td>\n",
       "      <td>0</td>\n",
       "      <td>1</td>\n",
       "      <td>0</td>\n",
       "      <td>0</td>\n",
       "      <td>1</td>\n",
       "      <td>0</td>\n",
       "      <td>0</td>\n",
       "      <td>0</td>\n",
       "      <td>1</td>\n",
       "      <td>0</td>\n",
       "      <td>0</td>\n",
       "      <td>1</td>\n",
       "      <td>0</td>\n",
       "      <td>1</td>\n",
       "      <td>0</td>\n",
       "      <td>0</td>\n",
       "      <td>0</td>\n",
       "      <td>1</td>\n",
       "      <td>0</td>\n",
       "      <td>0</td>\n",
       "      <td>1</td>\n",
       "      <td>0</td>\n",
       "      <td>0</td>\n",
       "      <td>1</td>\n",
       "      <td>0</td>\n",
       "      <td>1</td>\n",
       "      <td>0</td>\n",
       "      <td>0</td>\n",
       "      <td>1</td>\n",
       "      <td>0</td>\n",
       "      <td>1</td>\n",
       "      <td>0</td>\n",
       "      <td>1</td>\n",
       "      <td>0</td>\n",
       "      <td>1</td>\n",
       "      <td>0</td>\n",
       "      <td>1</td>\n",
       "      <td>0</td>\n",
       "      <td>1</td>\n",
       "      <td>0</td>\n",
       "      <td>0</td>\n",
       "      <td>0</td>\n",
       "      <td>0</td>\n",
       "      <td>1</td>\n",
       "    </tr>\n",
       "  </tbody>\n",
       "</table>\n",
       "</div>"
      ],
      "text/plain": [
       "   EVOLUCAO  NU_IDADE_N_ADULTO1  ...  SUPORT_VEN_Nao  SUPORT_VEN_Nao_Invasivo\n",
       "0         1                   0  ...               0                        1\n",
       "1         1                   0  ...               0                        1\n",
       "2         2                   0  ...               0                        0\n",
       "3         2                   0  ...               0                        0\n",
       "4         1                   0  ...               0                        1\n",
       "\n",
       "[5 rows x 57 columns]"
      ]
     },
     "execution_count": 39,
     "metadata": {
      "tags": []
     },
     "output_type": "execute_result"
    }
   ],
   "source": [
    "covidTrain.head()"
   ]
  },
  {
   "cell_type": "markdown",
   "metadata": {},
   "source": [
    "# Separando os dados de Teste e Treinamento"
   ]
  },
  {
   "cell_type": "code",
   "execution_count": 4,
   "metadata": {
    "executionInfo": {
     "elapsed": 713,
     "status": "ok",
     "timestamp": 1607111111981,
     "user": {
      "displayName": "WALLACE DUARTE DE HOLANDA",
      "photoUrl": "https://lh3.googleusercontent.com/a-/AOh14GgeWMOt53non50jDB5bIAwurrZleD5e6T7yfR9w=s64",
      "userId": "03474631865123362594"
     },
     "user_tz": 180
    },
    "id": "oV_p4JWO7pq0"
   },
   "outputs": [],
   "source": [
    "# nome da variável -> covidTrain (se usar o dummies) - covidData (se não usar)\n",
    "# declaração do x -> principalDf (com PCA) - covidData.drop('EVOLUCAO',axis=1) (sem pca)\n",
    "x_train, x_test, y_train, y_test = train_test_split(covidData.drop('EVOLUCAO',axis=1),\n",
    "                                                    covidData['EVOLUCAO'],\n",
    "                                                    test_size=0.3,\n",
    "                                                    random_state=42);"
   ]
  },
  {
   "cell_type": "markdown",
   "metadata": {
    "id": "40yehBGyfsT7"
   },
   "source": [
    "# Aplicando o Modelo de Árvore de Decisão\n"
   ]
  },
  {
   "cell_type": "code",
   "execution_count": null,
   "metadata": {
    "id": "VgzP-DvIf4Fw"
   },
   "outputs": [],
   "source": [
    "# Árvore de Decisão\n",
    "from sklearn.tree import DecisionTreeClassifier\n",
    "classifier_dt = DecisionTreeClassifier(max_depth = )\n",
    "classifier_dt.fit(x_train, y_train)\n"
   ]
  },
  {
   "cell_type": "markdown",
   "metadata": {},
   "source": [
    "# Aplicando o Modelo XGBoost"
   ]
  },
  {
   "cell_type": "code",
   "execution_count": 24,
   "metadata": {},
   "outputs": [
    {
     "data": {
      "text/plain": [
       "<xgboost.core.DMatrix at 0x22a0df87b48>"
      ]
     },
     "execution_count": 24,
     "metadata": {},
     "output_type": "execute_result"
    }
   ],
   "source": [
    "import xgboost as xgb\n",
    "\n",
    "xgb.DMatrix(covidData.drop(columns=\"EVOLUCAO\"), label=covidData[\"EVOLUCAO\"])"
   ]
  },
  {
   "cell_type": "code",
   "execution_count": 32,
   "metadata": {},
   "outputs": [],
   "source": [
    "# Definição das variáveis de treino e teste\n",
    "X_train, X_test, y_train, y_test = train_test_split(\n",
    "            covidData.drop(columns=\"EVOLUCAO\"),\n",
    "            covidData[\"EVOLUCAO\"],\n",
    "            test_size=0.25,\n",
    "            random_state=7,\n",
    "            stratify = covidData[\"EVOLUCAO\"])\n",
    "\n",
    "#Converter nosso Dataset para Dmatrix\n",
    "dtrain = xgb.DMatrix(X_train, label=y_train)\n",
    "dtest = xgb.DMatrix(X_test, label=y_test)"
   ]
  },
  {
   "cell_type": "code",
   "execution_count": 39,
   "metadata": {},
   "outputs": [
    {
     "name": "stdout",
     "output_type": "stream",
     "text": [
      "Best params: 9,2, auc: 0.7733186\n"
     ]
    }
   ],
   "source": [
    "#lista contendo todas as combinações de max_depth e min_child_weight que queremos tentar. \n",
    "gridsearch_params = [\n",
    "    (max_depth, min_child_weight)\n",
    "    for max_depth in range(9,13)\n",
    "    for min_child_weight in range(1,10)\n",
    "]\n",
    "# Definindo os valores iniciais de score, para podermos salvar o melhor AUC score e a combinação de parâmetros correspondente\n",
    "max_auc = float(0)\n",
    "best_params = None\n",
    "for max_depth, min_child_weight in gridsearch_params:\n",
    "  \n",
    "    # Atualizando os parâmetros do dicionário params, conforme os valores da iteração atual\n",
    "    params['max_depth'] = max_depth\n",
    "    params['min_child_weight'] = min_child_weight    \n",
    "    \n",
    "    # Executando a função .cv\n",
    "    cv_results = xgb.cv(\n",
    "        params,\n",
    "        dtrain,\n",
    "        num_boost_round=num_boost_round, \n",
    "        seed=42,\n",
    "        nfold=5,\n",
    "        metrics={'auc'},\n",
    "        early_stopping_rounds=100\n",
    "    )\n",
    "    \n",
    "    # Pegando o melhor resultado AUC da cross validation\n",
    "    mean_auc = cv_results['test-auc-mean'].max()\n",
    "    boost_rounds = cv_results['test-auc-mean'].values.argmax()\n",
    "    #print(\"\\tAUC {} com {} rounds\".format(mean_mae, boost_rounds))\n",
    "    if mean_auc > max_auc:\n",
    "        max_auc = mean_auc\n",
    "        best_params = (max_depth,min_child_weight)\n",
    "        \n",
    "print(\"Best params: {},{}, auc: {}\".format(best_params[0], best_params[1], max_auc))"
   ]
  },
  {
   "cell_type": "code",
   "execution_count": 41,
   "metadata": {},
   "outputs": [
    {
     "name": "stdout",
     "output_type": "stream",
     "text": [
      "Best params: 0.7, 0.9, auc: 0.7796648\n"
     ]
    }
   ],
   "source": [
    "#Lista com a combinação de valores dos parâmetros\n",
    "gridsearch_params = [\n",
    "    (subsample, colsample)\n",
    "    for subsample in [i/10. for i in range(7,11)]\n",
    "    for colsample in [i/10. for i in range(7,11)]\n",
    "]\n",
    "max_auc = float(0)\n",
    "best_params = None\n",
    "# Começamos pelos maiores valores até chegarmos nos menores\n",
    "for subsample, colsample in reversed(gridsearch_params):\n",
    "# Atualizando os parâmetros\n",
    "    params['subsample'] = subsample\n",
    "    params['colsample_bytree'] = colsample\n",
    "    # Executando .cv\n",
    "    cv_results = xgb.cv(\n",
    "        params,\n",
    "        dtrain,\n",
    "        num_boost_round=num_boost_round,\n",
    "        seed=42,\n",
    "        nfold=5,\n",
    "        metrics={'auc'},\n",
    "        early_stopping_rounds=100\n",
    "    )\n",
    "    # Pegando o melhor resultado AUC da cross validation\n",
    "    mean_auc = cv_results['test-auc-mean'].max()\n",
    "    boost_rounds = cv_results['test-auc-mean'].values.argmax()\n",
    "    #print(\"Best params: {}, {}, MAE: {}\".format(best_params[0], best_params[1], min_mae))\n",
    "    if mean_auc > max_auc:\n",
    "        max_auc = mean_auc\n",
    "        best_params = (subsample,colsample)\n",
    "print(\"Best params: {}, {}, auc: {}\".format(best_params[0], best_params[1], max_auc))"
   ]
  },
  {
   "cell_type": "code",
   "execution_count": 66,
   "metadata": {},
   "outputs": [],
   "source": [
    "# Definindo os parâmetros do modelo\n",
    "# eta - .3, .2, .1, .05, .01, .005\n",
    "params = {\n",
    "    'max_depth':9, # 9 - Melhor Parâmetro\n",
    "    'min_child_weight': 2, # 2 - Melhor Parâmetro\n",
    "    'eta':.1,\n",
    "    'subsample': 0.7, # 0.7 - Melhor Parâmetro\n",
    "    'colsample_bytree': 0.9, # 0.9 - Melhor Parâmetro\n",
    "    'objective':'binary:hinge',\n",
    "    'eval_metric' : 'auc',\n",
    "}"
   ]
  },
  {
   "cell_type": "code",
   "execution_count": 67,
   "metadata": {},
   "outputs": [
    {
     "name": "stdout",
     "output_type": "stream",
     "text": [
      "[0]\tTest-auc:0.50000\n",
      "[1]\tTest-auc:0.50000\n",
      "[2]\tTest-auc:0.50000\n",
      "[3]\tTest-auc:0.50000\n",
      "[4]\tTest-auc:0.50000\n",
      "[5]\tTest-auc:0.62777\n",
      "[6]\tTest-auc:0.70622\n",
      "[7]\tTest-auc:0.71521\n",
      "[8]\tTest-auc:0.73629\n",
      "[9]\tTest-auc:0.74839\n",
      "[10]\tTest-auc:0.74620\n",
      "[11]\tTest-auc:0.75830\n",
      "[12]\tTest-auc:0.76325\n",
      "[13]\tTest-auc:0.76325\n",
      "[14]\tTest-auc:0.78433\n",
      "[15]\tTest-auc:0.77719\n",
      "[16]\tTest-auc:0.77408\n",
      "[17]\tTest-auc:0.77811\n",
      "[18]\tTest-auc:0.77500\n",
      "[19]\tTest-auc:0.77500\n",
      "[20]\tTest-auc:0.76786\n",
      "[21]\tTest-auc:0.77097\n",
      "[22]\tTest-auc:0.76786\n",
      "[23]\tTest-auc:0.77189\n",
      "[24]\tTest-auc:0.76071\n",
      "[25]\tTest-auc:0.75760\n",
      "[26]\tTest-auc:0.76475\n",
      "[27]\tTest-auc:0.76475\n",
      "[28]\tTest-auc:0.76475\n",
      "[29]\tTest-auc:0.76164\n",
      "[30]\tTest-auc:0.76164\n",
      "[31]\tTest-auc:0.76164\n",
      "[32]\tTest-auc:0.75449\n",
      "[33]\tTest-auc:0.75760\n",
      "[34]\tTest-auc:0.76164\n",
      "[35]\tTest-auc:0.75760\n",
      "[36]\tTest-auc:0.76164\n",
      "[37]\tTest-auc:0.76164\n",
      "[38]\tTest-auc:0.76256\n",
      "[39]\tTest-auc:0.76256\n",
      "[40]\tTest-auc:0.75541\n",
      "[41]\tTest-auc:0.74424\n",
      "[42]\tTest-auc:0.73710\n",
      "[43]\tTest-auc:0.73710\n",
      "[44]\tTest-auc:0.74424\n",
      "[45]\tTest-auc:0.74113\n",
      "[46]\tTest-auc:0.73399\n",
      "[47]\tTest-auc:0.74516\n",
      "[48]\tTest-auc:0.72995\n",
      "[49]\tTest-auc:0.73399\n",
      "[50]\tTest-auc:0.73399\n",
      "[51]\tTest-auc:0.73399\n",
      "[52]\tTest-auc:0.74113\n",
      "[53]\tTest-auc:0.74113\n",
      "[54]\tTest-auc:0.73306\n",
      "[55]\tTest-auc:0.72684\n",
      "[56]\tTest-auc:0.71567\n",
      "[57]\tTest-auc:0.72281\n",
      "[58]\tTest-auc:0.71164\n",
      "[59]\tTest-auc:0.71878\n",
      "[60]\tTest-auc:0.72592\n",
      "[61]\tTest-auc:0.72592\n",
      "[62]\tTest-auc:0.72592\n",
      "[63]\tTest-auc:0.72995\n",
      "[64]\tTest-auc:0.72995\n",
      "[65]\tTest-auc:0.71970\n",
      "[66]\tTest-auc:0.72995\n",
      "[67]\tTest-auc:0.73399\n",
      "[68]\tTest-auc:0.74113\n",
      "[69]\tTest-auc:0.74113\n",
      "[70]\tTest-auc:0.74516\n",
      "[71]\tTest-auc:0.74516\n",
      "[72]\tTest-auc:0.75323\n",
      "[73]\tTest-auc:0.73088\n",
      "[74]\tTest-auc:0.73802\n",
      "[75]\tTest-auc:0.73802\n",
      "[76]\tTest-auc:0.73802\n",
      "[77]\tTest-auc:0.74516\n",
      "[78]\tTest-auc:0.72995\n",
      "[79]\tTest-auc:0.73399\n",
      "[80]\tTest-auc:0.73399\n",
      "[81]\tTest-auc:0.72995\n",
      "[82]\tTest-auc:0.72995\n",
      "[83]\tTest-auc:0.74113\n",
      "[84]\tTest-auc:0.73710\n",
      "[85]\tTest-auc:0.73710\n",
      "[86]\tTest-auc:0.73399\n",
      "[87]\tTest-auc:0.72281\n",
      "[88]\tTest-auc:0.72281\n",
      "[89]\tTest-auc:0.73802\n",
      "[90]\tTest-auc:0.74516\n",
      "[91]\tTest-auc:0.74516\n",
      "[92]\tTest-auc:0.75323\n",
      "[93]\tTest-auc:0.74608\n",
      "[94]\tTest-auc:0.75323\n",
      "[95]\tTest-auc:0.74516\n",
      "[96]\tTest-auc:0.73399\n",
      "[97]\tTest-auc:0.72684\n",
      "[98]\tTest-auc:0.74205\n",
      "[99]\tTest-auc:0.74919\n",
      "[100]\tTest-auc:0.73088\n",
      "[101]\tTest-auc:0.73802\n",
      "[102]\tTest-auc:0.73088\n",
      "[103]\tTest-auc:0.73802\n",
      "[104]\tTest-auc:0.73802\n",
      "[105]\tTest-auc:0.73088\n",
      "[106]\tTest-auc:0.74113\n",
      "[107]\tTest-auc:0.73802\n",
      "[108]\tTest-auc:0.74113\n",
      "[109]\tTest-auc:0.73802\n",
      "[110]\tTest-auc:0.73802\n",
      "[111]\tTest-auc:0.73802\n",
      "[112]\tTest-auc:0.73802\n",
      "[113]\tTest-auc:0.73802\n"
     ]
    }
   ],
   "source": [
    "# Treinando e avaliando o modelo\n",
    "num_boost_round = 246\n",
    "model = xgb.train(\n",
    "    params,\n",
    "    dtrain,\n",
    "    num_boost_round=num_boost_round,\n",
    "    evals=[(dtest, \"Test\")],\n",
    "    early_stopping_rounds=100\n",
    ")"
   ]
  },
  {
   "cell_type": "markdown",
   "metadata": {
    "id": "uBGux2q9ijdZ"
   },
   "source": [
    "# Aplicando o Modelo Random Forest"
   ]
  },
  {
   "cell_type": "code",
   "execution_count": 25,
   "metadata": {
    "colab": {
     "base_uri": "https://localhost:8080/"
    },
    "executionInfo": {
     "elapsed": 1019,
     "status": "ok",
     "timestamp": 1607111115728,
     "user": {
      "displayName": "WALLACE DUARTE DE HOLANDA",
      "photoUrl": "https://lh3.googleusercontent.com/a-/AOh14GgeWMOt53non50jDB5bIAwurrZleD5e6T7yfR9w=s64",
      "userId": "03474631865123362594"
     },
     "user_tz": 180
    },
    "id": "D7WnEBr07upL",
    "outputId": "0249592a-fd09-46a4-bdce-dedd2867fd7d"
   },
   "outputs": [
    {
     "data": {
      "text/plain": [
       "RandomForestClassifier(bootstrap=True, ccp_alpha=0.0, class_weight=None,\n",
       "                       criterion='gini', max_depth=10, max_features='auto',\n",
       "                       max_leaf_nodes=None, max_samples=None,\n",
       "                       min_impurity_decrease=0.0, min_impurity_split=None,\n",
       "                       min_samples_leaf=1, min_samples_split=2,\n",
       "                       min_weight_fraction_leaf=0.0, n_estimators=30, n_jobs=-1,\n",
       "                       oob_score=False, random_state=1986, verbose=0,\n",
       "                       warm_start=False)"
      ]
     },
     "execution_count": 25,
     "metadata": {},
     "output_type": "execute_result"
    }
   ],
   "source": [
    "# Random Forest n_estimators=30,\n",
    "from sklearn.ensemble import RandomForestClassifier\n",
    "classifier_rf = RandomForestClassifier(random_state=1986, n_estimators=30, criterion='gini', max_features = 'auto', max_depth= 10, n_jobs=-1)\n",
    "classifier_rf.fit(x_train, y_train)"
   ]
  },
  {
   "cell_type": "code",
   "execution_count": 26,
   "metadata": {
    "executionInfo": {
     "elapsed": 721,
     "status": "ok",
     "timestamp": 1607111117793,
     "user": {
      "displayName": "WALLACE DUARTE DE HOLANDA",
      "photoUrl": "https://lh3.googleusercontent.com/a-/AOh14GgeWMOt53non50jDB5bIAwurrZleD5e6T7yfR9w=s64",
      "userId": "03474631865123362594"
     },
     "user_tz": 180
    },
    "id": "LJwWpll67yQx"
   },
   "outputs": [],
   "source": [
    "# Random Forest - Predição\n",
    "resultRF = classifier_rf.predict(x_test)"
   ]
  },
  {
   "cell_type": "code",
   "execution_count": 27,
   "metadata": {
    "colab": {
     "base_uri": "https://localhost:8080/"
    },
    "executionInfo": {
     "elapsed": 739,
     "status": "ok",
     "timestamp": 1607111119804,
     "user": {
      "displayName": "WALLACE DUARTE DE HOLANDA",
      "photoUrl": "https://lh3.googleusercontent.com/a-/AOh14GgeWMOt53non50jDB5bIAwurrZleD5e6T7yfR9w=s64",
      "userId": "03474631865123362594"
     },
     "user_tz": 180
    },
    "id": "s6SsCRX_70kV",
    "outputId": "e73f96e2-aee1-4f92-f894-e1aef7fbce18"
   },
   "outputs": [
    {
     "name": "stdout",
     "output_type": "stream",
     "text": [
      "0.7811158798283262\n"
     ]
    }
   ],
   "source": [
    "# Verificando a Acurácia\n",
    "from sklearn.metrics import accuracy_score\n",
    "print(accuracy_score(y_test, resultRF))"
   ]
  },
  {
   "cell_type": "code",
   "execution_count": 12,
   "metadata": {},
   "outputs": [
    {
     "data": {
      "text/html": [
       "<div>\n",
       "<style scoped>\n",
       "    .dataframe tbody tr th:only-of-type {\n",
       "        vertical-align: middle;\n",
       "    }\n",
       "\n",
       "    .dataframe tbody tr th {\n",
       "        vertical-align: top;\n",
       "    }\n",
       "\n",
       "    .dataframe thead th {\n",
       "        text-align: right;\n",
       "    }\n",
       "</style>\n",
       "<table border=\"1\" class=\"dataframe\">\n",
       "  <thead>\n",
       "    <tr style=\"text-align: right;\">\n",
       "      <th></th>\n",
       "      <th>importance</th>\n",
       "    </tr>\n",
       "  </thead>\n",
       "  <tbody>\n",
       "    <tr>\n",
       "      <th>SUPORT_VEN</th>\n",
       "      <td>0.239459</td>\n",
       "    </tr>\n",
       "    <tr>\n",
       "      <th>QNT_DIAS</th>\n",
       "      <td>0.137612</td>\n",
       "    </tr>\n",
       "    <tr>\n",
       "      <th>UTI</th>\n",
       "      <td>0.123383</td>\n",
       "    </tr>\n",
       "    <tr>\n",
       "      <th>NU_IDADE_N</th>\n",
       "      <td>0.117767</td>\n",
       "    </tr>\n",
       "    <tr>\n",
       "      <th>DESC_RESP</th>\n",
       "      <td>0.043539</td>\n",
       "    </tr>\n",
       "    <tr>\n",
       "      <th>FATOR_RISC</th>\n",
       "      <td>0.041759</td>\n",
       "    </tr>\n",
       "    <tr>\n",
       "      <th>FEBRE</th>\n",
       "      <td>0.039025</td>\n",
       "    </tr>\n",
       "    <tr>\n",
       "      <th>CS_RACA</th>\n",
       "      <td>0.037510</td>\n",
       "    </tr>\n",
       "    <tr>\n",
       "      <th>SATURACAO</th>\n",
       "      <td>0.037045</td>\n",
       "    </tr>\n",
       "    <tr>\n",
       "      <th>GARGANTA</th>\n",
       "      <td>0.036048</td>\n",
       "    </tr>\n",
       "    <tr>\n",
       "      <th>TOSSE</th>\n",
       "      <td>0.035996</td>\n",
       "    </tr>\n",
       "    <tr>\n",
       "      <th>VOMITO</th>\n",
       "      <td>0.035528</td>\n",
       "    </tr>\n",
       "    <tr>\n",
       "      <th>DIARREIA</th>\n",
       "      <td>0.035447</td>\n",
       "    </tr>\n",
       "    <tr>\n",
       "      <th>DISPNEIA</th>\n",
       "      <td>0.023264</td>\n",
       "    </tr>\n",
       "    <tr>\n",
       "      <th>OBESIDADE</th>\n",
       "      <td>0.016617</td>\n",
       "    </tr>\n",
       "  </tbody>\n",
       "</table>\n",
       "</div>"
      ],
      "text/plain": [
       "            importance\n",
       "SUPORT_VEN    0.239459\n",
       "QNT_DIAS      0.137612\n",
       "UTI           0.123383\n",
       "NU_IDADE_N    0.117767\n",
       "DESC_RESP     0.043539\n",
       "FATOR_RISC    0.041759\n",
       "FEBRE         0.039025\n",
       "CS_RACA       0.037510\n",
       "SATURACAO     0.037045\n",
       "GARGANTA      0.036048\n",
       "TOSSE         0.035996\n",
       "VOMITO        0.035528\n",
       "DIARREIA      0.035447\n",
       "DISPNEIA      0.023264\n",
       "OBESIDADE     0.016617"
      ]
     },
     "execution_count": 12,
     "metadata": {},
     "output_type": "execute_result"
    }
   ],
   "source": [
    "# Importância das Métricas\n",
    "from sklearn.ensemble import RandomForestClassifier\n",
    "feature_importances = pd.DataFrame(classifier_rf.feature_importances_,\n",
    "                                   index = x_train.columns,\n",
    "                                    columns=['importance']).sort_values('importance', ascending=False)\n",
    "#feature_importances"
   ]
  },
  {
   "cell_type": "code",
   "execution_count": 28,
   "metadata": {
    "colab": {
     "base_uri": "https://localhost:8080/"
    },
    "executionInfo": {
     "elapsed": 737,
     "status": "ok",
     "timestamp": 1607018534776,
     "user": {
      "displayName": "WALLACE DUARTE DE HOLANDA",
      "photoUrl": "https://lh3.googleusercontent.com/a-/AOh14GgeWMOt53non50jDB5bIAwurrZleD5e6T7yfR9w=s64",
      "userId": "03474631865123362594"
     },
     "user_tz": 180
    },
    "id": "XoBYnlE5Z21T",
    "outputId": "ee4f9c76-9fdd-48c0-ef74-4a0300465e5b"
   },
   "outputs": [
    {
     "name": "stdout",
     "output_type": "stream",
     "text": [
      "              precision    recall  f1-score   support\n",
      "\n",
      "           0       0.79      0.89      0.84       146\n",
      "           1       0.76      0.60      0.67        87\n",
      "\n",
      "    accuracy                           0.78       233\n",
      "   macro avg       0.78      0.74      0.75       233\n",
      "weighted avg       0.78      0.78      0.77       233\n",
      "\n"
     ]
    }
   ],
   "source": [
    "# Verificando Métricas\n",
    "from sklearn import metrics\n",
    "print(metrics.classification_report(y_test,resultRF))"
   ]
  },
  {
   "cell_type": "markdown",
   "metadata": {
    "id": "Sw0BF3lIuAeC"
   },
   "source": [
    "# Aplicando o Modelo no K-NN\n"
   ]
  },
  {
   "cell_type": "code",
   "execution_count": 122,
   "metadata": {
    "colab": {
     "base_uri": "https://localhost:8080/"
    },
    "executionInfo": {
     "elapsed": 686,
     "status": "ok",
     "timestamp": 1607018842664,
     "user": {
      "displayName": "WALLACE DUARTE DE HOLANDA",
      "photoUrl": "https://lh3.googleusercontent.com/a-/AOh14GgeWMOt53non50jDB5bIAwurrZleD5e6T7yfR9w=s64",
      "userId": "03474631865123362594"
     },
     "user_tz": 180
    },
    "id": "DWx5e0OZAAAn",
    "outputId": "0586ce0b-7bf1-45c4-b8b0-4413340b0e21"
   },
   "outputs": [
    {
     "data": {
      "text/plain": [
       "KNeighborsClassifier(algorithm='auto', leaf_size=30, metric='minkowski',\n",
       "                     metric_params=None, n_jobs=None, n_neighbors=9, p=2,\n",
       "                     weights='uniform')"
      ]
     },
     "execution_count": 122,
     "metadata": {},
     "output_type": "execute_result"
    }
   ],
   "source": [
    "#K-NN\n",
    "from sklearn.neighbors import KNeighborsClassifier\n",
    "knn = KNeighborsClassifier(n_neighbors=9)\n",
    "knn.fit(x_train, y_train)"
   ]
  },
  {
   "cell_type": "code",
   "execution_count": 123,
   "metadata": {
    "colab": {
     "base_uri": "https://localhost:8080/"
    },
    "executionInfo": {
     "elapsed": 680,
     "status": "ok",
     "timestamp": 1607018847384,
     "user": {
      "displayName": "WALLACE DUARTE DE HOLANDA",
      "photoUrl": "https://lh3.googleusercontent.com/a-/AOh14GgeWMOt53non50jDB5bIAwurrZleD5e6T7yfR9w=s64",
      "userId": "03474631865123362594"
     },
     "user_tz": 180
    },
    "id": "ARzdfROsAjCy",
    "outputId": "eb8cba07-b48f-4ae6-d533-a4a8e832f3a3"
   },
   "outputs": [
    {
     "data": {
      "text/plain": [
       "array([1, 1, 1, 1, 2, 1, 2, 2, 1, 1, 2, 1, 2, 1, 2, 1, 1, 1, 1, 2, 1, 1,\n",
       "       2, 2, 1, 2, 1, 1, 1, 1, 1, 1, 2, 2, 1, 2, 2, 1, 2, 2, 2, 1, 1, 1,\n",
       "       1, 1, 1, 1, 1, 1, 1, 1, 1, 2, 1, 1, 1, 1, 1, 1, 2, 1, 1, 2, 1, 1,\n",
       "       1, 1, 1, 1, 2, 1, 1, 1, 1, 1, 1, 1, 1, 1, 1, 1, 2, 1, 1, 2, 1, 2,\n",
       "       1, 1, 2, 1, 1, 1, 1, 2, 2, 2, 2, 2, 1, 1, 1, 1, 2, 1, 1, 1, 1, 1,\n",
       "       1, 2, 1, 1, 1, 1, 1, 2, 1, 2, 1, 1, 2, 2, 1, 1, 1, 1, 1, 1, 1, 2,\n",
       "       1, 1, 1, 1, 1, 1, 1, 2, 2, 1, 1, 1, 2, 1, 1, 1, 1, 1, 1, 1, 2, 1,\n",
       "       1, 1, 1, 1, 1, 1, 1, 1, 1, 1, 1, 2, 2, 1, 1, 1, 2, 1, 1, 1, 2, 1,\n",
       "       2, 2, 1, 1, 1, 1, 2, 1, 1, 1, 1, 1, 1, 1, 2, 1, 2, 1, 1, 2, 1, 1,\n",
       "       1, 2, 1, 2, 1, 1, 1, 1, 1, 2, 2, 1, 1, 1, 1, 1, 1, 1, 2, 1, 1, 1,\n",
       "       1, 2, 1, 1, 2, 2, 1, 1, 1, 2, 1, 1, 2], dtype=int64)"
      ]
     },
     "execution_count": 123,
     "metadata": {},
     "output_type": "execute_result"
    }
   ],
   "source": [
    "resultKNN = knn.predict(x_test)\n",
    "resultKNN"
   ]
  },
  {
   "cell_type": "code",
   "execution_count": 124,
   "metadata": {
    "colab": {
     "base_uri": "https://localhost:8080/"
    },
    "executionInfo": {
     "elapsed": 697,
     "status": "ok",
     "timestamp": 1607018849632,
     "user": {
      "displayName": "WALLACE DUARTE DE HOLANDA",
      "photoUrl": "https://lh3.googleusercontent.com/a-/AOh14GgeWMOt53non50jDB5bIAwurrZleD5e6T7yfR9w=s64",
      "userId": "03474631865123362594"
     },
     "user_tz": 180
    },
    "id": "X68AwcI871Oc",
    "outputId": "41d39572-c662-4576-a179-d1b7b7410c51"
   },
   "outputs": [
    {
     "name": "stdout",
     "output_type": "stream",
     "text": [
      "0.6909871244635193\n"
     ]
    }
   ],
   "source": [
    "# Verificando a Acurácia\n",
    "from sklearn.metrics import accuracy_score\n",
    "print(accuracy_score(y_test, resultKNN))"
   ]
  },
  {
   "cell_type": "code",
   "execution_count": 88,
   "metadata": {
    "colab": {
     "base_uri": "https://localhost:8080/"
    },
    "executionInfo": {
     "elapsed": 697,
     "status": "ok",
     "timestamp": 1607018876947,
     "user": {
      "displayName": "WALLACE DUARTE DE HOLANDA",
      "photoUrl": "https://lh3.googleusercontent.com/a-/AOh14GgeWMOt53non50jDB5bIAwurrZleD5e6T7yfR9w=s64",
      "userId": "03474631865123362594"
     },
     "user_tz": 180
    },
    "id": "DF_WSDq-yf4H",
    "outputId": "340e730e-cf5a-4c0b-9836-f8fda63c73c1"
   },
   "outputs": [
    {
     "name": "stdout",
     "output_type": "stream",
     "text": [
      "              precision    recall  f1-score   support\n",
      "\n",
      "           1       0.73      0.83      0.78       146\n",
      "           2       0.63      0.49      0.55        87\n",
      "\n",
      "    accuracy                           0.70       233\n",
      "   macro avg       0.68      0.66      0.67       233\n",
      "weighted avg       0.70      0.70      0.69       233\n",
      "\n"
     ]
    }
   ],
   "source": [
    "# Verificando Métricas\n",
    "from sklearn import metrics\n",
    "print(metrics.classification_report(y_test,resultKNN))"
   ]
  },
  {
   "cell_type": "markdown",
   "metadata": {
    "id": "CIDttRJduMtK"
   },
   "source": [
    "# Aplicando o modelo no Naive Bayes\n"
   ]
  },
  {
   "cell_type": "code",
   "execution_count": 125,
   "metadata": {
    "colab": {
     "base_uri": "https://localhost:8080/"
    },
    "executionInfo": {
     "elapsed": 708,
     "status": "ok",
     "timestamp": 1607018971281,
     "user": {
      "displayName": "WALLACE DUARTE DE HOLANDA",
      "photoUrl": "https://lh3.googleusercontent.com/a-/AOh14GgeWMOt53non50jDB5bIAwurrZleD5e6T7yfR9w=s64",
      "userId": "03474631865123362594"
     },
     "user_tz": 180
    },
    "id": "3kjmlnin4OLO",
    "outputId": "55ab3086-cad4-4ccf-f2a5-57e9bb1a7391"
   },
   "outputs": [
    {
     "data": {
      "text/plain": [
       "GaussianNB(priors=None, var_smoothing=1e-09)"
      ]
     },
     "execution_count": 125,
     "metadata": {},
     "output_type": "execute_result"
    }
   ],
   "source": [
    "#Importando o NaiveBayes\n",
    "from sklearn.naive_bayes import GaussianNB\n",
    "naiveModel = GaussianNB()\n",
    "naiveModel.fit(x_train, y_train)"
   ]
  },
  {
   "cell_type": "code",
   "execution_count": 126,
   "metadata": {
    "colab": {
     "base_uri": "https://localhost:8080/"
    },
    "executionInfo": {
     "elapsed": 786,
     "status": "ok",
     "timestamp": 1607018973915,
     "user": {
      "displayName": "WALLACE DUARTE DE HOLANDA",
      "photoUrl": "https://lh3.googleusercontent.com/a-/AOh14GgeWMOt53non50jDB5bIAwurrZleD5e6T7yfR9w=s64",
      "userId": "03474631865123362594"
     },
     "user_tz": 180
    },
    "id": "eZ8R0hus4nWl",
    "outputId": "4551b713-af92-4e71-b189-2d9b44fd32da"
   },
   "outputs": [
    {
     "data": {
      "text/plain": [
       "array([1, 1, 1, 1, 1, 1, 2, 1, 1, 1, 1, 1, 2, 1, 2, 1, 1, 1, 2, 2, 1, 1,\n",
       "       2, 2, 1, 2, 1, 2, 1, 1, 1, 1, 2, 2, 1, 2, 2, 1, 2, 1, 1, 1, 1, 2,\n",
       "       1, 1, 1, 1, 1, 2, 1, 2, 1, 2, 1, 2, 1, 1, 1, 2, 2, 2, 1, 2, 1, 1,\n",
       "       1, 1, 2, 1, 1, 1, 2, 1, 1, 1, 2, 1, 1, 1, 1, 2, 2, 1, 2, 2, 2, 2,\n",
       "       1, 1, 2, 2, 1, 1, 1, 1, 2, 2, 1, 1, 2, 1, 1, 1, 1, 1, 1, 1, 2, 1,\n",
       "       1, 2, 1, 1, 1, 1, 1, 1, 1, 2, 1, 1, 2, 2, 1, 1, 1, 1, 1, 1, 1, 2,\n",
       "       1, 1, 1, 1, 2, 1, 1, 2, 2, 2, 1, 2, 1, 1, 1, 1, 1, 1, 2, 2, 2, 1,\n",
       "       1, 2, 1, 1, 1, 2, 2, 1, 1, 1, 1, 2, 1, 2, 1, 1, 1, 1, 1, 1, 2, 1,\n",
       "       1, 2, 1, 1, 1, 1, 1, 1, 1, 1, 1, 1, 1, 1, 2, 1, 1, 1, 1, 1, 1, 2,\n",
       "       1, 2, 2, 1, 1, 1, 2, 1, 2, 1, 1, 1, 2, 1, 1, 1, 2, 1, 2, 1, 1, 1,\n",
       "       1, 2, 1, 1, 1, 2, 1, 1, 1, 2, 1, 1, 2], dtype=int64)"
      ]
     },
     "execution_count": 126,
     "metadata": {},
     "output_type": "execute_result"
    }
   ],
   "source": [
    "#Executando o modelo\n",
    "resultNaive = naiveModel.predict(x_test)\n",
    "resultNaive"
   ]
  },
  {
   "cell_type": "code",
   "execution_count": 127,
   "metadata": {
    "colab": {
     "base_uri": "https://localhost:8080/"
    },
    "executionInfo": {
     "elapsed": 720,
     "status": "ok",
     "timestamp": 1607018983431,
     "user": {
      "displayName": "WALLACE DUARTE DE HOLANDA",
      "photoUrl": "https://lh3.googleusercontent.com/a-/AOh14GgeWMOt53non50jDB5bIAwurrZleD5e6T7yfR9w=s64",
      "userId": "03474631865123362594"
     },
     "user_tz": 180
    },
    "id": "JoDuDB0I4xBV",
    "outputId": "cf314e49-0a60-4100-d146-b1fc8d65deff"
   },
   "outputs": [
    {
     "name": "stdout",
     "output_type": "stream",
     "text": [
      "0.7167381974248928\n"
     ]
    }
   ],
   "source": [
    "# Verificando a Acurácia\n",
    "from sklearn.metrics import accuracy_score\n",
    "print(accuracy_score(y_test, resultNaive))"
   ]
  },
  {
   "cell_type": "code",
   "execution_count": 128,
   "metadata": {
    "colab": {
     "base_uri": "https://localhost:8080/"
    },
    "executionInfo": {
     "elapsed": 1007,
     "status": "ok",
     "timestamp": 1607018998681,
     "user": {
      "displayName": "WALLACE DUARTE DE HOLANDA",
      "photoUrl": "https://lh3.googleusercontent.com/a-/AOh14GgeWMOt53non50jDB5bIAwurrZleD5e6T7yfR9w=s64",
      "userId": "03474631865123362594"
     },
     "user_tz": 180
    },
    "id": "sK1zCqZ8y8av",
    "outputId": "7cb8719e-da18-4eb0-843a-4b9089768ad4",
    "scrolled": true
   },
   "outputs": [
    {
     "name": "stdout",
     "output_type": "stream",
     "text": [
      "              precision    recall  f1-score   support\n",
      "\n",
      "           1       0.75      0.83      0.79       146\n",
      "           2       0.65      0.53      0.58        87\n",
      "\n",
      "    accuracy                           0.72       233\n",
      "   macro avg       0.70      0.68      0.68       233\n",
      "weighted avg       0.71      0.72      0.71       233\n",
      "\n"
     ]
    }
   ],
   "source": [
    "# Verificando Métricas\n",
    "from sklearn import metrics\n",
    "print(metrics.classification_report(y_test,resultNaive))"
   ]
  },
  {
   "cell_type": "markdown",
   "metadata": {
    "id": "Si8dtW9Lpsev"
   },
   "source": [
    "# Aplicando o modelo MLP"
   ]
  },
  {
   "cell_type": "code",
   "execution_count": 129,
   "metadata": {
    "colab": {
     "base_uri": "https://localhost:8080/"
    },
    "executionInfo": {
     "elapsed": 2336,
     "status": "ok",
     "timestamp": 1607019233345,
     "user": {
      "displayName": "WALLACE DUARTE DE HOLANDA",
      "photoUrl": "https://lh3.googleusercontent.com/a-/AOh14GgeWMOt53non50jDB5bIAwurrZleD5e6T7yfR9w=s64",
      "userId": "03474631865123362594"
     },
     "user_tz": 180
    },
    "id": "uyAHklQ5py70",
    "outputId": "7438b645-9211-4850-83ad-85ace6713559"
   },
   "outputs": [
    {
     "name": "stderr",
     "output_type": "stream",
     "text": [
      "C:\\Users\\walla\\anaconda3\\lib\\site-packages\\sklearn\\neural_network\\_multilayer_perceptron.py:571: ConvergenceWarning: Stochastic Optimizer: Maximum iterations (300) reached and the optimization hasn't converged yet.\n",
      "  % self.max_iter, ConvergenceWarning)\n"
     ]
    },
    {
     "data": {
      "text/plain": [
       "MLPClassifier(activation='relu', alpha=0.0001, batch_size='auto', beta_1=0.9,\n",
       "              beta_2=0.999, early_stopping=False, epsilon=1e-08,\n",
       "              hidden_layer_sizes=150, learning_rate='adaptive',\n",
       "              learning_rate_init=0.001, max_fun=15000, max_iter=300,\n",
       "              momentum=0.9, n_iter_no_change=10, nesterovs_momentum=True,\n",
       "              power_t=0.5, random_state=1, shuffle=True, solver='sgd',\n",
       "              tol=0.0001, validation_fraction=0.1, verbose=False,\n",
       "              warm_start=False)"
      ]
     },
     "execution_count": 129,
     "metadata": {},
     "output_type": "execute_result"
    }
   ],
   "source": [
    "#Importando o MLP\n",
    "from sklearn.neural_network import MLPClassifier\n",
    "mlpModelo = MLPClassifier(learning_rate= 'adaptive', random_state=1, hidden_layer_sizes=(150), max_iter=300, activation='relu', solver = 'sgd')\n",
    "mlpModelo.fit(x_train, y_train)\n"
   ]
  },
  {
   "cell_type": "code",
   "execution_count": 130,
   "metadata": {
    "id": "I1hOTiwuqPox"
   },
   "outputs": [],
   "source": [
    "# Realizando a predição\n",
    "#mlpModelo.score(x_test, y_test)\n",
    "resultMLP = mlpModelo.predict(x_test)\n"
   ]
  },
  {
   "cell_type": "code",
   "execution_count": 132,
   "metadata": {
    "colab": {
     "base_uri": "https://localhost:8080/"
    },
    "executionInfo": {
     "elapsed": 734,
     "status": "ok",
     "timestamp": 1607019237569,
     "user": {
      "displayName": "WALLACE DUARTE DE HOLANDA",
      "photoUrl": "https://lh3.googleusercontent.com/a-/AOh14GgeWMOt53non50jDB5bIAwurrZleD5e6T7yfR9w=s64",
      "userId": "03474631865123362594"
     },
     "user_tz": 180
    },
    "id": "YteD54Ona_uX",
    "outputId": "748c4dec-429a-4ebb-874e-d8c82a3f4841"
   },
   "outputs": [
    {
     "name": "stdout",
     "output_type": "stream",
     "text": [
      "0.6781115879828327\n"
     ]
    }
   ],
   "source": [
    "# Verificando a Acurácia\n",
    "from sklearn.metrics import accuracy_score\n",
    "print(accuracy_score(y_test, resultMLP))"
   ]
  },
  {
   "cell_type": "code",
   "execution_count": 133,
   "metadata": {
    "colab": {
     "base_uri": "https://localhost:8080/"
    },
    "executionInfo": {
     "elapsed": 754,
     "status": "ok",
     "timestamp": 1607019239875,
     "user": {
      "displayName": "WALLACE DUARTE DE HOLANDA",
      "photoUrl": "https://lh3.googleusercontent.com/a-/AOh14GgeWMOt53non50jDB5bIAwurrZleD5e6T7yfR9w=s64",
      "userId": "03474631865123362594"
     },
     "user_tz": 180
    },
    "id": "8rhPfKAHaFqy",
    "outputId": "878f7fdd-857e-41be-c73b-1c0e678e9ec8"
   },
   "outputs": [
    {
     "name": "stdout",
     "output_type": "stream",
     "text": [
      "              precision    recall  f1-score   support\n",
      "\n",
      "           1       0.72      0.81      0.76       146\n",
      "           2       0.59      0.46      0.52        87\n",
      "\n",
      "    accuracy                           0.68       233\n",
      "   macro avg       0.65      0.63      0.64       233\n",
      "weighted avg       0.67      0.68      0.67       233\n",
      "\n"
     ]
    }
   ],
   "source": [
    "# Verificando Métricas\n",
    "from sklearn import metrics\n",
    "print(metrics.classification_report(y_test,resultMLP))"
   ]
  },
  {
   "cell_type": "markdown",
   "metadata": {
    "id": "SKUy2p0R0DLe"
   },
   "source": [
    "# Aplicando o SVM\n"
   ]
  },
  {
   "cell_type": "code",
   "execution_count": 134,
   "metadata": {
    "colab": {
     "base_uri": "https://localhost:8080/"
    },
    "executionInfo": {
     "elapsed": 766,
     "status": "ok",
     "timestamp": 1607019456079,
     "user": {
      "displayName": "WALLACE DUARTE DE HOLANDA",
      "photoUrl": "https://lh3.googleusercontent.com/a-/AOh14GgeWMOt53non50jDB5bIAwurrZleD5e6T7yfR9w=s64",
      "userId": "03474631865123362594"
     },
     "user_tz": 180
    },
    "id": "Pe_PR1pL0HJ6",
    "outputId": "45be3cc2-e9ae-4451-a679-8b64ac38aa1e"
   },
   "outputs": [
    {
     "data": {
      "text/plain": [
       "SVC(C=1.0, break_ties=False, cache_size=200, class_weight=None, coef0=0.0,\n",
       "    decision_function_shape='ovr', degree=3, gamma='auto', kernel='rbf',\n",
       "    max_iter=-1, probability=False, random_state=None, shrinking=True,\n",
       "    tol=0.001, verbose=False)"
      ]
     },
     "execution_count": 134,
     "metadata": {},
     "output_type": "execute_result"
    }
   ],
   "source": [
    "#Importando o SVM\n",
    "from sklearn import svm\n",
    "svmModelo = svm.SVC(gamma = 'auto')\n",
    "svmModelo.fit(x_train, y_train)"
   ]
  },
  {
   "cell_type": "code",
   "execution_count": 137,
   "metadata": {
    "id": "a2kMOFCe0Hcu"
   },
   "outputs": [],
   "source": [
    "# Testando o modelo\n",
    "resultSVM = svmModelo.predict(x_test)"
   ]
  },
  {
   "cell_type": "code",
   "execution_count": 140,
   "metadata": {
    "colab": {
     "base_uri": "https://localhost:8080/"
    },
    "executionInfo": {
     "elapsed": 767,
     "status": "ok",
     "timestamp": 1607019461308,
     "user": {
      "displayName": "WALLACE DUARTE DE HOLANDA",
      "photoUrl": "https://lh3.googleusercontent.com/a-/AOh14GgeWMOt53non50jDB5bIAwurrZleD5e6T7yfR9w=s64",
      "userId": "03474631865123362594"
     },
     "user_tz": 180
    },
    "id": "qj0D72zT06We",
    "outputId": "f284e6d0-41af-4d30-e3b6-51e1907e9ef3"
   },
   "outputs": [
    {
     "name": "stdout",
     "output_type": "stream",
     "text": [
      "0.7296137339055794\n"
     ]
    }
   ],
   "source": [
    "# Verificando a acurácia\n",
    "from sklearn.metrics import accuracy_score\n",
    "print(accuracy_score(y_test, resultSVM))"
   ]
  },
  {
   "cell_type": "code",
   "execution_count": 141,
   "metadata": {
    "colab": {
     "base_uri": "https://localhost:8080/"
    },
    "executionInfo": {
     "elapsed": 791,
     "status": "ok",
     "timestamp": 1607019464702,
     "user": {
      "displayName": "WALLACE DUARTE DE HOLANDA",
      "photoUrl": "https://lh3.googleusercontent.com/a-/AOh14GgeWMOt53non50jDB5bIAwurrZleD5e6T7yfR9w=s64",
      "userId": "03474631865123362594"
     },
     "user_tz": 180
    },
    "id": "5cyJkZ0E08b-",
    "outputId": "2994174c-0db3-427a-e61e-ddff2bc132c0"
   },
   "outputs": [
    {
     "name": "stdout",
     "output_type": "stream",
     "text": [
      "              precision    recall  f1-score   support\n",
      "\n",
      "           1       0.73      0.89      0.80       146\n",
      "           2       0.71      0.46      0.56        87\n",
      "\n",
      "    accuracy                           0.73       233\n",
      "   macro avg       0.72      0.68      0.68       233\n",
      "weighted avg       0.73      0.73      0.71       233\n",
      "\n"
     ]
    }
   ],
   "source": [
    "# Verificando Métricas\n",
    "from sklearn import metrics\n",
    "print(metrics.classification_report(y_test, resultSVM))"
   ]
  },
  {
   "cell_type": "markdown",
   "metadata": {},
   "source": [
    "# Verificando as métricas"
   ]
  },
  {
   "cell_type": "code",
   "execution_count": 42,
   "metadata": {},
   "outputs": [],
   "source": [
    "from sklearn.feature_selection import chi2\n",
    "from sklearn.feature_selection import SelectKBest"
   ]
  },
  {
   "cell_type": "code",
   "execution_count": 49,
   "metadata": {},
   "outputs": [],
   "source": [
    "y = covidData[\"EVOLUCAO\"]\n",
    "x = covidData.drop(columns=['EVOLUCAO'], inplace = False)\n",
    "\n",
    "melhores_dados = SelectKBest(chi2, k=10).fit_transform(x, y)"
   ]
  },
  {
   "cell_type": "code",
   "execution_count": 54,
   "metadata": {},
   "outputs": [
    {
     "data": {
      "text/plain": [
       "(774, 10)"
      ]
     },
     "execution_count": 54,
     "metadata": {},
     "output_type": "execute_result"
    }
   ],
   "source": [
    "melhores_dados.shape"
   ]
  },
  {
   "cell_type": "code",
   "execution_count": 56,
   "metadata": {},
   "outputs": [
    {
     "data": {
      "image/png": "[encoded data removed]",
      "text/plain": [
       "<Figure size 720x504 with 2 Axes>"
      ]
     },
     "metadata": {
      "needs_background": "light"
     },
     "output_type": "display_data"
    }
   ],
   "source": [
    "import matplotlib.pyplot as plt\n",
    "import seaborn as sns\n",
    "plt.figure(figsize=(10, 7))\n",
    "sns.heatmap(covidData.corr(),\n",
    "            annot = True,\n",
    "            fmt = '.2f',\n",
    "            cmap='Blues')\n",
    "plt.title('Correlação entre variáveis do dataset de Iris')\n",
    "plt.show()"
   ]
  },
  {
   "cell_type": "code",
   "execution_count": null,
   "metadata": {},
   "outputs": [],
   "source": []
  }
 ],
 "metadata": {
  "colab": {
   "authorship_tag": "ABX9TyNi5ECormJoQgBR1UpMaIgv",
   "collapsed_sections": [],
   "name": "TestandoModelos.ipynb",
   "provenance": [],
   "toc_visible": true
  },
  "kernelspec": {
   "display_name": "Python 3",
   "language": "python",
   "name": "python3"
  },
  "language_info": {
   "codemirror_mode": {
    "name": "ipython",
    "version": 3
   },
   "file_extension": ".py",
   "mimetype": "text/x-python",
   "name": "python",
   "nbconvert_exporter": "python",
   "pygments_lexer": "ipython3",
   "version": "3.7.6"
  }
 },
 "nbformat": 4,
 "nbformat_minor": 1
}
