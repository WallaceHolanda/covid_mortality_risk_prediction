{
 "cells": [
  {
   "cell_type": "code",
   "execution_count": 3,
   "metadata": {
    "executionInfo": {
     "elapsed": 1323,
     "status": "ok",
     "timestamp": 1607197994432,
     "user": {
      "displayName": "WALLACE DUARTE DE HOLANDA",
      "photoUrl": "https://lh3.googleusercontent.com/a-/AOh14GgeWMOt53non50jDB5bIAwurrZleD5e6T7yfR9w=s64",
      "userId": "03474631865123362594"
     },
     "user_tz": 180
    },
    "id": "m1h9VfJTepyT"
   },
   "outputs": [],
   "source": [
    "#Importando as bibliotecas\n",
    "import pandas as pd\n",
    "import numpy as np\n",
    "import matplotlib.pyplot as plt\n",
    "import seaborn as sns"
   ]
  },
  {
   "cell_type": "code",
   "execution_count": 26,
   "metadata": {
    "colab": {
     "base_uri": "https://localhost:8080/",
     "height": 224
    },
    "executionInfo": {
     "elapsed": 1953,
     "status": "ok",
     "timestamp": 1607197997111,
     "user": {
      "displayName": "WALLACE DUARTE DE HOLANDA",
      "photoUrl": "https://lh3.googleusercontent.com/a-/AOh14GgeWMOt53non50jDB5bIAwurrZleD5e6T7yfR9w=s64",
      "userId": "03474631865123362594"
     },
     "user_tz": 180
    },
    "id": "Mu5ZjzhKfZpk",
    "outputId": "99aae722-44e6-4efa-ca3b-a265dfb2a396"
   },
   "outputs": [
    {
     "data": {
      "text/html": [
       "<div>\n",
       "<style scoped>\n",
       "    .dataframe tbody tr th:only-of-type {\n",
       "        vertical-align: middle;\n",
       "    }\n",
       "\n",
       "    .dataframe tbody tr th {\n",
       "        vertical-align: top;\n",
       "    }\n",
       "\n",
       "    .dataframe thead th {\n",
       "        text-align: right;\n",
       "    }\n",
       "</style>\n",
       "<table border=\"1\" class=\"dataframe\">\n",
       "  <thead>\n",
       "    <tr style=\"text-align: right;\">\n",
       "      <th></th>\n",
       "      <th>NU_NOTIFIC</th>\n",
       "      <th>DT_NOTIFIC</th>\n",
       "      <th>SEM_NOT</th>\n",
       "      <th>DT_SIN_PRI</th>\n",
       "      <th>SEM_PRI</th>\n",
       "      <th>SG_UF_NOT</th>\n",
       "      <th>ID_REGIONA</th>\n",
       "      <th>CO_REGIONA</th>\n",
       "      <th>ID_MUNICIP</th>\n",
       "      <th>CO_MUN_NOT</th>\n",
       "      <th>...</th>\n",
       "      <th>DS_AN_OUT</th>\n",
       "      <th>TP_AM_SOR</th>\n",
       "      <th>SOR_OUT</th>\n",
       "      <th>DT_CO_SOR</th>\n",
       "      <th>TP_SOR</th>\n",
       "      <th>OUT_SOR</th>\n",
       "      <th>DT_RES</th>\n",
       "      <th>RES_IGG</th>\n",
       "      <th>RES_IGM</th>\n",
       "      <th>RES_IGA</th>\n",
       "    </tr>\n",
       "  </thead>\n",
       "  <tbody>\n",
       "    <tr>\n",
       "      <th>0</th>\n",
       "      <td>315867989608</td>\n",
       "      <td>2020-03-19</td>\n",
       "      <td>12</td>\n",
       "      <td>2020-03-14</td>\n",
       "      <td>11</td>\n",
       "      <td>RN</td>\n",
       "      <td>II URSAP</td>\n",
       "      <td>1412</td>\n",
       "      <td>MOSSORO</td>\n",
       "      <td>240800</td>\n",
       "      <td>...</td>\n",
       "      <td>NaN</td>\n",
       "      <td>0</td>\n",
       "      <td>NaN</td>\n",
       "      <td>NaT</td>\n",
       "      <td>0</td>\n",
       "      <td>NaN</td>\n",
       "      <td>NaT</td>\n",
       "      <td>NaN</td>\n",
       "      <td>NaN</td>\n",
       "      <td>NaN</td>\n",
       "    </tr>\n",
       "    <tr>\n",
       "      <th>1</th>\n",
       "      <td>315868079985</td>\n",
       "      <td>2020-03-22</td>\n",
       "      <td>13</td>\n",
       "      <td>2020-03-16</td>\n",
       "      <td>12</td>\n",
       "      <td>RN</td>\n",
       "      <td>II URSAP</td>\n",
       "      <td>1412</td>\n",
       "      <td>MOSSORO</td>\n",
       "      <td>240800</td>\n",
       "      <td>...</td>\n",
       "      <td>NaN</td>\n",
       "      <td>0</td>\n",
       "      <td>NaN</td>\n",
       "      <td>NaT</td>\n",
       "      <td>0</td>\n",
       "      <td>NaN</td>\n",
       "      <td>NaT</td>\n",
       "      <td>NaN</td>\n",
       "      <td>NaN</td>\n",
       "      <td>NaN</td>\n",
       "    </tr>\n",
       "    <tr>\n",
       "      <th>2</th>\n",
       "      <td>315868835393</td>\n",
       "      <td>2020-04-05</td>\n",
       "      <td>15</td>\n",
       "      <td>2020-03-24</td>\n",
       "      <td>13</td>\n",
       "      <td>RN</td>\n",
       "      <td>II URSAP</td>\n",
       "      <td>1412</td>\n",
       "      <td>MOSSORO</td>\n",
       "      <td>240800</td>\n",
       "      <td>...</td>\n",
       "      <td>NaN</td>\n",
       "      <td>0</td>\n",
       "      <td>NaN</td>\n",
       "      <td>NaT</td>\n",
       "      <td>0</td>\n",
       "      <td>NaN</td>\n",
       "      <td>NaT</td>\n",
       "      <td>NaN</td>\n",
       "      <td>NaN</td>\n",
       "      <td>NaN</td>\n",
       "    </tr>\n",
       "    <tr>\n",
       "      <th>3</th>\n",
       "      <td>315868867496</td>\n",
       "      <td>2020-03-23</td>\n",
       "      <td>13</td>\n",
       "      <td>2020-03-19</td>\n",
       "      <td>12</td>\n",
       "      <td>RN</td>\n",
       "      <td>II URSAP</td>\n",
       "      <td>1412</td>\n",
       "      <td>MOSSORO</td>\n",
       "      <td>240800</td>\n",
       "      <td>...</td>\n",
       "      <td>NaN</td>\n",
       "      <td>0</td>\n",
       "      <td>NaN</td>\n",
       "      <td>NaT</td>\n",
       "      <td>0</td>\n",
       "      <td>NaN</td>\n",
       "      <td>NaT</td>\n",
       "      <td>NaN</td>\n",
       "      <td>NaN</td>\n",
       "      <td>NaN</td>\n",
       "    </tr>\n",
       "    <tr>\n",
       "      <th>4</th>\n",
       "      <td>315868876560</td>\n",
       "      <td>2020-03-23</td>\n",
       "      <td>13</td>\n",
       "      <td>2020-03-21</td>\n",
       "      <td>12</td>\n",
       "      <td>RN</td>\n",
       "      <td>II URSAP</td>\n",
       "      <td>1412</td>\n",
       "      <td>MOSSORO</td>\n",
       "      <td>240800</td>\n",
       "      <td>...</td>\n",
       "      <td>NaN</td>\n",
       "      <td>0</td>\n",
       "      <td>NaN</td>\n",
       "      <td>NaT</td>\n",
       "      <td>0</td>\n",
       "      <td>NaN</td>\n",
       "      <td>NaT</td>\n",
       "      <td>NaN</td>\n",
       "      <td>NaN</td>\n",
       "      <td>NaN</td>\n",
       "    </tr>\n",
       "  </tbody>\n",
       "</table>\n",
       "<p>5 rows × 165 columns</p>\n",
       "</div>"
      ],
      "text/plain": [
       "     NU_NOTIFIC DT_NOTIFIC  SEM_NOT DT_SIN_PRI  SEM_PRI SG_UF_NOT ID_REGIONA  \\\n",
       "0  315867989608 2020-03-19       12 2020-03-14       11        RN   II URSAP   \n",
       "1  315868079985 2020-03-22       13 2020-03-16       12        RN   II URSAP   \n",
       "2  315868835393 2020-04-05       15 2020-03-24       13        RN   II URSAP   \n",
       "3  315868867496 2020-03-23       13 2020-03-19       12        RN   II URSAP   \n",
       "4  315868876560 2020-03-23       13 2020-03-21       12        RN   II URSAP   \n",
       "\n",
       "   CO_REGIONA ID_MUNICIP  CO_MUN_NOT  ... DS_AN_OUT  TP_AM_SOR  SOR_OUT  \\\n",
       "0        1412    MOSSORO      240800  ...       NaN          0      NaN   \n",
       "1        1412    MOSSORO      240800  ...       NaN          0      NaN   \n",
       "2        1412    MOSSORO      240800  ...       NaN          0      NaN   \n",
       "3        1412    MOSSORO      240800  ...       NaN          0      NaN   \n",
       "4        1412    MOSSORO      240800  ...       NaN          0      NaN   \n",
       "\n",
       "  DT_CO_SOR  TP_SOR  OUT_SOR  DT_RES  RES_IGG  RES_IGM  RES_IGA  \n",
       "0       NaT       0      NaN     NaT      NaN      NaN      NaN  \n",
       "1       NaT       0      NaN     NaT      NaN      NaN      NaN  \n",
       "2       NaT       0      NaN     NaT      NaN      NaN      NaN  \n",
       "3       NaT       0      NaN     NaT      NaN      NaN      NaN  \n",
       "4       NaT       0      NaN     NaT      NaN      NaN      NaN  \n",
       "\n",
       "[5 rows x 165 columns]"
      ]
     },
     "execution_count": 26,
     "metadata": {},
     "output_type": "execute_result"
    }
   ],
   "source": [
    "#Carregando o Dataset\n",
    "covidData = pd.read_excel(\"../database/dados-com-covid.xlsx\")\n",
    "covidData.head()\n",
    "#covidData['CLASSI_FIN'].value_counts()\n"
   ]
  },
  {
   "cell_type": "markdown",
   "metadata": {},
   "source": [
    "# Visualizando Dados (Com/Sem Covid)"
   ]
  },
  {
   "cell_type": "code",
   "execution_count": 27,
   "metadata": {},
   "outputs": [
    {
     "data": {
      "text/html": [
       "<div>\n",
       "<style scoped>\n",
       "    .dataframe tbody tr th:only-of-type {\n",
       "        vertical-align: middle;\n",
       "    }\n",
       "\n",
       "    .dataframe tbody tr th {\n",
       "        vertical-align: top;\n",
       "    }\n",
       "\n",
       "    .dataframe thead th {\n",
       "        text-align: right;\n",
       "    }\n",
       "</style>\n",
       "<table border=\"1\" class=\"dataframe\">\n",
       "  <thead>\n",
       "    <tr style=\"text-align: right;\">\n",
       "      <th></th>\n",
       "      <th>FEBRE</th>\n",
       "      <th>TOSSE</th>\n",
       "      <th>GARGANTA</th>\n",
       "      <th>DISPNEIA</th>\n",
       "      <th>DESC_RESP</th>\n",
       "      <th>SATURACAO</th>\n",
       "      <th>DIARREIA</th>\n",
       "      <th>VOMITO</th>\n",
       "    </tr>\n",
       "  </thead>\n",
       "  <tbody>\n",
       "    <tr>\n",
       "      <th>0</th>\n",
       "      <td>1</td>\n",
       "      <td>1</td>\n",
       "      <td>1</td>\n",
       "      <td>1</td>\n",
       "      <td>1</td>\n",
       "      <td>1</td>\n",
       "      <td>2</td>\n",
       "      <td>2</td>\n",
       "    </tr>\n",
       "    <tr>\n",
       "      <th>1</th>\n",
       "      <td>1</td>\n",
       "      <td>1</td>\n",
       "      <td>1</td>\n",
       "      <td>1</td>\n",
       "      <td>1</td>\n",
       "      <td>1</td>\n",
       "      <td>2</td>\n",
       "      <td>2</td>\n",
       "    </tr>\n",
       "    <tr>\n",
       "      <th>2</th>\n",
       "      <td>1</td>\n",
       "      <td>1</td>\n",
       "      <td>2</td>\n",
       "      <td>1</td>\n",
       "      <td>1</td>\n",
       "      <td>1</td>\n",
       "      <td>1</td>\n",
       "      <td>2</td>\n",
       "    </tr>\n",
       "    <tr>\n",
       "      <th>3</th>\n",
       "      <td>1</td>\n",
       "      <td>1</td>\n",
       "      <td>2</td>\n",
       "      <td>1</td>\n",
       "      <td>1</td>\n",
       "      <td>1</td>\n",
       "      <td>2</td>\n",
       "      <td>2</td>\n",
       "    </tr>\n",
       "    <tr>\n",
       "      <th>4</th>\n",
       "      <td>1</td>\n",
       "      <td>1</td>\n",
       "      <td>2</td>\n",
       "      <td>1</td>\n",
       "      <td>1</td>\n",
       "      <td>1</td>\n",
       "      <td>2</td>\n",
       "      <td>2</td>\n",
       "    </tr>\n",
       "    <tr>\n",
       "      <th>...</th>\n",
       "      <td>...</td>\n",
       "      <td>...</td>\n",
       "      <td>...</td>\n",
       "      <td>...</td>\n",
       "      <td>...</td>\n",
       "      <td>...</td>\n",
       "      <td>...</td>\n",
       "      <td>...</td>\n",
       "    </tr>\n",
       "    <tr>\n",
       "      <th>769</th>\n",
       "      <td>2</td>\n",
       "      <td>1</td>\n",
       "      <td>2</td>\n",
       "      <td>1</td>\n",
       "      <td>1</td>\n",
       "      <td>1</td>\n",
       "      <td>2</td>\n",
       "      <td>2</td>\n",
       "    </tr>\n",
       "    <tr>\n",
       "      <th>770</th>\n",
       "      <td>1</td>\n",
       "      <td>2</td>\n",
       "      <td>2</td>\n",
       "      <td>2</td>\n",
       "      <td>1</td>\n",
       "      <td>1</td>\n",
       "      <td>1</td>\n",
       "      <td>2</td>\n",
       "    </tr>\n",
       "    <tr>\n",
       "      <th>771</th>\n",
       "      <td>1</td>\n",
       "      <td>1</td>\n",
       "      <td>2</td>\n",
       "      <td>1</td>\n",
       "      <td>1</td>\n",
       "      <td>1</td>\n",
       "      <td>2</td>\n",
       "      <td>2</td>\n",
       "    </tr>\n",
       "    <tr>\n",
       "      <th>772</th>\n",
       "      <td>2</td>\n",
       "      <td>2</td>\n",
       "      <td>2</td>\n",
       "      <td>1</td>\n",
       "      <td>1</td>\n",
       "      <td>1</td>\n",
       "      <td>2</td>\n",
       "      <td>2</td>\n",
       "    </tr>\n",
       "    <tr>\n",
       "      <th>773</th>\n",
       "      <td>2</td>\n",
       "      <td>2</td>\n",
       "      <td>1</td>\n",
       "      <td>1</td>\n",
       "      <td>1</td>\n",
       "      <td>1</td>\n",
       "      <td>1</td>\n",
       "      <td>1</td>\n",
       "    </tr>\n",
       "  </tbody>\n",
       "</table>\n",
       "<p>774 rows × 8 columns</p>\n",
       "</div>"
      ],
      "text/plain": [
       "     FEBRE  TOSSE  GARGANTA  DISPNEIA  DESC_RESP  SATURACAO  DIARREIA  VOMITO\n",
       "0        1      1         1         1          1          1         2       2\n",
       "1        1      1         1         1          1          1         2       2\n",
       "2        1      1         2         1          1          1         1       2\n",
       "3        1      1         2         1          1          1         2       2\n",
       "4        1      1         2         1          1          1         2       2\n",
       "..     ...    ...       ...       ...        ...        ...       ...     ...\n",
       "769      2      1         2         1          1          1         2       2\n",
       "770      1      2         2         2          1          1         1       2\n",
       "771      1      1         2         1          1          1         2       2\n",
       "772      2      2         2         1          1          1         2       2\n",
       "773      2      2         1         1          1          1         1       1\n",
       "\n",
       "[774 rows x 8 columns]"
      ]
     },
     "execution_count": 27,
     "metadata": {},
     "output_type": "execute_result"
    }
   ],
   "source": [
    "attributes = [\"FEBRE\", \"TOSSE\", \"GARGANTA\", \"DISPNEIA\", \"DESC_RESP\", \"SATURACAO\",\"DIARREIA\",\"VOMITO\"]\n",
    "newCovidData = covidData[attributes]\n",
    "newCovidData"
   ]
  },
  {
   "cell_type": "code",
   "execution_count": 28,
   "metadata": {},
   "outputs": [
    {
     "name": "stderr",
     "output_type": "stream",
     "text": [
      "C:\\Users\\walla\\anaconda3\\lib\\site-packages\\pandas\\core\\frame.py:4172: SettingWithCopyWarning: \n",
      "A value is trying to be set on a copy of a slice from a DataFrame\n",
      "\n",
      "See the caveats in the documentation: https://pandas.pydata.org/pandas-docs/stable/user_guide/indexing.html#returning-a-view-versus-a-copy\n",
      "  method=method,\n"
     ]
    },
    {
     "data": {
      "text/plain": [
       "(774, 8)"
      ]
     },
     "execution_count": 28,
     "metadata": {},
     "output_type": "execute_result"
    }
   ],
   "source": [
    "newCovidData.replace(1, 'Sim', inplace = True)\n",
    "newCovidData.replace(2, 'Nao', inplace = True)\n",
    "newCovidData.shape"
   ]
  },
  {
   "cell_type": "code",
   "execution_count": 29,
   "metadata": {},
   "outputs": [
    {
     "data": {
      "text/plain": [
       "[516, 574, 136, 647, 604, 523, 108, 69]"
      ]
     },
     "execution_count": 29,
     "metadata": {},
     "output_type": "execute_result"
    }
   ],
   "source": [
    "# Sem covid - 372\n",
    "# Com covid - 774\n",
    "# Total - 774\n",
    "\n",
    "febre = len(newCovidData.FEBRE[newCovidData.FEBRE == \"Sim\"])\n",
    "tosse = len(newCovidData.TOSSE[newCovidData.TOSSE == \"Sim\"])\n",
    "garganta = len(newCovidData.GARGANTA[newCovidData.GARGANTA == \"Sim\"])\n",
    "dispneia = len(newCovidData.DISPNEIA[newCovidData.DISPNEIA == \"Sim\"])\n",
    "respiracao = len(newCovidData.DESC_RESP[newCovidData.DESC_RESP == \"Sim\"])\n",
    "saturacao = len(newCovidData.SATURACAO[newCovidData.SATURACAO == \"Sim\"])\n",
    "diarreia = len(newCovidData.DIARREIA[newCovidData.DIARREIA == \"Sim\"])\n",
    "vomito = len(newCovidData.VOMITO[newCovidData.VOMITO == \"Sim\"])\n",
    "\n",
    "termos = ['Febre', 'Tosse', 'Garganta', 'Dispneia', 'Respiração', 'Saturação', 'Diarreia', 'Vômito']\n",
    "valores = [febre, tosse, garganta, dispneia, respiracao, saturacao, diarreia, vomito]\n",
    "\n",
    "valores"
   ]
  },
  {
   "cell_type": "code",
   "execution_count": 30,
   "metadata": {},
   "outputs": [
    {
     "data": {
      "text/plain": [
       "array([0.66666667, 0.74160207, 0.17571059, 0.83591731, 0.78036176,\n",
       "       0.67571059, 0.13953488, 0.08914729])"
      ]
     },
     "execution_count": 30,
     "metadata": {},
     "output_type": "execute_result"
    }
   ],
   "source": [
    "# Tamanho do vetor\n",
    "total = np.array([774])\n",
    "\n",
    "# Se quiser em 100%, mude de 1 -> 100\n",
    "porcento = np.array([1])\n",
    "\n",
    "novosValores = (valores / total)\n",
    "novosValores = (novosValores * porcento)\n",
    "novosValores"
   ]
  },
  {
   "cell_type": "code",
   "execution_count": 22,
   "metadata": {},
   "outputs": [
    {
     "data": {
      "image/png": "[encoded data removed]",
      "text/plain": [
       "<Figure size 576x360 with 1 Axes>"
      ]
     },
     "metadata": {
      "needs_background": "light"
     },
     "output_type": "display_data"
    }
   ],
   "source": [
    "# Gerando o Gráfico de Barras\n",
    "termos = ['Febre', 'Tosse', 'Garganta', 'Dispneia', 'Respiração', 'Saturação', 'Diarreia', 'Vômito']\n",
    "\n",
    "#valores ou novosValores\n",
    "valores = [febre, tosse, garganta, dispneia, respiracao, saturacao, diarreia, vomito]\n",
    "\n",
    "fig, ax = plt.subplots()\n",
    "\n",
    "sns.barplot(x=termos, y=novosValores, ax=ax)\n",
    "plt.xlabel('Sintomas')\n",
    "plt.ylabel('Casos sem Covid')\n",
    "\n",
    "plt.yticks([0, 0.1, 0.2, 0.3, 0.4, 0.5, 0.6, 0.7, 0.8, 0.9, 1])\n",
    "#plt.yticks([0, 10, 20, 30, 40, 50, 60, 70, 80, 90, 100])\n",
    "plt.xticks(rotation=45)\n",
    "ax.tick_params(labelsize=10)\n",
    "fig = plt.gcf()\n",
    "plt.gcf().set_size_inches(8, 5)\n",
    "plt.show()\n",
    "#fig.savefig('sintomas-confirmados.png', format='png')"
   ]
  },
  {
   "cell_type": "code",
   "execution_count": 2,
   "metadata": {
    "scrolled": true
   },
   "outputs": [],
   "source": [
    "# Comparativo entre os dados\n",
    "\n",
    "termos = ['Febre', 'Tosse', 'Garganta', 'Dispneia', 'Respiração', 'Saturação', 'Diarreia', 'Vômito']\n",
    "sem_covid_vector = [0.54569892, 0.63978495, 0.11021505, 0.81989247, 0.79569892, 0.65860215, 0.12634409, 0.14516129]\n",
    "com_covid_vector = [0.66666667, 0.74160207, 0.17571059, 0.83591731, 0.78036176, 0.67571059, 0.13953488, 0.08914729]\n"
   ]
  },
  {
   "cell_type": "code",
   "execution_count": 6,
   "metadata": {},
   "outputs": [],
   "source": [
    "ind = np.arange(len(termos))"
   ]
  },
  {
   "cell_type": "code",
   "execution_count": 13,
   "metadata": {},
   "outputs": [
    {
     "data": {
      "image/png": "[encoded data removed]",
      "text/plain": [
       "<Figure size 432x288 with 1 Axes>"
      ]
     },
     "metadata": {
      "needs_background": "light"
     },
     "output_type": "display_data"
    }
   ],
   "source": [
    "# Gerando o Gráfico\n",
    "fig, ax = plt.subplots()\n",
    "\n",
    "width = 0.4\n",
    "                          \n",
    "plt.bar(ind, sem_covid_vector, width, color = 'blue', label = 'Sem Covid')\n",
    "plt.bar(ind + width, com_covid_vector, width, color = 'red', label = 'Com Covid')\n",
    "\n",
    "#sns.barplot(x=termos, y=sem_covid_vector, ax=ax)\n",
    "#sns.barplot(x=termos, y=com_covid_vector, ax=ax)\n",
    "\n",
    "plt.xlabel('Sintomas')\n",
    "plt.ylabel('Porcentagem dos casos')\n",
    "\n",
    "plt.yticks([0, 0.1, 0.2, 0.3, 0.4, 0.5, 0.6, 0.7, 0.8, 0.9, 1])\n",
    "#plt.yticks([0, 10, 20, 30, 40, 50, 60, 70, 80, 90, 100])\n",
    "\n",
    "plt.xticks(rotation=45)\n",
    "location = ind+width/2\n",
    "labels= termos\n",
    "plt.xticks(location, labels)\n",
    "plt.legend()\n",
    "                \n",
    "#ax.tick_params(labelsize=10)\n",
    "#fig = plt.gcf()\n",
    "plt.show()\n",
    "fig.savefig('comparativo_casos.png', format='png')"
   ]
  },
  {
   "cell_type": "markdown",
   "metadata": {},
   "source": [
    "# Nova visualização"
   ]
  },
  {
   "cell_type": "code",
   "execution_count": null,
   "metadata": {
    "colab": {
     "base_uri": "https://localhost:8080/"
    },
    "executionInfo": {
     "elapsed": 1298,
     "status": "ok",
     "timestamp": 1607138697626,
     "user": {
      "displayName": "WALLACE DUARTE DE HOLANDA",
      "photoUrl": "https://lh3.googleusercontent.com/a-/AOh14GgeWMOt53non50jDB5bIAwurrZleD5e6T7yfR9w=s64",
      "userId": "03474631865123362594"
     },
     "user_tz": 180
    },
    "id": "PqPfmi0QhnVT",
    "outputId": "6b412b94-ca80-4397-da93-6eb7749e824d"
   },
   "outputs": [
    {
     "data": {
      "text/plain": [
       "(709, 29)"
      ]
     },
     "execution_count": 3,
     "metadata": {
      "tags": []
     },
     "output_type": "execute_result"
    }
   ],
   "source": [
    "covidData.shape"
   ]
  },
  {
   "cell_type": "code",
   "execution_count": 5,
   "metadata": {
    "colab": {
     "base_uri": "https://localhost:8080/"
    },
    "executionInfo": {
     "elapsed": 1297,
     "status": "ok",
     "timestamp": 1607138701175,
     "user": {
      "displayName": "WALLACE DUARTE DE HOLANDA",
      "photoUrl": "https://lh3.googleusercontent.com/a-/AOh14GgeWMOt53non50jDB5bIAwurrZleD5e6T7yfR9w=s64",
      "userId": "03474631865123362594"
     },
     "user_tz": 180
    },
    "id": "wPXlSF6RfsCJ",
    "outputId": "11303c21-7824-438b-ffa6-7190da52bcd1"
   },
   "outputs": [
    {
     "ename": "NameError",
     "evalue": "name 'covidData' is not defined",
     "output_type": "error",
     "traceback": [
      "\u001b[1;31m---------------------------------------------------------------------------\u001b[0m",
      "\u001b[1;31mNameError\u001b[0m                                 Traceback (most recent call last)",
      "\u001b[1;32m<ipython-input-5-37dade8cd0fb>\u001b[0m in \u001b[0;36m<module>\u001b[1;34m\u001b[0m\n\u001b[0;32m      3\u001b[0m \u001b[0mvalores\u001b[0m \u001b[1;33m=\u001b[0m \u001b[1;33m[\u001b[0m\u001b[1;36m3\u001b[0m\u001b[1;33m,\u001b[0m \u001b[1;36m2\u001b[0m\u001b[1;33m,\u001b[0m \u001b[1;36m26\u001b[0m\u001b[1;33m,\u001b[0m \u001b[1;36m115\u001b[0m\u001b[1;33m,\u001b[0m \u001b[1;36m184\u001b[0m\u001b[1;33m,\u001b[0m \u001b[1;36m191\u001b[0m\u001b[1;33m,\u001b[0m \u001b[1;36m157\u001b[0m\u001b[1;33m,\u001b[0m \u001b[1;36m31\u001b[0m\u001b[1;33m]\u001b[0m\u001b[1;33m\u001b[0m\u001b[1;33m\u001b[0m\u001b[0m\n\u001b[0;32m      4\u001b[0m \u001b[1;33m\u001b[0m\u001b[0m\n\u001b[1;32m----> 5\u001b[1;33m \u001b[0mfaixa_etaria\u001b[0m \u001b[1;33m=\u001b[0m \u001b[0mcovidData\u001b[0m\u001b[1;33m[\u001b[0m\u001b[1;34m'FAIXA_IDADE'\u001b[0m\u001b[1;33m]\u001b[0m\u001b[1;33m.\u001b[0m\u001b[0mvalue_counts\u001b[0m\u001b[1;33m(\u001b[0m\u001b[1;33m)\u001b[0m\u001b[1;33m\u001b[0m\u001b[1;33m\u001b[0m\u001b[0m\n\u001b[0m\u001b[0;32m      6\u001b[0m \u001b[0mfaixa_etaria\u001b[0m\u001b[1;33m\u001b[0m\u001b[1;33m\u001b[0m\u001b[0m\n",
      "\u001b[1;31mNameError\u001b[0m: name 'covidData' is not defined"
     ]
    }
   ],
   "source": [
    "#Verificando a quantidade de grupos de pessoas\n",
    "termos = ['Crianca', 'Jovem', 'Adulto_1', 'Adulto_2', 'Adulto_3', 'Idoso_1', 'Idoso_2', 'Idoso_3']\n",
    "valores = [3, 2, 26, 115, 184, 191, 157, 31]\n",
    "\n",
    "faixa_etaria = covidData['FAIXA_IDADE'].value_counts()\n",
    "faixa_etaria\n"
   ]
  },
  {
   "cell_type": "code",
   "execution_count": 6,
   "metadata": {
    "colab": {
     "base_uri": "https://localhost:8080/",
     "height": 297
    },
    "executionInfo": {
     "elapsed": 1021,
     "status": "ok",
     "timestamp": 1607017458680,
     "user": {
      "displayName": "WALLACE DUARTE DE HOLANDA",
      "photoUrl": "https://lh3.googleusercontent.com/a-/AOh14GgeWMOt53non50jDB5bIAwurrZleD5e6T7yfR9w=s64",
      "userId": "03474631865123362594"
     },
     "user_tz": 180
    },
    "id": "V34l0-Ankk_7",
    "outputId": "add9fdb8-8e89-4fc6-f79e-81439f5ac4d4"
   },
   "outputs": [
    {
     "data": {
      "image/png": "[encoded data removed]",
      "text/plain": [
       "<Figure size 576x360 with 1 Axes>"
      ]
     },
     "metadata": {
      "needs_background": "light"
     },
     "output_type": "display_data"
    }
   ],
   "source": [
    "#Verificando a quantidade de grupos de pessoas\n",
    "fig, ax = plt.subplots()\n",
    "\n",
    "#criando o gráfico de barras \n",
    "sns.barplot(x=termos, y=valores, ax=ax)\n",
    "plt.xlabel('Faixas Etárias')\n",
    "plt.ylabel('Número de Casos')\n",
    "ax.tick_params(labelsize=10)\n",
    "\n",
    "#ax.set_title(\"Pessoas por Faixa-etária\", fontdict={'fontsize':15})\n",
    "\n",
    "#ax.set_xlabel('Anos', fontdict={'fontsize':14})\n",
    "\n",
    "#ax.set_ylabel('Quantidades', fontdict={'fontsize':14})\n",
    "\n",
    "#otimizar espaço da figure\n",
    "\n",
    "plt.xticks(rotation=45)\n",
    "ax.tick_params(labelsize=10)\n",
    "plt.gcf().set_size_inches(8, 5)\n",
    "\n",
    "fig.tight_layout();\n",
    "fig = plt.gcf()\n",
    "plt.show()\n",
    "fig.savefig('casos-faixaetaria.png', format='png')"
   ]
  },
  {
   "cell_type": "code",
   "execution_count": null,
   "metadata": {
    "id": "_b702D3Vi-RE"
   },
   "outputs": [],
   "source": [
    "# Distribuição por gênero\n",
    "covid_info = covidData.drop(covidData[covidData.FAIXA_IDADE != \"IDOSO3\"].index)\n",
    "new_info = covid_info.drop(covid_info[covid_info.EVOLUCAO != 2].index)\n",
    "new_info['CS_SEXO'].value_counts()"
   ]
  },
  {
   "cell_type": "code",
   "execution_count": null,
   "metadata": {
    "colab": {
     "base_uri": "https://localhost:8080/",
     "height": 280
    },
    "executionInfo": {
     "elapsed": 1118,
     "status": "ok",
     "timestamp": 1607017340726,
     "user": {
      "displayName": "WALLACE DUARTE DE HOLANDA",
      "photoUrl": "https://lh3.googleusercontent.com/a-/AOh14GgeWMOt53non50jDB5bIAwurrZleD5e6T7yfR9w=s64",
      "userId": "03474631865123362594"
     },
     "user_tz": 180
    },
    "id": "H6N3oszBjDVE",
    "outputId": "a4d055f9-a66e-45c0-9fd3-dda5808fdea1"
   },
   "outputs": [
    {
     "data": {
      "image/png": "[encoded data removed]",
      "text/plain": [
       "<Figure size 432x288 with 1 Axes>"
      ]
     },
     "metadata": {
      "needs_background": "light",
      "tags": []
     },
     "output_type": "display_data"
    }
   ],
   "source": [
    "# Gerando o Gráfico por gênero\n",
    "# Mortes\n",
    "plt.plot(['Crianca', 'Jovem', 'Adul_1', 'Adul_2', 'Adul_3', 'Idoso_1', 'Idoso_2', 'Idoso_3'], \n",
    "         [0, 2, 5, 26, 68, 99, 95, 20], color = 'red')\n",
    "\n",
    "# Feminino - 0 \n",
    "plt.plot(['Crianca', 'Jovem', 'Adul_1', 'Adul_2', 'Adul_3', 'Idoso_1', 'Idoso_2', 'Idoso_3'], \n",
    "         [0,2,3,9,16,45,46,8], color = 'orange')\n",
    "\n",
    "# Masculino - 1 Maior\n",
    "plt.plot(['Crianca', 'Jovem', 'Adul_1', 'Adul_2', 'Adul_3', 'Idoso_1', 'Idoso_2', 'Idoso_3'], \n",
    "         [0,0,2,17,52,54,49,12], color = 'blue')\n",
    "\n",
    "plt.legend(['Mortes', 'Sexo Feminino', 'Sexo Masculino'])\n",
    "plt.xlabel('Faixas Etárias')\n",
    "plt.ylabel('Número de Casos')\n",
    "fig = plt.gcf()\n",
    "plt.show()\n",
    "fig.savefig('casos-genero.png', format='png')"
   ]
  },
  {
   "cell_type": "code",
   "execution_count": null,
   "metadata": {
    "id": "aTnSGJPxfKQ2"
   },
   "outputs": [],
   "source": [
    "# Visualizando a quantidade de pessoas \n",
    "#1- Curado , 2- óbito\n",
    "# termos = ['Crianca', 'Jovem', 'Adulto_1', 'Adulto_2', 'Adulto_3', 'Idoso_1', 'Idoso_2', 'Idoso_3']\n",
    "# curado = [3, 0, 21, 89, 116, 99, 95, 20]\n",
    "# obito = [0, 2, 5, 26, 68, 92, 62, 11]\n",
    "\n",
    "covid_crianca = covidData.drop(covidData[covidData.FAIXA_IDADE != \"IDOSO3\"].index)\n",
    "covid_crianca['EVOLUCAO'].value_counts()\n"
   ]
  },
  {
   "cell_type": "code",
   "execution_count": null,
   "metadata": {
    "colab": {
     "base_uri": "https://localhost:8080/",
     "height": 284
    },
    "executionInfo": {
     "elapsed": 1045,
     "status": "ok",
     "timestamp": 1607017664984,
     "user": {
      "displayName": "WALLACE DUARTE DE HOLANDA",
      "photoUrl": "https://lh3.googleusercontent.com/a-/AOh14GgeWMOt53non50jDB5bIAwurrZleD5e6T7yfR9w=s64",
      "userId": "03474631865123362594"
     },
     "user_tz": 180
    },
    "id": "Y7GDabaBmDz8",
    "outputId": "5db3f303-6d31-427c-954b-18a4b23e77ed"
   },
   "outputs": [
    {
     "data": {
      "image/png": "[encoded data removed]",
      "text/plain": [
       "<Figure size 432x288 with 1 Axes>"
      ]
     },
     "metadata": {
      "needs_background": "light",
      "tags": []
     },
     "output_type": "display_data"
    }
   ],
   "source": [
    "# Casos\n",
    "plt.plot(['Crianca', 'Jovem', 'Adul_1', 'Adul_2', 'Adul_3', 'Idoso_1', 'Idoso_2', 'Idoso_3'], \n",
    "         [3, 2, 26, 115, 184, 191, 157, 31], color = 'orange')\n",
    "\n",
    "# Curados\n",
    "plt.plot(['Crianca', 'Jovem', 'Adul_1', 'Adul_2', 'Adul_3', 'Idoso_1', 'Idoso_2', 'Idoso_3'], \n",
    "         [3, 0, 21, 89, 116, 92, 62, 11], color = 'blue')\n",
    "\n",
    "# Mortes\n",
    "plt.plot(['Crianca', 'Jovem', 'Adul_1', 'Adul_2', 'Adul_3', 'Idoso_1', 'Idoso_2', 'Idoso_3'], \n",
    "         [0, 2, 5, 26, 68, 99, 95, 20], color = 'red')\n",
    "\n",
    "\n",
    "plt.legend(['Casos', 'Recuperados', 'Morte'])\n",
    "\n",
    "plt.xlabel('Faixas Etárias')\n",
    "plt.ylabel('Número de Casos')\n",
    "fig = plt.gcf()\n",
    "plt.show()\n",
    "fig.savefig('casos-evolucao.png', format='png')"
   ]
  },
  {
   "cell_type": "code",
   "execution_count": null,
   "metadata": {
    "id": "Y0Ha7dPJtMY0"
   },
   "outputs": [],
   "source": [
    "# Gráfico - Acurácia dos Algoritmos - Precisa de Atualização\n",
    "plt.plot(['AD', 'K-NN', 'MLP', 'SVM', 'NB'], \n",
    "         [77, 74, 78, 76, 70], color = 'orange')"
   ]
  },
  {
   "cell_type": "code",
   "execution_count": null,
   "metadata": {
    "colab": {
     "base_uri": "https://localhost:8080/"
    },
    "executionInfo": {
     "elapsed": 787,
     "status": "ok",
     "timestamp": 1607005299046,
     "user": {
      "displayName": "WALLACE DUARTE DE HOLANDA",
      "photoUrl": "https://lh3.googleusercontent.com/a-/AOh14GgeWMOt53non50jDB5bIAwurrZleD5e6T7yfR9w=s64",
      "userId": "03474631865123362594"
     },
     "user_tz": 180
    },
    "id": "HCVvDgvA1CxA",
    "outputId": "ebc46df3-6377-448a-e831-5fdc7876513d"
   },
   "outputs": [
    {
     "data": {
      "text/plain": [
       "Sim    14\n",
       "Nao     6\n",
       "Name: FATOR_RISC, dtype: int64"
      ]
     },
     "execution_count": 66,
     "metadata": {
      "tags": []
     },
     "output_type": "execute_result"
    }
   ],
   "source": [
    "# Gráfico - Óbitos - Possuia Comorbidade\n",
    "covid_info = covidData.drop(covidData[covidData.FAIXA_IDADE != \"IDOSO3\"].index)\n",
    "new_info = covid_info.drop(covid_info[covid_info.EVOLUCAO != 2].index)\n",
    "new_info['FATOR_RISC'].value_counts()\n",
    "\n"
   ]
  },
  {
   "cell_type": "code",
   "execution_count": null,
   "metadata": {
    "colab": {
     "base_uri": "https://localhost:8080/",
     "height": 280
    },
    "executionInfo": {
     "elapsed": 1042,
     "status": "ok",
     "timestamp": 1607017733067,
     "user": {
      "displayName": "WALLACE DUARTE DE HOLANDA",
      "photoUrl": "https://lh3.googleusercontent.com/a-/AOh14GgeWMOt53non50jDB5bIAwurrZleD5e6T7yfR9w=s64",
      "userId": "03474631865123362594"
     },
     "user_tz": 180
    },
    "id": "VeqMl6sR9yWC",
    "outputId": "8aaa880a-e36f-435d-9904-73dec99e1cc3"
   },
   "outputs": [
    {
     "data": {
      "image/png": "[encoded data removed]",
      "text/plain": [
       "<Figure size 432x288 with 1 Axes>"
      ]
     },
     "metadata": {
      "needs_background": "light",
      "tags": []
     },
     "output_type": "display_data"
    }
   ],
   "source": [
    "# Gráfico - Óbitos - Possuia Comorbidade\n",
    "plt.plot(['Crianca', 'Jovem', 'Adul_1', 'Adul_2', 'Adul_3', 'Idoso_1', 'Idoso_2', 'Idoso_3'], \n",
    "         [0, 2, 5, 26, 68, 99, 95, 20], color = 'red')\n",
    "\n",
    "plt.plot(['Crianca', 'Jovem', 'Adul_1', 'Adul_2', 'Adul_3', 'Idoso_1', 'Idoso_2', 'Idoso_3'], \n",
    "         [0, 2, 4, 20, 51, 84, 79, 14], color = 'blue')\n",
    "\n",
    "plt.legend(['Mortes', 'Fator de Risco'])\n",
    "plt.xlabel('Faixas Etárias')\n",
    "plt.ylabel('Número de Casos')\n",
    "\n",
    "fig = plt.gcf()\n",
    "plt.show()\n",
    "fig.savefig('mortes-fatrisco.png', format='png')"
   ]
  },
  {
   "cell_type": "code",
   "execution_count": null,
   "metadata": {
    "id": "F8WxS4fbqjsS"
   },
   "outputs": [],
   "source": [
    "# G3 - Número de óbtidos que foram internados\n",
    "# termos = ['Crianca', 'Jovem', 'Adulto_1', 'Adulto_2', 'Adulto_3', 'Idoso_1', 'Idoso_2', 'Idoso_3']\n",
    "\n",
    "covid_info = covidData.drop(covidData[covidData.FAIXA_IDADE != \"IDOSO1\"].index)\n",
    "new_info = covid_info.drop(covid_info[covid_info.EVOLUCAO != 2].index)\n",
    "new_info['UTI'].value_counts()"
   ]
  },
  {
   "cell_type": "code",
   "execution_count": null,
   "metadata": {
    "colab": {
     "base_uri": "https://localhost:8080/",
     "height": 280
    },
    "executionInfo": {
     "elapsed": 1008,
     "status": "ok",
     "timestamp": 1607017774349,
     "user": {
      "displayName": "WALLACE DUARTE DE HOLANDA",
      "photoUrl": "https://lh3.googleusercontent.com/a-/AOh14GgeWMOt53non50jDB5bIAwurrZleD5e6T7yfR9w=s64",
      "userId": "03474631865123362594"
     },
     "user_tz": 180
    },
    "id": "NYD1a9iatFqf",
    "outputId": "8f432cae-cc26-4ea0-e7c4-12628ef60a08"
   },
   "outputs": [
    {
     "data": {
      "image/png": "[encoded data removed]",
      "text/plain": [
       "<Figure size 432x288 with 1 Axes>"
      ]
     },
     "metadata": {
      "needs_background": "light",
      "tags": []
     },
     "output_type": "display_data"
    }
   ],
   "source": [
    "# Plotando o G3\n",
    "\n",
    "plt.plot(['Crianca', 'Jovem', 'Adul_1', 'Adul_2', 'Adul_3', 'Idoso_1', 'Idoso_2', 'Idoso_3'], \n",
    "         [0, 2, 5, 26, 68, 99, 95, 20], color = 'red')\n",
    "\n",
    "plt.plot(['Crianca', 'Jovem', 'Adul_1', 'Adul_2', 'Adul_3', 'Idoso_1', 'Idoso_2', 'Idoso_3'], \n",
    "         [0, 2, 4, 21, 52, 74, 73, 14], color = 'blue')\n",
    "\n",
    "plt.legend(['Mortes', 'Internação'])\n",
    "plt.xlabel('Faixas Etárias')\n",
    "plt.ylabel('Número de Casos')\n",
    "fig = plt.gcf()\n",
    "plt.show()\n",
    "fig.savefig('mortes-internacao.png', format='png')"
   ]
  },
  {
   "cell_type": "code",
   "execution_count": null,
   "metadata": {
    "id": "LHcCy1v4_MAW"
   },
   "outputs": [],
   "source": [
    "# G4 - Número de óbtidos que foram internados\n",
    "# termos = ['Crianca', 'Jovem', 'Adulto_1', 'Adulto_2', 'Adulto_3', 'Idoso_1', 'Idoso_2', 'Idoso_3']\n",
    "\n",
    "covid_info = covidData.drop(covidData[covidData.FAIXA_IDADE != \"IDOSO3\"].index)\n",
    "new_info = covid_info.drop(covid_info[covid_info.EVOLUCAO != 2].index)\n",
    "new_info['SUPORT_VEN'].value_counts()"
   ]
  },
  {
   "cell_type": "code",
   "execution_count": null,
   "metadata": {
    "id": "pFBBPZix_WHl"
   },
   "outputs": [],
   "source": [
    "# Plotando o G4\n",
    "\n",
    "plt.plot(['Crianca', 'Jovem', 'Adul_1', 'Adul_2', 'Adul_3', 'Idoso_1', 'Idoso_2', 'Idoso_3'], \n",
    "         [0, 2, 5, 26, 68, 99, 95, 20], color = 'red')\n",
    "\n",
    "plt.plot(['Crianca', 'Jovem', 'Adul_1', 'Adul_2', 'Adul_3', 'Idoso_1', 'Idoso_2', 'Idoso_3'], \n",
    "         [0, 1, 5, 22, 60, 88, 88, 18], color = 'blue')\n",
    "\n",
    "plt.legend(['Mortes', 'Uso de Respirador'])\n",
    "\n",
    "plt.xlabel('Faixas Etárias')\n",
    "plt.ylabel('Número de Casos')\n",
    "fig = plt.gcf()\n",
    "plt.show()\n",
    "fig.savefig('mortes-respirador.png', format='png')\n"
   ]
  },
  {
   "cell_type": "code",
   "execution_count": null,
   "metadata": {
    "colab": {
     "base_uri": "https://localhost:8080/"
    },
    "executionInfo": {
     "elapsed": 729,
     "status": "ok",
     "timestamp": 1607187683864,
     "user": {
      "displayName": "WALLACE DUARTE DE HOLANDA",
      "photoUrl": "https://lh3.googleusercontent.com/a-/AOh14GgeWMOt53non50jDB5bIAwurrZleD5e6T7yfR9w=s64",
      "userId": "03474631865123362594"
     },
     "user_tz": 180
    },
    "id": "0bz4_Ekmz2VF",
    "outputId": "9f0be03a-739a-4530-bc7c-3cf346df6f4e"
   },
   "outputs": [
    {
     "data": {
      "text/plain": [
       "Sim         1\n",
       "Ignorada    1\n",
       "Name: TOSSE, dtype: int64"
      ]
     },
     "execution_count": 35,
     "metadata": {
      "tags": []
     },
     "output_type": "execute_result"
    }
   ],
   "source": [
    "# G5 - Testando - Febre - \n",
    "# termos = ['Crianca', 'Jovem', 'Adulto_1', 'Adulto_2', 'Adulto_3', 'Idoso_1', 'Idoso_2', 'Idoso_3']\n",
    "\n",
    "covid_info = covidData.drop(covidData[covidData.FAIXA_IDADE != 'JOVEM'].index)\n",
    "new_info = covid_info.drop(covid_info[covid_info.EVOLUCAO != 2].index)\n",
    "new_info['TOSSE'].value_counts()"
   ]
  },
  {
   "cell_type": "code",
   "execution_count": null,
   "metadata": {
    "colab": {
     "base_uri": "https://localhost:8080/",
     "height": 280
    },
    "executionInfo": {
     "elapsed": 819,
     "status": "ok",
     "timestamp": 1607187815556,
     "user": {
      "displayName": "WALLACE DUARTE DE HOLANDA",
      "photoUrl": "https://lh3.googleusercontent.com/a-/AOh14GgeWMOt53non50jDB5bIAwurrZleD5e6T7yfR9w=s64",
      "userId": "03474631865123362594"
     },
     "user_tz": 180
    },
    "id": "hvQGEufr0GGr",
    "outputId": "c939e565-0a9f-4d1d-d43a-9ad0ac75fb69"
   },
   "outputs": [
    {
     "data": {
      "image/png": "[encoded data removed]",
      "text/plain": [
       "<Figure size 432x288 with 1 Axes>"
      ]
     },
     "metadata": {
      "needs_background": "light",
      "tags": []
     },
     "output_type": "display_data"
    }
   ],
   "source": [
    "# G5 - Testando Febre\n",
    "plt.plot(['Crianca', 'Jovem', 'Adul_1', 'Adul_2', 'Adul_3', 'Idoso_1', 'Idoso_2', 'Idoso_3'], \n",
    "         [0, 2, 5, 26, 68, 99, 95, 20], color = 'red')\n",
    "\n",
    "# Saturacao\n",
    "plt.plot(['Crianca', 'Jovem', 'Adul_1', 'Adul_2', 'Adul_3', 'Idoso_1', 'Idoso_2', 'Idoso_3'], \n",
    "         [0, 1, 4, 18, 53, 72, 74, 15], color = 'blue')\n",
    "\n",
    "# Febre\n",
    "plt.plot(['Crianca', 'Jovem', 'Adul_1', 'Adul_2', 'Adul_3', 'Idoso_1', 'Idoso_2', 'Idoso_3'], \n",
    "         [0, 1, 3, 19, 47, 67, 59, 14], color = 'yellow')\n",
    "\n",
    "# Tosse\n",
    "plt.plot(['Crianca', 'Jovem', 'Adul_1', 'Adul_2', 'Adul_3', 'Idoso_1', 'Idoso_2', 'Idoso_3'], \n",
    "         [0, 1, 4, 20, 56, 63, 61, 15], color = 'gray')\n",
    "\n",
    "plt.legend(['Mortes', 'Saturação', 'Febre', 'Tosse'])\n",
    "\n",
    "plt.xlabel('Faixas Etárias')\n",
    "plt.ylabel('Número de Casos')\n",
    "fig = plt.gcf()\n",
    "plt.show()\n",
    "fig.savefig('mortes-sintomas.png', format='png')"
   ]
  }
 ],
 "metadata": {
  "colab": {
   "authorship_tag": "ABX9TyOjlq0XwS6XWdYu401DLXLO",
   "collapsed_sections": [],
   "name": "VisualizandoDados.ipynb",
   "provenance": []
  },
  "kernelspec": {
   "display_name": "Python 3",
   "language": "python",
   "name": "python3"
  },
  "language_info": {
   "codemirror_mode": {
    "name": "ipython",
    "version": 3
   },
   "file_extension": ".py",
   "mimetype": "text/x-python",
   "name": "python",
   "nbconvert_exporter": "python",
   "pygments_lexer": "ipython3",
   "version": "3.7.6"
  }
 },
 "nbformat": 4,
 "nbformat_minor": 1
}
