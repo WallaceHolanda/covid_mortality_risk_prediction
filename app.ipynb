{
 "cells": [
  {
   "cell_type": "code",
   "execution_count": 4,
   "metadata": {},
   "outputs": [
    {
     "name": "stdout",
     "output_type": "stream",
     "text": [
      " * Serving Flask app \"__main__\" (lazy loading)\n",
      " * Environment: production\n",
      "   WARNING: This is a development server. Do not use it in a production deployment.\n",
      "   Use a production WSGI server instead.\n",
      " * Debug mode: on\n"
     ]
    },
    {
     "name": "stderr",
     "output_type": "stream",
     "text": [
      " * Restarting with windowsapi reloader\n"
     ]
    },
    {
     "ename": "SystemExit",
     "evalue": "1",
     "output_type": "error",
     "traceback": [
      "An exception has occurred, use %tb to see the full traceback.\n",
      "\u001b[1;31mSystemExit\u001b[0m\u001b[1;31m:\u001b[0m 1\n"
     ]
    }
   ],
   "source": [
    "import numpy as np\n",
    "import os\n",
    "from flask import Flask, jsonify\n",
    "\n",
    "## __name__ é definido por padrão. Poderiamos usar outra string qualquer aqui, porém,\n",
    "## não recomendo, pois, isso poderia causar problemas em aplicações maiores.\n",
    "app = Flask(__name__)\n",
    "\n",
    "# definimos aqui uma rota, no caso criamos a rota localhost:5000/\n",
    "@app.route(\"/\")\n",
    "def primeiro_endpoint_get():\n",
    "  return (\"Tudo Funcionando Corretamente !\", 200) \n",
    "\n",
    "@app.route(\"/segundo_endpoint\")\n",
    "def segundo_endpoint():\n",
    "  return (\"Já criamos 2 funções !!\", 200)\n",
    "\n",
    "if __name__ == \"__main__\":\n",
    "  debug = True # com essa opção como True, ao salvar, o \"site\" recarrega automaticamente.\n",
    "  app.run(host='0.0.0.0', port=5000, debug=debug)"
   ]
  },
  {
   "cell_type": "code",
   "execution_count": null,
   "metadata": {},
   "outputs": [],
   "source": []
  }
 ],
 "metadata": {
  "kernelspec": {
   "display_name": "Python 3",
   "language": "python",
   "name": "python3"
  },
  "language_info": {
   "codemirror_mode": {
    "name": "ipython",
    "version": 3
   },
   "file_extension": ".py",
   "mimetype": "text/x-python",
   "name": "python",
   "nbconvert_exporter": "python",
   "pygments_lexer": "ipython3",
   "version": "3.7.6"
  }
 },
 "nbformat": 4,
 "nbformat_minor": 4
}
